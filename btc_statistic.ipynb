{
 "cells": [
  {
   "cell_type": "code",
   "execution_count": 18,
   "metadata": {},
   "outputs": [],
   "source": [
    "import ccxt\n",
    "import pandas as pd\n",
    "import numpy as np\n",
    "\n",
    "# 创建Binance交易所实例\n",
    "exchange = ccxt.binance()\n",
    "\n",
    "# 获取BTC/USDT的历史K线数据，时间间隔为5分钟\n",
    "symbol = 'BTC/USDT'\n",
    "timeframe = '5m'\n",
    "limit = 5000  # 可以根据需要调整数量\n",
    "ohlcv = exchange.fetch_ohlcv(symbol, timeframe=timeframe, limit=limit)\n",
    "\n",
    "# 转换为pandas DataFrame\n",
    "df = pd.DataFrame(ohlcv, columns=['timestamp', 'open', 'high', 'low', 'close', 'volume'])\n",
    "df['timestamp'] = pd.to_datetime(df['timestamp'], unit='ms')"
   ]
  },
  {
   "cell_type": "code",
   "execution_count": 5,
   "metadata": {},
   "outputs": [
    {
     "name": "stdout",
     "output_type": "stream",
     "text": [
      "5分钟K线波动幅度分布：\n",
      "count    500.000000\n",
      "mean     108.155820\n",
      "std      101.917989\n",
      "min       11.910000\n",
      "25%       50.162500\n",
      "50%       78.430000\n",
      "75%      132.990000\n",
      "max      920.360000\n",
      "Name: 5m_range, dtype: float64\n",
      "突破20SMA后平均涨幅为: 0.03%\n"
     ]
    }
   ],
   "source": [
    "# 统计5分钟K线的波动幅度分布\n",
    "df['5m_range'] = df['high'] - df['low']\n",
    "range_distribution = df['5m_range'].describe()\n",
    "\n",
    "print(\"5分钟K线波动幅度分布：\")\n",
    "print(range_distribution)\n",
    "\n",
    "# 统计某个关键价格（例如移动均线）的突破情况\n",
    "df['20_SMA'] = df['close'].rolling(window=20).mean()\n",
    "df['breakout_above_20SMA'] = df['close'] > df['20_SMA']\n",
    "\n",
    "# 计算突破20SMA后的涨跌幅度\n",
    "df['returns'] = df['close'].pct_change()\n",
    "breakout_returns = df.loc[df['breakout_above_20SMA'], 'returns'].mean()\n",
    "\n",
    "print(f\"突破20SMA后平均涨幅为: {breakout_returns:.2%}\")"
   ]
  },
  {
   "cell_type": "code",
   "execution_count": 19,
   "metadata": {},
   "outputs": [
    {
     "name": "stdout",
     "output_type": "stream",
     "text": [
      "每根5分钟K线后，已出现当天最高价或最低价的概率：\n",
      "0       75.0\n",
      "1       75.0\n",
      "2       75.0\n",
      "3       75.0\n",
      "4      100.0\n",
      "       ...  \n",
      "283    100.0\n",
      "284    100.0\n",
      "285    100.0\n",
      "286    100.0\n",
      "287    100.0\n",
      "Name: high_or_low_reached, Length: 288, dtype: float64\n"
     ]
    },
    {
     "name": "stderr",
     "output_type": "stream",
     "text": [
      "/var/folders/4n/ssdlv9m155j06vdf68lmf_480000gn/T/ipykernel_98661/994396495.py:34: DeprecationWarning: DataFrameGroupBy.apply operated on the grouping columns. This behavior is deprecated, and in a future version of pandas the grouping columns will be excluded from the operation. Either pass `include_groups=False` to exclude the groupings or explicitly select the grouping columns after groupby to silence this warning.\n",
      "  df['high_or_low_reached'] = df.groupby('date').apply(lambda x: x['is_daily_high_reached'].cummax() | x['is_daily_low_reached'].cummax()).reset_index(level=0, drop=True)\n"
     ]
    }
   ],
   "source": [
    "import ccxt\n",
    "import pandas as pd\n",
    "import numpy as np\n",
    "\n",
    "# 创建Binance交易所实例\n",
    "exchange = ccxt.binance()\n",
    "\n",
    "# 获取BTC/USDT的历史K线数据，时间间隔为5分钟\n",
    "symbol = 'BTC/USDT'\n",
    "timeframe = '5m'\n",
    "limit = 1000  # 可以根据需要调整数量\n",
    "ohlcv = exchange.fetch_ohlcv(symbol, timeframe=timeframe, limit=limit)\n",
    "\n",
    "# 转换为pandas DataFrame\n",
    "df = pd.DataFrame(ohlcv, columns=['timestamp', 'open', 'high', 'low', 'close', 'volume'])\n",
    "df['timestamp'] = pd.to_datetime(df['timestamp'], unit='ms')\n",
    "\n",
    "# 提取日期信息\n",
    "df['date'] = df['timestamp'].dt.date\n",
    "\n",
    "# 计算每日的最高价和最低价\n",
    "daily_highs = df.groupby('date')['high'].max()\n",
    "daily_lows = df.groupby('date')['low'].min()\n",
    "\n",
    "# 添加每日最高价和最低价信息\n",
    "df['daily_high'] = df['date'].map(daily_highs)\n",
    "df['daily_low'] = df['date'].map(daily_lows)\n",
    "\n",
    "# 判断每根K线是否为当天最高价或最低价\n",
    "df['is_daily_high_reached'] = df['high'] >= df['daily_high']\n",
    "df['is_daily_low_reached'] = df['low'] <= df['daily_low']\n",
    "\n",
    "# 判断截至当前K线，是否已经达到过当天的最高价或最低价\n",
    "df['high_or_low_reached'] = df.groupby('date').apply(lambda x: x['is_daily_high_reached'].cummax() | x['is_daily_low_reached'].cummax()).reset_index(level=0, drop=True)\n",
    "\n",
    "# 计算每根K线后当天最高价或最低价已经出现的概率\n",
    "probability_by_candle = df.groupby(df.index % (24*12))['high_or_low_reached'].mean() * 100\n",
    "\n",
    "print(\"每根5分钟K线后，已出现当天最高价或最低价的概率：\")\n",
    "print(probability_by_candle)"
   ]
  },
  {
   "cell_type": "code",
   "execution_count": 15,
   "metadata": {},
   "outputs": [
    {
     "name": "stdout",
     "output_type": "stream",
     "text": [
      "每周波动最大的一天是周几的概率：\n",
      "weekday\n",
      "Monday       23.076923\n",
      "Wednesday    20.279720\n",
      "Friday       18.881119\n",
      "Tuesday      18.181818\n",
      "Thursday     13.286713\n",
      "Sunday        3.496503\n",
      "Saturday      2.797203\n",
      "Name: proportion, dtype: float64\n"
     ]
    }
   ],
   "source": [
    "import ccxt\n",
    "import pandas as pd\n",
    "\n",
    "# 创建Binance交易所实例\n",
    "exchange = ccxt.binance()\n",
    "\n",
    "# 获取BTC/USDT的历史K线数据，时间间隔为1天\n",
    "symbol = 'BTC/USDT'\n",
    "timeframe = '1d'\n",
    "limit = 1000  # 可以根据需要调整数量\n",
    "ohlcv = exchange.fetch_ohlcv(symbol, timeframe=timeframe, limit=limit)\n",
    "\n",
    "# 转换为pandas DataFrame\n",
    "df = pd.DataFrame(ohlcv, columns=['timestamp', 'open', 'high', 'low', 'close', 'volume'])\n",
    "df['timestamp'] = pd.to_datetime(df['timestamp'], unit='ms')\n",
    "\n",
    "# 提取周几信息\n",
    "df['weekday'] = df['timestamp'].dt.day_name()\n",
    "\n",
    "# 计算每日波动幅度\n",
    "df['daily_range'] = df['high'] - df['low']\n",
    "\n",
    "# 按周分组并找出每周波动最大的一天\n",
    "df['week_start'] = df['timestamp'].dt.to_period('W').apply(lambda r: r.start_time)\n",
    "weekly_max = df.loc[df.groupby('week_start')['daily_range'].idxmax()]\n",
    "\n",
    "# 统计每个周几成为波动最大一天的次数\n",
    "weekday_counts = weekly_max['weekday'].value_counts(normalize=True) * 100\n",
    "\n",
    "print(\"每周波动最大的一天是周几的概率：\")\n",
    "print(weekday_counts)"
   ]
  },
  {
   "cell_type": "code",
   "execution_count": null,
   "metadata": {},
   "outputs": [],
   "source": []
  },
  {
   "cell_type": "code",
   "execution_count": 3,
   "metadata": {},
   "outputs": [
    {
     "data": {
      "application/vnd.plotly.v1+json": {
       "config": {
        "plotlyServerURL": "https://plot.ly"
       },
       "data": [
        {
         "line": {
          "color": "darkgray",
          "width": 1
         },
         "mode": "lines",
         "showlegend": false,
         "type": "scatter",
         "x": [
          "2024-09-14T02:35:00",
          "2024-09-14T02:35:00"
         ],
         "xaxis": "x",
         "y": [
          60378.64,
          60410.42
         ],
         "yaxis": "y"
        },
        {
         "base": 60378.64,
         "marker": {
          "color": "darkgray",
          "line": {
           "width": 0
          }
         },
         "showlegend": false,
         "type": "bar",
         "width": 0.6,
         "x": [
          "2024-09-14T02:35:00"
         ],
         "xaxis": "x",
         "y": [
          31.770000000004075
         ],
         "yaxis": "y"
        },
        {
         "line": {
          "color": "gray",
          "width": 1
         },
         "mode": "lines",
         "showlegend": false,
         "type": "scatter",
         "x": [
          "2024-09-14T02:40:00",
          "2024-09-14T02:40:00"
         ],
         "xaxis": "x",
         "y": [
          60378.64,
          60415.74
         ],
         "yaxis": "y"
        },
        {
         "base": 60378.65,
         "marker": {
          "color": "gray",
          "line": {
           "width": 0
          }
         },
         "showlegend": false,
         "type": "bar",
         "width": 0.6,
         "x": [
          "2024-09-14T02:40:00"
         ],
         "xaxis": "x",
         "y": [
          1.6299999999973807
         ],
         "yaxis": "y"
        },
        {
         "line": {
          "color": "darkgray",
          "width": 1
         },
         "mode": "lines",
         "showlegend": false,
         "type": "scatter",
         "x": [
          "2024-09-14T02:45:00",
          "2024-09-14T02:45:00"
         ],
         "xaxis": "x",
         "y": [
          60316,
          60415.74
         ],
         "yaxis": "y"
        },
        {
         "base": 60324,
         "marker": {
          "color": "darkgray",
          "line": {
           "width": 0
          }
         },
         "showlegend": false,
         "type": "bar",
         "width": 0.6,
         "x": [
          "2024-09-14T02:45:00"
         ],
         "xaxis": "x",
         "y": [
          56.2699999999968
         ],
         "yaxis": "y"
        },
        {
         "line": {
          "color": "darkgray",
          "width": 1
         },
         "mode": "lines",
         "showlegend": false,
         "type": "scatter",
         "x": [
          "2024-09-14T02:50:00",
          "2024-09-14T02:50:00"
         ],
         "xaxis": "x",
         "y": [
          60303.18,
          60340
         ],
         "yaxis": "y"
        },
        {
         "base": 60303.18,
         "marker": {
          "color": "darkgray",
          "line": {
           "width": 0
          }
         },
         "showlegend": false,
         "type": "bar",
         "width": 0.6,
         "x": [
          "2024-09-14T02:50:00"
         ],
         "xaxis": "x",
         "y": [
          20.81999999999971
         ],
         "yaxis": "y"
        },
        {
         "line": {
          "color": "darkgray",
          "width": 1
         },
         "mode": "lines",
         "showlegend": false,
         "type": "scatter",
         "x": [
          "2024-09-14T02:55:00",
          "2024-09-14T02:55:00"
         ],
         "xaxis": "x",
         "y": [
          60285.55,
          60318.45
         ],
         "yaxis": "y"
        },
        {
         "base": 60287.99,
         "marker": {
          "color": "darkgray",
          "line": {
           "width": 0
          }
         },
         "showlegend": false,
         "type": "bar",
         "width": 0.6,
         "x": [
          "2024-09-14T02:55:00"
         ],
         "xaxis": "x",
         "y": [
          15.200000000004366
         ],
         "yaxis": "y"
        },
        {
         "line": {
          "color": "gray",
          "width": 1
         },
         "mode": "lines",
         "showlegend": false,
         "type": "scatter",
         "x": [
          "2024-09-14T03:00:00",
          "2024-09-14T03:00:00"
         ],
         "xaxis": "x",
         "y": [
          60287.99,
          60366
         ],
         "yaxis": "y"
        },
        {
         "base": 60288,
         "marker": {
          "color": "gray",
          "line": {
           "width": 0
          }
         },
         "showlegend": false,
         "type": "bar",
         "width": 0.6,
         "x": [
          "2024-09-14T03:00:00"
         ],
         "xaxis": "x",
         "y": [
          77.98999999999796
         ],
         "yaxis": "y"
        },
        {
         "line": {
          "color": "darkgray",
          "width": 1
         },
         "mode": "lines",
         "showlegend": false,
         "type": "scatter",
         "x": [
          "2024-09-14T03:05:00",
          "2024-09-14T03:05:00"
         ],
         "xaxis": "x",
         "y": [
          60311.62,
          60382
         ],
         "yaxis": "y"
        },
        {
         "base": 60317.99,
         "marker": {
          "color": "darkgray",
          "line": {
           "width": 0
          }
         },
         "showlegend": false,
         "type": "bar",
         "width": 0.6,
         "x": [
          "2024-09-14T03:05:00"
         ],
         "xaxis": "x",
         "y": [
          48
         ],
         "yaxis": "y"
        },
        {
         "line": {
          "color": "gray",
          "width": 1
         },
         "mode": "lines",
         "showlegend": false,
         "type": "scatter",
         "x": [
          "2024-09-14T03:10:00",
          "2024-09-14T03:10:00"
         ],
         "xaxis": "x",
         "y": [
          60317.98,
          60358
         ],
         "yaxis": "y"
        },
        {
         "base": 60317.99,
         "marker": {
          "color": "gray",
          "line": {
           "width": 0
          }
         },
         "showlegend": false,
         "type": "bar",
         "width": 0.6,
         "x": [
          "2024-09-14T03:10:00"
         ],
         "xaxis": "x",
         "y": [
          40
         ],
         "yaxis": "y"
        },
        {
         "line": {
          "color": "gray",
          "width": 1
         },
         "mode": "lines",
         "showlegend": false,
         "type": "scatter",
         "x": [
          "2024-09-14T03:15:00",
          "2024-09-14T03:15:00"
         ],
         "xaxis": "x",
         "y": [
          60357.99,
          60381.99
         ],
         "yaxis": "y"
        },
        {
         "base": 60357.99,
         "marker": {
          "color": "gray",
          "line": {
           "width": 0
          }
         },
         "showlegend": false,
         "type": "bar",
         "width": 0.6,
         "x": [
          "2024-09-14T03:15:00"
         ],
         "xaxis": "x",
         "y": [
          17.639999999999418
         ],
         "yaxis": "y"
        },
        {
         "line": {
          "color": "gray",
          "width": 1
         },
         "mode": "lines",
         "showlegend": false,
         "type": "scatter",
         "x": [
          "2024-09-14T03:20:00",
          "2024-09-14T03:20:00"
         ],
         "xaxis": "x",
         "y": [
          60375.63,
          60426
         ],
         "yaxis": "y"
        },
        {
         "base": 60375.63,
         "marker": {
          "color": "gray",
          "line": {
           "width": 0
          }
         },
         "showlegend": false,
         "type": "bar",
         "width": 0.6,
         "x": [
          "2024-09-14T03:20:00"
         ],
         "xaxis": "x",
         "y": [
          38.270000000004075
         ],
         "yaxis": "y"
        },
        {
         "line": {
          "color": "darkgray",
          "width": 1
         },
         "mode": "lines",
         "showlegend": false,
         "type": "scatter",
         "x": [
          "2024-09-14T03:25:00",
          "2024-09-14T03:25:00"
         ],
         "xaxis": "x",
         "y": [
          60402.38,
          60422
         ],
         "yaxis": "y"
        },
        {
         "base": 60402.38,
         "marker": {
          "color": "darkgray",
          "line": {
           "width": 0
          }
         },
         "showlegend": false,
         "type": "bar",
         "width": 0.6,
         "x": [
          "2024-09-14T03:25:00"
         ],
         "xaxis": "x",
         "y": [
          11.520000000004075
         ],
         "yaxis": "y"
        },
        {
         "line": {
          "color": "darkgray",
          "width": 1
         },
         "mode": "lines",
         "showlegend": false,
         "type": "scatter",
         "x": [
          "2024-09-14T03:30:00",
          "2024-09-14T03:30:00"
         ],
         "xaxis": "x",
         "y": [
          60368.9,
          60431.98
         ],
         "yaxis": "y"
        },
        {
         "base": 60368.9,
         "marker": {
          "color": "darkgray",
          "line": {
           "width": 0
          }
         },
         "showlegend": false,
         "type": "bar",
         "width": 0.6,
         "x": [
          "2024-09-14T03:30:00"
         ],
         "xaxis": "x",
         "y": [
          33.479999999995925
         ],
         "yaxis": "y"
        },
        {
         "line": {
          "color": "gray",
          "width": 1
         },
         "mode": "lines",
         "showlegend": false,
         "type": "scatter",
         "x": [
          "2024-09-14T03:35:00",
          "2024-09-14T03:35:00"
         ],
         "xaxis": "x",
         "y": [
          60356.25,
          60392
         ],
         "yaxis": "y"
        },
        {
         "base": 60368.9,
         "marker": {
          "color": "gray",
          "line": {
           "width": 0
          }
         },
         "showlegend": false,
         "type": "bar",
         "width": 0.6,
         "x": [
          "2024-09-14T03:35:00"
         ],
         "xaxis": "x",
         "y": [
          23.089999999996508
         ],
         "yaxis": "y"
        },
        {
         "line": {
          "color": "darkgray",
          "width": 1
         },
         "mode": "lines",
         "showlegend": false,
         "type": "scatter",
         "x": [
          "2024-09-14T03:40:00",
          "2024-09-14T03:40:00"
         ],
         "xaxis": "x",
         "y": [
          60340,
          60391.99
         ],
         "yaxis": "y"
        },
        {
         "base": 60340,
         "marker": {
          "color": "darkgray",
          "line": {
           "width": 0
          }
         },
         "showlegend": false,
         "type": "bar",
         "width": 0.6,
         "x": [
          "2024-09-14T03:40:00"
         ],
         "xaxis": "x",
         "y": [
          51.98999999999796
         ],
         "yaxis": "y"
        },
        {
         "line": {
          "color": "gray",
          "width": 1
         },
         "mode": "lines",
         "showlegend": false,
         "type": "scatter",
         "x": [
          "2024-09-14T03:45:00",
          "2024-09-14T03:45:00"
         ],
         "xaxis": "x",
         "y": [
          60340,
          60350
         ],
         "yaxis": "y"
        },
        {
         "base": 60340,
         "marker": {
          "color": "gray",
          "line": {
           "width": 0
          }
         },
         "showlegend": false,
         "type": "bar",
         "width": 0.6,
         "x": [
          "2024-09-14T03:45:00"
         ],
         "xaxis": "x",
         "y": [
          6
         ],
         "yaxis": "y"
        },
        {
         "line": {
          "color": "gray",
          "width": 1
         },
         "mode": "lines",
         "showlegend": false,
         "type": "scatter",
         "x": [
          "2024-09-14T03:50:00",
          "2024-09-14T03:50:00"
         ],
         "xaxis": "x",
         "y": [
          60340,
          60350
         ],
         "yaxis": "y"
        },
        {
         "base": 60346,
         "marker": {
          "color": "gray",
          "line": {
           "width": 0
          }
         },
         "showlegend": false,
         "type": "bar",
         "width": 0.6,
         "x": [
          "2024-09-14T03:50:00"
         ],
         "xaxis": "x",
         "y": [
          3.9899999999979627
         ],
         "yaxis": "y"
        },
        {
         "line": {
          "color": "darkgray",
          "width": 1
         },
         "mode": "lines",
         "showlegend": false,
         "type": "scatter",
         "x": [
          "2024-09-14T03:55:00",
          "2024-09-14T03:55:00"
         ],
         "xaxis": "x",
         "y": [
          60317.45,
          60360
         ],
         "yaxis": "y"
        },
        {
         "base": 60329.37,
         "marker": {
          "color": "darkgray",
          "line": {
           "width": 0
          }
         },
         "showlegend": false,
         "type": "bar",
         "width": 0.6,
         "x": [
          "2024-09-14T03:55:00"
         ],
         "xaxis": "x",
         "y": [
          20.610000000000582
         ],
         "yaxis": "y"
        },
        {
         "line": {
          "color": "darkgray",
          "width": 1
         },
         "mode": "lines",
         "showlegend": false,
         "type": "scatter",
         "x": [
          "2024-09-14T04:00:00",
          "2024-09-14T04:00:00"
         ],
         "xaxis": "x",
         "y": [
          60312,
          60342
         ],
         "yaxis": "y"
        },
        {
         "base": 60321.37,
         "marker": {
          "color": "darkgray",
          "line": {
           "width": 0
          }
         },
         "showlegend": false,
         "type": "bar",
         "width": 0.6,
         "x": [
          "2024-09-14T04:00:00"
         ],
         "xaxis": "x",
         "y": [
          8.009999999994761
         ],
         "yaxis": "y"
        },
        {
         "line": {
          "color": "darkgray",
          "width": 1
         },
         "mode": "lines",
         "showlegend": false,
         "type": "scatter",
         "x": [
          "2024-09-14T04:05:00",
          "2024-09-14T04:05:00"
         ],
         "xaxis": "x",
         "y": [
          60301.51,
          60321.37
         ],
         "yaxis": "y"
        },
        {
         "base": 60301.52,
         "marker": {
          "color": "darkgray",
          "line": {
           "width": 0
          }
         },
         "showlegend": false,
         "type": "bar",
         "width": 0.6,
         "x": [
          "2024-09-14T04:05:00"
         ],
         "xaxis": "x",
         "y": [
          19.840000000003783
         ],
         "yaxis": "y"
        },
        {
         "line": {
          "color": "darkgray",
          "width": 1
         },
         "mode": "lines",
         "showlegend": false,
         "type": "scatter",
         "x": [
          "2024-09-14T04:10:00",
          "2024-09-14T04:10:00"
         ],
         "xaxis": "x",
         "y": [
          60290.16,
          60317.17
         ],
         "yaxis": "y"
        },
        {
         "base": 60291.69,
         "marker": {
          "color": "darkgray",
          "line": {
           "width": 0
          }
         },
         "showlegend": false,
         "type": "bar",
         "width": 0.6,
         "x": [
          "2024-09-14T04:10:00"
         ],
         "xaxis": "x",
         "y": [
          9.82999999999447
         ],
         "yaxis": "y"
        },
        {
         "line": {
          "color": "darkgray",
          "width": 1
         },
         "mode": "lines",
         "showlegend": false,
         "type": "scatter",
         "x": [
          "2024-09-14T04:15:00",
          "2024-09-14T04:15:00"
         ],
         "xaxis": "x",
         "y": [
          60272.32,
          60312
         ],
         "yaxis": "y"
        },
        {
         "base": 60277.57,
         "marker": {
          "color": "darkgray",
          "line": {
           "width": 0
          }
         },
         "showlegend": false,
         "type": "bar",
         "width": 0.6,
         "x": [
          "2024-09-14T04:15:00"
         ],
         "xaxis": "x",
         "y": [
          14.12999999999738
         ],
         "yaxis": "y"
        },
        {
         "line": {
          "color": "lime",
          "width": 1
         },
         "mode": "lines",
         "showlegend": false,
         "type": "scatter",
         "x": [
          "2024-09-14T04:20:00",
          "2024-09-14T04:20:00"
         ],
         "xaxis": "x",
         "y": [
          60272.32,
          60348.24
         ],
         "yaxis": "y"
        },
        {
         "base": 60277.57,
         "marker": {
          "color": "lime",
          "line": {
           "width": 0
          }
         },
         "showlegend": false,
         "type": "bar",
         "width": 0.6,
         "x": [
          "2024-09-14T04:20:00"
         ],
         "xaxis": "x",
         "y": [
          58.63999999999942
         ],
         "yaxis": "y"
        },
        {
         "line": {
          "color": "darkgray",
          "width": 1
         },
         "mode": "lines",
         "showlegend": false,
         "type": "scatter",
         "x": [
          "2024-09-14T04:25:00",
          "2024-09-14T04:25:00"
         ],
         "xaxis": "x",
         "y": [
          60316,
          60348
         ],
         "yaxis": "y"
        },
        {
         "base": 60321.99,
         "marker": {
          "color": "darkgray",
          "line": {
           "width": 0
          }
         },
         "showlegend": false,
         "type": "bar",
         "width": 0.6,
         "x": [
          "2024-09-14T04:25:00"
         ],
         "xaxis": "x",
         "y": [
          14.230000000003201
         ],
         "yaxis": "y"
        },
        {
         "line": {
          "color": "darkgray",
          "width": 1
         },
         "mode": "lines",
         "showlegend": false,
         "type": "scatter",
         "x": [
          "2024-09-14T04:30:00",
          "2024-09-14T04:30:00"
         ],
         "xaxis": "x",
         "y": [
          60275.79,
          60322.34
         ],
         "yaxis": "y"
        },
        {
         "base": 60275.8,
         "marker": {
          "color": "darkgray",
          "line": {
           "width": 0
          }
         },
         "showlegend": false,
         "type": "bar",
         "width": 0.6,
         "x": [
          "2024-09-14T04:30:00"
         ],
         "xaxis": "x",
         "y": [
          46.18000000000029
         ],
         "yaxis": "y"
        },
        {
         "line": {
          "color": "gray",
          "width": 1
         },
         "mode": "lines",
         "showlegend": false,
         "type": "scatter",
         "x": [
          "2024-09-14T04:35:00",
          "2024-09-14T04:35:00"
         ],
         "xaxis": "x",
         "y": [
          60266,
          60308
         ],
         "yaxis": "y"
        },
        {
         "base": 60275.79,
         "marker": {
          "color": "gray",
          "line": {
           "width": 0
          }
         },
         "showlegend": false,
         "type": "bar",
         "width": 0.6,
         "x": [
          "2024-09-14T04:35:00"
         ],
         "xaxis": "x",
         "y": [
          6.2299999999959255
         ],
         "yaxis": "y"
        },
        {
         "line": {
          "color": "darkgray",
          "width": 1
         },
         "mode": "lines",
         "showlegend": false,
         "type": "scatter",
         "x": [
          "2024-09-14T04:40:00",
          "2024-09-14T04:40:00"
         ],
         "xaxis": "x",
         "y": [
          60250,
          60282.02
         ],
         "yaxis": "y"
        },
        {
         "base": 60265.01,
         "marker": {
          "color": "darkgray",
          "line": {
           "width": 0
          }
         },
         "showlegend": false,
         "type": "bar",
         "width": 0.6,
         "x": [
          "2024-09-14T04:40:00"
         ],
         "xaxis": "x",
         "y": [
          17.00999999999476
         ],
         "yaxis": "y"
        },
        {
         "line": {
          "color": "darkgray",
          "width": 1
         },
         "mode": "lines",
         "showlegend": false,
         "type": "scatter",
         "x": [
          "2024-09-14T04:45:00",
          "2024-09-14T04:45:00"
         ],
         "xaxis": "x",
         "y": [
          60250,
          60278.99
         ],
         "yaxis": "y"
        },
        {
         "base": 60256,
         "marker": {
          "color": "darkgray",
          "line": {
           "width": 0
          }
         },
         "showlegend": false,
         "type": "bar",
         "width": 0.6,
         "x": [
          "2024-09-14T04:45:00"
         ],
         "xaxis": "x",
         "y": [
          9.010000000002037
         ],
         "yaxis": "y"
        },
        {
         "line": {
          "color": "darkgray",
          "width": 1
         },
         "mode": "lines",
         "showlegend": false,
         "type": "scatter",
         "x": [
          "2024-09-14T04:50:00",
          "2024-09-14T04:50:00"
         ],
         "xaxis": "x",
         "y": [
          60201.16,
          60256.01
         ],
         "yaxis": "y"
        },
        {
         "base": 60212,
         "marker": {
          "color": "darkgray",
          "line": {
           "width": 0
          }
         },
         "showlegend": false,
         "type": "bar",
         "width": 0.6,
         "x": [
          "2024-09-14T04:50:00"
         ],
         "xaxis": "x",
         "y": [
          44.01000000000204
         ],
         "yaxis": "y"
        },
        {
         "line": {
          "color": "gray",
          "width": 1
         },
         "mode": "lines",
         "showlegend": false,
         "type": "scatter",
         "x": [
          "2024-09-14T04:55:00",
          "2024-09-14T04:55:00"
         ],
         "xaxis": "x",
         "y": [
          60184.86,
          60234
         ],
         "yaxis": "y"
        },
        {
         "base": 60211.99,
         "marker": {
          "color": "gray",
          "line": {
           "width": 0
          }
         },
         "showlegend": false,
         "type": "bar",
         "width": 0.6,
         "x": [
          "2024-09-14T04:55:00"
         ],
         "xaxis": "x",
         "y": [
          1.0600000000049477
         ],
         "yaxis": "y"
        },
        {
         "line": {
          "color": "gray",
          "width": 1
         },
         "mode": "lines",
         "showlegend": false,
         "type": "scatter",
         "x": [
          "2024-09-14T05:00:00",
          "2024-09-14T05:00:00"
         ],
         "xaxis": "x",
         "y": [
          60190,
          60242.47
         ],
         "yaxis": "y"
        },
        {
         "base": 60213.06,
         "marker": {
          "color": "gray",
          "line": {
           "width": 0
          }
         },
         "showlegend": false,
         "type": "bar",
         "width": 0.6,
         "x": [
          "2024-09-14T05:00:00"
         ],
         "xaxis": "x",
         "y": [
          27.68000000000029
         ],
         "yaxis": "y"
        },
        {
         "line": {
          "color": "darkgray",
          "width": 1
         },
         "mode": "lines",
         "showlegend": false,
         "type": "scatter",
         "x": [
          "2024-09-14T05:05:00",
          "2024-09-14T05:05:00"
         ],
         "xaxis": "x",
         "y": [
          60194,
          60240.75
         ],
         "yaxis": "y"
        },
        {
         "base": 60204,
         "marker": {
          "color": "darkgray",
          "line": {
           "width": 0
          }
         },
         "showlegend": false,
         "type": "bar",
         "width": 0.6,
         "x": [
          "2024-09-14T05:05:00"
         ],
         "xaxis": "x",
         "y": [
          36.75
         ],
         "yaxis": "y"
        },
        {
         "line": {
          "color": "red",
          "width": 1
         },
         "mode": "lines",
         "showlegend": false,
         "type": "scatter",
         "x": [
          "2024-09-14T05:10:00",
          "2024-09-14T05:10:00"
         ],
         "xaxis": "x",
         "y": [
          60199.84,
          60240.05
         ],
         "yaxis": "y"
        },
        {
         "base": 60200,
         "marker": {
          "color": "red",
          "line": {
           "width": 0
          }
         },
         "showlegend": false,
         "type": "bar",
         "width": 0.6,
         "x": [
          "2024-09-14T05:10:00"
         ],
         "xaxis": "x",
         "y": [
          4
         ],
         "yaxis": "y"
        },
        {
         "line": {
          "color": "red",
          "width": 1
         },
         "mode": "lines",
         "showlegend": false,
         "type": "scatter",
         "x": [
          "2024-09-14T05:15:00",
          "2024-09-14T05:15:00"
         ],
         "xaxis": "x",
         "y": [
          60147.34,
          60216.99
         ],
         "yaxis": "y"
        },
        {
         "base": 60154.64,
         "marker": {
          "color": "red",
          "line": {
           "width": 0
          }
         },
         "showlegend": false,
         "type": "bar",
         "width": 0.6,
         "x": [
          "2024-09-14T05:15:00"
         ],
         "xaxis": "x",
         "y": [
          45.36000000000058
         ],
         "yaxis": "y"
        },
        {
         "line": {
          "color": "darkgray",
          "width": 1
         },
         "mode": "lines",
         "showlegend": false,
         "type": "scatter",
         "x": [
          "2024-09-14T05:20:00",
          "2024-09-14T05:20:00"
         ],
         "xaxis": "x",
         "y": [
          60118,
          60154.65
         ],
         "yaxis": "y"
        },
        {
         "base": 60118.01,
         "marker": {
          "color": "darkgray",
          "line": {
           "width": 0
          }
         },
         "showlegend": false,
         "type": "bar",
         "width": 0.6,
         "x": [
          "2024-09-14T05:20:00"
         ],
         "xaxis": "x",
         "y": [
          36.63999999999942
         ],
         "yaxis": "y"
        },
        {
         "line": {
          "color": "fuchsia",
          "width": 1
         },
         "mode": "lines",
         "showlegend": false,
         "type": "scatter",
         "x": [
          "2024-09-14T05:25:00",
          "2024-09-14T05:25:00"
         ],
         "xaxis": "x",
         "y": [
          60088,
          60124.69
         ],
         "yaxis": "y"
        },
        {
         "base": 60102,
         "marker": {
          "color": "fuchsia",
          "line": {
           "width": 0
          }
         },
         "showlegend": false,
         "type": "bar",
         "width": 0.6,
         "x": [
          "2024-09-14T05:25:00"
         ],
         "xaxis": "x",
         "y": [
          16.010000000002037
         ],
         "yaxis": "y"
        },
        {
         "line": {
          "color": "darkgray",
          "width": 1
         },
         "mode": "lines",
         "showlegend": false,
         "type": "scatter",
         "x": [
          "2024-09-14T05:30:00",
          "2024-09-14T05:30:00"
         ],
         "xaxis": "x",
         "y": [
          60041.96,
          60108
         ],
         "yaxis": "y"
        },
        {
         "base": 60060,
         "marker": {
          "color": "darkgray",
          "line": {
           "width": 0
          }
         },
         "showlegend": false,
         "type": "bar",
         "width": 0.6,
         "x": [
          "2024-09-14T05:30:00"
         ],
         "xaxis": "x",
         "y": [
          42
         ],
         "yaxis": "y"
        },
        {
         "line": {
          "color": "gray",
          "width": 1
         },
         "mode": "lines",
         "showlegend": false,
         "type": "scatter",
         "x": [
          "2024-09-14T05:35:00",
          "2024-09-14T05:35:00"
         ],
         "xaxis": "x",
         "y": [
          60060,
          60151.61
         ],
         "yaxis": "y"
        },
        {
         "base": 60060,
         "marker": {
          "color": "gray",
          "line": {
           "width": 0
          }
         },
         "showlegend": false,
         "type": "bar",
         "width": 0.6,
         "x": [
          "2024-09-14T05:35:00"
         ],
         "xaxis": "x",
         "y": [
          89.43000000000029
         ],
         "yaxis": "y"
        },
        {
         "line": {
          "color": "darkgray",
          "width": 1
         },
         "mode": "lines",
         "showlegend": false,
         "type": "scatter",
         "x": [
          "2024-09-14T05:40:00",
          "2024-09-14T05:40:00"
         ],
         "xaxis": "x",
         "y": [
          60132,
          60150
         ],
         "yaxis": "y"
        },
        {
         "base": 60143.58,
         "marker": {
          "color": "darkgray",
          "line": {
           "width": 0
          }
         },
         "showlegend": false,
         "type": "bar",
         "width": 0.6,
         "x": [
          "2024-09-14T05:40:00"
         ],
         "xaxis": "x",
         "y": [
          5.849999999998545
         ],
         "yaxis": "y"
        },
        {
         "line": {
          "color": "darkgray",
          "width": 1
         },
         "mode": "lines",
         "showlegend": false,
         "type": "scatter",
         "x": [
          "2024-09-14T05:45:00",
          "2024-09-14T05:45:00"
         ],
         "xaxis": "x",
         "y": [
          60074,
          60143.58
         ],
         "yaxis": "y"
        },
        {
         "base": 60087.53,
         "marker": {
          "color": "darkgray",
          "line": {
           "width": 0
          }
         },
         "showlegend": false,
         "type": "bar",
         "width": 0.6,
         "x": [
          "2024-09-14T05:45:00"
         ],
         "xaxis": "x",
         "y": [
          56.04000000000087
         ],
         "yaxis": "y"
        },
        {
         "line": {
          "color": "darkgray",
          "width": 1
         },
         "mode": "lines",
         "showlegend": false,
         "type": "scatter",
         "x": [
          "2024-09-14T05:50:00",
          "2024-09-14T05:50:00"
         ],
         "xaxis": "x",
         "y": [
          60059.42,
          60092.46
         ],
         "yaxis": "y"
        },
        {
         "base": 60059.42,
         "marker": {
          "color": "darkgray",
          "line": {
           "width": 0
          }
         },
         "showlegend": false,
         "type": "bar",
         "width": 0.6,
         "x": [
          "2024-09-14T05:50:00"
         ],
         "xaxis": "x",
         "y": [
          28.110000000000582
         ],
         "yaxis": "y"
        },
        {
         "line": {
          "color": "red",
          "width": 1
         },
         "mode": "lines",
         "showlegend": false,
         "type": "scatter",
         "x": [
          "2024-09-14T05:55:00",
          "2024-09-14T05:55:00"
         ],
         "xaxis": "x",
         "y": [
          59900.32,
          60059.43
         ],
         "yaxis": "y"
        },
        {
         "base": 59926,
         "marker": {
          "color": "red",
          "line": {
           "width": 0
          }
         },
         "showlegend": false,
         "type": "bar",
         "width": 0.6,
         "x": [
          "2024-09-14T05:55:00"
         ],
         "xaxis": "x",
         "y": [
          133.41999999999825
         ],
         "yaxis": "y"
        },
        {
         "line": {
          "color": "gray",
          "width": 1
         },
         "mode": "lines",
         "showlegend": false,
         "type": "scatter",
         "x": [
          "2024-09-14T06:00:00",
          "2024-09-14T06:00:00"
         ],
         "xaxis": "x",
         "y": [
          59900,
          60014
         ],
         "yaxis": "y"
        },
        {
         "base": 59926,
         "marker": {
          "color": "gray",
          "line": {
           "width": 0
          }
         },
         "showlegend": false,
         "type": "bar",
         "width": 0.6,
         "x": [
          "2024-09-14T06:00:00"
         ],
         "xaxis": "x",
         "y": [
          78.0199999999968
         ],
         "yaxis": "y"
        },
        {
         "line": {
          "color": "darkgray",
          "width": 1
         },
         "mode": "lines",
         "showlegend": false,
         "type": "scatter",
         "x": [
          "2024-09-14T06:05:00",
          "2024-09-14T06:05:00"
         ],
         "xaxis": "x",
         "y": [
          59949.41,
          60014
         ],
         "yaxis": "y"
        },
        {
         "base": 59979.99,
         "marker": {
          "color": "darkgray",
          "line": {
           "width": 0
          }
         },
         "showlegend": false,
         "type": "bar",
         "width": 0.6,
         "x": [
          "2024-09-14T06:05:00"
         ],
         "xaxis": "x",
         "y": [
          24.020000000004075
         ],
         "yaxis": "y"
        },
        {
         "line": {
          "color": "gray",
          "width": 1
         },
         "mode": "lines",
         "showlegend": false,
         "type": "scatter",
         "x": [
          "2024-09-14T06:10:00",
          "2024-09-14T06:10:00"
         ],
         "xaxis": "x",
         "y": [
          59964,
          60026
         ],
         "yaxis": "y"
        },
        {
         "base": 59980,
         "marker": {
          "color": "gray",
          "line": {
           "width": 0
          }
         },
         "showlegend": false,
         "type": "bar",
         "width": 0.6,
         "x": [
          "2024-09-14T06:10:00"
         ],
         "xaxis": "x",
         "y": [
          40
         ],
         "yaxis": "y"
        },
        {
         "line": {
          "color": "darkgray",
          "width": 1
         },
         "mode": "lines",
         "showlegend": false,
         "type": "scatter",
         "x": [
          "2024-09-14T06:15:00",
          "2024-09-14T06:15:00"
         ],
         "xaxis": "x",
         "y": [
          59985.23,
          60020.01
         ],
         "yaxis": "y"
        },
        {
         "base": 59985.24,
         "marker": {
          "color": "darkgray",
          "line": {
           "width": 0
          }
         },
         "showlegend": false,
         "type": "bar",
         "width": 0.6,
         "x": [
          "2024-09-14T06:15:00"
         ],
         "xaxis": "x",
         "y": [
          34.770000000004075
         ],
         "yaxis": "y"
        },
        {
         "line": {
          "color": "darkgray",
          "width": 1
         },
         "mode": "lines",
         "showlegend": false,
         "type": "scatter",
         "x": [
          "2024-09-14T06:20:00",
          "2024-09-14T06:20:00"
         ],
         "xaxis": "x",
         "y": [
          59954,
          60009.99
         ],
         "yaxis": "y"
        },
        {
         "base": 59982,
         "marker": {
          "color": "darkgray",
          "line": {
           "width": 0
          }
         },
         "showlegend": false,
         "type": "bar",
         "width": 0.6,
         "x": [
          "2024-09-14T06:20:00"
         ],
         "xaxis": "x",
         "y": [
          3.2300000000032014
         ],
         "yaxis": "y"
        },
        {
         "line": {
          "color": "darkgray",
          "width": 1
         },
         "mode": "lines",
         "showlegend": false,
         "type": "scatter",
         "x": [
          "2024-09-14T06:25:00",
          "2024-09-14T06:25:00"
         ],
         "xaxis": "x",
         "y": [
          59971.1,
          59991.1
         ],
         "yaxis": "y"
        },
        {
         "base": 59979.99,
         "marker": {
          "color": "darkgray",
          "line": {
           "width": 0
          }
         },
         "showlegend": false,
         "type": "bar",
         "width": 0.6,
         "x": [
          "2024-09-14T06:25:00"
         ],
         "xaxis": "x",
         "y": [
          2.0100000000020373
         ],
         "yaxis": "y"
        },
        {
         "line": {
          "color": "darkgray",
          "width": 1
         },
         "mode": "lines",
         "showlegend": false,
         "type": "scatter",
         "x": [
          "2024-09-14T06:30:00",
          "2024-09-14T06:30:00"
         ],
         "xaxis": "x",
         "y": [
          59958,
          59980
         ],
         "yaxis": "y"
        },
        {
         "base": 59958.01,
         "marker": {
          "color": "darkgray",
          "line": {
           "width": 0
          }
         },
         "showlegend": false,
         "type": "bar",
         "width": 0.6,
         "x": [
          "2024-09-14T06:30:00"
         ],
         "xaxis": "x",
         "y": [
          21.979999999995925
         ],
         "yaxis": "y"
        },
        {
         "line": {
          "color": "darkgray",
          "width": 1
         },
         "mode": "lines",
         "showlegend": false,
         "type": "scatter",
         "x": [
          "2024-09-14T06:35:00",
          "2024-09-14T06:35:00"
         ],
         "xaxis": "x",
         "y": [
          59900,
          59958.01
         ],
         "yaxis": "y"
        },
        {
         "base": 59912.99,
         "marker": {
          "color": "darkgray",
          "line": {
           "width": 0
          }
         },
         "showlegend": false,
         "type": "bar",
         "width": 0.6,
         "x": [
          "2024-09-14T06:35:00"
         ],
         "xaxis": "x",
         "y": [
          45.01000000000204
         ],
         "yaxis": "y"
        },
        {
         "line": {
          "color": "gray",
          "width": 1
         },
         "mode": "lines",
         "showlegend": false,
         "type": "scatter",
         "x": [
          "2024-09-14T06:40:00",
          "2024-09-14T06:40:00"
         ],
         "xaxis": "x",
         "y": [
          59900,
          60015.16
         ],
         "yaxis": "y"
        },
        {
         "base": 59913,
         "marker": {
          "color": "gray",
          "line": {
           "width": 0
          }
         },
         "showlegend": false,
         "type": "bar",
         "width": 0.6,
         "x": [
          "2024-09-14T06:40:00"
         ],
         "xaxis": "x",
         "y": [
          100.98999999999796
         ],
         "yaxis": "y"
        },
        {
         "line": {
          "color": "gray",
          "width": 1
         },
         "mode": "lines",
         "showlegend": false,
         "type": "scatter",
         "x": [
          "2024-09-14T06:45:00",
          "2024-09-14T06:45:00"
         ],
         "xaxis": "x",
         "y": [
          60002.01,
          60079.36
         ],
         "yaxis": "y"
        },
        {
         "base": 60014,
         "marker": {
          "color": "gray",
          "line": {
           "width": 0
          }
         },
         "showlegend": false,
         "type": "bar",
         "width": 0.6,
         "x": [
          "2024-09-14T06:45:00"
         ],
         "xaxis": "x",
         "y": [
          59.9800000000032
         ],
         "yaxis": "y"
        },
        {
         "line": {
          "color": "darkgray",
          "width": 1
         },
         "mode": "lines",
         "showlegend": false,
         "type": "scatter",
         "x": [
          "2024-09-14T06:50:00",
          "2024-09-14T06:50:00"
         ],
         "xaxis": "x",
         "y": [
          60068.93,
          60073.99
         ],
         "yaxis": "y"
        },
        {
         "base": 60070.5,
         "marker": {
          "color": "darkgray",
          "line": {
           "width": 0
          }
         },
         "showlegend": false,
         "type": "bar",
         "width": 0.6,
         "x": [
          "2024-09-14T06:50:00"
         ],
         "xaxis": "x",
         "y": [
          3.4800000000032014
         ],
         "yaxis": "y"
        },
        {
         "line": {
          "color": "darkgray",
          "width": 1
         },
         "mode": "lines",
         "showlegend": false,
         "type": "scatter",
         "x": [
          "2024-09-14T06:55:00",
          "2024-09-14T06:55:00"
         ],
         "xaxis": "x",
         "y": [
          60030.01,
          60070.5
         ],
         "yaxis": "y"
        },
        {
         "base": 60046,
         "marker": {
          "color": "darkgray",
          "line": {
           "width": 0
          }
         },
         "showlegend": false,
         "type": "bar",
         "width": 0.6,
         "x": [
          "2024-09-14T06:55:00"
         ],
         "xaxis": "x",
         "y": [
          24.5
         ],
         "yaxis": "y"
        },
        {
         "line": {
          "color": "darkgray",
          "width": 1
         },
         "mode": "lines",
         "showlegend": false,
         "type": "scatter",
         "x": [
          "2024-09-14T07:00:00",
          "2024-09-14T07:00:00"
         ],
         "xaxis": "x",
         "y": [
          60015.54,
          60046.01
         ],
         "yaxis": "y"
        },
        {
         "base": 60015.54,
         "marker": {
          "color": "darkgray",
          "line": {
           "width": 0
          }
         },
         "showlegend": false,
         "type": "bar",
         "width": 0.6,
         "x": [
          "2024-09-14T07:00:00"
         ],
         "xaxis": "x",
         "y": [
          30.470000000001164
         ],
         "yaxis": "y"
        },
        {
         "line": {
          "color": "darkgray",
          "width": 1
         },
         "mode": "lines",
         "showlegend": false,
         "type": "scatter",
         "x": [
          "2024-09-14T07:05:00",
          "2024-09-14T07:05:00"
         ],
         "xaxis": "x",
         "y": [
          59998.99,
          60015.55
         ],
         "yaxis": "y"
        },
        {
         "base": 59999.01,
         "marker": {
          "color": "darkgray",
          "line": {
           "width": 0
          }
         },
         "showlegend": false,
         "type": "bar",
         "width": 0.6,
         "x": [
          "2024-09-14T07:05:00"
         ],
         "xaxis": "x",
         "y": [
          16.529999999998836
         ],
         "yaxis": "y"
        },
        {
         "line": {
          "color": "gray",
          "width": 1
         },
         "mode": "lines",
         "showlegend": false,
         "type": "scatter",
         "x": [
          "2024-09-14T07:10:00",
          "2024-09-14T07:10:00"
         ],
         "xaxis": "x",
         "y": [
          59998.01,
          60044
         ],
         "yaxis": "y"
        },
        {
         "base": 59999.01,
         "marker": {
          "color": "gray",
          "line": {
           "width": 0
          }
         },
         "showlegend": false,
         "type": "bar",
         "width": 0.6,
         "x": [
          "2024-09-14T07:10:00"
         ],
         "xaxis": "x",
         "y": [
          44.98999999999796
         ],
         "yaxis": "y"
        },
        {
         "line": {
          "color": "darkgray",
          "width": 1
         },
         "mode": "lines",
         "showlegend": false,
         "type": "scatter",
         "x": [
          "2024-09-14T07:15:00",
          "2024-09-14T07:15:00"
         ],
         "xaxis": "x",
         "y": [
          60028.01,
          60053.49
         ],
         "yaxis": "y"
        },
        {
         "base": 60028.02,
         "marker": {
          "color": "darkgray",
          "line": {
           "width": 0
          }
         },
         "showlegend": false,
         "type": "bar",
         "width": 0.6,
         "x": [
          "2024-09-14T07:15:00"
         ],
         "xaxis": "x",
         "y": [
          15.980000000003201
         ],
         "yaxis": "y"
        },
        {
         "line": {
          "color": "lime",
          "width": 1
         },
         "mode": "lines",
         "showlegend": false,
         "type": "scatter",
         "x": [
          "2024-09-14T07:20:00",
          "2024-09-14T07:20:00"
         ],
         "xaxis": "x",
         "y": [
          60028.01,
          60090.01
         ],
         "yaxis": "y"
        },
        {
         "base": 60028.02,
         "marker": {
          "color": "lime",
          "line": {
           "width": 0
          }
         },
         "showlegend": false,
         "type": "bar",
         "width": 0.6,
         "x": [
          "2024-09-14T07:20:00"
         ],
         "xaxis": "x",
         "y": [
          27.970000000001164
         ],
         "yaxis": "y"
        },
        {
         "line": {
          "color": "gray",
          "width": 1
         },
         "mode": "lines",
         "showlegend": false,
         "type": "scatter",
         "x": [
          "2024-09-14T07:25:00",
          "2024-09-14T07:25:00"
         ],
         "xaxis": "x",
         "y": [
          60048,
          60094
         ],
         "yaxis": "y"
        },
        {
         "base": 60055.99,
         "marker": {
          "color": "gray",
          "line": {
           "width": 0
          }
         },
         "showlegend": false,
         "type": "bar",
         "width": 0.6,
         "x": [
          "2024-09-14T07:25:00"
         ],
         "xaxis": "x",
         "y": [
          38.01000000000204
         ],
         "yaxis": "y"
        },
        {
         "line": {
          "color": "gray",
          "width": 1
         },
         "mode": "lines",
         "showlegend": false,
         "type": "scatter",
         "x": [
          "2024-09-14T07:30:00",
          "2024-09-14T07:30:00"
         ],
         "xaxis": "x",
         "y": [
          60092.01,
          60120
         ],
         "yaxis": "y"
        },
        {
         "base": 60093.99,
         "marker": {
          "color": "gray",
          "line": {
           "width": 0
          }
         },
         "showlegend": false,
         "type": "bar",
         "width": 0.6,
         "x": [
          "2024-09-14T07:30:00"
         ],
         "xaxis": "x",
         "y": [
          25.94000000000233
         ],
         "yaxis": "y"
        },
        {
         "line": {
          "color": "gray",
          "width": 1
         },
         "mode": "lines",
         "showlegend": false,
         "type": "scatter",
         "x": [
          "2024-09-14T07:35:00",
          "2024-09-14T07:35:00"
         ],
         "xaxis": "x",
         "y": [
          60119.92,
          60174
         ],
         "yaxis": "y"
        },
        {
         "base": 60119.93,
         "marker": {
          "color": "gray",
          "line": {
           "width": 0
          }
         },
         "showlegend": false,
         "type": "bar",
         "width": 0.6,
         "x": [
          "2024-09-14T07:35:00"
         ],
         "xaxis": "x",
         "y": [
          30.80000000000291
         ],
         "yaxis": "y"
        },
        {
         "line": {
          "color": "darkgray",
          "width": 1
         },
         "mode": "lines",
         "showlegend": false,
         "type": "scatter",
         "x": [
          "2024-09-14T07:40:00",
          "2024-09-14T07:40:00"
         ],
         "xaxis": "x",
         "y": [
          60127.55,
          60150.74
         ],
         "yaxis": "y"
        },
        {
         "base": 60145.99,
         "marker": {
          "color": "darkgray",
          "line": {
           "width": 0
          }
         },
         "showlegend": false,
         "type": "bar",
         "width": 0.6,
         "x": [
          "2024-09-14T07:40:00"
         ],
         "xaxis": "x",
         "y": [
          4.740000000005239
         ],
         "yaxis": "y"
        },
        {
         "line": {
          "color": "gray",
          "width": 1
         },
         "mode": "lines",
         "showlegend": false,
         "type": "scatter",
         "x": [
          "2024-09-14T07:45:00",
          "2024-09-14T07:45:00"
         ],
         "xaxis": "x",
         "y": [
          60120.62,
          60172
         ],
         "yaxis": "y"
        },
        {
         "base": 60145.99,
         "marker": {
          "color": "gray",
          "line": {
           "width": 0
          }
         },
         "showlegend": false,
         "type": "bar",
         "width": 0.6,
         "x": [
          "2024-09-14T07:45:00"
         ],
         "xaxis": "x",
         "y": [
          25.700000000004366
         ],
         "yaxis": "y"
        },
        {
         "line": {
          "color": "darkgray",
          "width": 1
         },
         "mode": "lines",
         "showlegend": false,
         "type": "scatter",
         "x": [
          "2024-09-14T07:50:00",
          "2024-09-14T07:50:00"
         ],
         "xaxis": "x",
         "y": [
          60134.16,
          60171.69
         ],
         "yaxis": "y"
        },
        {
         "base": 60134.16,
         "marker": {
          "color": "darkgray",
          "line": {
           "width": 0
          }
         },
         "showlegend": false,
         "type": "bar",
         "width": 0.6,
         "x": [
          "2024-09-14T07:50:00"
         ],
         "xaxis": "x",
         "y": [
          37.529999999998836
         ],
         "yaxis": "y"
        },
        {
         "line": {
          "color": "gray",
          "width": 1
         },
         "mode": "lines",
         "showlegend": false,
         "type": "scatter",
         "x": [
          "2024-09-14T07:55:00",
          "2024-09-14T07:55:00"
         ],
         "xaxis": "x",
         "y": [
          60134.16,
          60156
         ],
         "yaxis": "y"
        },
        {
         "base": 60134.16,
         "marker": {
          "color": "gray",
          "line": {
           "width": 0
          }
         },
         "showlegend": false,
         "type": "bar",
         "width": 0.6,
         "x": [
          "2024-09-14T07:55:00"
         ],
         "xaxis": "x",
         "y": [
          3.9799999999959255
         ],
         "yaxis": "y"
        },
        {
         "line": {
          "color": "red",
          "width": 1
         },
         "mode": "lines",
         "showlegend": false,
         "type": "scatter",
         "x": [
          "2024-09-14T08:00:00",
          "2024-09-14T08:00:00"
         ],
         "xaxis": "x",
         "y": [
          60049.83,
          60156
         ],
         "yaxis": "y"
        },
        {
         "base": 60079.26,
         "marker": {
          "color": "red",
          "line": {
           "width": 0
          }
         },
         "showlegend": false,
         "type": "bar",
         "width": 0.6,
         "x": [
          "2024-09-14T08:00:00"
         ],
         "xaxis": "x",
         "y": [
          58.87999999999738
         ],
         "yaxis": "y"
        },
        {
         "line": {
          "color": "darkgray",
          "width": 1
         },
         "mode": "lines",
         "showlegend": false,
         "type": "scatter",
         "x": [
          "2024-09-14T08:05:00",
          "2024-09-14T08:05:00"
         ],
         "xaxis": "x",
         "y": [
          60072.03,
          60098.99
         ],
         "yaxis": "y"
        },
        {
         "base": 60072.03,
         "marker": {
          "color": "darkgray",
          "line": {
           "width": 0
          }
         },
         "showlegend": false,
         "type": "bar",
         "width": 0.6,
         "x": [
          "2024-09-14T08:05:00"
         ],
         "xaxis": "x",
         "y": [
          7.230000000003201
         ],
         "yaxis": "y"
        },
        {
         "line": {
          "color": "darkgray",
          "width": 1
         },
         "mode": "lines",
         "showlegend": false,
         "type": "scatter",
         "x": [
          "2024-09-14T08:10:00",
          "2024-09-14T08:10:00"
         ],
         "xaxis": "x",
         "y": [
          60020,
          60083.42
         ],
         "yaxis": "y"
        },
        {
         "base": 60036,
         "marker": {
          "color": "darkgray",
          "line": {
           "width": 0
          }
         },
         "showlegend": false,
         "type": "bar",
         "width": 0.6,
         "x": [
          "2024-09-14T08:10:00"
         ],
         "xaxis": "x",
         "y": [
          36.029999999998836
         ],
         "yaxis": "y"
        },
        {
         "line": {
          "color": "gray",
          "width": 1
         },
         "mode": "lines",
         "showlegend": false,
         "type": "scatter",
         "x": [
          "2024-09-14T08:15:00",
          "2024-09-14T08:15:00"
         ],
         "xaxis": "x",
         "y": [
          60035.99,
          60055
         ],
         "yaxis": "y"
        },
        {
         "base": 60035.99,
         "marker": {
          "color": "gray",
          "line": {
           "width": 0
          }
         },
         "showlegend": false,
         "type": "bar",
         "width": 0.6,
         "x": [
          "2024-09-14T08:15:00"
         ],
         "xaxis": "x",
         "y": [
          11.910000000003492
         ],
         "yaxis": "y"
        },
        {
         "line": {
          "color": "darkgray",
          "width": 1
         },
         "mode": "lines",
         "showlegend": false,
         "type": "scatter",
         "x": [
          "2024-09-14T08:20:00",
          "2024-09-14T08:20:00"
         ],
         "xaxis": "x",
         "y": [
          60015.12,
          60047.89
         ],
         "yaxis": "y"
        },
        {
         "base": 60019.99,
         "marker": {
          "color": "darkgray",
          "line": {
           "width": 0
          }
         },
         "showlegend": false,
         "type": "bar",
         "width": 0.6,
         "x": [
          "2024-09-14T08:20:00"
         ],
         "xaxis": "x",
         "y": [
          27.900000000001455
         ],
         "yaxis": "y"
        },
        {
         "line": {
          "color": "darkgray",
          "width": 1
         },
         "mode": "lines",
         "showlegend": false,
         "type": "scatter",
         "x": [
          "2024-09-14T08:25:00",
          "2024-09-14T08:25:00"
         ],
         "xaxis": "x",
         "y": [
          59980.2,
          60020
         ],
         "yaxis": "y"
        },
        {
         "base": 59983.13,
         "marker": {
          "color": "darkgray",
          "line": {
           "width": 0
          }
         },
         "showlegend": false,
         "type": "bar",
         "width": 0.6,
         "x": [
          "2024-09-14T08:25:00"
         ],
         "xaxis": "x",
         "y": [
          36.86000000000058
         ],
         "yaxis": "y"
        },
        {
         "line": {
          "color": "gray",
          "width": 1
         },
         "mode": "lines",
         "showlegend": false,
         "type": "scatter",
         "x": [
          "2024-09-14T08:30:00",
          "2024-09-14T08:30:00"
         ],
         "xaxis": "x",
         "y": [
          59983.12,
          60030.53
         ],
         "yaxis": "y"
        },
        {
         "base": 59983.13,
         "marker": {
          "color": "gray",
          "line": {
           "width": 0
          }
         },
         "showlegend": false,
         "type": "bar",
         "width": 0.6,
         "x": [
          "2024-09-14T08:30:00"
         ],
         "xaxis": "x",
         "y": [
          34.38999999999942
         ],
         "yaxis": "y"
        },
        {
         "line": {
          "color": "darkgray",
          "width": 1
         },
         "mode": "lines",
         "showlegend": false,
         "type": "scatter",
         "x": [
          "2024-09-14T08:35:00",
          "2024-09-14T08:35:00"
         ],
         "xaxis": "x",
         "y": [
          59994.03,
          60048
         ],
         "yaxis": "y"
        },
        {
         "base": 59994.03,
         "marker": {
          "color": "darkgray",
          "line": {
           "width": 0
          }
         },
         "showlegend": false,
         "type": "bar",
         "width": 0.6,
         "x": [
          "2024-09-14T08:35:00"
         ],
         "xaxis": "x",
         "y": [
          23.5
         ],
         "yaxis": "y"
        },
        {
         "line": {
          "color": "gray",
          "width": 1
         },
         "mode": "lines",
         "showlegend": false,
         "type": "scatter",
         "x": [
          "2024-09-14T08:40:00",
          "2024-09-14T08:40:00"
         ],
         "xaxis": "x",
         "y": [
          59988,
          60005.51
         ],
         "yaxis": "y"
        },
        {
         "base": 59994.04,
         "marker": {
          "color": "gray",
          "line": {
           "width": 0
          }
         },
         "showlegend": false,
         "type": "bar",
         "width": 0.6,
         "x": [
          "2024-09-14T08:40:00"
         ],
         "xaxis": "x",
         "y": [
          11.459999999999127
         ],
         "yaxis": "y"
        },
        {
         "line": {
          "color": "darkgray",
          "width": 1
         },
         "mode": "lines",
         "showlegend": false,
         "type": "scatter",
         "x": [
          "2024-09-14T08:45:00",
          "2024-09-14T08:45:00"
         ],
         "xaxis": "x",
         "y": [
          59933.94,
          60005.51
         ],
         "yaxis": "y"
        },
        {
         "base": 59957.9,
         "marker": {
          "color": "darkgray",
          "line": {
           "width": 0
          }
         },
         "showlegend": false,
         "type": "bar",
         "width": 0.6,
         "x": [
          "2024-09-14T08:45:00"
         ],
         "xaxis": "x",
         "y": [
          47.599999999998545
         ],
         "yaxis": "y"
        },
        {
         "line": {
          "color": "gray",
          "width": 1
         },
         "mode": "lines",
         "showlegend": false,
         "type": "scatter",
         "x": [
          "2024-09-14T08:50:00",
          "2024-09-14T08:50:00"
         ],
         "xaxis": "x",
         "y": [
          59957.89,
          59976
         ],
         "yaxis": "y"
        },
        {
         "base": 59957.89,
         "marker": {
          "color": "gray",
          "line": {
           "width": 0
          }
         },
         "showlegend": false,
         "type": "bar",
         "width": 0.6,
         "x": [
          "2024-09-14T08:50:00"
         ],
         "xaxis": "x",
         "y": [
          9.639999999999418
         ],
         "yaxis": "y"
        },
        {
         "line": {
          "color": "gray",
          "width": 1
         },
         "mode": "lines",
         "showlegend": false,
         "type": "scatter",
         "x": [
          "2024-09-14T08:55:00",
          "2024-09-14T08:55:00"
         ],
         "xaxis": "x",
         "y": [
          59962,
          59973.99
         ],
         "yaxis": "y"
        },
        {
         "base": 59967.54,
         "marker": {
          "color": "gray",
          "line": {
           "width": 0
          }
         },
         "showlegend": false,
         "type": "bar",
         "width": 0.6,
         "x": [
          "2024-09-14T08:55:00"
         ],
         "xaxis": "x",
         "y": [
          6.44999999999709
         ],
         "yaxis": "y"
        },
        {
         "line": {
          "color": "gray",
          "width": 1
         },
         "mode": "lines",
         "showlegend": false,
         "type": "scatter",
         "x": [
          "2024-09-14T09:00:00",
          "2024-09-14T09:00:00"
         ],
         "xaxis": "x",
         "y": [
          59972.89,
          60000
         ],
         "yaxis": "y"
        },
        {
         "base": 59973.99,
         "marker": {
          "color": "gray",
          "line": {
           "width": 0
          }
         },
         "showlegend": false,
         "type": "bar",
         "width": 0.6,
         "x": [
          "2024-09-14T09:00:00"
         ],
         "xaxis": "x",
         "y": [
          26
         ],
         "yaxis": "y"
        },
        {
         "line": {
          "color": "gray",
          "width": 1
         },
         "mode": "lines",
         "showlegend": false,
         "type": "scatter",
         "x": [
          "2024-09-14T09:05:00",
          "2024-09-14T09:05:00"
         ],
         "xaxis": "x",
         "y": [
          59999.99,
          60043.71
         ],
         "yaxis": "y"
        },
        {
         "base": 60000,
         "marker": {
          "color": "gray",
          "line": {
           "width": 0
          }
         },
         "showlegend": false,
         "type": "bar",
         "width": 0.6,
         "x": [
          "2024-09-14T09:05:00"
         ],
         "xaxis": "x",
         "y": [
          19.989999999997963
         ],
         "yaxis": "y"
        },
        {
         "line": {
          "color": "darkgray",
          "width": 1
         },
         "mode": "lines",
         "showlegend": false,
         "type": "scatter",
         "x": [
          "2024-09-14T09:10:00",
          "2024-09-14T09:10:00"
         ],
         "xaxis": "x",
         "y": [
          60005.98,
          60020
         ],
         "yaxis": "y"
        },
        {
         "base": 60005.98,
         "marker": {
          "color": "darkgray",
          "line": {
           "width": 0
          }
         },
         "showlegend": false,
         "type": "bar",
         "width": 0.6,
         "x": [
          "2024-09-14T09:10:00"
         ],
         "xaxis": "x",
         "y": [
          14.009999999994761
         ],
         "yaxis": "y"
        },
        {
         "line": {
          "color": "darkgray",
          "width": 1
         },
         "mode": "lines",
         "showlegend": false,
         "type": "scatter",
         "x": [
          "2024-09-14T09:15:00",
          "2024-09-14T09:15:00"
         ],
         "xaxis": "x",
         "y": [
          59961.1,
          60005.99
         ],
         "yaxis": "y"
        },
        {
         "base": 59968,
         "marker": {
          "color": "darkgray",
          "line": {
           "width": 0
          }
         },
         "showlegend": false,
         "type": "bar",
         "width": 0.6,
         "x": [
          "2024-09-14T09:15:00"
         ],
         "xaxis": "x",
         "y": [
          37.9800000000032
         ],
         "yaxis": "y"
        },
        {
         "line": {
          "color": "darkgray",
          "width": 1
         },
         "mode": "lines",
         "showlegend": false,
         "type": "scatter",
         "x": [
          "2024-09-14T09:20:00",
          "2024-09-14T09:20:00"
         ],
         "xaxis": "x",
         "y": [
          59940,
          59968.01
         ],
         "yaxis": "y"
        },
        {
         "base": 59952.01,
         "marker": {
          "color": "darkgray",
          "line": {
           "width": 0
          }
         },
         "showlegend": false,
         "type": "bar",
         "width": 0.6,
         "x": [
          "2024-09-14T09:20:00"
         ],
         "xaxis": "x",
         "y": [
          15.989999999997963
         ],
         "yaxis": "y"
        },
        {
         "line": {
          "color": "gray",
          "width": 1
         },
         "mode": "lines",
         "showlegend": false,
         "type": "scatter",
         "x": [
          "2024-09-14T09:25:00",
          "2024-09-14T09:25:00"
         ],
         "xaxis": "x",
         "y": [
          59952.01,
          59965.99
         ],
         "yaxis": "y"
        },
        {
         "base": 59952.01,
         "marker": {
          "color": "gray",
          "line": {
           "width": 0
          }
         },
         "showlegend": false,
         "type": "bar",
         "width": 0.6,
         "x": [
          "2024-09-14T09:25:00"
         ],
         "xaxis": "x",
         "y": [
          12.319999999999709
         ],
         "yaxis": "y"
        },
        {
         "line": {
          "color": "red",
          "width": 1
         },
         "mode": "lines",
         "showlegend": false,
         "type": "scatter",
         "x": [
          "2024-09-14T09:30:00",
          "2024-09-14T09:30:00"
         ],
         "xaxis": "x",
         "y": [
          59924.82,
          59976
         ],
         "yaxis": "y"
        },
        {
         "base": 59960,
         "marker": {
          "color": "red",
          "line": {
           "width": 0
          }
         },
         "showlegend": false,
         "type": "bar",
         "width": 0.6,
         "x": [
          "2024-09-14T09:30:00"
         ],
         "xaxis": "x",
         "y": [
          4.330000000001746
         ],
         "yaxis": "y"
        },
        {
         "line": {
          "color": "blue",
          "width": 1
         },
         "mode": "lines",
         "showlegend": false,
         "type": "scatter",
         "x": [
          "2024-09-14T09:35:00",
          "2024-09-14T09:35:00"
         ],
         "xaxis": "x",
         "y": [
          59950,
          59988
         ],
         "yaxis": "y"
        },
        {
         "base": 59959.99,
         "marker": {
          "color": "blue",
          "line": {
           "width": 0
          }
         },
         "showlegend": false,
         "type": "bar",
         "width": 0.6,
         "x": [
          "2024-09-14T09:35:00"
         ],
         "xaxis": "x",
         "y": [
          10
         ],
         "yaxis": "y"
        },
        {
         "line": {
          "color": "red",
          "width": 1
         },
         "mode": "lines",
         "showlegend": false,
         "type": "scatter",
         "x": [
          "2024-09-14T09:40:00",
          "2024-09-14T09:40:00"
         ],
         "xaxis": "x",
         "y": [
          59858.58,
          59970
         ],
         "yaxis": "y"
        },
        {
         "base": 59931.99,
         "marker": {
          "color": "red",
          "line": {
           "width": 0
          }
         },
         "showlegend": false,
         "type": "bar",
         "width": 0.6,
         "x": [
          "2024-09-14T09:40:00"
         ],
         "xaxis": "x",
         "y": [
          38.01000000000204
         ],
         "yaxis": "y"
        },
        {
         "line": {
          "color": "darkgray",
          "width": 1
         },
         "mode": "lines",
         "showlegend": false,
         "type": "scatter",
         "x": [
          "2024-09-14T09:45:00",
          "2024-09-14T09:45:00"
         ],
         "xaxis": "x",
         "y": [
          59868.02,
          59932
         ],
         "yaxis": "y"
        },
        {
         "base": 59929.78,
         "marker": {
          "color": "darkgray",
          "line": {
           "width": 0
          }
         },
         "showlegend": false,
         "type": "bar",
         "width": 0.6,
         "x": [
          "2024-09-14T09:45:00"
         ],
         "xaxis": "x",
         "y": [
          2.220000000001164
         ],
         "yaxis": "y"
        },
        {
         "line": {
          "color": "blue",
          "width": 1
         },
         "mode": "lines",
         "showlegend": false,
         "type": "scatter",
         "x": [
          "2024-09-14T09:50:00",
          "2024-09-14T09:50:00"
         ],
         "xaxis": "x",
         "y": [
          59929.78,
          60032.56
         ],
         "yaxis": "y"
        },
        {
         "base": 59929.78,
         "marker": {
          "color": "blue",
          "line": {
           "width": 0
          }
         },
         "showlegend": false,
         "type": "bar",
         "width": 0.6,
         "x": [
          "2024-09-14T09:50:00"
         ],
         "xaxis": "x",
         "y": [
          102.77000000000407
         ],
         "yaxis": "y"
        },
        {
         "line": {
          "color": "blue",
          "width": 1
         },
         "mode": "lines",
         "showlegend": false,
         "type": "scatter",
         "x": [
          "2024-09-14T09:55:00",
          "2024-09-14T09:55:00"
         ],
         "xaxis": "x",
         "y": [
          60031.99,
          60070.21
         ],
         "yaxis": "y"
        },
        {
         "base": 60032.55,
         "marker": {
          "color": "blue",
          "line": {
           "width": 0
          }
         },
         "showlegend": false,
         "type": "bar",
         "width": 0.6,
         "x": [
          "2024-09-14T09:55:00"
         ],
         "xaxis": "x",
         "y": [
          37.64999999999418
         ],
         "yaxis": "y"
        },
        {
         "line": {
          "color": "darkgray",
          "width": 1
         },
         "mode": "lines",
         "showlegend": false,
         "type": "scatter",
         "x": [
          "2024-09-14T10:00:00",
          "2024-09-14T10:00:00"
         ],
         "xaxis": "x",
         "y": [
          60009.99,
          60070.21
         ],
         "yaxis": "y"
        },
        {
         "base": 60010,
         "marker": {
          "color": "darkgray",
          "line": {
           "width": 0
          }
         },
         "showlegend": false,
         "type": "bar",
         "width": 0.6,
         "x": [
          "2024-09-14T10:00:00"
         ],
         "xaxis": "x",
         "y": [
          60.19999999999709
         ],
         "yaxis": "y"
        },
        {
         "line": {
          "color": "darkgray",
          "width": 1
         },
         "mode": "lines",
         "showlegend": false,
         "type": "scatter",
         "x": [
          "2024-09-14T10:05:00",
          "2024-09-14T10:05:00"
         ],
         "xaxis": "x",
         "y": [
          59994,
          60027.88
         ],
         "yaxis": "y"
        },
        {
         "base": 60009.75,
         "marker": {
          "color": "darkgray",
          "line": {
           "width": 0
          }
         },
         "showlegend": false,
         "type": "bar",
         "width": 0.6,
         "x": [
          "2024-09-14T10:05:00"
         ],
         "xaxis": "x",
         "y": [
          0.23999999999796273
         ],
         "yaxis": "y"
        },
        {
         "line": {
          "color": "darkgray",
          "width": 1
         },
         "mode": "lines",
         "showlegend": false,
         "type": "scatter",
         "x": [
          "2024-09-14T10:10:00",
          "2024-09-14T10:10:00"
         ],
         "xaxis": "x",
         "y": [
          59961.1,
          60009.75
         ],
         "yaxis": "y"
        },
        {
         "base": 60008,
         "marker": {
          "color": "darkgray",
          "line": {
           "width": 0
          }
         },
         "showlegend": false,
         "type": "bar",
         "width": 0.6,
         "x": [
          "2024-09-14T10:10:00"
         ],
         "xaxis": "x",
         "y": [
          1.7399999999979627
         ],
         "yaxis": "y"
        },
        {
         "line": {
          "color": "darkgray",
          "width": 1
         },
         "mode": "lines",
         "showlegend": false,
         "type": "scatter",
         "x": [
          "2024-09-14T10:15:00",
          "2024-09-14T10:15:00"
         ],
         "xaxis": "x",
         "y": [
          59934.01,
          60007.99
         ],
         "yaxis": "y"
        },
        {
         "base": 59964,
         "marker": {
          "color": "darkgray",
          "line": {
           "width": 0
          }
         },
         "showlegend": false,
         "type": "bar",
         "width": 0.6,
         "x": [
          "2024-09-14T10:15:00"
         ],
         "xaxis": "x",
         "y": [
          43.98999999999796
         ],
         "yaxis": "y"
        },
        {
         "line": {
          "color": "darkgray",
          "width": 1
         },
         "mode": "lines",
         "showlegend": false,
         "type": "scatter",
         "x": [
          "2024-09-14T10:20:00",
          "2024-09-14T10:20:00"
         ],
         "xaxis": "x",
         "y": [
          59929.4,
          59964.01
         ],
         "yaxis": "y"
        },
        {
         "base": 59929.4,
         "marker": {
          "color": "darkgray",
          "line": {
           "width": 0
          }
         },
         "showlegend": false,
         "type": "bar",
         "width": 0.6,
         "x": [
          "2024-09-14T10:20:00"
         ],
         "xaxis": "x",
         "y": [
          34.61000000000058
         ],
         "yaxis": "y"
        },
        {
         "line": {
          "color": "gray",
          "width": 1
         },
         "mode": "lines",
         "showlegend": false,
         "type": "scatter",
         "x": [
          "2024-09-14T10:25:00",
          "2024-09-14T10:25:00"
         ],
         "xaxis": "x",
         "y": [
          59929.4,
          59990.38
         ],
         "yaxis": "y"
        },
        {
         "base": 59929.41,
         "marker": {
          "color": "gray",
          "line": {
           "width": 0
          }
         },
         "showlegend": false,
         "type": "bar",
         "width": 0.6,
         "x": [
          "2024-09-14T10:25:00"
         ],
         "xaxis": "x",
         "y": [
          52.549999999995634
         ],
         "yaxis": "y"
        },
        {
         "line": {
          "color": "darkgray",
          "width": 1
         },
         "mode": "lines",
         "showlegend": false,
         "type": "scatter",
         "x": [
          "2024-09-14T10:30:00",
          "2024-09-14T10:30:00"
         ],
         "xaxis": "x",
         "y": [
          59942,
          59981.97
         ],
         "yaxis": "y"
        },
        {
         "base": 59948.01,
         "marker": {
          "color": "darkgray",
          "line": {
           "width": 0
          }
         },
         "showlegend": false,
         "type": "bar",
         "width": 0.6,
         "x": [
          "2024-09-14T10:30:00"
         ],
         "xaxis": "x",
         "y": [
          33.94999999999709
         ],
         "yaxis": "y"
        },
        {
         "line": {
          "color": "gray",
          "width": 1
         },
         "mode": "lines",
         "showlegend": false,
         "type": "scatter",
         "x": [
          "2024-09-14T10:35:00",
          "2024-09-14T10:35:00"
         ],
         "xaxis": "x",
         "y": [
          59948,
          59974
         ],
         "yaxis": "y"
        },
        {
         "base": 59948.01,
         "marker": {
          "color": "gray",
          "line": {
           "width": 0
          }
         },
         "showlegend": false,
         "type": "bar",
         "width": 0.6,
         "x": [
          "2024-09-14T10:35:00"
         ],
         "xaxis": "x",
         "y": [
          5.82999999999447
         ],
         "yaxis": "y"
        },
        {
         "line": {
          "color": "fuchsia",
          "width": 1
         },
         "mode": "lines",
         "showlegend": false,
         "type": "scatter",
         "x": [
          "2024-09-14T10:40:00",
          "2024-09-14T10:40:00"
         ],
         "xaxis": "x",
         "y": [
          59897.86,
          59953.84
         ],
         "yaxis": "y"
        },
        {
         "base": 59929,
         "marker": {
          "color": "fuchsia",
          "line": {
           "width": 0
          }
         },
         "showlegend": false,
         "type": "bar",
         "width": 0.6,
         "x": [
          "2024-09-14T10:40:00"
         ],
         "xaxis": "x",
         "y": [
          24.830000000001746
         ],
         "yaxis": "y"
        },
        {
         "line": {
          "color": "red",
          "width": 1
         },
         "mode": "lines",
         "showlegend": false,
         "type": "scatter",
         "x": [
          "2024-09-14T10:45:00",
          "2024-09-14T10:45:00"
         ],
         "xaxis": "x",
         "y": [
          59789.32,
          59929
         ],
         "yaxis": "y"
        },
        {
         "base": 59823.99,
         "marker": {
          "color": "red",
          "line": {
           "width": 0
          }
         },
         "showlegend": false,
         "type": "bar",
         "width": 0.6,
         "x": [
          "2024-09-14T10:45:00"
         ],
         "xaxis": "x",
         "y": [
          105.01000000000204
         ],
         "yaxis": "y"
        },
        {
         "line": {
          "color": "darkgray",
          "width": 1
         },
         "mode": "lines",
         "showlegend": false,
         "type": "scatter",
         "x": [
          "2024-09-14T10:50:00",
          "2024-09-14T10:50:00"
         ],
         "xaxis": "x",
         "y": [
          59814.01,
          59863.56
         ],
         "yaxis": "y"
        },
        {
         "base": 59814.02,
         "marker": {
          "color": "darkgray",
          "line": {
           "width": 0
          }
         },
         "showlegend": false,
         "type": "bar",
         "width": 0.6,
         "x": [
          "2024-09-14T10:50:00"
         ],
         "xaxis": "x",
         "y": [
          9.970000000001164
         ],
         "yaxis": "y"
        },
        {
         "line": {
          "color": "gray",
          "width": 1
         },
         "mode": "lines",
         "showlegend": false,
         "type": "scatter",
         "x": [
          "2024-09-14T10:55:00",
          "2024-09-14T10:55:00"
         ],
         "xaxis": "x",
         "y": [
          59792.01,
          59864
         ],
         "yaxis": "y"
        },
        {
         "base": 59814.02,
         "marker": {
          "color": "gray",
          "line": {
           "width": 0
          }
         },
         "showlegend": false,
         "type": "bar",
         "width": 0.6,
         "x": [
          "2024-09-14T10:55:00"
         ],
         "xaxis": "x",
         "y": [
          37.06999999999971
         ],
         "yaxis": "y"
        },
        {
         "line": {
          "color": "darkgray",
          "width": 1
         },
         "mode": "lines",
         "showlegend": false,
         "type": "scatter",
         "x": [
          "2024-09-14T11:00:00",
          "2024-09-14T11:00:00"
         ],
         "xaxis": "x",
         "y": [
          59784,
          59851.1
         ],
         "yaxis": "y"
        },
        {
         "base": 59792.01,
         "marker": {
          "color": "darkgray",
          "line": {
           "width": 0
          }
         },
         "showlegend": false,
         "type": "bar",
         "width": 0.6,
         "x": [
          "2024-09-14T11:00:00"
         ],
         "xaxis": "x",
         "y": [
          59.08999999999651
         ],
         "yaxis": "y"
        },
        {
         "line": {
          "color": "darkgray",
          "width": 1
         },
         "mode": "lines",
         "showlegend": false,
         "type": "scatter",
         "x": [
          "2024-09-14T11:05:00",
          "2024-09-14T11:05:00"
         ],
         "xaxis": "x",
         "y": [
          59784,
          59820
         ],
         "yaxis": "y"
        },
        {
         "base": 59784,
         "marker": {
          "color": "darkgray",
          "line": {
           "width": 0
          }
         },
         "showlegend": false,
         "type": "bar",
         "width": 0.6,
         "x": [
          "2024-09-14T11:05:00"
         ],
         "xaxis": "x",
         "y": [
          8.019999999996799
         ],
         "yaxis": "y"
        },
        {
         "line": {
          "color": "red",
          "width": 1
         },
         "mode": "lines",
         "showlegend": false,
         "type": "scatter",
         "x": [
          "2024-09-14T11:10:00",
          "2024-09-14T11:10:00"
         ],
         "xaxis": "x",
         "y": [
          59699.17,
          59784.01
         ],
         "yaxis": "y"
        },
        {
         "base": 59756,
         "marker": {
          "color": "red",
          "line": {
           "width": 0
          }
         },
         "showlegend": false,
         "type": "bar",
         "width": 0.6,
         "x": [
          "2024-09-14T11:10:00"
         ],
         "xaxis": "x",
         "y": [
          28
         ],
         "yaxis": "y"
        },
        {
         "line": {
          "color": "gray",
          "width": 1
         },
         "mode": "lines",
         "showlegend": false,
         "type": "scatter",
         "x": [
          "2024-09-14T11:15:00",
          "2024-09-14T11:15:00"
         ],
         "xaxis": "x",
         "y": [
          59732.8,
          59830
         ],
         "yaxis": "y"
        },
        {
         "base": 59755.99,
         "marker": {
          "color": "gray",
          "line": {
           "width": 0
          }
         },
         "showlegend": false,
         "type": "bar",
         "width": 0.6,
         "x": [
          "2024-09-14T11:15:00"
         ],
         "xaxis": "x",
         "y": [
          45.01000000000204
         ],
         "yaxis": "y"
        },
        {
         "line": {
          "color": "darkgray",
          "width": 1
         },
         "mode": "lines",
         "showlegend": false,
         "type": "scatter",
         "x": [
          "2024-09-14T11:20:00",
          "2024-09-14T11:20:00"
         ],
         "xaxis": "x",
         "y": [
          59742,
          59812
         ],
         "yaxis": "y"
        },
        {
         "base": 59742.01,
         "marker": {
          "color": "darkgray",
          "line": {
           "width": 0
          }
         },
         "showlegend": false,
         "type": "bar",
         "width": 0.6,
         "x": [
          "2024-09-14T11:20:00"
         ],
         "xaxis": "x",
         "y": [
          58.979999999995925
         ],
         "yaxis": "y"
        },
        {
         "line": {
          "color": "gray",
          "width": 1
         },
         "mode": "lines",
         "showlegend": false,
         "type": "scatter",
         "x": [
          "2024-09-14T11:25:00",
          "2024-09-14T11:25:00"
         ],
         "xaxis": "x",
         "y": [
          59742,
          59810
         ],
         "yaxis": "y"
        },
        {
         "base": 59742,
         "marker": {
          "color": "gray",
          "line": {
           "width": 0
          }
         },
         "showlegend": false,
         "type": "bar",
         "width": 0.6,
         "x": [
          "2024-09-14T11:25:00"
         ],
         "xaxis": "x",
         "y": [
          48.20999999999913
         ],
         "yaxis": "y"
        },
        {
         "line": {
          "color": "darkgray",
          "width": 1
         },
         "mode": "lines",
         "showlegend": false,
         "type": "scatter",
         "x": [
          "2024-09-14T11:30:00",
          "2024-09-14T11:30:00"
         ],
         "xaxis": "x",
         "y": [
          59766,
          59818.49
         ],
         "yaxis": "y"
        },
        {
         "base": 59766,
         "marker": {
          "color": "darkgray",
          "line": {
           "width": 0
          }
         },
         "showlegend": false,
         "type": "bar",
         "width": 0.6,
         "x": [
          "2024-09-14T11:30:00"
         ],
         "xaxis": "x",
         "y": [
          24.19999999999709
         ],
         "yaxis": "y"
        },
        {
         "line": {
          "color": "darkgray",
          "width": 1
         },
         "mode": "lines",
         "showlegend": false,
         "type": "scatter",
         "x": [
          "2024-09-14T11:35:00",
          "2024-09-14T11:35:00"
         ],
         "xaxis": "x",
         "y": [
          59734,
          59766.01
         ],
         "yaxis": "y"
        },
        {
         "base": 59737.99,
         "marker": {
          "color": "darkgray",
          "line": {
           "width": 0
          }
         },
         "showlegend": false,
         "type": "bar",
         "width": 0.6,
         "x": [
          "2024-09-14T11:35:00"
         ],
         "xaxis": "x",
         "y": [
          28.010000000002037
         ],
         "yaxis": "y"
        },
        {
         "line": {
          "color": "darkgray",
          "width": 1
         },
         "mode": "lines",
         "showlegend": false,
         "type": "scatter",
         "x": [
          "2024-09-14T11:40:00",
          "2024-09-14T11:40:00"
         ],
         "xaxis": "x",
         "y": [
          59650,
          59737.99
         ],
         "yaxis": "y"
        },
        {
         "base": 59687.4,
         "marker": {
          "color": "darkgray",
          "line": {
           "width": 0
          }
         },
         "showlegend": false,
         "type": "bar",
         "width": 0.6,
         "x": [
          "2024-09-14T11:40:00"
         ],
         "xaxis": "x",
         "y": [
          50.580000000001746
         ],
         "yaxis": "y"
        },
        {
         "line": {
          "color": "darkgray",
          "width": 1
         },
         "mode": "lines",
         "showlegend": false,
         "type": "scatter",
         "x": [
          "2024-09-14T11:45:00",
          "2024-09-14T11:45:00"
         ],
         "xaxis": "x",
         "y": [
          59605.98,
          59687.4
         ],
         "yaxis": "y"
        },
        {
         "base": 59616.01,
         "marker": {
          "color": "darkgray",
          "line": {
           "width": 0
          }
         },
         "showlegend": false,
         "type": "bar",
         "width": 0.6,
         "x": [
          "2024-09-14T11:45:00"
         ],
         "xaxis": "x",
         "y": [
          71.38999999999942
         ],
         "yaxis": "y"
        },
        {
         "line": {
          "color": "gray",
          "width": 1
         },
         "mode": "lines",
         "showlegend": false,
         "type": "scatter",
         "x": [
          "2024-09-14T11:50:00",
          "2024-09-14T11:50:00"
         ],
         "xaxis": "x",
         "y": [
          59613.05,
          59722
         ],
         "yaxis": "y"
        },
        {
         "base": 59616.01,
         "marker": {
          "color": "gray",
          "line": {
           "width": 0
          }
         },
         "showlegend": false,
         "type": "bar",
         "width": 0.6,
         "x": [
          "2024-09-14T11:50:00"
         ],
         "xaxis": "x",
         "y": [
          105.98999999999796
         ],
         "yaxis": "y"
        },
        {
         "line": {
          "color": "darkgray",
          "width": 1
         },
         "mode": "lines",
         "showlegend": false,
         "type": "scatter",
         "x": [
          "2024-09-14T11:55:00",
          "2024-09-14T11:55:00"
         ],
         "xaxis": "x",
         "y": [
          59699,
          59722
         ],
         "yaxis": "y"
        },
        {
         "base": 59706.39,
         "marker": {
          "color": "darkgray",
          "line": {
           "width": 0
          }
         },
         "showlegend": false,
         "type": "bar",
         "width": 0.6,
         "x": [
          "2024-09-14T11:55:00"
         ],
         "xaxis": "x",
         "y": [
          15.599999999998545
         ],
         "yaxis": "y"
        },
        {
         "line": {
          "color": "darkgray",
          "width": 1
         },
         "mode": "lines",
         "showlegend": false,
         "type": "scatter",
         "x": [
          "2024-09-14T12:00:00",
          "2024-09-14T12:00:00"
         ],
         "xaxis": "x",
         "y": [
          59654.9,
          59706.4
         ],
         "yaxis": "y"
        },
        {
         "base": 59654.9,
         "marker": {
          "color": "darkgray",
          "line": {
           "width": 0
          }
         },
         "showlegend": false,
         "type": "bar",
         "width": 0.6,
         "x": [
          "2024-09-14T12:00:00"
         ],
         "xaxis": "x",
         "y": [
          51.5
         ],
         "yaxis": "y"
        },
        {
         "line": {
          "color": "lime",
          "width": 1
         },
         "mode": "lines",
         "showlegend": false,
         "type": "scatter",
         "x": [
          "2024-09-14T12:05:00",
          "2024-09-14T12:05:00"
         ],
         "xaxis": "x",
         "y": [
          59626.01,
          59756
         ],
         "yaxis": "y"
        },
        {
         "base": 59654.9,
         "marker": {
          "color": "lime",
          "line": {
           "width": 0
          }
         },
         "showlegend": false,
         "type": "bar",
         "width": 0.6,
         "x": [
          "2024-09-14T12:05:00"
         ],
         "xaxis": "x",
         "y": [
          98.04999999999563
         ],
         "yaxis": "y"
        },
        {
         "line": {
          "color": "gray",
          "width": 1
         },
         "mode": "lines",
         "showlegend": false,
         "type": "scatter",
         "x": [
          "2024-09-14T12:10:00",
          "2024-09-14T12:10:00"
         ],
         "xaxis": "x",
         "y": [
          59706,
          59774
         ],
         "yaxis": "y"
        },
        {
         "base": 59752.95,
         "marker": {
          "color": "gray",
          "line": {
           "width": 0
          }
         },
         "showlegend": false,
         "type": "bar",
         "width": 0.6,
         "x": [
          "2024-09-14T12:10:00"
         ],
         "xaxis": "x",
         "y": [
          21.040000000000873
         ],
         "yaxis": "y"
        },
        {
         "line": {
          "color": "darkgray",
          "width": 1
         },
         "mode": "lines",
         "showlegend": false,
         "type": "scatter",
         "x": [
          "2024-09-14T12:15:00",
          "2024-09-14T12:15:00"
         ],
         "xaxis": "x",
         "y": [
          59746,
          59776
         ],
         "yaxis": "y"
        },
        {
         "base": 59772.01,
         "marker": {
          "color": "darkgray",
          "line": {
           "width": 0
          }
         },
         "showlegend": false,
         "type": "bar",
         "width": 0.6,
         "x": [
          "2024-09-14T12:15:00"
         ],
         "xaxis": "x",
         "y": [
          1.9799999999959255
         ],
         "yaxis": "y"
        },
        {
         "line": {
          "color": "gray",
          "width": 1
         },
         "mode": "lines",
         "showlegend": false,
         "type": "scatter",
         "x": [
          "2024-09-14T12:20:00",
          "2024-09-14T12:20:00"
         ],
         "xaxis": "x",
         "y": [
          59750,
          59781.4
         ],
         "yaxis": "y"
        },
        {
         "base": 59772.01,
         "marker": {
          "color": "gray",
          "line": {
           "width": 0
          }
         },
         "showlegend": false,
         "type": "bar",
         "width": 0.6,
         "x": [
          "2024-09-14T12:20:00"
         ],
         "xaxis": "x",
         "y": [
          9.389999999999418
         ],
         "yaxis": "y"
        },
        {
         "line": {
          "color": "gray",
          "width": 1
         },
         "mode": "lines",
         "showlegend": false,
         "type": "scatter",
         "x": [
          "2024-09-14T12:25:00",
          "2024-09-14T12:25:00"
         ],
         "xaxis": "x",
         "y": [
          59781.39,
          59821.16
         ],
         "yaxis": "y"
        },
        {
         "base": 59781.39,
         "marker": {
          "color": "gray",
          "line": {
           "width": 0
          }
         },
         "showlegend": false,
         "type": "bar",
         "width": 0.6,
         "x": [
          "2024-09-14T12:25:00"
         ],
         "xaxis": "x",
         "y": [
          32.62999999999738
         ],
         "yaxis": "y"
        },
        {
         "line": {
          "color": "gray",
          "width": 1
         },
         "mode": "lines",
         "showlegend": false,
         "type": "scatter",
         "x": [
          "2024-09-14T12:30:00",
          "2024-09-14T12:30:00"
         ],
         "xaxis": "x",
         "y": [
          59788.01,
          59817.22
         ],
         "yaxis": "y"
        },
        {
         "base": 59814.02,
         "marker": {
          "color": "gray",
          "line": {
           "width": 0
          }
         },
         "showlegend": false,
         "type": "bar",
         "width": 0.6,
         "x": [
          "2024-09-14T12:30:00"
         ],
         "xaxis": "x",
         "y": [
          3.1900000000023283
         ],
         "yaxis": "y"
        },
        {
         "line": {
          "color": "darkgray",
          "width": 1
         },
         "mode": "lines",
         "showlegend": false,
         "type": "scatter",
         "x": [
          "2024-09-14T12:35:00",
          "2024-09-14T12:35:00"
         ],
         "xaxis": "x",
         "y": [
          59760,
          59817.22
         ],
         "yaxis": "y"
        },
        {
         "base": 59760.01,
         "marker": {
          "color": "darkgray",
          "line": {
           "width": 0
          }
         },
         "showlegend": false,
         "type": "bar",
         "width": 0.6,
         "x": [
          "2024-09-14T12:35:00"
         ],
         "xaxis": "x",
         "y": [
          57.19999999999709
         ],
         "yaxis": "y"
        },
        {
         "line": {
          "color": "gray",
          "width": 1
         },
         "mode": "lines",
         "showlegend": false,
         "type": "scatter",
         "x": [
          "2024-09-14T12:40:00",
          "2024-09-14T12:40:00"
         ],
         "xaxis": "x",
         "y": [
          59760,
          59774.01
         ],
         "yaxis": "y"
        },
        {
         "base": 59760.01,
         "marker": {
          "color": "gray",
          "line": {
           "width": 0
          }
         },
         "showlegend": false,
         "type": "bar",
         "width": 0.6,
         "x": [
          "2024-09-14T12:40:00"
         ],
         "xaxis": "x",
         "y": [
          9.519999999996799
         ],
         "yaxis": "y"
        },
        {
         "line": {
          "color": "gray",
          "width": 1
         },
         "mode": "lines",
         "showlegend": false,
         "type": "scatter",
         "x": [
          "2024-09-14T12:45:00",
          "2024-09-14T12:45:00"
         ],
         "xaxis": "x",
         "y": [
          59766.23,
          59851.27
         ],
         "yaxis": "y"
        },
        {
         "base": 59769.54,
         "marker": {
          "color": "gray",
          "line": {
           "width": 0
          }
         },
         "showlegend": false,
         "type": "bar",
         "width": 0.6,
         "x": [
          "2024-09-14T12:45:00"
         ],
         "xaxis": "x",
         "y": [
          60.470000000001164
         ],
         "yaxis": "y"
        },
        {
         "line": {
          "color": "darkgray",
          "width": 1
         },
         "mode": "lines",
         "showlegend": false,
         "type": "scatter",
         "x": [
          "2024-09-14T12:50:00",
          "2024-09-14T12:50:00"
         ],
         "xaxis": "x",
         "y": [
          59798.01,
          59835.17
         ],
         "yaxis": "y"
        },
        {
         "base": 59811.97,
         "marker": {
          "color": "darkgray",
          "line": {
           "width": 0
          }
         },
         "showlegend": false,
         "type": "bar",
         "width": 0.6,
         "x": [
          "2024-09-14T12:50:00"
         ],
         "xaxis": "x",
         "y": [
          18.029999999998836
         ],
         "yaxis": "y"
        },
        {
         "line": {
          "color": "darkgray",
          "width": 1
         },
         "mode": "lines",
         "showlegend": false,
         "type": "scatter",
         "x": [
          "2024-09-14T12:55:00",
          "2024-09-14T12:55:00"
         ],
         "xaxis": "x",
         "y": [
          59794.01,
          59818
         ],
         "yaxis": "y"
        },
        {
         "base": 59794.03,
         "marker": {
          "color": "darkgray",
          "line": {
           "width": 0
          }
         },
         "showlegend": false,
         "type": "bar",
         "width": 0.6,
         "x": [
          "2024-09-14T12:55:00"
         ],
         "xaxis": "x",
         "y": [
          17.93000000000029
         ],
         "yaxis": "y"
        },
        {
         "line": {
          "color": "darkgray",
          "width": 1
         },
         "mode": "lines",
         "showlegend": false,
         "type": "scatter",
         "x": [
          "2024-09-14T13:00:00",
          "2024-09-14T13:00:00"
         ],
         "xaxis": "x",
         "y": [
          59758.05,
          59794.03
         ],
         "yaxis": "y"
        },
        {
         "base": 59758.05,
         "marker": {
          "color": "darkgray",
          "line": {
           "width": 0
          }
         },
         "showlegend": false,
         "type": "bar",
         "width": 0.6,
         "x": [
          "2024-09-14T13:00:00"
         ],
         "xaxis": "x",
         "y": [
          35.979999999995925
         ],
         "yaxis": "y"
        },
        {
         "line": {
          "color": "darkgray",
          "width": 1
         },
         "mode": "lines",
         "showlegend": false,
         "type": "scatter",
         "x": [
          "2024-09-14T13:05:00",
          "2024-09-14T13:05:00"
         ],
         "xaxis": "x",
         "y": [
          59743.77,
          59769.99
         ],
         "yaxis": "y"
        },
        {
         "base": 59748.01,
         "marker": {
          "color": "darkgray",
          "line": {
           "width": 0
          }
         },
         "showlegend": false,
         "type": "bar",
         "width": 0.6,
         "x": [
          "2024-09-14T13:05:00"
         ],
         "xaxis": "x",
         "y": [
          10.040000000000873
         ],
         "yaxis": "y"
        },
        {
         "line": {
          "color": "gray",
          "width": 1
         },
         "mode": "lines",
         "showlegend": false,
         "type": "scatter",
         "x": [
          "2024-09-14T13:10:00",
          "2024-09-14T13:10:00"
         ],
         "xaxis": "x",
         "y": [
          59747.96,
          59790.05
         ],
         "yaxis": "y"
        },
        {
         "base": 59748,
         "marker": {
          "color": "gray",
          "line": {
           "width": 0
          }
         },
         "showlegend": false,
         "type": "bar",
         "width": 0.6,
         "x": [
          "2024-09-14T13:10:00"
         ],
         "xaxis": "x",
         "y": [
          16
         ],
         "yaxis": "y"
        },
        {
         "line": {
          "color": "red",
          "width": 1
         },
         "mode": "lines",
         "showlegend": false,
         "type": "scatter",
         "x": [
          "2024-09-14T13:15:00",
          "2024-09-14T13:15:00"
         ],
         "xaxis": "x",
         "y": [
          59685.01,
          59764.01
         ],
         "yaxis": "y"
        },
        {
         "base": 59698,
         "marker": {
          "color": "red",
          "line": {
           "width": 0
          }
         },
         "showlegend": false,
         "type": "bar",
         "width": 0.6,
         "x": [
          "2024-09-14T13:15:00"
         ],
         "xaxis": "x",
         "y": [
          66
         ],
         "yaxis": "y"
        },
        {
         "line": {
          "color": "gray",
          "width": 1
         },
         "mode": "lines",
         "showlegend": false,
         "type": "scatter",
         "x": [
          "2024-09-14T13:20:00",
          "2024-09-14T13:20:00"
         ],
         "xaxis": "x",
         "y": [
          59664,
          59718.98
         ],
         "yaxis": "y"
        },
        {
         "base": 59697.99,
         "marker": {
          "color": "gray",
          "line": {
           "width": 0
          }
         },
         "showlegend": false,
         "type": "bar",
         "width": 0.6,
         "x": [
          "2024-09-14T13:20:00"
         ],
         "xaxis": "x",
         "y": [
          3.1200000000026193
         ],
         "yaxis": "y"
        },
        {
         "line": {
          "color": "darkgray",
          "width": 1
         },
         "mode": "lines",
         "showlegend": false,
         "type": "scatter",
         "x": [
          "2024-09-14T13:25:00",
          "2024-09-14T13:25:00"
         ],
         "xaxis": "x",
         "y": [
          59690,
          59720.83
         ],
         "yaxis": "y"
        },
        {
         "base": 59690.02,
         "marker": {
          "color": "darkgray",
          "line": {
           "width": 0
          }
         },
         "showlegend": false,
         "type": "bar",
         "width": 0.6,
         "x": [
          "2024-09-14T13:25:00"
         ],
         "xaxis": "x",
         "y": [
          11.10000000000582
         ],
         "yaxis": "y"
        },
        {
         "line": {
          "color": "lime",
          "width": 1
         },
         "mode": "lines",
         "showlegend": false,
         "type": "scatter",
         "x": [
          "2024-09-14T13:30:00",
          "2024-09-14T13:30:00"
         ],
         "xaxis": "x",
         "y": [
          59646,
          59740
         ],
         "yaxis": "y"
        },
        {
         "base": 59690.02,
         "marker": {
          "color": "lime",
          "line": {
           "width": 0
          }
         },
         "showlegend": false,
         "type": "bar",
         "width": 0.6,
         "x": [
          "2024-09-14T13:30:00"
         ],
         "xaxis": "x",
         "y": [
          37.9800000000032
         ],
         "yaxis": "y"
        },
        {
         "line": {
          "color": "darkgray",
          "width": 1
         },
         "mode": "lines",
         "showlegend": false,
         "type": "scatter",
         "x": [
          "2024-09-14T13:35:00",
          "2024-09-14T13:35:00"
         ],
         "xaxis": "x",
         "y": [
          59688,
          59734
         ],
         "yaxis": "y"
        },
        {
         "base": 59698,
         "marker": {
          "color": "darkgray",
          "line": {
           "width": 0
          }
         },
         "showlegend": false,
         "type": "bar",
         "width": 0.6,
         "x": [
          "2024-09-14T13:35:00"
         ],
         "xaxis": "x",
         "y": [
          30.010000000002037
         ],
         "yaxis": "y"
        },
        {
         "line": {
          "color": "gray",
          "width": 1
         },
         "mode": "lines",
         "showlegend": false,
         "type": "scatter",
         "x": [
          "2024-09-14T13:40:00",
          "2024-09-14T13:40:00"
         ],
         "xaxis": "x",
         "y": [
          59688,
          59732
         ],
         "yaxis": "y"
        },
        {
         "base": 59698,
         "marker": {
          "color": "gray",
          "line": {
           "width": 0
          }
         },
         "showlegend": false,
         "type": "bar",
         "width": 0.6,
         "x": [
          "2024-09-14T13:40:00"
         ],
         "xaxis": "x",
         "y": [
          33.98999999999796
         ],
         "yaxis": "y"
        },
        {
         "line": {
          "color": "darkgray",
          "width": 1
         },
         "mode": "lines",
         "showlegend": false,
         "type": "scatter",
         "x": [
          "2024-09-14T13:45:00",
          "2024-09-14T13:45:00"
         ],
         "xaxis": "x",
         "y": [
          59720.93,
          59761.1
         ],
         "yaxis": "y"
        },
        {
         "base": 59728.24,
         "marker": {
          "color": "darkgray",
          "line": {
           "width": 0
          }
         },
         "showlegend": false,
         "type": "bar",
         "width": 0.6,
         "x": [
          "2024-09-14T13:45:00"
         ],
         "xaxis": "x",
         "y": [
          3.75
         ],
         "yaxis": "y"
        },
        {
         "line": {
          "color": "gray",
          "width": 1
         },
         "mode": "lines",
         "showlegend": false,
         "type": "scatter",
         "x": [
          "2024-09-14T13:50:00",
          "2024-09-14T13:50:00"
         ],
         "xaxis": "x",
         "y": [
          59714,
          59760
         ],
         "yaxis": "y"
        },
        {
         "base": 59728.25,
         "marker": {
          "color": "gray",
          "line": {
           "width": 0
          }
         },
         "showlegend": false,
         "type": "bar",
         "width": 0.6,
         "x": [
          "2024-09-14T13:50:00"
         ],
         "xaxis": "x",
         "y": [
          31.75
         ],
         "yaxis": "y"
        },
        {
         "line": {
          "color": "gray",
          "width": 1
         },
         "mode": "lines",
         "showlegend": false,
         "type": "scatter",
         "x": [
          "2024-09-14T13:55:00",
          "2024-09-14T13:55:00"
         ],
         "xaxis": "x",
         "y": [
          59756.86,
          59775.32
         ],
         "yaxis": "y"
        },
        {
         "base": 59760,
         "marker": {
          "color": "gray",
          "line": {
           "width": 0
          }
         },
         "showlegend": false,
         "type": "bar",
         "width": 0.6,
         "x": [
          "2024-09-14T13:55:00"
         ],
         "xaxis": "x",
         "y": [
          9.110000000000582
         ],
         "yaxis": "y"
        },
        {
         "line": {
          "color": "gray",
          "width": 1
         },
         "mode": "lines",
         "showlegend": false,
         "type": "scatter",
         "x": [
          "2024-09-14T14:00:00",
          "2024-09-14T14:00:00"
         ],
         "xaxis": "x",
         "y": [
          59769.1,
          59778.97
         ],
         "yaxis": "y"
        },
        {
         "base": 59769.11,
         "marker": {
          "color": "gray",
          "line": {
           "width": 0
          }
         },
         "showlegend": false,
         "type": "bar",
         "width": 0.6,
         "x": [
          "2024-09-14T14:00:00"
         ],
         "xaxis": "x",
         "y": [
          2.0100000000020373
         ],
         "yaxis": "y"
        },
        {
         "line": {
          "color": "darkgray",
          "width": 1
         },
         "mode": "lines",
         "showlegend": false,
         "type": "scatter",
         "x": [
          "2024-09-14T14:05:00",
          "2024-09-14T14:05:00"
         ],
         "xaxis": "x",
         "y": [
          59742.04,
          59771.13
         ],
         "yaxis": "y"
        },
        {
         "base": 59743.02,
         "marker": {
          "color": "darkgray",
          "line": {
           "width": 0
          }
         },
         "showlegend": false,
         "type": "bar",
         "width": 0.6,
         "x": [
          "2024-09-14T14:05:00"
         ],
         "xaxis": "x",
         "y": [
          28.10000000000582
         ],
         "yaxis": "y"
        },
        {
         "line": {
          "color": "darkgray",
          "width": 1
         },
         "mode": "lines",
         "showlegend": false,
         "type": "scatter",
         "x": [
          "2024-09-14T14:10:00",
          "2024-09-14T14:10:00"
         ],
         "xaxis": "x",
         "y": [
          59706.81,
          59743.03
         ],
         "yaxis": "y"
        },
        {
         "base": 59722.02,
         "marker": {
          "color": "darkgray",
          "line": {
           "width": 0
          }
         },
         "showlegend": false,
         "type": "bar",
         "width": 0.6,
         "x": [
          "2024-09-14T14:10:00"
         ],
         "xaxis": "x",
         "y": [
          21.010000000002037
         ],
         "yaxis": "y"
        },
        {
         "line": {
          "color": "gray",
          "width": 1
         },
         "mode": "lines",
         "showlegend": false,
         "type": "scatter",
         "x": [
          "2024-09-14T14:15:00",
          "2024-09-14T14:15:00"
         ],
         "xaxis": "x",
         "y": [
          59706,
          59730.03
         ],
         "yaxis": "y"
        },
        {
         "base": 59722.02,
         "marker": {
          "color": "gray",
          "line": {
           "width": 0
          }
         },
         "showlegend": false,
         "type": "bar",
         "width": 0.6,
         "x": [
          "2024-09-14T14:15:00"
         ],
         "xaxis": "x",
         "y": [
          8.010000000002037
         ],
         "yaxis": "y"
        },
        {
         "line": {
          "color": "lime",
          "width": 1
         },
         "mode": "lines",
         "showlegend": false,
         "type": "scatter",
         "x": [
          "2024-09-14T14:20:00",
          "2024-09-14T14:20:00"
         ],
         "xaxis": "x",
         "y": [
          59731.09,
          59824
         ],
         "yaxis": "y"
        },
        {
         "base": 59731.1,
         "marker": {
          "color": "lime",
          "line": {
           "width": 0
          }
         },
         "showlegend": false,
         "type": "bar",
         "width": 0.6,
         "x": [
          "2024-09-14T14:20:00"
         ],
         "xaxis": "x",
         "y": [
          92.88999999999942
         ],
         "yaxis": "y"
        },
        {
         "line": {
          "color": "lime",
          "width": 1
         },
         "mode": "lines",
         "showlegend": false,
         "type": "scatter",
         "x": [
          "2024-09-14T14:25:00",
          "2024-09-14T14:25:00"
         ],
         "xaxis": "x",
         "y": [
          59821.03,
          59992.05
         ],
         "yaxis": "y"
        },
        {
         "base": 59824,
         "marker": {
          "color": "lime",
          "line": {
           "width": 0
          }
         },
         "showlegend": false,
         "type": "bar",
         "width": 0.6,
         "x": [
          "2024-09-14T14:25:00"
         ],
         "xaxis": "x",
         "y": [
          113.98999999999796
         ],
         "yaxis": "y"
        },
        {
         "line": {
          "color": "lime",
          "width": 1
         },
         "mode": "lines",
         "showlegend": false,
         "type": "scatter",
         "x": [
          "2024-09-14T14:30:00",
          "2024-09-14T14:30:00"
         ],
         "xaxis": "x",
         "y": [
          59933.75,
          60010
         ],
         "yaxis": "y"
        },
        {
         "base": 59938,
         "marker": {
          "color": "lime",
          "line": {
           "width": 0
          }
         },
         "showlegend": false,
         "type": "bar",
         "width": 0.6,
         "x": [
          "2024-09-14T14:30:00"
         ],
         "xaxis": "x",
         "y": [
          26.419999999998254
         ],
         "yaxis": "y"
        },
        {
         "line": {
          "color": "darkgray",
          "width": 1
         },
         "mode": "lines",
         "showlegend": false,
         "type": "scatter",
         "x": [
          "2024-09-14T14:35:00",
          "2024-09-14T14:35:00"
         ],
         "xaxis": "x",
         "y": [
          59850,
          59964.43
         ],
         "yaxis": "y"
        },
        {
         "base": 59915,
         "marker": {
          "color": "darkgray",
          "line": {
           "width": 0
          }
         },
         "showlegend": false,
         "type": "bar",
         "width": 0.6,
         "x": [
          "2024-09-14T14:35:00"
         ],
         "xaxis": "x",
         "y": [
          49.43000000000029
         ],
         "yaxis": "y"
        },
        {
         "line": {
          "color": "darkgray",
          "width": 1
         },
         "mode": "lines",
         "showlegend": false,
         "type": "scatter",
         "x": [
          "2024-09-14T14:40:00",
          "2024-09-14T14:40:00"
         ],
         "xaxis": "x",
         "y": [
          59876,
          59941.1
         ],
         "yaxis": "y"
        },
        {
         "base": 59884.05,
         "marker": {
          "color": "darkgray",
          "line": {
           "width": 0
          }
         },
         "showlegend": false,
         "type": "bar",
         "width": 0.6,
         "x": [
          "2024-09-14T14:40:00"
         ],
         "xaxis": "x",
         "y": [
          30.939999999995052
         ],
         "yaxis": "y"
        },
        {
         "line": {
          "color": "gray",
          "width": 1
         },
         "mode": "lines",
         "showlegend": false,
         "type": "scatter",
         "x": [
          "2024-09-14T14:45:00",
          "2024-09-14T14:45:00"
         ],
         "xaxis": "x",
         "y": [
          59862.38,
          59908
         ],
         "yaxis": "y"
        },
        {
         "base": 59884.05,
         "marker": {
          "color": "gray",
          "line": {
           "width": 0
          }
         },
         "showlegend": false,
         "type": "bar",
         "width": 0.6,
         "x": [
          "2024-09-14T14:45:00"
         ],
         "xaxis": "x",
         "y": [
          4.619999999995343
         ],
         "yaxis": "y"
        },
        {
         "line": {
          "color": "gray",
          "width": 1
         },
         "mode": "lines",
         "showlegend": false,
         "type": "scatter",
         "x": [
          "2024-09-14T14:50:00",
          "2024-09-14T14:50:00"
         ],
         "xaxis": "x",
         "y": [
          59888.68,
          59941.1
         ],
         "yaxis": "y"
        },
        {
         "base": 59888.68,
         "marker": {
          "color": "gray",
          "line": {
           "width": 0
          }
         },
         "showlegend": false,
         "type": "bar",
         "width": 0.6,
         "x": [
          "2024-09-14T14:50:00"
         ],
         "xaxis": "x",
         "y": [
          51.05000000000291
         ],
         "yaxis": "y"
        },
        {
         "line": {
          "color": "darkgray",
          "width": 1
         },
         "mode": "lines",
         "showlegend": false,
         "type": "scatter",
         "x": [
          "2024-09-14T14:55:00",
          "2024-09-14T14:55:00"
         ],
         "xaxis": "x",
         "y": [
          59914,
          59948.58
         ],
         "yaxis": "y"
        },
        {
         "base": 59914,
         "marker": {
          "color": "darkgray",
          "line": {
           "width": 0
          }
         },
         "showlegend": false,
         "type": "bar",
         "width": 0.6,
         "x": [
          "2024-09-14T14:55:00"
         ],
         "xaxis": "x",
         "y": [
          25.7300000000032
         ],
         "yaxis": "y"
        },
        {
         "line": {
          "color": "darkgray",
          "width": 1
         },
         "mode": "lines",
         "showlegend": false,
         "type": "scatter",
         "x": [
          "2024-09-14T15:00:00",
          "2024-09-14T15:00:00"
         ],
         "xaxis": "x",
         "y": [
          59878.63,
          59915.8
         ],
         "yaxis": "y"
        },
        {
         "base": 59878.63,
         "marker": {
          "color": "darkgray",
          "line": {
           "width": 0
          }
         },
         "showlegend": false,
         "type": "bar",
         "width": 0.6,
         "x": [
          "2024-09-14T15:00:00"
         ],
         "xaxis": "x",
         "y": [
          35.37000000000262
         ],
         "yaxis": "y"
        },
        {
         "line": {
          "color": "gray",
          "width": 1
         },
         "mode": "lines",
         "showlegend": false,
         "type": "scatter",
         "x": [
          "2024-09-14T15:05:00",
          "2024-09-14T15:05:00"
         ],
         "xaxis": "x",
         "y": [
          59877.01,
          59949.11
         ],
         "yaxis": "y"
        },
        {
         "base": 59878.63,
         "marker": {
          "color": "gray",
          "line": {
           "width": 0
          }
         },
         "showlegend": false,
         "type": "bar",
         "width": 0.6,
         "x": [
          "2024-09-14T15:05:00"
         ],
         "xaxis": "x",
         "y": [
          63.38999999999942
         ],
         "yaxis": "y"
        },
        {
         "line": {
          "color": "darkgray",
          "width": 1
         },
         "mode": "lines",
         "showlegend": false,
         "type": "scatter",
         "x": [
          "2024-09-14T15:10:00",
          "2024-09-14T15:10:00"
         ],
         "xaxis": "x",
         "y": [
          59901.67,
          59942.02
         ],
         "yaxis": "y"
        },
        {
         "base": 59907.8,
         "marker": {
          "color": "darkgray",
          "line": {
           "width": 0
          }
         },
         "showlegend": false,
         "type": "bar",
         "width": 0.6,
         "x": [
          "2024-09-14T15:10:00"
         ],
         "xaxis": "x",
         "y": [
          34.20999999999913
         ],
         "yaxis": "y"
        },
        {
         "line": {
          "color": "gray",
          "width": 1
         },
         "mode": "lines",
         "showlegend": false,
         "type": "scatter",
         "x": [
          "2024-09-14T15:15:00",
          "2024-09-14T15:15:00"
         ],
         "xaxis": "x",
         "y": [
          59880,
          59934
         ],
         "yaxis": "y"
        },
        {
         "base": 59907.8,
         "marker": {
          "color": "gray",
          "line": {
           "width": 0
          }
         },
         "showlegend": false,
         "type": "bar",
         "width": 0.6,
         "x": [
          "2024-09-14T15:15:00"
         ],
         "xaxis": "x",
         "y": [
          26.189999999995052
         ],
         "yaxis": "y"
        },
        {
         "line": {
          "color": "darkgray",
          "width": 1
         },
         "mode": "lines",
         "showlegend": false,
         "type": "scatter",
         "x": [
          "2024-09-14T15:20:00",
          "2024-09-14T15:20:00"
         ],
         "xaxis": "x",
         "y": [
          59921.1,
          59948
         ],
         "yaxis": "y"
        },
        {
         "base": 59921.1,
         "marker": {
          "color": "darkgray",
          "line": {
           "width": 0
          }
         },
         "showlegend": false,
         "type": "bar",
         "width": 0.6,
         "x": [
          "2024-09-14T15:20:00"
         ],
         "xaxis": "x",
         "y": [
          12.889999999999418
         ],
         "yaxis": "y"
        },
        {
         "line": {
          "color": "gray",
          "width": 1
         },
         "mode": "lines",
         "showlegend": false,
         "type": "scatter",
         "x": [
          "2024-09-14T15:25:00",
          "2024-09-14T15:25:00"
         ],
         "xaxis": "x",
         "y": [
          59912.3,
          59932
         ],
         "yaxis": "y"
        },
        {
         "base": 59921.11,
         "marker": {
          "color": "gray",
          "line": {
           "width": 0
          }
         },
         "showlegend": false,
         "type": "bar",
         "width": 0.6,
         "x": [
          "2024-09-14T15:25:00"
         ],
         "xaxis": "x",
         "y": [
          8.190000000002328
         ],
         "yaxis": "y"
        },
        {
         "line": {
          "color": "darkgray",
          "width": 1
         },
         "mode": "lines",
         "showlegend": false,
         "type": "scatter",
         "x": [
          "2024-09-14T15:30:00",
          "2024-09-14T15:30:00"
         ],
         "xaxis": "x",
         "y": [
          59878.01,
          59929.3
         ],
         "yaxis": "y"
        },
        {
         "base": 59879.99,
         "marker": {
          "color": "darkgray",
          "line": {
           "width": 0
          }
         },
         "showlegend": false,
         "type": "bar",
         "width": 0.6,
         "x": [
          "2024-09-14T15:30:00"
         ],
         "xaxis": "x",
         "y": [
          49.30000000000291
         ],
         "yaxis": "y"
        },
        {
         "line": {
          "color": "gray",
          "width": 1
         },
         "mode": "lines",
         "showlegend": false,
         "type": "scatter",
         "x": [
          "2024-09-14T15:35:00",
          "2024-09-14T15:35:00"
         ],
         "xaxis": "x",
         "y": [
          59857,
          59906
         ],
         "yaxis": "y"
        },
        {
         "base": 59880,
         "marker": {
          "color": "gray",
          "line": {
           "width": 0
          }
         },
         "showlegend": false,
         "type": "bar",
         "width": 0.6,
         "x": [
          "2024-09-14T15:35:00"
         ],
         "xaxis": "x",
         "y": [
          15.989999999997963
         ],
         "yaxis": "y"
        },
        {
         "line": {
          "color": "darkgray",
          "width": 1
         },
         "mode": "lines",
         "showlegend": false,
         "type": "scatter",
         "x": [
          "2024-09-14T15:40:00",
          "2024-09-14T15:40:00"
         ],
         "xaxis": "x",
         "y": [
          59841.53,
          59896
         ],
         "yaxis": "y"
        },
        {
         "base": 59844.31,
         "marker": {
          "color": "darkgray",
          "line": {
           "width": 0
          }
         },
         "showlegend": false,
         "type": "bar",
         "width": 0.6,
         "x": [
          "2024-09-14T15:40:00"
         ],
         "xaxis": "x",
         "y": [
          51.68000000000029
         ],
         "yaxis": "y"
        },
        {
         "line": {
          "color": "gray",
          "width": 1
         },
         "mode": "lines",
         "showlegend": false,
         "type": "scatter",
         "x": [
          "2024-09-14T15:45:00",
          "2024-09-14T15:45:00"
         ],
         "xaxis": "x",
         "y": [
          59828.07,
          59872.58
         ],
         "yaxis": "y"
        },
        {
         "base": 59844.31,
         "marker": {
          "color": "gray",
          "line": {
           "width": 0
          }
         },
         "showlegend": false,
         "type": "bar",
         "width": 0.6,
         "x": [
          "2024-09-14T15:45:00"
         ],
         "xaxis": "x",
         "y": [
          9.700000000004366
         ],
         "yaxis": "y"
        },
        {
         "line": {
          "color": "gray",
          "width": 1
         },
         "mode": "lines",
         "showlegend": false,
         "type": "scatter",
         "x": [
          "2024-09-14T15:50:00",
          "2024-09-14T15:50:00"
         ],
         "xaxis": "x",
         "y": [
          59854,
          59900
         ],
         "yaxis": "y"
        },
        {
         "base": 59854.01,
         "marker": {
          "color": "gray",
          "line": {
           "width": 0
          }
         },
         "showlegend": false,
         "type": "bar",
         "width": 0.6,
         "x": [
          "2024-09-14T15:50:00"
         ],
         "xaxis": "x",
         "y": [
          45.979999999995925
         ],
         "yaxis": "y"
        },
        {
         "line": {
          "color": "darkgray",
          "width": 1
         },
         "mode": "lines",
         "showlegend": false,
         "type": "scatter",
         "x": [
          "2024-09-14T15:55:00",
          "2024-09-14T15:55:00"
         ],
         "xaxis": "x",
         "y": [
          59864.02,
          59900
         ],
         "yaxis": "y"
        },
        {
         "base": 59876,
         "marker": {
          "color": "darkgray",
          "line": {
           "width": 0
          }
         },
         "showlegend": false,
         "type": "bar",
         "width": 0.6,
         "x": [
          "2024-09-14T15:55:00"
         ],
         "xaxis": "x",
         "y": [
          23.989999999997963
         ],
         "yaxis": "y"
        },
        {
         "line": {
          "color": "darkgray",
          "width": 1
         },
         "mode": "lines",
         "showlegend": false,
         "type": "scatter",
         "x": [
          "2024-09-14T16:00:00",
          "2024-09-14T16:00:00"
         ],
         "xaxis": "x",
         "y": [
          59838.22,
          59881.1
         ],
         "yaxis": "y"
        },
        {
         "base": 59864.01,
         "marker": {
          "color": "darkgray",
          "line": {
           "width": 0
          }
         },
         "showlegend": false,
         "type": "bar",
         "width": 0.6,
         "x": [
          "2024-09-14T16:00:00"
         ],
         "xaxis": "x",
         "y": [
          11.979999999995925
         ],
         "yaxis": "y"
        },
        {
         "line": {
          "color": "gray",
          "width": 1
         },
         "mode": "lines",
         "showlegend": false,
         "type": "scatter",
         "x": [
          "2024-09-14T16:05:00",
          "2024-09-14T16:05:00"
         ],
         "xaxis": "x",
         "y": [
          59864.01,
          59884.04
         ],
         "yaxis": "y"
        },
        {
         "base": 59864.02,
         "marker": {
          "color": "gray",
          "line": {
           "width": 0
          }
         },
         "showlegend": false,
         "type": "bar",
         "width": 0.6,
         "x": [
          "2024-09-14T16:05:00"
         ],
         "xaxis": "x",
         "y": [
          20.020000000004075
         ],
         "yaxis": "y"
        },
        {
         "line": {
          "color": "gray",
          "width": 1
         },
         "mode": "lines",
         "showlegend": false,
         "type": "scatter",
         "x": [
          "2024-09-14T16:10:00",
          "2024-09-14T16:10:00"
         ],
         "xaxis": "x",
         "y": [
          59884.03,
          59922
         ],
         "yaxis": "y"
        },
        {
         "base": 59884.04,
         "marker": {
          "color": "gray",
          "line": {
           "width": 0
          }
         },
         "showlegend": false,
         "type": "bar",
         "width": 0.6,
         "x": [
          "2024-09-14T16:10:00"
         ],
         "xaxis": "x",
         "y": [
          37.94999999999709
         ],
         "yaxis": "y"
        },
        {
         "line": {
          "color": "gray",
          "width": 1
         },
         "mode": "lines",
         "showlegend": false,
         "type": "scatter",
         "x": [
          "2024-09-14T16:15:00",
          "2024-09-14T16:15:00"
         ],
         "xaxis": "x",
         "y": [
          59921.99,
          59968
         ],
         "yaxis": "y"
        },
        {
         "base": 59921.99,
         "marker": {
          "color": "gray",
          "line": {
           "width": 0
          }
         },
         "showlegend": false,
         "type": "bar",
         "width": 0.6,
         "x": [
          "2024-09-14T16:15:00"
         ],
         "xaxis": "x",
         "y": [
          27.959999999999127
         ],
         "yaxis": "y"
        },
        {
         "line": {
          "color": "red",
          "width": 1
         },
         "mode": "lines",
         "showlegend": false,
         "type": "scatter",
         "x": [
          "2024-09-14T16:20:00",
          "2024-09-14T16:20:00"
         ],
         "xaxis": "x",
         "y": [
          59904,
          59976
         ],
         "yaxis": "y"
        },
        {
         "base": 59904,
         "marker": {
          "color": "red",
          "line": {
           "width": 0
          }
         },
         "showlegend": false,
         "type": "bar",
         "width": 0.6,
         "x": [
          "2024-09-14T16:20:00"
         ],
         "xaxis": "x",
         "y": [
          45.94999999999709
         ],
         "yaxis": "y"
        },
        {
         "line": {
          "color": "darkgray",
          "width": 1
         },
         "mode": "lines",
         "showlegend": false,
         "type": "scatter",
         "x": [
          "2024-09-14T16:25:00",
          "2024-09-14T16:25:00"
         ],
         "xaxis": "x",
         "y": [
          59860,
          59904.01
         ],
         "yaxis": "y"
        },
        {
         "base": 59861.84,
         "marker": {
          "color": "darkgray",
          "line": {
           "width": 0
          }
         },
         "showlegend": false,
         "type": "bar",
         "width": 0.6,
         "x": [
          "2024-09-14T16:25:00"
         ],
         "xaxis": "x",
         "y": [
          42.16000000000349
         ],
         "yaxis": "y"
        },
        {
         "line": {
          "color": "gray",
          "width": 1
         },
         "mode": "lines",
         "showlegend": false,
         "type": "scatter",
         "x": [
          "2024-09-14T16:30:00",
          "2024-09-14T16:30:00"
         ],
         "xaxis": "x",
         "y": [
          59861.84,
          59908
         ],
         "yaxis": "y"
        },
        {
         "base": 59861.84,
         "marker": {
          "color": "gray",
          "line": {
           "width": 0
          }
         },
         "showlegend": false,
         "type": "bar",
         "width": 0.6,
         "x": [
          "2024-09-14T16:30:00"
         ],
         "xaxis": "x",
         "y": [
          44.59000000000378
         ],
         "yaxis": "y"
        },
        {
         "line": {
          "color": "gray",
          "width": 1
         },
         "mode": "lines",
         "showlegend": false,
         "type": "scatter",
         "x": [
          "2024-09-14T16:35:00",
          "2024-09-14T16:35:00"
         ],
         "xaxis": "x",
         "y": [
          59892.78,
          59930.99
         ],
         "yaxis": "y"
        },
        {
         "base": 59906.43,
         "marker": {
          "color": "gray",
          "line": {
           "width": 0
          }
         },
         "showlegend": false,
         "type": "bar",
         "width": 0.6,
         "x": [
          "2024-09-14T16:35:00"
         ],
         "xaxis": "x",
         "y": [
          24.55999999999767
         ],
         "yaxis": "y"
        },
        {
         "line": {
          "color": "darkgray",
          "width": 1
         },
         "mode": "lines",
         "showlegend": false,
         "type": "scatter",
         "x": [
          "2024-09-14T16:40:00",
          "2024-09-14T16:40:00"
         ],
         "xaxis": "x",
         "y": [
          59924.76,
          59941
         ],
         "yaxis": "y"
        },
        {
         "base": 59924.77,
         "marker": {
          "color": "darkgray",
          "line": {
           "width": 0
          }
         },
         "showlegend": false,
         "type": "bar",
         "width": 0.6,
         "x": [
          "2024-09-14T16:40:00"
         ],
         "xaxis": "x",
         "y": [
          6.210000000006403
         ],
         "yaxis": "y"
        },
        {
         "line": {
          "color": "lime",
          "width": 1
         },
         "mode": "lines",
         "showlegend": false,
         "type": "scatter",
         "x": [
          "2024-09-14T16:45:00",
          "2024-09-14T16:45:00"
         ],
         "xaxis": "x",
         "y": [
          59842,
          59979.74
         ],
         "yaxis": "y"
        },
        {
         "base": 59924.76,
         "marker": {
          "color": "lime",
          "line": {
           "width": 0
          }
         },
         "showlegend": false,
         "type": "bar",
         "width": 0.6,
         "x": [
          "2024-09-14T16:45:00"
         ],
         "xaxis": "x",
         "y": [
          43.25
         ],
         "yaxis": "y"
        },
        {
         "line": {
          "color": "darkgray",
          "width": 1
         },
         "mode": "lines",
         "showlegend": false,
         "type": "scatter",
         "x": [
          "2024-09-14T16:50:00",
          "2024-09-14T16:50:00"
         ],
         "xaxis": "x",
         "y": [
          59951.73,
          59968.01
         ],
         "yaxis": "y"
        },
        {
         "base": 59956.13,
         "marker": {
          "color": "darkgray",
          "line": {
           "width": 0
          }
         },
         "showlegend": false,
         "type": "bar",
         "width": 0.6,
         "x": [
          "2024-09-14T16:50:00"
         ],
         "xaxis": "x",
         "y": [
          11.87000000000262
         ],
         "yaxis": "y"
        },
        {
         "line": {
          "color": "gray",
          "width": 1
         },
         "mode": "lines",
         "showlegend": false,
         "type": "scatter",
         "x": [
          "2024-09-14T16:55:00",
          "2024-09-14T16:55:00"
         ],
         "xaxis": "x",
         "y": [
          59956.12,
          59982
         ],
         "yaxis": "y"
        },
        {
         "base": 59956.13,
         "marker": {
          "color": "gray",
          "line": {
           "width": 0
          }
         },
         "showlegend": false,
         "type": "bar",
         "width": 0.6,
         "x": [
          "2024-09-14T16:55:00"
         ],
         "xaxis": "x",
         "y": [
          25.860000000000582
         ],
         "yaxis": "y"
        },
        {
         "line": {
          "color": "darkgray",
          "width": 1
         },
         "mode": "lines",
         "showlegend": false,
         "type": "scatter",
         "x": [
          "2024-09-14T17:00:00",
          "2024-09-14T17:00:00"
         ],
         "xaxis": "x",
         "y": [
          59950,
          59983.39
         ],
         "yaxis": "y"
        },
        {
         "base": 59962.79,
         "marker": {
          "color": "darkgray",
          "line": {
           "width": 0
          }
         },
         "showlegend": false,
         "type": "bar",
         "width": 0.6,
         "x": [
          "2024-09-14T17:00:00"
         ],
         "xaxis": "x",
         "y": [
          19.209999999999127
         ],
         "yaxis": "y"
        },
        {
         "line": {
          "color": "darkgray",
          "width": 1
         },
         "mode": "lines",
         "showlegend": false,
         "type": "scatter",
         "x": [
          "2024-09-14T17:05:00",
          "2024-09-14T17:05:00"
         ],
         "xaxis": "x",
         "y": [
          59892,
          59962.8
         ],
         "yaxis": "y"
        },
        {
         "base": 59913.65,
         "marker": {
          "color": "darkgray",
          "line": {
           "width": 0
          }
         },
         "showlegend": false,
         "type": "bar",
         "width": 0.6,
         "x": [
          "2024-09-14T17:05:00"
         ],
         "xaxis": "x",
         "y": [
          49.13999999999942
         ],
         "yaxis": "y"
        },
        {
         "line": {
          "color": "darkgray",
          "width": 1
         },
         "mode": "lines",
         "showlegend": false,
         "type": "scatter",
         "x": [
          "2024-09-14T17:10:00",
          "2024-09-14T17:10:00"
         ],
         "xaxis": "x",
         "y": [
          59890.3,
          59913.65
         ],
         "yaxis": "y"
        },
        {
         "base": 59890.3,
         "marker": {
          "color": "darkgray",
          "line": {
           "width": 0
          }
         },
         "showlegend": false,
         "type": "bar",
         "width": 0.6,
         "x": [
          "2024-09-14T17:10:00"
         ],
         "xaxis": "x",
         "y": [
          23.339999999996508
         ],
         "yaxis": "y"
        },
        {
         "line": {
          "color": "gray",
          "width": 1
         },
         "mode": "lines",
         "showlegend": false,
         "type": "scatter",
         "x": [
          "2024-09-14T17:15:00",
          "2024-09-14T17:15:00"
         ],
         "xaxis": "x",
         "y": [
          59890.3,
          59909.16
         ],
         "yaxis": "y"
        },
        {
         "base": 59890.31,
         "marker": {
          "color": "gray",
          "line": {
           "width": 0
          }
         },
         "showlegend": false,
         "type": "bar",
         "width": 0.6,
         "x": [
          "2024-09-14T17:15:00"
         ],
         "xaxis": "x",
         "y": [
          0
         ],
         "yaxis": "y"
        },
        {
         "line": {
          "color": "gray",
          "width": 1
         },
         "mode": "lines",
         "showlegend": false,
         "type": "scatter",
         "x": [
          "2024-09-14T17:20:00",
          "2024-09-14T17:20:00"
         ],
         "xaxis": "x",
         "y": [
          59890.3,
          59924
         ],
         "yaxis": "y"
        },
        {
         "base": 59890.31,
         "marker": {
          "color": "gray",
          "line": {
           "width": 0
          }
         },
         "showlegend": false,
         "type": "bar",
         "width": 0.6,
         "x": [
          "2024-09-14T17:20:00"
         ],
         "xaxis": "x",
         "y": [
          33.69000000000233
         ],
         "yaxis": "y"
        },
        {
         "line": {
          "color": "darkgray",
          "width": 1
         },
         "mode": "lines",
         "showlegend": false,
         "type": "scatter",
         "x": [
          "2024-09-14T17:25:00",
          "2024-09-14T17:25:00"
         ],
         "xaxis": "x",
         "y": [
          59892,
          59931.1
         ],
         "yaxis": "y"
        },
        {
         "base": 59892,
         "marker": {
          "color": "darkgray",
          "line": {
           "width": 0
          }
         },
         "showlegend": false,
         "type": "bar",
         "width": 0.6,
         "x": [
          "2024-09-14T17:25:00"
         ],
         "xaxis": "x",
         "y": [
          31.989999999997963
         ],
         "yaxis": "y"
        },
        {
         "line": {
          "color": "darkgray",
          "width": 1
         },
         "mode": "lines",
         "showlegend": false,
         "type": "scatter",
         "x": [
          "2024-09-14T17:30:00",
          "2024-09-14T17:30:00"
         ],
         "xaxis": "x",
         "y": [
          59856,
          59892.01
         ],
         "yaxis": "y"
        },
        {
         "base": 59868,
         "marker": {
          "color": "darkgray",
          "line": {
           "width": 0
          }
         },
         "showlegend": false,
         "type": "bar",
         "width": 0.6,
         "x": [
          "2024-09-14T17:30:00"
         ],
         "xaxis": "x",
         "y": [
          24
         ],
         "yaxis": "y"
        },
        {
         "line": {
          "color": "gray",
          "width": 1
         },
         "mode": "lines",
         "showlegend": false,
         "type": "scatter",
         "x": [
          "2024-09-14T17:35:00",
          "2024-09-14T17:35:00"
         ],
         "xaxis": "x",
         "y": [
          59854.32,
          59877.31
         ],
         "yaxis": "y"
        },
        {
         "base": 59868,
         "marker": {
          "color": "gray",
          "line": {
           "width": 0
          }
         },
         "showlegend": false,
         "type": "bar",
         "width": 0.6,
         "x": [
          "2024-09-14T17:35:00"
         ],
         "xaxis": "x",
         "y": [
          0
         ],
         "yaxis": "y"
        },
        {
         "line": {
          "color": "gray",
          "width": 1
         },
         "mode": "lines",
         "showlegend": false,
         "type": "scatter",
         "x": [
          "2024-09-14T17:40:00",
          "2024-09-14T17:40:00"
         ],
         "xaxis": "x",
         "y": [
          59868,
          59878
         ],
         "yaxis": "y"
        },
        {
         "base": 59868,
         "marker": {
          "color": "gray",
          "line": {
           "width": 0
          }
         },
         "showlegend": false,
         "type": "bar",
         "width": 0.6,
         "x": [
          "2024-09-14T17:40:00"
         ],
         "xaxis": "x",
         "y": [
          9.989999999997963
         ],
         "yaxis": "y"
        },
        {
         "line": {
          "color": "darkgray",
          "width": 1
         },
         "mode": "lines",
         "showlegend": false,
         "type": "scatter",
         "x": [
          "2024-09-14T17:45:00",
          "2024-09-14T17:45:00"
         ],
         "xaxis": "x",
         "y": [
          59865.8,
          59878
         ],
         "yaxis": "y"
        },
        {
         "base": 59865.8,
         "marker": {
          "color": "darkgray",
          "line": {
           "width": 0
          }
         },
         "showlegend": false,
         "type": "bar",
         "width": 0.6,
         "x": [
          "2024-09-14T17:45:00"
         ],
         "xaxis": "x",
         "y": [
          12.189999999995052
         ],
         "yaxis": "y"
        },
        {
         "line": {
          "color": "gray",
          "width": 1
         },
         "mode": "lines",
         "showlegend": false,
         "type": "scatter",
         "x": [
          "2024-09-14T17:50:00",
          "2024-09-14T17:50:00"
         ],
         "xaxis": "x",
         "y": [
          59858,
          59880
         ],
         "yaxis": "y"
        },
        {
         "base": 59865.81,
         "marker": {
          "color": "gray",
          "line": {
           "width": 0
          }
         },
         "showlegend": false,
         "type": "bar",
         "width": 0.6,
         "x": [
          "2024-09-14T17:50:00"
         ],
         "xaxis": "x",
         "y": [
          12.220000000001164
         ],
         "yaxis": "y"
        },
        {
         "line": {
          "color": "gray",
          "width": 1
         },
         "mode": "lines",
         "showlegend": false,
         "type": "scatter",
         "x": [
          "2024-09-14T17:55:00",
          "2024-09-14T17:55:00"
         ],
         "xaxis": "x",
         "y": [
          59864.37,
          59887
         ],
         "yaxis": "y"
        },
        {
         "base": 59878.03,
         "marker": {
          "color": "gray",
          "line": {
           "width": 0
          }
         },
         "showlegend": false,
         "type": "bar",
         "width": 0.6,
         "x": [
          "2024-09-14T17:55:00"
         ],
         "xaxis": "x",
         "y": [
          7.230000000003201
         ],
         "yaxis": "y"
        },
        {
         "line": {
          "color": "red",
          "width": 1
         },
         "mode": "lines",
         "showlegend": false,
         "type": "scatter",
         "x": [
          "2024-09-14T18:00:00",
          "2024-09-14T18:00:00"
         ],
         "xaxis": "x",
         "y": [
          59826.71,
          59885.27
         ],
         "yaxis": "y"
        },
        {
         "base": 59834.01,
         "marker": {
          "color": "red",
          "line": {
           "width": 0
          }
         },
         "showlegend": false,
         "type": "bar",
         "width": 0.6,
         "x": [
          "2024-09-14T18:00:00"
         ],
         "xaxis": "x",
         "y": [
          51.25
         ],
         "yaxis": "y"
        },
        {
         "line": {
          "color": "red",
          "width": 1
         },
         "mode": "lines",
         "showlegend": false,
         "type": "scatter",
         "x": [
          "2024-09-14T18:05:00",
          "2024-09-14T18:05:00"
         ],
         "xaxis": "x",
         "y": [
          59400,
          59834.01
         ],
         "yaxis": "y"
        },
        {
         "base": 59531.99,
         "marker": {
          "color": "red",
          "line": {
           "width": 0
          }
         },
         "showlegend": false,
         "type": "bar",
         "width": 0.6,
         "x": [
          "2024-09-14T18:05:00"
         ],
         "xaxis": "x",
         "y": [
          302.0200000000041
         ],
         "yaxis": "y"
        },
        {
         "line": {
          "color": "lime",
          "width": 1
         },
         "mode": "lines",
         "showlegend": false,
         "type": "scatter",
         "x": [
          "2024-09-14T18:10:00",
          "2024-09-14T18:10:00"
         ],
         "xaxis": "x",
         "y": [
          59516,
          59897.79
         ],
         "yaxis": "y"
        },
        {
         "base": 59532,
         "marker": {
          "color": "lime",
          "line": {
           "width": 0
          }
         },
         "showlegend": false,
         "type": "bar",
         "width": 0.6,
         "x": [
          "2024-09-14T18:10:00"
         ],
         "xaxis": "x",
         "y": [
          97.98999999999796
         ],
         "yaxis": "y"
        },
        {
         "line": {
          "color": "gray",
          "width": 1
         },
         "mode": "lines",
         "showlegend": false,
         "type": "scatter",
         "x": [
          "2024-09-14T18:15:00",
          "2024-09-14T18:15:00"
         ],
         "xaxis": "x",
         "y": [
          59572,
          59705.99
         ],
         "yaxis": "y"
        },
        {
         "base": 59629.99,
         "marker": {
          "color": "gray",
          "line": {
           "width": 0
          }
         },
         "showlegend": false,
         "type": "bar",
         "width": 0.6,
         "x": [
          "2024-09-14T18:15:00"
         ],
         "xaxis": "x",
         "y": [
          76
         ],
         "yaxis": "y"
        },
        {
         "line": {
          "color": "gray",
          "width": 1
         },
         "mode": "lines",
         "showlegend": false,
         "type": "scatter",
         "x": [
          "2024-09-14T18:20:00",
          "2024-09-14T18:20:00"
         ],
         "xaxis": "x",
         "y": [
          59682.6,
          59755.05
         ],
         "yaxis": "y"
        },
        {
         "base": 59705.98,
         "marker": {
          "color": "gray",
          "line": {
           "width": 0
          }
         },
         "showlegend": false,
         "type": "bar",
         "width": 0.6,
         "x": [
          "2024-09-14T18:20:00"
         ],
         "xaxis": "x",
         "y": [
          16.029999999998836
         ],
         "yaxis": "y"
        },
        {
         "line": {
          "color": "darkgray",
          "width": 1
         },
         "mode": "lines",
         "showlegend": false,
         "type": "scatter",
         "x": [
          "2024-09-14T18:25:00",
          "2024-09-14T18:25:00"
         ],
         "xaxis": "x",
         "y": [
          59661.1,
          59722.01
         ],
         "yaxis": "y"
        },
        {
         "base": 59661.1,
         "marker": {
          "color": "darkgray",
          "line": {
           "width": 0
          }
         },
         "showlegend": false,
         "type": "bar",
         "width": 0.6,
         "x": [
          "2024-09-14T18:25:00"
         ],
         "xaxis": "x",
         "y": [
          60.91000000000349
         ],
         "yaxis": "y"
        },
        {
         "line": {
          "color": "gray",
          "width": 1
         },
         "mode": "lines",
         "showlegend": false,
         "type": "scatter",
         "x": [
          "2024-09-14T18:30:00",
          "2024-09-14T18:30:00"
         ],
         "xaxis": "x",
         "y": [
          59661.1,
          59756
         ],
         "yaxis": "y"
        },
        {
         "base": 59661.11,
         "marker": {
          "color": "gray",
          "line": {
           "width": 0
          }
         },
         "showlegend": false,
         "type": "bar",
         "width": 0.6,
         "x": [
          "2024-09-14T18:30:00"
         ],
         "xaxis": "x",
         "y": [
          82.40999999999622
         ],
         "yaxis": "y"
        },
        {
         "line": {
          "color": "darkgray",
          "width": 1
         },
         "mode": "lines",
         "showlegend": false,
         "type": "scatter",
         "x": [
          "2024-09-14T18:35:00",
          "2024-09-14T18:35:00"
         ],
         "xaxis": "x",
         "y": [
          59728.35,
          59746
         ],
         "yaxis": "y"
        },
        {
         "base": 59738.01,
         "marker": {
          "color": "darkgray",
          "line": {
           "width": 0
          }
         },
         "showlegend": false,
         "type": "bar",
         "width": 0.6,
         "x": [
          "2024-09-14T18:35:00"
         ],
         "xaxis": "x",
         "y": [
          5.5
         ],
         "yaxis": "y"
        },
        {
         "line": {
          "color": "gray",
          "width": 1
         },
         "mode": "lines",
         "showlegend": false,
         "type": "scatter",
         "x": [
          "2024-09-14T18:40:00",
          "2024-09-14T18:40:00"
         ],
         "xaxis": "x",
         "y": [
          59738,
          59780.11
         ],
         "yaxis": "y"
        },
        {
         "base": 59738,
         "marker": {
          "color": "gray",
          "line": {
           "width": 0
          }
         },
         "showlegend": false,
         "type": "bar",
         "width": 0.6,
         "x": [
          "2024-09-14T18:40:00"
         ],
         "xaxis": "x",
         "y": [
          22.010000000002037
         ],
         "yaxis": "y"
        },
        {
         "line": {
          "color": "darkgray",
          "width": 1
         },
         "mode": "lines",
         "showlegend": false,
         "type": "scatter",
         "x": [
          "2024-09-14T18:45:00",
          "2024-09-14T18:45:00"
         ],
         "xaxis": "x",
         "y": [
          59712,
          59760.01
         ],
         "yaxis": "y"
        },
        {
         "base": 59723.99,
         "marker": {
          "color": "darkgray",
          "line": {
           "width": 0
          }
         },
         "showlegend": false,
         "type": "bar",
         "width": 0.6,
         "x": [
          "2024-09-14T18:45:00"
         ],
         "xaxis": "x",
         "y": [
          36.020000000004075
         ],
         "yaxis": "y"
        },
        {
         "line": {
          "color": "gray",
          "width": 1
         },
         "mode": "lines",
         "showlegend": false,
         "type": "scatter",
         "x": [
          "2024-09-14T18:50:00",
          "2024-09-14T18:50:00"
         ],
         "xaxis": "x",
         "y": [
          59723.98,
          59815.02
         ],
         "yaxis": "y"
        },
        {
         "base": 59723.98,
         "marker": {
          "color": "gray",
          "line": {
           "width": 0
          }
         },
         "showlegend": false,
         "type": "bar",
         "width": 0.6,
         "x": [
          "2024-09-14T18:50:00"
         ],
         "xaxis": "x",
         "y": [
          90.02999999999884
         ],
         "yaxis": "y"
        },
        {
         "line": {
          "color": "darkgray",
          "width": 1
         },
         "mode": "lines",
         "showlegend": false,
         "type": "scatter",
         "x": [
          "2024-09-14T18:55:00",
          "2024-09-14T18:55:00"
         ],
         "xaxis": "x",
         "y": [
          59786,
          59814.01
         ],
         "yaxis": "y"
        },
        {
         "base": 59786,
         "marker": {
          "color": "darkgray",
          "line": {
           "width": 0
          }
         },
         "showlegend": false,
         "type": "bar",
         "width": 0.6,
         "x": [
          "2024-09-14T18:55:00"
         ],
         "xaxis": "x",
         "y": [
          28.010000000002037
         ],
         "yaxis": "y"
        },
        {
         "line": {
          "color": "darkgray",
          "width": 1
         },
         "mode": "lines",
         "showlegend": false,
         "type": "scatter",
         "x": [
          "2024-09-14T19:00:00",
          "2024-09-14T19:00:00"
         ],
         "xaxis": "x",
         "y": [
          59735.16,
          59786.01
         ],
         "yaxis": "y"
        },
        {
         "base": 59735.17,
         "marker": {
          "color": "darkgray",
          "line": {
           "width": 0
          }
         },
         "showlegend": false,
         "type": "bar",
         "width": 0.6,
         "x": [
          "2024-09-14T19:00:00"
         ],
         "xaxis": "x",
         "y": [
          50.84000000000378
         ],
         "yaxis": "y"
        },
        {
         "line": {
          "color": "gray",
          "width": 1
         },
         "mode": "lines",
         "showlegend": false,
         "type": "scatter",
         "x": [
          "2024-09-14T19:05:00",
          "2024-09-14T19:05:00"
         ],
         "xaxis": "x",
         "y": [
          59735.17,
          59757.73
         ],
         "yaxis": "y"
        },
        {
         "base": 59735.17,
         "marker": {
          "color": "gray",
          "line": {
           "width": 0
          }
         },
         "showlegend": false,
         "type": "bar",
         "width": 0.6,
         "x": [
          "2024-09-14T19:05:00"
         ],
         "xaxis": "x",
         "y": [
          7.310000000004948
         ],
         "yaxis": "y"
        },
        {
         "line": {
          "color": "gray",
          "width": 1
         },
         "mode": "lines",
         "showlegend": false,
         "type": "scatter",
         "x": [
          "2024-09-14T19:10:00",
          "2024-09-14T19:10:00"
         ],
         "xaxis": "x",
         "y": [
          59740,
          59768
         ],
         "yaxis": "y"
        },
        {
         "base": 59742.48,
         "marker": {
          "color": "gray",
          "line": {
           "width": 0
          }
         },
         "showlegend": false,
         "type": "bar",
         "width": 0.6,
         "x": [
          "2024-09-14T19:10:00"
         ],
         "xaxis": "x",
         "y": [
          21.43000000000029
         ],
         "yaxis": "y"
        },
        {
         "line": {
          "color": "gray",
          "width": 1
         },
         "mode": "lines",
         "showlegend": false,
         "type": "scatter",
         "x": [
          "2024-09-14T19:15:00",
          "2024-09-14T19:15:00"
         ],
         "xaxis": "x",
         "y": [
          59760.93,
          59796
         ],
         "yaxis": "y"
        },
        {
         "base": 59763.92,
         "marker": {
          "color": "gray",
          "line": {
           "width": 0
          }
         },
         "showlegend": false,
         "type": "bar",
         "width": 0.6,
         "x": [
          "2024-09-14T19:15:00"
         ],
         "xaxis": "x",
         "y": [
          32.080000000001746
         ],
         "yaxis": "y"
        },
        {
         "line": {
          "color": "gray",
          "width": 1
         },
         "mode": "lines",
         "showlegend": false,
         "type": "scatter",
         "x": [
          "2024-09-14T19:20:00",
          "2024-09-14T19:20:00"
         ],
         "xaxis": "x",
         "y": [
          59795.99,
          59831.1
         ],
         "yaxis": "y"
        },
        {
         "base": 59796,
         "marker": {
          "color": "gray",
          "line": {
           "width": 0
          }
         },
         "showlegend": false,
         "type": "bar",
         "width": 0.6,
         "x": [
          "2024-09-14T19:20:00"
         ],
         "xaxis": "x",
         "y": [
          22.459999999999127
         ],
         "yaxis": "y"
        },
        {
         "line": {
          "color": "gray",
          "width": 1
         },
         "mode": "lines",
         "showlegend": false,
         "type": "scatter",
         "x": [
          "2024-09-14T19:25:00",
          "2024-09-14T19:25:00"
         ],
         "xaxis": "x",
         "y": [
          59818.46,
          59872.36
         ],
         "yaxis": "y"
        },
        {
         "base": 59818.47,
         "marker": {
          "color": "gray",
          "line": {
           "width": 0
          }
         },
         "showlegend": false,
         "type": "bar",
         "width": 0.6,
         "x": [
          "2024-09-14T19:25:00"
         ],
         "xaxis": "x",
         "y": [
          51.15999999999622
         ],
         "yaxis": "y"
        },
        {
         "line": {
          "color": "darkgray",
          "width": 1
         },
         "mode": "lines",
         "showlegend": false,
         "type": "scatter",
         "x": [
          "2024-09-14T19:30:00",
          "2024-09-14T19:30:00"
         ],
         "xaxis": "x",
         "y": [
          59816,
          59903.56
         ],
         "yaxis": "y"
        },
        {
         "base": 59816.01,
         "marker": {
          "color": "darkgray",
          "line": {
           "width": 0
          }
         },
         "showlegend": false,
         "type": "bar",
         "width": 0.6,
         "x": [
          "2024-09-14T19:30:00"
         ],
         "xaxis": "x",
         "y": [
          53.61999999999534
         ],
         "yaxis": "y"
        },
        {
         "line": {
          "color": "gray",
          "width": 1
         },
         "mode": "lines",
         "showlegend": false,
         "type": "scatter",
         "x": [
          "2024-09-14T19:35:00",
          "2024-09-14T19:35:00"
         ],
         "xaxis": "x",
         "y": [
          59808,
          59844
         ],
         "yaxis": "y"
        },
        {
         "base": 59816.01,
         "marker": {
          "color": "gray",
          "line": {
           "width": 0
          }
         },
         "showlegend": false,
         "type": "bar",
         "width": 0.6,
         "x": [
          "2024-09-14T19:35:00"
         ],
         "xaxis": "x",
         "y": [
          20.709999999999127
         ],
         "yaxis": "y"
        },
        {
         "line": {
          "color": "gray",
          "width": 1
         },
         "mode": "lines",
         "showlegend": false,
         "type": "scatter",
         "x": [
          "2024-09-14T19:40:00",
          "2024-09-14T19:40:00"
         ],
         "xaxis": "x",
         "y": [
          59836.71,
          59851.1
         ],
         "yaxis": "y"
        },
        {
         "base": 59836.73,
         "marker": {
          "color": "gray",
          "line": {
           "width": 0
          }
         },
         "showlegend": false,
         "type": "bar",
         "width": 0.6,
         "x": [
          "2024-09-14T19:40:00"
         ],
         "xaxis": "x",
         "y": [
          5.139999999999418
         ],
         "yaxis": "y"
        },
        {
         "line": {
          "color": "darkgray",
          "width": 1
         },
         "mode": "lines",
         "showlegend": false,
         "type": "scatter",
         "x": [
          "2024-09-14T19:45:00",
          "2024-09-14T19:45:00"
         ],
         "xaxis": "x",
         "y": [
          59824,
          59855.99
         ],
         "yaxis": "y"
        },
        {
         "base": 59824,
         "marker": {
          "color": "darkgray",
          "line": {
           "width": 0
          }
         },
         "showlegend": false,
         "type": "bar",
         "width": 0.6,
         "x": [
          "2024-09-14T19:45:00"
         ],
         "xaxis": "x",
         "y": [
          17.860000000000582
         ],
         "yaxis": "y"
        },
        {
         "line": {
          "color": "darkgray",
          "width": 1
         },
         "mode": "lines",
         "showlegend": false,
         "type": "scatter",
         "x": [
          "2024-09-14T19:50:00",
          "2024-09-14T19:50:00"
         ],
         "xaxis": "x",
         "y": [
          59814.6,
          59826
         ],
         "yaxis": "y"
        },
        {
         "base": 59814.6,
         "marker": {
          "color": "darkgray",
          "line": {
           "width": 0
          }
         },
         "showlegend": false,
         "type": "bar",
         "width": 0.6,
         "x": [
          "2024-09-14T19:50:00"
         ],
         "xaxis": "x",
         "y": [
          9.410000000003492
         ],
         "yaxis": "y"
        },
        {
         "line": {
          "color": "darkgray",
          "width": 1
         },
         "mode": "lines",
         "showlegend": false,
         "type": "scatter",
         "x": [
          "2024-09-14T19:55:00",
          "2024-09-14T19:55:00"
         ],
         "xaxis": "x",
         "y": [
          59810,
          59824
         ],
         "yaxis": "y"
        },
        {
         "base": 59810,
         "marker": {
          "color": "darkgray",
          "line": {
           "width": 0
          }
         },
         "showlegend": false,
         "type": "bar",
         "width": 0.6,
         "x": [
          "2024-09-14T19:55:00"
         ],
         "xaxis": "x",
         "y": [
          4.599999999998545
         ],
         "yaxis": "y"
        },
        {
         "line": {
          "color": "gray",
          "width": 1
         },
         "mode": "lines",
         "showlegend": false,
         "type": "scatter",
         "x": [
          "2024-09-14T20:00:00",
          "2024-09-14T20:00:00"
         ],
         "xaxis": "x",
         "y": [
          59810,
          59847.93
         ],
         "yaxis": "y"
        },
        {
         "base": 59810.01,
         "marker": {
          "color": "gray",
          "line": {
           "width": 0
          }
         },
         "showlegend": false,
         "type": "bar",
         "width": 0.6,
         "x": [
          "2024-09-14T20:00:00"
         ],
         "xaxis": "x",
         "y": [
          18.659999999996217
         ],
         "yaxis": "y"
        },
        {
         "line": {
          "color": "darkgray",
          "width": 1
         },
         "mode": "lines",
         "showlegend": false,
         "type": "scatter",
         "x": [
          "2024-09-14T20:05:00",
          "2024-09-14T20:05:00"
         ],
         "xaxis": "x",
         "y": [
          59802.01,
          59828.68
         ],
         "yaxis": "y"
        },
        {
         "base": 59804.01,
         "marker": {
          "color": "darkgray",
          "line": {
           "width": 0
          }
         },
         "showlegend": false,
         "type": "bar",
         "width": 0.6,
         "x": [
          "2024-09-14T20:05:00"
         ],
         "xaxis": "x",
         "y": [
          24.659999999996217
         ],
         "yaxis": "y"
        },
        {
         "line": {
          "color": "darkgray",
          "width": 1
         },
         "mode": "lines",
         "showlegend": false,
         "type": "scatter",
         "x": [
          "2024-09-14T20:10:00",
          "2024-09-14T20:10:00"
         ],
         "xaxis": "x",
         "y": [
          59791.97,
          59804.01
         ],
         "yaxis": "y"
        },
        {
         "base": 59792,
         "marker": {
          "color": "darkgray",
          "line": {
           "width": 0
          }
         },
         "showlegend": false,
         "type": "bar",
         "width": 0.6,
         "x": [
          "2024-09-14T20:10:00"
         ],
         "xaxis": "x",
         "y": [
          12
         ],
         "yaxis": "y"
        },
        {
         "line": {
          "color": "gray",
          "width": 1
         },
         "mode": "lines",
         "showlegend": false,
         "type": "scatter",
         "x": [
          "2024-09-14T20:15:00",
          "2024-09-14T20:15:00"
         ],
         "xaxis": "x",
         "y": [
          59774,
          59818
         ],
         "yaxis": "y"
        },
        {
         "base": 59792,
         "marker": {
          "color": "gray",
          "line": {
           "width": 0
          }
         },
         "showlegend": false,
         "type": "bar",
         "width": 0.6,
         "x": [
          "2024-09-14T20:15:00"
         ],
         "xaxis": "x",
         "y": [
          24.419999999998254
         ],
         "yaxis": "y"
        },
        {
         "line": {
          "color": "lime",
          "width": 1
         },
         "mode": "lines",
         "showlegend": false,
         "type": "scatter",
         "x": [
          "2024-09-14T20:20:00",
          "2024-09-14T20:20:00"
         ],
         "xaxis": "x",
         "y": [
          59816.42,
          59921.1
         ],
         "yaxis": "y"
        },
        {
         "base": 59816.42,
         "marker": {
          "color": "lime",
          "line": {
           "width": 0
          }
         },
         "showlegend": false,
         "type": "bar",
         "width": 0.6,
         "x": [
          "2024-09-14T20:20:00"
         ],
         "xaxis": "x",
         "y": [
          104.68000000000029
         ],
         "yaxis": "y"
        },
        {
         "line": {
          "color": "lime",
          "width": 1
         },
         "mode": "lines",
         "showlegend": false,
         "type": "scatter",
         "x": [
          "2024-09-14T20:25:00",
          "2024-09-14T20:25:00"
         ],
         "xaxis": "x",
         "y": [
          59898.16,
          60134.13
         ],
         "yaxis": "y"
        },
        {
         "base": 59921.1,
         "marker": {
          "color": "lime",
          "line": {
           "width": 0
          }
         },
         "showlegend": false,
         "type": "bar",
         "width": 0.6,
         "x": [
          "2024-09-14T20:25:00"
         ],
         "xaxis": "x",
         "y": [
          83.38999999999942
         ],
         "yaxis": "y"
        },
        {
         "line": {
          "color": "darkgray",
          "width": 1
         },
         "mode": "lines",
         "showlegend": false,
         "type": "scatter",
         "x": [
          "2024-09-14T20:30:00",
          "2024-09-14T20:30:00"
         ],
         "xaxis": "x",
         "y": [
          59944.51,
          60038
         ],
         "yaxis": "y"
        },
        {
         "base": 59990.12,
         "marker": {
          "color": "darkgray",
          "line": {
           "width": 0
          }
         },
         "showlegend": false,
         "type": "bar",
         "width": 0.6,
         "x": [
          "2024-09-14T20:30:00"
         ],
         "xaxis": "x",
         "y": [
          14.37999999999738
         ],
         "yaxis": "y"
        },
        {
         "line": {
          "color": "darkgray",
          "width": 1
         },
         "mode": "lines",
         "showlegend": false,
         "type": "scatter",
         "x": [
          "2024-09-14T20:35:00",
          "2024-09-14T20:35:00"
         ],
         "xaxis": "x",
         "y": [
          59960.6,
          60036.37
         ],
         "yaxis": "y"
        },
        {
         "base": 59990,
         "marker": {
          "color": "darkgray",
          "line": {
           "width": 0
          }
         },
         "showlegend": false,
         "type": "bar",
         "width": 0.6,
         "x": [
          "2024-09-14T20:35:00"
         ],
         "xaxis": "x",
         "y": [
          0.12000000000261934
         ],
         "yaxis": "y"
        },
        {
         "line": {
          "color": "darkgray",
          "width": 1
         },
         "mode": "lines",
         "showlegend": false,
         "type": "scatter",
         "x": [
          "2024-09-14T20:40:00",
          "2024-09-14T20:40:00"
         ],
         "xaxis": "x",
         "y": [
          59966,
          60019.99
         ],
         "yaxis": "y"
        },
        {
         "base": 59966.01,
         "marker": {
          "color": "darkgray",
          "line": {
           "width": 0
          }
         },
         "showlegend": false,
         "type": "bar",
         "width": 0.6,
         "x": [
          "2024-09-14T20:40:00"
         ],
         "xaxis": "x",
         "y": [
          23.979999999995925
         ],
         "yaxis": "y"
        },
        {
         "line": {
          "color": "darkgray",
          "width": 1
         },
         "mode": "lines",
         "showlegend": false,
         "type": "scatter",
         "x": [
          "2024-09-14T20:45:00",
          "2024-09-14T20:45:00"
         ],
         "xaxis": "x",
         "y": [
          59946.01,
          59975.32
         ],
         "yaxis": "y"
        },
        {
         "base": 59948.99,
         "marker": {
          "color": "darkgray",
          "line": {
           "width": 0
          }
         },
         "showlegend": false,
         "type": "bar",
         "width": 0.6,
         "x": [
          "2024-09-14T20:45:00"
         ],
         "xaxis": "x",
         "y": [
          17.020000000004075
         ],
         "yaxis": "y"
        },
        {
         "line": {
          "color": "gray",
          "width": 1
         },
         "mode": "lines",
         "showlegend": false,
         "type": "scatter",
         "x": [
          "2024-09-14T20:50:00",
          "2024-09-14T20:50:00"
         ],
         "xaxis": "x",
         "y": [
          59948.99,
          60025.81
         ],
         "yaxis": "y"
        },
        {
         "base": 59948.99,
         "marker": {
          "color": "gray",
          "line": {
           "width": 0
          }
         },
         "showlegend": false,
         "type": "bar",
         "width": 0.6,
         "x": [
          "2024-09-14T20:50:00"
         ],
         "xaxis": "x",
         "y": [
          61.54000000000087
         ],
         "yaxis": "y"
        },
        {
         "line": {
          "color": "gray",
          "width": 1
         },
         "mode": "lines",
         "showlegend": false,
         "type": "scatter",
         "x": [
          "2024-09-14T20:55:00",
          "2024-09-14T20:55:00"
         ],
         "xaxis": "x",
         "y": [
          59980.76,
          60047.3
         ],
         "yaxis": "y"
        },
        {
         "base": 60010.53,
         "marker": {
          "color": "gray",
          "line": {
           "width": 0
          }
         },
         "showlegend": false,
         "type": "bar",
         "width": 0.6,
         "x": [
          "2024-09-14T20:55:00"
         ],
         "xaxis": "x",
         "y": [
          13.480000000003201
         ],
         "yaxis": "y"
        },
        {
         "line": {
          "color": "darkgray",
          "width": 1
         },
         "mode": "lines",
         "showlegend": false,
         "type": "scatter",
         "x": [
          "2024-09-14T21:00:00",
          "2024-09-14T21:00:00"
         ],
         "xaxis": "x",
         "y": [
          60002.16,
          60039.9
         ],
         "yaxis": "y"
        },
        {
         "base": 60005.5,
         "marker": {
          "color": "darkgray",
          "line": {
           "width": 0
          }
         },
         "showlegend": false,
         "type": "bar",
         "width": 0.6,
         "x": [
          "2024-09-14T21:00:00"
         ],
         "xaxis": "x",
         "y": [
          18.5199999999968
         ],
         "yaxis": "y"
        },
        {
         "line": {
          "color": "darkgray",
          "width": 1
         },
         "mode": "lines",
         "showlegend": false,
         "type": "scatter",
         "x": [
          "2024-09-14T21:05:00",
          "2024-09-14T21:05:00"
         ],
         "xaxis": "x",
         "y": [
          59970.02,
          60005.51
         ],
         "yaxis": "y"
        },
        {
         "base": 59970.03,
         "marker": {
          "color": "darkgray",
          "line": {
           "width": 0
          }
         },
         "showlegend": false,
         "type": "bar",
         "width": 0.6,
         "x": [
          "2024-09-14T21:05:00"
         ],
         "xaxis": "x",
         "y": [
          35.470000000001164
         ],
         "yaxis": "y"
        },
        {
         "line": {
          "color": "gray",
          "width": 1
         },
         "mode": "lines",
         "showlegend": false,
         "type": "scatter",
         "x": [
          "2024-09-14T21:10:00",
          "2024-09-14T21:10:00"
         ],
         "xaxis": "x",
         "y": [
          59970.02,
          60008
         ],
         "yaxis": "y"
        },
        {
         "base": 59970.02,
         "marker": {
          "color": "gray",
          "line": {
           "width": 0
          }
         },
         "showlegend": false,
         "type": "bar",
         "width": 0.6,
         "x": [
          "2024-09-14T21:10:00"
         ],
         "xaxis": "x",
         "y": [
          37.970000000001164
         ],
         "yaxis": "y"
        },
        {
         "line": {
          "color": "darkgray",
          "width": 1
         },
         "mode": "lines",
         "showlegend": false,
         "type": "scatter",
         "x": [
          "2024-09-14T21:15:00",
          "2024-09-14T21:15:00"
         ],
         "xaxis": "x",
         "y": [
          59986.82,
          60030
         ],
         "yaxis": "y"
        },
        {
         "base": 60004.99,
         "marker": {
          "color": "darkgray",
          "line": {
           "width": 0
          }
         },
         "showlegend": false,
         "type": "bar",
         "width": 0.6,
         "x": [
          "2024-09-14T21:15:00"
         ],
         "xaxis": "x",
         "y": [
          3.0100000000020373
         ],
         "yaxis": "y"
        },
        {
         "line": {
          "color": "gray",
          "width": 1
         },
         "mode": "lines",
         "showlegend": false,
         "type": "scatter",
         "x": [
          "2024-09-14T21:20:00",
          "2024-09-14T21:20:00"
         ],
         "xaxis": "x",
         "y": [
          60004.99,
          60032
         ],
         "yaxis": "y"
        },
        {
         "base": 60004.99,
         "marker": {
          "color": "gray",
          "line": {
           "width": 0
          }
         },
         "showlegend": false,
         "type": "bar",
         "width": 0.6,
         "x": [
          "2024-09-14T21:20:00"
         ],
         "xaxis": "x",
         "y": [
          27.010000000002037
         ],
         "yaxis": "y"
        },
        {
         "line": {
          "color": "gray",
          "width": 1
         },
         "mode": "lines",
         "showlegend": false,
         "type": "scatter",
         "x": [
          "2024-09-14T21:25:00",
          "2024-09-14T21:25:00"
         ],
         "xaxis": "x",
         "y": [
          60031.99,
          60038.38
         ],
         "yaxis": "y"
        },
        {
         "base": 60031.99,
         "marker": {
          "color": "gray",
          "line": {
           "width": 0
          }
         },
         "showlegend": false,
         "type": "bar",
         "width": 0.6,
         "x": [
          "2024-09-14T21:25:00"
         ],
         "xaxis": "x",
         "y": [
          6.380000000004657
         ],
         "yaxis": "y"
        },
        {
         "line": {
          "color": "darkgray",
          "width": 1
         },
         "mode": "lines",
         "showlegend": false,
         "type": "scatter",
         "x": [
          "2024-09-14T21:30:00",
          "2024-09-14T21:30:00"
         ],
         "xaxis": "x",
         "y": [
          59976,
          60038.37
         ],
         "yaxis": "y"
        },
        {
         "base": 59976,
         "marker": {
          "color": "darkgray",
          "line": {
           "width": 0
          }
         },
         "showlegend": false,
         "type": "bar",
         "width": 0.6,
         "x": [
          "2024-09-14T21:30:00"
         ],
         "xaxis": "x",
         "y": [
          62.37000000000262
         ],
         "yaxis": "y"
        },
        {
         "line": {
          "color": "darkgray",
          "width": 1
         },
         "mode": "lines",
         "showlegend": false,
         "type": "scatter",
         "x": [
          "2024-09-14T21:35:00",
          "2024-09-14T21:35:00"
         ],
         "xaxis": "x",
         "y": [
          59950.21,
          59977.78
         ],
         "yaxis": "y"
        },
        {
         "base": 59960.37,
         "marker": {
          "color": "darkgray",
          "line": {
           "width": 0
          }
         },
         "showlegend": false,
         "type": "bar",
         "width": 0.6,
         "x": [
          "2024-09-14T21:35:00"
         ],
         "xaxis": "x",
         "y": [
          15.62999999999738
         ],
         "yaxis": "y"
        },
        {
         "line": {
          "color": "lime",
          "width": 1
         },
         "mode": "lines",
         "showlegend": false,
         "type": "scatter",
         "x": [
          "2024-09-14T21:40:00",
          "2024-09-14T21:40:00"
         ],
         "xaxis": "x",
         "y": [
          59960.37,
          60029.79
         ],
         "yaxis": "y"
        },
        {
         "base": 59960.37,
         "marker": {
          "color": "lime",
          "line": {
           "width": 0
          }
         },
         "showlegend": false,
         "type": "bar",
         "width": 0.6,
         "x": [
          "2024-09-14T21:40:00"
         ],
         "xaxis": "x",
         "y": [
          57.90999999999622
         ],
         "yaxis": "y"
        },
        {
         "line": {
          "color": "darkgray",
          "width": 1
         },
         "mode": "lines",
         "showlegend": false,
         "type": "scatter",
         "x": [
          "2024-09-14T21:45:00",
          "2024-09-14T21:45:00"
         ],
         "xaxis": "x",
         "y": [
          60002,
          60018.29
         ],
         "yaxis": "y"
        },
        {
         "base": 60008,
         "marker": {
          "color": "darkgray",
          "line": {
           "width": 0
          }
         },
         "showlegend": false,
         "type": "bar",
         "width": 0.6,
         "x": [
          "2024-09-14T21:45:00"
         ],
         "xaxis": "x",
         "y": [
          10.290000000000873
         ],
         "yaxis": "y"
        },
        {
         "line": {
          "color": "gray",
          "width": 1
         },
         "mode": "lines",
         "showlegend": false,
         "type": "scatter",
         "x": [
          "2024-09-14T21:50:00",
          "2024-09-14T21:50:00"
         ],
         "xaxis": "x",
         "y": [
          60008,
          60056.71
         ],
         "yaxis": "y"
        },
        {
         "base": 60008,
         "marker": {
          "color": "gray",
          "line": {
           "width": 0
          }
         },
         "showlegend": false,
         "type": "bar",
         "width": 0.6,
         "x": [
          "2024-09-14T21:50:00"
         ],
         "xaxis": "x",
         "y": [
          48.69999999999709
         ],
         "yaxis": "y"
        },
        {
         "line": {
          "color": "darkgray",
          "width": 1
         },
         "mode": "lines",
         "showlegend": false,
         "type": "scatter",
         "x": [
          "2024-09-14T21:55:00",
          "2024-09-14T21:55:00"
         ],
         "xaxis": "x",
         "y": [
          60031.42,
          60056.71
         ],
         "yaxis": "y"
        },
        {
         "base": 60036,
         "marker": {
          "color": "darkgray",
          "line": {
           "width": 0
          }
         },
         "showlegend": false,
         "type": "bar",
         "width": 0.6,
         "x": [
          "2024-09-14T21:55:00"
         ],
         "xaxis": "x",
         "y": [
          20.69999999999709
         ],
         "yaxis": "y"
        },
        {
         "line": {
          "color": "lime",
          "width": 1
         },
         "mode": "lines",
         "showlegend": false,
         "type": "scatter",
         "x": [
          "2024-09-14T22:00:00",
          "2024-09-14T22:00:00"
         ],
         "xaxis": "x",
         "y": [
          60026,
          60125
         ],
         "yaxis": "y"
        },
        {
         "base": 60036.01,
         "marker": {
          "color": "lime",
          "line": {
           "width": 0
          }
         },
         "showlegend": false,
         "type": "bar",
         "width": 0.6,
         "x": [
          "2024-09-14T22:00:00"
         ],
         "xaxis": "x",
         "y": [
          34.00999999999476
         ],
         "yaxis": "y"
        },
        {
         "line": {
          "color": "darkgray",
          "width": 1
         },
         "mode": "lines",
         "showlegend": false,
         "type": "scatter",
         "x": [
          "2024-09-14T22:05:00",
          "2024-09-14T22:05:00"
         ],
         "xaxis": "x",
         "y": [
          60000,
          60070.02
         ],
         "yaxis": "y"
        },
        {
         "base": 60011.55,
         "marker": {
          "color": "darkgray",
          "line": {
           "width": 0
          }
         },
         "showlegend": false,
         "type": "bar",
         "width": 0.6,
         "x": [
          "2024-09-14T22:05:00"
         ],
         "xaxis": "x",
         "y": [
          58.45999999999913
         ],
         "yaxis": "y"
        },
        {
         "line": {
          "color": "darkgray",
          "width": 1
         },
         "mode": "lines",
         "showlegend": false,
         "type": "scatter",
         "x": [
          "2024-09-14T22:10:00",
          "2024-09-14T22:10:00"
         ],
         "xaxis": "x",
         "y": [
          59946,
          60011.56
         ],
         "yaxis": "y"
        },
        {
         "base": 59971.1,
         "marker": {
          "color": "darkgray",
          "line": {
           "width": 0
          }
         },
         "showlegend": false,
         "type": "bar",
         "width": 0.6,
         "x": [
          "2024-09-14T22:10:00"
         ],
         "xaxis": "x",
         "y": [
          40.450000000004366
         ],
         "yaxis": "y"
        },
        {
         "line": {
          "color": "darkgray",
          "width": 1
         },
         "mode": "lines",
         "showlegend": false,
         "type": "scatter",
         "x": [
          "2024-09-14T22:15:00",
          "2024-09-14T22:15:00"
         ],
         "xaxis": "x",
         "y": [
          59940,
          59978.01
         ],
         "yaxis": "y"
        },
        {
         "base": 59954.61,
         "marker": {
          "color": "darkgray",
          "line": {
           "width": 0
          }
         },
         "showlegend": false,
         "type": "bar",
         "width": 0.6,
         "x": [
          "2024-09-14T22:15:00"
         ],
         "xaxis": "x",
         "y": [
          16.489999999997963
         ],
         "yaxis": "y"
        },
        {
         "line": {
          "color": "gray",
          "width": 1
         },
         "mode": "lines",
         "showlegend": false,
         "type": "scatter",
         "x": [
          "2024-09-14T22:20:00",
          "2024-09-14T22:20:00"
         ],
         "xaxis": "x",
         "y": [
          59940.24,
          59972
         ],
         "yaxis": "y"
        },
        {
         "base": 59954.61,
         "marker": {
          "color": "gray",
          "line": {
           "width": 0
          }
         },
         "showlegend": false,
         "type": "bar",
         "width": 0.6,
         "x": [
          "2024-09-14T22:20:00"
         ],
         "xaxis": "x",
         "y": [
          15.37999999999738
         ],
         "yaxis": "y"
        },
        {
         "line": {
          "color": "gray",
          "width": 1
         },
         "mode": "lines",
         "showlegend": false,
         "type": "scatter",
         "x": [
          "2024-09-14T22:25:00",
          "2024-09-14T22:25:00"
         ],
         "xaxis": "x",
         "y": [
          59969.99,
          59986.02
         ],
         "yaxis": "y"
        },
        {
         "base": 59969.99,
         "marker": {
          "color": "gray",
          "line": {
           "width": 0
          }
         },
         "showlegend": false,
         "type": "bar",
         "width": 0.6,
         "x": [
          "2024-09-14T22:25:00"
         ],
         "xaxis": "x",
         "y": [
          6.0200000000040745
         ],
         "yaxis": "y"
        },
        {
         "line": {
          "color": "gray",
          "width": 1
         },
         "mode": "lines",
         "showlegend": false,
         "type": "scatter",
         "x": [
          "2024-09-14T22:30:00",
          "2024-09-14T22:30:00"
         ],
         "xaxis": "x",
         "y": [
          59976,
          60022
         ],
         "yaxis": "y"
        },
        {
         "base": 59976,
         "marker": {
          "color": "gray",
          "line": {
           "width": 0
          }
         },
         "showlegend": false,
         "type": "bar",
         "width": 0.6,
         "x": [
          "2024-09-14T22:30:00"
         ],
         "xaxis": "x",
         "y": [
          46
         ],
         "yaxis": "y"
        },
        {
         "line": {
          "color": "lime",
          "width": 1
         },
         "mode": "lines",
         "showlegend": false,
         "type": "scatter",
         "x": [
          "2024-09-14T22:35:00",
          "2024-09-14T22:35:00"
         ],
         "xaxis": "x",
         "y": [
          60001.64,
          60119.99
         ],
         "yaxis": "y"
        },
        {
         "base": 60021.99,
         "marker": {
          "color": "lime",
          "line": {
           "width": 0
          }
         },
         "showlegend": false,
         "type": "bar",
         "width": 0.6,
         "x": [
          "2024-09-14T22:35:00"
         ],
         "xaxis": "x",
         "y": [
          25.970000000001164
         ],
         "yaxis": "y"
        },
        {
         "line": {
          "color": "darkgray",
          "width": 1
         },
         "mode": "lines",
         "showlegend": false,
         "type": "scatter",
         "x": [
          "2024-09-14T22:40:00",
          "2024-09-14T22:40:00"
         ],
         "xaxis": "x",
         "y": [
          60044.78,
          60068
         ],
         "yaxis": "y"
        },
        {
         "base": 60044.78,
         "marker": {
          "color": "darkgray",
          "line": {
           "width": 0
          }
         },
         "showlegend": false,
         "type": "bar",
         "width": 0.6,
         "x": [
          "2024-09-14T22:40:00"
         ],
         "xaxis": "x",
         "y": [
          3.180000000000291
         ],
         "yaxis": "y"
        },
        {
         "line": {
          "color": "darkgray",
          "width": 1
         },
         "mode": "lines",
         "showlegend": false,
         "type": "scatter",
         "x": [
          "2024-09-14T22:45:00",
          "2024-09-14T22:45:00"
         ],
         "xaxis": "x",
         "y": [
          60035.1,
          60057.99
         ],
         "yaxis": "y"
        },
        {
         "base": 60035.1,
         "marker": {
          "color": "darkgray",
          "line": {
           "width": 0
          }
         },
         "showlegend": false,
         "type": "bar",
         "width": 0.6,
         "x": [
          "2024-09-14T22:45:00"
         ],
         "xaxis": "x",
         "y": [
          9.680000000000291
         ],
         "yaxis": "y"
        },
        {
         "line": {
          "color": "darkgray",
          "width": 1
         },
         "mode": "lines",
         "showlegend": false,
         "type": "scatter",
         "x": [
          "2024-09-14T22:50:00",
          "2024-09-14T22:50:00"
         ],
         "xaxis": "x",
         "y": [
          60006,
          60040
         ],
         "yaxis": "y"
        },
        {
         "base": 60021.99,
         "marker": {
          "color": "darkgray",
          "line": {
           "width": 0
          }
         },
         "showlegend": false,
         "type": "bar",
         "width": 0.6,
         "x": [
          "2024-09-14T22:50:00"
         ],
         "xaxis": "x",
         "y": [
          13.110000000000582
         ],
         "yaxis": "y"
        },
        {
         "line": {
          "color": "darkgray",
          "width": 1
         },
         "mode": "lines",
         "showlegend": false,
         "type": "scatter",
         "x": [
          "2024-09-14T22:55:00",
          "2024-09-14T22:55:00"
         ],
         "xaxis": "x",
         "y": [
          60002.45,
          60021.99
         ],
         "yaxis": "y"
        },
        {
         "base": 60006.97,
         "marker": {
          "color": "darkgray",
          "line": {
           "width": 0
          }
         },
         "showlegend": false,
         "type": "bar",
         "width": 0.6,
         "x": [
          "2024-09-14T22:55:00"
         ],
         "xaxis": "x",
         "y": [
          15.019999999996799
         ],
         "yaxis": "y"
        },
        {
         "line": {
          "color": "gray",
          "width": 1
         },
         "mode": "lines",
         "showlegend": false,
         "type": "scatter",
         "x": [
          "2024-09-14T23:00:00",
          "2024-09-14T23:00:00"
         ],
         "xaxis": "x",
         "y": [
          60006.97,
          60047.9
         ],
         "yaxis": "y"
        },
        {
         "base": 60006.97,
         "marker": {
          "color": "gray",
          "line": {
           "width": 0
          }
         },
         "showlegend": false,
         "type": "bar",
         "width": 0.6,
         "x": [
          "2024-09-14T23:00:00"
         ],
         "xaxis": "x",
         "y": [
          33.029999999998836
         ],
         "yaxis": "y"
        },
        {
         "line": {
          "color": "darkgray",
          "width": 1
         },
         "mode": "lines",
         "showlegend": false,
         "type": "scatter",
         "x": [
          "2024-09-14T23:05:00",
          "2024-09-14T23:05:00"
         ],
         "xaxis": "x",
         "y": [
          60036.73,
          60050
         ],
         "yaxis": "y"
        },
        {
         "base": 60036.73,
         "marker": {
          "color": "darkgray",
          "line": {
           "width": 0
          }
         },
         "showlegend": false,
         "type": "bar",
         "width": 0.6,
         "x": [
          "2024-09-14T23:05:00"
         ],
         "xaxis": "x",
         "y": [
          3.2699999999967986
         ],
         "yaxis": "y"
        },
        {
         "line": {
          "color": "darkgray",
          "width": 1
         },
         "mode": "lines",
         "showlegend": false,
         "type": "scatter",
         "x": [
          "2024-09-14T23:10:00",
          "2024-09-14T23:10:00"
         ],
         "xaxis": "x",
         "y": [
          60008.14,
          60036.74
         ],
         "yaxis": "y"
        },
        {
         "base": 60009.45,
         "marker": {
          "color": "darkgray",
          "line": {
           "width": 0
          }
         },
         "showlegend": false,
         "type": "bar",
         "width": 0.6,
         "x": [
          "2024-09-14T23:10:00"
         ],
         "xaxis": "x",
         "y": [
          27.290000000000873
         ],
         "yaxis": "y"
        },
        {
         "line": {
          "color": "darkgray",
          "width": 1
         },
         "mode": "lines",
         "showlegend": false,
         "type": "scatter",
         "x": [
          "2024-09-14T23:15:00",
          "2024-09-14T23:15:00"
         ],
         "xaxis": "x",
         "y": [
          59980,
          60021.17
         ],
         "yaxis": "y"
        },
        {
         "base": 60007.5,
         "marker": {
          "color": "darkgray",
          "line": {
           "width": 0
          }
         },
         "showlegend": false,
         "type": "bar",
         "width": 0.6,
         "x": [
          "2024-09-14T23:15:00"
         ],
         "xaxis": "x",
         "y": [
          1.9499999999970896
         ],
         "yaxis": "y"
        },
        {
         "line": {
          "color": "darkgray",
          "width": 1
         },
         "mode": "lines",
         "showlegend": false,
         "type": "scatter",
         "x": [
          "2024-09-14T23:20:00",
          "2024-09-14T23:20:00"
         ],
         "xaxis": "x",
         "y": [
          59986.51,
          60007.51
         ],
         "yaxis": "y"
        },
        {
         "base": 59994.28,
         "marker": {
          "color": "darkgray",
          "line": {
           "width": 0
          }
         },
         "showlegend": false,
         "type": "bar",
         "width": 0.6,
         "x": [
          "2024-09-14T23:20:00"
         ],
         "xaxis": "x",
         "y": [
          13.230000000003201
         ],
         "yaxis": "y"
        },
        {
         "line": {
          "color": "darkgray",
          "width": 1
         },
         "mode": "lines",
         "showlegend": false,
         "type": "scatter",
         "x": [
          "2024-09-14T23:25:00",
          "2024-09-14T23:25:00"
         ],
         "xaxis": "x",
         "y": [
          59962,
          59994.28
         ],
         "yaxis": "y"
        },
        {
         "base": 59966.01,
         "marker": {
          "color": "darkgray",
          "line": {
           "width": 0
          }
         },
         "showlegend": false,
         "type": "bar",
         "width": 0.6,
         "x": [
          "2024-09-14T23:25:00"
         ],
         "xaxis": "x",
         "y": [
          28.25999999999476
         ],
         "yaxis": "y"
        },
        {
         "line": {
          "color": "gray",
          "width": 1
         },
         "mode": "lines",
         "showlegend": false,
         "type": "scatter",
         "x": [
          "2024-09-14T23:30:00",
          "2024-09-14T23:30:00"
         ],
         "xaxis": "x",
         "y": [
          59966.01,
          59983.49
         ],
         "yaxis": "y"
        },
        {
         "base": 59966.01,
         "marker": {
          "color": "gray",
          "line": {
           "width": 0
          }
         },
         "showlegend": false,
         "type": "bar",
         "width": 0.6,
         "x": [
          "2024-09-14T23:30:00"
         ],
         "xaxis": "x",
         "y": [
          6.7299999999959255
         ],
         "yaxis": "y"
        },
        {
         "line": {
          "color": "fuchsia",
          "width": 1
         },
         "mode": "lines",
         "showlegend": false,
         "type": "scatter",
         "x": [
          "2024-09-14T23:35:00",
          "2024-09-14T23:35:00"
         ],
         "xaxis": "x",
         "y": [
          59936.91,
          59972.75
         ],
         "yaxis": "y"
        },
        {
         "base": 59955.98,
         "marker": {
          "color": "fuchsia",
          "line": {
           "width": 0
          }
         },
         "showlegend": false,
         "type": "bar",
         "width": 0.6,
         "x": [
          "2024-09-14T23:35:00"
         ],
         "xaxis": "x",
         "y": [
          16.75999999999476
         ],
         "yaxis": "y"
        },
        {
         "line": {
          "color": "gray",
          "width": 1
         },
         "mode": "lines",
         "showlegend": false,
         "type": "scatter",
         "x": [
          "2024-09-14T23:40:00",
          "2024-09-14T23:40:00"
         ],
         "xaxis": "x",
         "y": [
          59955.98,
          59967.98
         ],
         "yaxis": "y"
        },
        {
         "base": 59955.98,
         "marker": {
          "color": "gray",
          "line": {
           "width": 0
          }
         },
         "showlegend": false,
         "type": "bar",
         "width": 0.6,
         "x": [
          "2024-09-14T23:40:00"
         ],
         "xaxis": "x",
         "y": [
          7.930000000000291
         ],
         "yaxis": "y"
        },
        {
         "line": {
          "color": "gray",
          "width": 1
         },
         "mode": "lines",
         "showlegend": false,
         "type": "scatter",
         "x": [
          "2024-09-14T23:45:00",
          "2024-09-14T23:45:00"
         ],
         "xaxis": "x",
         "y": [
          59963.9,
          59999.99
         ],
         "yaxis": "y"
        },
        {
         "base": 59963.9,
         "marker": {
          "color": "gray",
          "line": {
           "width": 0
          }
         },
         "showlegend": false,
         "type": "bar",
         "width": 0.6,
         "x": [
          "2024-09-14T23:45:00"
         ],
         "xaxis": "x",
         "y": [
          36.080000000001746
         ],
         "yaxis": "y"
        },
        {
         "line": {
          "color": "darkgray",
          "width": 1
         },
         "mode": "lines",
         "showlegend": false,
         "type": "scatter",
         "x": [
          "2024-09-14T23:50:00",
          "2024-09-14T23:50:00"
         ],
         "xaxis": "x",
         "y": [
          59976.86,
          59999.99
         ],
         "yaxis": "y"
        },
        {
         "base": 59987.99,
         "marker": {
          "color": "darkgray",
          "line": {
           "width": 0
          }
         },
         "showlegend": false,
         "type": "bar",
         "width": 0.6,
         "x": [
          "2024-09-14T23:50:00"
         ],
         "xaxis": "x",
         "y": [
          11.990000000005239
         ],
         "yaxis": "y"
        },
        {
         "line": {
          "color": "gray",
          "width": 1
         },
         "mode": "lines",
         "showlegend": false,
         "type": "scatter",
         "x": [
          "2024-09-14T23:55:00",
          "2024-09-14T23:55:00"
         ],
         "xaxis": "x",
         "y": [
          59987.98,
          59995.59
         ],
         "yaxis": "y"
        },
        {
         "base": 59987.98,
         "marker": {
          "color": "gray",
          "line": {
           "width": 0
          }
         },
         "showlegend": false,
         "type": "bar",
         "width": 0.6,
         "x": [
          "2024-09-14T23:55:00"
         ],
         "xaxis": "x",
         "y": [
          5.049999999995634
         ],
         "yaxis": "y"
        },
        {
         "line": {
          "color": "blue",
          "width": 1
         },
         "mode": "lines",
         "showlegend": false,
         "type": "scatter",
         "x": [
          "2024-09-15T00:00:00",
          "2024-09-15T00:00:00"
         ],
         "xaxis": "x",
         "y": [
          59988,
          60010
         ],
         "yaxis": "y"
        },
        {
         "base": 59993.02,
         "marker": {
          "color": "blue",
          "line": {
           "width": 0
          }
         },
         "showlegend": false,
         "type": "bar",
         "width": 0.6,
         "x": [
          "2024-09-15T00:00:00"
         ],
         "xaxis": "x",
         "y": [
          14.890000000006694
         ],
         "yaxis": "y"
        },
        {
         "line": {
          "color": "gray",
          "width": 1
         },
         "mode": "lines",
         "showlegend": false,
         "type": "scatter",
         "x": [
          "2024-09-15T00:05:00",
          "2024-09-15T00:05:00"
         ],
         "xaxis": "x",
         "y": [
          60002,
          60010
         ],
         "yaxis": "y"
        },
        {
         "base": 60007.91,
         "marker": {
          "color": "gray",
          "line": {
           "width": 0
          }
         },
         "showlegend": false,
         "type": "bar",
         "width": 0.6,
         "x": [
          "2024-09-15T00:05:00"
         ],
         "xaxis": "x",
         "y": [
          0.7799999999988358
         ],
         "yaxis": "y"
        },
        {
         "line": {
          "color": "gray",
          "width": 1
         },
         "mode": "lines",
         "showlegend": false,
         "type": "scatter",
         "x": [
          "2024-09-15T00:10:00",
          "2024-09-15T00:10:00"
         ],
         "xaxis": "x",
         "y": [
          60002.22,
          60024
         ],
         "yaxis": "y"
        },
        {
         "base": 60008.68,
         "marker": {
          "color": "gray",
          "line": {
           "width": 0
          }
         },
         "showlegend": false,
         "type": "bar",
         "width": 0.6,
         "x": [
          "2024-09-15T00:10:00"
         ],
         "xaxis": "x",
         "y": [
          15.309999999997672
         ],
         "yaxis": "y"
        },
        {
         "line": {
          "color": "darkgray",
          "width": 1
         },
         "mode": "lines",
         "showlegend": false,
         "type": "scatter",
         "x": [
          "2024-09-15T00:15:00",
          "2024-09-15T00:15:00"
         ],
         "xaxis": "x",
         "y": [
          60005.5,
          60024
         ],
         "yaxis": "y"
        },
        {
         "base": 60011.99,
         "marker": {
          "color": "darkgray",
          "line": {
           "width": 0
          }
         },
         "showlegend": false,
         "type": "bar",
         "width": 0.6,
         "x": [
          "2024-09-15T00:15:00"
         ],
         "xaxis": "x",
         "y": [
          12.010000000002037
         ],
         "yaxis": "y"
        },
        {
         "line": {
          "color": "gray",
          "width": 1
         },
         "mode": "lines",
         "showlegend": false,
         "type": "scatter",
         "x": [
          "2024-09-15T00:20:00",
          "2024-09-15T00:20:00"
         ],
         "xaxis": "x",
         "y": [
          60008.95,
          60040
         ],
         "yaxis": "y"
        },
        {
         "base": 60011.98,
         "marker": {
          "color": "gray",
          "line": {
           "width": 0
          }
         },
         "showlegend": false,
         "type": "bar",
         "width": 0.6,
         "x": [
          "2024-09-15T00:20:00"
         ],
         "xaxis": "x",
         "y": [
          28.00999999999476
         ],
         "yaxis": "y"
        },
        {
         "line": {
          "color": "gray",
          "width": 1
         },
         "mode": "lines",
         "showlegend": false,
         "type": "scatter",
         "x": [
          "2024-09-15T00:25:00",
          "2024-09-15T00:25:00"
         ],
         "xaxis": "x",
         "y": [
          60039.99,
          60070
         ],
         "yaxis": "y"
        },
        {
         "base": 60040,
         "marker": {
          "color": "gray",
          "line": {
           "width": 0
          }
         },
         "showlegend": false,
         "type": "bar",
         "width": 0.6,
         "x": [
          "2024-09-15T00:25:00"
         ],
         "xaxis": "x",
         "y": [
          29.989999999997963
         ],
         "yaxis": "y"
        },
        {
         "line": {
          "color": "fuchsia",
          "width": 1
         },
         "mode": "lines",
         "showlegend": false,
         "type": "scatter",
         "x": [
          "2024-09-15T00:30:00",
          "2024-09-15T00:30:00"
         ],
         "xaxis": "x",
         "y": [
          60063.01,
          60070
         ],
         "yaxis": "y"
        },
        {
         "base": 60063.02,
         "marker": {
          "color": "fuchsia",
          "line": {
           "width": 0
          }
         },
         "showlegend": false,
         "type": "bar",
         "width": 0.6,
         "x": [
          "2024-09-15T00:30:00"
         ],
         "xaxis": "x",
         "y": [
          6.970000000001164
         ],
         "yaxis": "y"
        },
        {
         "line": {
          "color": "gray",
          "width": 1
         },
         "mode": "lines",
         "showlegend": false,
         "type": "scatter",
         "x": [
          "2024-09-15T00:35:00",
          "2024-09-15T00:35:00"
         ],
         "xaxis": "x",
         "y": [
          60063.01,
          60070.68
         ],
         "yaxis": "y"
        },
        {
         "base": 60063.02,
         "marker": {
          "color": "gray",
          "line": {
           "width": 0
          }
         },
         "showlegend": false,
         "type": "bar",
         "width": 0.6,
         "x": [
          "2024-09-15T00:35:00"
         ],
         "xaxis": "x",
         "y": [
          2.9900000000052387
         ],
         "yaxis": "y"
        },
        {
         "line": {
          "color": "gray",
          "width": 1
         },
         "mode": "lines",
         "showlegend": false,
         "type": "scatter",
         "x": [
          "2024-09-15T00:40:00",
          "2024-09-15T00:40:00"
         ],
         "xaxis": "x",
         "y": [
          60066.01,
          60098.4
         ],
         "yaxis": "y"
        },
        {
         "base": 60066.01,
         "marker": {
          "color": "gray",
          "line": {
           "width": 0
          }
         },
         "showlegend": false,
         "type": "bar",
         "width": 0.6,
         "x": [
          "2024-09-15T00:40:00"
         ],
         "xaxis": "x",
         "y": [
          28.970000000001164
         ],
         "yaxis": "y"
        },
        {
         "line": {
          "color": "gray",
          "width": 1
         },
         "mode": "lines",
         "showlegend": false,
         "type": "scatter",
         "x": [
          "2024-09-15T00:45:00",
          "2024-09-15T00:45:00"
         ],
         "xaxis": "x",
         "y": [
          60086,
          60107.99
         ],
         "yaxis": "y"
        },
        {
         "base": 60094.98,
         "marker": {
          "color": "gray",
          "line": {
           "width": 0
          }
         },
         "showlegend": false,
         "type": "bar",
         "width": 0.6,
         "x": [
          "2024-09-15T00:45:00"
         ],
         "xaxis": "x",
         "y": [
          13
         ],
         "yaxis": "y"
        },
        {
         "line": {
          "color": "red",
          "width": 1
         },
         "mode": "lines",
         "showlegend": false,
         "type": "scatter",
         "x": [
          "2024-09-15T00:50:00",
          "2024-09-15T00:50:00"
         ],
         "xaxis": "x",
         "y": [
          60060,
          60119.42
         ],
         "yaxis": "y"
        },
        {
         "base": 60060.01,
         "marker": {
          "color": "red",
          "line": {
           "width": 0
          }
         },
         "showlegend": false,
         "type": "bar",
         "width": 0.6,
         "x": [
          "2024-09-15T00:50:00"
         ],
         "xaxis": "x",
         "y": [
          47.979999999995925
         ],
         "yaxis": "y"
        },
        {
         "line": {
          "color": "red",
          "width": 1
         },
         "mode": "lines",
         "showlegend": false,
         "type": "scatter",
         "x": [
          "2024-09-15T00:55:00",
          "2024-09-15T00:55:00"
         ],
         "xaxis": "x",
         "y": [
          59986.01,
          60060.01
         ],
         "yaxis": "y"
        },
        {
         "base": 60025.95,
         "marker": {
          "color": "red",
          "line": {
           "width": 0
          }
         },
         "showlegend": false,
         "type": "bar",
         "width": 0.6,
         "x": [
          "2024-09-15T00:55:00"
         ],
         "xaxis": "x",
         "y": [
          34.05000000000291
         ],
         "yaxis": "y"
        },
        {
         "line": {
          "color": "lime",
          "width": 1
         },
         "mode": "lines",
         "showlegend": false,
         "type": "scatter",
         "x": [
          "2024-09-15T01:00:00",
          "2024-09-15T01:00:00"
         ],
         "xaxis": "x",
         "y": [
          60025.95,
          60105.36
         ],
         "yaxis": "y"
        },
        {
         "base": 60025.95,
         "marker": {
          "color": "lime",
          "line": {
           "width": 0
          }
         },
         "showlegend": false,
         "type": "bar",
         "width": 0.6,
         "x": [
          "2024-09-15T01:00:00"
         ],
         "xaxis": "x",
         "y": [
          42.06000000000495
         ],
         "yaxis": "y"
        },
        {
         "line": {
          "color": "gray",
          "width": 1
         },
         "mode": "lines",
         "showlegend": false,
         "type": "scatter",
         "x": [
          "2024-09-15T01:05:00",
          "2024-09-15T01:05:00"
         ],
         "xaxis": "x",
         "y": [
          60032,
          60092.04
         ],
         "yaxis": "y"
        },
        {
         "base": 60068,
         "marker": {
          "color": "gray",
          "line": {
           "width": 0
          }
         },
         "showlegend": false,
         "type": "bar",
         "width": 0.6,
         "x": [
          "2024-09-15T01:05:00"
         ],
         "xaxis": "x",
         "y": [
          24.029999999998836
         ],
         "yaxis": "y"
        },
        {
         "line": {
          "color": "gray",
          "width": 1
         },
         "mode": "lines",
         "showlegend": false,
         "type": "scatter",
         "x": [
          "2024-09-15T01:10:00",
          "2024-09-15T01:10:00"
         ],
         "xaxis": "x",
         "y": [
          60092.03,
          60121
         ],
         "yaxis": "y"
        },
        {
         "base": 60092.04,
         "marker": {
          "color": "gray",
          "line": {
           "width": 0
          }
         },
         "showlegend": false,
         "type": "bar",
         "width": 0.6,
         "x": [
          "2024-09-15T01:10:00"
         ],
         "xaxis": "x",
         "y": [
          24.12000000000262
         ],
         "yaxis": "y"
        },
        {
         "line": {
          "color": "lime",
          "width": 1
         },
         "mode": "lines",
         "showlegend": false,
         "type": "scatter",
         "x": [
          "2024-09-15T01:15:00",
          "2024-09-15T01:15:00"
         ],
         "xaxis": "x",
         "y": [
          60090.85,
          60211.74
         ],
         "yaxis": "y"
        },
        {
         "base": 60116.16,
         "marker": {
          "color": "lime",
          "line": {
           "width": 0
          }
         },
         "showlegend": false,
         "type": "bar",
         "width": 0.6,
         "x": [
          "2024-09-15T01:15:00"
         ],
         "xaxis": "x",
         "y": [
          94.94999999999709
         ],
         "yaxis": "y"
        },
        {
         "line": {
          "color": "fuchsia",
          "width": 1
         },
         "mode": "lines",
         "showlegend": false,
         "type": "scatter",
         "x": [
          "2024-09-15T01:20:00",
          "2024-09-15T01:20:00"
         ],
         "xaxis": "x",
         "y": [
          60169.58,
          60250.29
         ],
         "yaxis": "y"
        },
        {
         "base": 60169.58,
         "marker": {
          "color": "fuchsia",
          "line": {
           "width": 0
          }
         },
         "showlegend": false,
         "type": "bar",
         "width": 0.6,
         "x": [
          "2024-09-15T01:20:00"
         ],
         "xaxis": "x",
         "y": [
          41.54000000000087
         ],
         "yaxis": "y"
        },
        {
         "line": {
          "color": "gray",
          "width": 1
         },
         "mode": "lines",
         "showlegend": false,
         "type": "scatter",
         "x": [
          "2024-09-15T01:25:00",
          "2024-09-15T01:25:00"
         ],
         "xaxis": "x",
         "y": [
          60154,
          60195.99
         ],
         "yaxis": "y"
        },
        {
         "base": 60169.58,
         "marker": {
          "color": "gray",
          "line": {
           "width": 0
          }
         },
         "showlegend": false,
         "type": "bar",
         "width": 0.6,
         "x": [
          "2024-09-15T01:25:00"
         ],
         "xaxis": "x",
         "y": [
          19.419999999998254
         ],
         "yaxis": "y"
        },
        {
         "line": {
          "color": "lime",
          "width": 1
         },
         "mode": "lines",
         "showlegend": false,
         "type": "scatter",
         "x": [
          "2024-09-15T01:30:00",
          "2024-09-15T01:30:00"
         ],
         "xaxis": "x",
         "y": [
          60188.99,
          60280.06
         ],
         "yaxis": "y"
        },
        {
         "base": 60189,
         "marker": {
          "color": "lime",
          "line": {
           "width": 0
          }
         },
         "showlegend": false,
         "type": "bar",
         "width": 0.6,
         "x": [
          "2024-09-15T01:30:00"
         ],
         "xaxis": "x",
         "y": [
          67
         ],
         "yaxis": "y"
        },
        {
         "line": {
          "color": "darkgray",
          "width": 1
         },
         "mode": "lines",
         "showlegend": false,
         "type": "scatter",
         "x": [
          "2024-09-15T01:35:00",
          "2024-09-15T01:35:00"
         ],
         "xaxis": "x",
         "y": [
          60206,
          60256
         ],
         "yaxis": "y"
        },
        {
         "base": 60215.18,
         "marker": {
          "color": "darkgray",
          "line": {
           "width": 0
          }
         },
         "showlegend": false,
         "type": "bar",
         "width": 0.6,
         "x": [
          "2024-09-15T01:35:00"
         ],
         "xaxis": "x",
         "y": [
          40.81999999999971
         ],
         "yaxis": "y"
        },
        {
         "line": {
          "color": "darkgray",
          "width": 1
         },
         "mode": "lines",
         "showlegend": false,
         "type": "scatter",
         "x": [
          "2024-09-15T01:40:00",
          "2024-09-15T01:40:00"
         ],
         "xaxis": "x",
         "y": [
          60173.9,
          60220
         ],
         "yaxis": "y"
        },
        {
         "base": 60186.45,
         "marker": {
          "color": "darkgray",
          "line": {
           "width": 0
          }
         },
         "showlegend": false,
         "type": "bar",
         "width": 0.6,
         "x": [
          "2024-09-15T01:40:00"
         ],
         "xaxis": "x",
         "y": [
          28.7300000000032
         ],
         "yaxis": "y"
        },
        {
         "line": {
          "color": "gray",
          "width": 1
         },
         "mode": "lines",
         "showlegend": false,
         "type": "scatter",
         "x": [
          "2024-09-15T01:45:00",
          "2024-09-15T01:45:00"
         ],
         "xaxis": "x",
         "y": [
          60186.44,
          60220
         ],
         "yaxis": "y"
        },
        {
         "base": 60186.44,
         "marker": {
          "color": "gray",
          "line": {
           "width": 0
          }
         },
         "showlegend": false,
         "type": "bar",
         "width": 0.6,
         "x": [
          "2024-09-15T01:45:00"
         ],
         "xaxis": "x",
         "y": [
          33.54000000000087
         ],
         "yaxis": "y"
        },
        {
         "line": {
          "color": "gray",
          "width": 1
         },
         "mode": "lines",
         "showlegend": false,
         "type": "scatter",
         "x": [
          "2024-09-15T01:50:00",
          "2024-09-15T01:50:00"
         ],
         "xaxis": "x",
         "y": [
          60219.98,
          60260
         ],
         "yaxis": "y"
        },
        {
         "base": 60219.98,
         "marker": {
          "color": "gray",
          "line": {
           "width": 0
          }
         },
         "showlegend": false,
         "type": "bar",
         "width": 0.6,
         "x": [
          "2024-09-15T01:50:00"
         ],
         "xaxis": "x",
         "y": [
          36.0199999999968
         ],
         "yaxis": "y"
        },
        {
         "line": {
          "color": "darkgray",
          "width": 1
         },
         "mode": "lines",
         "showlegend": false,
         "type": "scatter",
         "x": [
          "2024-09-15T01:55:00",
          "2024-09-15T01:55:00"
         ],
         "xaxis": "x",
         "y": [
          60235.22,
          60260
         ],
         "yaxis": "y"
        },
        {
         "base": 60235.22,
         "marker": {
          "color": "darkgray",
          "line": {
           "width": 0
          }
         },
         "showlegend": false,
         "type": "bar",
         "width": 0.6,
         "x": [
          "2024-09-15T01:55:00"
         ],
         "xaxis": "x",
         "y": [
          20.779999999998836
         ],
         "yaxis": "y"
        },
        {
         "line": {
          "color": "darkgray",
          "width": 1
         },
         "mode": "lines",
         "showlegend": false,
         "type": "scatter",
         "x": [
          "2024-09-15T02:00:00",
          "2024-09-15T02:00:00"
         ],
         "xaxis": "x",
         "y": [
          60205.03,
          60245.09
         ],
         "yaxis": "y"
        },
        {
         "base": 60205.04,
         "marker": {
          "color": "darkgray",
          "line": {
           "width": 0
          }
         },
         "showlegend": false,
         "type": "bar",
         "width": 0.6,
         "x": [
          "2024-09-15T02:00:00"
         ],
         "xaxis": "x",
         "y": [
          30.18000000000029
         ],
         "yaxis": "y"
        },
        {
         "line": {
          "color": "darkgray",
          "width": 1
         },
         "mode": "lines",
         "showlegend": false,
         "type": "scatter",
         "x": [
          "2024-09-15T02:05:00",
          "2024-09-15T02:05:00"
         ],
         "xaxis": "x",
         "y": [
          60195.23,
          60211.65
         ],
         "yaxis": "y"
        },
        {
         "base": 60195.23,
         "marker": {
          "color": "darkgray",
          "line": {
           "width": 0
          }
         },
         "showlegend": false,
         "type": "bar",
         "width": 0.6,
         "x": [
          "2024-09-15T02:05:00"
         ],
         "xaxis": "x",
         "y": [
          9.799999999995634
         ],
         "yaxis": "y"
        },
        {
         "line": {
          "color": "fuchsia",
          "width": 1
         },
         "mode": "lines",
         "showlegend": false,
         "type": "scatter",
         "x": [
          "2024-09-15T02:10:00",
          "2024-09-15T02:10:00"
         ],
         "xaxis": "x",
         "y": [
          60150.62,
          60195.24
         ],
         "yaxis": "y"
        },
        {
         "base": 60171.12,
         "marker": {
          "color": "fuchsia",
          "line": {
           "width": 0
          }
         },
         "showlegend": false,
         "type": "bar",
         "width": 0.6,
         "x": [
          "2024-09-15T02:10:00"
         ],
         "xaxis": "x",
         "y": [
          24.110000000000582
         ],
         "yaxis": "y"
        },
        {
         "line": {
          "color": "darkgray",
          "width": 1
         },
         "mode": "lines",
         "showlegend": false,
         "type": "scatter",
         "x": [
          "2024-09-15T02:15:00",
          "2024-09-15T02:15:00"
         ],
         "xaxis": "x",
         "y": [
          60137.62,
          60171.12
         ],
         "yaxis": "y"
        },
        {
         "base": 60137.62,
         "marker": {
          "color": "darkgray",
          "line": {
           "width": 0
          }
         },
         "showlegend": false,
         "type": "bar",
         "width": 0.6,
         "x": [
          "2024-09-15T02:15:00"
         ],
         "xaxis": "x",
         "y": [
          33.48999999999796
         ],
         "yaxis": "y"
        },
        {
         "line": {
          "color": "darkgray",
          "width": 1
         },
         "mode": "lines",
         "showlegend": false,
         "type": "scatter",
         "x": [
          "2024-09-15T02:20:00",
          "2024-09-15T02:20:00"
         ],
         "xaxis": "x",
         "y": [
          60116,
          60139.54
         ],
         "yaxis": "y"
        },
        {
         "base": 60122.45,
         "marker": {
          "color": "darkgray",
          "line": {
           "width": 0
          }
         },
         "showlegend": false,
         "type": "bar",
         "width": 0.6,
         "x": [
          "2024-09-15T02:20:00"
         ],
         "xaxis": "x",
         "y": [
          15.17000000000553
         ],
         "yaxis": "y"
        },
        {
         "line": {
          "color": "gray",
          "width": 1
         },
         "mode": "lines",
         "showlegend": false,
         "type": "scatter",
         "x": [
          "2024-09-15T02:25:00",
          "2024-09-15T02:25:00"
         ],
         "xaxis": "x",
         "y": [
          60122.45,
          60180.46
         ],
         "yaxis": "y"
        },
        {
         "base": 60122.45,
         "marker": {
          "color": "gray",
          "line": {
           "width": 0
          }
         },
         "showlegend": false,
         "type": "bar",
         "width": 0.6,
         "x": [
          "2024-09-15T02:25:00"
         ],
         "xaxis": "x",
         "y": [
          51.35000000000582
         ],
         "yaxis": "y"
        },
        {
         "line": {
          "color": "gray",
          "width": 1
         },
         "mode": "lines",
         "showlegend": false,
         "type": "scatter",
         "x": [
          "2024-09-15T02:30:00",
          "2024-09-15T02:30:00"
         ],
         "xaxis": "x",
         "y": [
          60173.8,
          60214
         ],
         "yaxis": "y"
        },
        {
         "base": 60173.81,
         "marker": {
          "color": "gray",
          "line": {
           "width": 0
          }
         },
         "showlegend": false,
         "type": "bar",
         "width": 0.6,
         "x": [
          "2024-09-15T02:30:00"
         ],
         "xaxis": "x",
         "y": [
          24.92000000000553
         ],
         "yaxis": "y"
        },
        {
         "line": {
          "color": "gray",
          "width": 1
         },
         "mode": "lines",
         "showlegend": false,
         "type": "scatter",
         "x": [
          "2024-09-15T02:35:00",
          "2024-09-15T02:35:00"
         ],
         "xaxis": "x",
         "y": [
          60198.72,
          60225.31
         ],
         "yaxis": "y"
        },
        {
         "base": 60198.72,
         "marker": {
          "color": "gray",
          "line": {
           "width": 0
          }
         },
         "showlegend": false,
         "type": "bar",
         "width": 0.6,
         "x": [
          "2024-09-15T02:35:00"
         ],
         "xaxis": "x",
         "y": [
          21.44999999999709
         ],
         "yaxis": "y"
        },
        {
         "line": {
          "color": "darkgray",
          "width": 1
         },
         "mode": "lines",
         "showlegend": false,
         "type": "scatter",
         "x": [
          "2024-09-15T02:40:00",
          "2024-09-15T02:40:00"
         ],
         "xaxis": "x",
         "y": [
          60204.65,
          60220.18
         ],
         "yaxis": "y"
        },
        {
         "base": 60217.98,
         "marker": {
          "color": "darkgray",
          "line": {
           "width": 0
          }
         },
         "showlegend": false,
         "type": "bar",
         "width": 0.6,
         "x": [
          "2024-09-15T02:40:00"
         ],
         "xaxis": "x",
         "y": [
          2.1899999999950523
         ],
         "yaxis": "y"
        },
        {
         "line": {
          "color": "gray",
          "width": 1
         },
         "mode": "lines",
         "showlegend": false,
         "type": "scatter",
         "x": [
          "2024-09-15T02:45:00",
          "2024-09-15T02:45:00"
         ],
         "xaxis": "x",
         "y": [
          60217.98,
          60225.31
         ],
         "yaxis": "y"
        },
        {
         "base": 60217.98,
         "marker": {
          "color": "gray",
          "line": {
           "width": 0
          }
         },
         "showlegend": false,
         "type": "bar",
         "width": 0.6,
         "x": [
          "2024-09-15T02:45:00"
         ],
         "xaxis": "x",
         "y": [
          6.7299999999959255
         ],
         "yaxis": "y"
        },
        {
         "line": {
          "color": "gray",
          "width": 1
         },
         "mode": "lines",
         "showlegend": false,
         "type": "scatter",
         "x": [
          "2024-09-15T02:50:00",
          "2024-09-15T02:50:00"
         ],
         "xaxis": "x",
         "y": [
          60224.71,
          60244
         ],
         "yaxis": "y"
        },
        {
         "base": 60224.72,
         "marker": {
          "color": "gray",
          "line": {
           "width": 0
          }
         },
         "showlegend": false,
         "type": "bar",
         "width": 0.6,
         "x": [
          "2024-09-15T02:50:00"
         ],
         "xaxis": "x",
         "y": [
          19.2699999999968
         ],
         "yaxis": "y"
        },
        {
         "line": {
          "color": "darkgray",
          "width": 1
         },
         "mode": "lines",
         "showlegend": false,
         "type": "scatter",
         "x": [
          "2024-09-15T02:55:00",
          "2024-09-15T02:55:00"
         ],
         "xaxis": "x",
         "y": [
          60238,
          60267.86
         ],
         "yaxis": "y"
        },
        {
         "base": 60238.01,
         "marker": {
          "color": "darkgray",
          "line": {
           "width": 0
          }
         },
         "showlegend": false,
         "type": "bar",
         "width": 0.6,
         "x": [
          "2024-09-15T02:55:00"
         ],
         "xaxis": "x",
         "y": [
          5.9799999999959255
         ],
         "yaxis": "y"
        },
        {
         "line": {
          "color": "darkgray",
          "width": 1
         },
         "mode": "lines",
         "showlegend": false,
         "type": "scatter",
         "x": [
          "2024-09-15T03:00:00",
          "2024-09-15T03:00:00"
         ],
         "xaxis": "x",
         "y": [
          60222,
          60238.01
         ],
         "yaxis": "y"
        },
        {
         "base": 60222.01,
         "marker": {
          "color": "darkgray",
          "line": {
           "width": 0
          }
         },
         "showlegend": false,
         "type": "bar",
         "width": 0.6,
         "x": [
          "2024-09-15T03:00:00"
         ],
         "xaxis": "x",
         "y": [
          16
         ],
         "yaxis": "y"
        },
        {
         "line": {
          "color": "darkgray",
          "width": 1
         },
         "mode": "lines",
         "showlegend": false,
         "type": "scatter",
         "x": [
          "2024-09-15T03:05:00",
          "2024-09-15T03:05:00"
         ],
         "xaxis": "x",
         "y": [
          60208.42,
          60222.01
         ],
         "yaxis": "y"
        },
        {
         "base": 60210,
         "marker": {
          "color": "darkgray",
          "line": {
           "width": 0
          }
         },
         "showlegend": false,
         "type": "bar",
         "width": 0.6,
         "x": [
          "2024-09-15T03:05:00"
         ],
         "xaxis": "x",
         "y": [
          12
         ],
         "yaxis": "y"
        },
        {
         "line": {
          "color": "gray",
          "width": 1
         },
         "mode": "lines",
         "showlegend": false,
         "type": "scatter",
         "x": [
          "2024-09-15T03:10:00",
          "2024-09-15T03:10:00"
         ],
         "xaxis": "x",
         "y": [
          60209.99,
          60233.42
         ],
         "yaxis": "y"
        },
        {
         "base": 60210,
         "marker": {
          "color": "gray",
          "line": {
           "width": 0
          }
         },
         "showlegend": false,
         "type": "bar",
         "width": 0.6,
         "x": [
          "2024-09-15T03:10:00"
         ],
         "xaxis": "x",
         "y": [
          23.419999999998254
         ],
         "yaxis": "y"
        },
        {
         "line": {
          "color": "gray",
          "width": 1
         },
         "mode": "lines",
         "showlegend": false,
         "type": "scatter",
         "x": [
          "2024-09-15T03:15:00",
          "2024-09-15T03:15:00"
         ],
         "xaxis": "x",
         "y": [
          60229.66,
          60238.57
         ],
         "yaxis": "y"
        },
        {
         "base": 60233.41,
         "marker": {
          "color": "gray",
          "line": {
           "width": 0
          }
         },
         "showlegend": false,
         "type": "bar",
         "width": 0.6,
         "x": [
          "2024-09-15T03:15:00"
         ],
         "xaxis": "x",
         "y": [
          2.5799999999944703
         ],
         "yaxis": "y"
        },
        {
         "line": {
          "color": "darkgray",
          "width": 1
         },
         "mode": "lines",
         "showlegend": false,
         "type": "scatter",
         "x": [
          "2024-09-15T03:20:00",
          "2024-09-15T03:20:00"
         ],
         "xaxis": "x",
         "y": [
          60207.22,
          60236
         ],
         "yaxis": "y"
        },
        {
         "base": 60212,
         "marker": {
          "color": "darkgray",
          "line": {
           "width": 0
          }
         },
         "showlegend": false,
         "type": "bar",
         "width": 0.6,
         "x": [
          "2024-09-15T03:20:00"
         ],
         "xaxis": "x",
         "y": [
          23.989999999997963
         ],
         "yaxis": "y"
        },
        {
         "line": {
          "color": "darkgray",
          "width": 1
         },
         "mode": "lines",
         "showlegend": false,
         "type": "scatter",
         "x": [
          "2024-09-15T03:25:00",
          "2024-09-15T03:25:00"
         ],
         "xaxis": "x",
         "y": [
          60184,
          60214
         ],
         "yaxis": "y"
        },
        {
         "base": 60184,
         "marker": {
          "color": "darkgray",
          "line": {
           "width": 0
          }
         },
         "showlegend": false,
         "type": "bar",
         "width": 0.6,
         "x": [
          "2024-09-15T03:25:00"
         ],
         "xaxis": "x",
         "y": [
          27.989999999997963
         ],
         "yaxis": "y"
        },
        {
         "line": {
          "color": "fuchsia",
          "width": 1
         },
         "mode": "lines",
         "showlegend": false,
         "type": "scatter",
         "x": [
          "2024-09-15T03:30:00",
          "2024-09-15T03:30:00"
         ],
         "xaxis": "x",
         "y": [
          60155.99,
          60184.01
         ],
         "yaxis": "y"
        },
        {
         "base": 60164.53,
         "marker": {
          "color": "fuchsia",
          "line": {
           "width": 0
          }
         },
         "showlegend": false,
         "type": "bar",
         "width": 0.6,
         "x": [
          "2024-09-15T03:30:00"
         ],
         "xaxis": "x",
         "y": [
          19.470000000001164
         ],
         "yaxis": "y"
        },
        {
         "line": {
          "color": "lime",
          "width": 1
         },
         "mode": "lines",
         "showlegend": false,
         "type": "scatter",
         "x": [
          "2024-09-15T03:35:00",
          "2024-09-15T03:35:00"
         ],
         "xaxis": "x",
         "y": [
          60142,
          60193.13
         ],
         "yaxis": "y"
        },
        {
         "base": 60164.54,
         "marker": {
          "color": "lime",
          "line": {
           "width": 0
          }
         },
         "showlegend": false,
         "type": "bar",
         "width": 0.6,
         "x": [
          "2024-09-15T03:35:00"
         ],
         "xaxis": "x",
         "y": [
          28.589999999996508
         ],
         "yaxis": "y"
        },
        {
         "line": {
          "color": "darkgray",
          "width": 1
         },
         "mode": "lines",
         "showlegend": false,
         "type": "scatter",
         "x": [
          "2024-09-15T03:40:00",
          "2024-09-15T03:40:00"
         ],
         "xaxis": "x",
         "y": [
          60174.4,
          60193.13
         ],
         "yaxis": "y"
        },
        {
         "base": 60174.4,
         "marker": {
          "color": "darkgray",
          "line": {
           "width": 0
          }
         },
         "showlegend": false,
         "type": "bar",
         "width": 0.6,
         "x": [
          "2024-09-15T03:40:00"
         ],
         "xaxis": "x",
         "y": [
          18.729999999995925
         ],
         "yaxis": "y"
        },
        {
         "line": {
          "color": "darkgray",
          "width": 1
         },
         "mode": "lines",
         "showlegend": false,
         "type": "scatter",
         "x": [
          "2024-09-15T03:45:00",
          "2024-09-15T03:45:00"
         ],
         "xaxis": "x",
         "y": [
          60140,
          60174.41
         ],
         "yaxis": "y"
        },
        {
         "base": 60140,
         "marker": {
          "color": "darkgray",
          "line": {
           "width": 0
          }
         },
         "showlegend": false,
         "type": "bar",
         "width": 0.6,
         "x": [
          "2024-09-15T03:45:00"
         ],
         "xaxis": "x",
         "y": [
          34.41000000000349
         ],
         "yaxis": "y"
        },
        {
         "line": {
          "color": "gray",
          "width": 1
         },
         "mode": "lines",
         "showlegend": false,
         "type": "scatter",
         "x": [
          "2024-09-15T03:50:00",
          "2024-09-15T03:50:00"
         ],
         "xaxis": "x",
         "y": [
          60134,
          60154
         ],
         "yaxis": "y"
        },
        {
         "base": 60140.01,
         "marker": {
          "color": "gray",
          "line": {
           "width": 0
          }
         },
         "showlegend": false,
         "type": "bar",
         "width": 0.6,
         "x": [
          "2024-09-15T03:50:00"
         ],
         "xaxis": "x",
         "y": [
          13.979999999995925
         ],
         "yaxis": "y"
        },
        {
         "line": {
          "color": "gray",
          "width": 1
         },
         "mode": "lines",
         "showlegend": false,
         "type": "scatter",
         "x": [
          "2024-09-15T03:55:00",
          "2024-09-15T03:55:00"
         ],
         "xaxis": "x",
         "y": [
          60153.99,
          60155.93
         ],
         "yaxis": "y"
        },
        {
         "base": 60153.99,
         "marker": {
          "color": "gray",
          "line": {
           "width": 0
          }
         },
         "showlegend": false,
         "type": "bar",
         "width": 0.6,
         "x": [
          "2024-09-15T03:55:00"
         ],
         "xaxis": "x",
         "y": [
          1.9400000000023283
         ],
         "yaxis": "y"
        },
        {
         "line": {
          "color": "gray",
          "width": 1
         },
         "mode": "lines",
         "showlegend": false,
         "type": "scatter",
         "x": [
          "2024-09-15T04:00:00",
          "2024-09-15T04:00:00"
         ],
         "xaxis": "x",
         "y": [
          60155.92,
          60173.99
         ],
         "yaxis": "y"
        },
        {
         "base": 60155.93,
         "marker": {
          "color": "gray",
          "line": {
           "width": 0
          }
         },
         "showlegend": false,
         "type": "bar",
         "width": 0.6,
         "x": [
          "2024-09-15T04:00:00"
         ],
         "xaxis": "x",
         "y": [
          18.05999999999767
         ],
         "yaxis": "y"
        },
        {
         "line": {
          "color": "gray",
          "width": 1
         },
         "mode": "lines",
         "showlegend": false,
         "type": "scatter",
         "x": [
          "2024-09-15T04:05:00",
          "2024-09-15T04:05:00"
         ],
         "xaxis": "x",
         "y": [
          60173.98,
          60198.94
         ],
         "yaxis": "y"
        },
        {
         "base": 60173.99,
         "marker": {
          "color": "gray",
          "line": {
           "width": 0
          }
         },
         "showlegend": false,
         "type": "bar",
         "width": 0.6,
         "x": [
          "2024-09-15T04:05:00"
         ],
         "xaxis": "x",
         "y": [
          18.599999999998545
         ],
         "yaxis": "y"
        },
        {
         "line": {
          "color": "gray",
          "width": 1
         },
         "mode": "lines",
         "showlegend": false,
         "type": "scatter",
         "x": [
          "2024-09-15T04:10:00",
          "2024-09-15T04:10:00"
         ],
         "xaxis": "x",
         "y": [
          60192.58,
          60200
         ],
         "yaxis": "y"
        },
        {
         "base": 60192.58,
         "marker": {
          "color": "gray",
          "line": {
           "width": 0
          }
         },
         "showlegend": false,
         "type": "bar",
         "width": 0.6,
         "x": [
          "2024-09-15T04:10:00"
         ],
         "xaxis": "x",
         "y": [
          1.430000000000291
         ],
         "yaxis": "y"
        },
        {
         "line": {
          "color": "blue",
          "width": 1
         },
         "mode": "lines",
         "showlegend": false,
         "type": "scatter",
         "x": [
          "2024-09-15T04:15:00",
          "2024-09-15T04:15:00"
         ],
         "xaxis": "x",
         "y": [
          60194,
          60216
         ],
         "yaxis": "y"
        },
        {
         "base": 60194.01,
         "marker": {
          "color": "blue",
          "line": {
           "width": 0
          }
         },
         "showlegend": false,
         "type": "bar",
         "width": 0.6,
         "x": [
          "2024-09-15T04:15:00"
         ],
         "xaxis": "x",
         "y": [
          9.979999999995925
         ],
         "yaxis": "y"
        },
        {
         "line": {
          "color": "red",
          "width": 1
         },
         "mode": "lines",
         "showlegend": false,
         "type": "scatter",
         "x": [
          "2024-09-15T04:20:00",
          "2024-09-15T04:20:00"
         ],
         "xaxis": "x",
         "y": [
          60114.34,
          60204
         ],
         "yaxis": "y"
        },
        {
         "base": 60114.34,
         "marker": {
          "color": "red",
          "line": {
           "width": 0
          }
         },
         "showlegend": false,
         "type": "bar",
         "width": 0.6,
         "x": [
          "2024-09-15T04:20:00"
         ],
         "xaxis": "x",
         "y": [
          89.65000000000146
         ],
         "yaxis": "y"
        },
        {
         "line": {
          "color": "lime",
          "width": 1
         },
         "mode": "lines",
         "showlegend": false,
         "type": "scatter",
         "x": [
          "2024-09-15T04:25:00",
          "2024-09-15T04:25:00"
         ],
         "xaxis": "x",
         "y": [
          60032.9,
          60136
         ],
         "yaxis": "y"
        },
        {
         "base": 60114.34,
         "marker": {
          "color": "lime",
          "line": {
           "width": 0
          }
         },
         "showlegend": false,
         "type": "bar",
         "width": 0.6,
         "x": [
          "2024-09-15T04:25:00"
         ],
         "xaxis": "x",
         "y": [
          21.43000000000029
         ],
         "yaxis": "y"
        },
        {
         "line": {
          "color": "darkgray",
          "width": 1
         },
         "mode": "lines",
         "showlegend": false,
         "type": "scatter",
         "x": [
          "2024-09-15T04:30:00",
          "2024-09-15T04:30:00"
         ],
         "xaxis": "x",
         "y": [
          60134.07,
          60135.78
         ],
         "yaxis": "y"
        },
        {
         "base": 60134.07,
         "marker": {
          "color": "darkgray",
          "line": {
           "width": 0
          }
         },
         "showlegend": false,
         "type": "bar",
         "width": 0.6,
         "x": [
          "2024-09-15T04:30:00"
         ],
         "xaxis": "x",
         "y": [
          1.7099999999991269
         ],
         "yaxis": "y"
        },
        {
         "line": {
          "color": "gray",
          "width": 1
         },
         "mode": "lines",
         "showlegend": false,
         "type": "scatter",
         "x": [
          "2024-09-15T04:35:00",
          "2024-09-15T04:35:00"
         ],
         "xaxis": "x",
         "y": [
          60134.05,
          60146.19
         ],
         "yaxis": "y"
        },
        {
         "base": 60134.07,
         "marker": {
          "color": "gray",
          "line": {
           "width": 0
          }
         },
         "showlegend": false,
         "type": "bar",
         "width": 0.6,
         "x": [
          "2024-09-15T04:35:00"
         ],
         "xaxis": "x",
         "y": [
          12.12000000000262
         ],
         "yaxis": "y"
        },
        {
         "line": {
          "color": "red",
          "width": 1
         },
         "mode": "lines",
         "showlegend": false,
         "type": "scatter",
         "x": [
          "2024-09-15T04:40:00",
          "2024-09-15T04:40:00"
         ],
         "xaxis": "x",
         "y": [
          60134,
          60196.7
         ],
         "yaxis": "y"
        },
        {
         "base": 60134.01,
         "marker": {
          "color": "red",
          "line": {
           "width": 0
          }
         },
         "showlegend": false,
         "type": "bar",
         "width": 0.6,
         "x": [
          "2024-09-15T04:40:00"
         ],
         "xaxis": "x",
         "y": [
          12.169999999998254
         ],
         "yaxis": "y"
        },
        {
         "line": {
          "color": "darkgray",
          "width": 1
         },
         "mode": "lines",
         "showlegend": false,
         "type": "scatter",
         "x": [
          "2024-09-15T04:45:00",
          "2024-09-15T04:45:00"
         ],
         "xaxis": "x",
         "y": [
          60100,
          60134
         ],
         "yaxis": "y"
        },
        {
         "base": 60119.93,
         "marker": {
          "color": "darkgray",
          "line": {
           "width": 0
          }
         },
         "showlegend": false,
         "type": "bar",
         "width": 0.6,
         "x": [
          "2024-09-15T04:45:00"
         ],
         "xaxis": "x",
         "y": [
          14.069999999999709
         ],
         "yaxis": "y"
        },
        {
         "line": {
          "color": "gray",
          "width": 1
         },
         "mode": "lines",
         "showlegend": false,
         "type": "scatter",
         "x": [
          "2024-09-15T04:50:00",
          "2024-09-15T04:50:00"
         ],
         "xaxis": "x",
         "y": [
          60119.92,
          60148
         ],
         "yaxis": "y"
        },
        {
         "base": 60119.92,
         "marker": {
          "color": "gray",
          "line": {
           "width": 0
          }
         },
         "showlegend": false,
         "type": "bar",
         "width": 0.6,
         "x": [
          "2024-09-15T04:50:00"
         ],
         "xaxis": "x",
         "y": [
          14.080000000001746
         ],
         "yaxis": "y"
        },
        {
         "line": {
          "color": "darkgray",
          "width": 1
         },
         "mode": "lines",
         "showlegend": false,
         "type": "scatter",
         "x": [
          "2024-09-15T04:55:00",
          "2024-09-15T04:55:00"
         ],
         "xaxis": "x",
         "y": [
          60090,
          60138.01
         ],
         "yaxis": "y"
        },
        {
         "base": 60117.99,
         "marker": {
          "color": "darkgray",
          "line": {
           "width": 0
          }
         },
         "showlegend": false,
         "type": "bar",
         "width": 0.6,
         "x": [
          "2024-09-15T04:55:00"
         ],
         "xaxis": "x",
         "y": [
          16.020000000004075
         ],
         "yaxis": "y"
        },
        {
         "line": {
          "color": "gray",
          "width": 1
         },
         "mode": "lines",
         "showlegend": false,
         "type": "scatter",
         "x": [
          "2024-09-15T05:00:00",
          "2024-09-15T05:00:00"
         ],
         "xaxis": "x",
         "y": [
          60117.99,
          60135.69
         ],
         "yaxis": "y"
        },
        {
         "base": 60118,
         "marker": {
          "color": "gray",
          "line": {
           "width": 0
          }
         },
         "showlegend": false,
         "type": "bar",
         "width": 0.6,
         "x": [
          "2024-09-15T05:00:00"
         ],
         "xaxis": "x",
         "y": [
          17.69000000000233
         ],
         "yaxis": "y"
        },
        {
         "line": {
          "color": "gray",
          "width": 1
         },
         "mode": "lines",
         "showlegend": false,
         "type": "scatter",
         "x": [
          "2024-09-15T05:05:00",
          "2024-09-15T05:05:00"
         ],
         "xaxis": "x",
         "y": [
          60135.68,
          60149
         ],
         "yaxis": "y"
        },
        {
         "base": 60135.69,
         "marker": {
          "color": "gray",
          "line": {
           "width": 0
          }
         },
         "showlegend": false,
         "type": "bar",
         "width": 0.6,
         "x": [
          "2024-09-15T05:05:00"
         ],
         "xaxis": "x",
         "y": [
          13.029999999998836
         ],
         "yaxis": "y"
        },
        {
         "line": {
          "color": "gray",
          "width": 1
         },
         "mode": "lines",
         "showlegend": false,
         "type": "scatter",
         "x": [
          "2024-09-15T05:10:00",
          "2024-09-15T05:10:00"
         ],
         "xaxis": "x",
         "y": [
          60148.72,
          60160.01
         ],
         "yaxis": "y"
        },
        {
         "base": 60148.72,
         "marker": {
          "color": "gray",
          "line": {
           "width": 0
          }
         },
         "showlegend": false,
         "type": "bar",
         "width": 0.6,
         "x": [
          "2024-09-15T05:10:00"
         ],
         "xaxis": "x",
         "y": [
          11.279999999998836
         ],
         "yaxis": "y"
        },
        {
         "line": {
          "color": "gray",
          "width": 1
         },
         "mode": "lines",
         "showlegend": false,
         "type": "scatter",
         "x": [
          "2024-09-15T05:15:00",
          "2024-09-15T05:15:00"
         ],
         "xaxis": "x",
         "y": [
          60160,
          60160.01
         ],
         "yaxis": "y"
        },
        {
         "base": 60160,
         "marker": {
          "color": "gray",
          "line": {
           "width": 0
          }
         },
         "showlegend": false,
         "type": "bar",
         "width": 0.6,
         "x": [
          "2024-09-15T05:15:00"
         ],
         "xaxis": "x",
         "y": [
          0
         ],
         "yaxis": "y"
        },
        {
         "line": {
          "color": "gray",
          "width": 1
         },
         "mode": "lines",
         "showlegend": false,
         "type": "scatter",
         "x": [
          "2024-09-15T05:20:00",
          "2024-09-15T05:20:00"
         ],
         "xaxis": "x",
         "y": [
          60160,
          60167.99
         ],
         "yaxis": "y"
        },
        {
         "base": 60160.01,
         "marker": {
          "color": "gray",
          "line": {
           "width": 0
          }
         },
         "showlegend": false,
         "type": "bar",
         "width": 0.6,
         "x": [
          "2024-09-15T05:20:00"
         ],
         "xaxis": "x",
         "y": [
          7.970000000001164
         ],
         "yaxis": "y"
        },
        {
         "line": {
          "color": "gray",
          "width": 1
         },
         "mode": "lines",
         "showlegend": false,
         "type": "scatter",
         "x": [
          "2024-09-15T05:25:00",
          "2024-09-15T05:25:00"
         ],
         "xaxis": "x",
         "y": [
          60167.98,
          60208.85
         ],
         "yaxis": "y"
        },
        {
         "base": 60167.98,
         "marker": {
          "color": "gray",
          "line": {
           "width": 0
          }
         },
         "showlegend": false,
         "type": "bar",
         "width": 0.6,
         "x": [
          "2024-09-15T05:25:00"
         ],
         "xaxis": "x",
         "y": [
          40.86999999999534
         ],
         "yaxis": "y"
        },
        {
         "line": {
          "color": "darkgray",
          "width": 1
         },
         "mode": "lines",
         "showlegend": false,
         "type": "scatter",
         "x": [
          "2024-09-15T05:30:00",
          "2024-09-15T05:30:00"
         ],
         "xaxis": "x",
         "y": [
          60186,
          60214.89
         ],
         "yaxis": "y"
        },
        {
         "base": 60186.01,
         "marker": {
          "color": "darkgray",
          "line": {
           "width": 0
          }
         },
         "showlegend": false,
         "type": "bar",
         "width": 0.6,
         "x": [
          "2024-09-15T05:30:00"
         ],
         "xaxis": "x",
         "y": [
          22.82999999999447
         ],
         "yaxis": "y"
        },
        {
         "line": {
          "color": "gray",
          "width": 1
         },
         "mode": "lines",
         "showlegend": false,
         "type": "scatter",
         "x": [
          "2024-09-15T05:35:00",
          "2024-09-15T05:35:00"
         ],
         "xaxis": "x",
         "y": [
          60186,
          60188
         ],
         "yaxis": "y"
        },
        {
         "base": 60186,
         "marker": {
          "color": "gray",
          "line": {
           "width": 0
          }
         },
         "showlegend": false,
         "type": "bar",
         "width": 0.6,
         "x": [
          "2024-09-15T05:35:00"
         ],
         "xaxis": "x",
         "y": [
          1.9899999999979627
         ],
         "yaxis": "y"
        },
        {
         "line": {
          "color": "gray",
          "width": 1
         },
         "mode": "lines",
         "showlegend": false,
         "type": "scatter",
         "x": [
          "2024-09-15T05:40:00",
          "2024-09-15T05:40:00"
         ],
         "xaxis": "x",
         "y": [
          60187.99,
          60207
         ],
         "yaxis": "y"
        },
        {
         "base": 60187.99,
         "marker": {
          "color": "gray",
          "line": {
           "width": 0
          }
         },
         "showlegend": false,
         "type": "bar",
         "width": 0.6,
         "x": [
          "2024-09-15T05:40:00"
         ],
         "xaxis": "x",
         "y": [
          19.010000000002037
         ],
         "yaxis": "y"
        },
        {
         "line": {
          "color": "darkgray",
          "width": 1
         },
         "mode": "lines",
         "showlegend": false,
         "type": "scatter",
         "x": [
          "2024-09-15T05:45:00",
          "2024-09-15T05:45:00"
         ],
         "xaxis": "x",
         "y": [
          60190,
          60207
         ],
         "yaxis": "y"
        },
        {
         "base": 60190.01,
         "marker": {
          "color": "darkgray",
          "line": {
           "width": 0
          }
         },
         "showlegend": false,
         "type": "bar",
         "width": 0.6,
         "x": [
          "2024-09-15T05:45:00"
         ],
         "xaxis": "x",
         "y": [
          16.989999999997963
         ],
         "yaxis": "y"
        },
        {
         "line": {
          "color": "darkgray",
          "width": 1
         },
         "mode": "lines",
         "showlegend": false,
         "type": "scatter",
         "x": [
          "2024-09-15T05:50:00",
          "2024-09-15T05:50:00"
         ],
         "xaxis": "x",
         "y": [
          60184.4,
          60190.01
         ],
         "yaxis": "y"
        },
        {
         "base": 60185.99,
         "marker": {
          "color": "darkgray",
          "line": {
           "width": 0
          }
         },
         "showlegend": false,
         "type": "bar",
         "width": 0.6,
         "x": [
          "2024-09-15T05:50:00"
         ],
         "xaxis": "x",
         "y": [
          4.010000000002037
         ],
         "yaxis": "y"
        },
        {
         "line": {
          "color": "darkgray",
          "width": 1
         },
         "mode": "lines",
         "showlegend": false,
         "type": "scatter",
         "x": [
          "2024-09-15T05:55:00",
          "2024-09-15T05:55:00"
         ],
         "xaxis": "x",
         "y": [
          60160,
          60188
         ],
         "yaxis": "y"
        },
        {
         "base": 60160,
         "marker": {
          "color": "darkgray",
          "line": {
           "width": 0
          }
         },
         "showlegend": false,
         "type": "bar",
         "width": 0.6,
         "x": [
          "2024-09-15T05:55:00"
         ],
         "xaxis": "x",
         "y": [
          26
         ],
         "yaxis": "y"
        },
        {
         "line": {
          "color": "gray",
          "width": 1
         },
         "mode": "lines",
         "showlegend": false,
         "type": "scatter",
         "x": [
          "2024-09-15T06:00:00",
          "2024-09-15T06:00:00"
         ],
         "xaxis": "x",
         "y": [
          60160,
          60178
         ],
         "yaxis": "y"
        },
        {
         "base": 60160,
         "marker": {
          "color": "gray",
          "line": {
           "width": 0
          }
         },
         "showlegend": false,
         "type": "bar",
         "width": 0.6,
         "x": [
          "2024-09-15T06:00:00"
         ],
         "xaxis": "x",
         "y": [
          17.989999999997963
         ],
         "yaxis": "y"
        },
        {
         "line": {
          "color": "darkgray",
          "width": 1
         },
         "mode": "lines",
         "showlegend": false,
         "type": "scatter",
         "x": [
          "2024-09-15T06:05:00",
          "2024-09-15T06:05:00"
         ],
         "xaxis": "x",
         "y": [
          60170.01,
          60183.02
         ],
         "yaxis": "y"
        },
        {
         "base": 60170.01,
         "marker": {
          "color": "darkgray",
          "line": {
           "width": 0
          }
         },
         "showlegend": false,
         "type": "bar",
         "width": 0.6,
         "x": [
          "2024-09-15T06:05:00"
         ],
         "xaxis": "x",
         "y": [
          7.989999999997963
         ],
         "yaxis": "y"
        },
        {
         "line": {
          "color": "darkgray",
          "width": 1
         },
         "mode": "lines",
         "showlegend": false,
         "type": "scatter",
         "x": [
          "2024-09-15T06:10:00",
          "2024-09-15T06:10:00"
         ],
         "xaxis": "x",
         "y": [
          60146.18,
          60170.02
         ],
         "yaxis": "y"
        },
        {
         "base": 60146.18,
         "marker": {
          "color": "darkgray",
          "line": {
           "width": 0
          }
         },
         "showlegend": false,
         "type": "bar",
         "width": 0.6,
         "x": [
          "2024-09-15T06:10:00"
         ],
         "xaxis": "x",
         "y": [
          23.830000000001746
         ],
         "yaxis": "y"
        },
        {
         "line": {
          "color": "darkgray",
          "width": 1
         },
         "mode": "lines",
         "showlegend": false,
         "type": "scatter",
         "x": [
          "2024-09-15T06:15:00",
          "2024-09-15T06:15:00"
         ],
         "xaxis": "x",
         "y": [
          60144.18,
          60146.19
         ],
         "yaxis": "y"
        },
        {
         "base": 60144.19,
         "marker": {
          "color": "darkgray",
          "line": {
           "width": 0
          }
         },
         "showlegend": false,
         "type": "bar",
         "width": 0.6,
         "x": [
          "2024-09-15T06:15:00"
         ],
         "xaxis": "x",
         "y": [
          1.9899999999979627
         ],
         "yaxis": "y"
        },
        {
         "line": {
          "color": "darkgray",
          "width": 1
         },
         "mode": "lines",
         "showlegend": false,
         "type": "scatter",
         "x": [
          "2024-09-15T06:20:00",
          "2024-09-15T06:20:00"
         ],
         "xaxis": "x",
         "y": [
          60144.18,
          60144.19
         ],
         "yaxis": "y"
        },
        {
         "base": 60144.18,
         "marker": {
          "color": "darkgray",
          "line": {
           "width": 0
          }
         },
         "showlegend": false,
         "type": "bar",
         "width": 0.6,
         "x": [
          "2024-09-15T06:20:00"
         ],
         "xaxis": "x",
         "y": [
          0.010000000002037268
         ],
         "yaxis": "y"
        },
        {
         "line": {
          "color": "darkgray",
          "width": 1
         },
         "mode": "lines",
         "showlegend": false,
         "type": "scatter",
         "x": [
          "2024-09-15T06:25:00",
          "2024-09-15T06:25:00"
         ],
         "xaxis": "x",
         "y": [
          60144.17,
          60154.18
         ],
         "yaxis": "y"
        },
        {
         "base": 60144.17,
         "marker": {
          "color": "darkgray",
          "line": {
           "width": 0
          }
         },
         "showlegend": false,
         "type": "bar",
         "width": 0.6,
         "x": [
          "2024-09-15T06:25:00"
         ],
         "xaxis": "x",
         "y": [
          0.010000000002037268
         ],
         "yaxis": "y"
        },
        {
         "line": {
          "color": "gray",
          "width": 1
         },
         "mode": "lines",
         "showlegend": false,
         "type": "scatter",
         "x": [
          "2024-09-15T06:30:00",
          "2024-09-15T06:30:00"
         ],
         "xaxis": "x",
         "y": [
          60144.17,
          60149.99
         ],
         "yaxis": "y"
        },
        {
         "base": 60144.18,
         "marker": {
          "color": "gray",
          "line": {
           "width": 0
          }
         },
         "showlegend": false,
         "type": "bar",
         "width": 0.6,
         "x": [
          "2024-09-15T06:30:00"
         ],
         "xaxis": "x",
         "y": [
          5.80000000000291
         ],
         "yaxis": "y"
        },
        {
         "line": {
          "color": "darkgray",
          "width": 1
         },
         "mode": "lines",
         "showlegend": false,
         "type": "scatter",
         "x": [
          "2024-09-15T06:35:00",
          "2024-09-15T06:35:00"
         ],
         "xaxis": "x",
         "y": [
          60146,
          60149.99
         ],
         "yaxis": "y"
        },
        {
         "base": 60146,
         "marker": {
          "color": "darkgray",
          "line": {
           "width": 0
          }
         },
         "showlegend": false,
         "type": "bar",
         "width": 0.6,
         "x": [
          "2024-09-15T06:35:00"
         ],
         "xaxis": "x",
         "y": [
          3.9800000000032014
         ],
         "yaxis": "y"
        },
        {
         "line": {
          "color": "gray",
          "width": 1
         },
         "mode": "lines",
         "showlegend": false,
         "type": "scatter",
         "x": [
          "2024-09-15T06:40:00",
          "2024-09-15T06:40:00"
         ],
         "xaxis": "x",
         "y": [
          60146,
          60146.01
         ],
         "yaxis": "y"
        },
        {
         "base": 60146.01,
         "marker": {
          "color": "gray",
          "line": {
           "width": 0
          }
         },
         "showlegend": false,
         "type": "bar",
         "width": 0.6,
         "x": [
          "2024-09-15T06:40:00"
         ],
         "xaxis": "x",
         "y": [
          0
         ],
         "yaxis": "y"
        },
        {
         "line": {
          "color": "gray",
          "width": 1
         },
         "mode": "lines",
         "showlegend": false,
         "type": "scatter",
         "x": [
          "2024-09-15T06:45:00",
          "2024-09-15T06:45:00"
         ],
         "xaxis": "x",
         "y": [
          60146,
          60156.03
         ],
         "yaxis": "y"
        },
        {
         "base": 60146,
         "marker": {
          "color": "gray",
          "line": {
           "width": 0
          }
         },
         "showlegend": false,
         "type": "bar",
         "width": 0.6,
         "x": [
          "2024-09-15T06:45:00"
         ],
         "xaxis": "x",
         "y": [
          10.029999999998836
         ],
         "yaxis": "y"
        },
        {
         "line": {
          "color": "gray",
          "width": 1
         },
         "mode": "lines",
         "showlegend": false,
         "type": "scatter",
         "x": [
          "2024-09-15T06:50:00",
          "2024-09-15T06:50:00"
         ],
         "xaxis": "x",
         "y": [
          60150,
          60161
         ],
         "yaxis": "y"
        },
        {
         "base": 60156.02,
         "marker": {
          "color": "gray",
          "line": {
           "width": 0
          }
         },
         "showlegend": false,
         "type": "bar",
         "width": 0.6,
         "x": [
          "2024-09-15T06:50:00"
         ],
         "xaxis": "x",
         "y": [
          4.980000000003201
         ],
         "yaxis": "y"
        },
        {
         "line": {
          "color": "lime",
          "width": 1
         },
         "mode": "lines",
         "showlegend": false,
         "type": "scatter",
         "x": [
          "2024-09-15T06:55:00",
          "2024-09-15T06:55:00"
         ],
         "xaxis": "x",
         "y": [
          60160.99,
          60170.01
         ],
         "yaxis": "y"
        },
        {
         "base": 60161,
         "marker": {
          "color": "lime",
          "line": {
           "width": 0
          }
         },
         "showlegend": false,
         "type": "bar",
         "width": 0.6,
         "x": [
          "2024-09-15T06:55:00"
         ],
         "xaxis": "x",
         "y": [
          3.0100000000020373
         ],
         "yaxis": "y"
        },
        {
         "line": {
          "color": "fuchsia",
          "width": 1
         },
         "mode": "lines",
         "showlegend": false,
         "type": "scatter",
         "x": [
          "2024-09-15T07:00:00",
          "2024-09-15T07:00:00"
         ],
         "xaxis": "x",
         "y": [
          60156.89,
          60164.01
         ],
         "yaxis": "y"
        },
        {
         "base": 60159.99,
         "marker": {
          "color": "fuchsia",
          "line": {
           "width": 0
          }
         },
         "showlegend": false,
         "type": "bar",
         "width": 0.6,
         "x": [
          "2024-09-15T07:00:00"
         ],
         "xaxis": "x",
         "y": [
          4.0200000000040745
         ],
         "yaxis": "y"
        },
        {
         "line": {
          "color": "gray",
          "width": 1
         },
         "mode": "lines",
         "showlegend": false,
         "type": "scatter",
         "x": [
          "2024-09-15T07:05:00",
          "2024-09-15T07:05:00"
         ],
         "xaxis": "x",
         "y": [
          60159.99,
          60160
         ],
         "yaxis": "y"
        },
        {
         "base": 60159.99,
         "marker": {
          "color": "gray",
          "line": {
           "width": 0
          }
         },
         "showlegend": false,
         "type": "bar",
         "width": 0.6,
         "x": [
          "2024-09-15T07:05:00"
         ],
         "xaxis": "x",
         "y": [
          0
         ],
         "yaxis": "y"
        },
        {
         "line": {
          "color": "red",
          "width": 1
         },
         "mode": "lines",
         "showlegend": false,
         "type": "scatter",
         "x": [
          "2024-09-15T07:10:00",
          "2024-09-15T07:10:00"
         ],
         "xaxis": "x",
         "y": [
          60140,
          60160
         ],
         "yaxis": "y"
        },
        {
         "base": 60140.01,
         "marker": {
          "color": "red",
          "line": {
           "width": 0
          }
         },
         "showlegend": false,
         "type": "bar",
         "width": 0.6,
         "x": [
          "2024-09-15T07:10:00"
         ],
         "xaxis": "x",
         "y": [
          19.989999999997963
         ],
         "yaxis": "y"
        },
        {
         "line": {
          "color": "gray",
          "width": 1
         },
         "mode": "lines",
         "showlegend": false,
         "type": "scatter",
         "x": [
          "2024-09-15T07:15:00",
          "2024-09-15T07:15:00"
         ],
         "xaxis": "x",
         "y": [
          60129.93,
          60147.41
         ],
         "yaxis": "y"
        },
        {
         "base": 60140.01,
         "marker": {
          "color": "gray",
          "line": {
           "width": 0
          }
         },
         "showlegend": false,
         "type": "bar",
         "width": 0.6,
         "x": [
          "2024-09-15T07:15:00"
         ],
         "xaxis": "x",
         "y": [
          7.389999999999418
         ],
         "yaxis": "y"
        },
        {
         "line": {
          "color": "lime",
          "width": 1
         },
         "mode": "lines",
         "showlegend": false,
         "type": "scatter",
         "x": [
          "2024-09-15T07:20:00",
          "2024-09-15T07:20:00"
         ],
         "xaxis": "x",
         "y": [
          60147.4,
          60200
         ],
         "yaxis": "y"
        },
        {
         "base": 60147.41,
         "marker": {
          "color": "lime",
          "line": {
           "width": 0
          }
         },
         "showlegend": false,
         "type": "bar",
         "width": 0.6,
         "x": [
          "2024-09-15T07:20:00"
         ],
         "xaxis": "x",
         "y": [
          52.57999999999447
         ],
         "yaxis": "y"
        },
        {
         "line": {
          "color": "blue",
          "width": 1
         },
         "mode": "lines",
         "showlegend": false,
         "type": "scatter",
         "x": [
          "2024-09-15T07:25:00",
          "2024-09-15T07:25:00"
         ],
         "xaxis": "x",
         "y": [
          60199.99,
          60214.34
         ],
         "yaxis": "y"
        },
        {
         "base": 60199.99,
         "marker": {
          "color": "blue",
          "line": {
           "width": 0
          }
         },
         "showlegend": false,
         "type": "bar",
         "width": 0.6,
         "x": [
          "2024-09-15T07:25:00"
         ],
         "xaxis": "x",
         "y": [
          12.029999999998836
         ],
         "yaxis": "y"
        },
        {
         "line": {
          "color": "darkgray",
          "width": 1
         },
         "mode": "lines",
         "showlegend": false,
         "type": "scatter",
         "x": [
          "2024-09-15T07:30:00",
          "2024-09-15T07:30:00"
         ],
         "xaxis": "x",
         "y": [
          60176,
          60212.02
         ],
         "yaxis": "y"
        },
        {
         "base": 60176.01,
         "marker": {
          "color": "darkgray",
          "line": {
           "width": 0
          }
         },
         "showlegend": false,
         "type": "bar",
         "width": 0.6,
         "x": [
          "2024-09-15T07:30:00"
         ],
         "xaxis": "x",
         "y": [
          36
         ],
         "yaxis": "y"
        },
        {
         "line": {
          "color": "darkgray",
          "width": 1
         },
         "mode": "lines",
         "showlegend": false,
         "type": "scatter",
         "x": [
          "2024-09-15T07:35:00",
          "2024-09-15T07:35:00"
         ],
         "xaxis": "x",
         "y": [
          60162.13,
          60181.43
         ],
         "yaxis": "y"
        },
        {
         "base": 60173.98,
         "marker": {
          "color": "darkgray",
          "line": {
           "width": 0
          }
         },
         "showlegend": false,
         "type": "bar",
         "width": 0.6,
         "x": [
          "2024-09-15T07:35:00"
         ],
         "xaxis": "x",
         "y": [
          2.029999999998836
         ],
         "yaxis": "y"
        },
        {
         "line": {
          "color": "gray",
          "width": 1
         },
         "mode": "lines",
         "showlegend": false,
         "type": "scatter",
         "x": [
          "2024-09-15T07:40:00",
          "2024-09-15T07:40:00"
         ],
         "xaxis": "x",
         "y": [
          60173.98,
          60181.21
         ],
         "yaxis": "y"
        },
        {
         "base": 60173.98,
         "marker": {
          "color": "gray",
          "line": {
           "width": 0
          }
         },
         "showlegend": false,
         "type": "bar",
         "width": 0.6,
         "x": [
          "2024-09-15T07:40:00"
         ],
         "xaxis": "x",
         "y": [
          4.029999999998836
         ],
         "yaxis": "y"
        },
        {
         "line": {
          "color": "gray",
          "width": 1
         },
         "mode": "lines",
         "showlegend": false,
         "type": "scatter",
         "x": [
          "2024-09-15T07:45:00",
          "2024-09-15T07:45:00"
         ],
         "xaxis": "x",
         "y": [
          60178,
          60197.53
         ],
         "yaxis": "y"
        },
        {
         "base": 60178.01,
         "marker": {
          "color": "gray",
          "line": {
           "width": 0
          }
         },
         "showlegend": false,
         "type": "bar",
         "width": 0.6,
         "x": [
          "2024-09-15T07:45:00"
         ],
         "xaxis": "x",
         "y": [
          17.18000000000029
         ],
         "yaxis": "y"
        },
        {
         "line": {
          "color": "darkgray",
          "width": 1
         },
         "mode": "lines",
         "showlegend": false,
         "type": "scatter",
         "x": [
          "2024-09-15T07:50:00",
          "2024-09-15T07:50:00"
         ],
         "xaxis": "x",
         "y": [
          60186.72,
          60201.99
         ],
         "yaxis": "y"
        },
        {
         "base": 60186.73,
         "marker": {
          "color": "darkgray",
          "line": {
           "width": 0
          }
         },
         "showlegend": false,
         "type": "bar",
         "width": 0.6,
         "x": [
          "2024-09-15T07:50:00"
         ],
         "xaxis": "x",
         "y": [
          8.459999999999127
         ],
         "yaxis": "y"
        },
        {
         "line": {
          "color": "gray",
          "width": 1
         },
         "mode": "lines",
         "showlegend": false,
         "type": "scatter",
         "x": [
          "2024-09-15T07:55:00",
          "2024-09-15T07:55:00"
         ],
         "xaxis": "x",
         "y": [
          60186.72,
          60196
         ],
         "yaxis": "y"
        },
        {
         "base": 60186.72,
         "marker": {
          "color": "gray",
          "line": {
           "width": 0
          }
         },
         "showlegend": false,
         "type": "bar",
         "width": 0.6,
         "x": [
          "2024-09-15T07:55:00"
         ],
         "xaxis": "x",
         "y": [
          9.279999999998836
         ],
         "yaxis": "y"
        },
        {
         "line": {
          "color": "darkgray",
          "width": 1
         },
         "mode": "lines",
         "showlegend": false,
         "type": "scatter",
         "x": [
          "2024-09-15T08:00:00",
          "2024-09-15T08:00:00"
         ],
         "xaxis": "x",
         "y": [
          60194,
          60204
         ],
         "yaxis": "y"
        },
        {
         "base": 60194.01,
         "marker": {
          "color": "darkgray",
          "line": {
           "width": 0
          }
         },
         "showlegend": false,
         "type": "bar",
         "width": 0.6,
         "x": [
          "2024-09-15T08:00:00"
         ],
         "xaxis": "x",
         "y": [
          1.9799999999959255
         ],
         "yaxis": "y"
        },
        {
         "line": {
          "color": "fuchsia",
          "width": 1
         },
         "mode": "lines",
         "showlegend": false,
         "type": "scatter",
         "x": [
          "2024-09-15T08:05:00",
          "2024-09-15T08:05:00"
         ],
         "xaxis": "x",
         "y": [
          60152,
          60194.01
         ],
         "yaxis": "y"
        },
        {
         "base": 60170,
         "marker": {
          "color": "fuchsia",
          "line": {
           "width": 0
          }
         },
         "showlegend": false,
         "type": "bar",
         "width": 0.6,
         "x": [
          "2024-09-15T08:05:00"
         ],
         "xaxis": "x",
         "y": [
          24.010000000002037
         ],
         "yaxis": "y"
        },
        {
         "line": {
          "color": "darkgray",
          "width": 1
         },
         "mode": "lines",
         "showlegend": false,
         "type": "scatter",
         "x": [
          "2024-09-15T08:10:00",
          "2024-09-15T08:10:00"
         ],
         "xaxis": "x",
         "y": [
          60154.52,
          60170.01
         ],
         "yaxis": "y"
        },
        {
         "base": 60159.99,
         "marker": {
          "color": "darkgray",
          "line": {
           "width": 0
          }
         },
         "showlegend": false,
         "type": "bar",
         "width": 0.6,
         "x": [
          "2024-09-15T08:10:00"
         ],
         "xaxis": "x",
         "y": [
          10.010000000002037
         ],
         "yaxis": "y"
        },
        {
         "line": {
          "color": "gray",
          "width": 1
         },
         "mode": "lines",
         "showlegend": false,
         "type": "scatter",
         "x": [
          "2024-09-15T08:15:00",
          "2024-09-15T08:15:00"
         ],
         "xaxis": "x",
         "y": [
          60159.99,
          60194
         ],
         "yaxis": "y"
        },
        {
         "base": 60160,
         "marker": {
          "color": "gray",
          "line": {
           "width": 0
          }
         },
         "showlegend": false,
         "type": "bar",
         "width": 0.6,
         "x": [
          "2024-09-15T08:15:00"
         ],
         "xaxis": "x",
         "y": [
          8
         ],
         "yaxis": "y"
        },
        {
         "line": {
          "color": "red",
          "width": 1
         },
         "mode": "lines",
         "showlegend": false,
         "type": "scatter",
         "x": [
          "2024-09-15T08:20:00",
          "2024-09-15T08:20:00"
         ],
         "xaxis": "x",
         "y": [
          60082,
          60168.01
         ],
         "yaxis": "y"
        },
        {
         "base": 60088,
         "marker": {
          "color": "red",
          "line": {
           "width": 0
          }
         },
         "showlegend": false,
         "type": "bar",
         "width": 0.6,
         "x": [
          "2024-09-15T08:20:00"
         ],
         "xaxis": "x",
         "y": [
          80.01000000000204
         ],
         "yaxis": "y"
        },
        {
         "line": {
          "color": "darkgray",
          "width": 1
         },
         "mode": "lines",
         "showlegend": false,
         "type": "scatter",
         "x": [
          "2024-09-15T08:25:00",
          "2024-09-15T08:25:00"
         ],
         "xaxis": "x",
         "y": [
          60044,
          60088.01
         ],
         "yaxis": "y"
        },
        {
         "base": 60073.98,
         "marker": {
          "color": "darkgray",
          "line": {
           "width": 0
          }
         },
         "showlegend": false,
         "type": "bar",
         "width": 0.6,
         "x": [
          "2024-09-15T08:25:00"
         ],
         "xaxis": "x",
         "y": [
          14.029999999998836
         ],
         "yaxis": "y"
        },
        {
         "line": {
          "color": "gray",
          "width": 1
         },
         "mode": "lines",
         "showlegend": false,
         "type": "scatter",
         "x": [
          "2024-09-15T08:30:00",
          "2024-09-15T08:30:00"
         ],
         "xaxis": "x",
         "y": [
          60072.23,
          60090.01
         ],
         "yaxis": "y"
        },
        {
         "base": 60073.98,
         "marker": {
          "color": "gray",
          "line": {
           "width": 0
          }
         },
         "showlegend": false,
         "type": "bar",
         "width": 0.6,
         "x": [
          "2024-09-15T08:30:00"
         ],
         "xaxis": "x",
         "y": [
          16.029999999998836
         ],
         "yaxis": "y"
        },
        {
         "line": {
          "color": "darkgray",
          "width": 1
         },
         "mode": "lines",
         "showlegend": false,
         "type": "scatter",
         "x": [
          "2024-09-15T08:35:00",
          "2024-09-15T08:35:00"
         ],
         "xaxis": "x",
         "y": [
          60088.22,
          60091.99
         ],
         "yaxis": "y"
        },
        {
         "base": 60088.39,
         "marker": {
          "color": "darkgray",
          "line": {
           "width": 0
          }
         },
         "showlegend": false,
         "type": "bar",
         "width": 0.6,
         "x": [
          "2024-09-15T08:35:00"
         ],
         "xaxis": "x",
         "y": [
          1.6200000000026193
         ],
         "yaxis": "y"
        },
        {
         "line": {
          "color": "gray",
          "width": 1
         },
         "mode": "lines",
         "showlegend": false,
         "type": "scatter",
         "x": [
          "2024-09-15T08:40:00",
          "2024-09-15T08:40:00"
         ],
         "xaxis": "x",
         "y": [
          60088.39,
          60118
         ],
         "yaxis": "y"
        },
        {
         "base": 60088.39,
         "marker": {
          "color": "gray",
          "line": {
           "width": 0
          }
         },
         "showlegend": false,
         "type": "bar",
         "width": 0.6,
         "x": [
          "2024-09-15T08:40:00"
         ],
         "xaxis": "x",
         "y": [
          28.040000000000873
         ],
         "yaxis": "y"
        },
        {
         "line": {
          "color": "darkgray",
          "width": 1
         },
         "mode": "lines",
         "showlegend": false,
         "type": "scatter",
         "x": [
          "2024-09-15T08:45:00",
          "2024-09-15T08:45:00"
         ],
         "xaxis": "x",
         "y": [
          60108,
          60117.99
         ],
         "yaxis": "y"
        },
        {
         "base": 60112.49,
         "marker": {
          "color": "darkgray",
          "line": {
           "width": 0
          }
         },
         "showlegend": false,
         "type": "bar",
         "width": 0.6,
         "x": [
          "2024-09-15T08:45:00"
         ],
         "xaxis": "x",
         "y": [
          3.930000000000291
         ],
         "yaxis": "y"
        },
        {
         "line": {
          "color": "darkgray",
          "width": 1
         },
         "mode": "lines",
         "showlegend": false,
         "type": "scatter",
         "x": [
          "2024-09-15T08:50:00",
          "2024-09-15T08:50:00"
         ],
         "xaxis": "x",
         "y": [
          60088.27,
          60112.49
         ],
         "yaxis": "y"
        },
        {
         "base": 60088.28,
         "marker": {
          "color": "darkgray",
          "line": {
           "width": 0
          }
         },
         "showlegend": false,
         "type": "bar",
         "width": 0.6,
         "x": [
          "2024-09-15T08:50:00"
         ],
         "xaxis": "x",
         "y": [
          24.200000000004366
         ],
         "yaxis": "y"
        },
        {
         "line": {
          "color": "darkgray",
          "width": 1
         },
         "mode": "lines",
         "showlegend": false,
         "type": "scatter",
         "x": [
          "2024-09-15T08:55:00",
          "2024-09-15T08:55:00"
         ],
         "xaxis": "x",
         "y": [
          60068,
          60088.29
         ],
         "yaxis": "y"
        },
        {
         "base": 60069.99,
         "marker": {
          "color": "darkgray",
          "line": {
           "width": 0
          }
         },
         "showlegend": false,
         "type": "bar",
         "width": 0.6,
         "x": [
          "2024-09-15T08:55:00"
         ],
         "xaxis": "x",
         "y": [
          18.30000000000291
         ],
         "yaxis": "y"
        },
        {
         "line": {
          "color": "gray",
          "width": 1
         },
         "mode": "lines",
         "showlegend": false,
         "type": "scatter",
         "x": [
          "2024-09-15T09:00:00",
          "2024-09-15T09:00:00"
         ],
         "xaxis": "x",
         "y": [
          60069.99,
          60086.11
         ],
         "yaxis": "y"
        },
        {
         "base": 60069.99,
         "marker": {
          "color": "gray",
          "line": {
           "width": 0
          }
         },
         "showlegend": false,
         "type": "bar",
         "width": 0.6,
         "x": [
          "2024-09-15T09:00:00"
         ],
         "xaxis": "x",
         "y": [
          16.110000000000582
         ],
         "yaxis": "y"
        },
        {
         "line": {
          "color": "darkgray",
          "width": 1
         },
         "mode": "lines",
         "showlegend": false,
         "type": "scatter",
         "x": [
          "2024-09-15T09:05:00",
          "2024-09-15T09:05:00"
         ],
         "xaxis": "x",
         "y": [
          60077.99,
          60086.11
         ],
         "yaxis": "y"
        },
        {
         "base": 60081.1,
         "marker": {
          "color": "darkgray",
          "line": {
           "width": 0
          }
         },
         "showlegend": false,
         "type": "bar",
         "width": 0.6,
         "x": [
          "2024-09-15T09:05:00"
         ],
         "xaxis": "x",
         "y": [
          5.010000000002037
         ],
         "yaxis": "y"
        },
        {
         "line": {
          "color": "red",
          "width": 1
         },
         "mode": "lines",
         "showlegend": false,
         "type": "scatter",
         "x": [
          "2024-09-15T09:10:00",
          "2024-09-15T09:10:00"
         ],
         "xaxis": "x",
         "y": [
          60036,
          60081.11
         ],
         "yaxis": "y"
        },
        {
         "base": 60064,
         "marker": {
          "color": "red",
          "line": {
           "width": 0
          }
         },
         "showlegend": false,
         "type": "bar",
         "width": 0.6,
         "x": [
          "2024-09-15T09:10:00"
         ],
         "xaxis": "x",
         "y": [
          17.110000000000582
         ],
         "yaxis": "y"
        },
        {
         "line": {
          "color": "gray",
          "width": 1
         },
         "mode": "lines",
         "showlegend": false,
         "type": "scatter",
         "x": [
          "2024-09-15T09:15:00",
          "2024-09-15T09:15:00"
         ],
         "xaxis": "x",
         "y": [
          60063.99,
          60102
         ],
         "yaxis": "y"
        },
        {
         "base": 60063.99,
         "marker": {
          "color": "gray",
          "line": {
           "width": 0
          }
         },
         "showlegend": false,
         "type": "bar",
         "width": 0.6,
         "x": [
          "2024-09-15T09:15:00"
         ],
         "xaxis": "x",
         "y": [
          36.81999999999971
         ],
         "yaxis": "y"
        },
        {
         "line": {
          "color": "gray",
          "width": 1
         },
         "mode": "lines",
         "showlegend": false,
         "type": "scatter",
         "x": [
          "2024-09-15T09:20:00",
          "2024-09-15T09:20:00"
         ],
         "xaxis": "x",
         "y": [
          60093.99,
          60101.99
         ],
         "yaxis": "y"
        },
        {
         "base": 60100.8,
         "marker": {
          "color": "gray",
          "line": {
           "width": 0
          }
         },
         "showlegend": false,
         "type": "bar",
         "width": 0.6,
         "x": [
          "2024-09-15T09:20:00"
         ],
         "xaxis": "x",
         "y": [
          1.1899999999950523
         ],
         "yaxis": "y"
        },
        {
         "line": {
          "color": "gray",
          "width": 1
         },
         "mode": "lines",
         "showlegend": false,
         "type": "scatter",
         "x": [
          "2024-09-15T09:25:00",
          "2024-09-15T09:25:00"
         ],
         "xaxis": "x",
         "y": [
          60101.98,
          60105.74
         ],
         "yaxis": "y"
        },
        {
         "base": 60101.99,
         "marker": {
          "color": "gray",
          "line": {
           "width": 0
          }
         },
         "showlegend": false,
         "type": "bar",
         "width": 0.6,
         "x": [
          "2024-09-15T09:25:00"
         ],
         "xaxis": "x",
         "y": [
          0.75
         ],
         "yaxis": "y"
        },
        {
         "line": {
          "color": "darkgray",
          "width": 1
         },
         "mode": "lines",
         "showlegend": false,
         "type": "scatter",
         "x": [
          "2024-09-15T09:30:00",
          "2024-09-15T09:30:00"
         ],
         "xaxis": "x",
         "y": [
          60096.94,
          60104
         ],
         "yaxis": "y"
        },
        {
         "base": 60099.93,
         "marker": {
          "color": "darkgray",
          "line": {
           "width": 0
          }
         },
         "showlegend": false,
         "type": "bar",
         "width": 0.6,
         "x": [
          "2024-09-15T09:30:00"
         ],
         "xaxis": "x",
         "y": [
          2.8099999999976717
         ],
         "yaxis": "y"
        },
        {
         "line": {
          "color": "darkgray",
          "width": 1
         },
         "mode": "lines",
         "showlegend": false,
         "type": "scatter",
         "x": [
          "2024-09-15T09:35:00",
          "2024-09-15T09:35:00"
         ],
         "xaxis": "x",
         "y": [
          60066.9,
          60099.93
         ],
         "yaxis": "y"
        },
        {
         "base": 60066.91,
         "marker": {
          "color": "darkgray",
          "line": {
           "width": 0
          }
         },
         "showlegend": false,
         "type": "bar",
         "width": 0.6,
         "x": [
          "2024-09-15T09:35:00"
         ],
         "xaxis": "x",
         "y": [
          33.00999999999476
         ],
         "yaxis": "y"
        },
        {
         "line": {
          "color": "fuchsia",
          "width": 1
         },
         "mode": "lines",
         "showlegend": false,
         "type": "scatter",
         "x": [
          "2024-09-15T09:40:00",
          "2024-09-15T09:40:00"
         ],
         "xaxis": "x",
         "y": [
          60059.55,
          60086
         ],
         "yaxis": "y"
        },
        {
         "base": 60059.55,
         "marker": {
          "color": "fuchsia",
          "line": {
           "width": 0
          }
         },
         "showlegend": false,
         "type": "bar",
         "width": 0.6,
         "x": [
          "2024-09-15T09:40:00"
         ],
         "xaxis": "x",
         "y": [
          7.349999999998545
         ],
         "yaxis": "y"
        },
        {
         "line": {
          "color": "darkgray",
          "width": 1
         },
         "mode": "lines",
         "showlegend": false,
         "type": "scatter",
         "x": [
          "2024-09-15T09:45:00",
          "2024-09-15T09:45:00"
         ],
         "xaxis": "x",
         "y": [
          60050,
          60065.54
         ],
         "yaxis": "y"
        },
        {
         "base": 60050,
         "marker": {
          "color": "darkgray",
          "line": {
           "width": 0
          }
         },
         "showlegend": false,
         "type": "bar",
         "width": 0.6,
         "x": [
          "2024-09-15T09:45:00"
         ],
         "xaxis": "x",
         "y": [
          9.559999999997672
         ],
         "yaxis": "y"
        },
        {
         "line": {
          "color": "fuchsia",
          "width": 1
         },
         "mode": "lines",
         "showlegend": false,
         "type": "scatter",
         "x": [
          "2024-09-15T09:50:00",
          "2024-09-15T09:50:00"
         ],
         "xaxis": "x",
         "y": [
          60009.96,
          60050.01
         ],
         "yaxis": "y"
        },
        {
         "base": 60016.2,
         "marker": {
          "color": "fuchsia",
          "line": {
           "width": 0
          }
         },
         "showlegend": false,
         "type": "bar",
         "width": 0.6,
         "x": [
          "2024-09-15T09:50:00"
         ],
         "xaxis": "x",
         "y": [
          33.80000000000291
         ],
         "yaxis": "y"
        },
        {
         "line": {
          "color": "darkgray",
          "width": 1
         },
         "mode": "lines",
         "showlegend": false,
         "type": "scatter",
         "x": [
          "2024-09-15T09:55:00",
          "2024-09-15T09:55:00"
         ],
         "xaxis": "x",
         "y": [
          60014,
          60024
         ],
         "yaxis": "y"
        },
        {
         "base": 60016,
         "marker": {
          "color": "darkgray",
          "line": {
           "width": 0
          }
         },
         "showlegend": false,
         "type": "bar",
         "width": 0.6,
         "x": [
          "2024-09-15T09:55:00"
         ],
         "xaxis": "x",
         "y": [
          0.1900000000023283
         ],
         "yaxis": "y"
        },
        {
         "line": {
          "color": "gray",
          "width": 1
         },
         "mode": "lines",
         "showlegend": false,
         "type": "scatter",
         "x": [
          "2024-09-15T10:00:00",
          "2024-09-15T10:00:00"
         ],
         "xaxis": "x",
         "y": [
          60015.52,
          60042
         ],
         "yaxis": "y"
        },
        {
         "base": 60016.01,
         "marker": {
          "color": "gray",
          "line": {
           "width": 0
          }
         },
         "showlegend": false,
         "type": "bar",
         "width": 0.6,
         "x": [
          "2024-09-15T10:00:00"
         ],
         "xaxis": "x",
         "y": [
          21.989999999997963
         ],
         "yaxis": "y"
        },
        {
         "line": {
          "color": "red",
          "width": 1
         },
         "mode": "lines",
         "showlegend": false,
         "type": "scatter",
         "x": [
          "2024-09-15T10:05:00",
          "2024-09-15T10:05:00"
         ],
         "xaxis": "x",
         "y": [
          59984,
          60038.01
         ],
         "yaxis": "y"
        },
        {
         "base": 60007.64,
         "marker": {
          "color": "red",
          "line": {
           "width": 0
          }
         },
         "showlegend": false,
         "type": "bar",
         "width": 0.6,
         "x": [
          "2024-09-15T10:05:00"
         ],
         "xaxis": "x",
         "y": [
          30.360000000000582
         ],
         "yaxis": "y"
        },
        {
         "line": {
          "color": "darkgray",
          "width": 1
         },
         "mode": "lines",
         "showlegend": false,
         "type": "scatter",
         "x": [
          "2024-09-15T10:10:00",
          "2024-09-15T10:10:00"
         ],
         "xaxis": "x",
         "y": [
          59986,
          60007.64
         ],
         "yaxis": "y"
        },
        {
         "base": 59986.01,
         "marker": {
          "color": "darkgray",
          "line": {
           "width": 0
          }
         },
         "showlegend": false,
         "type": "bar",
         "width": 0.6,
         "x": [
          "2024-09-15T10:10:00"
         ],
         "xaxis": "x",
         "y": [
          21.62999999999738
         ],
         "yaxis": "y"
        },
        {
         "line": {
          "color": "fuchsia",
          "width": 1
         },
         "mode": "lines",
         "showlegend": false,
         "type": "scatter",
         "x": [
          "2024-09-15T10:15:00",
          "2024-09-15T10:15:00"
         ],
         "xaxis": "x",
         "y": [
          59966.75,
          59989.49
         ],
         "yaxis": "y"
        },
        {
         "base": 59972.6,
         "marker": {
          "color": "fuchsia",
          "line": {
           "width": 0
          }
         },
         "showlegend": false,
         "type": "bar",
         "width": 0.6,
         "x": [
          "2024-09-15T10:15:00"
         ],
         "xaxis": "x",
         "y": [
          13.410000000003492
         ],
         "yaxis": "y"
        },
        {
         "line": {
          "color": "fuchsia",
          "width": 1
         },
         "mode": "lines",
         "showlegend": false,
         "type": "scatter",
         "x": [
          "2024-09-15T10:20:00",
          "2024-09-15T10:20:00"
         ],
         "xaxis": "x",
         "y": [
          59946,
          59972.6
         ],
         "yaxis": "y"
        },
        {
         "base": 59951.01,
         "marker": {
          "color": "fuchsia",
          "line": {
           "width": 0
          }
         },
         "showlegend": false,
         "type": "bar",
         "width": 0.6,
         "x": [
          "2024-09-15T10:20:00"
         ],
         "xaxis": "x",
         "y": [
          21.589999999996508
         ],
         "yaxis": "y"
        },
        {
         "line": {
          "color": "darkgray",
          "width": 1
         },
         "mode": "lines",
         "showlegend": false,
         "type": "scatter",
         "x": [
          "2024-09-15T10:25:00",
          "2024-09-15T10:25:00"
         ],
         "xaxis": "x",
         "y": [
          59945.11,
          59951.02
         ],
         "yaxis": "y"
        },
        {
         "base": 59945.12,
         "marker": {
          "color": "darkgray",
          "line": {
           "width": 0
          }
         },
         "showlegend": false,
         "type": "bar",
         "width": 0.6,
         "x": [
          "2024-09-15T10:25:00"
         ],
         "xaxis": "x",
         "y": [
          5.899999999994179
         ],
         "yaxis": "y"
        },
        {
         "line": {
          "color": "lime",
          "width": 1
         },
         "mode": "lines",
         "showlegend": false,
         "type": "scatter",
         "x": [
          "2024-09-15T10:30:00",
          "2024-09-15T10:30:00"
         ],
         "xaxis": "x",
         "y": [
          59880,
          60006.82
         ],
         "yaxis": "y"
        },
        {
         "base": 59945.11,
         "marker": {
          "color": "lime",
          "line": {
           "width": 0
          }
         },
         "showlegend": false,
         "type": "bar",
         "width": 0.6,
         "x": [
          "2024-09-15T10:30:00"
         ],
         "xaxis": "x",
         "y": [
          36
         ],
         "yaxis": "y"
        },
        {
         "line": {
          "color": "blue",
          "width": 1
         },
         "mode": "lines",
         "showlegend": false,
         "type": "scatter",
         "x": [
          "2024-09-15T10:35:00",
          "2024-09-15T10:35:00"
         ],
         "xaxis": "x",
         "y": [
          59981.1,
          60018
         ],
         "yaxis": "y"
        },
        {
         "base": 59981.11,
         "marker": {
          "color": "blue",
          "line": {
           "width": 0
          }
         },
         "showlegend": false,
         "type": "bar",
         "width": 0.6,
         "x": [
          "2024-09-15T10:35:00"
         ],
         "xaxis": "x",
         "y": [
          29.69000000000233
         ],
         "yaxis": "y"
        },
        {
         "line": {
          "color": "darkgray",
          "width": 1
         },
         "mode": "lines",
         "showlegend": false,
         "type": "scatter",
         "x": [
          "2024-09-15T10:40:00",
          "2024-09-15T10:40:00"
         ],
         "xaxis": "x",
         "y": [
          60002.09,
          60013.31
         ],
         "yaxis": "y"
        },
        {
         "base": 60002.09,
         "marker": {
          "color": "darkgray",
          "line": {
           "width": 0
          }
         },
         "showlegend": false,
         "type": "bar",
         "width": 0.6,
         "x": [
          "2024-09-15T10:40:00"
         ],
         "xaxis": "x",
         "y": [
          8.710000000006403
         ],
         "yaxis": "y"
        },
        {
         "line": {
          "color": "gray",
          "width": 1
         },
         "mode": "lines",
         "showlegend": false,
         "type": "scatter",
         "x": [
          "2024-09-15T10:45:00",
          "2024-09-15T10:45:00"
         ],
         "xaxis": "x",
         "y": [
          59974.01,
          60009.98
         ],
         "yaxis": "y"
        },
        {
         "base": 60002.09,
         "marker": {
          "color": "gray",
          "line": {
           "width": 0
          }
         },
         "showlegend": false,
         "type": "bar",
         "width": 0.6,
         "x": [
          "2024-09-15T10:45:00"
         ],
         "xaxis": "x",
         "y": [
          3.900000000001455
         ],
         "yaxis": "y"
        },
        {
         "line": {
          "color": "darkgray",
          "width": 1
         },
         "mode": "lines",
         "showlegend": false,
         "type": "scatter",
         "x": [
          "2024-09-15T10:50:00",
          "2024-09-15T10:50:00"
         ],
         "xaxis": "x",
         "y": [
          59993.98,
          60006
         ],
         "yaxis": "y"
        },
        {
         "base": 60005.98,
         "marker": {
          "color": "darkgray",
          "line": {
           "width": 0
          }
         },
         "showlegend": false,
         "type": "bar",
         "width": 0.6,
         "x": [
          "2024-09-15T10:50:00"
         ],
         "xaxis": "x",
         "y": [
          0.00999999999476131
         ],
         "yaxis": "y"
        },
        {
         "line": {
          "color": "darkgray",
          "width": 1
         },
         "mode": "lines",
         "showlegend": false,
         "type": "scatter",
         "x": [
          "2024-09-15T10:55:00",
          "2024-09-15T10:55:00"
         ],
         "xaxis": "x",
         "y": [
          59991.3,
          60005.98
         ],
         "yaxis": "y"
        },
        {
         "base": 59991.3,
         "marker": {
          "color": "darkgray",
          "line": {
           "width": 0
          }
         },
         "showlegend": false,
         "type": "bar",
         "width": 0.6,
         "x": [
          "2024-09-15T10:55:00"
         ],
         "xaxis": "x",
         "y": [
          14.680000000000291
         ],
         "yaxis": "y"
        },
        {
         "line": {
          "color": "darkgray",
          "width": 1
         },
         "mode": "lines",
         "showlegend": false,
         "type": "scatter",
         "x": [
          "2024-09-15T11:00:00",
          "2024-09-15T11:00:00"
         ],
         "xaxis": "x",
         "y": [
          59962,
          59991.31
         ],
         "yaxis": "y"
        },
        {
         "base": 59962,
         "marker": {
          "color": "darkgray",
          "line": {
           "width": 0
          }
         },
         "showlegend": false,
         "type": "bar",
         "width": 0.6,
         "x": [
          "2024-09-15T11:00:00"
         ],
         "xaxis": "x",
         "y": [
          29.30999999999767
         ],
         "yaxis": "y"
        },
        {
         "line": {
          "color": "fuchsia",
          "width": 1
         },
         "mode": "lines",
         "showlegend": false,
         "type": "scatter",
         "x": [
          "2024-09-15T11:05:00",
          "2024-09-15T11:05:00"
         ],
         "xaxis": "x",
         "y": [
          59927.63,
          59962
         ],
         "yaxis": "y"
        },
        {
         "base": 59927.99,
         "marker": {
          "color": "fuchsia",
          "line": {
           "width": 0
          }
         },
         "showlegend": false,
         "type": "bar",
         "width": 0.6,
         "x": [
          "2024-09-15T11:05:00"
         ],
         "xaxis": "x",
         "y": [
          34.01000000000204
         ],
         "yaxis": "y"
        },
        {
         "line": {
          "color": "blue",
          "width": 1
         },
         "mode": "lines",
         "showlegend": false,
         "type": "scatter",
         "x": [
          "2024-09-15T11:10:00",
          "2024-09-15T11:10:00"
         ],
         "xaxis": "x",
         "y": [
          59898.16,
          59934.35
         ],
         "yaxis": "y"
        },
        {
         "base": 59928,
         "marker": {
          "color": "blue",
          "line": {
           "width": 0
          }
         },
         "showlegend": false,
         "type": "bar",
         "width": 0.6,
         "x": [
          "2024-09-15T11:10:00"
         ],
         "xaxis": "x",
         "y": [
          6.3399999999965075
         ],
         "yaxis": "y"
        },
        {
         "line": {
          "color": "darkgray",
          "width": 1
         },
         "mode": "lines",
         "showlegend": false,
         "type": "scatter",
         "x": [
          "2024-09-15T11:15:00",
          "2024-09-15T11:15:00"
         ],
         "xaxis": "x",
         "y": [
          59894,
          59934.35
         ],
         "yaxis": "y"
        },
        {
         "base": 59933.95,
         "marker": {
          "color": "darkgray",
          "line": {
           "width": 0
          }
         },
         "showlegend": false,
         "type": "bar",
         "width": 0.6,
         "x": [
          "2024-09-15T11:15:00"
         ],
         "xaxis": "x",
         "y": [
          0.3899999999994179
         ],
         "yaxis": "y"
        },
        {
         "line": {
          "color": "gray",
          "width": 1
         },
         "mode": "lines",
         "showlegend": false,
         "type": "scatter",
         "x": [
          "2024-09-15T11:20:00",
          "2024-09-15T11:20:00"
         ],
         "xaxis": "x",
         "y": [
          59933.95,
          59952.62
         ],
         "yaxis": "y"
        },
        {
         "base": 59933.95,
         "marker": {
          "color": "gray",
          "line": {
           "width": 0
          }
         },
         "showlegend": false,
         "type": "bar",
         "width": 0.6,
         "x": [
          "2024-09-15T11:20:00"
         ],
         "xaxis": "x",
         "y": [
          18.67000000000553
         ],
         "yaxis": "y"
        },
        {
         "line": {
          "color": "gray",
          "width": 1
         },
         "mode": "lines",
         "showlegend": false,
         "type": "scatter",
         "x": [
          "2024-09-15T11:25:00",
          "2024-09-15T11:25:00"
         ],
         "xaxis": "x",
         "y": [
          59944,
          59961.1
         ],
         "yaxis": "y"
        },
        {
         "base": 59952.62,
         "marker": {
          "color": "gray",
          "line": {
           "width": 0
          }
         },
         "showlegend": false,
         "type": "bar",
         "width": 0.6,
         "x": [
          "2024-09-15T11:25:00"
         ],
         "xaxis": "x",
         "y": [
          8.479999999995925
         ],
         "yaxis": "y"
        },
        {
         "line": {
          "color": "darkgray",
          "width": 1
         },
         "mode": "lines",
         "showlegend": false,
         "type": "scatter",
         "x": [
          "2024-09-15T11:30:00",
          "2024-09-15T11:30:00"
         ],
         "xaxis": "x",
         "y": [
          59956,
          59990
         ],
         "yaxis": "y"
        },
        {
         "base": 59956.01,
         "marker": {
          "color": "darkgray",
          "line": {
           "width": 0
          }
         },
         "showlegend": false,
         "type": "bar",
         "width": 0.6,
         "x": [
          "2024-09-15T11:30:00"
         ],
         "xaxis": "x",
         "y": [
          5.0899999999965075
         ],
         "yaxis": "y"
        },
        {
         "line": {
          "color": "gray",
          "width": 1
         },
         "mode": "lines",
         "showlegend": false,
         "type": "scatter",
         "x": [
          "2024-09-15T11:35:00",
          "2024-09-15T11:35:00"
         ],
         "xaxis": "x",
         "y": [
          59944,
          59998
         ],
         "yaxis": "y"
        },
        {
         "base": 59956,
         "marker": {
          "color": "gray",
          "line": {
           "width": 0
          }
         },
         "showlegend": false,
         "type": "bar",
         "width": 0.6,
         "x": [
          "2024-09-15T11:35:00"
         ],
         "xaxis": "x",
         "y": [
          42
         ],
         "yaxis": "y"
        },
        {
         "line": {
          "color": "gray",
          "width": 1
         },
         "mode": "lines",
         "showlegend": false,
         "type": "scatter",
         "x": [
          "2024-09-15T11:40:00",
          "2024-09-15T11:40:00"
         ],
         "xaxis": "x",
         "y": [
          59997.99,
          60030
         ],
         "yaxis": "y"
        },
        {
         "base": 59997.99,
         "marker": {
          "color": "gray",
          "line": {
           "width": 0
          }
         },
         "showlegend": false,
         "type": "bar",
         "width": 0.6,
         "x": [
          "2024-09-15T11:40:00"
         ],
         "xaxis": "x",
         "y": [
          28.010000000002037
         ],
         "yaxis": "y"
        },
        {
         "line": {
          "color": "darkgray",
          "width": 1
         },
         "mode": "lines",
         "showlegend": false,
         "type": "scatter",
         "x": [
          "2024-09-15T11:45:00",
          "2024-09-15T11:45:00"
         ],
         "xaxis": "x",
         "y": [
          60006,
          60026
         ],
         "yaxis": "y"
        },
        {
         "base": 60014,
         "marker": {
          "color": "darkgray",
          "line": {
           "width": 0
          }
         },
         "showlegend": false,
         "type": "bar",
         "width": 0.6,
         "x": [
          "2024-09-15T11:45:00"
         ],
         "xaxis": "x",
         "y": [
          11.989999999997963
         ],
         "yaxis": "y"
        },
        {
         "line": {
          "color": "darkgray",
          "width": 1
         },
         "mode": "lines",
         "showlegend": false,
         "type": "scatter",
         "x": [
          "2024-09-15T11:50:00",
          "2024-09-15T11:50:00"
         ],
         "xaxis": "x",
         "y": [
          60010,
          60034
         ],
         "yaxis": "y"
        },
        {
         "base": 60010.01,
         "marker": {
          "color": "darkgray",
          "line": {
           "width": 0
          }
         },
         "showlegend": false,
         "type": "bar",
         "width": 0.6,
         "x": [
          "2024-09-15T11:50:00"
         ],
         "xaxis": "x",
         "y": [
          3.9799999999959255
         ],
         "yaxis": "y"
        },
        {
         "line": {
          "color": "darkgray",
          "width": 1
         },
         "mode": "lines",
         "showlegend": false,
         "type": "scatter",
         "x": [
          "2024-09-15T11:55:00",
          "2024-09-15T11:55:00"
         ],
         "xaxis": "x",
         "y": [
          60000.5,
          60010.01
         ],
         "yaxis": "y"
        },
        {
         "base": 60000.51,
         "marker": {
          "color": "darkgray",
          "line": {
           "width": 0
          }
         },
         "showlegend": false,
         "type": "bar",
         "width": 0.6,
         "x": [
          "2024-09-15T11:55:00"
         ],
         "xaxis": "x",
         "y": [
          9.489999999997963
         ],
         "yaxis": "y"
        },
        {
         "line": {
          "color": "darkgray",
          "width": 1
         },
         "mode": "lines",
         "showlegend": false,
         "type": "scatter",
         "x": [
          "2024-09-15T12:00:00",
          "2024-09-15T12:00:00"
         ],
         "xaxis": "x",
         "y": [
          59962.46,
          60000.51
         ],
         "yaxis": "y"
        },
        {
         "base": 59962.47,
         "marker": {
          "color": "darkgray",
          "line": {
           "width": 0
          }
         },
         "showlegend": false,
         "type": "bar",
         "width": 0.6,
         "x": [
          "2024-09-15T12:00:00"
         ],
         "xaxis": "x",
         "y": [
          38.04000000000087
         ],
         "yaxis": "y"
        },
        {
         "line": {
          "color": "darkgray",
          "width": 1
         },
         "mode": "lines",
         "showlegend": false,
         "type": "scatter",
         "x": [
          "2024-09-15T12:05:00",
          "2024-09-15T12:05:00"
         ],
         "xaxis": "x",
         "y": [
          59961.1,
          59965.11
         ],
         "yaxis": "y"
        },
        {
         "base": 59961.1,
         "marker": {
          "color": "darkgray",
          "line": {
           "width": 0
          }
         },
         "showlegend": false,
         "type": "bar",
         "width": 0.6,
         "x": [
          "2024-09-15T12:05:00"
         ],
         "xaxis": "x",
         "y": [
          1.3700000000026193
         ],
         "yaxis": "y"
        },
        {
         "line": {
          "color": "gray",
          "width": 1
         },
         "mode": "lines",
         "showlegend": false,
         "type": "scatter",
         "x": [
          "2024-09-15T12:10:00",
          "2024-09-15T12:10:00"
         ],
         "xaxis": "x",
         "y": [
          59958,
          59979.43
         ],
         "yaxis": "y"
        },
        {
         "base": 59961.11,
         "marker": {
          "color": "gray",
          "line": {
           "width": 0
          }
         },
         "showlegend": false,
         "type": "bar",
         "width": 0.6,
         "x": [
          "2024-09-15T12:10:00"
         ],
         "xaxis": "x",
         "y": [
          17.87000000000262
         ],
         "yaxis": "y"
        },
        {
         "line": {
          "color": "darkgray",
          "width": 1
         },
         "mode": "lines",
         "showlegend": false,
         "type": "scatter",
         "x": [
          "2024-09-15T12:15:00",
          "2024-09-15T12:15:00"
         ],
         "xaxis": "x",
         "y": [
          59949.99,
          59978.98
         ],
         "yaxis": "y"
        },
        {
         "base": 59963.99,
         "marker": {
          "color": "darkgray",
          "line": {
           "width": 0
          }
         },
         "showlegend": false,
         "type": "bar",
         "width": 0.6,
         "x": [
          "2024-09-15T12:15:00"
         ],
         "xaxis": "x",
         "y": [
          14.990000000005239
         ],
         "yaxis": "y"
        },
        {
         "line": {
          "color": "lime",
          "width": 1
         },
         "mode": "lines",
         "showlegend": false,
         "type": "scatter",
         "x": [
          "2024-09-15T12:20:00",
          "2024-09-15T12:20:00"
         ],
         "xaxis": "x",
         "y": [
          59959.53,
          60017.51
         ],
         "yaxis": "y"
        },
        {
         "base": 59964,
         "marker": {
          "color": "lime",
          "line": {
           "width": 0
          }
         },
         "showlegend": false,
         "type": "bar",
         "width": 0.6,
         "x": [
          "2024-09-15T12:20:00"
         ],
         "xaxis": "x",
         "y": [
          45.94000000000233
         ],
         "yaxis": "y"
        },
        {
         "line": {
          "color": "gray",
          "width": 1
         },
         "mode": "lines",
         "showlegend": false,
         "type": "scatter",
         "x": [
          "2024-09-15T12:25:00",
          "2024-09-15T12:25:00"
         ],
         "xaxis": "x",
         "y": [
          60009,
          60014
         ],
         "yaxis": "y"
        },
        {
         "base": 60009.95,
         "marker": {
          "color": "gray",
          "line": {
           "width": 0
          }
         },
         "showlegend": false,
         "type": "bar",
         "width": 0.6,
         "x": [
          "2024-09-15T12:25:00"
         ],
         "xaxis": "x",
         "y": [
          1.7100000000064028
         ],
         "yaxis": "y"
        },
        {
         "line": {
          "color": "gray",
          "width": 1
         },
         "mode": "lines",
         "showlegend": false,
         "type": "scatter",
         "x": [
          "2024-09-15T12:30:00",
          "2024-09-15T12:30:00"
         ],
         "xaxis": "x",
         "y": [
          60006.08,
          60035.37
         ],
         "yaxis": "y"
        },
        {
         "base": 60011.66,
         "marker": {
          "color": "gray",
          "line": {
           "width": 0
          }
         },
         "showlegend": false,
         "type": "bar",
         "width": 0.6,
         "x": [
          "2024-09-15T12:30:00"
         ],
         "xaxis": "x",
         "y": [
          4.349999999998545
         ],
         "yaxis": "y"
        },
        {
         "line": {
          "color": "darkgray",
          "width": 1
         },
         "mode": "lines",
         "showlegend": false,
         "type": "scatter",
         "x": [
          "2024-09-15T12:35:00",
          "2024-09-15T12:35:00"
         ],
         "xaxis": "x",
         "y": [
          59994,
          60016.02
         ],
         "yaxis": "y"
        },
        {
         "base": 59994,
         "marker": {
          "color": "darkgray",
          "line": {
           "width": 0
          }
         },
         "showlegend": false,
         "type": "bar",
         "width": 0.6,
         "x": [
          "2024-09-15T12:35:00"
         ],
         "xaxis": "x",
         "y": [
          22.0199999999968
         ],
         "yaxis": "y"
        },
        {
         "line": {
          "color": "gray",
          "width": 1
         },
         "mode": "lines",
         "showlegend": false,
         "type": "scatter",
         "x": [
          "2024-09-15T12:40:00",
          "2024-09-15T12:40:00"
         ],
         "xaxis": "x",
         "y": [
          59993.02,
          60016
         ],
         "yaxis": "y"
        },
        {
         "base": 59994.01,
         "marker": {
          "color": "gray",
          "line": {
           "width": 0
          }
         },
         "showlegend": false,
         "type": "bar",
         "width": 0.6,
         "x": [
          "2024-09-15T12:40:00"
         ],
         "xaxis": "x",
         "y": [
          21.989999999997963
         ],
         "yaxis": "y"
        },
        {
         "line": {
          "color": "darkgray",
          "width": 1
         },
         "mode": "lines",
         "showlegend": false,
         "type": "scatter",
         "x": [
          "2024-09-15T12:45:00",
          "2024-09-15T12:45:00"
         ],
         "xaxis": "x",
         "y": [
          60013.04,
          60036.81
         ],
         "yaxis": "y"
        },
        {
         "base": 60013.05,
         "marker": {
          "color": "darkgray",
          "line": {
           "width": 0
          }
         },
         "showlegend": false,
         "type": "bar",
         "width": 0.6,
         "x": [
          "2024-09-15T12:45:00"
         ],
         "xaxis": "x",
         "y": [
          2.9499999999970896
         ],
         "yaxis": "y"
        },
        {
         "line": {
          "color": "gray",
          "width": 1
         },
         "mode": "lines",
         "showlegend": false,
         "type": "scatter",
         "x": [
          "2024-09-15T12:50:00",
          "2024-09-15T12:50:00"
         ],
         "xaxis": "x",
         "y": [
          59994,
          60025
         ],
         "yaxis": "y"
        },
        {
         "base": 60013.04,
         "marker": {
          "color": "gray",
          "line": {
           "width": 0
          }
         },
         "showlegend": false,
         "type": "bar",
         "width": 0.6,
         "x": [
          "2024-09-15T12:50:00"
         ],
         "xaxis": "x",
         "y": [
          11.94999999999709
         ],
         "yaxis": "y"
        },
        {
         "line": {
          "color": "lime",
          "width": 1
         },
         "mode": "lines",
         "showlegend": false,
         "type": "scatter",
         "x": [
          "2024-09-15T12:55:00",
          "2024-09-15T12:55:00"
         ],
         "xaxis": "x",
         "y": [
          60024.99,
          60118
         ],
         "yaxis": "y"
        },
        {
         "base": 60024.99,
         "marker": {
          "color": "lime",
          "line": {
           "width": 0
          }
         },
         "showlegend": false,
         "type": "bar",
         "width": 0.6,
         "x": [
          "2024-09-15T12:55:00"
         ],
         "xaxis": "x",
         "y": [
          79.40000000000146
         ],
         "yaxis": "y"
        },
        {
         "line": {
          "color": "lime",
          "width": 1
         },
         "mode": "lines",
         "showlegend": false,
         "type": "scatter",
         "x": [
          "2024-09-15T13:00:00",
          "2024-09-15T13:00:00"
         ],
         "xaxis": "x",
         "y": [
          60085.62,
          60220
         ],
         "yaxis": "y"
        },
        {
         "base": 60104.39,
         "marker": {
          "color": "lime",
          "line": {
           "width": 0
          }
         },
         "showlegend": false,
         "type": "bar",
         "width": 0.6,
         "x": [
          "2024-09-15T13:00:00"
         ],
         "xaxis": "x",
         "y": [
          101.62999999999738
         ],
         "yaxis": "y"
        },
        {
         "line": {
          "color": "darkgray",
          "width": 1
         },
         "mode": "lines",
         "showlegend": false,
         "type": "scatter",
         "x": [
          "2024-09-15T13:05:00",
          "2024-09-15T13:05:00"
         ],
         "xaxis": "x",
         "y": [
          60134.06,
          60238
         ],
         "yaxis": "y"
        },
        {
         "base": 60134.08,
         "marker": {
          "color": "darkgray",
          "line": {
           "width": 0
          }
         },
         "showlegend": false,
         "type": "bar",
         "width": 0.6,
         "x": [
          "2024-09-15T13:05:00"
         ],
         "xaxis": "x",
         "y": [
          71.94999999999709
         ],
         "yaxis": "y"
        },
        {
         "line": {
          "color": "gray",
          "width": 1
         },
         "mode": "lines",
         "showlegend": false,
         "type": "scatter",
         "x": [
          "2024-09-15T13:10:00",
          "2024-09-15T13:10:00"
         ],
         "xaxis": "x",
         "y": [
          60134.08,
          60206
         ],
         "yaxis": "y"
        },
        {
         "base": 60134.09,
         "marker": {
          "color": "gray",
          "line": {
           "width": 0
          }
         },
         "showlegend": false,
         "type": "bar",
         "width": 0.6,
         "x": [
          "2024-09-15T13:10:00"
         ],
         "xaxis": "x",
         "y": [
          39.9600000000064
         ],
         "yaxis": "y"
        },
        {
         "line": {
          "color": "gray",
          "width": 1
         },
         "mode": "lines",
         "showlegend": false,
         "type": "scatter",
         "x": [
          "2024-09-15T13:15:00",
          "2024-09-15T13:15:00"
         ],
         "xaxis": "x",
         "y": [
          60174.04,
          60234.89
         ],
         "yaxis": "y"
        },
        {
         "base": 60174.04,
         "marker": {
          "color": "gray",
          "line": {
           "width": 0
          }
         },
         "showlegend": false,
         "type": "bar",
         "width": 0.6,
         "x": [
          "2024-09-15T13:15:00"
         ],
         "xaxis": "x",
         "y": [
          48.43000000000029
         ],
         "yaxis": "y"
        },
        {
         "line": {
          "color": "lime",
          "width": 1
         },
         "mode": "lines",
         "showlegend": false,
         "type": "scatter",
         "x": [
          "2024-09-15T13:20:00",
          "2024-09-15T13:20:00"
         ],
         "xaxis": "x",
         "y": [
          60222.46,
          60350.98
         ],
         "yaxis": "y"
        },
        {
         "base": 60222.47,
         "marker": {
          "color": "lime",
          "line": {
           "width": 0
          }
         },
         "showlegend": false,
         "type": "bar",
         "width": 0.6,
         "x": [
          "2024-09-15T13:20:00"
         ],
         "xaxis": "x",
         "y": [
          42.63999999999942
         ],
         "yaxis": "y"
        },
        {
         "line": {
          "color": "darkgray",
          "width": 1
         },
         "mode": "lines",
         "showlegend": false,
         "type": "scatter",
         "x": [
          "2024-09-15T13:25:00",
          "2024-09-15T13:25:00"
         ],
         "xaxis": "x",
         "y": [
          60195.01,
          60265.11
         ],
         "yaxis": "y"
        },
        {
         "base": 60202,
         "marker": {
          "color": "darkgray",
          "line": {
           "width": 0
          }
         },
         "showlegend": false,
         "type": "bar",
         "width": 0.6,
         "x": [
          "2024-09-15T13:25:00"
         ],
         "xaxis": "x",
         "y": [
          63.11000000000058
         ],
         "yaxis": "y"
        },
        {
         "line": {
          "color": "darkgray",
          "width": 1
         },
         "mode": "lines",
         "showlegend": false,
         "type": "scatter",
         "x": [
          "2024-09-15T13:30:00",
          "2024-09-15T13:30:00"
         ],
         "xaxis": "x",
         "y": [
          60142.12,
          60230
         ],
         "yaxis": "y"
        },
        {
         "base": 60194,
         "marker": {
          "color": "darkgray",
          "line": {
           "width": 0
          }
         },
         "showlegend": false,
         "type": "bar",
         "width": 0.6,
         "x": [
          "2024-09-15T13:30:00"
         ],
         "xaxis": "x",
         "y": [
          7.989999999997963
         ],
         "yaxis": "y"
        },
        {
         "line": {
          "color": "gray",
          "width": 1
         },
         "mode": "lines",
         "showlegend": false,
         "type": "scatter",
         "x": [
          "2024-09-15T13:35:00",
          "2024-09-15T13:35:00"
         ],
         "xaxis": "x",
         "y": [
          60183.13,
          60204
         ],
         "yaxis": "y"
        },
        {
         "base": 60194,
         "marker": {
          "color": "gray",
          "line": {
           "width": 0
          }
         },
         "showlegend": false,
         "type": "bar",
         "width": 0.6,
         "x": [
          "2024-09-15T13:35:00"
         ],
         "xaxis": "x",
         "y": [
          3.0199999999967986
         ],
         "yaxis": "y"
        },
        {
         "line": {
          "color": "darkgray",
          "width": 1
         },
         "mode": "lines",
         "showlegend": false,
         "type": "scatter",
         "x": [
          "2024-09-15T13:40:00",
          "2024-09-15T13:40:00"
         ],
         "xaxis": "x",
         "y": [
          60164.96,
          60197.02
         ],
         "yaxis": "y"
        },
        {
         "base": 60176.21,
         "marker": {
          "color": "darkgray",
          "line": {
           "width": 0
          }
         },
         "showlegend": false,
         "type": "bar",
         "width": 0.6,
         "x": [
          "2024-09-15T13:40:00"
         ],
         "xaxis": "x",
         "y": [
          20.80999999999767
         ],
         "yaxis": "y"
        },
        {
         "line": {
          "color": "darkgray",
          "width": 1
         },
         "mode": "lines",
         "showlegend": false,
         "type": "scatter",
         "x": [
          "2024-09-15T13:45:00",
          "2024-09-15T13:45:00"
         ],
         "xaxis": "x",
         "y": [
          60123.82,
          60185.97
         ],
         "yaxis": "y"
        },
        {
         "base": 60142.12,
         "marker": {
          "color": "darkgray",
          "line": {
           "width": 0
          }
         },
         "showlegend": false,
         "type": "bar",
         "width": 0.6,
         "x": [
          "2024-09-15T13:45:00"
         ],
         "xaxis": "x",
         "y": [
          34.099999999998545
         ],
         "yaxis": "y"
        },
        {
         "line": {
          "color": "darkgray",
          "width": 1
         },
         "mode": "lines",
         "showlegend": false,
         "type": "scatter",
         "x": [
          "2024-09-15T13:50:00",
          "2024-09-15T13:50:00"
         ],
         "xaxis": "x",
         "y": [
          60122.01,
          60144
         ],
         "yaxis": "y"
        },
        {
         "base": 60122.01,
         "marker": {
          "color": "darkgray",
          "line": {
           "width": 0
          }
         },
         "showlegend": false,
         "type": "bar",
         "width": 0.6,
         "x": [
          "2024-09-15T13:50:00"
         ],
         "xaxis": "x",
         "y": [
          20.099999999998545
         ],
         "yaxis": "y"
        },
        {
         "line": {
          "color": "gray",
          "width": 1
         },
         "mode": "lines",
         "showlegend": false,
         "type": "scatter",
         "x": [
          "2024-09-15T13:55:00",
          "2024-09-15T13:55:00"
         ],
         "xaxis": "x",
         "y": [
          60122.01,
          60189.99
         ],
         "yaxis": "y"
        },
        {
         "base": 60122.01,
         "marker": {
          "color": "gray",
          "line": {
           "width": 0
          }
         },
         "showlegend": false,
         "type": "bar",
         "width": 0.6,
         "x": [
          "2024-09-15T13:55:00"
         ],
         "xaxis": "x",
         "y": [
          67.97000000000116
         ],
         "yaxis": "y"
        },
        {
         "line": {
          "color": "gray",
          "width": 1
         },
         "mode": "lines",
         "showlegend": false,
         "type": "scatter",
         "x": [
          "2024-09-15T14:00:00",
          "2024-09-15T14:00:00"
         ],
         "xaxis": "x",
         "y": [
          60174,
          60230
         ],
         "yaxis": "y"
        },
        {
         "base": 60189.99,
         "marker": {
          "color": "gray",
          "line": {
           "width": 0
          }
         },
         "showlegend": false,
         "type": "bar",
         "width": 0.6,
         "x": [
          "2024-09-15T14:00:00"
         ],
         "xaxis": "x",
         "y": [
          26.17000000000553
         ],
         "yaxis": "y"
        },
        {
         "line": {
          "color": "darkgray",
          "width": 1
         },
         "mode": "lines",
         "showlegend": false,
         "type": "scatter",
         "x": [
          "2024-09-15T14:05:00",
          "2024-09-15T14:05:00"
         ],
         "xaxis": "x",
         "y": [
          60204.66,
          60216.18
         ],
         "yaxis": "y"
        },
        {
         "base": 60204.66,
         "marker": {
          "color": "darkgray",
          "line": {
           "width": 0
          }
         },
         "showlegend": false,
         "type": "bar",
         "width": 0.6,
         "x": [
          "2024-09-15T14:05:00"
         ],
         "xaxis": "x",
         "y": [
          11.509999999994761
         ],
         "yaxis": "y"
        },
        {
         "line": {
          "color": "red",
          "width": 1
         },
         "mode": "lines",
         "showlegend": false,
         "type": "scatter",
         "x": [
          "2024-09-15T14:10:00",
          "2024-09-15T14:10:00"
         ],
         "xaxis": "x",
         "y": [
          59996,
          60204.67
         ],
         "yaxis": "y"
        },
        {
         "base": 60029.99,
         "marker": {
          "color": "red",
          "line": {
           "width": 0
          }
         },
         "showlegend": false,
         "type": "bar",
         "width": 0.6,
         "x": [
          "2024-09-15T14:10:00"
         ],
         "xaxis": "x",
         "y": [
          174.6800000000003
         ],
         "yaxis": "y"
        },
        {
         "line": {
          "color": "red",
          "width": 1
         },
         "mode": "lines",
         "showlegend": false,
         "type": "scatter",
         "x": [
          "2024-09-15T14:15:00",
          "2024-09-15T14:15:00"
         ],
         "xaxis": "x",
         "y": [
          59871,
          60030
         ],
         "yaxis": "y"
        },
        {
         "base": 59891.99,
         "marker": {
          "color": "red",
          "line": {
           "width": 0
          }
         },
         "showlegend": false,
         "type": "bar",
         "width": 0.6,
         "x": [
          "2024-09-15T14:15:00"
         ],
         "xaxis": "x",
         "y": [
          138
         ],
         "yaxis": "y"
        },
        {
         "line": {
          "color": "gray",
          "width": 1
         },
         "mode": "lines",
         "showlegend": false,
         "type": "scatter",
         "x": [
          "2024-09-15T14:20:00",
          "2024-09-15T14:20:00"
         ],
         "xaxis": "x",
         "y": [
          59891.99,
          60006
         ],
         "yaxis": "y"
        },
        {
         "base": 59892,
         "marker": {
          "color": "gray",
          "line": {
           "width": 0
          }
         },
         "showlegend": false,
         "type": "bar",
         "width": 0.6,
         "x": [
          "2024-09-15T14:20:00"
         ],
         "xaxis": "x",
         "y": [
          113.98999999999796
         ],
         "yaxis": "y"
        },
        {
         "line": {
          "color": "gray",
          "width": 1
         },
         "mode": "lines",
         "showlegend": false,
         "type": "scatter",
         "x": [
          "2024-09-15T14:25:00",
          "2024-09-15T14:25:00"
         ],
         "xaxis": "x",
         "y": [
          59998,
          60073.97
         ],
         "yaxis": "y"
        },
        {
         "base": 60006,
         "marker": {
          "color": "gray",
          "line": {
           "width": 0
          }
         },
         "showlegend": false,
         "type": "bar",
         "width": 0.6,
         "x": [
          "2024-09-15T14:25:00"
         ],
         "xaxis": "x",
         "y": [
          67.97000000000116
         ],
         "yaxis": "y"
        },
        {
         "line": {
          "color": "gray",
          "width": 1
         },
         "mode": "lines",
         "showlegend": false,
         "type": "scatter",
         "x": [
          "2024-09-15T14:30:00",
          "2024-09-15T14:30:00"
         ],
         "xaxis": "x",
         "y": [
          60073.97,
          60193.92
         ],
         "yaxis": "y"
        },
        {
         "base": 60073.97,
         "marker": {
          "color": "gray",
          "line": {
           "width": 0
          }
         },
         "showlegend": false,
         "type": "bar",
         "width": 0.6,
         "x": [
          "2024-09-15T14:30:00"
         ],
         "xaxis": "x",
         "y": [
          60.029999999998836
         ],
         "yaxis": "y"
        },
        {
         "line": {
          "color": "gray",
          "width": 1
         },
         "mode": "lines",
         "showlegend": false,
         "type": "scatter",
         "x": [
          "2024-09-15T14:35:00",
          "2024-09-15T14:35:00"
         ],
         "xaxis": "x",
         "y": [
          60111.13,
          60173.94
         ],
         "yaxis": "y"
        },
        {
         "base": 60134,
         "marker": {
          "color": "gray",
          "line": {
           "width": 0
          }
         },
         "showlegend": false,
         "type": "bar",
         "width": 0.6,
         "x": [
          "2024-09-15T14:35:00"
         ],
         "xaxis": "x",
         "y": [
          38.01000000000204
         ],
         "yaxis": "y"
        },
        {
         "line": {
          "color": "darkgray",
          "width": 1
         },
         "mode": "lines",
         "showlegend": false,
         "type": "scatter",
         "x": [
          "2024-09-15T14:40:00",
          "2024-09-15T14:40:00"
         ],
         "xaxis": "x",
         "y": [
          60114.29,
          60172.01
         ],
         "yaxis": "y"
        },
        {
         "base": 60147.99,
         "marker": {
          "color": "darkgray",
          "line": {
           "width": 0
          }
         },
         "showlegend": false,
         "type": "bar",
         "width": 0.6,
         "x": [
          "2024-09-15T14:40:00"
         ],
         "xaxis": "x",
         "y": [
          24.020000000004075
         ],
         "yaxis": "y"
        },
        {
         "line": {
          "color": "gray",
          "width": 1
         },
         "mode": "lines",
         "showlegend": false,
         "type": "scatter",
         "x": [
          "2024-09-15T14:45:00",
          "2024-09-15T14:45:00"
         ],
         "xaxis": "x",
         "y": [
          60120,
          60183.22
         ],
         "yaxis": "y"
        },
        {
         "base": 60147.99,
         "marker": {
          "color": "gray",
          "line": {
           "width": 0
          }
         },
         "showlegend": false,
         "type": "bar",
         "width": 0.6,
         "x": [
          "2024-09-15T14:45:00"
         ],
         "xaxis": "x",
         "y": [
          35.220000000001164
         ],
         "yaxis": "y"
        },
        {
         "line": {
          "color": "gray",
          "width": 1
         },
         "mode": "lines",
         "showlegend": false,
         "type": "scatter",
         "x": [
          "2024-09-15T14:50:00",
          "2024-09-15T14:50:00"
         ],
         "xaxis": "x",
         "y": [
          60182.49,
          60201.86
         ],
         "yaxis": "y"
        },
        {
         "base": 60183.21,
         "marker": {
          "color": "gray",
          "line": {
           "width": 0
          }
         },
         "showlegend": false,
         "type": "bar",
         "width": 0.6,
         "x": [
          "2024-09-15T14:50:00"
         ],
         "xaxis": "x",
         "y": [
          14.770000000004075
         ],
         "yaxis": "y"
        },
        {
         "line": {
          "color": "blue",
          "width": 1
         },
         "mode": "lines",
         "showlegend": false,
         "type": "scatter",
         "x": [
          "2024-09-15T14:55:00",
          "2024-09-15T14:55:00"
         ],
         "xaxis": "x",
         "y": [
          60178.99,
          60280
         ],
         "yaxis": "y"
        },
        {
         "base": 60197.98,
         "marker": {
          "color": "blue",
          "line": {
           "width": 0
          }
         },
         "showlegend": false,
         "type": "bar",
         "width": 0.6,
         "x": [
          "2024-09-15T14:55:00"
         ],
         "xaxis": "x",
         "y": [
          81.5399999999936
         ],
         "yaxis": "y"
        },
        {
         "line": {
          "color": "lime",
          "width": 1
         },
         "mode": "lines",
         "showlegend": false,
         "type": "scatter",
         "x": [
          "2024-09-15T15:00:00",
          "2024-09-15T15:00:00"
         ],
         "xaxis": "x",
         "y": [
          60242,
          60395.8
         ],
         "yaxis": "y"
        },
        {
         "base": 60279.51,
         "marker": {
          "color": "lime",
          "line": {
           "width": 0
          }
         },
         "showlegend": false,
         "type": "bar",
         "width": 0.6,
         "x": [
          "2024-09-15T15:00:00"
         ],
         "xaxis": "x",
         "y": [
          100.98999999999796
         ],
         "yaxis": "y"
        },
        {
         "line": {
          "color": "darkgray",
          "width": 1
         },
         "mode": "lines",
         "showlegend": false,
         "type": "scatter",
         "x": [
          "2024-09-15T15:05:00",
          "2024-09-15T15:05:00"
         ],
         "xaxis": "x",
         "y": [
          60245.22,
          60381.01
         ],
         "yaxis": "y"
        },
        {
         "base": 60245.98,
         "marker": {
          "color": "darkgray",
          "line": {
           "width": 0
          }
         },
         "showlegend": false,
         "type": "bar",
         "width": 0.6,
         "x": [
          "2024-09-15T15:05:00"
         ],
         "xaxis": "x",
         "y": [
          134.5199999999968
         ],
         "yaxis": "y"
        },
        {
         "line": {
          "color": "darkgray",
          "width": 1
         },
         "mode": "lines",
         "showlegend": false,
         "type": "scatter",
         "x": [
          "2024-09-15T15:10:00",
          "2024-09-15T15:10:00"
         ],
         "xaxis": "x",
         "y": [
          60196,
          60258.07
         ],
         "yaxis": "y"
        },
        {
         "base": 60221.99,
         "marker": {
          "color": "darkgray",
          "line": {
           "width": 0
          }
         },
         "showlegend": false,
         "type": "bar",
         "width": 0.6,
         "x": [
          "2024-09-15T15:10:00"
         ],
         "xaxis": "x",
         "y": [
          24
         ],
         "yaxis": "y"
        },
        {
         "line": {
          "color": "darkgray",
          "width": 1
         },
         "mode": "lines",
         "showlegend": false,
         "type": "scatter",
         "x": [
          "2024-09-15T15:15:00",
          "2024-09-15T15:15:00"
         ],
         "xaxis": "x",
         "y": [
          60170.75,
          60253.27
         ],
         "yaxis": "y"
        },
        {
         "base": 60218.86,
         "marker": {
          "color": "darkgray",
          "line": {
           "width": 0
          }
         },
         "showlegend": false,
         "type": "bar",
         "width": 0.6,
         "x": [
          "2024-09-15T15:15:00"
         ],
         "xaxis": "x",
         "y": [
          3.1299999999973807
         ],
         "yaxis": "y"
        },
        {
         "line": {
          "color": "gray",
          "width": 1
         },
         "mode": "lines",
         "showlegend": false,
         "type": "scatter",
         "x": [
          "2024-09-15T15:20:00",
          "2024-09-15T15:20:00"
         ],
         "xaxis": "x",
         "y": [
          60218.86,
          60262
         ],
         "yaxis": "y"
        },
        {
         "base": 60218.87,
         "marker": {
          "color": "gray",
          "line": {
           "width": 0
          }
         },
         "showlegend": false,
         "type": "bar",
         "width": 0.6,
         "x": [
          "2024-09-15T15:20:00"
         ],
         "xaxis": "x",
         "y": [
          19.12999999999738
         ],
         "yaxis": "y"
        },
        {
         "line": {
          "color": "gray",
          "width": 1
         },
         "mode": "lines",
         "showlegend": false,
         "type": "scatter",
         "x": [
          "2024-09-15T15:25:00",
          "2024-09-15T15:25:00"
         ],
         "xaxis": "x",
         "y": [
          60216,
          60260
         ],
         "yaxis": "y"
        },
        {
         "base": 60238.01,
         "marker": {
          "color": "gray",
          "line": {
           "width": 0
          }
         },
         "showlegend": false,
         "type": "bar",
         "width": 0.6,
         "x": [
          "2024-09-15T15:25:00"
         ],
         "xaxis": "x",
         "y": [
          15.989999999997963
         ],
         "yaxis": "y"
        },
        {
         "line": {
          "color": "darkgray",
          "width": 1
         },
         "mode": "lines",
         "showlegend": false,
         "type": "scatter",
         "x": [
          "2024-09-15T15:30:00",
          "2024-09-15T15:30:00"
         ],
         "xaxis": "x",
         "y": [
          60218,
          60254
         ],
         "yaxis": "y"
        },
        {
         "base": 60220,
         "marker": {
          "color": "darkgray",
          "line": {
           "width": 0
          }
         },
         "showlegend": false,
         "type": "bar",
         "width": 0.6,
         "x": [
          "2024-09-15T15:30:00"
         ],
         "xaxis": "x",
         "y": [
          33.98999999999796
         ],
         "yaxis": "y"
        },
        {
         "line": {
          "color": "gray",
          "width": 1
         },
         "mode": "lines",
         "showlegend": false,
         "type": "scatter",
         "x": [
          "2024-09-15T15:35:00",
          "2024-09-15T15:35:00"
         ],
         "xaxis": "x",
         "y": [
          60216,
          60246
         ],
         "yaxis": "y"
        },
        {
         "base": 60220,
         "marker": {
          "color": "gray",
          "line": {
           "width": 0
          }
         },
         "showlegend": false,
         "type": "bar",
         "width": 0.6,
         "x": [
          "2024-09-15T15:35:00"
         ],
         "xaxis": "x",
         "y": [
          26
         ],
         "yaxis": "y"
        },
        {
         "line": {
          "color": "gray",
          "width": 1
         },
         "mode": "lines",
         "showlegend": false,
         "type": "scatter",
         "x": [
          "2024-09-15T15:40:00",
          "2024-09-15T15:40:00"
         ],
         "xaxis": "x",
         "y": [
          60226.01,
          60375.63
         ],
         "yaxis": "y"
        },
        {
         "base": 60246,
         "marker": {
          "color": "gray",
          "line": {
           "width": 0
          }
         },
         "showlegend": false,
         "type": "bar",
         "width": 0.6,
         "x": [
          "2024-09-15T15:40:00"
         ],
         "xaxis": "x",
         "y": [
          129.62000000000262
         ],
         "yaxis": "y"
        },
        {
         "line": {
          "color": "darkgray",
          "width": 1
         },
         "mode": "lines",
         "showlegend": false,
         "type": "scatter",
         "x": [
          "2024-09-15T15:45:00",
          "2024-09-15T15:45:00"
         ],
         "xaxis": "x",
         "y": [
          60310,
          60375.63
         ],
         "yaxis": "y"
        },
        {
         "base": 60337.99,
         "marker": {
          "color": "darkgray",
          "line": {
           "width": 0
          }
         },
         "showlegend": false,
         "type": "bar",
         "width": 0.6,
         "x": [
          "2024-09-15T15:45:00"
         ],
         "xaxis": "x",
         "y": [
          37.63000000000466
         ],
         "yaxis": "y"
        },
        {
         "line": {
          "color": "gray",
          "width": 1
         },
         "mode": "lines",
         "showlegend": false,
         "type": "scatter",
         "x": [
          "2024-09-15T15:50:00",
          "2024-09-15T15:50:00"
         ],
         "xaxis": "x",
         "y": [
          60318.1,
          60365
         ],
         "yaxis": "y"
        },
        {
         "base": 60337.99,
         "marker": {
          "color": "gray",
          "line": {
           "width": 0
          }
         },
         "showlegend": false,
         "type": "bar",
         "width": 0.6,
         "x": [
          "2024-09-15T15:50:00"
         ],
         "xaxis": "x",
         "y": [
          20.010000000002037
         ],
         "yaxis": "y"
        },
        {
         "line": {
          "color": "darkgray",
          "width": 1
         },
         "mode": "lines",
         "showlegend": false,
         "type": "scatter",
         "x": [
          "2024-09-15T15:55:00",
          "2024-09-15T15:55:00"
         ],
         "xaxis": "x",
         "y": [
          60324,
          60365.75
         ],
         "yaxis": "y"
        },
        {
         "base": 60335.41,
         "marker": {
          "color": "darkgray",
          "line": {
           "width": 0
          }
         },
         "showlegend": false,
         "type": "bar",
         "width": 0.6,
         "x": [
          "2024-09-15T15:55:00"
         ],
         "xaxis": "x",
         "y": [
          22.589999999996508
         ],
         "yaxis": "y"
        },
        {
         "line": {
          "color": "red",
          "width": 1
         },
         "mode": "lines",
         "showlegend": false,
         "type": "scatter",
         "x": [
          "2024-09-15T16:00:00",
          "2024-09-15T16:00:00"
         ],
         "xaxis": "x",
         "y": [
          60246,
          60352.65
         ],
         "yaxis": "y"
        },
        {
         "base": 60256.56,
         "marker": {
          "color": "red",
          "line": {
           "width": 0
          }
         },
         "showlegend": false,
         "type": "bar",
         "width": 0.6,
         "x": [
          "2024-09-15T16:00:00"
         ],
         "xaxis": "x",
         "y": [
          78.85000000000582
         ],
         "yaxis": "y"
        },
        {
         "line": {
          "color": "red",
          "width": 1
         },
         "mode": "lines",
         "showlegend": false,
         "type": "scatter",
         "x": [
          "2024-09-15T16:05:00",
          "2024-09-15T16:05:00"
         ],
         "xaxis": "x",
         "y": [
          60220,
          60290.05
         ],
         "yaxis": "y"
        },
        {
         "base": 60220.01,
         "marker": {
          "color": "red",
          "line": {
           "width": 0
          }
         },
         "showlegend": false,
         "type": "bar",
         "width": 0.6,
         "x": [
          "2024-09-15T16:05:00"
         ],
         "xaxis": "x",
         "y": [
          36.55999999999767
         ],
         "yaxis": "y"
        },
        {
         "line": {
          "color": "red",
          "width": 1
         },
         "mode": "lines",
         "showlegend": false,
         "type": "scatter",
         "x": [
          "2024-09-15T16:10:00",
          "2024-09-15T16:10:00"
         ],
         "xaxis": "x",
         "y": [
          60169.51,
          60224
         ],
         "yaxis": "y"
        },
        {
         "base": 60171.54,
         "marker": {
          "color": "red",
          "line": {
           "width": 0
          }
         },
         "showlegend": false,
         "type": "bar",
         "width": 0.6,
         "x": [
          "2024-09-15T16:10:00"
         ],
         "xaxis": "x",
         "y": [
          48.470000000001164
         ],
         "yaxis": "y"
        },
        {
         "line": {
          "color": "gray",
          "width": 1
         },
         "mode": "lines",
         "showlegend": false,
         "type": "scatter",
         "x": [
          "2024-09-15T16:15:00",
          "2024-09-15T16:15:00"
         ],
         "xaxis": "x",
         "y": [
          60171.54,
          60227.63
         ],
         "yaxis": "y"
        },
        {
         "base": 60171.54,
         "marker": {
          "color": "gray",
          "line": {
           "width": 0
          }
         },
         "showlegend": false,
         "type": "bar",
         "width": 0.6,
         "x": [
          "2024-09-15T16:15:00"
         ],
         "xaxis": "x",
         "y": [
          48.65999999999622
         ],
         "yaxis": "y"
        },
        {
         "line": {
          "color": "darkgray",
          "width": 1
         },
         "mode": "lines",
         "showlegend": false,
         "type": "scatter",
         "x": [
          "2024-09-15T16:20:00",
          "2024-09-15T16:20:00"
         ],
         "xaxis": "x",
         "y": [
          60050.92,
          60220.2
         ],
         "yaxis": "y"
        },
        {
         "base": 60087.65,
         "marker": {
          "color": "darkgray",
          "line": {
           "width": 0
          }
         },
         "showlegend": false,
         "type": "bar",
         "width": 0.6,
         "x": [
          "2024-09-15T16:20:00"
         ],
         "xaxis": "x",
         "y": [
          132.54999999999563
         ],
         "yaxis": "y"
        },
        {
         "line": {
          "color": "gray",
          "width": 1
         },
         "mode": "lines",
         "showlegend": false,
         "type": "scatter",
         "x": [
          "2024-09-15T16:25:00",
          "2024-09-15T16:25:00"
         ],
         "xaxis": "x",
         "y": [
          60015.65,
          60099.19
         ],
         "yaxis": "y"
        },
        {
         "base": 60087.65,
         "marker": {
          "color": "gray",
          "line": {
           "width": 0
          }
         },
         "showlegend": false,
         "type": "bar",
         "width": 0.6,
         "x": [
          "2024-09-15T16:25:00"
         ],
         "xaxis": "x",
         "y": [
          11.529999999998836
         ],
         "yaxis": "y"
        },
        {
         "line": {
          "color": "darkgray",
          "width": 1
         },
         "mode": "lines",
         "showlegend": false,
         "type": "scatter",
         "x": [
          "2024-09-15T16:30:00",
          "2024-09-15T16:30:00"
         ],
         "xaxis": "x",
         "y": [
          60060.13,
          60123.68
         ],
         "yaxis": "y"
        },
        {
         "base": 60062,
         "marker": {
          "color": "darkgray",
          "line": {
           "width": 0
          }
         },
         "showlegend": false,
         "type": "bar",
         "width": 0.6,
         "x": [
          "2024-09-15T16:30:00"
         ],
         "xaxis": "x",
         "y": [
          37.19000000000233
         ],
         "yaxis": "y"
        },
        {
         "line": {
          "color": "darkgray",
          "width": 1
         },
         "mode": "lines",
         "showlegend": false,
         "type": "scatter",
         "x": [
          "2024-09-15T16:35:00",
          "2024-09-15T16:35:00"
         ],
         "xaxis": "x",
         "y": [
          60018.58,
          60073.99
         ],
         "yaxis": "y"
        },
        {
         "base": 60058,
         "marker": {
          "color": "darkgray",
          "line": {
           "width": 0
          }
         },
         "showlegend": false,
         "type": "bar",
         "width": 0.6,
         "x": [
          "2024-09-15T16:35:00"
         ],
         "xaxis": "x",
         "y": [
          4.010000000002037
         ],
         "yaxis": "y"
        },
        {
         "line": {
          "color": "darkgray",
          "width": 1
         },
         "mode": "lines",
         "showlegend": false,
         "type": "scatter",
         "x": [
          "2024-09-15T16:40:00",
          "2024-09-15T16:40:00"
         ],
         "xaxis": "x",
         "y": [
          59994,
          60075.3
         ],
         "yaxis": "y"
        },
        {
         "base": 59994,
         "marker": {
          "color": "darkgray",
          "line": {
           "width": 0
          }
         },
         "showlegend": false,
         "type": "bar",
         "width": 0.6,
         "x": [
          "2024-09-15T16:40:00"
         ],
         "xaxis": "x",
         "y": [
          64
         ],
         "yaxis": "y"
        },
        {
         "line": {
          "color": "gray",
          "width": 1
         },
         "mode": "lines",
         "showlegend": false,
         "type": "scatter",
         "x": [
          "2024-09-15T16:45:00",
          "2024-09-15T16:45:00"
         ],
         "xaxis": "x",
         "y": [
          59953.19,
          60056.22
         ],
         "yaxis": "y"
        },
        {
         "base": 59994,
         "marker": {
          "color": "gray",
          "line": {
           "width": 0
          }
         },
         "showlegend": false,
         "type": "bar",
         "width": 0.6,
         "x": [
          "2024-09-15T16:45:00"
         ],
         "xaxis": "x",
         "y": [
          62.220000000001164
         ],
         "yaxis": "y"
        },
        {
         "line": {
          "color": "darkgray",
          "width": 1
         },
         "mode": "lines",
         "showlegend": false,
         "type": "scatter",
         "x": [
          "2024-09-15T16:50:00",
          "2024-09-15T16:50:00"
         ],
         "xaxis": "x",
         "y": [
          60000.87,
          60056.22
         ],
         "yaxis": "y"
        },
        {
         "base": 60004.52,
         "marker": {
          "color": "darkgray",
          "line": {
           "width": 0
          }
         },
         "showlegend": false,
         "type": "bar",
         "width": 0.6,
         "x": [
          "2024-09-15T16:50:00"
         ],
         "xaxis": "x",
         "y": [
          51.700000000004366
         ],
         "yaxis": "y"
        },
        {
         "line": {
          "color": "fuchsia",
          "width": 1
         },
         "mode": "lines",
         "showlegend": false,
         "type": "scatter",
         "x": [
          "2024-09-15T16:55:00",
          "2024-09-15T16:55:00"
         ],
         "xaxis": "x",
         "y": [
          59934.54,
          60004.51
         ],
         "yaxis": "y"
        },
        {
         "base": 59950.05,
         "marker": {
          "color": "fuchsia",
          "line": {
           "width": 0
          }
         },
         "showlegend": false,
         "type": "bar",
         "width": 0.6,
         "x": [
          "2024-09-15T16:55:00"
         ],
         "xaxis": "x",
         "y": [
          54.45999999999913
         ],
         "yaxis": "y"
        },
        {
         "line": {
          "color": "gray",
          "width": 1
         },
         "mode": "lines",
         "showlegend": false,
         "type": "scatter",
         "x": [
          "2024-09-15T17:00:00",
          "2024-09-15T17:00:00"
         ],
         "xaxis": "x",
         "y": [
          59921.1,
          60042.63
         ],
         "yaxis": "y"
        },
        {
         "base": 59950.05,
         "marker": {
          "color": "gray",
          "line": {
           "width": 0
          }
         },
         "showlegend": false,
         "type": "bar",
         "width": 0.6,
         "x": [
          "2024-09-15T17:00:00"
         ],
         "xaxis": "x",
         "y": [
          69.95999999999913
         ],
         "yaxis": "y"
        },
        {
         "line": {
          "color": "red",
          "width": 1
         },
         "mode": "lines",
         "showlegend": false,
         "type": "scatter",
         "x": [
          "2024-09-15T17:05:00",
          "2024-09-15T17:05:00"
         ],
         "xaxis": "x",
         "y": [
          59848.87,
          60025.89
         ],
         "yaxis": "y"
        },
        {
         "base": 59893.8,
         "marker": {
          "color": "red",
          "line": {
           "width": 0
          }
         },
         "showlegend": false,
         "type": "bar",
         "width": 0.6,
         "x": [
          "2024-09-15T17:05:00"
         ],
         "xaxis": "x",
         "y": [
          126.20999999999913
         ],
         "yaxis": "y"
        },
        {
         "line": {
          "color": "red",
          "width": 1
         },
         "mode": "lines",
         "showlegend": false,
         "type": "scatter",
         "x": [
          "2024-09-15T17:10:00",
          "2024-09-15T17:10:00"
         ],
         "xaxis": "x",
         "y": [
          59707.08,
          59893.81
         ],
         "yaxis": "y"
        },
        {
         "base": 59825.98,
         "marker": {
          "color": "red",
          "line": {
           "width": 0
          }
         },
         "showlegend": false,
         "type": "bar",
         "width": 0.6,
         "x": [
          "2024-09-15T17:10:00"
         ],
         "xaxis": "x",
         "y": [
          67.81999999999971
         ],
         "yaxis": "y"
        },
        {
         "line": {
          "color": "gray",
          "width": 1
         },
         "mode": "lines",
         "showlegend": false,
         "type": "scatter",
         "x": [
          "2024-09-15T17:15:00",
          "2024-09-15T17:15:00"
         ],
         "xaxis": "x",
         "y": [
          59758,
          59892.32
         ],
         "yaxis": "y"
        },
        {
         "base": 59825.98,
         "marker": {
          "color": "gray",
          "line": {
           "width": 0
          }
         },
         "showlegend": false,
         "type": "bar",
         "width": 0.6,
         "x": [
          "2024-09-15T17:15:00"
         ],
         "xaxis": "x",
         "y": [
          18.68000000000029
         ],
         "yaxis": "y"
        },
        {
         "line": {
          "color": "gray",
          "width": 1
         },
         "mode": "lines",
         "showlegend": false,
         "type": "scatter",
         "x": [
          "2024-09-15T17:20:00",
          "2024-09-15T17:20:00"
         ],
         "xaxis": "x",
         "y": [
          59787,
          59876.7
         ],
         "yaxis": "y"
        },
        {
         "base": 59844.66,
         "marker": {
          "color": "gray",
          "line": {
           "width": 0
          }
         },
         "showlegend": false,
         "type": "bar",
         "width": 0.6,
         "x": [
          "2024-09-15T17:20:00"
         ],
         "xaxis": "x",
         "y": [
          31.909999999996217
         ],
         "yaxis": "y"
        },
        {
         "line": {
          "color": "gray",
          "width": 1
         },
         "mode": "lines",
         "showlegend": false,
         "type": "scatter",
         "x": [
          "2024-09-15T17:25:00",
          "2024-09-15T17:25:00"
         ],
         "xaxis": "x",
         "y": [
          59844,
          59928
         ],
         "yaxis": "y"
        },
        {
         "base": 59876.58,
         "marker": {
          "color": "gray",
          "line": {
           "width": 0
          }
         },
         "showlegend": false,
         "type": "bar",
         "width": 0.6,
         "x": [
          "2024-09-15T17:25:00"
         ],
         "xaxis": "x",
         "y": [
          31.43000000000029
         ],
         "yaxis": "y"
        },
        {
         "line": {
          "color": "darkgray",
          "width": 1
         },
         "mode": "lines",
         "showlegend": false,
         "type": "scatter",
         "x": [
          "2024-09-15T17:30:00",
          "2024-09-15T17:30:00"
         ],
         "xaxis": "x",
         "y": [
          59760.61,
          59908.01
         ],
         "yaxis": "y"
        },
        {
         "base": 59843.9,
         "marker": {
          "color": "darkgray",
          "line": {
           "width": 0
          }
         },
         "showlegend": false,
         "type": "bar",
         "width": 0.6,
         "x": [
          "2024-09-15T17:30:00"
         ],
         "xaxis": "x",
         "y": [
          64.11000000000058
         ],
         "yaxis": "y"
        },
        {
         "line": {
          "color": "darkgray",
          "width": 1
         },
         "mode": "lines",
         "showlegend": false,
         "type": "scatter",
         "x": [
          "2024-09-15T17:35:00",
          "2024-09-15T17:35:00"
         ],
         "xaxis": "x",
         "y": [
          59788,
          59843.91
         ],
         "yaxis": "y"
        },
        {
         "base": 59807.99,
         "marker": {
          "color": "darkgray",
          "line": {
           "width": 0
          }
         },
         "showlegend": false,
         "type": "bar",
         "width": 0.6,
         "x": [
          "2024-09-15T17:35:00"
         ],
         "xaxis": "x",
         "y": [
          35.91000000000349
         ],
         "yaxis": "y"
        },
        {
         "line": {
          "color": "darkgray",
          "width": 1
         },
         "mode": "lines",
         "showlegend": false,
         "type": "scatter",
         "x": [
          "2024-09-15T17:40:00",
          "2024-09-15T17:40:00"
         ],
         "xaxis": "x",
         "y": [
          59750,
          59811.63
         ],
         "yaxis": "y"
        },
        {
         "base": 59802,
         "marker": {
          "color": "darkgray",
          "line": {
           "width": 0
          }
         },
         "showlegend": false,
         "type": "bar",
         "width": 0.6,
         "x": [
          "2024-09-15T17:40:00"
         ],
         "xaxis": "x",
         "y": [
          6
         ],
         "yaxis": "y"
        },
        {
         "line": {
          "color": "darkgray",
          "width": 1
         },
         "mode": "lines",
         "showlegend": false,
         "type": "scatter",
         "x": [
          "2024-09-15T17:45:00",
          "2024-09-15T17:45:00"
         ],
         "xaxis": "x",
         "y": [
          59742.01,
          59812
         ],
         "yaxis": "y"
        },
        {
         "base": 59782.5,
         "marker": {
          "color": "darkgray",
          "line": {
           "width": 0
          }
         },
         "showlegend": false,
         "type": "bar",
         "width": 0.6,
         "x": [
          "2024-09-15T17:45:00"
         ],
         "xaxis": "x",
         "y": [
          19.5
         ],
         "yaxis": "y"
        },
        {
         "line": {
          "color": "gray",
          "width": 1
         },
         "mode": "lines",
         "showlegend": false,
         "type": "scatter",
         "x": [
          "2024-09-15T17:50:00",
          "2024-09-15T17:50:00"
         ],
         "xaxis": "x",
         "y": [
          59782.51,
          59839.95
         ],
         "yaxis": "y"
        },
        {
         "base": 59782.51,
         "marker": {
          "color": "gray",
          "line": {
           "width": 0
          }
         },
         "showlegend": false,
         "type": "bar",
         "width": 0.6,
         "x": [
          "2024-09-15T17:50:00"
         ],
         "xaxis": "x",
         "y": [
          57.43000000000029
         ],
         "yaxis": "y"
        },
        {
         "line": {
          "color": "darkgray",
          "width": 1
         },
         "mode": "lines",
         "showlegend": false,
         "type": "scatter",
         "x": [
          "2024-09-15T17:55:00",
          "2024-09-15T17:55:00"
         ],
         "xaxis": "x",
         "y": [
          59814.06,
          59853.49
         ],
         "yaxis": "y"
        },
        {
         "base": 59814.07,
         "marker": {
          "color": "darkgray",
          "line": {
           "width": 0
          }
         },
         "showlegend": false,
         "type": "bar",
         "width": 0.6,
         "x": [
          "2024-09-15T17:55:00"
         ],
         "xaxis": "x",
         "y": [
          25.87000000000262
         ],
         "yaxis": "y"
        },
        {
         "line": {
          "color": "gray",
          "width": 1
         },
         "mode": "lines",
         "showlegend": false,
         "type": "scatter",
         "x": [
          "2024-09-15T18:00:00",
          "2024-09-15T18:00:00"
         ],
         "xaxis": "x",
         "y": [
          59814.06,
          59910
         ],
         "yaxis": "y"
        },
        {
         "base": 59814.07,
         "marker": {
          "color": "gray",
          "line": {
           "width": 0
          }
         },
         "showlegend": false,
         "type": "bar",
         "width": 0.6,
         "x": [
          "2024-09-15T18:00:00"
         ],
         "xaxis": "x",
         "y": [
          38.029999999998836
         ],
         "yaxis": "y"
        },
        {
         "line": {
          "color": "darkgray",
          "width": 1
         },
         "mode": "lines",
         "showlegend": false,
         "type": "scatter",
         "x": [
          "2024-09-15T18:05:00",
          "2024-09-15T18:05:00"
         ],
         "xaxis": "x",
         "y": [
          59814.06,
          59856.02
         ],
         "yaxis": "y"
        },
        {
         "base": 59815.99,
         "marker": {
          "color": "darkgray",
          "line": {
           "width": 0
          }
         },
         "showlegend": false,
         "type": "bar",
         "width": 0.6,
         "x": [
          "2024-09-15T18:05:00"
         ],
         "xaxis": "x",
         "y": [
          36.099999999998545
         ],
         "yaxis": "y"
        },
        {
         "line": {
          "color": "darkgray",
          "width": 1
         },
         "mode": "lines",
         "showlegend": false,
         "type": "scatter",
         "x": [
          "2024-09-15T18:10:00",
          "2024-09-15T18:10:00"
         ],
         "xaxis": "x",
         "y": [
          59796.43,
          59830
         ],
         "yaxis": "y"
        },
        {
         "base": 59796.43,
         "marker": {
          "color": "darkgray",
          "line": {
           "width": 0
          }
         },
         "showlegend": false,
         "type": "bar",
         "width": 0.6,
         "x": [
          "2024-09-15T18:10:00"
         ],
         "xaxis": "x",
         "y": [
          19.56999999999971
         ],
         "yaxis": "y"
        },
        {
         "line": {
          "color": "darkgray",
          "width": 1
         },
         "mode": "lines",
         "showlegend": false,
         "type": "scatter",
         "x": [
          "2024-09-15T18:15:00",
          "2024-09-15T18:15:00"
         ],
         "xaxis": "x",
         "y": [
          59774.08,
          59799
         ],
         "yaxis": "y"
        },
        {
         "base": 59791.09,
         "marker": {
          "color": "darkgray",
          "line": {
           "width": 0
          }
         },
         "showlegend": false,
         "type": "bar",
         "width": 0.6,
         "x": [
          "2024-09-15T18:15:00"
         ],
         "xaxis": "x",
         "y": [
          5.350000000005821
         ],
         "yaxis": "y"
        },
        {
         "line": {
          "color": "gray",
          "width": 1
         },
         "mode": "lines",
         "showlegend": false,
         "type": "scatter",
         "x": [
          "2024-09-15T18:20:00",
          "2024-09-15T18:20:00"
         ],
         "xaxis": "x",
         "y": [
          59764,
          59807.99
         ],
         "yaxis": "y"
        },
        {
         "base": 59791.1,
         "marker": {
          "color": "gray",
          "line": {
           "width": 0
          }
         },
         "showlegend": false,
         "type": "bar",
         "width": 0.6,
         "x": [
          "2024-09-15T18:20:00"
         ],
         "xaxis": "x",
         "y": [
          1.0999999999985448
         ],
         "yaxis": "y"
        },
        {
         "line": {
          "color": "gray",
          "width": 1
         },
         "mode": "lines",
         "showlegend": false,
         "type": "scatter",
         "x": [
          "2024-09-15T18:25:00",
          "2024-09-15T18:25:00"
         ],
         "xaxis": "x",
         "y": [
          59792.2,
          59829.99
         ],
         "yaxis": "y"
        },
        {
         "base": 59792.2,
         "marker": {
          "color": "gray",
          "line": {
           "width": 0
          }
         },
         "showlegend": false,
         "type": "bar",
         "width": 0.6,
         "x": [
          "2024-09-15T18:25:00"
         ],
         "xaxis": "x",
         "y": [
          37.79000000000087
         ],
         "yaxis": "y"
        },
        {
         "line": {
          "color": "lime",
          "width": 1
         },
         "mode": "lines",
         "showlegend": false,
         "type": "scatter",
         "x": [
          "2024-09-15T18:30:00",
          "2024-09-15T18:30:00"
         ],
         "xaxis": "x",
         "y": [
          59824.08,
          59926.25
         ],
         "yaxis": "y"
        },
        {
         "base": 59829.98,
         "marker": {
          "color": "lime",
          "line": {
           "width": 0
          }
         },
         "showlegend": false,
         "type": "bar",
         "width": 0.6,
         "x": [
          "2024-09-15T18:30:00"
         ],
         "xaxis": "x",
         "y": [
          92.0199999999968
         ],
         "yaxis": "y"
        },
        {
         "line": {
          "color": "darkgray",
          "width": 1
         },
         "mode": "lines",
         "showlegend": false,
         "type": "scatter",
         "x": [
          "2024-09-15T18:35:00",
          "2024-09-15T18:35:00"
         ],
         "xaxis": "x",
         "y": [
          59842,
          59922.01
         ],
         "yaxis": "y"
        },
        {
         "base": 59865.2,
         "marker": {
          "color": "darkgray",
          "line": {
           "width": 0
          }
         },
         "showlegend": false,
         "type": "bar",
         "width": 0.6,
         "x": [
          "2024-09-15T18:35:00"
         ],
         "xaxis": "x",
         "y": [
          56.80000000000291
         ],
         "yaxis": "y"
        },
        {
         "line": {
          "color": "red",
          "width": 1
         },
         "mode": "lines",
         "showlegend": false,
         "type": "scatter",
         "x": [
          "2024-09-15T18:40:00",
          "2024-09-15T18:40:00"
         ],
         "xaxis": "x",
         "y": [
          59746,
          59865.21
         ],
         "yaxis": "y"
        },
        {
         "base": 59789.51,
         "marker": {
          "color": "red",
          "line": {
           "width": 0
          }
         },
         "showlegend": false,
         "type": "bar",
         "width": 0.6,
         "x": [
          "2024-09-15T18:40:00"
         ],
         "xaxis": "x",
         "y": [
          75.69999999999709
         ],
         "yaxis": "y"
        },
        {
         "line": {
          "color": "gray",
          "width": 1
         },
         "mode": "lines",
         "showlegend": false,
         "type": "scatter",
         "x": [
          "2024-09-15T18:45:00",
          "2024-09-15T18:45:00"
         ],
         "xaxis": "x",
         "y": [
          59769.36,
          59828
         ],
         "yaxis": "y"
        },
        {
         "base": 59789.51,
         "marker": {
          "color": "gray",
          "line": {
           "width": 0
          }
         },
         "showlegend": false,
         "type": "bar",
         "width": 0.6,
         "x": [
          "2024-09-15T18:45:00"
         ],
         "xaxis": "x",
         "y": [
          38.479999999995925
         ],
         "yaxis": "y"
        },
        {
         "line": {
          "color": "lime",
          "width": 1
         },
         "mode": "lines",
         "showlegend": false,
         "type": "scatter",
         "x": [
          "2024-09-15T18:50:00",
          "2024-09-15T18:50:00"
         ],
         "xaxis": "x",
         "y": [
          59811.62,
          60110.04
         ],
         "yaxis": "y"
        },
        {
         "base": 59827.99,
         "marker": {
          "color": "lime",
          "line": {
           "width": 0
          }
         },
         "showlegend": false,
         "type": "bar",
         "width": 0.6,
         "x": [
          "2024-09-15T18:50:00"
         ],
         "xaxis": "x",
         "y": [
          282.0400000000009
         ],
         "yaxis": "y"
        },
        {
         "line": {
          "color": "red",
          "width": 1
         },
         "mode": "lines",
         "showlegend": false,
         "type": "scatter",
         "x": [
          "2024-09-15T18:55:00",
          "2024-09-15T18:55:00"
         ],
         "xaxis": "x",
         "y": [
          59900,
          60181.8
         ],
         "yaxis": "y"
        },
        {
         "base": 59971.09,
         "marker": {
          "color": "red",
          "line": {
           "width": 0
          }
         },
         "showlegend": false,
         "type": "bar",
         "width": 0.6,
         "x": [
          "2024-09-15T18:55:00"
         ],
         "xaxis": "x",
         "y": [
          138.95000000000437
         ],
         "yaxis": "y"
        },
        {
         "line": {
          "color": "gray",
          "width": 1
         },
         "mode": "lines",
         "showlegend": false,
         "type": "scatter",
         "x": [
          "2024-09-15T19:00:00",
          "2024-09-15T19:00:00"
         ],
         "xaxis": "x",
         "y": [
          59962.01,
          60120
         ],
         "yaxis": "y"
        },
        {
         "base": 59971.09,
         "marker": {
          "color": "gray",
          "line": {
           "width": 0
          }
         },
         "showlegend": false,
         "type": "bar",
         "width": 0.6,
         "x": [
          "2024-09-15T19:00:00"
         ],
         "xaxis": "x",
         "y": [
          108.92000000000553
         ],
         "yaxis": "y"
        },
        {
         "line": {
          "color": "darkgray",
          "width": 1
         },
         "mode": "lines",
         "showlegend": false,
         "type": "scatter",
         "x": [
          "2024-09-15T19:05:00",
          "2024-09-15T19:05:00"
         ],
         "xaxis": "x",
         "y": [
          60052.71,
          60140
         ],
         "yaxis": "y"
        },
        {
         "base": 60059.5,
         "marker": {
          "color": "darkgray",
          "line": {
           "width": 0
          }
         },
         "showlegend": false,
         "type": "bar",
         "width": 0.6,
         "x": [
          "2024-09-15T19:05:00"
         ],
         "xaxis": "x",
         "y": [
          20.5
         ],
         "yaxis": "y"
        },
        {
         "line": {
          "color": "darkgray",
          "width": 1
         },
         "mode": "lines",
         "showlegend": false,
         "type": "scatter",
         "x": [
          "2024-09-15T19:10:00",
          "2024-09-15T19:10:00"
         ],
         "xaxis": "x",
         "y": [
          60018,
          60062.49
         ],
         "yaxis": "y"
        },
        {
         "base": 60041.28,
         "marker": {
          "color": "darkgray",
          "line": {
           "width": 0
          }
         },
         "showlegend": false,
         "type": "bar",
         "width": 0.6,
         "x": [
          "2024-09-15T19:10:00"
         ],
         "xaxis": "x",
         "y": [
          18.220000000001164
         ],
         "yaxis": "y"
        },
        {
         "line": {
          "color": "darkgray",
          "width": 1
         },
         "mode": "lines",
         "showlegend": false,
         "type": "scatter",
         "x": [
          "2024-09-15T19:15:00",
          "2024-09-15T19:15:00"
         ],
         "xaxis": "x",
         "y": [
          60029.82,
          60062
         ],
         "yaxis": "y"
        },
        {
         "base": 60032,
         "marker": {
          "color": "darkgray",
          "line": {
           "width": 0
          }
         },
         "showlegend": false,
         "type": "bar",
         "width": 0.6,
         "x": [
          "2024-09-15T19:15:00"
         ],
         "xaxis": "x",
         "y": [
          9.290000000000873
         ],
         "yaxis": "y"
        },
        {
         "line": {
          "color": "darkgray",
          "width": 1
         },
         "mode": "lines",
         "showlegend": false,
         "type": "scatter",
         "x": [
          "2024-09-15T19:20:00",
          "2024-09-15T19:20:00"
         ],
         "xaxis": "x",
         "y": [
          59970.02,
          60032.01
         ],
         "yaxis": "y"
        },
        {
         "base": 59970.02,
         "marker": {
          "color": "darkgray",
          "line": {
           "width": 0
          }
         },
         "showlegend": false,
         "type": "bar",
         "width": 0.6,
         "x": [
          "2024-09-15T19:20:00"
         ],
         "xaxis": "x",
         "y": [
          61.9800000000032
         ],
         "yaxis": "y"
        },
        {
         "line": {
          "color": "darkgray",
          "width": 1
         },
         "mode": "lines",
         "showlegend": false,
         "type": "scatter",
         "x": [
          "2024-09-15T19:25:00",
          "2024-09-15T19:25:00"
         ],
         "xaxis": "x",
         "y": [
          59812,
          59970.03
         ],
         "yaxis": "y"
        },
        {
         "base": 59860.48,
         "marker": {
          "color": "darkgray",
          "line": {
           "width": 0
          }
         },
         "showlegend": false,
         "type": "bar",
         "width": 0.6,
         "x": [
          "2024-09-15T19:25:00"
         ],
         "xaxis": "x",
         "y": [
          109.54999999999563
         ],
         "yaxis": "y"
        },
        {
         "line": {
          "color": "darkgray",
          "width": 1
         },
         "mode": "lines",
         "showlegend": false,
         "type": "scatter",
         "x": [
          "2024-09-15T19:30:00",
          "2024-09-15T19:30:00"
         ],
         "xaxis": "x",
         "y": [
          59821.1,
          59890
         ],
         "yaxis": "y"
        },
        {
         "base": 59853.99,
         "marker": {
          "color": "darkgray",
          "line": {
           "width": 0
          }
         },
         "showlegend": false,
         "type": "bar",
         "width": 0.6,
         "x": [
          "2024-09-15T19:30:00"
         ],
         "xaxis": "x",
         "y": [
          6.490000000005239
         ],
         "yaxis": "y"
        },
        {
         "line": {
          "color": "gray",
          "width": 1
         },
         "mode": "lines",
         "showlegend": false,
         "type": "scatter",
         "x": [
          "2024-09-15T19:35:00",
          "2024-09-15T19:35:00"
         ],
         "xaxis": "x",
         "y": [
          59846,
          59918
         ],
         "yaxis": "y"
        },
        {
         "base": 59853.99,
         "marker": {
          "color": "gray",
          "line": {
           "width": 0
          }
         },
         "showlegend": false,
         "type": "bar",
         "width": 0.6,
         "x": [
          "2024-09-15T19:35:00"
         ],
         "xaxis": "x",
         "y": [
          38
         ],
         "yaxis": "y"
        },
        {
         "line": {
          "color": "darkgray",
          "width": 1
         },
         "mode": "lines",
         "showlegend": false,
         "type": "scatter",
         "x": [
          "2024-09-15T19:40:00",
          "2024-09-15T19:40:00"
         ],
         "xaxis": "x",
         "y": [
          59848,
          59891.99
         ],
         "yaxis": "y"
        },
        {
         "base": 59858.86,
         "marker": {
          "color": "darkgray",
          "line": {
           "width": 0
          }
         },
         "showlegend": false,
         "type": "bar",
         "width": 0.6,
         "x": [
          "2024-09-15T19:40:00"
         ],
         "xaxis": "x",
         "y": [
          33.12999999999738
         ],
         "yaxis": "y"
        },
        {
         "line": {
          "color": "darkgray",
          "width": 1
         },
         "mode": "lines",
         "showlegend": false,
         "type": "scatter",
         "x": [
          "2024-09-15T19:45:00",
          "2024-09-15T19:45:00"
         ],
         "xaxis": "x",
         "y": [
          59814.01,
          59870
         ],
         "yaxis": "y"
        },
        {
         "base": 59825.69,
         "marker": {
          "color": "darkgray",
          "line": {
           "width": 0
          }
         },
         "showlegend": false,
         "type": "bar",
         "width": 0.6,
         "x": [
          "2024-09-15T19:45:00"
         ],
         "xaxis": "x",
         "y": [
          33.169999999998254
         ],
         "yaxis": "y"
        },
        {
         "line": {
          "color": "gray",
          "width": 1
         },
         "mode": "lines",
         "showlegend": false,
         "type": "scatter",
         "x": [
          "2024-09-15T19:50:00",
          "2024-09-15T19:50:00"
         ],
         "xaxis": "x",
         "y": [
          59814.14,
          59876.86
         ],
         "yaxis": "y"
        },
        {
         "base": 59825.69,
         "marker": {
          "color": "gray",
          "line": {
           "width": 0
          }
         },
         "showlegend": false,
         "type": "bar",
         "width": 0.6,
         "x": [
          "2024-09-15T19:50:00"
         ],
         "xaxis": "x",
         "y": [
          51.169999999998254
         ],
         "yaxis": "y"
        },
        {
         "line": {
          "color": "gray",
          "width": 1
         },
         "mode": "lines",
         "showlegend": false,
         "type": "scatter",
         "x": [
          "2024-09-15T19:55:00",
          "2024-09-15T19:55:00"
         ],
         "xaxis": "x",
         "y": [
          59856,
          59881.1
         ],
         "yaxis": "y"
        },
        {
         "base": 59876.85,
         "marker": {
          "color": "gray",
          "line": {
           "width": 0
          }
         },
         "showlegend": false,
         "type": "bar",
         "width": 0.6,
         "x": [
          "2024-09-15T19:55:00"
         ],
         "xaxis": "x",
         "y": [
          1.3700000000026193
         ],
         "yaxis": "y"
        },
        {
         "line": {
          "color": "darkgray",
          "width": 1
         },
         "mode": "lines",
         "showlegend": false,
         "type": "scatter",
         "x": [
          "2024-09-15T20:00:00",
          "2024-09-15T20:00:00"
         ],
         "xaxis": "x",
         "y": [
          59840,
          59901.1
         ],
         "yaxis": "y"
        },
        {
         "base": 59874.01,
         "marker": {
          "color": "darkgray",
          "line": {
           "width": 0
          }
         },
         "showlegend": false,
         "type": "bar",
         "width": 0.6,
         "x": [
          "2024-09-15T20:00:00"
         ],
         "xaxis": "x",
         "y": [
          4.220000000001164
         ],
         "yaxis": "y"
        },
        {
         "line": {
          "color": "red",
          "width": 1
         },
         "mode": "lines",
         "showlegend": false,
         "type": "scatter",
         "x": [
          "2024-09-15T20:05:00",
          "2024-09-15T20:05:00"
         ],
         "xaxis": "x",
         "y": [
          59747.04,
          59874.01
         ],
         "yaxis": "y"
        },
        {
         "base": 59783.81,
         "marker": {
          "color": "red",
          "line": {
           "width": 0
          }
         },
         "showlegend": false,
         "type": "bar",
         "width": 0.6,
         "x": [
          "2024-09-15T20:05:00"
         ],
         "xaxis": "x",
         "y": [
          90.19000000000233
         ],
         "yaxis": "y"
        },
        {
         "line": {
          "color": "gray",
          "width": 1
         },
         "mode": "lines",
         "showlegend": false,
         "type": "scatter",
         "x": [
          "2024-09-15T20:10:00",
          "2024-09-15T20:10:00"
         ],
         "xaxis": "x",
         "y": [
          59769.68,
          59892.09
         ],
         "yaxis": "y"
        },
        {
         "base": 59783.8,
         "marker": {
          "color": "gray",
          "line": {
           "width": 0
          }
         },
         "showlegend": false,
         "type": "bar",
         "width": 0.6,
         "x": [
          "2024-09-15T20:10:00"
         ],
         "xaxis": "x",
         "y": [
          104.22999999999593
         ],
         "yaxis": "y"
        },
        {
         "line": {
          "color": "gray",
          "width": 1
         },
         "mode": "lines",
         "showlegend": false,
         "type": "scatter",
         "x": [
          "2024-09-15T20:15:00",
          "2024-09-15T20:15:00"
         ],
         "xaxis": "x",
         "y": [
          59870,
          59939.1
         ],
         "yaxis": "y"
        },
        {
         "base": 59888.02,
         "marker": {
          "color": "gray",
          "line": {
           "width": 0
          }
         },
         "showlegend": false,
         "type": "bar",
         "width": 0.6,
         "x": [
          "2024-09-15T20:15:00"
         ],
         "xaxis": "x",
         "y": [
          14.30000000000291
         ],
         "yaxis": "y"
        },
        {
         "line": {
          "color": "darkgray",
          "width": 1
         },
         "mode": "lines",
         "showlegend": false,
         "type": "scatter",
         "x": [
          "2024-09-15T20:20:00",
          "2024-09-15T20:20:00"
         ],
         "xaxis": "x",
         "y": [
          59784,
          59902.33
         ],
         "yaxis": "y"
        },
        {
         "base": 59796,
         "marker": {
          "color": "darkgray",
          "line": {
           "width": 0
          }
         },
         "showlegend": false,
         "type": "bar",
         "width": 0.6,
         "x": [
          "2024-09-15T20:20:00"
         ],
         "xaxis": "x",
         "y": [
          106.33000000000175
         ],
         "yaxis": "y"
        },
        {
         "line": {
          "color": "fuchsia",
          "width": 1
         },
         "mode": "lines",
         "showlegend": false,
         "type": "scatter",
         "x": [
          "2024-09-15T20:25:00",
          "2024-09-15T20:25:00"
         ],
         "xaxis": "x",
         "y": [
          59691.1,
          59815.99
         ],
         "yaxis": "y"
        },
        {
         "base": 59731.76,
         "marker": {
          "color": "fuchsia",
          "line": {
           "width": 0
          }
         },
         "showlegend": false,
         "type": "bar",
         "width": 0.6,
         "x": [
          "2024-09-15T20:25:00"
         ],
         "xaxis": "x",
         "y": [
          64.25
         ],
         "yaxis": "y"
        },
        {
         "line": {
          "color": "gray",
          "width": 1
         },
         "mode": "lines",
         "showlegend": false,
         "type": "scatter",
         "x": [
          "2024-09-15T20:30:00",
          "2024-09-15T20:30:00"
         ],
         "xaxis": "x",
         "y": [
          59726.53,
          59767.95
         ],
         "yaxis": "y"
        },
        {
         "base": 59731.75,
         "marker": {
          "color": "gray",
          "line": {
           "width": 0
          }
         },
         "showlegend": false,
         "type": "bar",
         "width": 0.6,
         "x": [
          "2024-09-15T20:30:00"
         ],
         "xaxis": "x",
         "y": [
          36.19000000000233
         ],
         "yaxis": "y"
        },
        {
         "line": {
          "color": "gray",
          "width": 1
         },
         "mode": "lines",
         "showlegend": false,
         "type": "scatter",
         "x": [
          "2024-09-15T20:35:00",
          "2024-09-15T20:35:00"
         ],
         "xaxis": "x",
         "y": [
          59767.94,
          59836
         ],
         "yaxis": "y"
        },
        {
         "base": 59767.94,
         "marker": {
          "color": "gray",
          "line": {
           "width": 0
          }
         },
         "showlegend": false,
         "type": "bar",
         "width": 0.6,
         "x": [
          "2024-09-15T20:35:00"
         ],
         "xaxis": "x",
         "y": [
          43.25
         ],
         "yaxis": "y"
        },
        {
         "line": {
          "color": "darkgray",
          "width": 1
         },
         "mode": "lines",
         "showlegend": false,
         "type": "scatter",
         "x": [
          "2024-09-15T20:40:00",
          "2024-09-15T20:40:00"
         ],
         "xaxis": "x",
         "y": [
          59771.1,
          59816
         ],
         "yaxis": "y"
        },
        {
         "base": 59780,
         "marker": {
          "color": "darkgray",
          "line": {
           "width": 0
          }
         },
         "showlegend": false,
         "type": "bar",
         "width": 0.6,
         "x": [
          "2024-09-15T20:40:00"
         ],
         "xaxis": "x",
         "y": [
          31.19000000000233
         ],
         "yaxis": "y"
        },
        {
         "line": {
          "color": "gray",
          "width": 1
         },
         "mode": "lines",
         "showlegend": false,
         "type": "scatter",
         "x": [
          "2024-09-15T20:45:00",
          "2024-09-15T20:45:00"
         ],
         "xaxis": "x",
         "y": [
          59754,
          59810
         ],
         "yaxis": "y"
        },
        {
         "base": 59780,
         "marker": {
          "color": "gray",
          "line": {
           "width": 0
          }
         },
         "showlegend": false,
         "type": "bar",
         "width": 0.6,
         "x": [
          "2024-09-15T20:45:00"
         ],
         "xaxis": "x",
         "y": [
          12.430000000000291
         ],
         "yaxis": "y"
        },
        {
         "line": {
          "color": "gray",
          "width": 1
         },
         "mode": "lines",
         "showlegend": false,
         "type": "scatter",
         "x": [
          "2024-09-15T20:50:00",
          "2024-09-15T20:50:00"
         ],
         "xaxis": "x",
         "y": [
          59778.54,
          59845.91
         ],
         "yaxis": "y"
        },
        {
         "base": 59792.43,
         "marker": {
          "color": "gray",
          "line": {
           "width": 0
          }
         },
         "showlegend": false,
         "type": "bar",
         "width": 0.6,
         "x": [
          "2024-09-15T20:50:00"
         ],
         "xaxis": "x",
         "y": [
          47.55999999999767
         ],
         "yaxis": "y"
        },
        {
         "line": {
          "color": "darkgray",
          "width": 1
         },
         "mode": "lines",
         "showlegend": false,
         "type": "scatter",
         "x": [
          "2024-09-15T20:55:00",
          "2024-09-15T20:55:00"
         ],
         "xaxis": "x",
         "y": [
          59794.56,
          59871
         ],
         "yaxis": "y"
        },
        {
         "base": 59795.99,
         "marker": {
          "color": "darkgray",
          "line": {
           "width": 0
          }
         },
         "showlegend": false,
         "type": "bar",
         "width": 0.6,
         "x": [
          "2024-09-15T20:55:00"
         ],
         "xaxis": "x",
         "y": [
          44
         ],
         "yaxis": "y"
        },
        {
         "line": {
          "color": "red",
          "width": 1
         },
         "mode": "lines",
         "showlegend": false,
         "type": "scatter",
         "x": [
          "2024-09-15T21:00:00",
          "2024-09-15T21:00:00"
         ],
         "xaxis": "x",
         "y": [
          59540,
          59797.15
         ],
         "yaxis": "y"
        },
        {
         "base": 59579.99,
         "marker": {
          "color": "red",
          "line": {
           "width": 0
          }
         },
         "showlegend": false,
         "type": "bar",
         "width": 0.6,
         "x": [
          "2024-09-15T21:00:00"
         ],
         "xaxis": "x",
         "y": [
          216.01000000000204
         ],
         "yaxis": "y"
        },
        {
         "line": {
          "color": "blue",
          "width": 1
         },
         "mode": "lines",
         "showlegend": false,
         "type": "scatter",
         "x": [
          "2024-09-15T21:05:00",
          "2024-09-15T21:05:00"
         ],
         "xaxis": "x",
         "y": [
          59542,
          59638.64
         ],
         "yaxis": "y"
        },
        {
         "base": 59579.99,
         "marker": {
          "color": "blue",
          "line": {
           "width": 0
          }
         },
         "showlegend": false,
         "type": "bar",
         "width": 0.6,
         "x": [
          "2024-09-15T21:05:00"
         ],
         "xaxis": "x",
         "y": [
          40.20999999999913
         ],
         "yaxis": "y"
        },
        {
         "line": {
          "color": "darkgray",
          "width": 1
         },
         "mode": "lines",
         "showlegend": false,
         "type": "scatter",
         "x": [
          "2024-09-15T21:10:00",
          "2024-09-15T21:10:00"
         ],
         "xaxis": "x",
         "y": [
          59542.01,
          59629.99
         ],
         "yaxis": "y"
        },
        {
         "base": 59546.01,
         "marker": {
          "color": "darkgray",
          "line": {
           "width": 0
          }
         },
         "showlegend": false,
         "type": "bar",
         "width": 0.6,
         "x": [
          "2024-09-15T21:10:00"
         ],
         "xaxis": "x",
         "y": [
          74.18999999999505
         ],
         "yaxis": "y"
        },
        {
         "line": {
          "color": "gray",
          "width": 1
         },
         "mode": "lines",
         "showlegend": false,
         "type": "scatter",
         "x": [
          "2024-09-15T21:15:00",
          "2024-09-15T21:15:00"
         ],
         "xaxis": "x",
         "y": [
          59546,
          59700
         ],
         "yaxis": "y"
        },
        {
         "base": 59546.01,
         "marker": {
          "color": "gray",
          "line": {
           "width": 0
          }
         },
         "showlegend": false,
         "type": "bar",
         "width": 0.6,
         "x": [
          "2024-09-15T21:15:00"
         ],
         "xaxis": "x",
         "y": [
          69.43000000000029
         ],
         "yaxis": "y"
        },
        {
         "line": {
          "color": "darkgray",
          "width": 1
         },
         "mode": "lines",
         "showlegend": false,
         "type": "scatter",
         "x": [
          "2024-09-15T21:20:00",
          "2024-09-15T21:20:00"
         ],
         "xaxis": "x",
         "y": [
          59532.34,
          59620
         ],
         "yaxis": "y"
        },
        {
         "base": 59538.01,
         "marker": {
          "color": "darkgray",
          "line": {
           "width": 0
          }
         },
         "showlegend": false,
         "type": "bar",
         "width": 0.6,
         "x": [
          "2024-09-15T21:20:00"
         ],
         "xaxis": "x",
         "y": [
          77.43000000000029
         ],
         "yaxis": "y"
        },
        {
         "line": {
          "color": "blue",
          "width": 1
         },
         "mode": "lines",
         "showlegend": false,
         "type": "scatter",
         "x": [
          "2024-09-15T21:25:00",
          "2024-09-15T21:25:00"
         ],
         "xaxis": "x",
         "y": [
          59479.06,
          59574.01
         ],
         "yaxis": "y"
        },
        {
         "base": 59538.01,
         "marker": {
          "color": "blue",
          "line": {
           "width": 0
          }
         },
         "showlegend": false,
         "type": "bar",
         "width": 0.6,
         "x": [
          "2024-09-15T21:25:00"
         ],
         "xaxis": "x",
         "y": [
          1.9899999999979627
         ],
         "yaxis": "y"
        },
        {
         "line": {
          "color": "gray",
          "width": 1
         },
         "mode": "lines",
         "showlegend": false,
         "type": "scatter",
         "x": [
          "2024-09-15T21:30:00",
          "2024-09-15T21:30:00"
         ],
         "xaxis": "x",
         "y": [
          59522,
          59609.78
         ],
         "yaxis": "y"
        },
        {
         "base": 59540,
         "marker": {
          "color": "gray",
          "line": {
           "width": 0
          }
         },
         "showlegend": false,
         "type": "bar",
         "width": 0.6,
         "x": [
          "2024-09-15T21:30:00"
         ],
         "xaxis": "x",
         "y": [
          59.98999999999796
         ],
         "yaxis": "y"
        },
        {
         "line": {
          "color": "gray",
          "width": 1
         },
         "mode": "lines",
         "showlegend": false,
         "type": "scatter",
         "x": [
          "2024-09-15T21:35:00",
          "2024-09-15T21:35:00"
         ],
         "xaxis": "x",
         "y": [
          59561.1,
          59646
         ],
         "yaxis": "y"
        },
        {
         "base": 59600,
         "marker": {
          "color": "gray",
          "line": {
           "width": 0
          }
         },
         "showlegend": false,
         "type": "bar",
         "width": 0.6,
         "x": [
          "2024-09-15T21:35:00"
         ],
         "xaxis": "x",
         "y": [
          6.790000000000873
         ],
         "yaxis": "y"
        },
        {
         "line": {
          "color": "gray",
          "width": 1
         },
         "mode": "lines",
         "showlegend": false,
         "type": "scatter",
         "x": [
          "2024-09-15T21:40:00",
          "2024-09-15T21:40:00"
         ],
         "xaxis": "x",
         "y": [
          59592.3,
          59634.18
         ],
         "yaxis": "y"
        },
        {
         "base": 59606.78,
         "marker": {
          "color": "gray",
          "line": {
           "width": 0
          }
         },
         "showlegend": false,
         "type": "bar",
         "width": 0.6,
         "x": [
          "2024-09-15T21:40:00"
         ],
         "xaxis": "x",
         "y": [
          23.220000000001164
         ],
         "yaxis": "y"
        },
        {
         "line": {
          "color": "darkgray",
          "width": 1
         },
         "mode": "lines",
         "showlegend": false,
         "type": "scatter",
         "x": [
          "2024-09-15T21:45:00",
          "2024-09-15T21:45:00"
         ],
         "xaxis": "x",
         "y": [
          59530,
          59630
         ],
         "yaxis": "y"
        },
        {
         "base": 59530.01,
         "marker": {
          "color": "darkgray",
          "line": {
           "width": 0
          }
         },
         "showlegend": false,
         "type": "bar",
         "width": 0.6,
         "x": [
          "2024-09-15T21:45:00"
         ],
         "xaxis": "x",
         "y": [
          99.98999999999796
         ],
         "yaxis": "y"
        },
        {
         "line": {
          "color": "gray",
          "width": 1
         },
         "mode": "lines",
         "showlegend": false,
         "type": "scatter",
         "x": [
          "2024-09-15T21:50:00",
          "2024-09-15T21:50:00"
         ],
         "xaxis": "x",
         "y": [
          59530,
          59672
         ],
         "yaxis": "y"
        },
        {
         "base": 59530.01,
         "marker": {
          "color": "gray",
          "line": {
           "width": 0
          }
         },
         "showlegend": false,
         "type": "bar",
         "width": 0.6,
         "x": [
          "2024-09-15T21:50:00"
         ],
         "xaxis": "x",
         "y": [
          128
         ],
         "yaxis": "y"
        },
        {
         "line": {
          "color": "darkgray",
          "width": 1
         },
         "mode": "lines",
         "showlegend": false,
         "type": "scatter",
         "x": [
          "2024-09-15T21:55:00",
          "2024-09-15T21:55:00"
         ],
         "xaxis": "x",
         "y": [
          59630,
          59685.76
         ],
         "yaxis": "y"
        },
        {
         "base": 59651.69,
         "marker": {
          "color": "darkgray",
          "line": {
           "width": 0
          }
         },
         "showlegend": false,
         "type": "bar",
         "width": 0.6,
         "x": [
          "2024-09-15T21:55:00"
         ],
         "xaxis": "x",
         "y": [
          6.309999999997672
         ],
         "yaxis": "y"
        },
        {
         "line": {
          "color": "red",
          "width": 1
         },
         "mode": "lines",
         "showlegend": false,
         "type": "scatter",
         "x": [
          "2024-09-15T22:00:00",
          "2024-09-15T22:00:00"
         ],
         "xaxis": "x",
         "y": [
          59484,
          59670.15
         ],
         "yaxis": "y"
        },
        {
         "base": 59488.11,
         "marker": {
          "color": "red",
          "line": {
           "width": 0
          }
         },
         "showlegend": false,
         "type": "bar",
         "width": 0.6,
         "x": [
          "2024-09-15T22:00:00"
         ],
         "xaxis": "x",
         "y": [
          163.5899999999965
         ],
         "yaxis": "y"
        },
        {
         "line": {
          "color": "red",
          "width": 1
         },
         "mode": "lines",
         "showlegend": false,
         "type": "scatter",
         "x": [
          "2024-09-15T22:05:00",
          "2024-09-15T22:05:00"
         ],
         "xaxis": "x",
         "y": [
          59426.28,
          59530
         ],
         "yaxis": "y"
        },
        {
         "base": 59461.5,
         "marker": {
          "color": "red",
          "line": {
           "width": 0
          }
         },
         "showlegend": false,
         "type": "bar",
         "width": 0.6,
         "x": [
          "2024-09-15T22:05:00"
         ],
         "xaxis": "x",
         "y": [
          26.610000000000582
         ],
         "yaxis": "y"
        },
        {
         "line": {
          "color": "red",
          "width": 1
         },
         "mode": "lines",
         "showlegend": false,
         "type": "scatter",
         "x": [
          "2024-09-15T22:10:00",
          "2024-09-15T22:10:00"
         ],
         "xaxis": "x",
         "y": [
          59392,
          59531.1
         ],
         "yaxis": "y"
        },
        {
         "base": 59427.99,
         "marker": {
          "color": "red",
          "line": {
           "width": 0
          }
         },
         "showlegend": false,
         "type": "bar",
         "width": 0.6,
         "x": [
          "2024-09-15T22:10:00"
         ],
         "xaxis": "x",
         "y": [
          33.51000000000204
         ],
         "yaxis": "y"
        },
        {
         "line": {
          "color": "darkgray",
          "width": 1
         },
         "mode": "lines",
         "showlegend": false,
         "type": "scatter",
         "x": [
          "2024-09-15T22:15:00",
          "2024-09-15T22:15:00"
         ],
         "xaxis": "x",
         "y": [
          59404.81,
          59484
         ],
         "yaxis": "y"
        },
        {
         "base": 59408.02,
         "marker": {
          "color": "darkgray",
          "line": {
           "width": 0
          }
         },
         "showlegend": false,
         "type": "bar",
         "width": 0.6,
         "x": [
          "2024-09-15T22:15:00"
         ],
         "xaxis": "x",
         "y": [
          19.970000000001164
         ],
         "yaxis": "y"
        },
        {
         "line": {
          "color": "gray",
          "width": 1
         },
         "mode": "lines",
         "showlegend": false,
         "type": "scatter",
         "x": [
          "2024-09-15T22:20:00",
          "2024-09-15T22:20:00"
         ],
         "xaxis": "x",
         "y": [
          59394.88,
          59461.1
         ],
         "yaxis": "y"
        },
        {
         "base": 59408.02,
         "marker": {
          "color": "gray",
          "line": {
           "width": 0
          }
         },
         "showlegend": false,
         "type": "bar",
         "width": 0.6,
         "x": [
          "2024-09-15T22:20:00"
         ],
         "xaxis": "x",
         "y": [
          7.350000000005821
         ],
         "yaxis": "y"
        },
        {
         "line": {
          "color": "gray",
          "width": 1
         },
         "mode": "lines",
         "showlegend": false,
         "type": "scatter",
         "x": [
          "2024-09-15T22:25:00",
          "2024-09-15T22:25:00"
         ],
         "xaxis": "x",
         "y": [
          59406.5,
          59454
         ],
         "yaxis": "y"
        },
        {
         "base": 59415.36,
         "marker": {
          "color": "gray",
          "line": {
           "width": 0
          }
         },
         "showlegend": false,
         "type": "bar",
         "width": 0.6,
         "x": [
          "2024-09-15T22:25:00"
         ],
         "xaxis": "x",
         "y": [
          7.6599999999962165
         ],
         "yaxis": "y"
        },
        {
         "line": {
          "color": "gray",
          "width": 1
         },
         "mode": "lines",
         "showlegend": false,
         "type": "scatter",
         "x": [
          "2024-09-15T22:30:00",
          "2024-09-15T22:30:00"
         ],
         "xaxis": "x",
         "y": [
          59423.03,
          59484
         ],
         "yaxis": "y"
        },
        {
         "base": 59423.03,
         "marker": {
          "color": "gray",
          "line": {
           "width": 0
          }
         },
         "showlegend": false,
         "type": "bar",
         "width": 0.6,
         "x": [
          "2024-09-15T22:30:00"
         ],
         "xaxis": "x",
         "y": [
          12.980000000003201
         ],
         "yaxis": "y"
        },
        {
         "line": {
          "color": "darkgray",
          "width": 1
         },
         "mode": "lines",
         "showlegend": false,
         "type": "scatter",
         "x": [
          "2024-09-15T22:35:00",
          "2024-09-15T22:35:00"
         ],
         "xaxis": "x",
         "y": [
          59406,
          59476
         ],
         "yaxis": "y"
        },
        {
         "base": 59418.6,
         "marker": {
          "color": "darkgray",
          "line": {
           "width": 0
          }
         },
         "showlegend": false,
         "type": "bar",
         "width": 0.6,
         "x": [
          "2024-09-15T22:35:00"
         ],
         "xaxis": "x",
         "y": [
          17.410000000003492
         ],
         "yaxis": "y"
        },
        {
         "line": {
          "color": "gray",
          "width": 1
         },
         "mode": "lines",
         "showlegend": false,
         "type": "scatter",
         "x": [
          "2024-09-15T22:40:00",
          "2024-09-15T22:40:00"
         ],
         "xaxis": "x",
         "y": [
          59409.11,
          59478
         ],
         "yaxis": "y"
        },
        {
         "base": 59418.6,
         "marker": {
          "color": "gray",
          "line": {
           "width": 0
          }
         },
         "showlegend": false,
         "type": "bar",
         "width": 0.6,
         "x": [
          "2024-09-15T22:40:00"
         ],
         "xaxis": "x",
         "y": [
          32.5
         ],
         "yaxis": "y"
        },
        {
         "line": {
          "color": "gray",
          "width": 1
         },
         "mode": "lines",
         "showlegend": false,
         "type": "scatter",
         "x": [
          "2024-09-15T22:45:00",
          "2024-09-15T22:45:00"
         ],
         "xaxis": "x",
         "y": [
          59433.02,
          59470
         ],
         "yaxis": "y"
        },
        {
         "base": 59451.1,
         "marker": {
          "color": "gray",
          "line": {
           "width": 0
          }
         },
         "showlegend": false,
         "type": "bar",
         "width": 0.6,
         "x": [
          "2024-09-15T22:45:00"
         ],
         "xaxis": "x",
         "y": [
          6.310000000004948
         ],
         "yaxis": "y"
        },
        {
         "line": {
          "color": "darkgray",
          "width": 1
         },
         "mode": "lines",
         "showlegend": false,
         "type": "scatter",
         "x": [
          "2024-09-15T22:50:00",
          "2024-09-15T22:50:00"
         ],
         "xaxis": "x",
         "y": [
          59416,
          59457.41
         ],
         "yaxis": "y"
        },
        {
         "base": 59420.08,
         "marker": {
          "color": "darkgray",
          "line": {
           "width": 0
          }
         },
         "showlegend": false,
         "type": "bar",
         "width": 0.6,
         "x": [
          "2024-09-15T22:50:00"
         ],
         "xaxis": "x",
         "y": [
          37.330000000001746
         ],
         "yaxis": "y"
        },
        {
         "line": {
          "color": "gray",
          "width": 1
         },
         "mode": "lines",
         "showlegend": false,
         "type": "scatter",
         "x": [
          "2024-09-15T22:55:00",
          "2024-09-15T22:55:00"
         ],
         "xaxis": "x",
         "y": [
          59412,
          59444
         ],
         "yaxis": "y"
        },
        {
         "base": 59420.09,
         "marker": {
          "color": "gray",
          "line": {
           "width": 0
          }
         },
         "showlegend": false,
         "type": "bar",
         "width": 0.6,
         "x": [
          "2024-09-15T22:55:00"
         ],
         "xaxis": "x",
         "y": [
          10.220000000001164
         ],
         "yaxis": "y"
        },
        {
         "line": {
          "color": "red",
          "width": 1
         },
         "mode": "lines",
         "showlegend": false,
         "type": "scatter",
         "x": [
          "2024-09-15T23:00:00",
          "2024-09-15T23:00:00"
         ],
         "xaxis": "x",
         "y": [
          59259.76,
          59456
         ],
         "yaxis": "y"
        },
        {
         "base": 59282.01,
         "marker": {
          "color": "red",
          "line": {
           "width": 0
          }
         },
         "showlegend": false,
         "type": "bar",
         "width": 0.6,
         "x": [
          "2024-09-15T23:00:00"
         ],
         "xaxis": "x",
         "y": [
          148.29000000000087
         ],
         "yaxis": "y"
        },
        {
         "line": {
          "color": "red",
          "width": 1
         },
         "mode": "lines",
         "showlegend": false,
         "type": "scatter",
         "x": [
          "2024-09-15T23:05:00",
          "2024-09-15T23:05:00"
         ],
         "xaxis": "x",
         "y": [
          58888,
          59326.9
         ],
         "yaxis": "y"
        },
        {
         "base": 58931.79,
         "marker": {
          "color": "red",
          "line": {
           "width": 0
          }
         },
         "showlegend": false,
         "type": "bar",
         "width": 0.6,
         "x": [
          "2024-09-15T23:05:00"
         ],
         "xaxis": "x",
         "y": [
          350.2099999999991
         ],
         "yaxis": "y"
        },
        {
         "line": {
          "color": "red",
          "width": 1
         },
         "mode": "lines",
         "showlegend": false,
         "type": "scatter",
         "x": [
          "2024-09-15T23:10:00",
          "2024-09-15T23:10:00"
         ],
         "xaxis": "x",
         "y": [
          58691.05,
          58974
         ],
         "yaxis": "y"
        },
        {
         "base": 58844.2,
         "marker": {
          "color": "red",
          "line": {
           "width": 0
          }
         },
         "showlegend": false,
         "type": "bar",
         "width": 0.6,
         "x": [
          "2024-09-15T23:10:00"
         ],
         "xaxis": "x",
         "y": [
          87.59000000000378
         ],
         "yaxis": "y"
        },
        {
         "line": {
          "color": "lime",
          "width": 1
         },
         "mode": "lines",
         "showlegend": false,
         "type": "scatter",
         "x": [
          "2024-09-15T23:15:00",
          "2024-09-15T23:15:00"
         ],
         "xaxis": "x",
         "y": [
          58764,
          59104.61
         ],
         "yaxis": "y"
        },
        {
         "base": 58844.2,
         "marker": {
          "color": "lime",
          "line": {
           "width": 0
          }
         },
         "showlegend": false,
         "type": "bar",
         "width": 0.6,
         "x": [
          "2024-09-15T23:15:00"
         ],
         "xaxis": "x",
         "y": [
          175.8000000000029
         ],
         "yaxis": "y"
        },
        {
         "line": {
          "color": "gray",
          "width": 1
         },
         "mode": "lines",
         "showlegend": false,
         "type": "scatter",
         "x": [
          "2024-09-15T23:20:00",
          "2024-09-15T23:20:00"
         ],
         "xaxis": "x",
         "y": [
          58974.22,
          59216
         ],
         "yaxis": "y"
        },
        {
         "base": 59020,
         "marker": {
          "color": "gray",
          "line": {
           "width": 0
          }
         },
         "showlegend": false,
         "type": "bar",
         "width": 0.6,
         "x": [
          "2024-09-15T23:20:00"
         ],
         "xaxis": "x",
         "y": [
          196
         ],
         "yaxis": "y"
        },
        {
         "line": {
          "color": "gray",
          "width": 1
         },
         "mode": "lines",
         "showlegend": false,
         "type": "scatter",
         "x": [
          "2024-09-15T23:25:00",
          "2024-09-15T23:25:00"
         ],
         "xaxis": "x",
         "y": [
          59168,
          59271.99
         ],
         "yaxis": "y"
        },
        {
         "base": 59215.99,
         "marker": {
          "color": "gray",
          "line": {
           "width": 0
          }
         },
         "showlegend": false,
         "type": "bar",
         "width": 0.6,
         "x": [
          "2024-09-15T23:25:00"
         ],
         "xaxis": "x",
         "y": [
          44.01000000000204
         ],
         "yaxis": "y"
        },
        {
         "line": {
          "color": "fuchsia",
          "width": 1
         },
         "mode": "lines",
         "showlegend": false,
         "type": "scatter",
         "x": [
          "2024-09-15T23:30:00",
          "2024-09-15T23:30:00"
         ],
         "xaxis": "x",
         "y": [
          58889.28,
          59260
         ],
         "yaxis": "y"
        },
        {
         "base": 59067.99,
         "marker": {
          "color": "fuchsia",
          "line": {
           "width": 0
          }
         },
         "showlegend": false,
         "type": "bar",
         "width": 0.6,
         "x": [
          "2024-09-15T23:30:00"
         ],
         "xaxis": "x",
         "y": [
          192.01000000000204
         ],
         "yaxis": "y"
        },
        {
         "line": {
          "color": "gray",
          "width": 1
         },
         "mode": "lines",
         "showlegend": false,
         "type": "scatter",
         "x": [
          "2024-09-15T23:35:00",
          "2024-09-15T23:35:00"
         ],
         "xaxis": "x",
         "y": [
          59038,
          59190.01
         ],
         "yaxis": "y"
        },
        {
         "base": 59067.99,
         "marker": {
          "color": "gray",
          "line": {
           "width": 0
          }
         },
         "showlegend": false,
         "type": "bar",
         "width": 0.6,
         "x": [
          "2024-09-15T23:35:00"
         ],
         "xaxis": "x",
         "y": [
          122.01000000000204
         ],
         "yaxis": "y"
        },
        {
         "line": {
          "color": "darkgray",
          "width": 1
         },
         "mode": "lines",
         "showlegend": false,
         "type": "scatter",
         "x": [
          "2024-09-15T23:40:00",
          "2024-09-15T23:40:00"
         ],
         "xaxis": "x",
         "y": [
          59114,
          59190.01
         ],
         "yaxis": "y"
        },
        {
         "base": 59145,
         "marker": {
          "color": "darkgray",
          "line": {
           "width": 0
          }
         },
         "showlegend": false,
         "type": "bar",
         "width": 0.6,
         "x": [
          "2024-09-15T23:40:00"
         ],
         "xaxis": "x",
         "y": [
          45.01000000000204
         ],
         "yaxis": "y"
        },
        {
         "line": {
          "color": "gray",
          "width": 1
         },
         "mode": "lines",
         "showlegend": false,
         "type": "scatter",
         "x": [
          "2024-09-15T23:45:00",
          "2024-09-15T23:45:00"
         ],
         "xaxis": "x",
         "y": [
          59120,
          59176
         ],
         "yaxis": "y"
        },
        {
         "base": 59144.99,
         "marker": {
          "color": "gray",
          "line": {
           "width": 0
          }
         },
         "showlegend": false,
         "type": "bar",
         "width": 0.6,
         "x": [
          "2024-09-15T23:45:00"
         ],
         "xaxis": "x",
         "y": [
          3.279999999998836
         ],
         "yaxis": "y"
        },
        {
         "line": {
          "color": "gray",
          "width": 1
         },
         "mode": "lines",
         "showlegend": false,
         "type": "scatter",
         "x": [
          "2024-09-15T23:50:00",
          "2024-09-15T23:50:00"
         ],
         "xaxis": "x",
         "y": [
          59125,
          59210
         ],
         "yaxis": "y"
        },
        {
         "base": 59148.27,
         "marker": {
          "color": "gray",
          "line": {
           "width": 0
          }
         },
         "showlegend": false,
         "type": "bar",
         "width": 0.6,
         "x": [
          "2024-09-15T23:50:00"
         ],
         "xaxis": "x",
         "y": [
          49.890000000006694
         ],
         "yaxis": "y"
        },
        {
         "line": {
          "color": "darkgray",
          "width": 1
         },
         "mode": "lines",
         "showlegend": false,
         "type": "scatter",
         "x": [
          "2024-09-15T23:55:00",
          "2024-09-15T23:55:00"
         ],
         "xaxis": "x",
         "y": [
          59132,
          59204.75
         ],
         "yaxis": "y"
        },
        {
         "base": 59132,
         "marker": {
          "color": "darkgray",
          "line": {
           "width": 0
          }
         },
         "showlegend": false,
         "type": "bar",
         "width": 0.6,
         "x": [
          "2024-09-15T23:55:00"
         ],
         "xaxis": "x",
         "y": [
          66.16000000000349
         ],
         "yaxis": "y"
        },
        {
         "line": {
          "color": "gray",
          "width": 1
         },
         "mode": "lines",
         "showlegend": false,
         "type": "scatter",
         "x": [
          "2024-09-16T00:00:00",
          "2024-09-16T00:00:00"
         ],
         "xaxis": "x",
         "y": [
          59078,
          59200.07
         ],
         "yaxis": "y"
        },
        {
         "base": 59132,
         "marker": {
          "color": "gray",
          "line": {
           "width": 0
          }
         },
         "showlegend": false,
         "type": "bar",
         "width": 0.6,
         "x": [
          "2024-09-16T00:00:00"
         ],
         "xaxis": "x",
         "y": [
          68.05999999999767
         ],
         "yaxis": "y"
        },
        {
         "line": {
          "color": "darkgray",
          "width": 1
         },
         "mode": "lines",
         "showlegend": false,
         "type": "scatter",
         "x": [
          "2024-09-16T00:05:00",
          "2024-09-16T00:05:00"
         ],
         "xaxis": "x",
         "y": [
          59030,
          59210.7
         ],
         "yaxis": "y"
        },
        {
         "base": 59055.99,
         "marker": {
          "color": "darkgray",
          "line": {
           "width": 0
          }
         },
         "showlegend": false,
         "type": "bar",
         "width": 0.6,
         "x": [
          "2024-09-16T00:05:00"
         ],
         "xaxis": "x",
         "y": [
          144.0699999999997
         ],
         "yaxis": "y"
        },
        {
         "line": {
          "color": "darkgray",
          "width": 1
         },
         "mode": "lines",
         "showlegend": false,
         "type": "scatter",
         "x": [
          "2024-09-16T00:10:00",
          "2024-09-16T00:10:00"
         ],
         "xaxis": "x",
         "y": [
          58922,
          59065.99
         ],
         "yaxis": "y"
        },
        {
         "base": 58948.01,
         "marker": {
          "color": "darkgray",
          "line": {
           "width": 0
          }
         },
         "showlegend": false,
         "type": "bar",
         "width": 0.6,
         "x": [
          "2024-09-16T00:10:00"
         ],
         "xaxis": "x",
         "y": [
          107.97999999999593
         ],
         "yaxis": "y"
        },
        {
         "line": {
          "color": "darkgray",
          "width": 1
         },
         "mode": "lines",
         "showlegend": false,
         "type": "scatter",
         "x": [
          "2024-09-16T00:15:00",
          "2024-09-16T00:15:00"
         ],
         "xaxis": "x",
         "y": [
          58800,
          59015.49
         ],
         "yaxis": "y"
        },
        {
         "base": 58830.5,
         "marker": {
          "color": "darkgray",
          "line": {
           "width": 0
          }
         },
         "showlegend": false,
         "type": "bar",
         "width": 0.6,
         "x": [
          "2024-09-16T00:15:00"
         ],
         "xaxis": "x",
         "y": [
          117.51000000000204
         ],
         "yaxis": "y"
        },
        {
         "line": {
          "color": "gray",
          "width": 1
         },
         "mode": "lines",
         "showlegend": false,
         "type": "scatter",
         "x": [
          "2024-09-16T00:20:00",
          "2024-09-16T00:20:00"
         ],
         "xaxis": "x",
         "y": [
          58830.5,
          59011.72
         ],
         "yaxis": "y"
        },
        {
         "base": 58830.5,
         "marker": {
          "color": "gray",
          "line": {
           "width": 0
          }
         },
         "showlegend": false,
         "type": "bar",
         "width": 0.6,
         "x": [
          "2024-09-16T00:20:00"
         ],
         "xaxis": "x",
         "y": [
          97.5
         ],
         "yaxis": "y"
        },
        {
         "line": {
          "color": "darkgray",
          "width": 1
         },
         "mode": "lines",
         "showlegend": false,
         "type": "scatter",
         "x": [
          "2024-09-16T00:25:00",
          "2024-09-16T00:25:00"
         ],
         "xaxis": "x",
         "y": [
          58816.8,
          58959.9
         ],
         "yaxis": "y"
        },
        {
         "base": 58880.49,
         "marker": {
          "color": "darkgray",
          "line": {
           "width": 0
          }
         },
         "showlegend": false,
         "type": "bar",
         "width": 0.6,
         "x": [
          "2024-09-16T00:25:00"
         ],
         "xaxis": "x",
         "y": [
          47.51000000000204
         ],
         "yaxis": "y"
        },
        {
         "line": {
          "color": "red",
          "width": 1
         },
         "mode": "lines",
         "showlegend": false,
         "type": "scatter",
         "x": [
          "2024-09-16T00:30:00",
          "2024-09-16T00:30:00"
         ],
         "xaxis": "x",
         "y": [
          58702,
          58880.48
         ],
         "yaxis": "y"
        },
        {
         "base": 58702.01,
         "marker": {
          "color": "red",
          "line": {
           "width": 0
          }
         },
         "showlegend": false,
         "type": "bar",
         "width": 0.6,
         "x": [
          "2024-09-16T00:30:00"
         ],
         "xaxis": "x",
         "y": [
          178.47000000000116
         ],
         "yaxis": "y"
        },
        {
         "line": {
          "color": "red",
          "width": 1
         },
         "mode": "lines",
         "showlegend": false,
         "type": "scatter",
         "x": [
          "2024-09-16T00:35:00",
          "2024-09-16T00:35:00"
         ],
         "xaxis": "x",
         "y": [
          58625,
          58790
         ],
         "yaxis": "y"
        },
        {
         "base": 58639.78,
         "marker": {
          "color": "red",
          "line": {
           "width": 0
          }
         },
         "showlegend": false,
         "type": "bar",
         "width": 0.6,
         "x": [
          "2024-09-16T00:35:00"
         ],
         "xaxis": "x",
         "y": [
          62.2300000000032
         ],
         "yaxis": "y"
        },
        {
         "line": {
          "color": "gray",
          "width": 1
         },
         "mode": "lines",
         "showlegend": false,
         "type": "scatter",
         "x": [
          "2024-09-16T00:40:00",
          "2024-09-16T00:40:00"
         ],
         "xaxis": "x",
         "y": [
          58606.3,
          58775.13
         ],
         "yaxis": "y"
        },
        {
         "base": 58639.78,
         "marker": {
          "color": "gray",
          "line": {
           "width": 0
          }
         },
         "showlegend": false,
         "type": "bar",
         "width": 0.6,
         "x": [
          "2024-09-16T00:40:00"
         ],
         "xaxis": "x",
         "y": [
          108.7300000000032
         ],
         "yaxis": "y"
        },
        {
         "line": {
          "color": "darkgray",
          "width": 1
         },
         "mode": "lines",
         "showlegend": false,
         "type": "scatter",
         "x": [
          "2024-09-16T00:45:00",
          "2024-09-16T00:45:00"
         ],
         "xaxis": "x",
         "y": [
          58634.05,
          58748.51
         ],
         "yaxis": "y"
        },
        {
         "base": 58715.99,
         "marker": {
          "color": "darkgray",
          "line": {
           "width": 0
          }
         },
         "showlegend": false,
         "type": "bar",
         "width": 0.6,
         "x": [
          "2024-09-16T00:45:00"
         ],
         "xaxis": "x",
         "y": [
          32.51000000000204
         ],
         "yaxis": "y"
        },
        {
         "line": {
          "color": "gray",
          "width": 1
         },
         "mode": "lines",
         "showlegend": false,
         "type": "scatter",
         "x": [
          "2024-09-16T00:50:00",
          "2024-09-16T00:50:00"
         ],
         "xaxis": "x",
         "y": [
          58684,
          58809.99
         ],
         "yaxis": "y"
        },
        {
         "base": 58716,
         "marker": {
          "color": "gray",
          "line": {
           "width": 0
          }
         },
         "showlegend": false,
         "type": "bar",
         "width": 0.6,
         "x": [
          "2024-09-16T00:50:00"
         ],
         "xaxis": "x",
         "y": [
          23.87000000000262
         ],
         "yaxis": "y"
        },
        {
         "line": {
          "color": "darkgray",
          "width": 1
         },
         "mode": "lines",
         "showlegend": false,
         "type": "scatter",
         "x": [
          "2024-09-16T00:55:00",
          "2024-09-16T00:55:00"
         ],
         "xaxis": "x",
         "y": [
          58648,
          58739.87
         ],
         "yaxis": "y"
        },
        {
         "base": 58666.36,
         "marker": {
          "color": "darkgray",
          "line": {
           "width": 0
          }
         },
         "showlegend": false,
         "type": "bar",
         "width": 0.6,
         "x": [
          "2024-09-16T00:55:00"
         ],
         "xaxis": "x",
         "y": [
          73.51000000000204
         ],
         "yaxis": "y"
        },
        {
         "line": {
          "color": "gray",
          "width": 1
         },
         "mode": "lines",
         "showlegend": false,
         "type": "scatter",
         "x": [
          "2024-09-16T01:00:00",
          "2024-09-16T01:00:00"
         ],
         "xaxis": "x",
         "y": [
          58628,
          58723.26
         ],
         "yaxis": "y"
        },
        {
         "base": 58666.36,
         "marker": {
          "color": "gray",
          "line": {
           "width": 0
          }
         },
         "showlegend": false,
         "type": "bar",
         "width": 0.6,
         "x": [
          "2024-09-16T01:00:00"
         ],
         "xaxis": "x",
         "y": [
          41.62000000000262
         ],
         "yaxis": "y"
        },
        {
         "line": {
          "color": "darkgray",
          "width": 1
         },
         "mode": "lines",
         "showlegend": false,
         "type": "scatter",
         "x": [
          "2024-09-16T01:05:00",
          "2024-09-16T01:05:00"
         ],
         "xaxis": "x",
         "y": [
          58632.56,
          58707.98
         ],
         "yaxis": "y"
        },
        {
         "base": 58678.01,
         "marker": {
          "color": "darkgray",
          "line": {
           "width": 0
          }
         },
         "showlegend": false,
         "type": "bar",
         "width": 0.6,
         "x": [
          "2024-09-16T01:05:00"
         ],
         "xaxis": "x",
         "y": [
          29.970000000001164
         ],
         "yaxis": "y"
        },
        {
         "line": {
          "color": "fuchsia",
          "width": 1
         },
         "mode": "lines",
         "showlegend": false,
         "type": "scatter",
         "x": [
          "2024-09-16T01:10:00",
          "2024-09-16T01:10:00"
         ],
         "xaxis": "x",
         "y": [
          58500,
          58678
         ],
         "yaxis": "y"
        },
        {
         "base": 58528,
         "marker": {
          "color": "fuchsia",
          "line": {
           "width": 0
          }
         },
         "showlegend": false,
         "type": "bar",
         "width": 0.6,
         "x": [
          "2024-09-16T01:10:00"
         ],
         "xaxis": "x",
         "y": [
          150
         ],
         "yaxis": "y"
        },
        {
         "line": {
          "color": "blue",
          "width": 1
         },
         "mode": "lines",
         "showlegend": false,
         "type": "scatter",
         "x": [
          "2024-09-16T01:15:00",
          "2024-09-16T01:15:00"
         ],
         "xaxis": "x",
         "y": [
          58420,
          58612.84
         ],
         "yaxis": "y"
        },
        {
         "base": 58528.01,
         "marker": {
          "color": "blue",
          "line": {
           "width": 0
          }
         },
         "showlegend": false,
         "type": "bar",
         "width": 0.6,
         "x": [
          "2024-09-16T01:15:00"
         ],
         "xaxis": "x",
         "y": [
          23.07999999999447
         ],
         "yaxis": "y"
        },
        {
         "line": {
          "color": "gray",
          "width": 1
         },
         "mode": "lines",
         "showlegend": false,
         "type": "scatter",
         "x": [
          "2024-09-16T01:20:00",
          "2024-09-16T01:20:00"
         ],
         "xaxis": "x",
         "y": [
          58546,
          58750.4
         ],
         "yaxis": "y"
        },
        {
         "base": 58551.09,
         "marker": {
          "color": "gray",
          "line": {
           "width": 0
          }
         },
         "showlegend": false,
         "type": "bar",
         "width": 0.6,
         "x": [
          "2024-09-16T01:20:00"
         ],
         "xaxis": "x",
         "y": [
          120
         ],
         "yaxis": "y"
        },
        {
         "line": {
          "color": "gray",
          "width": 1
         },
         "mode": "lines",
         "showlegend": false,
         "type": "scatter",
         "x": [
          "2024-09-16T01:25:00",
          "2024-09-16T01:25:00"
         ],
         "xaxis": "x",
         "y": [
          58632.55,
          58721.1
         ],
         "yaxis": "y"
        },
        {
         "base": 58671.09,
         "marker": {
          "color": "gray",
          "line": {
           "width": 0
          }
         },
         "showlegend": false,
         "type": "bar",
         "width": 0.6,
         "x": [
          "2024-09-16T01:25:00"
         ],
         "xaxis": "x",
         "y": [
          50
         ],
         "yaxis": "y"
        },
        {
         "line": {
          "color": "darkgray",
          "width": 1
         },
         "mode": "lines",
         "showlegend": false,
         "type": "scatter",
         "x": [
          "2024-09-16T01:30:00",
          "2024-09-16T01:30:00"
         ],
         "xaxis": "x",
         "y": [
          58636.69,
          58798
         ],
         "yaxis": "y"
        },
        {
         "base": 58671.43,
         "marker": {
          "color": "darkgray",
          "line": {
           "width": 0
          }
         },
         "showlegend": false,
         "type": "bar",
         "width": 0.6,
         "x": [
          "2024-09-16T01:30:00"
         ],
         "xaxis": "x",
         "y": [
          49.65999999999622
         ],
         "yaxis": "y"
        },
        {
         "line": {
          "color": "darkgray",
          "width": 1
         },
         "mode": "lines",
         "showlegend": false,
         "type": "scatter",
         "x": [
          "2024-09-16T01:35:00",
          "2024-09-16T01:35:00"
         ],
         "xaxis": "x",
         "y": [
          58420,
          58684
         ],
         "yaxis": "y"
        },
        {
         "base": 58584,
         "marker": {
          "color": "darkgray",
          "line": {
           "width": 0
          }
         },
         "showlegend": false,
         "type": "bar",
         "width": 0.6,
         "x": [
          "2024-09-16T01:35:00"
         ],
         "xaxis": "x",
         "y": [
          87.43000000000029
         ],
         "yaxis": "y"
        },
        {
         "line": {
          "color": "gray",
          "width": 1
         },
         "mode": "lines",
         "showlegend": false,
         "type": "scatter",
         "x": [
          "2024-09-16T01:40:00",
          "2024-09-16T01:40:00"
         ],
         "xaxis": "x",
         "y": [
          58581.1,
          58690.55
         ],
         "yaxis": "y"
        },
        {
         "base": 58584.01,
         "marker": {
          "color": "gray",
          "line": {
           "width": 0
          }
         },
         "showlegend": false,
         "type": "bar",
         "width": 0.6,
         "x": [
          "2024-09-16T01:40:00"
         ],
         "xaxis": "x",
         "y": [
          93.98999999999796
         ],
         "yaxis": "y"
        },
        {
         "line": {
          "color": "darkgray",
          "width": 1
         },
         "mode": "lines",
         "showlegend": false,
         "type": "scatter",
         "x": [
          "2024-09-16T01:45:00",
          "2024-09-16T01:45:00"
         ],
         "xaxis": "x",
         "y": [
          58502,
          58727.72
         ],
         "yaxis": "y"
        },
        {
         "base": 58527.99,
         "marker": {
          "color": "darkgray",
          "line": {
           "width": 0
          }
         },
         "showlegend": false,
         "type": "bar",
         "width": 0.6,
         "x": [
          "2024-09-16T01:45:00"
         ],
         "xaxis": "x",
         "y": [
          150.02000000000407
         ],
         "yaxis": "y"
        },
        {
         "line": {
          "color": "gray",
          "width": 1
         },
         "mode": "lines",
         "showlegend": false,
         "type": "scatter",
         "x": [
          "2024-09-16T01:50:00",
          "2024-09-16T01:50:00"
         ],
         "xaxis": "x",
         "y": [
          58429,
          58572.1
         ],
         "yaxis": "y"
        },
        {
         "base": 58527.99,
         "marker": {
          "color": "gray",
          "line": {
           "width": 0
          }
         },
         "showlegend": false,
         "type": "bar",
         "width": 0.6,
         "x": [
          "2024-09-16T01:50:00"
         ],
         "xaxis": "x",
         "y": [
          40.01000000000204
         ],
         "yaxis": "y"
        },
        {
         "line": {
          "color": "gray",
          "width": 1
         },
         "mode": "lines",
         "showlegend": false,
         "type": "scatter",
         "x": [
          "2024-09-16T01:55:00",
          "2024-09-16T01:55:00"
         ],
         "xaxis": "x",
         "y": [
          58563.59,
          58690
         ],
         "yaxis": "y"
        },
        {
         "base": 58568,
         "marker": {
          "color": "gray",
          "line": {
           "width": 0
          }
         },
         "showlegend": false,
         "type": "bar",
         "width": 0.6,
         "x": [
          "2024-09-16T01:55:00"
         ],
         "xaxis": "x",
         "y": [
          39.06999999999971
         ],
         "yaxis": "y"
        },
        {
         "line": {
          "color": "darkgray",
          "width": 1
         },
         "mode": "lines",
         "showlegend": false,
         "type": "scatter",
         "x": [
          "2024-09-16T02:00:00",
          "2024-09-16T02:00:00"
         ],
         "xaxis": "x",
         "y": [
          58462,
          58670.62
         ],
         "yaxis": "y"
        },
        {
         "base": 58517.99,
         "marker": {
          "color": "darkgray",
          "line": {
           "width": 0
          }
         },
         "showlegend": false,
         "type": "bar",
         "width": 0.6,
         "x": [
          "2024-09-16T02:00:00"
         ],
         "xaxis": "x",
         "y": [
          89.08000000000175
         ],
         "yaxis": "y"
        },
        {
         "line": {
          "color": "darkgray",
          "width": 1
         },
         "mode": "lines",
         "showlegend": false,
         "type": "scatter",
         "x": [
          "2024-09-16T02:05:00",
          "2024-09-16T02:05:00"
         ],
         "xaxis": "x",
         "y": [
          58424.29,
          58534
         ],
         "yaxis": "y"
        },
        {
         "base": 58452,
         "marker": {
          "color": "darkgray",
          "line": {
           "width": 0
          }
         },
         "showlegend": false,
         "type": "bar",
         "width": 0.6,
         "x": [
          "2024-09-16T02:05:00"
         ],
         "xaxis": "x",
         "y": [
          65.98999999999796
         ],
         "yaxis": "y"
        },
        {
         "line": {
          "color": "red",
          "width": 1
         },
         "mode": "lines",
         "showlegend": false,
         "type": "scatter",
         "x": [
          "2024-09-16T02:10:00",
          "2024-09-16T02:10:00"
         ],
         "xaxis": "x",
         "y": [
          58332.01,
          58514
         ],
         "yaxis": "y"
        },
        {
         "base": 58399.44,
         "marker": {
          "color": "red",
          "line": {
           "width": 0
          }
         },
         "showlegend": false,
         "type": "bar",
         "width": 0.6,
         "x": [
          "2024-09-16T02:10:00"
         ],
         "xaxis": "x",
         "y": [
          52.56999999999971
         ],
         "yaxis": "y"
        },
        {
         "line": {
          "color": "lime",
          "width": 1
         },
         "mode": "lines",
         "showlegend": false,
         "type": "scatter",
         "x": [
          "2024-09-16T02:15:00",
          "2024-09-16T02:15:00"
         ],
         "xaxis": "x",
         "y": [
          58241,
          58486
         ],
         "yaxis": "y"
        },
        {
         "base": 58399.45,
         "marker": {
          "color": "lime",
          "line": {
           "width": 0
          }
         },
         "showlegend": false,
         "type": "bar",
         "width": 0.6,
         "x": [
          "2024-09-16T02:15:00"
         ],
         "xaxis": "x",
         "y": [
          86.54000000000087
         ],
         "yaxis": "y"
        },
        {
         "line": {
          "color": "darkgray",
          "width": 1
         },
         "mode": "lines",
         "showlegend": false,
         "type": "scatter",
         "x": [
          "2024-09-16T02:20:00",
          "2024-09-16T02:20:00"
         ],
         "xaxis": "x",
         "y": [
          58404.92,
          58497.36
         ],
         "yaxis": "y"
        },
        {
         "base": 58479.99,
         "marker": {
          "color": "darkgray",
          "line": {
           "width": 0
          }
         },
         "showlegend": false,
         "type": "bar",
         "width": 0.6,
         "x": [
          "2024-09-16T02:20:00"
         ],
         "xaxis": "x",
         "y": [
          6.010000000002037
         ],
         "yaxis": "y"
        },
        {
         "line": {
          "color": "darkgray",
          "width": 1
         },
         "mode": "lines",
         "showlegend": false,
         "type": "scatter",
         "x": [
          "2024-09-16T02:25:00",
          "2024-09-16T02:25:00"
         ],
         "xaxis": "x",
         "y": [
          58350,
          58479.99
         ],
         "yaxis": "y"
        },
        {
         "base": 58374.03,
         "marker": {
          "color": "darkgray",
          "line": {
           "width": 0
          }
         },
         "showlegend": false,
         "type": "bar",
         "width": 0.6,
         "x": [
          "2024-09-16T02:25:00"
         ],
         "xaxis": "x",
         "y": [
          105.95999999999913
         ],
         "yaxis": "y"
        },
        {
         "line": {
          "color": "darkgray",
          "width": 1
         },
         "mode": "lines",
         "showlegend": false,
         "type": "scatter",
         "x": [
          "2024-09-16T02:30:00",
          "2024-09-16T02:30:00"
         ],
         "xaxis": "x",
         "y": [
          58292,
          58374.04
         ],
         "yaxis": "y"
        },
        {
         "base": 58298,
         "marker": {
          "color": "darkgray",
          "line": {
           "width": 0
          }
         },
         "showlegend": false,
         "type": "bar",
         "width": 0.6,
         "x": [
          "2024-09-16T02:30:00"
         ],
         "xaxis": "x",
         "y": [
          76.02999999999884
         ],
         "yaxis": "y"
        },
        {
         "line": {
          "color": "gray",
          "width": 1
         },
         "mode": "lines",
         "showlegend": false,
         "type": "scatter",
         "x": [
          "2024-09-16T02:35:00",
          "2024-09-16T02:35:00"
         ],
         "xaxis": "x",
         "y": [
          58298.01,
          58487.6
         ],
         "yaxis": "y"
        },
        {
         "base": 58298.01,
         "marker": {
          "color": "gray",
          "line": {
           "width": 0
          }
         },
         "showlegend": false,
         "type": "bar",
         "width": 0.6,
         "x": [
          "2024-09-16T02:35:00"
         ],
         "xaxis": "x",
         "y": [
          161.63999999999942
         ],
         "yaxis": "y"
        },
        {
         "line": {
          "color": "darkgray",
          "width": 1
         },
         "mode": "lines",
         "showlegend": false,
         "type": "scatter",
         "x": [
          "2024-09-16T02:40:00",
          "2024-09-16T02:40:00"
         ],
         "xaxis": "x",
         "y": [
          58354.83,
          58488
         ],
         "yaxis": "y"
        },
        {
         "base": 58372,
         "marker": {
          "color": "darkgray",
          "line": {
           "width": 0
          }
         },
         "showlegend": false,
         "type": "bar",
         "width": 0.6,
         "x": [
          "2024-09-16T02:40:00"
         ],
         "xaxis": "x",
         "y": [
          87.65000000000146
         ],
         "yaxis": "y"
        },
        {
         "line": {
          "color": "gray",
          "width": 1
         },
         "mode": "lines",
         "showlegend": false,
         "type": "scatter",
         "x": [
          "2024-09-16T02:45:00",
          "2024-09-16T02:45:00"
         ],
         "xaxis": "x",
         "y": [
          58372,
          58470
         ],
         "yaxis": "y"
        },
        {
         "base": 58372,
         "marker": {
          "color": "gray",
          "line": {
           "width": 0
          }
         },
         "showlegend": false,
         "type": "bar",
         "width": 0.6,
         "x": [
          "2024-09-16T02:45:00"
         ],
         "xaxis": "x",
         "y": [
          97.98999999999796
         ],
         "yaxis": "y"
        },
        {
         "line": {
          "color": "darkgray",
          "width": 1
         },
         "mode": "lines",
         "showlegend": false,
         "type": "scatter",
         "x": [
          "2024-09-16T02:50:00",
          "2024-09-16T02:50:00"
         ],
         "xaxis": "x",
         "y": [
          58263.64,
          58470.5
         ],
         "yaxis": "y"
        },
        {
         "base": 58276.67,
         "marker": {
          "color": "darkgray",
          "line": {
           "width": 0
          }
         },
         "showlegend": false,
         "type": "bar",
         "width": 0.6,
         "x": [
          "2024-09-16T02:50:00"
         ],
         "xaxis": "x",
         "y": [
          193.3199999999997
         ],
         "yaxis": "y"
        },
        {
         "line": {
          "color": "red",
          "width": 1
         },
         "mode": "lines",
         "showlegend": false,
         "type": "scatter",
         "x": [
          "2024-09-16T02:55:00",
          "2024-09-16T02:55:00"
         ],
         "xaxis": "x",
         "y": [
          58112,
          58276.68
         ],
         "yaxis": "y"
        },
        {
         "base": 58263.99,
         "marker": {
          "color": "red",
          "line": {
           "width": 0
          }
         },
         "showlegend": false,
         "type": "bar",
         "width": 0.6,
         "x": [
          "2024-09-16T02:55:00"
         ],
         "xaxis": "x",
         "y": [
          12.690000000002328
         ],
         "yaxis": "y"
        },
        {
         "line": {
          "color": "darkgray",
          "width": 1
         },
         "mode": "lines",
         "showlegend": false,
         "type": "scatter",
         "x": [
          "2024-09-16T03:00:00",
          "2024-09-16T03:00:00"
         ],
         "xaxis": "x",
         "y": [
          58220.34,
          58341.1
         ],
         "yaxis": "y"
        },
        {
         "base": 58261.1,
         "marker": {
          "color": "darkgray",
          "line": {
           "width": 0
          }
         },
         "showlegend": false,
         "type": "bar",
         "width": 0.6,
         "x": [
          "2024-09-16T03:00:00"
         ],
         "xaxis": "x",
         "y": [
          2.889999999999418
         ],
         "yaxis": "y"
        },
        {
         "line": {
          "color": "darkgray",
          "width": 1
         },
         "mode": "lines",
         "showlegend": false,
         "type": "scatter",
         "x": [
          "2024-09-16T03:05:00",
          "2024-09-16T03:05:00"
         ],
         "xaxis": "x",
         "y": [
          58218,
          58310
         ],
         "yaxis": "y"
        },
        {
         "base": 58233.66,
         "marker": {
          "color": "darkgray",
          "line": {
           "width": 0
          }
         },
         "showlegend": false,
         "type": "bar",
         "width": 0.6,
         "x": [
          "2024-09-16T03:05:00"
         ],
         "xaxis": "x",
         "y": [
          27.429999999993015
         ],
         "yaxis": "y"
        },
        {
         "line": {
          "color": "gray",
          "width": 1
         },
         "mode": "lines",
         "showlegend": false,
         "type": "scatter",
         "x": [
          "2024-09-16T03:10:00",
          "2024-09-16T03:10:00"
         ],
         "xaxis": "x",
         "y": [
          58233.65,
          58350.01
         ],
         "yaxis": "y"
        },
        {
         "base": 58233.66,
         "marker": {
          "color": "gray",
          "line": {
           "width": 0
          }
         },
         "showlegend": false,
         "type": "bar",
         "width": 0.6,
         "x": [
          "2024-09-16T03:10:00"
         ],
         "xaxis": "x",
         "y": [
          116.33999999999651
         ],
         "yaxis": "y"
        },
        {
         "line": {
          "color": "gray",
          "width": 1
         },
         "mode": "lines",
         "showlegend": false,
         "type": "scatter",
         "x": [
          "2024-09-16T03:15:00",
          "2024-09-16T03:15:00"
         ],
         "xaxis": "x",
         "y": [
          58342,
          58457.62
         ],
         "yaxis": "y"
        },
        {
         "base": 58350.01,
         "marker": {
          "color": "gray",
          "line": {
           "width": 0
          }
         },
         "showlegend": false,
         "type": "bar",
         "width": 0.6,
         "x": [
          "2024-09-16T03:15:00"
         ],
         "xaxis": "x",
         "y": [
          57.970000000001164
         ],
         "yaxis": "y"
        },
        {
         "line": {
          "color": "darkgray",
          "width": 1
         },
         "mode": "lines",
         "showlegend": false,
         "type": "scatter",
         "x": [
          "2024-09-16T03:20:00",
          "2024-09-16T03:20:00"
         ],
         "xaxis": "x",
         "y": [
          58354,
          58432.19
         ],
         "yaxis": "y"
        },
        {
         "base": 58387.99,
         "marker": {
          "color": "darkgray",
          "line": {
           "width": 0
          }
         },
         "showlegend": false,
         "type": "bar",
         "width": 0.6,
         "x": [
          "2024-09-16T03:20:00"
         ],
         "xaxis": "x",
         "y": [
          20
         ],
         "yaxis": "y"
        },
        {
         "line": {
          "color": "gray",
          "width": 1
         },
         "mode": "lines",
         "showlegend": false,
         "type": "scatter",
         "x": [
          "2024-09-16T03:25:00",
          "2024-09-16T03:25:00"
         ],
         "xaxis": "x",
         "y": [
          58386,
          58432
         ],
         "yaxis": "y"
        },
        {
         "base": 58388,
         "marker": {
          "color": "gray",
          "line": {
           "width": 0
          }
         },
         "showlegend": false,
         "type": "bar",
         "width": 0.6,
         "x": [
          "2024-09-16T03:25:00"
         ],
         "xaxis": "x",
         "y": [
          44
         ],
         "yaxis": "y"
        },
        {
         "line": {
          "color": "gray",
          "width": 1
         },
         "mode": "lines",
         "showlegend": false,
         "type": "scatter",
         "x": [
          "2024-09-16T03:30:00",
          "2024-09-16T03:30:00"
         ],
         "xaxis": "x",
         "y": [
          58431.99,
          58548
         ],
         "yaxis": "y"
        },
        {
         "base": 58431.99,
         "marker": {
          "color": "gray",
          "line": {
           "width": 0
          }
         },
         "showlegend": false,
         "type": "bar",
         "width": 0.6,
         "x": [
          "2024-09-16T03:30:00"
         ],
         "xaxis": "x",
         "y": [
          106.91000000000349
         ],
         "yaxis": "y"
        },
        {
         "line": {
          "color": "darkgray",
          "width": 1
         },
         "mode": "lines",
         "showlegend": false,
         "type": "scatter",
         "x": [
          "2024-09-16T03:35:00",
          "2024-09-16T03:35:00"
         ],
         "xaxis": "x",
         "y": [
          58492,
          58548.45
         ],
         "yaxis": "y"
        },
        {
         "base": 58494,
         "marker": {
          "color": "darkgray",
          "line": {
           "width": 0
          }
         },
         "showlegend": false,
         "type": "bar",
         "width": 0.6,
         "x": [
          "2024-09-16T03:35:00"
         ],
         "xaxis": "x",
         "y": [
          44.91000000000349
         ],
         "yaxis": "y"
        },
        {
         "line": {
          "color": "darkgray",
          "width": 1
         },
         "mode": "lines",
         "showlegend": false,
         "type": "scatter",
         "x": [
          "2024-09-16T03:40:00",
          "2024-09-16T03:40:00"
         ],
         "xaxis": "x",
         "y": [
          58455.02,
          58533.81
         ],
         "yaxis": "y"
        },
        {
         "base": 58470.03,
         "marker": {
          "color": "darkgray",
          "line": {
           "width": 0
          }
         },
         "showlegend": false,
         "type": "bar",
         "width": 0.6,
         "x": [
          "2024-09-16T03:40:00"
         ],
         "xaxis": "x",
         "y": [
          23.959999999999127
         ],
         "yaxis": "y"
        },
        {
         "line": {
          "color": "gray",
          "width": 1
         },
         "mode": "lines",
         "showlegend": false,
         "type": "scatter",
         "x": [
          "2024-09-16T03:45:00",
          "2024-09-16T03:45:00"
         ],
         "xaxis": "x",
         "y": [
          58470.03,
          58557.54
         ],
         "yaxis": "y"
        },
        {
         "base": 58470.04,
         "marker": {
          "color": "gray",
          "line": {
           "width": 0
          }
         },
         "showlegend": false,
         "type": "bar",
         "width": 0.6,
         "x": [
          "2024-09-16T03:45:00"
         ],
         "xaxis": "x",
         "y": [
          72.04999999999563
         ],
         "yaxis": "y"
        },
        {
         "line": {
          "color": "gray",
          "width": 1
         },
         "mode": "lines",
         "showlegend": false,
         "type": "scatter",
         "x": [
          "2024-09-16T03:50:00",
          "2024-09-16T03:50:00"
         ],
         "xaxis": "x",
         "y": [
          58542.08,
          58589.94
         ],
         "yaxis": "y"
        },
        {
         "base": 58542.08,
         "marker": {
          "color": "gray",
          "line": {
           "width": 0
          }
         },
         "showlegend": false,
         "type": "bar",
         "width": 0.6,
         "x": [
          "2024-09-16T03:50:00"
         ],
         "xaxis": "x",
         "y": [
          43.979999999995925
         ],
         "yaxis": "y"
        },
        {
         "line": {
          "color": "darkgray",
          "width": 1
         },
         "mode": "lines",
         "showlegend": false,
         "type": "scatter",
         "x": [
          "2024-09-16T03:55:00",
          "2024-09-16T03:55:00"
         ],
         "xaxis": "x",
         "y": [
          58572.08,
          58606
         ],
         "yaxis": "y"
        },
        {
         "base": 58575.09,
         "marker": {
          "color": "darkgray",
          "line": {
           "width": 0
          }
         },
         "showlegend": false,
         "type": "bar",
         "width": 0.6,
         "x": [
          "2024-09-16T03:55:00"
         ],
         "xaxis": "x",
         "y": [
          10.980000000003201
         ],
         "yaxis": "y"
        },
        {
         "line": {
          "color": "darkgray",
          "width": 1
         },
         "mode": "lines",
         "showlegend": false,
         "type": "scatter",
         "x": [
          "2024-09-16T04:00:00",
          "2024-09-16T04:00:00"
         ],
         "xaxis": "x",
         "y": [
          58532,
          58592
         ],
         "yaxis": "y"
        },
        {
         "base": 58537.99,
         "marker": {
          "color": "darkgray",
          "line": {
           "width": 0
          }
         },
         "showlegend": false,
         "type": "bar",
         "width": 0.6,
         "x": [
          "2024-09-16T04:00:00"
         ],
         "xaxis": "x",
         "y": [
          37.099999999998545
         ],
         "yaxis": "y"
        },
        {
         "line": {
          "color": "red",
          "width": 1
         },
         "mode": "lines",
         "showlegend": false,
         "type": "scatter",
         "x": [
          "2024-09-16T04:05:00",
          "2024-09-16T04:05:00"
         ],
         "xaxis": "x",
         "y": [
          58431.38,
          58538
         ],
         "yaxis": "y"
        },
        {
         "base": 58442.01,
         "marker": {
          "color": "red",
          "line": {
           "width": 0
          }
         },
         "showlegend": false,
         "type": "bar",
         "width": 0.6,
         "x": [
          "2024-09-16T04:05:00"
         ],
         "xaxis": "x",
         "y": [
          95.98999999999796
         ],
         "yaxis": "y"
        },
        {
         "line": {
          "color": "gray",
          "width": 1
         },
         "mode": "lines",
         "showlegend": false,
         "type": "scatter",
         "x": [
          "2024-09-16T04:10:00",
          "2024-09-16T04:10:00"
         ],
         "xaxis": "x",
         "y": [
          58442.01,
          58494
         ],
         "yaxis": "y"
        },
        {
         "base": 58442.02,
         "marker": {
          "color": "gray",
          "line": {
           "width": 0
          }
         },
         "showlegend": false,
         "type": "bar",
         "width": 0.6,
         "x": [
          "2024-09-16T04:10:00"
         ],
         "xaxis": "x",
         "y": [
          47.05000000000291
         ],
         "yaxis": "y"
        },
        {
         "line": {
          "color": "darkgray",
          "width": 1
         },
         "mode": "lines",
         "showlegend": false,
         "type": "scatter",
         "x": [
          "2024-09-16T04:15:00",
          "2024-09-16T04:15:00"
         ],
         "xaxis": "x",
         "y": [
          58464.08,
          58500
         ],
         "yaxis": "y"
        },
        {
         "base": 58464.96,
         "marker": {
          "color": "darkgray",
          "line": {
           "width": 0
          }
         },
         "showlegend": false,
         "type": "bar",
         "width": 0.6,
         "x": [
          "2024-09-16T04:15:00"
         ],
         "xaxis": "x",
         "y": [
          24.110000000000582
         ],
         "yaxis": "y"
        },
        {
         "line": {
          "color": "blue",
          "width": 1
         },
         "mode": "lines",
         "showlegend": false,
         "type": "scatter",
         "x": [
          "2024-09-16T04:20:00",
          "2024-09-16T04:20:00"
         ],
         "xaxis": "x",
         "y": [
          58399.74,
          58469.31
         ],
         "yaxis": "y"
        },
        {
         "base": 58464.96,
         "marker": {
          "color": "blue",
          "line": {
           "width": 0
          }
         },
         "showlegend": false,
         "type": "bar",
         "width": 0.6,
         "x": [
          "2024-09-16T04:20:00"
         ],
         "xaxis": "x",
         "y": [
          0.7200000000011642
         ],
         "yaxis": "y"
        },
        {
         "line": {
          "color": "darkgray",
          "width": 1
         },
         "mode": "lines",
         "showlegend": false,
         "type": "scatter",
         "x": [
          "2024-09-16T04:25:00",
          "2024-09-16T04:25:00"
         ],
         "xaxis": "x",
         "y": [
          58448.61,
          58493.94
         ],
         "yaxis": "y"
        },
        {
         "base": 58460.97,
         "marker": {
          "color": "darkgray",
          "line": {
           "width": 0
          }
         },
         "showlegend": false,
         "type": "bar",
         "width": 0.6,
         "x": [
          "2024-09-16T04:25:00"
         ],
         "xaxis": "x",
         "y": [
          4.709999999999127
         ],
         "yaxis": "y"
        },
        {
         "line": {
          "color": "darkgray",
          "width": 1
         },
         "mode": "lines",
         "showlegend": false,
         "type": "scatter",
         "x": [
          "2024-09-16T04:30:00",
          "2024-09-16T04:30:00"
         ],
         "xaxis": "x",
         "y": [
          58403.13,
          58460.98
         ],
         "yaxis": "y"
        },
        {
         "base": 58457.48,
         "marker": {
          "color": "darkgray",
          "line": {
           "width": 0
          }
         },
         "showlegend": false,
         "type": "bar",
         "width": 0.6,
         "x": [
          "2024-09-16T04:30:00"
         ],
         "xaxis": "x",
         "y": [
          3.5
         ],
         "yaxis": "y"
        },
        {
         "line": {
          "color": "darkgray",
          "width": 1
         },
         "mode": "lines",
         "showlegend": false,
         "type": "scatter",
         "x": [
          "2024-09-16T04:35:00",
          "2024-09-16T04:35:00"
         ],
         "xaxis": "x",
         "y": [
          58443.9,
          58490
         ],
         "yaxis": "y"
        },
        {
         "base": 58443.9,
         "marker": {
          "color": "darkgray",
          "line": {
           "width": 0
          }
         },
         "showlegend": false,
         "type": "bar",
         "width": 0.6,
         "x": [
          "2024-09-16T04:35:00"
         ],
         "xaxis": "x",
         "y": [
          13.589999999996508
         ],
         "yaxis": "y"
        },
        {
         "line": {
          "color": "darkgray",
          "width": 1
         },
         "mode": "lines",
         "showlegend": false,
         "type": "scatter",
         "x": [
          "2024-09-16T04:40:00",
          "2024-09-16T04:40:00"
         ],
         "xaxis": "x",
         "y": [
          58401,
          58443.9
         ],
         "yaxis": "y"
        },
        {
         "base": 58403.99,
         "marker": {
          "color": "darkgray",
          "line": {
           "width": 0
          }
         },
         "showlegend": false,
         "type": "bar",
         "width": 0.6,
         "x": [
          "2024-09-16T04:40:00"
         ],
         "xaxis": "x",
         "y": [
          39.91000000000349
         ],
         "yaxis": "y"
        },
        {
         "line": {
          "color": "darkgray",
          "width": 1
         },
         "mode": "lines",
         "showlegend": false,
         "type": "scatter",
         "x": [
          "2024-09-16T04:45:00",
          "2024-09-16T04:45:00"
         ],
         "xaxis": "x",
         "y": [
          58345.1,
          58427.55
         ],
         "yaxis": "y"
        },
        {
         "base": 58384,
         "marker": {
          "color": "darkgray",
          "line": {
           "width": 0
          }
         },
         "showlegend": false,
         "type": "bar",
         "width": 0.6,
         "x": [
          "2024-09-16T04:45:00"
         ],
         "xaxis": "x",
         "y": [
          19.989999999997963
         ],
         "yaxis": "y"
        },
        {
         "line": {
          "color": "darkgray",
          "width": 1
         },
         "mode": "lines",
         "showlegend": false,
         "type": "scatter",
         "x": [
          "2024-09-16T04:50:00",
          "2024-09-16T04:50:00"
         ],
         "xaxis": "x",
         "y": [
          58362.37,
          58389.97
         ],
         "yaxis": "y"
        },
        {
         "base": 58364.69,
         "marker": {
          "color": "darkgray",
          "line": {
           "width": 0
          }
         },
         "showlegend": false,
         "type": "bar",
         "width": 0.6,
         "x": [
          "2024-09-16T04:50:00"
         ],
         "xaxis": "x",
         "y": [
          19.299999999995634
         ],
         "yaxis": "y"
        },
        {
         "line": {
          "color": "darkgray",
          "width": 1
         },
         "mode": "lines",
         "showlegend": false,
         "type": "scatter",
         "x": [
          "2024-09-16T04:55:00",
          "2024-09-16T04:55:00"
         ],
         "xaxis": "x",
         "y": [
          58312.54,
          58364.7
         ],
         "yaxis": "y"
        },
        {
         "base": 58352,
         "marker": {
          "color": "darkgray",
          "line": {
           "width": 0
          }
         },
         "showlegend": false,
         "type": "bar",
         "width": 0.6,
         "x": [
          "2024-09-16T04:55:00"
         ],
         "xaxis": "x",
         "y": [
          12.69999999999709
         ],
         "yaxis": "y"
        },
        {
         "line": {
          "color": "gray",
          "width": 1
         },
         "mode": "lines",
         "showlegend": false,
         "type": "scatter",
         "x": [
          "2024-09-16T05:00:00",
          "2024-09-16T05:00:00"
         ],
         "xaxis": "x",
         "y": [
          58343.7,
          58451.17
         ],
         "yaxis": "y"
        },
        {
         "base": 58351.99,
         "marker": {
          "color": "gray",
          "line": {
           "width": 0
          }
         },
         "showlegend": false,
         "type": "bar",
         "width": 0.6,
         "x": [
          "2024-09-16T05:00:00"
         ],
         "xaxis": "x",
         "y": [
          86
         ],
         "yaxis": "y"
        },
        {
         "line": {
          "color": "blue",
          "width": 1
         },
         "mode": "lines",
         "showlegend": false,
         "type": "scatter",
         "x": [
          "2024-09-16T05:05:00",
          "2024-09-16T05:05:00"
         ],
         "xaxis": "x",
         "y": [
          58431.1,
          58530
         ],
         "yaxis": "y"
        },
        {
         "base": 58438,
         "marker": {
          "color": "blue",
          "line": {
           "width": 0
          }
         },
         "showlegend": false,
         "type": "bar",
         "width": 0.6,
         "x": [
          "2024-09-16T05:05:00"
         ],
         "xaxis": "x",
         "y": [
          87.98999999999796
         ],
         "yaxis": "y"
        },
        {
         "line": {
          "color": "gray",
          "width": 1
         },
         "mode": "lines",
         "showlegend": false,
         "type": "scatter",
         "x": [
          "2024-09-16T05:10:00",
          "2024-09-16T05:10:00"
         ],
         "xaxis": "x",
         "y": [
          58525.98,
          58560.2
         ],
         "yaxis": "y"
        },
        {
         "base": 58525.99,
         "marker": {
          "color": "gray",
          "line": {
           "width": 0
          }
         },
         "showlegend": false,
         "type": "bar",
         "width": 0.6,
         "x": [
          "2024-09-16T05:10:00"
         ],
         "xaxis": "x",
         "y": [
          24.93000000000029
         ],
         "yaxis": "y"
        },
        {
         "line": {
          "color": "darkgray",
          "width": 1
         },
         "mode": "lines",
         "showlegend": false,
         "type": "scatter",
         "x": [
          "2024-09-16T05:15:00",
          "2024-09-16T05:15:00"
         ],
         "xaxis": "x",
         "y": [
          58512,
          58556.2
         ],
         "yaxis": "y"
        },
        {
         "base": 58515.41,
         "marker": {
          "color": "darkgray",
          "line": {
           "width": 0
          }
         },
         "showlegend": false,
         "type": "bar",
         "width": 0.6,
         "x": [
          "2024-09-16T05:15:00"
         ],
         "xaxis": "x",
         "y": [
          35.50999999999476
         ],
         "yaxis": "y"
        },
        {
         "line": {
          "color": "lime",
          "width": 1
         },
         "mode": "lines",
         "showlegend": false,
         "type": "scatter",
         "x": [
          "2024-09-16T05:20:00",
          "2024-09-16T05:20:00"
         ],
         "xaxis": "x",
         "y": [
          58495.56,
          58641.1
         ],
         "yaxis": "y"
        },
        {
         "base": 58514.57,
         "marker": {
          "color": "lime",
          "line": {
           "width": 0
          }
         },
         "showlegend": false,
         "type": "bar",
         "width": 0.6,
         "x": [
          "2024-09-16T05:20:00"
         ],
         "xaxis": "x",
         "y": [
          105.41999999999825
         ],
         "yaxis": "y"
        },
        {
         "line": {
          "color": "darkgray",
          "width": 1
         },
         "mode": "lines",
         "showlegend": false,
         "type": "scatter",
         "x": [
          "2024-09-16T05:25:00",
          "2024-09-16T05:25:00"
         ],
         "xaxis": "x",
         "y": [
          58439.64,
          58624
         ],
         "yaxis": "y"
        },
        {
         "base": 58469.99,
         "marker": {
          "color": "darkgray",
          "line": {
           "width": 0
          }
         },
         "showlegend": false,
         "type": "bar",
         "width": 0.6,
         "x": [
          "2024-09-16T05:25:00"
         ],
         "xaxis": "x",
         "y": [
          150
         ],
         "yaxis": "y"
        },
        {
         "line": {
          "color": "darkgray",
          "width": 1
         },
         "mode": "lines",
         "showlegend": false,
         "type": "scatter",
         "x": [
          "2024-09-16T05:30:00",
          "2024-09-16T05:30:00"
         ],
         "xaxis": "x",
         "y": [
          58432.5,
          58482
         ],
         "yaxis": "y"
        },
        {
         "base": 58458,
         "marker": {
          "color": "darkgray",
          "line": {
           "width": 0
          }
         },
         "showlegend": false,
         "type": "bar",
         "width": 0.6,
         "x": [
          "2024-09-16T05:30:00"
         ],
         "xaxis": "x",
         "y": [
          11.989999999997963
         ],
         "yaxis": "y"
        },
        {
         "line": {
          "color": "darkgray",
          "width": 1
         },
         "mode": "lines",
         "showlegend": false,
         "type": "scatter",
         "x": [
          "2024-09-16T05:35:00",
          "2024-09-16T05:35:00"
         ],
         "xaxis": "x",
         "y": [
          58398.35,
          58463.71
         ],
         "yaxis": "y"
        },
        {
         "base": 58399.99,
         "marker": {
          "color": "darkgray",
          "line": {
           "width": 0
          }
         },
         "showlegend": false,
         "type": "bar",
         "width": 0.6,
         "x": [
          "2024-09-16T05:35:00"
         ],
         "xaxis": "x",
         "y": [
          58
         ],
         "yaxis": "y"
        },
        {
         "line": {
          "color": "gray",
          "width": 1
         },
         "mode": "lines",
         "showlegend": false,
         "type": "scatter",
         "x": [
          "2024-09-16T05:40:00",
          "2024-09-16T05:40:00"
         ],
         "xaxis": "x",
         "y": [
          58399.99,
          58490.01
         ],
         "yaxis": "y"
        },
        {
         "base": 58400,
         "marker": {
          "color": "gray",
          "line": {
           "width": 0
          }
         },
         "showlegend": false,
         "type": "bar",
         "width": 0.6,
         "x": [
          "2024-09-16T05:40:00"
         ],
         "xaxis": "x",
         "y": [
          90.01000000000204
         ],
         "yaxis": "y"
        },
        {
         "line": {
          "color": "gray",
          "width": 1
         },
         "mode": "lines",
         "showlegend": false,
         "type": "scatter",
         "x": [
          "2024-09-16T05:45:00",
          "2024-09-16T05:45:00"
         ],
         "xaxis": "x",
         "y": [
          58490,
          58524.34
         ],
         "yaxis": "y"
        },
        {
         "base": 58490.01,
         "marker": {
          "color": "gray",
          "line": {
           "width": 0
          }
         },
         "showlegend": false,
         "type": "bar",
         "width": 0.6,
         "x": [
          "2024-09-16T05:45:00"
         ],
         "xaxis": "x",
         "y": [
          34.32999999999447
         ],
         "yaxis": "y"
        },
        {
         "line": {
          "color": "gray",
          "width": 1
         },
         "mode": "lines",
         "showlegend": false,
         "type": "scatter",
         "x": [
          "2024-09-16T05:50:00",
          "2024-09-16T05:50:00"
         ],
         "xaxis": "x",
         "y": [
          58524.33,
          58620
         ],
         "yaxis": "y"
        },
        {
         "base": 58524.34,
         "marker": {
          "color": "gray",
          "line": {
           "width": 0
          }
         },
         "showlegend": false,
         "type": "bar",
         "width": 0.6,
         "x": [
          "2024-09-16T05:50:00"
         ],
         "xaxis": "x",
         "y": [
          75.66000000000349
         ],
         "yaxis": "y"
        },
        {
         "line": {
          "color": "gray",
          "width": 1
         },
         "mode": "lines",
         "showlegend": false,
         "type": "scatter",
         "x": [
          "2024-09-16T05:55:00",
          "2024-09-16T05:55:00"
         ],
         "xaxis": "x",
         "y": [
          58582,
          58670.01
         ],
         "yaxis": "y"
        },
        {
         "base": 58600,
         "marker": {
          "color": "gray",
          "line": {
           "width": 0
          }
         },
         "showlegend": false,
         "type": "bar",
         "width": 0.6,
         "x": [
          "2024-09-16T05:55:00"
         ],
         "xaxis": "x",
         "y": [
          70
         ],
         "yaxis": "y"
        },
        {
         "line": {
          "color": "darkgray",
          "width": 1
         },
         "mode": "lines",
         "showlegend": false,
         "type": "scatter",
         "x": [
          "2024-09-16T06:00:00",
          "2024-09-16T06:00:00"
         ],
         "xaxis": "x",
         "y": [
          58628,
          58674
         ],
         "yaxis": "y"
        },
        {
         "base": 58649.98,
         "marker": {
          "color": "darkgray",
          "line": {
           "width": 0
          }
         },
         "showlegend": false,
         "type": "bar",
         "width": 0.6,
         "x": [
          "2024-09-16T06:00:00"
         ],
         "xaxis": "x",
         "y": [
          20.0199999999968
         ],
         "yaxis": "y"
        },
        {
         "line": {
          "color": "lime",
          "width": 1
         },
         "mode": "lines",
         "showlegend": false,
         "type": "scatter",
         "x": [
          "2024-09-16T06:05:00",
          "2024-09-16T06:05:00"
         ],
         "xaxis": "x",
         "y": [
          58632.58,
          58770.4
         ],
         "yaxis": "y"
        },
        {
         "base": 58649.98,
         "marker": {
          "color": "lime",
          "line": {
           "width": 0
          }
         },
         "showlegend": false,
         "type": "bar",
         "width": 0.6,
         "x": [
          "2024-09-16T06:05:00"
         ],
         "xaxis": "x",
         "y": [
          63.93999999999505
         ],
         "yaxis": "y"
        },
        {
         "line": {
          "color": "gray",
          "width": 1
         },
         "mode": "lines",
         "showlegend": false,
         "type": "scatter",
         "x": [
          "2024-09-16T06:10:00",
          "2024-09-16T06:10:00"
         ],
         "xaxis": "x",
         "y": [
          58713.93,
          58842.19
         ],
         "yaxis": "y"
        },
        {
         "base": 58713.93,
         "marker": {
          "color": "gray",
          "line": {
           "width": 0
          }
         },
         "showlegend": false,
         "type": "bar",
         "width": 0.6,
         "x": [
          "2024-09-16T06:10:00"
         ],
         "xaxis": "x",
         "y": [
          102.06999999999971
         ],
         "yaxis": "y"
        },
        {
         "line": {
          "color": "darkgray",
          "width": 1
         },
         "mode": "lines",
         "showlegend": false,
         "type": "scatter",
         "x": [
          "2024-09-16T06:15:00",
          "2024-09-16T06:15:00"
         ],
         "xaxis": "x",
         "y": [
          58764.12,
          58863.86
         ],
         "yaxis": "y"
        },
        {
         "base": 58766.01,
         "marker": {
          "color": "darkgray",
          "line": {
           "width": 0
          }
         },
         "showlegend": false,
         "type": "bar",
         "width": 0.6,
         "x": [
          "2024-09-16T06:15:00"
         ],
         "xaxis": "x",
         "y": [
          50
         ],
         "yaxis": "y"
        },
        {
         "line": {
          "color": "gray",
          "width": 1
         },
         "mode": "lines",
         "showlegend": false,
         "type": "scatter",
         "x": [
          "2024-09-16T06:20:00",
          "2024-09-16T06:20:00"
         ],
         "xaxis": "x",
         "y": [
          58702.24,
          58776.94
         ],
         "yaxis": "y"
        },
        {
         "base": 58766,
         "marker": {
          "color": "gray",
          "line": {
           "width": 0
          }
         },
         "showlegend": false,
         "type": "bar",
         "width": 0.6,
         "x": [
          "2024-09-16T06:20:00"
         ],
         "xaxis": "x",
         "y": [
          10.940000000002328
         ],
         "yaxis": "y"
        },
        {
         "line": {
          "color": "darkgray",
          "width": 1
         },
         "mode": "lines",
         "showlegend": false,
         "type": "scatter",
         "x": [
          "2024-09-16T06:25:00",
          "2024-09-16T06:25:00"
         ],
         "xaxis": "x",
         "y": [
          58726,
          58776.95
         ],
         "yaxis": "y"
        },
        {
         "base": 58750.24,
         "marker": {
          "color": "darkgray",
          "line": {
           "width": 0
          }
         },
         "showlegend": false,
         "type": "bar",
         "width": 0.6,
         "x": [
          "2024-09-16T06:25:00"
         ],
         "xaxis": "x",
         "y": [
          26.700000000004366
         ],
         "yaxis": "y"
        },
        {
         "line": {
          "color": "darkgray",
          "width": 1
         },
         "mode": "lines",
         "showlegend": false,
         "type": "scatter",
         "x": [
          "2024-09-16T06:30:00",
          "2024-09-16T06:30:00"
         ],
         "xaxis": "x",
         "y": [
          58688.36,
          58750.25
         ],
         "yaxis": "y"
        },
        {
         "base": 58715.06,
         "marker": {
          "color": "darkgray",
          "line": {
           "width": 0
          }
         },
         "showlegend": false,
         "type": "bar",
         "width": 0.6,
         "x": [
          "2024-09-16T06:30:00"
         ],
         "xaxis": "x",
         "y": [
          35.19000000000233
         ],
         "yaxis": "y"
        },
        {
         "line": {
          "color": "gray",
          "width": 1
         },
         "mode": "lines",
         "showlegend": false,
         "type": "scatter",
         "x": [
          "2024-09-16T06:35:00",
          "2024-09-16T06:35:00"
         ],
         "xaxis": "x",
         "y": [
          58705.47,
          58748.57
         ],
         "yaxis": "y"
        },
        {
         "base": 58715.07,
         "marker": {
          "color": "gray",
          "line": {
           "width": 0
          }
         },
         "showlegend": false,
         "type": "bar",
         "width": 0.6,
         "x": [
          "2024-09-16T06:35:00"
         ],
         "xaxis": "x",
         "y": [
          2.930000000000291
         ],
         "yaxis": "y"
        },
        {
         "line": {
          "color": "darkgray",
          "width": 1
         },
         "mode": "lines",
         "showlegend": false,
         "type": "scatter",
         "x": [
          "2024-09-16T06:40:00",
          "2024-09-16T06:40:00"
         ],
         "xaxis": "x",
         "y": [
          58680.55,
          58730
         ],
         "yaxis": "y"
        },
        {
         "base": 58685.33,
         "marker": {
          "color": "darkgray",
          "line": {
           "width": 0
          }
         },
         "showlegend": false,
         "type": "bar",
         "width": 0.6,
         "x": [
          "2024-09-16T06:40:00"
         ],
         "xaxis": "x",
         "y": [
          32.669999999998254
         ],
         "yaxis": "y"
        },
        {
         "line": {
          "color": "darkgray",
          "width": 1
         },
         "mode": "lines",
         "showlegend": false,
         "type": "scatter",
         "x": [
          "2024-09-16T06:45:00",
          "2024-09-16T06:45:00"
         ],
         "xaxis": "x",
         "y": [
          58639.92,
          58685.33
         ],
         "yaxis": "y"
        },
        {
         "base": 58654.25,
         "marker": {
          "color": "darkgray",
          "line": {
           "width": 0
          }
         },
         "showlegend": false,
         "type": "bar",
         "width": 0.6,
         "x": [
          "2024-09-16T06:45:00"
         ],
         "xaxis": "x",
         "y": [
          31.06999999999971
         ],
         "yaxis": "y"
        },
        {
         "line": {
          "color": "gray",
          "width": 1
         },
         "mode": "lines",
         "showlegend": false,
         "type": "scatter",
         "x": [
          "2024-09-16T06:50:00",
          "2024-09-16T06:50:00"
         ],
         "xaxis": "x",
         "y": [
          58648,
          58675.35
         ],
         "yaxis": "y"
        },
        {
         "base": 58654.25,
         "marker": {
          "color": "gray",
          "line": {
           "width": 0
          }
         },
         "showlegend": false,
         "type": "bar",
         "width": 0.6,
         "x": [
          "2024-09-16T06:50:00"
         ],
         "xaxis": "x",
         "y": [
          6.430000000000291
         ],
         "yaxis": "y"
        },
        {
         "line": {
          "color": "gray",
          "width": 1
         },
         "mode": "lines",
         "showlegend": false,
         "type": "scatter",
         "x": [
          "2024-09-16T06:55:00",
          "2024-09-16T06:55:00"
         ],
         "xaxis": "x",
         "y": [
          58660.68,
          58711.1
         ],
         "yaxis": "y"
        },
        {
         "base": 58660.68,
         "marker": {
          "color": "gray",
          "line": {
           "width": 0
          }
         },
         "showlegend": false,
         "type": "bar",
         "width": 0.6,
         "x": [
          "2024-09-16T06:55:00"
         ],
         "xaxis": "x",
         "y": [
          46.75
         ],
         "yaxis": "y"
        },
        {
         "line": {
          "color": "gray",
          "width": 1
         },
         "mode": "lines",
         "showlegend": false,
         "type": "scatter",
         "x": [
          "2024-09-16T07:00:00",
          "2024-09-16T07:00:00"
         ],
         "xaxis": "x",
         "y": [
          58668.89,
          58747.98
         ],
         "yaxis": "y"
        },
        {
         "base": 58707.43,
         "marker": {
          "color": "gray",
          "line": {
           "width": 0
          }
         },
         "showlegend": false,
         "type": "bar",
         "width": 0.6,
         "x": [
          "2024-09-16T07:00:00"
         ],
         "xaxis": "x",
         "y": [
          21.06999999999971
         ],
         "yaxis": "y"
        },
        {
         "line": {
          "color": "darkgray",
          "width": 1
         },
         "mode": "lines",
         "showlegend": false,
         "type": "scatter",
         "x": [
          "2024-09-16T07:05:00",
          "2024-09-16T07:05:00"
         ],
         "xaxis": "x",
         "y": [
          58712,
          58757.99
         ],
         "yaxis": "y"
        },
        {
         "base": 58712.01,
         "marker": {
          "color": "darkgray",
          "line": {
           "width": 0
          }
         },
         "showlegend": false,
         "type": "bar",
         "width": 0.6,
         "x": [
          "2024-09-16T07:05:00"
         ],
         "xaxis": "x",
         "y": [
          16.5
         ],
         "yaxis": "y"
        },
        {
         "line": {
          "color": "gray",
          "width": 1
         },
         "mode": "lines",
         "showlegend": false,
         "type": "scatter",
         "x": [
          "2024-09-16T07:10:00",
          "2024-09-16T07:10:00"
         ],
         "xaxis": "x",
         "y": [
          58712,
          58798
         ],
         "yaxis": "y"
        },
        {
         "base": 58712,
         "marker": {
          "color": "gray",
          "line": {
           "width": 0
          }
         },
         "showlegend": false,
         "type": "bar",
         "width": 0.6,
         "x": [
          "2024-09-16T07:10:00"
         ],
         "xaxis": "x",
         "y": [
          85.98999999999796
         ],
         "yaxis": "y"
        },
        {
         "line": {
          "color": "darkgray",
          "width": 1
         },
         "mode": "lines",
         "showlegend": false,
         "type": "scatter",
         "x": [
          "2024-09-16T07:15:00",
          "2024-09-16T07:15:00"
         ],
         "xaxis": "x",
         "y": [
          58744.46,
          58798
         ],
         "yaxis": "y"
        },
        {
         "base": 58764,
         "marker": {
          "color": "darkgray",
          "line": {
           "width": 0
          }
         },
         "showlegend": false,
         "type": "bar",
         "width": 0.6,
         "x": [
          "2024-09-16T07:15:00"
         ],
         "xaxis": "x",
         "y": [
          33.98999999999796
         ],
         "yaxis": "y"
        },
        {
         "line": {
          "color": "gray",
          "width": 1
         },
         "mode": "lines",
         "showlegend": false,
         "type": "scatter",
         "x": [
          "2024-09-16T07:20:00",
          "2024-09-16T07:20:00"
         ],
         "xaxis": "x",
         "y": [
          58763.99,
          58833.33
         ],
         "yaxis": "y"
        },
        {
         "base": 58764,
         "marker": {
          "color": "gray",
          "line": {
           "width": 0
          }
         },
         "showlegend": false,
         "type": "bar",
         "width": 0.6,
         "x": [
          "2024-09-16T07:20:00"
         ],
         "xaxis": "x",
         "y": [
          69.31999999999971
         ],
         "yaxis": "y"
        },
        {
         "line": {
          "color": "gray",
          "width": 1
         },
         "mode": "lines",
         "showlegend": false,
         "type": "scatter",
         "x": [
          "2024-09-16T07:25:00",
          "2024-09-16T07:25:00"
         ],
         "xaxis": "x",
         "y": [
          58825.48,
          58866
         ],
         "yaxis": "y"
        },
        {
         "base": 58833.32,
         "marker": {
          "color": "gray",
          "line": {
           "width": 0
          }
         },
         "showlegend": false,
         "type": "bar",
         "width": 0.6,
         "x": [
          "2024-09-16T07:25:00"
         ],
         "xaxis": "x",
         "y": [
          28.87000000000262
         ],
         "yaxis": "y"
        },
        {
         "line": {
          "color": "lime",
          "width": 1
         },
         "mode": "lines",
         "showlegend": false,
         "type": "scatter",
         "x": [
          "2024-09-16T07:30:00",
          "2024-09-16T07:30:00"
         ],
         "xaxis": "x",
         "y": [
          58862.18,
          58926
         ],
         "yaxis": "y"
        },
        {
         "base": 58862.19,
         "marker": {
          "color": "lime",
          "line": {
           "width": 0
          }
         },
         "showlegend": false,
         "type": "bar",
         "width": 0.6,
         "x": [
          "2024-09-16T07:30:00"
         ],
         "xaxis": "x",
         "y": [
          58.87999999999738
         ],
         "yaxis": "y"
        },
        {
         "line": {
          "color": "darkgray",
          "width": 1
         },
         "mode": "lines",
         "showlegend": false,
         "type": "scatter",
         "x": [
          "2024-09-16T07:35:00",
          "2024-09-16T07:35:00"
         ],
         "xaxis": "x",
         "y": [
          58854,
          58921.08
         ],
         "yaxis": "y"
        },
        {
         "base": 58854.01,
         "marker": {
          "color": "darkgray",
          "line": {
           "width": 0
          }
         },
         "showlegend": false,
         "type": "bar",
         "width": 0.6,
         "x": [
          "2024-09-16T07:35:00"
         ],
         "xaxis": "x",
         "y": [
          67.05999999999767
         ],
         "yaxis": "y"
        },
        {
         "line": {
          "color": "darkgray",
          "width": 1
         },
         "mode": "lines",
         "showlegend": false,
         "type": "scatter",
         "x": [
          "2024-09-16T07:40:00",
          "2024-09-16T07:40:00"
         ],
         "xaxis": "x",
         "y": [
          58814,
          58854.01
         ],
         "yaxis": "y"
        },
        {
         "base": 58836.98,
         "marker": {
          "color": "darkgray",
          "line": {
           "width": 0
          }
         },
         "showlegend": false,
         "type": "bar",
         "width": 0.6,
         "x": [
          "2024-09-16T07:40:00"
         ],
         "xaxis": "x",
         "y": [
          17.029999999998836
         ],
         "yaxis": "y"
        },
        {
         "line": {
          "color": "lime",
          "width": 1
         },
         "mode": "lines",
         "showlegend": false,
         "type": "scatter",
         "x": [
          "2024-09-16T07:45:00",
          "2024-09-16T07:45:00"
         ],
         "xaxis": "x",
         "y": [
          58836.98,
          58970
         ],
         "yaxis": "y"
        },
        {
         "base": 58836.99,
         "marker": {
          "color": "lime",
          "line": {
           "width": 0
          }
         },
         "showlegend": false,
         "type": "bar",
         "width": 0.6,
         "x": [
          "2024-09-16T07:45:00"
         ],
         "xaxis": "x",
         "y": [
          84.11000000000058
         ],
         "yaxis": "y"
        },
        {
         "line": {
          "color": "gray",
          "width": 1
         },
         "mode": "lines",
         "showlegend": false,
         "type": "scatter",
         "x": [
          "2024-09-16T07:50:00",
          "2024-09-16T07:50:00"
         ],
         "xaxis": "x",
         "y": [
          58886,
          58952
         ],
         "yaxis": "y"
        },
        {
         "base": 58921.1,
         "marker": {
          "color": "gray",
          "line": {
           "width": 0
          }
         },
         "showlegend": false,
         "type": "bar",
         "width": 0.6,
         "x": [
          "2024-09-16T07:50:00"
         ],
         "xaxis": "x",
         "y": [
          30.889999999999418
         ],
         "yaxis": "y"
        },
        {
         "line": {
          "color": "darkgray",
          "width": 1
         },
         "mode": "lines",
         "showlegend": false,
         "type": "scatter",
         "x": [
          "2024-09-16T07:55:00",
          "2024-09-16T07:55:00"
         ],
         "xaxis": "x",
         "y": [
          58904.65,
          58952
         ],
         "yaxis": "y"
        },
        {
         "base": 58911.1,
         "marker": {
          "color": "darkgray",
          "line": {
           "width": 0
          }
         },
         "showlegend": false,
         "type": "bar",
         "width": 0.6,
         "x": [
          "2024-09-16T07:55:00"
         ],
         "xaxis": "x",
         "y": [
          40.900000000001455
         ],
         "yaxis": "y"
        },
        {
         "line": {
          "color": "darkgray",
          "width": 1
         },
         "mode": "lines",
         "showlegend": false,
         "type": "scatter",
         "x": [
          "2024-09-16T08:00:00",
          "2024-09-16T08:00:00"
         ],
         "xaxis": "x",
         "y": [
          58858.34,
          58927.99
         ],
         "yaxis": "y"
        },
        {
         "base": 58869.99,
         "marker": {
          "color": "darkgray",
          "line": {
           "width": 0
          }
         },
         "showlegend": false,
         "type": "bar",
         "width": 0.6,
         "x": [
          "2024-09-16T08:00:00"
         ],
         "xaxis": "x",
         "y": [
          41.11000000000058
         ],
         "yaxis": "y"
        },
        {
         "line": {
          "color": "gray",
          "width": 1
         },
         "mode": "lines",
         "showlegend": false,
         "type": "scatter",
         "x": [
          "2024-09-16T08:05:00",
          "2024-09-16T08:05:00"
         ],
         "xaxis": "x",
         "y": [
          58854.86,
          58938.74
         ],
         "yaxis": "y"
        },
        {
         "base": 58870,
         "marker": {
          "color": "gray",
          "line": {
           "width": 0
          }
         },
         "showlegend": false,
         "type": "bar",
         "width": 0.6,
         "x": [
          "2024-09-16T08:05:00"
         ],
         "xaxis": "x",
         "y": [
          58.599999999998545
         ],
         "yaxis": "y"
        },
        {
         "line": {
          "color": "darkgray",
          "width": 1
         },
         "mode": "lines",
         "showlegend": false,
         "type": "scatter",
         "x": [
          "2024-09-16T08:10:00",
          "2024-09-16T08:10:00"
         ],
         "xaxis": "x",
         "y": [
          58894,
          58929.89
         ],
         "yaxis": "y"
        },
        {
         "base": 58913.99,
         "marker": {
          "color": "darkgray",
          "line": {
           "width": 0
          }
         },
         "showlegend": false,
         "type": "bar",
         "width": 0.6,
         "x": [
          "2024-09-16T08:10:00"
         ],
         "xaxis": "x",
         "y": [
          14.610000000000582
         ],
         "yaxis": "y"
        },
        {
         "line": {
          "color": "darkgray",
          "width": 1
         },
         "mode": "lines",
         "showlegend": false,
         "type": "scatter",
         "x": [
          "2024-09-16T08:15:00",
          "2024-09-16T08:15:00"
         ],
         "xaxis": "x",
         "y": [
          58891.1,
          58970.58
         ],
         "yaxis": "y"
        },
        {
         "base": 58891.1,
         "marker": {
          "color": "darkgray",
          "line": {
           "width": 0
          }
         },
         "showlegend": false,
         "type": "bar",
         "width": 0.6,
         "x": [
          "2024-09-16T08:15:00"
         ],
         "xaxis": "x",
         "y": [
          22.900000000001455
         ],
         "yaxis": "y"
        },
        {
         "line": {
          "color": "lime",
          "width": 1
         },
         "mode": "lines",
         "showlegend": false,
         "type": "scatter",
         "x": [
          "2024-09-16T08:20:00",
          "2024-09-16T08:20:00"
         ],
         "xaxis": "x",
         "y": [
          58891.1,
          59100
         ],
         "yaxis": "y"
        },
        {
         "base": 58891.11,
         "marker": {
          "color": "lime",
          "line": {
           "width": 0
          }
         },
         "showlegend": false,
         "type": "bar",
         "width": 0.6,
         "x": [
          "2024-09-16T08:20:00"
         ],
         "xaxis": "x",
         "y": [
          207.9499999999971
         ],
         "yaxis": "y"
        },
        {
         "line": {
          "color": "red",
          "width": 1
         },
         "mode": "lines",
         "showlegend": false,
         "type": "scatter",
         "x": [
          "2024-09-16T08:25:00",
          "2024-09-16T08:25:00"
         ],
         "xaxis": "x",
         "y": [
          59063.56,
          59179.35
         ],
         "yaxis": "y"
        },
        {
         "base": 59080,
         "marker": {
          "color": "red",
          "line": {
           "width": 0
          }
         },
         "showlegend": false,
         "type": "bar",
         "width": 0.6,
         "x": [
          "2024-09-16T08:25:00"
         ],
         "xaxis": "x",
         "y": [
          19.06999999999971
         ],
         "yaxis": "y"
        },
        {
         "line": {
          "color": "darkgray",
          "width": 1
         },
         "mode": "lines",
         "showlegend": false,
         "type": "scatter",
         "x": [
          "2024-09-16T08:30:00",
          "2024-09-16T08:30:00"
         ],
         "xaxis": "x",
         "y": [
          59017.84,
          59116
         ],
         "yaxis": "y"
        },
        {
         "base": 59017.84,
         "marker": {
          "color": "darkgray",
          "line": {
           "width": 0
          }
         },
         "showlegend": false,
         "type": "bar",
         "width": 0.6,
         "x": [
          "2024-09-16T08:30:00"
         ],
         "xaxis": "x",
         "y": [
          62.16000000000349
         ],
         "yaxis": "y"
        },
        {
         "line": {
          "color": "darkgray",
          "width": 1
         },
         "mode": "lines",
         "showlegend": false,
         "type": "scatter",
         "x": [
          "2024-09-16T08:35:00",
          "2024-09-16T08:35:00"
         ],
         "xaxis": "x",
         "y": [
          58967.55,
          59060.61
         ],
         "yaxis": "y"
        },
        {
         "base": 58967.56,
         "marker": {
          "color": "darkgray",
          "line": {
           "width": 0
          }
         },
         "showlegend": false,
         "type": "bar",
         "width": 0.6,
         "x": [
          "2024-09-16T08:35:00"
         ],
         "xaxis": "x",
         "y": [
          50.29000000000087
         ],
         "yaxis": "y"
        },
        {
         "line": {
          "color": "gray",
          "width": 1
         },
         "mode": "lines",
         "showlegend": false,
         "type": "scatter",
         "x": [
          "2024-09-16T08:40:00",
          "2024-09-16T08:40:00"
         ],
         "xaxis": "x",
         "y": [
          58941.1,
          59014
         ],
         "yaxis": "y"
        },
        {
         "base": 58967.55,
         "marker": {
          "color": "gray",
          "line": {
           "width": 0
          }
         },
         "showlegend": false,
         "type": "bar",
         "width": 0.6,
         "x": [
          "2024-09-16T08:40:00"
         ],
         "xaxis": "x",
         "y": [
          4.459999999999127
         ],
         "yaxis": "y"
        },
        {
         "line": {
          "color": "darkgray",
          "width": 1
         },
         "mode": "lines",
         "showlegend": false,
         "type": "scatter",
         "x": [
          "2024-09-16T08:45:00",
          "2024-09-16T08:45:00"
         ],
         "xaxis": "x",
         "y": [
          58947.38,
          59003.99
         ],
         "yaxis": "y"
        },
        {
         "base": 58956,
         "marker": {
          "color": "darkgray",
          "line": {
           "width": 0
          }
         },
         "showlegend": false,
         "type": "bar",
         "width": 0.6,
         "x": [
          "2024-09-16T08:45:00"
         ],
         "xaxis": "x",
         "y": [
          16.010000000002037
         ],
         "yaxis": "y"
        },
        {
         "line": {
          "color": "gray",
          "width": 1
         },
         "mode": "lines",
         "showlegend": false,
         "type": "scatter",
         "x": [
          "2024-09-16T08:50:00",
          "2024-09-16T08:50:00"
         ],
         "xaxis": "x",
         "y": [
          58952,
          58987.57
         ],
         "yaxis": "y"
        },
        {
         "base": 58956,
         "marker": {
          "color": "gray",
          "line": {
           "width": 0
          }
         },
         "showlegend": false,
         "type": "bar",
         "width": 0.6,
         "x": [
          "2024-09-16T08:50:00"
         ],
         "xaxis": "x",
         "y": [
          4.010000000002037
         ],
         "yaxis": "y"
        },
        {
         "line": {
          "color": "darkgray",
          "width": 1
         },
         "mode": "lines",
         "showlegend": false,
         "type": "scatter",
         "x": [
          "2024-09-16T08:55:00",
          "2024-09-16T08:55:00"
         ],
         "xaxis": "x",
         "y": [
          58912.51,
          58966
         ],
         "yaxis": "y"
        },
        {
         "base": 58924.98,
         "marker": {
          "color": "darkgray",
          "line": {
           "width": 0
          }
         },
         "showlegend": false,
         "type": "bar",
         "width": 0.6,
         "x": [
          "2024-09-16T08:55:00"
         ],
         "xaxis": "x",
         "y": [
          35.0199999999968
         ],
         "yaxis": "y"
        },
        {
         "line": {
          "color": "blue",
          "width": 1
         },
         "mode": "lines",
         "showlegend": false,
         "type": "scatter",
         "x": [
          "2024-09-16T09:00:00",
          "2024-09-16T09:00:00"
         ],
         "xaxis": "x",
         "y": [
          58900.1,
          58994
         ],
         "yaxis": "y"
        },
        {
         "base": 58924.98,
         "marker": {
          "color": "blue",
          "line": {
           "width": 0
          }
         },
         "showlegend": false,
         "type": "bar",
         "width": 0.6,
         "x": [
          "2024-09-16T09:00:00"
         ],
         "xaxis": "x",
         "y": [
          56.0199999999968
         ],
         "yaxis": "y"
        },
        {
         "line": {
          "color": "darkgray",
          "width": 1
         },
         "mode": "lines",
         "showlegend": false,
         "type": "scatter",
         "x": [
          "2024-09-16T09:05:00",
          "2024-09-16T09:05:00"
         ],
         "xaxis": "x",
         "y": [
          58965.11,
          59001.09
         ],
         "yaxis": "y"
        },
        {
         "base": 58965.11,
         "marker": {
          "color": "darkgray",
          "line": {
           "width": 0
          }
         },
         "showlegend": false,
         "type": "bar",
         "width": 0.6,
         "x": [
          "2024-09-16T09:05:00"
         ],
         "xaxis": "x",
         "y": [
          15.900000000001455
         ],
         "yaxis": "y"
        },
        {
         "line": {
          "color": "gray",
          "width": 1
         },
         "mode": "lines",
         "showlegend": false,
         "type": "scatter",
         "x": [
          "2024-09-16T09:10:00",
          "2024-09-16T09:10:00"
         ],
         "xaxis": "x",
         "y": [
          58965.11,
          59030
         ],
         "yaxis": "y"
        },
        {
         "base": 58965.12,
         "marker": {
          "color": "gray",
          "line": {
           "width": 0
          }
         },
         "showlegend": false,
         "type": "bar",
         "width": 0.6,
         "x": [
          "2024-09-16T09:10:00"
         ],
         "xaxis": "x",
         "y": [
          64.87999999999738
         ],
         "yaxis": "y"
        },
        {
         "line": {
          "color": "darkgray",
          "width": 1
         },
         "mode": "lines",
         "showlegend": false,
         "type": "scatter",
         "x": [
          "2024-09-16T09:15:00",
          "2024-09-16T09:15:00"
         ],
         "xaxis": "x",
         "y": [
          58868,
          59032.2
         ],
         "yaxis": "y"
        },
        {
         "base": 58881.09,
         "marker": {
          "color": "darkgray",
          "line": {
           "width": 0
          }
         },
         "showlegend": false,
         "type": "bar",
         "width": 0.6,
         "x": [
          "2024-09-16T09:15:00"
         ],
         "xaxis": "x",
         "y": [
          148.9100000000035
         ],
         "yaxis": "y"
        },
        {
         "line": {
          "color": "fuchsia",
          "width": 1
         },
         "mode": "lines",
         "showlegend": false,
         "type": "scatter",
         "x": [
          "2024-09-16T09:20:00",
          "2024-09-16T09:20:00"
         ],
         "xaxis": "x",
         "y": [
          58788,
          58895.66
         ],
         "yaxis": "y"
        },
        {
         "base": 58821.98,
         "marker": {
          "color": "fuchsia",
          "line": {
           "width": 0
          }
         },
         "showlegend": false,
         "type": "bar",
         "width": 0.6,
         "x": [
          "2024-09-16T09:20:00"
         ],
         "xaxis": "x",
         "y": [
          59.11999999999534
         ],
         "yaxis": "y"
        },
        {
         "line": {
          "color": "gray",
          "width": 1
         },
         "mode": "lines",
         "showlegend": false,
         "type": "scatter",
         "x": [
          "2024-09-16T09:25:00",
          "2024-09-16T09:25:00"
         ],
         "xaxis": "x",
         "y": [
          58794,
          58862.75
         ],
         "yaxis": "y"
        },
        {
         "base": 58821.99,
         "marker": {
          "color": "gray",
          "line": {
           "width": 0
          }
         },
         "showlegend": false,
         "type": "bar",
         "width": 0.6,
         "x": [
          "2024-09-16T09:25:00"
         ],
         "xaxis": "x",
         "y": [
          10.010000000002037
         ],
         "yaxis": "y"
        },
        {
         "line": {
          "color": "darkgray",
          "width": 1
         },
         "mode": "lines",
         "showlegend": false,
         "type": "scatter",
         "x": [
          "2024-09-16T09:30:00",
          "2024-09-16T09:30:00"
         ],
         "xaxis": "x",
         "y": [
          58796,
          58838
         ],
         "yaxis": "y"
        },
        {
         "base": 58796,
         "marker": {
          "color": "darkgray",
          "line": {
           "width": 0
          }
         },
         "showlegend": false,
         "type": "bar",
         "width": 0.6,
         "x": [
          "2024-09-16T09:30:00"
         ],
         "xaxis": "x",
         "y": [
          36.01000000000204
         ],
         "yaxis": "y"
        },
        {
         "line": {
          "color": "darkgray",
          "width": 1
         },
         "mode": "lines",
         "showlegend": false,
         "type": "scatter",
         "x": [
          "2024-09-16T09:35:00",
          "2024-09-16T09:35:00"
         ],
         "xaxis": "x",
         "y": [
          58781.72,
          58818
         ],
         "yaxis": "y"
        },
        {
         "base": 58786.08,
         "marker": {
          "color": "darkgray",
          "line": {
           "width": 0
          }
         },
         "showlegend": false,
         "type": "bar",
         "width": 0.6,
         "x": [
          "2024-09-16T09:35:00"
         ],
         "xaxis": "x",
         "y": [
          9.930000000000291
         ],
         "yaxis": "y"
        },
        {
         "line": {
          "color": "red",
          "width": 1
         },
         "mode": "lines",
         "showlegend": false,
         "type": "scatter",
         "x": [
          "2024-09-16T09:40:00",
          "2024-09-16T09:40:00"
         ],
         "xaxis": "x",
         "y": [
          58646.32,
          58786.08
         ],
         "yaxis": "y"
        },
        {
         "base": 58699.99,
         "marker": {
          "color": "red",
          "line": {
           "width": 0
          }
         },
         "showlegend": false,
         "type": "bar",
         "width": 0.6,
         "x": [
          "2024-09-16T09:40:00"
         ],
         "xaxis": "x",
         "y": [
          86.08000000000175
         ],
         "yaxis": "y"
        },
        {
         "line": {
          "color": "fuchsia",
          "width": 1
         },
         "mode": "lines",
         "showlegend": false,
         "type": "scatter",
         "x": [
          "2024-09-16T09:45:00",
          "2024-09-16T09:45:00"
         ],
         "xaxis": "x",
         "y": [
          58579.27,
          58705.91
         ],
         "yaxis": "y"
        },
        {
         "base": 58628,
         "marker": {
          "color": "fuchsia",
          "line": {
           "width": 0
          }
         },
         "showlegend": false,
         "type": "bar",
         "width": 0.6,
         "x": [
          "2024-09-16T09:45:00"
         ],
         "xaxis": "x",
         "y": [
          71.98999999999796
         ],
         "yaxis": "y"
        },
        {
         "line": {
          "color": "gray",
          "width": 1
         },
         "mode": "lines",
         "showlegend": false,
         "type": "scatter",
         "x": [
          "2024-09-16T09:50:00",
          "2024-09-16T09:50:00"
         ],
         "xaxis": "x",
         "y": [
          58588,
          58655.7
         ],
         "yaxis": "y"
        },
        {
         "base": 58628,
         "marker": {
          "color": "gray",
          "line": {
           "width": 0
          }
         },
         "showlegend": false,
         "type": "bar",
         "width": 0.6,
         "x": [
          "2024-09-16T09:50:00"
         ],
         "xaxis": "x",
         "y": [
          19.989999999997963
         ],
         "yaxis": "y"
        },
        {
         "line": {
          "color": "darkgray",
          "width": 1
         },
         "mode": "lines",
         "showlegend": false,
         "type": "scatter",
         "x": [
          "2024-09-16T09:55:00",
          "2024-09-16T09:55:00"
         ],
         "xaxis": "x",
         "y": [
          58622.16,
          58668
         ],
         "yaxis": "y"
        },
        {
         "base": 58636.54,
         "marker": {
          "color": "darkgray",
          "line": {
           "width": 0
          }
         },
         "showlegend": false,
         "type": "bar",
         "width": 0.6,
         "x": [
          "2024-09-16T09:55:00"
         ],
         "xaxis": "x",
         "y": [
          11.44999999999709
         ],
         "yaxis": "y"
        },
        {
         "line": {
          "color": "darkgray",
          "width": 1
         },
         "mode": "lines",
         "showlegend": false,
         "type": "scatter",
         "x": [
          "2024-09-16T10:00:00",
          "2024-09-16T10:00:00"
         ],
         "xaxis": "x",
         "y": [
          58570.71,
          58647.76
         ],
         "yaxis": "y"
        },
        {
         "base": 58574.31,
         "marker": {
          "color": "darkgray",
          "line": {
           "width": 0
          }
         },
         "showlegend": false,
         "type": "bar",
         "width": 0.6,
         "x": [
          "2024-09-16T10:00:00"
         ],
         "xaxis": "x",
         "y": [
          62.2300000000032
         ],
         "yaxis": "y"
        },
        {
         "line": {
          "color": "darkgray",
          "width": 1
         },
         "mode": "lines",
         "showlegend": false,
         "type": "scatter",
         "x": [
          "2024-09-16T10:05:00",
          "2024-09-16T10:05:00"
         ],
         "xaxis": "x",
         "y": [
          58550,
          58590
         ],
         "yaxis": "y"
        },
        {
         "base": 58560,
         "marker": {
          "color": "darkgray",
          "line": {
           "width": 0
          }
         },
         "showlegend": false,
         "type": "bar",
         "width": 0.6,
         "x": [
          "2024-09-16T10:05:00"
         ],
         "xaxis": "x",
         "y": [
          14.319999999999709
         ],
         "yaxis": "y"
        },
        {
         "line": {
          "color": "gray",
          "width": 1
         },
         "mode": "lines",
         "showlegend": false,
         "type": "scatter",
         "x": [
          "2024-09-16T10:10:00",
          "2024-09-16T10:10:00"
         ],
         "xaxis": "x",
         "y": [
          58509.8,
          58580
         ],
         "yaxis": "y"
        },
        {
         "base": 58560,
         "marker": {
          "color": "gray",
          "line": {
           "width": 0
          }
         },
         "showlegend": false,
         "type": "bar",
         "width": 0.6,
         "x": [
          "2024-09-16T10:10:00"
         ],
         "xaxis": "x",
         "y": [
          20
         ],
         "yaxis": "y"
        },
        {
         "line": {
          "color": "gray",
          "width": 1
         },
         "mode": "lines",
         "showlegend": false,
         "type": "scatter",
         "x": [
          "2024-09-16T10:15:00",
          "2024-09-16T10:15:00"
         ],
         "xaxis": "x",
         "y": [
          58555.62,
          58630
         ],
         "yaxis": "y"
        },
        {
         "base": 58579.99,
         "marker": {
          "color": "gray",
          "line": {
           "width": 0
          }
         },
         "showlegend": false,
         "type": "bar",
         "width": 0.6,
         "x": [
          "2024-09-16T10:15:00"
         ],
         "xaxis": "x",
         "y": [
          18.020000000004075
         ],
         "yaxis": "y"
        },
        {
         "line": {
          "color": "darkgray",
          "width": 1
         },
         "mode": "lines",
         "showlegend": false,
         "type": "scatter",
         "x": [
          "2024-09-16T10:20:00",
          "2024-09-16T10:20:00"
         ],
         "xaxis": "x",
         "y": [
          58576,
          58615.99
         ],
         "yaxis": "y"
        },
        {
         "base": 58580.01,
         "marker": {
          "color": "darkgray",
          "line": {
           "width": 0
          }
         },
         "showlegend": false,
         "type": "bar",
         "width": 0.6,
         "x": [
          "2024-09-16T10:20:00"
         ],
         "xaxis": "x",
         "y": [
          17.989999999997963
         ],
         "yaxis": "y"
        },
        {
         "line": {
          "color": "gray",
          "width": 1
         },
         "mode": "lines",
         "showlegend": false,
         "type": "scatter",
         "x": [
          "2024-09-16T10:25:00",
          "2024-09-16T10:25:00"
         ],
         "xaxis": "x",
         "y": [
          58506,
          58597.98
         ],
         "yaxis": "y"
        },
        {
         "base": 58580.01,
         "marker": {
          "color": "gray",
          "line": {
           "width": 0
          }
         },
         "showlegend": false,
         "type": "bar",
         "width": 0.6,
         "x": [
          "2024-09-16T10:25:00"
         ],
         "xaxis": "x",
         "y": [
          17.970000000001164
         ],
         "yaxis": "y"
        },
        {
         "line": {
          "color": "darkgray",
          "width": 1
         },
         "mode": "lines",
         "showlegend": false,
         "type": "scatter",
         "x": [
          "2024-09-16T10:30:00",
          "2024-09-16T10:30:00"
         ],
         "xaxis": "x",
         "y": [
          58542.32,
          58638.66
         ],
         "yaxis": "y"
        },
        {
         "base": 58560,
         "marker": {
          "color": "darkgray",
          "line": {
           "width": 0
          }
         },
         "showlegend": false,
         "type": "bar",
         "width": 0.6,
         "x": [
          "2024-09-16T10:30:00"
         ],
         "xaxis": "x",
         "y": [
          37.970000000001164
         ],
         "yaxis": "y"
        },
        {
         "line": {
          "color": "gray",
          "width": 1
         },
         "mode": "lines",
         "showlegend": false,
         "type": "scatter",
         "x": [
          "2024-09-16T10:35:00",
          "2024-09-16T10:35:00"
         ],
         "xaxis": "x",
         "y": [
          58560,
          58605.89
         ],
         "yaxis": "y"
        },
        {
         "base": 58560.01,
         "marker": {
          "color": "gray",
          "line": {
           "width": 0
          }
         },
         "showlegend": false,
         "type": "bar",
         "width": 0.6,
         "x": [
          "2024-09-16T10:35:00"
         ],
         "xaxis": "x",
         "y": [
          11.989999999997963
         ],
         "yaxis": "y"
        },
        {
         "line": {
          "color": "gray",
          "width": 1
         },
         "mode": "lines",
         "showlegend": false,
         "type": "scatter",
         "x": [
          "2024-09-16T10:40:00",
          "2024-09-16T10:40:00"
         ],
         "xaxis": "x",
         "y": [
          58569.87,
          58683.14
         ],
         "yaxis": "y"
        },
        {
         "base": 58571.99,
         "marker": {
          "color": "gray",
          "line": {
           "width": 0
          }
         },
         "showlegend": false,
         "type": "bar",
         "width": 0.6,
         "x": [
          "2024-09-16T10:40:00"
         ],
         "xaxis": "x",
         "y": [
          111.15000000000146
         ],
         "yaxis": "y"
        },
        {
         "line": {
          "color": "blue",
          "width": 1
         },
         "mode": "lines",
         "showlegend": false,
         "type": "scatter",
         "x": [
          "2024-09-16T10:45:00",
          "2024-09-16T10:45:00"
         ],
         "xaxis": "x",
         "y": [
          58683.13,
          58741.1
         ],
         "yaxis": "y"
        },
        {
         "base": 58683.14,
         "marker": {
          "color": "blue",
          "line": {
           "width": 0
          }
         },
         "showlegend": false,
         "type": "bar",
         "width": 0.6,
         "x": [
          "2024-09-16T10:45:00"
         ],
         "xaxis": "x",
         "y": [
          28.87000000000262
         ],
         "yaxis": "y"
        },
        {
         "line": {
          "color": "darkgray",
          "width": 1
         },
         "mode": "lines",
         "showlegend": false,
         "type": "scatter",
         "x": [
          "2024-09-16T10:50:00",
          "2024-09-16T10:50:00"
         ],
         "xaxis": "x",
         "y": [
          58672,
          58712.02
         ],
         "yaxis": "y"
        },
        {
         "base": 58674,
         "marker": {
          "color": "darkgray",
          "line": {
           "width": 0
          }
         },
         "showlegend": false,
         "type": "bar",
         "width": 0.6,
         "x": [
          "2024-09-16T10:50:00"
         ],
         "xaxis": "x",
         "y": [
          38.0199999999968
         ],
         "yaxis": "y"
        },
        {
         "line": {
          "color": "gray",
          "width": 1
         },
         "mode": "lines",
         "showlegend": false,
         "type": "scatter",
         "x": [
          "2024-09-16T10:55:00",
          "2024-09-16T10:55:00"
         ],
         "xaxis": "x",
         "y": [
          58644,
          58750
         ],
         "yaxis": "y"
        },
        {
         "base": 58674,
         "marker": {
          "color": "gray",
          "line": {
           "width": 0
          }
         },
         "showlegend": false,
         "type": "bar",
         "width": 0.6,
         "x": [
          "2024-09-16T10:55:00"
         ],
         "xaxis": "x",
         "y": [
          75.98999999999796
         ],
         "yaxis": "y"
        },
        {
         "line": {
          "color": "gray",
          "width": 1
         },
         "mode": "lines",
         "showlegend": false,
         "type": "scatter",
         "x": [
          "2024-09-16T11:00:00",
          "2024-09-16T11:00:00"
         ],
         "xaxis": "x",
         "y": [
          58722,
          58795.99
         ],
         "yaxis": "y"
        },
        {
         "base": 58749.99,
         "marker": {
          "color": "gray",
          "line": {
           "width": 0
          }
         },
         "showlegend": false,
         "type": "bar",
         "width": 0.6,
         "x": [
          "2024-09-16T11:00:00"
         ],
         "xaxis": "x",
         "y": [
          12
         ],
         "yaxis": "y"
        },
        {
         "line": {
          "color": "darkgray",
          "width": 1
         },
         "mode": "lines",
         "showlegend": false,
         "type": "scatter",
         "x": [
          "2024-09-16T11:05:00",
          "2024-09-16T11:05:00"
         ],
         "xaxis": "x",
         "y": [
          58721.08,
          58778
         ],
         "yaxis": "y"
        },
        {
         "base": 58729.35,
         "marker": {
          "color": "darkgray",
          "line": {
           "width": 0
          }
         },
         "showlegend": false,
         "type": "bar",
         "width": 0.6,
         "x": [
          "2024-09-16T11:05:00"
         ],
         "xaxis": "x",
         "y": [
          32.650000000001455
         ],
         "yaxis": "y"
        },
        {
         "line": {
          "color": "gray",
          "width": 1
         },
         "mode": "lines",
         "showlegend": false,
         "type": "scatter",
         "x": [
          "2024-09-16T11:10:00",
          "2024-09-16T11:10:00"
         ],
         "xaxis": "x",
         "y": [
          58702.63,
          58786
         ],
         "yaxis": "y"
        },
        {
         "base": 58729.35,
         "marker": {
          "color": "gray",
          "line": {
           "width": 0
          }
         },
         "showlegend": false,
         "type": "bar",
         "width": 0.6,
         "x": [
          "2024-09-16T11:10:00"
         ],
         "xaxis": "x",
         "y": [
          50.650000000001455
         ],
         "yaxis": "y"
        },
        {
         "line": {
          "color": "gray",
          "width": 1
         },
         "mode": "lines",
         "showlegend": false,
         "type": "scatter",
         "x": [
          "2024-09-16T11:15:00",
          "2024-09-16T11:15:00"
         ],
         "xaxis": "x",
         "y": [
          58779.99,
          58808
         ],
         "yaxis": "y"
        },
        {
         "base": 58780,
         "marker": {
          "color": "gray",
          "line": {
           "width": 0
          }
         },
         "showlegend": false,
         "type": "bar",
         "width": 0.6,
         "x": [
          "2024-09-16T11:15:00"
         ],
         "xaxis": "x",
         "y": [
          20
         ],
         "yaxis": "y"
        },
        {
         "line": {
          "color": "red",
          "width": 1
         },
         "mode": "lines",
         "showlegend": false,
         "type": "scatter",
         "x": [
          "2024-09-16T11:20:00",
          "2024-09-16T11:20:00"
         ],
         "xaxis": "x",
         "y": [
          58716.01,
          58835.84
         ],
         "yaxis": "y"
        },
        {
         "base": 58716.02,
         "marker": {
          "color": "red",
          "line": {
           "width": 0
          }
         },
         "showlegend": false,
         "type": "bar",
         "width": 0.6,
         "x": [
          "2024-09-16T11:20:00"
         ],
         "xaxis": "x",
         "y": [
          83.97000000000116
         ],
         "yaxis": "y"
        },
        {
         "line": {
          "color": "blue",
          "width": 1
         },
         "mode": "lines",
         "showlegend": false,
         "type": "scatter",
         "x": [
          "2024-09-16T11:25:00",
          "2024-09-16T11:25:00"
         ],
         "xaxis": "x",
         "y": [
          58654.81,
          58729.35
         ],
         "yaxis": "y"
        },
        {
         "base": 58716.01,
         "marker": {
          "color": "blue",
          "line": {
           "width": 0
          }
         },
         "showlegend": false,
         "type": "bar",
         "width": 0.6,
         "x": [
          "2024-09-16T11:25:00"
         ],
         "xaxis": "x",
         "y": [
          13.339999999996508
         ],
         "yaxis": "y"
        },
        {
         "line": {
          "color": "gray",
          "width": 1
         },
         "mode": "lines",
         "showlegend": false,
         "type": "scatter",
         "x": [
          "2024-09-16T11:30:00",
          "2024-09-16T11:30:00"
         ],
         "xaxis": "x",
         "y": [
          58654.15,
          58747.99
         ],
         "yaxis": "y"
        },
        {
         "base": 58729.35,
         "marker": {
          "color": "gray",
          "line": {
           "width": 0
          }
         },
         "showlegend": false,
         "type": "bar",
         "width": 0.6,
         "x": [
          "2024-09-16T11:30:00"
         ],
         "xaxis": "x",
         "y": [
          14.569999999999709
         ],
         "yaxis": "y"
        },
        {
         "line": {
          "color": "darkgray",
          "width": 1
         },
         "mode": "lines",
         "showlegend": false,
         "type": "scatter",
         "x": [
          "2024-09-16T11:35:00",
          "2024-09-16T11:35:00"
         ],
         "xaxis": "x",
         "y": [
          58724,
          58770
         ],
         "yaxis": "y"
        },
        {
         "base": 58742,
         "marker": {
          "color": "darkgray",
          "line": {
           "width": 0
          }
         },
         "showlegend": false,
         "type": "bar",
         "width": 0.6,
         "x": [
          "2024-09-16T11:35:00"
         ],
         "xaxis": "x",
         "y": [
          1.9100000000034925
         ],
         "yaxis": "y"
        },
        {
         "line": {
          "color": "darkgray",
          "width": 1
         },
         "mode": "lines",
         "showlegend": false,
         "type": "scatter",
         "x": [
          "2024-09-16T11:40:00",
          "2024-09-16T11:40:00"
         ],
         "xaxis": "x",
         "y": [
          58658,
          58763.03
         ],
         "yaxis": "y"
        },
        {
         "base": 58658,
         "marker": {
          "color": "darkgray",
          "line": {
           "width": 0
          }
         },
         "showlegend": false,
         "type": "bar",
         "width": 0.6,
         "x": [
          "2024-09-16T11:40:00"
         ],
         "xaxis": "x",
         "y": [
          84.01000000000204
         ],
         "yaxis": "y"
        },
        {
         "line": {
          "color": "gray",
          "width": 1
         },
         "mode": "lines",
         "showlegend": false,
         "type": "scatter",
         "x": [
          "2024-09-16T11:45:00",
          "2024-09-16T11:45:00"
         ],
         "xaxis": "x",
         "y": [
          58658,
          58693.03
         ],
         "yaxis": "y"
        },
        {
         "base": 58658,
         "marker": {
          "color": "gray",
          "line": {
           "width": 0
          }
         },
         "showlegend": false,
         "type": "bar",
         "width": 0.6,
         "x": [
          "2024-09-16T11:45:00"
         ],
         "xaxis": "x",
         "y": [
          25.12000000000262
         ],
         "yaxis": "y"
        },
        {
         "line": {
          "color": "darkgray",
          "width": 1
         },
         "mode": "lines",
         "showlegend": false,
         "type": "scatter",
         "x": [
          "2024-09-16T11:50:00",
          "2024-09-16T11:50:00"
         ],
         "xaxis": "x",
         "y": [
          58658.2,
          58683.13
         ],
         "yaxis": "y"
        },
        {
         "base": 58658.21,
         "marker": {
          "color": "darkgray",
          "line": {
           "width": 0
          }
         },
         "showlegend": false,
         "type": "bar",
         "width": 0.6,
         "x": [
          "2024-09-16T11:50:00"
         ],
         "xaxis": "x",
         "y": [
          24.910000000003492
         ],
         "yaxis": "y"
        },
        {
         "line": {
          "color": "gray",
          "width": 1
         },
         "mode": "lines",
         "showlegend": false,
         "type": "scatter",
         "x": [
          "2024-09-16T11:55:00",
          "2024-09-16T11:55:00"
         ],
         "xaxis": "x",
         "y": [
          58652,
          58668
         ],
         "yaxis": "y"
        },
        {
         "base": 58658.21,
         "marker": {
          "color": "gray",
          "line": {
           "width": 0
          }
         },
         "showlegend": false,
         "type": "bar",
         "width": 0.6,
         "x": [
          "2024-09-16T11:55:00"
         ],
         "xaxis": "x",
         "y": [
          5.779999999998836
         ],
         "yaxis": "y"
        },
        {
         "line": {
          "color": "gray",
          "width": 1
         },
         "mode": "lines",
         "showlegend": false,
         "type": "scatter",
         "x": [
          "2024-09-16T12:00:00",
          "2024-09-16T12:00:00"
         ],
         "xaxis": "x",
         "y": [
          58642,
          58735.99
         ],
         "yaxis": "y"
        },
        {
         "base": 58664,
         "marker": {
          "color": "gray",
          "line": {
           "width": 0
          }
         },
         "showlegend": false,
         "type": "bar",
         "width": 0.6,
         "x": [
          "2024-09-16T12:00:00"
         ],
         "xaxis": "x",
         "y": [
          54
         ],
         "yaxis": "y"
        },
        {
         "line": {
          "color": "gray",
          "width": 1
         },
         "mode": "lines",
         "showlegend": false,
         "type": "scatter",
         "x": [
          "2024-09-16T12:05:00",
          "2024-09-16T12:05:00"
         ],
         "xaxis": "x",
         "y": [
          58718,
          58783.73
         ],
         "yaxis": "y"
        },
        {
         "base": 58718,
         "marker": {
          "color": "gray",
          "line": {
           "width": 0
          }
         },
         "showlegend": false,
         "type": "bar",
         "width": 0.6,
         "x": [
          "2024-09-16T12:05:00"
         ],
         "xaxis": "x",
         "y": [
          65.72000000000116
         ],
         "yaxis": "y"
        },
        {
         "line": {
          "color": "darkgray",
          "width": 1
         },
         "mode": "lines",
         "showlegend": false,
         "type": "scatter",
         "x": [
          "2024-09-16T12:10:00",
          "2024-09-16T12:10:00"
         ],
         "xaxis": "x",
         "y": [
          58739,
          58789.93
         ],
         "yaxis": "y"
        },
        {
         "base": 58756.15,
         "marker": {
          "color": "darkgray",
          "line": {
           "width": 0
          }
         },
         "showlegend": false,
         "type": "bar",
         "width": 0.6,
         "x": [
          "2024-09-16T12:10:00"
         ],
         "xaxis": "x",
         "y": [
          27.56999999999971
         ],
         "yaxis": "y"
        },
        {
         "line": {
          "color": "darkgray",
          "width": 1
         },
         "mode": "lines",
         "showlegend": false,
         "type": "scatter",
         "x": [
          "2024-09-16T12:15:00",
          "2024-09-16T12:15:00"
         ],
         "xaxis": "x",
         "y": [
          58734,
          58766
         ],
         "yaxis": "y"
        },
        {
         "base": 58739.18,
         "marker": {
          "color": "darkgray",
          "line": {
           "width": 0
          }
         },
         "showlegend": false,
         "type": "bar",
         "width": 0.6,
         "x": [
          "2024-09-16T12:15:00"
         ],
         "xaxis": "x",
         "y": [
          16.970000000001164
         ],
         "yaxis": "y"
        },
        {
         "line": {
          "color": "red",
          "width": 1
         },
         "mode": "lines",
         "showlegend": false,
         "type": "scatter",
         "x": [
          "2024-09-16T12:20:00",
          "2024-09-16T12:20:00"
         ],
         "xaxis": "x",
         "y": [
          58632.34,
          58740.02
         ],
         "yaxis": "y"
        },
        {
         "base": 58632.35,
         "marker": {
          "color": "red",
          "line": {
           "width": 0
          }
         },
         "showlegend": false,
         "type": "bar",
         "width": 0.6,
         "x": [
          "2024-09-16T12:20:00"
         ],
         "xaxis": "x",
         "y": [
          106.81999999999971
         ],
         "yaxis": "y"
        },
        {
         "line": {
          "color": "red",
          "width": 1
         },
         "mode": "lines",
         "showlegend": false,
         "type": "scatter",
         "x": [
          "2024-09-16T12:25:00",
          "2024-09-16T12:25:00"
         ],
         "xaxis": "x",
         "y": [
          58578.94,
          58635.99
         ],
         "yaxis": "y"
        },
        {
         "base": 58606.75,
         "marker": {
          "color": "red",
          "line": {
           "width": 0
          }
         },
         "showlegend": false,
         "type": "bar",
         "width": 0.6,
         "x": [
          "2024-09-16T12:25:00"
         ],
         "xaxis": "x",
         "y": [
          25.599999999998545
         ],
         "yaxis": "y"
        },
        {
         "line": {
          "color": "red",
          "width": 1
         },
         "mode": "lines",
         "showlegend": false,
         "type": "scatter",
         "x": [
          "2024-09-16T12:30:00",
          "2024-09-16T12:30:00"
         ],
         "xaxis": "x",
         "y": [
          58570,
          58685.58
         ],
         "yaxis": "y"
        },
        {
         "base": 58601.1,
         "marker": {
          "color": "red",
          "line": {
           "width": 0
          }
         },
         "showlegend": false,
         "type": "bar",
         "width": 0.6,
         "x": [
          "2024-09-16T12:30:00"
         ],
         "xaxis": "x",
         "y": [
          5.650000000001455
         ],
         "yaxis": "y"
        },
        {
         "line": {
          "color": "red",
          "width": 1
         },
         "mode": "lines",
         "showlegend": false,
         "type": "scatter",
         "x": [
          "2024-09-16T12:35:00",
          "2024-09-16T12:35:00"
         ],
         "xaxis": "x",
         "y": [
          58504.54,
          58620
         ],
         "yaxis": "y"
        },
        {
         "base": 58545.58,
         "marker": {
          "color": "red",
          "line": {
           "width": 0
          }
         },
         "showlegend": false,
         "type": "bar",
         "width": 0.6,
         "x": [
          "2024-09-16T12:35:00"
         ],
         "xaxis": "x",
         "y": [
          55.5199999999968
         ],
         "yaxis": "y"
        },
        {
         "line": {
          "color": "lime",
          "width": 1
         },
         "mode": "lines",
         "showlegend": false,
         "type": "scatter",
         "x": [
          "2024-09-16T12:40:00",
          "2024-09-16T12:40:00"
         ],
         "xaxis": "x",
         "y": [
          58419.91,
          58643.99
         ],
         "yaxis": "y"
        },
        {
         "base": 58545.57,
         "marker": {
          "color": "lime",
          "line": {
           "width": 0
          }
         },
         "showlegend": false,
         "type": "bar",
         "width": 0.6,
         "x": [
          "2024-09-16T12:40:00"
         ],
         "xaxis": "x",
         "y": [
          94.43000000000029
         ],
         "yaxis": "y"
        },
        {
         "line": {
          "color": "darkgray",
          "width": 1
         },
         "mode": "lines",
         "showlegend": false,
         "type": "scatter",
         "x": [
          "2024-09-16T12:45:00",
          "2024-09-16T12:45:00"
         ],
         "xaxis": "x",
         "y": [
          58526.01,
          58692
         ],
         "yaxis": "y"
        },
        {
         "base": 58552,
         "marker": {
          "color": "darkgray",
          "line": {
           "width": 0
          }
         },
         "showlegend": false,
         "type": "bar",
         "width": 0.6,
         "x": [
          "2024-09-16T12:45:00"
         ],
         "xaxis": "x",
         "y": [
          87.98999999999796
         ],
         "yaxis": "y"
        },
        {
         "line": {
          "color": "darkgray",
          "width": 1
         },
         "mode": "lines",
         "showlegend": false,
         "type": "scatter",
         "x": [
          "2024-09-16T12:50:00",
          "2024-09-16T12:50:00"
         ],
         "xaxis": "x",
         "y": [
          58480,
          58555.99
         ],
         "yaxis": "y"
        },
        {
         "base": 58511.62,
         "marker": {
          "color": "darkgray",
          "line": {
           "width": 0
          }
         },
         "showlegend": false,
         "type": "bar",
         "width": 0.6,
         "x": [
          "2024-09-16T12:50:00"
         ],
         "xaxis": "x",
         "y": [
          40.36999999999534
         ],
         "yaxis": "y"
        },
        {
         "line": {
          "color": "gray",
          "width": 1
         },
         "mode": "lines",
         "showlegend": false,
         "type": "scatter",
         "x": [
          "2024-09-16T12:55:00",
          "2024-09-16T12:55:00"
         ],
         "xaxis": "x",
         "y": [
          58500,
          58601.36
         ],
         "yaxis": "y"
        },
        {
         "base": 58511.63,
         "marker": {
          "color": "gray",
          "line": {
           "width": 0
          }
         },
         "showlegend": false,
         "type": "bar",
         "width": 0.6,
         "x": [
          "2024-09-16T12:55:00"
         ],
         "xaxis": "x",
         "y": [
          16.360000000000582
         ],
         "yaxis": "y"
        },
        {
         "line": {
          "color": "gray",
          "width": 1
         },
         "mode": "lines",
         "showlegend": false,
         "type": "scatter",
         "x": [
          "2024-09-16T13:00:00",
          "2024-09-16T13:00:00"
         ],
         "xaxis": "x",
         "y": [
          58511.1,
          58610.1
         ],
         "yaxis": "y"
        },
        {
         "base": 58527.99,
         "marker": {
          "color": "gray",
          "line": {
           "width": 0
          }
         },
         "showlegend": false,
         "type": "bar",
         "width": 0.6,
         "x": [
          "2024-09-16T13:00:00"
         ],
         "xaxis": "x",
         "y": [
          12.080000000001746
         ],
         "yaxis": "y"
        },
        {
         "line": {
          "color": "darkgray",
          "width": 1
         },
         "mode": "lines",
         "showlegend": false,
         "type": "scatter",
         "x": [
          "2024-09-16T13:05:00",
          "2024-09-16T13:05:00"
         ],
         "xaxis": "x",
         "y": [
          58494,
          58561.1
         ],
         "yaxis": "y"
        },
        {
         "base": 58515.14,
         "marker": {
          "color": "darkgray",
          "line": {
           "width": 0
          }
         },
         "showlegend": false,
         "type": "bar",
         "width": 0.6,
         "x": [
          "2024-09-16T13:05:00"
         ],
         "xaxis": "x",
         "y": [
          24.93000000000029
         ],
         "yaxis": "y"
        },
        {
         "line": {
          "color": "gray",
          "width": 1
         },
         "mode": "lines",
         "showlegend": false,
         "type": "scatter",
         "x": [
          "2024-09-16T13:10:00",
          "2024-09-16T13:10:00"
         ],
         "xaxis": "x",
         "y": [
          58462,
          58563.75
         ],
         "yaxis": "y"
        },
        {
         "base": 58515.15,
         "marker": {
          "color": "gray",
          "line": {
           "width": 0
          }
         },
         "showlegend": false,
         "type": "bar",
         "width": 0.6,
         "x": [
          "2024-09-16T13:10:00"
         ],
         "xaxis": "x",
         "y": [
          48.599999999998545
         ],
         "yaxis": "y"
        },
        {
         "line": {
          "color": "darkgray",
          "width": 1
         },
         "mode": "lines",
         "showlegend": false,
         "type": "scatter",
         "x": [
          "2024-09-16T13:15:00",
          "2024-09-16T13:15:00"
         ],
         "xaxis": "x",
         "y": [
          58522.72,
          58606
         ],
         "yaxis": "y"
        },
        {
         "base": 58537.71,
         "marker": {
          "color": "darkgray",
          "line": {
           "width": 0
          }
         },
         "showlegend": false,
         "type": "bar",
         "width": 0.6,
         "x": [
          "2024-09-16T13:15:00"
         ],
         "xaxis": "x",
         "y": [
          26.029999999998836
         ],
         "yaxis": "y"
        },
        {
         "line": {
          "color": "fuchsia",
          "width": 1
         },
         "mode": "lines",
         "showlegend": false,
         "type": "scatter",
         "x": [
          "2024-09-16T13:20:00",
          "2024-09-16T13:20:00"
         ],
         "xaxis": "x",
         "y": [
          58400.21,
          58537.72
         ],
         "yaxis": "y"
        },
        {
         "base": 58509.99,
         "marker": {
          "color": "fuchsia",
          "line": {
           "width": 0
          }
         },
         "showlegend": false,
         "type": "bar",
         "width": 0.6,
         "x": [
          "2024-09-16T13:20:00"
         ],
         "xaxis": "x",
         "y": [
          27.720000000001164
         ],
         "yaxis": "y"
        },
        {
         "line": {
          "color": "gray",
          "width": 1
         },
         "mode": "lines",
         "showlegend": false,
         "type": "scatter",
         "x": [
          "2024-09-16T13:25:00",
          "2024-09-16T13:25:00"
         ],
         "xaxis": "x",
         "y": [
          58488.01,
          58592.57
         ],
         "yaxis": "y"
        },
        {
         "base": 58509.99,
         "marker": {
          "color": "gray",
          "line": {
           "width": 0
          }
         },
         "showlegend": false,
         "type": "bar",
         "width": 0.6,
         "x": [
          "2024-09-16T13:25:00"
         ],
         "xaxis": "x",
         "y": [
          24.010000000002037
         ],
         "yaxis": "y"
        },
        {
         "line": {
          "color": "red",
          "width": 1
         },
         "mode": "lines",
         "showlegend": false,
         "type": "scatter",
         "x": [
          "2024-09-16T13:30:00",
          "2024-09-16T13:30:00"
         ],
         "xaxis": "x",
         "y": [
          58239.53,
          58550
         ],
         "yaxis": "y"
        },
        {
         "base": 58254.01,
         "marker": {
          "color": "red",
          "line": {
           "width": 0
          }
         },
         "showlegend": false,
         "type": "bar",
         "width": 0.6,
         "x": [
          "2024-09-16T13:30:00"
         ],
         "xaxis": "x",
         "y": [
          280
         ],
         "yaxis": "y"
        },
        {
         "line": {
          "color": "lime",
          "width": 1
         },
         "mode": "lines",
         "showlegend": false,
         "type": "scatter",
         "x": [
          "2024-09-16T13:35:00",
          "2024-09-16T13:35:00"
         ],
         "xaxis": "x",
         "y": [
          58128.71,
          58369.13
         ],
         "yaxis": "y"
        },
        {
         "base": 58254.02,
         "marker": {
          "color": "lime",
          "line": {
           "width": 0
          }
         },
         "showlegend": false,
         "type": "bar",
         "width": 0.6,
         "x": [
          "2024-09-16T13:35:00"
         ],
         "xaxis": "x",
         "y": [
          33.9800000000032
         ],
         "yaxis": "y"
        },
        {
         "line": {
          "color": "red",
          "width": 1
         },
         "mode": "lines",
         "showlegend": false,
         "type": "scatter",
         "x": [
          "2024-09-16T13:40:00",
          "2024-09-16T13:40:00"
         ],
         "xaxis": "x",
         "y": [
          58088,
          58295.83
         ],
         "yaxis": "y"
        },
        {
         "base": 58094,
         "marker": {
          "color": "red",
          "line": {
           "width": 0
          }
         },
         "showlegend": false,
         "type": "bar",
         "width": 0.6,
         "x": [
          "2024-09-16T13:40:00"
         ],
         "xaxis": "x",
         "y": [
          194
         ],
         "yaxis": "y"
        },
        {
         "line": {
          "color": "lime",
          "width": 1
         },
         "mode": "lines",
         "showlegend": false,
         "type": "scatter",
         "x": [
          "2024-09-16T13:45:00",
          "2024-09-16T13:45:00"
         ],
         "xaxis": "x",
         "y": [
          58021,
          58310
         ],
         "yaxis": "y"
        },
        {
         "base": 58094,
         "marker": {
          "color": "lime",
          "line": {
           "width": 0
          }
         },
         "showlegend": false,
         "type": "bar",
         "width": 0.6,
         "x": [
          "2024-09-16T13:45:00"
         ],
         "xaxis": "x",
         "y": [
          205.95999999999913
         ],
         "yaxis": "y"
        },
        {
         "line": {
          "color": "gray",
          "width": 1
         },
         "mode": "lines",
         "showlegend": false,
         "type": "scatter",
         "x": [
          "2024-09-16T13:50:00",
          "2024-09-16T13:50:00"
         ],
         "xaxis": "x",
         "y": [
          58278.15,
          58490
         ],
         "yaxis": "y"
        },
        {
         "base": 58299.47,
         "marker": {
          "color": "gray",
          "line": {
           "width": 0
          }
         },
         "showlegend": false,
         "type": "bar",
         "width": 0.6,
         "x": [
          "2024-09-16T13:50:00"
         ],
         "xaxis": "x",
         "y": [
          184.22999999999593
         ],
         "yaxis": "y"
        },
        {
         "line": {
          "color": "gray",
          "width": 1
         },
         "mode": "lines",
         "showlegend": false,
         "type": "scatter",
         "x": [
          "2024-09-16T13:55:00",
          "2024-09-16T13:55:00"
         ],
         "xaxis": "x",
         "y": [
          58397.24,
          58500
         ],
         "yaxis": "y"
        },
        {
         "base": 58483.71,
         "marker": {
          "color": "gray",
          "line": {
           "width": 0
          }
         },
         "showlegend": false,
         "type": "bar",
         "width": 0.6,
         "x": [
          "2024-09-16T13:55:00"
         ],
         "xaxis": "x",
         "y": [
          13.389999999999418
         ],
         "yaxis": "y"
        },
        {
         "line": {
          "color": "darkgray",
          "width": 1
         },
         "mode": "lines",
         "showlegend": false,
         "type": "scatter",
         "x": [
          "2024-09-16T14:00:00",
          "2024-09-16T14:00:00"
         ],
         "xaxis": "x",
         "y": [
          58260,
          58560.44
         ],
         "yaxis": "y"
        },
        {
         "base": 58323.99,
         "marker": {
          "color": "darkgray",
          "line": {
           "width": 0
          }
         },
         "showlegend": false,
         "type": "bar",
         "width": 0.6,
         "x": [
          "2024-09-16T14:00:00"
         ],
         "xaxis": "x",
         "y": [
          173.12000000000262
         ],
         "yaxis": "y"
        },
        {
         "line": {
          "color": "darkgray",
          "width": 1
         },
         "mode": "lines",
         "showlegend": false,
         "type": "scatter",
         "x": [
          "2024-09-16T14:05:00",
          "2024-09-16T14:05:00"
         ],
         "xaxis": "x",
         "y": [
          58166.66,
          58346
         ],
         "yaxis": "y"
        },
        {
         "base": 58222,
         "marker": {
          "color": "darkgray",
          "line": {
           "width": 0
          }
         },
         "showlegend": false,
         "type": "bar",
         "width": 0.6,
         "x": [
          "2024-09-16T14:05:00"
         ],
         "xaxis": "x",
         "y": [
          101.98999999999796
         ],
         "yaxis": "y"
        },
        {
         "line": {
          "color": "gray",
          "width": 1
         },
         "mode": "lines",
         "showlegend": false,
         "type": "scatter",
         "x": [
          "2024-09-16T14:10:00",
          "2024-09-16T14:10:00"
         ],
         "xaxis": "x",
         "y": [
          58198,
          58388.5
         ],
         "yaxis": "y"
        },
        {
         "base": 58222.01,
         "marker": {
          "color": "gray",
          "line": {
           "width": 0
          }
         },
         "showlegend": false,
         "type": "bar",
         "width": 0.6,
         "x": [
          "2024-09-16T14:10:00"
         ],
         "xaxis": "x",
         "y": [
          157.98999999999796
         ],
         "yaxis": "y"
        },
        {
         "line": {
          "color": "darkgray",
          "width": 1
         },
         "mode": "lines",
         "showlegend": false,
         "type": "scatter",
         "x": [
          "2024-09-16T14:15:00",
          "2024-09-16T14:15:00"
         ],
         "xaxis": "x",
         "y": [
          58164,
          58427.08
         ],
         "yaxis": "y"
        },
        {
         "base": 58164.01,
         "marker": {
          "color": "darkgray",
          "line": {
           "width": 0
          }
         },
         "showlegend": false,
         "type": "bar",
         "width": 0.6,
         "x": [
          "2024-09-16T14:15:00"
         ],
         "xaxis": "x",
         "y": [
          215.98999999999796
         ],
         "yaxis": "y"
        },
        {
         "line": {
          "color": "darkgray",
          "width": 1
         },
         "mode": "lines",
         "showlegend": false,
         "type": "scatter",
         "x": [
          "2024-09-16T14:20:00",
          "2024-09-16T14:20:00"
         ],
         "xaxis": "x",
         "y": [
          58086,
          58235.03
         ],
         "yaxis": "y"
        },
        {
         "base": 58116,
         "marker": {
          "color": "darkgray",
          "line": {
           "width": 0
          }
         },
         "showlegend": false,
         "type": "bar",
         "width": 0.6,
         "x": [
          "2024-09-16T14:20:00"
         ],
         "xaxis": "x",
         "y": [
          48
         ],
         "yaxis": "y"
        },
        {
         "line": {
          "color": "fuchsia",
          "width": 1
         },
         "mode": "lines",
         "showlegend": false,
         "type": "scatter",
         "x": [
          "2024-09-16T14:25:00",
          "2024-09-16T14:25:00"
         ],
         "xaxis": "x",
         "y": [
          57912,
          58170
         ],
         "yaxis": "y"
        },
        {
         "base": 57995,
         "marker": {
          "color": "fuchsia",
          "line": {
           "width": 0
          }
         },
         "showlegend": false,
         "type": "bar",
         "width": 0.6,
         "x": [
          "2024-09-16T14:25:00"
         ],
         "xaxis": "x",
         "y": [
          121.01000000000204
         ],
         "yaxis": "y"
        },
        {
         "line": {
          "color": "red",
          "width": 1
         },
         "mode": "lines",
         "showlegend": false,
         "type": "scatter",
         "x": [
          "2024-09-16T14:30:00",
          "2024-09-16T14:30:00"
         ],
         "xaxis": "x",
         "y": [
          57585.67,
          58008
         ],
         "yaxis": "y"
        },
        {
         "base": 57659.99,
         "marker": {
          "color": "red",
          "line": {
           "width": 0
          }
         },
         "showlegend": false,
         "type": "bar",
         "width": 0.6,
         "x": [
          "2024-09-16T14:30:00"
         ],
         "xaxis": "x",
         "y": [
          335.01000000000204
         ],
         "yaxis": "y"
        },
        {
         "line": {
          "color": "gray",
          "width": 1
         },
         "mode": "lines",
         "showlegend": false,
         "type": "scatter",
         "x": [
          "2024-09-16T14:35:00",
          "2024-09-16T14:35:00"
         ],
         "xaxis": "x",
         "y": [
          57586,
          57756.45
         ],
         "yaxis": "y"
        },
        {
         "base": 57660,
         "marker": {
          "color": "gray",
          "line": {
           "width": 0
          }
         },
         "showlegend": false,
         "type": "bar",
         "width": 0.6,
         "x": [
          "2024-09-16T14:35:00"
         ],
         "xaxis": "x",
         "y": [
          76.04000000000087
         ],
         "yaxis": "y"
        },
        {
         "line": {
          "color": "gray",
          "width": 1
         },
         "mode": "lines",
         "showlegend": false,
         "type": "scatter",
         "x": [
          "2024-09-16T14:40:00",
          "2024-09-16T14:40:00"
         ],
         "xaxis": "x",
         "y": [
          57706,
          57842
         ],
         "yaxis": "y"
        },
        {
         "base": 57736.05,
         "marker": {
          "color": "gray",
          "line": {
           "width": 0
          }
         },
         "showlegend": false,
         "type": "bar",
         "width": 0.6,
         "x": [
          "2024-09-16T14:40:00"
         ],
         "xaxis": "x",
         "y": [
          31.939999999995052
         ],
         "yaxis": "y"
        },
        {
         "line": {
          "color": "darkgray",
          "width": 1
         },
         "mode": "lines",
         "showlegend": false,
         "type": "scatter",
         "x": [
          "2024-09-16T14:45:00",
          "2024-09-16T14:45:00"
         ],
         "xaxis": "x",
         "y": [
          57587.78,
          57793.6
         ],
         "yaxis": "y"
        },
        {
         "base": 57690.02,
         "marker": {
          "color": "darkgray",
          "line": {
           "width": 0
          }
         },
         "showlegend": false,
         "type": "bar",
         "width": 0.6,
         "x": [
          "2024-09-16T14:45:00"
         ],
         "xaxis": "x",
         "y": [
          77.97000000000116
         ],
         "yaxis": "y"
        },
        {
         "line": {
          "color": "darkgray",
          "width": 1
         },
         "mode": "lines",
         "showlegend": false,
         "type": "scatter",
         "x": [
          "2024-09-16T14:50:00",
          "2024-09-16T14:50:00"
         ],
         "xaxis": "x",
         "y": [
          57642,
          57797.99
         ],
         "yaxis": "y"
        },
        {
         "base": 57658.03,
         "marker": {
          "color": "darkgray",
          "line": {
           "width": 0
          }
         },
         "showlegend": false,
         "type": "bar",
         "width": 0.6,
         "x": [
          "2024-09-16T14:50:00"
         ],
         "xaxis": "x",
         "y": [
          31.989999999997963
         ],
         "yaxis": "y"
        },
        {
         "line": {
          "color": "darkgray",
          "width": 1
         },
         "mode": "lines",
         "showlegend": false,
         "type": "scatter",
         "x": [
          "2024-09-16T14:55:00",
          "2024-09-16T14:55:00"
         ],
         "xaxis": "x",
         "y": [
          57555,
          57693.55
         ],
         "yaxis": "y"
        },
        {
         "base": 57604,
         "marker": {
          "color": "darkgray",
          "line": {
           "width": 0
          }
         },
         "showlegend": false,
         "type": "bar",
         "width": 0.6,
         "x": [
          "2024-09-16T14:55:00"
         ],
         "xaxis": "x",
         "y": [
          54.04000000000087
         ],
         "yaxis": "y"
        },
        {
         "line": {
          "color": "gray",
          "width": 1
         },
         "mode": "lines",
         "showlegend": false,
         "type": "scatter",
         "x": [
          "2024-09-16T15:00:00",
          "2024-09-16T15:00:00"
         ],
         "xaxis": "x",
         "y": [
          57553.38,
          57670
         ],
         "yaxis": "y"
        },
        {
         "base": 57604,
         "marker": {
          "color": "gray",
          "line": {
           "width": 0
          }
         },
         "showlegend": false,
         "type": "bar",
         "width": 0.6,
         "x": [
          "2024-09-16T15:00:00"
         ],
         "xaxis": "x",
         "y": [
          33.9800000000032
         ],
         "yaxis": "y"
        },
        {
         "line": {
          "color": "gray",
          "width": 1
         },
         "mode": "lines",
         "showlegend": false,
         "type": "scatter",
         "x": [
          "2024-09-16T15:05:00",
          "2024-09-16T15:05:00"
         ],
         "xaxis": "x",
         "y": [
          57632,
          57816
         ],
         "yaxis": "y"
        },
        {
         "base": 57637.98,
         "marker": {
          "color": "gray",
          "line": {
           "width": 0
          }
         },
         "showlegend": false,
         "type": "bar",
         "width": 0.6,
         "x": [
          "2024-09-16T15:05:00"
         ],
         "xaxis": "x",
         "y": [
          158.07999999999447
         ],
         "yaxis": "y"
        },
        {
         "line": {
          "color": "gray",
          "width": 1
         },
         "mode": "lines",
         "showlegend": false,
         "type": "scatter",
         "x": [
          "2024-09-16T15:10:00",
          "2024-09-16T15:10:00"
         ],
         "xaxis": "x",
         "y": [
          57796.06,
          57911.1
         ],
         "yaxis": "y"
        },
        {
         "base": 57796.06,
         "marker": {
          "color": "gray",
          "line": {
           "width": 0
          }
         },
         "showlegend": false,
         "type": "bar",
         "width": 0.6,
         "x": [
          "2024-09-16T15:10:00"
         ],
         "xaxis": "x",
         "y": [
          43.94000000000233
         ],
         "yaxis": "y"
        },
        {
         "line": {
          "color": "gray",
          "width": 1
         },
         "mode": "lines",
         "showlegend": false,
         "type": "scatter",
         "x": [
          "2024-09-16T15:15:00",
          "2024-09-16T15:15:00"
         ],
         "xaxis": "x",
         "y": [
          57804.95,
          57921.1
         ],
         "yaxis": "y"
        },
        {
         "base": 57840.01,
         "marker": {
          "color": "gray",
          "line": {
           "width": 0
          }
         },
         "showlegend": false,
         "type": "bar",
         "width": 0.6,
         "x": [
          "2024-09-16T15:15:00"
         ],
         "xaxis": "x",
         "y": [
          52
         ],
         "yaxis": "y"
        },
        {
         "line": {
          "color": "gray",
          "width": 1
         },
         "mode": "lines",
         "showlegend": false,
         "type": "scatter",
         "x": [
          "2024-09-16T15:20:00",
          "2024-09-16T15:20:00"
         ],
         "xaxis": "x",
         "y": [
          57886,
          57970
         ],
         "yaxis": "y"
        },
        {
         "base": 57892,
         "marker": {
          "color": "gray",
          "line": {
           "width": 0
          }
         },
         "showlegend": false,
         "type": "bar",
         "width": 0.6,
         "x": [
          "2024-09-16T15:20:00"
         ],
         "xaxis": "x",
         "y": [
          78
         ],
         "yaxis": "y"
        },
        {
         "line": {
          "color": "darkgray",
          "width": 1
         },
         "mode": "lines",
         "showlegend": false,
         "type": "scatter",
         "x": [
          "2024-09-16T15:25:00",
          "2024-09-16T15:25:00"
         ],
         "xaxis": "x",
         "y": [
          57878.2,
          57978.52
         ],
         "yaxis": "y"
        },
        {
         "base": 57924.83,
         "marker": {
          "color": "darkgray",
          "line": {
           "width": 0
          }
         },
         "showlegend": false,
         "type": "bar",
         "width": 0.6,
         "x": [
          "2024-09-16T15:25:00"
         ],
         "xaxis": "x",
         "y": [
          45.15999999999622
         ],
         "yaxis": "y"
        },
        {
         "line": {
          "color": "gray",
          "width": 1
         },
         "mode": "lines",
         "showlegend": false,
         "type": "scatter",
         "x": [
          "2024-09-16T15:30:00",
          "2024-09-16T15:30:00"
         ],
         "xaxis": "x",
         "y": [
          57914,
          57999.99
         ],
         "yaxis": "y"
        },
        {
         "base": 57924.83,
         "marker": {
          "color": "gray",
          "line": {
           "width": 0
          }
         },
         "showlegend": false,
         "type": "bar",
         "width": 0.6,
         "x": [
          "2024-09-16T15:30:00"
         ],
         "xaxis": "x",
         "y": [
          75.15999999999622
         ],
         "yaxis": "y"
        },
        {
         "line": {
          "color": "darkgray",
          "width": 1
         },
         "mode": "lines",
         "showlegend": false,
         "type": "scatter",
         "x": [
          "2024-09-16T15:35:00",
          "2024-09-16T15:35:00"
         ],
         "xaxis": "x",
         "y": [
          57851.03,
          58000
         ],
         "yaxis": "y"
        },
        {
         "base": 57890.01,
         "marker": {
          "color": "darkgray",
          "line": {
           "width": 0
          }
         },
         "showlegend": false,
         "type": "bar",
         "width": 0.6,
         "x": [
          "2024-09-16T15:35:00"
         ],
         "xaxis": "x",
         "y": [
          109.97999999999593
         ],
         "yaxis": "y"
        },
        {
         "line": {
          "color": "darkgray",
          "width": 1
         },
         "mode": "lines",
         "showlegend": false,
         "type": "scatter",
         "x": [
          "2024-09-16T15:40:00",
          "2024-09-16T15:40:00"
         ],
         "xaxis": "x",
         "y": [
          57811.51,
          57893.92
         ],
         "yaxis": "y"
        },
        {
         "base": 57826.39,
         "marker": {
          "color": "darkgray",
          "line": {
           "width": 0
          }
         },
         "showlegend": false,
         "type": "bar",
         "width": 0.6,
         "x": [
          "2024-09-16T15:40:00"
         ],
         "xaxis": "x",
         "y": [
          63.62000000000262
         ],
         "yaxis": "y"
        },
        {
         "line": {
          "color": "gray",
          "width": 1
         },
         "mode": "lines",
         "showlegend": false,
         "type": "scatter",
         "x": [
          "2024-09-16T15:45:00",
          "2024-09-16T15:45:00"
         ],
         "xaxis": "x",
         "y": [
          57744.85,
          57921.1
         ],
         "yaxis": "y"
        },
        {
         "base": 57826.39,
         "marker": {
          "color": "gray",
          "line": {
           "width": 0
          }
         },
         "showlegend": false,
         "type": "bar",
         "width": 0.6,
         "x": [
          "2024-09-16T15:45:00"
         ],
         "xaxis": "x",
         "y": [
          94.69999999999709
         ],
         "yaxis": "y"
        },
        {
         "line": {
          "color": "gray",
          "width": 1
         },
         "mode": "lines",
         "showlegend": false,
         "type": "scatter",
         "x": [
          "2024-09-16T15:50:00",
          "2024-09-16T15:50:00"
         ],
         "xaxis": "x",
         "y": [
          57858,
          57989
         ],
         "yaxis": "y"
        },
        {
         "base": 57921.09,
         "marker": {
          "color": "gray",
          "line": {
           "width": 0
          }
         },
         "showlegend": false,
         "type": "bar",
         "width": 0.6,
         "x": [
          "2024-09-16T15:50:00"
         ],
         "xaxis": "x",
         "y": [
          62.91000000000349
         ],
         "yaxis": "y"
        },
        {
         "line": {
          "color": "darkgray",
          "width": 1
         },
         "mode": "lines",
         "showlegend": false,
         "type": "scatter",
         "x": [
          "2024-09-16T15:55:00",
          "2024-09-16T15:55:00"
         ],
         "xaxis": "x",
         "y": [
          57869.52,
          57989
         ],
         "yaxis": "y"
        },
        {
         "base": 57881.69,
         "marker": {
          "color": "darkgray",
          "line": {
           "width": 0
          }
         },
         "showlegend": false,
         "type": "bar",
         "width": 0.6,
         "x": [
          "2024-09-16T15:55:00"
         ],
         "xaxis": "x",
         "y": [
          102.31999999999971
         ],
         "yaxis": "y"
        },
        {
         "line": {
          "color": "darkgray",
          "width": 1
         },
         "mode": "lines",
         "showlegend": false,
         "type": "scatter",
         "x": [
          "2024-09-16T16:00:00",
          "2024-09-16T16:00:00"
         ],
         "xaxis": "x",
         "y": [
          57820,
          57926.63
         ],
         "yaxis": "y"
        },
        {
         "base": 57833.99,
         "marker": {
          "color": "darkgray",
          "line": {
           "width": 0
          }
         },
         "showlegend": false,
         "type": "bar",
         "width": 0.6,
         "x": [
          "2024-09-16T16:00:00"
         ],
         "xaxis": "x",
         "y": [
          47.70999999999913
         ],
         "yaxis": "y"
        },
        {
         "line": {
          "color": "gray",
          "width": 1
         },
         "mode": "lines",
         "showlegend": false,
         "type": "scatter",
         "x": [
          "2024-09-16T16:05:00",
          "2024-09-16T16:05:00"
         ],
         "xaxis": "x",
         "y": [
          57794,
          57928.73
         ],
         "yaxis": "y"
        },
        {
         "base": 57833.99,
         "marker": {
          "color": "gray",
          "line": {
           "width": 0
          }
         },
         "showlegend": false,
         "type": "bar",
         "width": 0.6,
         "x": [
          "2024-09-16T16:05:00"
         ],
         "xaxis": "x",
         "y": [
          64.01000000000204
         ],
         "yaxis": "y"
        },
        {
         "line": {
          "color": "darkgray",
          "width": 1
         },
         "mode": "lines",
         "showlegend": false,
         "type": "scatter",
         "x": [
          "2024-09-16T16:10:00",
          "2024-09-16T16:10:00"
         ],
         "xaxis": "x",
         "y": [
          57780,
          57921.81
         ],
         "yaxis": "y"
        },
        {
         "base": 57827.99,
         "marker": {
          "color": "darkgray",
          "line": {
           "width": 0
          }
         },
         "showlegend": false,
         "type": "bar",
         "width": 0.6,
         "x": [
          "2024-09-16T16:10:00"
         ],
         "xaxis": "x",
         "y": [
          70.02000000000407
         ],
         "yaxis": "y"
        },
        {
         "line": {
          "color": "darkgray",
          "width": 1
         },
         "mode": "lines",
         "showlegend": false,
         "type": "scatter",
         "x": [
          "2024-09-16T16:15:00",
          "2024-09-16T16:15:00"
         ],
         "xaxis": "x",
         "y": [
          57711.84,
          57866
         ],
         "yaxis": "y"
        },
        {
         "base": 57792,
         "marker": {
          "color": "darkgray",
          "line": {
           "width": 0
          }
         },
         "showlegend": false,
         "type": "bar",
         "width": 0.6,
         "x": [
          "2024-09-16T16:15:00"
         ],
         "xaxis": "x",
         "y": [
          36
         ],
         "yaxis": "y"
        },
        {
         "line": {
          "color": "gray",
          "width": 1
         },
         "mode": "lines",
         "showlegend": false,
         "type": "scatter",
         "x": [
          "2024-09-16T16:20:00",
          "2024-09-16T16:20:00"
         ],
         "xaxis": "x",
         "y": [
          57732.74,
          57819.99
         ],
         "yaxis": "y"
        },
        {
         "base": 57791.99,
         "marker": {
          "color": "gray",
          "line": {
           "width": 0
          }
         },
         "showlegend": false,
         "type": "bar",
         "width": 0.6,
         "x": [
          "2024-09-16T16:20:00"
         ],
         "xaxis": "x",
         "y": [
          1.2300000000032014
         ],
         "yaxis": "y"
        },
        {
         "line": {
          "color": "gray",
          "width": 1
         },
         "mode": "lines",
         "showlegend": false,
         "type": "scatter",
         "x": [
          "2024-09-16T16:25:00",
          "2024-09-16T16:25:00"
         ],
         "xaxis": "x",
         "y": [
          57784,
          57951.86
         ],
         "yaxis": "y"
        },
        {
         "base": 57793.22,
         "marker": {
          "color": "gray",
          "line": {
           "width": 0
          }
         },
         "showlegend": false,
         "type": "bar",
         "width": 0.6,
         "x": [
          "2024-09-16T16:25:00"
         ],
         "xaxis": "x",
         "y": [
          116.77999999999884
         ],
         "yaxis": "y"
        },
        {
         "line": {
          "color": "darkgray",
          "width": 1
         },
         "mode": "lines",
         "showlegend": false,
         "type": "scatter",
         "x": [
          "2024-09-16T16:30:00",
          "2024-09-16T16:30:00"
         ],
         "xaxis": "x",
         "y": [
          57780,
          57921.1
         ],
         "yaxis": "y"
        },
        {
         "base": 57815.89,
         "marker": {
          "color": "darkgray",
          "line": {
           "width": 0
          }
         },
         "showlegend": false,
         "type": "bar",
         "width": 0.6,
         "x": [
          "2024-09-16T16:30:00"
         ],
         "xaxis": "x",
         "y": [
          94.11000000000058
         ],
         "yaxis": "y"
        },
        {
         "line": {
          "color": "darkgray",
          "width": 1
         },
         "mode": "lines",
         "showlegend": false,
         "type": "scatter",
         "x": [
          "2024-09-16T16:35:00",
          "2024-09-16T16:35:00"
         ],
         "xaxis": "x",
         "y": [
          57758,
          57850
         ],
         "yaxis": "y"
        },
        {
         "base": 57815.89,
         "marker": {
          "color": "darkgray",
          "line": {
           "width": 0
          }
         },
         "showlegend": false,
         "type": "bar",
         "width": 0.6,
         "x": [
          "2024-09-16T16:35:00"
         ],
         "xaxis": "x",
         "y": [
          0.010000000002037268
         ],
         "yaxis": "y"
        },
        {
         "line": {
          "color": "darkgray",
          "width": 1
         },
         "mode": "lines",
         "showlegend": false,
         "type": "scatter",
         "x": [
          "2024-09-16T16:40:00",
          "2024-09-16T16:40:00"
         ],
         "xaxis": "x",
         "y": [
          57750,
          57818.17
         ],
         "yaxis": "y"
        },
        {
         "base": 57751.94,
         "marker": {
          "color": "darkgray",
          "line": {
           "width": 0
          }
         },
         "showlegend": false,
         "type": "bar",
         "width": 0.6,
         "x": [
          "2024-09-16T16:40:00"
         ],
         "xaxis": "x",
         "y": [
          63.93999999999505
         ],
         "yaxis": "y"
        },
        {
         "line": {
          "color": "darkgray",
          "width": 1
         },
         "mode": "lines",
         "showlegend": false,
         "type": "scatter",
         "x": [
          "2024-09-16T16:45:00",
          "2024-09-16T16:45:00"
         ],
         "xaxis": "x",
         "y": [
          57676.93,
          57796.88
         ],
         "yaxis": "y"
        },
        {
         "base": 57751.1,
         "marker": {
          "color": "darkgray",
          "line": {
           "width": 0
          }
         },
         "showlegend": false,
         "type": "bar",
         "width": 0.6,
         "x": [
          "2024-09-16T16:45:00"
         ],
         "xaxis": "x",
         "y": [
          0.8400000000037835
         ],
         "yaxis": "y"
        },
        {
         "line": {
          "color": "lime",
          "width": 1
         },
         "mode": "lines",
         "showlegend": false,
         "type": "scatter",
         "x": [
          "2024-09-16T16:50:00",
          "2024-09-16T16:50:00"
         ],
         "xaxis": "x",
         "y": [
          57706.31,
          57842.94
         ],
         "yaxis": "y"
        },
        {
         "base": 57751.09,
         "marker": {
          "color": "lime",
          "line": {
           "width": 0
          }
         },
         "showlegend": false,
         "type": "bar",
         "width": 0.6,
         "x": [
          "2024-09-16T16:50:00"
         ],
         "xaxis": "x",
         "y": [
          91.78000000000611
         ],
         "yaxis": "y"
        },
        {
         "line": {
          "color": "red",
          "width": 1
         },
         "mode": "lines",
         "showlegend": false,
         "type": "scatter",
         "x": [
          "2024-09-16T16:55:00",
          "2024-09-16T16:55:00"
         ],
         "xaxis": "x",
         "y": [
          57794,
          57899.76
         ],
         "yaxis": "y"
        },
        {
         "base": 57809.98,
         "marker": {
          "color": "red",
          "line": {
           "width": 0
          }
         },
         "showlegend": false,
         "type": "bar",
         "width": 0.6,
         "x": [
          "2024-09-16T16:55:00"
         ],
         "xaxis": "x",
         "y": [
          32.87999999999738
         ],
         "yaxis": "y"
        },
        {
         "line": {
          "color": "darkgray",
          "width": 1
         },
         "mode": "lines",
         "showlegend": false,
         "type": "scatter",
         "x": [
          "2024-09-16T17:00:00",
          "2024-09-16T17:00:00"
         ],
         "xaxis": "x",
         "y": [
          57682.22,
          57819.62
         ],
         "yaxis": "y"
        },
        {
         "base": 57682.23,
         "marker": {
          "color": "darkgray",
          "line": {
           "width": 0
          }
         },
         "showlegend": false,
         "type": "bar",
         "width": 0.6,
         "x": [
          "2024-09-16T17:00:00"
         ],
         "xaxis": "x",
         "y": [
          127.75
         ],
         "yaxis": "y"
        },
        {
         "line": {
          "color": "darkgray",
          "width": 1
         },
         "mode": "lines",
         "showlegend": false,
         "type": "scatter",
         "x": [
          "2024-09-16T17:05:00",
          "2024-09-16T17:05:00"
         ],
         "xaxis": "x",
         "y": [
          57631.1,
          57717.99
         ],
         "yaxis": "y"
        },
        {
         "base": 57648,
         "marker": {
          "color": "darkgray",
          "line": {
           "width": 0
          }
         },
         "showlegend": false,
         "type": "bar",
         "width": 0.6,
         "x": [
          "2024-09-16T17:05:00"
         ],
         "xaxis": "x",
         "y": [
          34.220000000001164
         ],
         "yaxis": "y"
        },
        {
         "line": {
          "color": "red",
          "width": 1
         },
         "mode": "lines",
         "showlegend": false,
         "type": "scatter",
         "x": [
          "2024-09-16T17:10:00",
          "2024-09-16T17:10:00"
         ],
         "xaxis": "x",
         "y": [
          57493.3,
          57651.1
         ],
         "yaxis": "y"
        },
        {
         "base": 57582,
         "marker": {
          "color": "red",
          "line": {
           "width": 0
          }
         },
         "showlegend": false,
         "type": "bar",
         "width": 0.6,
         "x": [
          "2024-09-16T17:10:00"
         ],
         "xaxis": "x",
         "y": [
          66.01000000000204
         ],
         "yaxis": "y"
        },
        {
         "line": {
          "color": "gray",
          "width": 1
         },
         "mode": "lines",
         "showlegend": false,
         "type": "scatter",
         "x": [
          "2024-09-16T17:15:00",
          "2024-09-16T17:15:00"
         ],
         "xaxis": "x",
         "y": [
          57571.04,
          57739.43
         ],
         "yaxis": "y"
        },
        {
         "base": 57581.99,
         "marker": {
          "color": "gray",
          "line": {
           "width": 0
          }
         },
         "showlegend": false,
         "type": "bar",
         "width": 0.6,
         "x": [
          "2024-09-16T17:15:00"
         ],
         "xaxis": "x",
         "y": [
          14.010000000002037
         ],
         "yaxis": "y"
        },
        {
         "line": {
          "color": "gray",
          "width": 1
         },
         "mode": "lines",
         "showlegend": false,
         "type": "scatter",
         "x": [
          "2024-09-16T17:20:00",
          "2024-09-16T17:20:00"
         ],
         "xaxis": "x",
         "y": [
          57526.27,
          57691.86
         ],
         "yaxis": "y"
        },
        {
         "base": 57596.66,
         "marker": {
          "color": "gray",
          "line": {
           "width": 0
          }
         },
         "showlegend": false,
         "type": "bar",
         "width": 0.6,
         "x": [
          "2024-09-16T17:20:00"
         ],
         "xaxis": "x",
         "y": [
          93.33999999999651
         ],
         "yaxis": "y"
        },
        {
         "line": {
          "color": "gray",
          "width": 1
         },
         "mode": "lines",
         "showlegend": false,
         "type": "scatter",
         "x": [
          "2024-09-16T17:25:00",
          "2024-09-16T17:25:00"
         ],
         "xaxis": "x",
         "y": [
          57611.1,
          57739.92
         ],
         "yaxis": "y"
        },
        {
         "base": 57690,
         "marker": {
          "color": "gray",
          "line": {
           "width": 0
          }
         },
         "showlegend": false,
         "type": "bar",
         "width": 0.6,
         "x": [
          "2024-09-16T17:25:00"
         ],
         "xaxis": "x",
         "y": [
          1.0899999999965075
         ],
         "yaxis": "y"
        },
        {
         "line": {
          "color": "darkgray",
          "width": 1
         },
         "mode": "lines",
         "showlegend": false,
         "type": "scatter",
         "x": [
          "2024-09-16T17:30:00",
          "2024-09-16T17:30:00"
         ],
         "xaxis": "x",
         "y": [
          57518.88,
          57710
         ],
         "yaxis": "y"
        },
        {
         "base": 57592,
         "marker": {
          "color": "darkgray",
          "line": {
           "width": 0
          }
         },
         "showlegend": false,
         "type": "bar",
         "width": 0.6,
         "x": [
          "2024-09-16T17:30:00"
         ],
         "xaxis": "x",
         "y": [
          99.09999999999854
         ],
         "yaxis": "y"
        },
        {
         "line": {
          "color": "gray",
          "width": 1
         },
         "mode": "lines",
         "showlegend": false,
         "type": "scatter",
         "x": [
          "2024-09-16T17:35:00",
          "2024-09-16T17:35:00"
         ],
         "xaxis": "x",
         "y": [
          57520,
          57687.99
         ],
         "yaxis": "y"
        },
        {
         "base": 57592,
         "marker": {
          "color": "gray",
          "line": {
           "width": 0
          }
         },
         "showlegend": false,
         "type": "bar",
         "width": 0.6,
         "x": [
          "2024-09-16T17:35:00"
         ],
         "xaxis": "x",
         "y": [
          86
         ],
         "yaxis": "y"
        },
        {
         "line": {
          "color": "lime",
          "width": 1
         },
         "mode": "lines",
         "showlegend": false,
         "type": "scatter",
         "x": [
          "2024-09-16T17:40:00",
          "2024-09-16T17:40:00"
         ],
         "xaxis": "x",
         "y": [
          57620.51,
          57941.71
         ],
         "yaxis": "y"
        },
        {
         "base": 57678.01,
         "marker": {
          "color": "lime",
          "line": {
           "width": 0
          }
         },
         "showlegend": false,
         "type": "bar",
         "width": 0.6,
         "x": [
          "2024-09-16T17:40:00"
         ],
         "xaxis": "x",
         "y": [
          174.40999999999622
         ],
         "yaxis": "y"
        },
        {
         "line": {
          "color": "lime",
          "width": 1
         },
         "mode": "lines",
         "showlegend": false,
         "type": "scatter",
         "x": [
          "2024-09-16T17:45:00",
          "2024-09-16T17:45:00"
         ],
         "xaxis": "x",
         "y": [
          57852.42,
          58045.09
         ],
         "yaxis": "y"
        },
        {
         "base": 57852.42,
         "marker": {
          "color": "lime",
          "line": {
           "width": 0
          }
         },
         "showlegend": false,
         "type": "bar",
         "width": 0.6,
         "x": [
          "2024-09-16T17:45:00"
         ],
         "xaxis": "x",
         "y": [
          134.19000000000233
         ],
         "yaxis": "y"
        },
        {
         "line": {
          "color": "gray",
          "width": 1
         },
         "mode": "lines",
         "showlegend": false,
         "type": "scatter",
         "x": [
          "2024-09-16T17:50:00",
          "2024-09-16T17:50:00"
         ],
         "xaxis": "x",
         "y": [
          57980.18,
          58150
         ],
         "yaxis": "y"
        },
        {
         "base": 57986.6,
         "marker": {
          "color": "gray",
          "line": {
           "width": 0
          }
         },
         "showlegend": false,
         "type": "bar",
         "width": 0.6,
         "x": [
          "2024-09-16T17:50:00"
         ],
         "xaxis": "x",
         "y": [
          158.36000000000058
         ],
         "yaxis": "y"
        },
        {
         "line": {
          "color": "gray",
          "width": 1
         },
         "mode": "lines",
         "showlegend": false,
         "type": "scatter",
         "x": [
          "2024-09-16T17:55:00",
          "2024-09-16T17:55:00"
         ],
         "xaxis": "x",
         "y": [
          58108.02,
          58263.84
         ],
         "yaxis": "y"
        },
        {
         "base": 58144.95,
         "marker": {
          "color": "gray",
          "line": {
           "width": 0
          }
         },
         "showlegend": false,
         "type": "bar",
         "width": 0.6,
         "x": [
          "2024-09-16T17:55:00"
         ],
         "xaxis": "x",
         "y": [
          31.060000000004948
         ],
         "yaxis": "y"
        },
        {
         "line": {
          "color": "fuchsia",
          "width": 1
         },
         "mode": "lines",
         "showlegend": false,
         "type": "scatter",
         "x": [
          "2024-09-16T18:00:00",
          "2024-09-16T18:00:00"
         ],
         "xaxis": "x",
         "y": [
          58013.4,
          58192
         ],
         "yaxis": "y"
        },
        {
         "base": 58056.01,
         "marker": {
          "color": "fuchsia",
          "line": {
           "width": 0
          }
         },
         "showlegend": false,
         "type": "bar",
         "width": 0.6,
         "x": [
          "2024-09-16T18:00:00"
         ],
         "xaxis": "x",
         "y": [
          119.98999999999796
         ],
         "yaxis": "y"
        },
        {
         "line": {
          "color": "darkgray",
          "width": 1
         },
         "mode": "lines",
         "showlegend": false,
         "type": "scatter",
         "x": [
          "2024-09-16T18:05:00",
          "2024-09-16T18:05:00"
         ],
         "xaxis": "x",
         "y": [
          57982,
          58090
         ],
         "yaxis": "y"
        },
        {
         "base": 58045.99,
         "marker": {
          "color": "darkgray",
          "line": {
           "width": 0
          }
         },
         "showlegend": false,
         "type": "bar",
         "width": 0.6,
         "x": [
          "2024-09-16T18:05:00"
         ],
         "xaxis": "x",
         "y": [
          10.020000000004075
         ],
         "yaxis": "y"
        },
        {
         "line": {
          "color": "red",
          "width": 1
         },
         "mode": "lines",
         "showlegend": false,
         "type": "scatter",
         "x": [
          "2024-09-16T18:10:00",
          "2024-09-16T18:10:00"
         ],
         "xaxis": "x",
         "y": [
          57726,
          58080
         ],
         "yaxis": "y"
        },
        {
         "base": 57726,
         "marker": {
          "color": "red",
          "line": {
           "width": 0
          }
         },
         "showlegend": false,
         "type": "bar",
         "width": 0.6,
         "x": [
          "2024-09-16T18:10:00"
         ],
         "xaxis": "x",
         "y": [
          320
         ],
         "yaxis": "y"
        },
        {
         "line": {
          "color": "gray",
          "width": 1
         },
         "mode": "lines",
         "showlegend": false,
         "type": "scatter",
         "x": [
          "2024-09-16T18:15:00",
          "2024-09-16T18:15:00"
         ],
         "xaxis": "x",
         "y": [
          57726,
          57850
         ],
         "yaxis": "y"
        },
        {
         "base": 57726,
         "marker": {
          "color": "gray",
          "line": {
           "width": 0
          }
         },
         "showlegend": false,
         "type": "bar",
         "width": 0.6,
         "x": [
          "2024-09-16T18:15:00"
         ],
         "xaxis": "x",
         "y": [
          12.360000000000582
         ],
         "yaxis": "y"
        },
        {
         "line": {
          "color": "gray",
          "width": 1
         },
         "mode": "lines",
         "showlegend": false,
         "type": "scatter",
         "x": [
          "2024-09-16T18:20:00",
          "2024-09-16T18:20:00"
         ],
         "xaxis": "x",
         "y": [
          57738.36,
          57839
         ],
         "yaxis": "y"
        },
        {
         "base": 57738.36,
         "marker": {
          "color": "gray",
          "line": {
           "width": 0
          }
         },
         "showlegend": false,
         "type": "bar",
         "width": 0.6,
         "x": [
          "2024-09-16T18:20:00"
         ],
         "xaxis": "x",
         "y": [
          60.0199999999968
         ],
         "yaxis": "y"
        },
        {
         "line": {
          "color": "darkgray",
          "width": 1
         },
         "mode": "lines",
         "showlegend": false,
         "type": "scatter",
         "x": [
          "2024-09-16T18:25:00",
          "2024-09-16T18:25:00"
         ],
         "xaxis": "x",
         "y": [
          57770,
          57830.81
         ],
         "yaxis": "y"
        },
        {
         "base": 57780,
         "marker": {
          "color": "darkgray",
          "line": {
           "width": 0
          }
         },
         "showlegend": false,
         "type": "bar",
         "width": 0.6,
         "x": [
          "2024-09-16T18:25:00"
         ],
         "xaxis": "x",
         "y": [
          18.389999999999418
         ],
         "yaxis": "y"
        },
        {
         "line": {
          "color": "gray",
          "width": 1
         },
         "mode": "lines",
         "showlegend": false,
         "type": "scatter",
         "x": [
          "2024-09-16T18:30:00",
          "2024-09-16T18:30:00"
         ],
         "xaxis": "x",
         "y": [
          57778,
          57908.62
         ],
         "yaxis": "y"
        },
        {
         "base": 57780.01,
         "marker": {
          "color": "gray",
          "line": {
           "width": 0
          }
         },
         "showlegend": false,
         "type": "bar",
         "width": 0.6,
         "x": [
          "2024-09-16T18:30:00"
         ],
         "xaxis": "x",
         "y": [
          84
         ],
         "yaxis": "y"
        },
        {
         "line": {
          "color": "darkgray",
          "width": 1
         },
         "mode": "lines",
         "showlegend": false,
         "type": "scatter",
         "x": [
          "2024-09-16T18:35:00",
          "2024-09-16T18:35:00"
         ],
         "xaxis": "x",
         "y": [
          57806,
          57877.04
         ],
         "yaxis": "y"
        },
        {
         "base": 57826.05,
         "marker": {
          "color": "darkgray",
          "line": {
           "width": 0
          }
         },
         "showlegend": false,
         "type": "bar",
         "width": 0.6,
         "x": [
          "2024-09-16T18:35:00"
         ],
         "xaxis": "x",
         "y": [
          37.95999999999913
         ],
         "yaxis": "y"
        },
        {
         "line": {
          "color": "darkgray",
          "width": 1
         },
         "mode": "lines",
         "showlegend": false,
         "type": "scatter",
         "x": [
          "2024-09-16T18:40:00",
          "2024-09-16T18:40:00"
         ],
         "xaxis": "x",
         "y": [
          57706,
          57840
         ],
         "yaxis": "y"
        },
        {
         "base": 57708,
         "marker": {
          "color": "darkgray",
          "line": {
           "width": 0
          }
         },
         "showlegend": false,
         "type": "bar",
         "width": 0.6,
         "x": [
          "2024-09-16T18:40:00"
         ],
         "xaxis": "x",
         "y": [
          118.04000000000087
         ],
         "yaxis": "y"
        },
        {
         "line": {
          "color": "gray",
          "width": 1
         },
         "mode": "lines",
         "showlegend": false,
         "type": "scatter",
         "x": [
          "2024-09-16T18:45:00",
          "2024-09-16T18:45:00"
         ],
         "xaxis": "x",
         "y": [
          57701.56,
          57821.1
         ],
         "yaxis": "y"
        },
        {
         "base": 57708,
         "marker": {
          "color": "gray",
          "line": {
           "width": 0
          }
         },
         "showlegend": false,
         "type": "bar",
         "width": 0.6,
         "x": [
          "2024-09-16T18:45:00"
         ],
         "xaxis": "x",
         "y": [
          113.09999999999854
         ],
         "yaxis": "y"
        },
        {
         "line": {
          "color": "darkgray",
          "width": 1
         },
         "mode": "lines",
         "showlegend": false,
         "type": "scatter",
         "x": [
          "2024-09-16T18:50:00",
          "2024-09-16T18:50:00"
         ],
         "xaxis": "x",
         "y": [
          57770,
          57880.17
         ],
         "yaxis": "y"
        },
        {
         "base": 57770.17,
         "marker": {
          "color": "darkgray",
          "line": {
           "width": 0
          }
         },
         "showlegend": false,
         "type": "bar",
         "width": 0.6,
         "x": [
          "2024-09-16T18:50:00"
         ],
         "xaxis": "x",
         "y": [
          50.93000000000029
         ],
         "yaxis": "y"
        },
        {
         "line": {
          "color": "gray",
          "width": 1
         },
         "mode": "lines",
         "showlegend": false,
         "type": "scatter",
         "x": [
          "2024-09-16T18:55:00",
          "2024-09-16T18:55:00"
         ],
         "xaxis": "x",
         "y": [
          57748.35,
          57896
         ],
         "yaxis": "y"
        },
        {
         "base": 57770.17,
         "marker": {
          "color": "gray",
          "line": {
           "width": 0
          }
         },
         "showlegend": false,
         "type": "bar",
         "width": 0.6,
         "x": [
          "2024-09-16T18:55:00"
         ],
         "xaxis": "x",
         "y": [
          125.83000000000175
         ],
         "yaxis": "y"
        },
        {
         "line": {
          "color": "darkgray",
          "width": 1
         },
         "mode": "lines",
         "showlegend": false,
         "type": "scatter",
         "x": [
          "2024-09-16T19:00:00",
          "2024-09-16T19:00:00"
         ],
         "xaxis": "x",
         "y": [
          57834,
          57910.71
         ],
         "yaxis": "y"
        },
        {
         "base": 57834,
         "marker": {
          "color": "darkgray",
          "line": {
           "width": 0
          }
         },
         "showlegend": false,
         "type": "bar",
         "width": 0.6,
         "x": [
          "2024-09-16T19:00:00"
         ],
         "xaxis": "x",
         "y": [
          62
         ],
         "yaxis": "y"
        },
        {
         "line": {
          "color": "gray",
          "width": 1
         },
         "mode": "lines",
         "showlegend": false,
         "type": "scatter",
         "x": [
          "2024-09-16T19:05:00",
          "2024-09-16T19:05:00"
         ],
         "xaxis": "x",
         "y": [
          57834.01,
          57974
         ],
         "yaxis": "y"
        },
        {
         "base": 57834.01,
         "marker": {
          "color": "gray",
          "line": {
           "width": 0
          }
         },
         "showlegend": false,
         "type": "bar",
         "width": 0.6,
         "x": [
          "2024-09-16T19:05:00"
         ],
         "xaxis": "x",
         "y": [
          108
         ],
         "yaxis": "y"
        },
        {
         "line": {
          "color": "darkgray",
          "width": 1
         },
         "mode": "lines",
         "showlegend": false,
         "type": "scatter",
         "x": [
          "2024-09-16T19:10:00",
          "2024-09-16T19:10:00"
         ],
         "xaxis": "x",
         "y": [
          57822,
          57958
         ],
         "yaxis": "y"
        },
        {
         "base": 57843.57,
         "marker": {
          "color": "darkgray",
          "line": {
           "width": 0
          }
         },
         "showlegend": false,
         "type": "bar",
         "width": 0.6,
         "x": [
          "2024-09-16T19:10:00"
         ],
         "xaxis": "x",
         "y": [
          98.44000000000233
         ],
         "yaxis": "y"
        },
        {
         "line": {
          "color": "gray",
          "width": 1
         },
         "mode": "lines",
         "showlegend": false,
         "type": "scatter",
         "x": [
          "2024-09-16T19:15:00",
          "2024-09-16T19:15:00"
         ],
         "xaxis": "x",
         "y": [
          57797.56,
          57889.99
         ],
         "yaxis": "y"
        },
        {
         "base": 57843.57,
         "marker": {
          "color": "gray",
          "line": {
           "width": 0
          }
         },
         "showlegend": false,
         "type": "bar",
         "width": 0.6,
         "x": [
          "2024-09-16T19:15:00"
         ],
         "xaxis": "x",
         "y": [
          12.440000000002328
         ],
         "yaxis": "y"
        },
        {
         "line": {
          "color": "lime",
          "width": 1
         },
         "mode": "lines",
         "showlegend": false,
         "type": "scatter",
         "x": [
          "2024-09-16T19:20:00",
          "2024-09-16T19:20:00"
         ],
         "xaxis": "x",
         "y": [
          57826,
          58001.02
         ],
         "yaxis": "y"
        },
        {
         "base": 57856.01,
         "marker": {
          "color": "lime",
          "line": {
           "width": 0
          }
         },
         "showlegend": false,
         "type": "bar",
         "width": 0.6,
         "x": [
          "2024-09-16T19:20:00"
         ],
         "xaxis": "x",
         "y": [
          136
         ],
         "yaxis": "y"
        },
        {
         "line": {
          "color": "darkgray",
          "width": 1
         },
         "mode": "lines",
         "showlegend": false,
         "type": "scatter",
         "x": [
          "2024-09-16T19:25:00",
          "2024-09-16T19:25:00"
         ],
         "xaxis": "x",
         "y": [
          57940,
          58009.99
         ],
         "yaxis": "y"
        },
        {
         "base": 57947.99,
         "marker": {
          "color": "darkgray",
          "line": {
           "width": 0
          }
         },
         "showlegend": false,
         "type": "bar",
         "width": 0.6,
         "x": [
          "2024-09-16T19:25:00"
         ],
         "xaxis": "x",
         "y": [
          44.029999999998836
         ],
         "yaxis": "y"
        },
        {
         "line": {
          "color": "gray",
          "width": 1
         },
         "mode": "lines",
         "showlegend": false,
         "type": "scatter",
         "x": [
          "2024-09-16T19:30:00",
          "2024-09-16T19:30:00"
         ],
         "xaxis": "x",
         "y": [
          57914,
          57996
         ],
         "yaxis": "y"
        },
        {
         "base": 57948,
         "marker": {
          "color": "gray",
          "line": {
           "width": 0
          }
         },
         "showlegend": false,
         "type": "bar",
         "width": 0.6,
         "x": [
          "2024-09-16T19:30:00"
         ],
         "xaxis": "x",
         "y": [
          16
         ],
         "yaxis": "y"
        },
        {
         "line": {
          "color": "darkgray",
          "width": 1
         },
         "mode": "lines",
         "showlegend": false,
         "type": "scatter",
         "x": [
          "2024-09-16T19:35:00",
          "2024-09-16T19:35:00"
         ],
         "xaxis": "x",
         "y": [
          57872,
          57980
         ],
         "yaxis": "y"
        },
        {
         "base": 57950.43,
         "marker": {
          "color": "darkgray",
          "line": {
           "width": 0
          }
         },
         "showlegend": false,
         "type": "bar",
         "width": 0.6,
         "x": [
          "2024-09-16T19:35:00"
         ],
         "xaxis": "x",
         "y": [
          13.580000000001746
         ],
         "yaxis": "y"
        },
        {
         "line": {
          "color": "gray",
          "width": 1
         },
         "mode": "lines",
         "showlegend": false,
         "type": "scatter",
         "x": [
          "2024-09-16T19:40:00",
          "2024-09-16T19:40:00"
         ],
         "xaxis": "x",
         "y": [
          57920,
          57970
         ],
         "yaxis": "y"
        },
        {
         "base": 57950.42,
         "marker": {
          "color": "gray",
          "line": {
           "width": 0
          }
         },
         "showlegend": false,
         "type": "bar",
         "width": 0.6,
         "x": [
          "2024-09-16T19:40:00"
         ],
         "xaxis": "x",
         "y": [
          19.56999999999971
         ],
         "yaxis": "y"
        },
        {
         "line": {
          "color": "darkgray",
          "width": 1
         },
         "mode": "lines",
         "showlegend": false,
         "type": "scatter",
         "x": [
          "2024-09-16T19:45:00",
          "2024-09-16T19:45:00"
         ],
         "xaxis": "x",
         "y": [
          57896,
          57979.17
         ],
         "yaxis": "y"
        },
        {
         "base": 57910.98,
         "marker": {
          "color": "darkgray",
          "line": {
           "width": 0
          }
         },
         "showlegend": false,
         "type": "bar",
         "width": 0.6,
         "x": [
          "2024-09-16T19:45:00"
         ],
         "xaxis": "x",
         "y": [
          59.0199999999968
         ],
         "yaxis": "y"
        },
        {
         "line": {
          "color": "blue",
          "width": 1
         },
         "mode": "lines",
         "showlegend": false,
         "type": "scatter",
         "x": [
          "2024-09-16T19:50:00",
          "2024-09-16T19:50:00"
         ],
         "xaxis": "x",
         "y": [
          57906,
          58014.85
         ],
         "yaxis": "y"
        },
        {
         "base": 57910.98,
         "marker": {
          "color": "blue",
          "line": {
           "width": 0
          }
         },
         "showlegend": false,
         "type": "bar",
         "width": 0.6,
         "x": [
          "2024-09-16T19:50:00"
         ],
         "xaxis": "x",
         "y": [
          73.0199999999968
         ],
         "yaxis": "y"
        },
        {
         "line": {
          "color": "red",
          "width": 1
         },
         "mode": "lines",
         "showlegend": false,
         "type": "scatter",
         "x": [
          "2024-09-16T19:55:00",
          "2024-09-16T19:55:00"
         ],
         "xaxis": "x",
         "y": [
          57864,
          58030
         ],
         "yaxis": "y"
        },
        {
         "base": 57943.99,
         "marker": {
          "color": "red",
          "line": {
           "width": 0
          }
         },
         "showlegend": false,
         "type": "bar",
         "width": 0.6,
         "x": [
          "2024-09-16T19:55:00"
         ],
         "xaxis": "x",
         "y": [
          40.01000000000204
         ],
         "yaxis": "y"
        },
        {
         "line": {
          "color": "darkgray",
          "width": 1
         },
         "mode": "lines",
         "showlegend": false,
         "type": "scatter",
         "x": [
          "2024-09-16T20:00:00",
          "2024-09-16T20:00:00"
         ],
         "xaxis": "x",
         "y": [
          57846.01,
          57946
         ],
         "yaxis": "y"
        },
        {
         "base": 57899.99,
         "marker": {
          "color": "darkgray",
          "line": {
           "width": 0
          }
         },
         "showlegend": false,
         "type": "bar",
         "width": 0.6,
         "x": [
          "2024-09-16T20:00:00"
         ],
         "xaxis": "x",
         "y": [
          44
         ],
         "yaxis": "y"
        },
        {
         "line": {
          "color": "gray",
          "width": 1
         },
         "mode": "lines",
         "showlegend": false,
         "type": "scatter",
         "x": [
          "2024-09-16T20:05:00",
          "2024-09-16T20:05:00"
         ],
         "xaxis": "x",
         "y": [
          57899.99,
          58027.9
         ],
         "yaxis": "y"
        },
        {
         "base": 57899.99,
         "marker": {
          "color": "gray",
          "line": {
           "width": 0
          }
         },
         "showlegend": false,
         "type": "bar",
         "width": 0.6,
         "x": [
          "2024-09-16T20:05:00"
         ],
         "xaxis": "x",
         "y": [
          118
         ],
         "yaxis": "y"
        },
        {
         "line": {
          "color": "blue",
          "width": 1
         },
         "mode": "lines",
         "showlegend": false,
         "type": "scatter",
         "x": [
          "2024-09-16T20:10:00",
          "2024-09-16T20:10:00"
         ],
         "xaxis": "x",
         "y": [
          58017.99,
          58172.5
         ],
         "yaxis": "y"
        },
        {
         "base": 58018,
         "marker": {
          "color": "blue",
          "line": {
           "width": 0
          }
         },
         "showlegend": false,
         "type": "bar",
         "width": 0.6,
         "x": [
          "2024-09-16T20:10:00"
         ],
         "xaxis": "x",
         "y": [
          146.1600000000035
         ],
         "yaxis": "y"
        },
        {
         "line": {
          "color": "darkgray",
          "width": 1
         },
         "mode": "lines",
         "showlegend": false,
         "type": "scatter",
         "x": [
          "2024-09-16T20:15:00",
          "2024-09-16T20:15:00"
         ],
         "xaxis": "x",
         "y": [
          58080,
          58164.16
         ],
         "yaxis": "y"
        },
        {
         "base": 58116.63,
         "marker": {
          "color": "darkgray",
          "line": {
           "width": 0
          }
         },
         "showlegend": false,
         "type": "bar",
         "width": 0.6,
         "x": [
          "2024-09-16T20:15:00"
         ],
         "xaxis": "x",
         "y": [
          47.53000000000611
         ],
         "yaxis": "y"
        },
        {
         "line": {
          "color": "darkgray",
          "width": 1
         },
         "mode": "lines",
         "showlegend": false,
         "type": "scatter",
         "x": [
          "2024-09-16T20:20:00",
          "2024-09-16T20:20:00"
         ],
         "xaxis": "x",
         "y": [
          58040,
          58155.06
         ],
         "yaxis": "y"
        },
        {
         "base": 58040.01,
         "marker": {
          "color": "darkgray",
          "line": {
           "width": 0
          }
         },
         "showlegend": false,
         "type": "bar",
         "width": 0.6,
         "x": [
          "2024-09-16T20:20:00"
         ],
         "xaxis": "x",
         "y": [
          76.62999999999738
         ],
         "yaxis": "y"
        },
        {
         "line": {
          "color": "darkgray",
          "width": 1
         },
         "mode": "lines",
         "showlegend": false,
         "type": "scatter",
         "x": [
          "2024-09-16T20:25:00",
          "2024-09-16T20:25:00"
         ],
         "xaxis": "x",
         "y": [
          57804.01,
          58040.01
         ],
         "yaxis": "y"
        },
        {
         "base": 57804.01,
         "marker": {
          "color": "darkgray",
          "line": {
           "width": 0
          }
         },
         "showlegend": false,
         "type": "bar",
         "width": 0.6,
         "x": [
          "2024-09-16T20:25:00"
         ],
         "xaxis": "x",
         "y": [
          235.98999999999796
         ],
         "yaxis": "y"
        },
        {
         "line": {
          "color": "darkgray",
          "width": 1
         },
         "mode": "lines",
         "showlegend": false,
         "type": "scatter",
         "x": [
          "2024-09-16T20:30:00",
          "2024-09-16T20:30:00"
         ],
         "xaxis": "x",
         "y": [
          57714,
          57851.07
         ],
         "yaxis": "y"
        },
        {
         "base": 57774.01,
         "marker": {
          "color": "darkgray",
          "line": {
           "width": 0
          }
         },
         "showlegend": false,
         "type": "bar",
         "width": 0.6,
         "x": [
          "2024-09-16T20:30:00"
         ],
         "xaxis": "x",
         "y": [
          30.00999999999476
         ],
         "yaxis": "y"
        },
        {
         "line": {
          "color": "gray",
          "width": 1
         },
         "mode": "lines",
         "showlegend": false,
         "type": "scatter",
         "x": [
          "2024-09-16T20:35:00",
          "2024-09-16T20:35:00"
         ],
         "xaxis": "x",
         "y": [
          57770.01,
          57815.62
         ],
         "yaxis": "y"
        },
        {
         "base": 57774.02,
         "marker": {
          "color": "gray",
          "line": {
           "width": 0
          }
         },
         "showlegend": false,
         "type": "bar",
         "width": 0.6,
         "x": [
          "2024-09-16T20:35:00"
         ],
         "xaxis": "x",
         "y": [
          27.74000000000524
         ],
         "yaxis": "y"
        },
        {
         "line": {
          "color": "gray",
          "width": 1
         },
         "mode": "lines",
         "showlegend": false,
         "type": "scatter",
         "x": [
          "2024-09-16T20:40:00",
          "2024-09-16T20:40:00"
         ],
         "xaxis": "x",
         "y": [
          57750,
          57838
         ],
         "yaxis": "y"
        },
        {
         "base": 57801.77,
         "marker": {
          "color": "gray",
          "line": {
           "width": 0
          }
         },
         "showlegend": false,
         "type": "bar",
         "width": 0.6,
         "x": [
          "2024-09-16T20:40:00"
         ],
         "xaxis": "x",
         "y": [
          4.210000000006403
         ],
         "yaxis": "y"
        },
        {
         "line": {
          "color": "darkgray",
          "width": 1
         },
         "mode": "lines",
         "showlegend": false,
         "type": "scatter",
         "x": [
          "2024-09-16T20:45:00",
          "2024-09-16T20:45:00"
         ],
         "xaxis": "x",
         "y": [
          57771.1,
          57822
         ],
         "yaxis": "y"
        },
        {
         "base": 57771.1,
         "marker": {
          "color": "darkgray",
          "line": {
           "width": 0
          }
         },
         "showlegend": false,
         "type": "bar",
         "width": 0.6,
         "x": [
          "2024-09-16T20:45:00"
         ],
         "xaxis": "x",
         "y": [
          34.87000000000262
         ],
         "yaxis": "y"
        },
        {
         "line": {
          "color": "darkgray",
          "width": 1
         },
         "mode": "lines",
         "showlegend": false,
         "type": "scatter",
         "x": [
          "2024-09-16T20:50:00",
          "2024-09-16T20:50:00"
         ],
         "xaxis": "x",
         "y": [
          57704.45,
          57800
         ],
         "yaxis": "y"
        },
        {
         "base": 57722.84,
         "marker": {
          "color": "darkgray",
          "line": {
           "width": 0
          }
         },
         "showlegend": false,
         "type": "bar",
         "width": 0.6,
         "x": [
          "2024-09-16T20:50:00"
         ],
         "xaxis": "x",
         "y": [
          48.26000000000204
         ],
         "yaxis": "y"
        },
        {
         "line": {
          "color": "darkgray",
          "width": 1
         },
         "mode": "lines",
         "showlegend": false,
         "type": "scatter",
         "x": [
          "2024-09-16T20:55:00",
          "2024-09-16T20:55:00"
         ],
         "xaxis": "x",
         "y": [
          57642,
          57732
         ],
         "yaxis": "y"
        },
        {
         "base": 57687.99,
         "marker": {
          "color": "darkgray",
          "line": {
           "width": 0
          }
         },
         "showlegend": false,
         "type": "bar",
         "width": 0.6,
         "x": [
          "2024-09-16T20:55:00"
         ],
         "xaxis": "x",
         "y": [
          34.86000000000058
         ],
         "yaxis": "y"
        },
        {
         "line": {
          "color": "gray",
          "width": 1
         },
         "mode": "lines",
         "showlegend": false,
         "type": "scatter",
         "x": [
          "2024-09-16T21:00:00",
          "2024-09-16T21:00:00"
         ],
         "xaxis": "x",
         "y": [
          57608,
          57791.1
         ],
         "yaxis": "y"
        },
        {
         "base": 57688,
         "marker": {
          "color": "gray",
          "line": {
           "width": 0
          }
         },
         "showlegend": false,
         "type": "bar",
         "width": 0.6,
         "x": [
          "2024-09-16T21:00:00"
         ],
         "xaxis": "x",
         "y": [
          103.09999999999854
         ],
         "yaxis": "y"
        },
        {
         "line": {
          "color": "darkgray",
          "width": 1
         },
         "mode": "lines",
         "showlegend": false,
         "type": "scatter",
         "x": [
          "2024-09-16T21:05:00",
          "2024-09-16T21:05:00"
         ],
         "xaxis": "x",
         "y": [
          57728.01,
          57791.1
         ],
         "yaxis": "y"
        },
        {
         "base": 57748,
         "marker": {
          "color": "darkgray",
          "line": {
           "width": 0
          }
         },
         "showlegend": false,
         "type": "bar",
         "width": 0.6,
         "x": [
          "2024-09-16T21:05:00"
         ],
         "xaxis": "x",
         "y": [
          43.08999999999651
         ],
         "yaxis": "y"
        },
        {
         "line": {
          "color": "gray",
          "width": 1
         },
         "mode": "lines",
         "showlegend": false,
         "type": "scatter",
         "x": [
          "2024-09-16T21:10:00",
          "2024-09-16T21:10:00"
         ],
         "xaxis": "x",
         "y": [
          57747.99,
          57850
         ],
         "yaxis": "y"
        },
        {
         "base": 57747.99,
         "marker": {
          "color": "gray",
          "line": {
           "width": 0
          }
         },
         "showlegend": false,
         "type": "bar",
         "width": 0.6,
         "x": [
          "2024-09-16T21:10:00"
         ],
         "xaxis": "x",
         "y": [
          60.01000000000204
         ],
         "yaxis": "y"
        },
        {
         "line": {
          "color": "gray",
          "width": 1
         },
         "mode": "lines",
         "showlegend": false,
         "type": "scatter",
         "x": [
          "2024-09-16T21:15:00",
          "2024-09-16T21:15:00"
         ],
         "xaxis": "x",
         "y": [
          57736,
          57842
         ],
         "yaxis": "y"
        },
        {
         "base": 57807.99,
         "marker": {
          "color": "gray",
          "line": {
           "width": 0
          }
         },
         "showlegend": false,
         "type": "bar",
         "width": 0.6,
         "x": [
          "2024-09-16T21:15:00"
         ],
         "xaxis": "x",
         "y": [
          34
         ],
         "yaxis": "y"
        },
        {
         "line": {
          "color": "gray",
          "width": 1
         },
         "mode": "lines",
         "showlegend": false,
         "type": "scatter",
         "x": [
          "2024-09-16T21:20:00",
          "2024-09-16T21:20:00"
         ],
         "xaxis": "x",
         "y": [
          57833,
          57899.99
         ],
         "yaxis": "y"
        },
        {
         "base": 57841.99,
         "marker": {
          "color": "gray",
          "line": {
           "width": 0
          }
         },
         "showlegend": false,
         "type": "bar",
         "width": 0.6,
         "x": [
          "2024-09-16T21:20:00"
         ],
         "xaxis": "x",
         "y": [
          49.11000000000058
         ],
         "yaxis": "y"
        },
        {
         "line": {
          "color": "darkgray",
          "width": 1
         },
         "mode": "lines",
         "showlegend": false,
         "type": "scatter",
         "x": [
          "2024-09-16T21:25:00",
          "2024-09-16T21:25:00"
         ],
         "xaxis": "x",
         "y": [
          57830.1,
          57895.77
         ],
         "yaxis": "y"
        },
        {
         "base": 57830.11,
         "marker": {
          "color": "darkgray",
          "line": {
           "width": 0
          }
         },
         "showlegend": false,
         "type": "bar",
         "width": 0.6,
         "x": [
          "2024-09-16T21:25:00"
         ],
         "xaxis": "x",
         "y": [
          60.98999999999796
         ],
         "yaxis": "y"
        },
        {
         "line": {
          "color": "gray",
          "width": 1
         },
         "mode": "lines",
         "showlegend": false,
         "type": "scatter",
         "x": [
          "2024-09-16T21:30:00",
          "2024-09-16T21:30:00"
         ],
         "xaxis": "x",
         "y": [
          57776,
          57867.98
         ],
         "yaxis": "y"
        },
        {
         "base": 57830.1,
         "marker": {
          "color": "gray",
          "line": {
           "width": 0
          }
         },
         "showlegend": false,
         "type": "bar",
         "width": 0.6,
         "x": [
          "2024-09-16T21:30:00"
         ],
         "xaxis": "x",
         "y": [
          23.910000000003492
         ],
         "yaxis": "y"
        },
        {
         "line": {
          "color": "red",
          "width": 1
         },
         "mode": "lines",
         "showlegend": false,
         "type": "scatter",
         "x": [
          "2024-09-16T21:35:00",
          "2024-09-16T21:35:00"
         ],
         "xaxis": "x",
         "y": [
          57784.09,
          57874
         ],
         "yaxis": "y"
        },
        {
         "base": 57823.95,
         "marker": {
          "color": "red",
          "line": {
           "width": 0
          }
         },
         "showlegend": false,
         "type": "bar",
         "width": 0.6,
         "x": [
          "2024-09-16T21:35:00"
         ],
         "xaxis": "x",
         "y": [
          30.05000000000291
         ],
         "yaxis": "y"
        },
        {
         "line": {
          "color": "darkgray",
          "width": 1
         },
         "mode": "lines",
         "showlegend": false,
         "type": "scatter",
         "x": [
          "2024-09-16T21:40:00",
          "2024-09-16T21:40:00"
         ],
         "xaxis": "x",
         "y": [
          57791.65,
          57823.94
         ],
         "yaxis": "y"
        },
        {
         "base": 57803.94,
         "marker": {
          "color": "darkgray",
          "line": {
           "width": 0
          }
         },
         "showlegend": false,
         "type": "bar",
         "width": 0.6,
         "x": [
          "2024-09-16T21:40:00"
         ],
         "xaxis": "x",
         "y": [
          20
         ],
         "yaxis": "y"
        },
        {
         "line": {
          "color": "gray",
          "width": 1
         },
         "mode": "lines",
         "showlegend": false,
         "type": "scatter",
         "x": [
          "2024-09-16T21:45:00",
          "2024-09-16T21:45:00"
         ],
         "xaxis": "x",
         "y": [
          57803.93,
          57930.9
         ],
         "yaxis": "y"
        },
        {
         "base": 57803.94,
         "marker": {
          "color": "gray",
          "line": {
           "width": 0
          }
         },
         "showlegend": false,
         "type": "bar",
         "width": 0.6,
         "x": [
          "2024-09-16T21:45:00"
         ],
         "xaxis": "x",
         "y": [
          103.0199999999968
         ],
         "yaxis": "y"
        },
        {
         "line": {
          "color": "gray",
          "width": 1
         },
         "mode": "lines",
         "showlegend": false,
         "type": "scatter",
         "x": [
          "2024-09-16T21:50:00",
          "2024-09-16T21:50:00"
         ],
         "xaxis": "x",
         "y": [
          57899.44,
          57968
         ],
         "yaxis": "y"
        },
        {
         "base": 57906.96,
         "marker": {
          "color": "gray",
          "line": {
           "width": 0
          }
         },
         "showlegend": false,
         "type": "bar",
         "width": 0.6,
         "x": [
          "2024-09-16T21:50:00"
         ],
         "xaxis": "x",
         "y": [
          57.23999999999796
         ],
         "yaxis": "y"
        },
        {
         "line": {
          "color": "gray",
          "width": 1
         },
         "mode": "lines",
         "showlegend": false,
         "type": "scatter",
         "x": [
          "2024-09-16T21:55:00",
          "2024-09-16T21:55:00"
         ],
         "xaxis": "x",
         "y": [
          57927.97,
          57995.5
         ],
         "yaxis": "y"
        },
        {
         "base": 57964.2,
         "marker": {
          "color": "gray",
          "line": {
           "width": 0
          }
         },
         "showlegend": false,
         "type": "bar",
         "width": 0.6,
         "x": [
          "2024-09-16T21:55:00"
         ],
         "xaxis": "x",
         "y": [
          31.30000000000291
         ],
         "yaxis": "y"
        },
        {
         "line": {
          "color": "darkgray",
          "width": 1
         },
         "mode": "lines",
         "showlegend": false,
         "type": "scatter",
         "x": [
          "2024-09-16T22:00:00",
          "2024-09-16T22:00:00"
         ],
         "xaxis": "x",
         "y": [
          57924,
          58037.62
         ],
         "yaxis": "y"
        },
        {
         "base": 57940.12,
         "marker": {
          "color": "darkgray",
          "line": {
           "width": 0
          }
         },
         "showlegend": false,
         "type": "bar",
         "width": 0.6,
         "x": [
          "2024-09-16T22:00:00"
         ],
         "xaxis": "x",
         "y": [
          55.37999999999738
         ],
         "yaxis": "y"
        },
        {
         "line": {
          "color": "darkgray",
          "width": 1
         },
         "mode": "lines",
         "showlegend": false,
         "type": "scatter",
         "x": [
          "2024-09-16T22:05:00",
          "2024-09-16T22:05:00"
         ],
         "xaxis": "x",
         "y": [
          57888.01,
          57967.49
         ],
         "yaxis": "y"
        },
        {
         "base": 57911.1,
         "marker": {
          "color": "darkgray",
          "line": {
           "width": 0
          }
         },
         "showlegend": false,
         "type": "bar",
         "width": 0.6,
         "x": [
          "2024-09-16T22:05:00"
         ],
         "xaxis": "x",
         "y": [
          29.020000000004075
         ],
         "yaxis": "y"
        },
        {
         "line": {
          "color": "darkgray",
          "width": 1
         },
         "mode": "lines",
         "showlegend": false,
         "type": "scatter",
         "x": [
          "2024-09-16T22:10:00",
          "2024-09-16T22:10:00"
         ],
         "xaxis": "x",
         "y": [
          57842,
          57917.97
         ],
         "yaxis": "y"
        },
        {
         "base": 57851.19,
         "marker": {
          "color": "darkgray",
          "line": {
           "width": 0
          }
         },
         "showlegend": false,
         "type": "bar",
         "width": 0.6,
         "x": [
          "2024-09-16T22:10:00"
         ],
         "xaxis": "x",
         "y": [
          59.90999999999622
         ],
         "yaxis": "y"
        },
        {
         "line": {
          "color": "gray",
          "width": 1
         },
         "mode": "lines",
         "showlegend": false,
         "type": "scatter",
         "x": [
          "2024-09-16T22:15:00",
          "2024-09-16T22:15:00"
         ],
         "xaxis": "x",
         "y": [
          57851.19,
          57997.66
         ],
         "yaxis": "y"
        },
        {
         "base": 57851.19,
         "marker": {
          "color": "gray",
          "line": {
           "width": 0
          }
         },
         "showlegend": false,
         "type": "bar",
         "width": 0.6,
         "x": [
          "2024-09-16T22:15:00"
         ],
         "xaxis": "x",
         "y": [
          109.90999999999622
         ],
         "yaxis": "y"
        },
        {
         "line": {
          "color": "darkgray",
          "width": 1
         },
         "mode": "lines",
         "showlegend": false,
         "type": "scatter",
         "x": [
          "2024-09-16T22:20:00",
          "2024-09-16T22:20:00"
         ],
         "xaxis": "x",
         "y": [
          57890.25,
          57988
         ],
         "yaxis": "y"
        },
        {
         "base": 57924,
         "marker": {
          "color": "darkgray",
          "line": {
           "width": 0
          }
         },
         "showlegend": false,
         "type": "bar",
         "width": 0.6,
         "x": [
          "2024-09-16T22:20:00"
         ],
         "xaxis": "x",
         "y": [
          37.099999999998545
         ],
         "yaxis": "y"
        },
        {
         "line": {
          "color": "gray",
          "width": 1
         },
         "mode": "lines",
         "showlegend": false,
         "type": "scatter",
         "x": [
          "2024-09-16T22:25:00",
          "2024-09-16T22:25:00"
         ],
         "xaxis": "x",
         "y": [
          57904,
          57948
         ],
         "yaxis": "y"
        },
        {
         "base": 57924,
         "marker": {
          "color": "gray",
          "line": {
           "width": 0
          }
         },
         "showlegend": false,
         "type": "bar",
         "width": 0.6,
         "x": [
          "2024-09-16T22:25:00"
         ],
         "xaxis": "x",
         "y": [
          5.989999999997963
         ],
         "yaxis": "y"
        },
        {
         "line": {
          "color": "gray",
          "width": 1
         },
         "mode": "lines",
         "showlegend": false,
         "type": "scatter",
         "x": [
          "2024-09-16T22:30:00",
          "2024-09-16T22:30:00"
         ],
         "xaxis": "x",
         "y": [
          57920,
          57974
         ],
         "yaxis": "y"
        },
        {
         "base": 57930,
         "marker": {
          "color": "gray",
          "line": {
           "width": 0
          }
         },
         "showlegend": false,
         "type": "bar",
         "width": 0.6,
         "x": [
          "2024-09-16T22:30:00"
         ],
         "xaxis": "x",
         "y": [
          33.9800000000032
         ],
         "yaxis": "y"
        },
        {
         "line": {
          "color": "darkgray",
          "width": 1
         },
         "mode": "lines",
         "showlegend": false,
         "type": "scatter",
         "x": [
          "2024-09-16T22:35:00",
          "2024-09-16T22:35:00"
         ],
         "xaxis": "x",
         "y": [
          57918,
          57963.99
         ],
         "yaxis": "y"
        },
        {
         "base": 57940,
         "marker": {
          "color": "darkgray",
          "line": {
           "width": 0
          }
         },
         "showlegend": false,
         "type": "bar",
         "width": 0.6,
         "x": [
          "2024-09-16T22:35:00"
         ],
         "xaxis": "x",
         "y": [
          23.9800000000032
         ],
         "yaxis": "y"
        },
        {
         "line": {
          "color": "darkgray",
          "width": 1
         },
         "mode": "lines",
         "showlegend": false,
         "type": "scatter",
         "x": [
          "2024-09-16T22:40:00",
          "2024-09-16T22:40:00"
         ],
         "xaxis": "x",
         "y": [
          57883.17,
          57951.1
         ],
         "yaxis": "y"
        },
        {
         "base": 57898,
         "marker": {
          "color": "darkgray",
          "line": {
           "width": 0
          }
         },
         "showlegend": false,
         "type": "bar",
         "width": 0.6,
         "x": [
          "2024-09-16T22:40:00"
         ],
         "xaxis": "x",
         "y": [
          41.98999999999796
         ],
         "yaxis": "y"
        },
        {
         "line": {
          "color": "gray",
          "width": 1
         },
         "mode": "lines",
         "showlegend": false,
         "type": "scatter",
         "x": [
          "2024-09-16T22:45:00",
          "2024-09-16T22:45:00"
         ],
         "xaxis": "x",
         "y": [
          57858.99,
          57900
         ],
         "yaxis": "y"
        },
        {
         "base": 57898,
         "marker": {
          "color": "gray",
          "line": {
           "width": 0
          }
         },
         "showlegend": false,
         "type": "bar",
         "width": 0.6,
         "x": [
          "2024-09-16T22:45:00"
         ],
         "xaxis": "x",
         "y": [
          2
         ],
         "yaxis": "y"
        },
        {
         "line": {
          "color": "gray",
          "width": 1
         },
         "mode": "lines",
         "showlegend": false,
         "type": "scatter",
         "x": [
          "2024-09-16T22:50:00",
          "2024-09-16T22:50:00"
         ],
         "xaxis": "x",
         "y": [
          57899.99,
          57966
         ],
         "yaxis": "y"
        },
        {
         "base": 57900,
         "marker": {
          "color": "gray",
          "line": {
           "width": 0
          }
         },
         "showlegend": false,
         "type": "bar",
         "width": 0.6,
         "x": [
          "2024-09-16T22:50:00"
         ],
         "xaxis": "x",
         "y": [
          66
         ],
         "yaxis": "y"
        },
        {
         "line": {
          "color": "gray",
          "width": 1
         },
         "mode": "lines",
         "showlegend": false,
         "type": "scatter",
         "x": [
          "2024-09-16T22:55:00",
          "2024-09-16T22:55:00"
         ],
         "xaxis": "x",
         "y": [
          57955.11,
          57995.52
         ],
         "yaxis": "y"
        },
        {
         "base": 57966,
         "marker": {
          "color": "gray",
          "line": {
           "width": 0
          }
         },
         "showlegend": false,
         "type": "bar",
         "width": 0.6,
         "x": [
          "2024-09-16T22:55:00"
         ],
         "xaxis": "x",
         "y": [
          4.010000000002037
         ],
         "yaxis": "y"
        },
        {
         "line": {
          "color": "gray",
          "width": 1
         },
         "mode": "lines",
         "showlegend": false,
         "type": "scatter",
         "x": [
          "2024-09-16T23:00:00",
          "2024-09-16T23:00:00"
         ],
         "xaxis": "x",
         "y": [
          57970.01,
          58070
         ],
         "yaxis": "y"
        },
        {
         "base": 57970.01,
         "marker": {
          "color": "gray",
          "line": {
           "width": 0
          }
         },
         "showlegend": false,
         "type": "bar",
         "width": 0.6,
         "x": [
          "2024-09-16T23:00:00"
         ],
         "xaxis": "x",
         "y": [
          99.98999999999796
         ],
         "yaxis": "y"
        },
        {
         "line": {
          "color": "blue",
          "width": 1
         },
         "mode": "lines",
         "showlegend": false,
         "type": "scatter",
         "x": [
          "2024-09-16T23:05:00",
          "2024-09-16T23:05:00"
         ],
         "xaxis": "x",
         "y": [
          58069.99,
          58126.48
         ],
         "yaxis": "y"
        },
        {
         "base": 58069.99,
         "marker": {
          "color": "blue",
          "line": {
           "width": 0
          }
         },
         "showlegend": false,
         "type": "bar",
         "width": 0.6,
         "x": [
          "2024-09-16T23:05:00"
         ],
         "xaxis": "x",
         "y": [
          33.700000000004366
         ],
         "yaxis": "y"
        },
        {
         "line": {
          "color": "darkgray",
          "width": 1
         },
         "mode": "lines",
         "showlegend": false,
         "type": "scatter",
         "x": [
          "2024-09-16T23:10:00",
          "2024-09-16T23:10:00"
         ],
         "xaxis": "x",
         "y": [
          58066.5,
          58106
         ],
         "yaxis": "y"
        },
        {
         "base": 58088.39,
         "marker": {
          "color": "darkgray",
          "line": {
           "width": 0
          }
         },
         "showlegend": false,
         "type": "bar",
         "width": 0.6,
         "x": [
          "2024-09-16T23:10:00"
         ],
         "xaxis": "x",
         "y": [
          15.30000000000291
         ],
         "yaxis": "y"
        },
        {
         "line": {
          "color": "lime",
          "width": 1
         },
         "mode": "lines",
         "showlegend": false,
         "type": "scatter",
         "x": [
          "2024-09-16T23:15:00",
          "2024-09-16T23:15:00"
         ],
         "xaxis": "x",
         "y": [
          58088.39,
          58190.59
         ],
         "yaxis": "y"
        },
        {
         "base": 58088.39,
         "marker": {
          "color": "lime",
          "line": {
           "width": 0
          }
         },
         "showlegend": false,
         "type": "bar",
         "width": 0.6,
         "x": [
          "2024-09-16T23:15:00"
         ],
         "xaxis": "x",
         "y": [
          95.61000000000058
         ],
         "yaxis": "y"
        },
        {
         "line": {
          "color": "blue",
          "width": 1
         },
         "mode": "lines",
         "showlegend": false,
         "type": "scatter",
         "x": [
          "2024-09-16T23:20:00",
          "2024-09-16T23:20:00"
         ],
         "xaxis": "x",
         "y": [
          58171.29,
          58237.83
         ],
         "yaxis": "y"
        },
        {
         "base": 58183.99,
         "marker": {
          "color": "blue",
          "line": {
           "width": 0
          }
         },
         "showlegend": false,
         "type": "bar",
         "width": 0.6,
         "x": [
          "2024-09-16T23:20:00"
         ],
         "xaxis": "x",
         "y": [
          53.830000000001746
         ],
         "yaxis": "y"
        },
        {
         "line": {
          "color": "fuchsia",
          "width": 1
         },
         "mode": "lines",
         "showlegend": false,
         "type": "scatter",
         "x": [
          "2024-09-16T23:25:00",
          "2024-09-16T23:25:00"
         ],
         "xaxis": "x",
         "y": [
          58208.36,
          58270.03
         ],
         "yaxis": "y"
        },
        {
         "base": 58234.99,
         "marker": {
          "color": "fuchsia",
          "line": {
           "width": 0
          }
         },
         "showlegend": false,
         "type": "bar",
         "width": 0.6,
         "x": [
          "2024-09-16T23:25:00"
         ],
         "xaxis": "x",
         "y": [
          2.8300000000017462
         ],
         "yaxis": "y"
        },
        {
         "line": {
          "color": "gray",
          "width": 1
         },
         "mode": "lines",
         "showlegend": false,
         "type": "scatter",
         "x": [
          "2024-09-16T23:30:00",
          "2024-09-16T23:30:00"
         ],
         "xaxis": "x",
         "y": [
          58234.99,
          58291.75
         ],
         "yaxis": "y"
        },
        {
         "base": 58234.99,
         "marker": {
          "color": "gray",
          "line": {
           "width": 0
          }
         },
         "showlegend": false,
         "type": "bar",
         "width": 0.6,
         "x": [
          "2024-09-16T23:30:00"
         ],
         "xaxis": "x",
         "y": [
          48.66000000000349
         ],
         "yaxis": "y"
        },
        {
         "line": {
          "color": "darkgray",
          "width": 1
         },
         "mode": "lines",
         "showlegend": false,
         "type": "scatter",
         "x": [
          "2024-09-16T23:35:00",
          "2024-09-16T23:35:00"
         ],
         "xaxis": "x",
         "y": [
          58217.75,
          58283.66
         ],
         "yaxis": "y"
        },
        {
         "base": 58229.99,
         "marker": {
          "color": "darkgray",
          "line": {
           "width": 0
          }
         },
         "showlegend": false,
         "type": "bar",
         "width": 0.6,
         "x": [
          "2024-09-16T23:35:00"
         ],
         "xaxis": "x",
         "y": [
          53.66000000000349
         ],
         "yaxis": "y"
        },
        {
         "line": {
          "color": "gray",
          "width": 1
         },
         "mode": "lines",
         "showlegend": false,
         "type": "scatter",
         "x": [
          "2024-09-16T23:40:00",
          "2024-09-16T23:40:00"
         ],
         "xaxis": "x",
         "y": [
          58209.99,
          58277.32
         ],
         "yaxis": "y"
        },
        {
         "base": 58229.99,
         "marker": {
          "color": "gray",
          "line": {
           "width": 0
          }
         },
         "showlegend": false,
         "type": "bar",
         "width": 0.6,
         "x": [
          "2024-09-16T23:40:00"
         ],
         "xaxis": "x",
         "y": [
          38.55000000000291
         ],
         "yaxis": "y"
        },
        {
         "line": {
          "color": "lime",
          "width": 1
         },
         "mode": "lines",
         "showlegend": false,
         "type": "scatter",
         "x": [
          "2024-09-16T23:45:00",
          "2024-09-16T23:45:00"
         ],
         "xaxis": "x",
         "y": [
          58256,
          58410
         ],
         "yaxis": "y"
        },
        {
         "base": 58268.55,
         "marker": {
          "color": "lime",
          "line": {
           "width": 0
          }
         },
         "showlegend": false,
         "type": "bar",
         "width": 0.6,
         "x": [
          "2024-09-16T23:45:00"
         ],
         "xaxis": "x",
         "y": [
          60.5399999999936
         ],
         "yaxis": "y"
        },
        {
         "line": {
          "color": "darkgray",
          "width": 1
         },
         "mode": "lines",
         "showlegend": false,
         "type": "scatter",
         "x": [
          "2024-09-16T23:50:00",
          "2024-09-16T23:50:00"
         ],
         "xaxis": "x",
         "y": [
          58224,
          58334
         ],
         "yaxis": "y"
        },
        {
         "base": 58232,
         "marker": {
          "color": "darkgray",
          "line": {
           "width": 0
          }
         },
         "showlegend": false,
         "type": "bar",
         "width": 0.6,
         "x": [
          "2024-09-16T23:50:00"
         ],
         "xaxis": "x",
         "y": [
          97.08999999999651
         ],
         "yaxis": "y"
        },
        {
         "line": {
          "color": "darkgray",
          "width": 1
         },
         "mode": "lines",
         "showlegend": false,
         "type": "scatter",
         "x": [
          "2024-09-16T23:55:00",
          "2024-09-16T23:55:00"
         ],
         "xaxis": "x",
         "y": [
          58191.1,
          58232
         ],
         "yaxis": "y"
        },
        {
         "base": 58213.99,
         "marker": {
          "color": "darkgray",
          "line": {
           "width": 0
          }
         },
         "showlegend": false,
         "type": "bar",
         "width": 0.6,
         "x": [
          "2024-09-16T23:55:00"
         ],
         "xaxis": "x",
         "y": [
          18.010000000002037
         ],
         "yaxis": "y"
        },
        {
         "line": {
          "color": "gray",
          "width": 1
         },
         "mode": "lines",
         "showlegend": false,
         "type": "scatter",
         "x": [
          "2024-09-17T00:00:00",
          "2024-09-17T00:00:00"
         ],
         "xaxis": "x",
         "y": [
          58176.41,
          58268
         ],
         "yaxis": "y"
        },
        {
         "base": 58213.99,
         "marker": {
          "color": "gray",
          "line": {
           "width": 0
          }
         },
         "showlegend": false,
         "type": "bar",
         "width": 0.6,
         "x": [
          "2024-09-17T00:00:00"
         ],
         "xaxis": "x",
         "y": [
          54.01000000000204
         ],
         "yaxis": "y"
        },
        {
         "line": {
          "color": "blue",
          "width": 1
         },
         "mode": "lines",
         "showlegend": false,
         "type": "scatter",
         "x": [
          "2024-09-17T00:05:00",
          "2024-09-17T00:05:00"
         ],
         "xaxis": "x",
         "y": [
          58268,
          58338
         ],
         "yaxis": "y"
        },
        {
         "base": 58268,
         "marker": {
          "color": "blue",
          "line": {
           "width": 0
          }
         },
         "showlegend": false,
         "type": "bar",
         "width": 0.6,
         "x": [
          "2024-09-17T00:05:00"
         ],
         "xaxis": "x",
         "y": [
          23.099999999998545
         ],
         "yaxis": "y"
        },
        {
         "line": {
          "color": "gray",
          "width": 1
         },
         "mode": "lines",
         "showlegend": false,
         "type": "scatter",
         "x": [
          "2024-09-17T00:10:00",
          "2024-09-17T00:10:00"
         ],
         "xaxis": "x",
         "y": [
          58280,
          58343.99
         ],
         "yaxis": "y"
        },
        {
         "base": 58291.1,
         "marker": {
          "color": "gray",
          "line": {
           "width": 0
          }
         },
         "showlegend": false,
         "type": "bar",
         "width": 0.6,
         "x": [
          "2024-09-17T00:10:00"
         ],
         "xaxis": "x",
         "y": [
          24.910000000003492
         ],
         "yaxis": "y"
        },
        {
         "line": {
          "color": "darkgray",
          "width": 1
         },
         "mode": "lines",
         "showlegend": false,
         "type": "scatter",
         "x": [
          "2024-09-17T00:15:00",
          "2024-09-17T00:15:00"
         ],
         "xaxis": "x",
         "y": [
          58257.6,
          58341.1
         ],
         "yaxis": "y"
        },
        {
         "base": 58294.12,
         "marker": {
          "color": "darkgray",
          "line": {
           "width": 0
          }
         },
         "showlegend": false,
         "type": "bar",
         "width": 0.6,
         "x": [
          "2024-09-17T00:15:00"
         ],
         "xaxis": "x",
         "y": [
          21.87999999999738
         ],
         "yaxis": "y"
        },
        {
         "line": {
          "color": "darkgray",
          "width": 1
         },
         "mode": "lines",
         "showlegend": false,
         "type": "scatter",
         "x": [
          "2024-09-17T00:20:00",
          "2024-09-17T00:20:00"
         ],
         "xaxis": "x",
         "y": [
          58252,
          58297.38
         ],
         "yaxis": "y"
        },
        {
         "base": 58252.01,
         "marker": {
          "color": "darkgray",
          "line": {
           "width": 0
          }
         },
         "showlegend": false,
         "type": "bar",
         "width": 0.6,
         "x": [
          "2024-09-17T00:20:00"
         ],
         "xaxis": "x",
         "y": [
          42.11000000000058
         ],
         "yaxis": "y"
        },
        {
         "line": {
          "color": "darkgray",
          "width": 1
         },
         "mode": "lines",
         "showlegend": false,
         "type": "scatter",
         "x": [
          "2024-09-17T00:25:00",
          "2024-09-17T00:25:00"
         ],
         "xaxis": "x",
         "y": [
          58153.8,
          58252.01
         ],
         "yaxis": "y"
        },
        {
         "base": 58198,
         "marker": {
          "color": "darkgray",
          "line": {
           "width": 0
          }
         },
         "showlegend": false,
         "type": "bar",
         "width": 0.6,
         "x": [
          "2024-09-17T00:25:00"
         ],
         "xaxis": "x",
         "y": [
          54.01000000000204
         ],
         "yaxis": "y"
        },
        {
         "line": {
          "color": "darkgray",
          "width": 1
         },
         "mode": "lines",
         "showlegend": false,
         "type": "scatter",
         "x": [
          "2024-09-17T00:30:00",
          "2024-09-17T00:30:00"
         ],
         "xaxis": "x",
         "y": [
          58162.19,
          58228
         ],
         "yaxis": "y"
        },
        {
         "base": 58195.99,
         "marker": {
          "color": "darkgray",
          "line": {
           "width": 0
          }
         },
         "showlegend": false,
         "type": "bar",
         "width": 0.6,
         "x": [
          "2024-09-17T00:30:00"
         ],
         "xaxis": "x",
         "y": [
          2
         ],
         "yaxis": "y"
        },
        {
         "line": {
          "color": "red",
          "width": 1
         },
         "mode": "lines",
         "showlegend": false,
         "type": "scatter",
         "x": [
          "2024-09-17T00:35:00",
          "2024-09-17T00:35:00"
         ],
         "xaxis": "x",
         "y": [
          58066.5,
          58196.96
         ],
         "yaxis": "y"
        },
        {
         "base": 58112.01,
         "marker": {
          "color": "red",
          "line": {
           "width": 0
          }
         },
         "showlegend": false,
         "type": "bar",
         "width": 0.6,
         "x": [
          "2024-09-17T00:35:00"
         ],
         "xaxis": "x",
         "y": [
          83.97999999999593
         ],
         "yaxis": "y"
        },
        {
         "line": {
          "color": "darkgray",
          "width": 1
         },
         "mode": "lines",
         "showlegend": false,
         "type": "scatter",
         "x": [
          "2024-09-17T00:40:00",
          "2024-09-17T00:40:00"
         ],
         "xaxis": "x",
         "y": [
          58070,
          58112.01
         ],
         "yaxis": "y"
        },
        {
         "base": 58077.95,
         "marker": {
          "color": "darkgray",
          "line": {
           "width": 0
          }
         },
         "showlegend": false,
         "type": "bar",
         "width": 0.6,
         "x": [
          "2024-09-17T00:40:00"
         ],
         "xaxis": "x",
         "y": [
          34.06000000000495
         ],
         "yaxis": "y"
        },
        {
         "line": {
          "color": "red",
          "width": 1
         },
         "mode": "lines",
         "showlegend": false,
         "type": "scatter",
         "x": [
          "2024-09-17T00:45:00",
          "2024-09-17T00:45:00"
         ],
         "xaxis": "x",
         "y": [
          57899.55,
          58090
         ],
         "yaxis": "y"
        },
        {
         "base": 57943.99,
         "marker": {
          "color": "red",
          "line": {
           "width": 0
          }
         },
         "showlegend": false,
         "type": "bar",
         "width": 0.6,
         "x": [
          "2024-09-17T00:45:00"
         ],
         "xaxis": "x",
         "y": [
          133.97000000000116
         ],
         "yaxis": "y"
        },
        {
         "line": {
          "color": "fuchsia",
          "width": 1
         },
         "mode": "lines",
         "showlegend": false,
         "type": "scatter",
         "x": [
          "2024-09-17T00:50:00",
          "2024-09-17T00:50:00"
         ],
         "xaxis": "x",
         "y": [
          57753.76,
          57968
         ],
         "yaxis": "y"
        },
        {
         "base": 57753.77,
         "marker": {
          "color": "fuchsia",
          "line": {
           "width": 0
          }
         },
         "showlegend": false,
         "type": "bar",
         "width": 0.6,
         "x": [
          "2024-09-17T00:50:00"
         ],
         "xaxis": "x",
         "y": [
          190.2300000000032
         ],
         "yaxis": "y"
        },
        {
         "line": {
          "color": "red",
          "width": 1
         },
         "mode": "lines",
         "showlegend": false,
         "type": "scatter",
         "x": [
          "2024-09-17T00:55:00",
          "2024-09-17T00:55:00"
         ],
         "xaxis": "x",
         "y": [
          57610.01,
          57824.41
         ],
         "yaxis": "y"
        },
        {
         "base": 57630.01,
         "marker": {
          "color": "red",
          "line": {
           "width": 0
          }
         },
         "showlegend": false,
         "type": "bar",
         "width": 0.6,
         "x": [
          "2024-09-17T00:55:00"
         ],
         "xaxis": "x",
         "y": [
          123.75999999999476
         ],
         "yaxis": "y"
        },
        {
         "line": {
          "color": "gray",
          "width": 1
         },
         "mode": "lines",
         "showlegend": false,
         "type": "scatter",
         "x": [
          "2024-09-17T01:00:00",
          "2024-09-17T01:00:00"
         ],
         "xaxis": "x",
         "y": [
          57622,
          57766
         ],
         "yaxis": "y"
        },
        {
         "base": 57630.01,
         "marker": {
          "color": "gray",
          "line": {
           "width": 0
          }
         },
         "showlegend": false,
         "type": "bar",
         "width": 0.6,
         "x": [
          "2024-09-17T01:00:00"
         ],
         "xaxis": "x",
         "y": [
          135.98999999999796
         ],
         "yaxis": "y"
        },
        {
         "line": {
          "color": "gray",
          "width": 1
         },
         "mode": "lines",
         "showlegend": false,
         "type": "scatter",
         "x": [
          "2024-09-17T01:05:00",
          "2024-09-17T01:05:00"
         ],
         "xaxis": "x",
         "y": [
          57727.99,
          57846.35
         ],
         "yaxis": "y"
        },
        {
         "base": 57765.99,
         "marker": {
          "color": "gray",
          "line": {
           "width": 0
          }
         },
         "showlegend": false,
         "type": "bar",
         "width": 0.6,
         "x": [
          "2024-09-17T01:05:00"
         ],
         "xaxis": "x",
         "y": [
          2.029999999998836
         ],
         "yaxis": "y"
        },
        {
         "line": {
          "color": "darkgray",
          "width": 1
         },
         "mode": "lines",
         "showlegend": false,
         "type": "scatter",
         "x": [
          "2024-09-17T01:10:00",
          "2024-09-17T01:10:00"
         ],
         "xaxis": "x",
         "y": [
          57646,
          57819.99
         ],
         "yaxis": "y"
        },
        {
         "base": 57707.26,
         "marker": {
          "color": "darkgray",
          "line": {
           "width": 0
          }
         },
         "showlegend": false,
         "type": "bar",
         "width": 0.6,
         "x": [
          "2024-09-17T01:10:00"
         ],
         "xaxis": "x",
         "y": [
          60.75999999999476
         ],
         "yaxis": "y"
        },
        {
         "line": {
          "color": "gray",
          "width": 1
         },
         "mode": "lines",
         "showlegend": false,
         "type": "scatter",
         "x": [
          "2024-09-17T01:15:00",
          "2024-09-17T01:15:00"
         ],
         "xaxis": "x",
         "y": [
          57696.01,
          57833.33
         ],
         "yaxis": "y"
        },
        {
         "base": 57707.26,
         "marker": {
          "color": "gray",
          "line": {
           "width": 0
          }
         },
         "showlegend": false,
         "type": "bar",
         "width": 0.6,
         "x": [
          "2024-09-17T01:15:00"
         ],
         "xaxis": "x",
         "y": [
          49.669999999998254
         ],
         "yaxis": "y"
        },
        {
         "line": {
          "color": "gray",
          "width": 1
         },
         "mode": "lines",
         "showlegend": false,
         "type": "scatter",
         "x": [
          "2024-09-17T01:20:00",
          "2024-09-17T01:20:00"
         ],
         "xaxis": "x",
         "y": [
          57756.93,
          57835.99
         ],
         "yaxis": "y"
        },
        {
         "base": 57756.94,
         "marker": {
          "color": "gray",
          "line": {
           "width": 0
          }
         },
         "showlegend": false,
         "type": "bar",
         "width": 0.6,
         "x": [
          "2024-09-17T01:20:00"
         ],
         "xaxis": "x",
         "y": [
          45.06999999999971
         ],
         "yaxis": "y"
        },
        {
         "line": {
          "color": "gray",
          "width": 1
         },
         "mode": "lines",
         "showlegend": false,
         "type": "scatter",
         "x": [
          "2024-09-17T01:25:00",
          "2024-09-17T01:25:00"
         ],
         "xaxis": "x",
         "y": [
          57774,
          57836
         ],
         "yaxis": "y"
        },
        {
         "base": 57802.01,
         "marker": {
          "color": "gray",
          "line": {
           "width": 0
          }
         },
         "showlegend": false,
         "type": "bar",
         "width": 0.6,
         "x": [
          "2024-09-17T01:25:00"
         ],
         "xaxis": "x",
         "y": [
          21.979999999995925
         ],
         "yaxis": "y"
        },
        {
         "line": {
          "color": "gray",
          "width": 1
         },
         "mode": "lines",
         "showlegend": false,
         "type": "scatter",
         "x": [
          "2024-09-17T01:30:00",
          "2024-09-17T01:30:00"
         ],
         "xaxis": "x",
         "y": [
          57806.03,
          57874
         ],
         "yaxis": "y"
        },
        {
         "base": 57823.99,
         "marker": {
          "color": "gray",
          "line": {
           "width": 0
          }
         },
         "showlegend": false,
         "type": "bar",
         "width": 0.6,
         "x": [
          "2024-09-17T01:30:00"
         ],
         "xaxis": "x",
         "y": [
          48.900000000001455
         ],
         "yaxis": "y"
        },
        {
         "line": {
          "color": "darkgray",
          "width": 1
         },
         "mode": "lines",
         "showlegend": false,
         "type": "scatter",
         "x": [
          "2024-09-17T01:35:00",
          "2024-09-17T01:35:00"
         ],
         "xaxis": "x",
         "y": [
          57792,
          57873
         ],
         "yaxis": "y"
        },
        {
         "base": 57840.5,
         "marker": {
          "color": "darkgray",
          "line": {
           "width": 0
          }
         },
         "showlegend": false,
         "type": "bar",
         "width": 0.6,
         "x": [
          "2024-09-17T01:35:00"
         ],
         "xaxis": "x",
         "y": [
          32.38999999999942
         ],
         "yaxis": "y"
        },
        {
         "line": {
          "color": "gray",
          "width": 1
         },
         "mode": "lines",
         "showlegend": false,
         "type": "scatter",
         "x": [
          "2024-09-17T01:40:00",
          "2024-09-17T01:40:00"
         ],
         "xaxis": "x",
         "y": [
          57828,
          57948
         ],
         "yaxis": "y"
        },
        {
         "base": 57840.49,
         "marker": {
          "color": "gray",
          "line": {
           "width": 0
          }
         },
         "showlegend": false,
         "type": "bar",
         "width": 0.6,
         "x": [
          "2024-09-17T01:40:00"
         ],
         "xaxis": "x",
         "y": [
          95.5
         ],
         "yaxis": "y"
        },
        {
         "line": {
          "color": "darkgray",
          "width": 1
         },
         "mode": "lines",
         "showlegend": false,
         "type": "scatter",
         "x": [
          "2024-09-17T01:45:00",
          "2024-09-17T01:45:00"
         ],
         "xaxis": "x",
         "y": [
          57868,
          57960
         ],
         "yaxis": "y"
        },
        {
         "base": 57884,
         "marker": {
          "color": "darkgray",
          "line": {
           "width": 0
          }
         },
         "showlegend": false,
         "type": "bar",
         "width": 0.6,
         "x": [
          "2024-09-17T01:45:00"
         ],
         "xaxis": "x",
         "y": [
          51.98999999999796
         ],
         "yaxis": "y"
        },
        {
         "line": {
          "color": "gray",
          "width": 1
         },
         "mode": "lines",
         "showlegend": false,
         "type": "scatter",
         "x": [
          "2024-09-17T01:50:00",
          "2024-09-17T01:50:00"
         ],
         "xaxis": "x",
         "y": [
          57868,
          57914
         ],
         "yaxis": "y"
        },
        {
         "base": 57884,
         "marker": {
          "color": "gray",
          "line": {
           "width": 0
          }
         },
         "showlegend": false,
         "type": "bar",
         "width": 0.6,
         "x": [
          "2024-09-17T01:50:00"
         ],
         "xaxis": "x",
         "y": [
          10.019999999996799
         ],
         "yaxis": "y"
        },
        {
         "line": {
          "color": "gray",
          "width": 1
         },
         "mode": "lines",
         "showlegend": false,
         "type": "scatter",
         "x": [
          "2024-09-17T01:55:00",
          "2024-09-17T01:55:00"
         ],
         "xaxis": "x",
         "y": [
          57846,
          57896
         ],
         "yaxis": "y"
        },
        {
         "base": 57894.01,
         "marker": {
          "color": "gray",
          "line": {
           "width": 0
          }
         },
         "showlegend": false,
         "type": "bar",
         "width": 0.6,
         "x": [
          "2024-09-17T01:55:00"
         ],
         "xaxis": "x",
         "y": [
          1.9899999999979627
         ],
         "yaxis": "y"
        },
        {
         "line": {
          "color": "gray",
          "width": 1
         },
         "mode": "lines",
         "showlegend": false,
         "type": "scatter",
         "x": [
          "2024-09-17T02:00:00",
          "2024-09-17T02:00:00"
         ],
         "xaxis": "x",
         "y": [
          57895.99,
          57951.09
         ],
         "yaxis": "y"
        },
        {
         "base": 57896,
         "marker": {
          "color": "gray",
          "line": {
           "width": 0
          }
         },
         "showlegend": false,
         "type": "bar",
         "width": 0.6,
         "x": [
          "2024-09-17T02:00:00"
         ],
         "xaxis": "x",
         "y": [
          30
         ],
         "yaxis": "y"
        },
        {
         "line": {
          "color": "darkgray",
          "width": 1
         },
         "mode": "lines",
         "showlegend": false,
         "type": "scatter",
         "x": [
          "2024-09-17T02:05:00",
          "2024-09-17T02:05:00"
         ],
         "xaxis": "x",
         "y": [
          57874.58,
          57946
         ],
         "yaxis": "y"
        },
        {
         "base": 57899.42,
         "marker": {
          "color": "darkgray",
          "line": {
           "width": 0
          }
         },
         "showlegend": false,
         "type": "bar",
         "width": 0.6,
         "x": [
          "2024-09-17T02:05:00"
         ],
         "xaxis": "x",
         "y": [
          26.580000000001746
         ],
         "yaxis": "y"
        },
        {
         "line": {
          "color": "darkgray",
          "width": 1
         },
         "mode": "lines",
         "showlegend": false,
         "type": "scatter",
         "x": [
          "2024-09-17T02:10:00",
          "2024-09-17T02:10:00"
         ],
         "xaxis": "x",
         "y": [
          57841.1,
          57899.42
         ],
         "yaxis": "y"
        },
        {
         "base": 57841.1,
         "marker": {
          "color": "darkgray",
          "line": {
           "width": 0
          }
         },
         "showlegend": false,
         "type": "bar",
         "width": 0.6,
         "x": [
          "2024-09-17T02:10:00"
         ],
         "xaxis": "x",
         "y": [
          58.31999999999971
         ],
         "yaxis": "y"
        },
        {
         "line": {
          "color": "gray",
          "width": 1
         },
         "mode": "lines",
         "showlegend": false,
         "type": "scatter",
         "x": [
          "2024-09-17T02:15:00",
          "2024-09-17T02:15:00"
         ],
         "xaxis": "x",
         "y": [
          57837.17,
          57966
         ],
         "yaxis": "y"
        },
        {
         "base": 57841.11,
         "marker": {
          "color": "gray",
          "line": {
           "width": 0
          }
         },
         "showlegend": false,
         "type": "bar",
         "width": 0.6,
         "x": [
          "2024-09-17T02:15:00"
         ],
         "xaxis": "x",
         "y": [
          102.90000000000146
         ],
         "yaxis": "y"
        },
        {
         "line": {
          "color": "fuchsia",
          "width": 1
         },
         "mode": "lines",
         "showlegend": false,
         "type": "scatter",
         "x": [
          "2024-09-17T02:20:00",
          "2024-09-17T02:20:00"
         ],
         "xaxis": "x",
         "y": [
          57852.57,
          57944
         ],
         "yaxis": "y"
        },
        {
         "base": 57921.99,
         "marker": {
          "color": "fuchsia",
          "line": {
           "width": 0
          }
         },
         "showlegend": false,
         "type": "bar",
         "width": 0.6,
         "x": [
          "2024-09-17T02:20:00"
         ],
         "xaxis": "x",
         "y": [
          22.010000000002037
         ],
         "yaxis": "y"
        },
        {
         "line": {
          "color": "darkgray",
          "width": 1
         },
         "mode": "lines",
         "showlegend": false,
         "type": "scatter",
         "x": [
          "2024-09-17T02:25:00",
          "2024-09-17T02:25:00"
         ],
         "xaxis": "x",
         "y": [
          57901.11,
          57972
         ],
         "yaxis": "y"
        },
        {
         "base": 57902.01,
         "marker": {
          "color": "darkgray",
          "line": {
           "width": 0
          }
         },
         "showlegend": false,
         "type": "bar",
         "width": 0.6,
         "x": [
          "2024-09-17T02:25:00"
         ],
         "xaxis": "x",
         "y": [
          19.970000000001164
         ],
         "yaxis": "y"
        },
        {
         "line": {
          "color": "gray",
          "width": 1
         },
         "mode": "lines",
         "showlegend": false,
         "type": "scatter",
         "x": [
          "2024-09-17T02:30:00",
          "2024-09-17T02:30:00"
         ],
         "xaxis": "x",
         "y": [
          57882,
          57928
         ],
         "yaxis": "y"
        },
        {
         "base": 57902,
         "marker": {
          "color": "gray",
          "line": {
           "width": 0
          }
         },
         "showlegend": false,
         "type": "bar",
         "width": 0.6,
         "x": [
          "2024-09-17T02:30:00"
         ],
         "xaxis": "x",
         "y": [
          25.989999999997963
         ],
         "yaxis": "y"
        },
        {
         "line": {
          "color": "gray",
          "width": 1
         },
         "mode": "lines",
         "showlegend": false,
         "type": "scatter",
         "x": [
          "2024-09-17T02:35:00",
          "2024-09-17T02:35:00"
         ],
         "xaxis": "x",
         "y": [
          57927.99,
          58034.49
         ],
         "yaxis": "y"
        },
        {
         "base": 57928,
         "marker": {
          "color": "gray",
          "line": {
           "width": 0
          }
         },
         "showlegend": false,
         "type": "bar",
         "width": 0.6,
         "x": [
          "2024-09-17T02:35:00"
         ],
         "xaxis": "x",
         "y": [
          71.87999999999738
         ],
         "yaxis": "y"
        },
        {
         "line": {
          "color": "lime",
          "width": 1
         },
         "mode": "lines",
         "showlegend": false,
         "type": "scatter",
         "x": [
          "2024-09-17T02:40:00",
          "2024-09-17T02:40:00"
         ],
         "xaxis": "x",
         "y": [
          57999.88,
          58146
         ],
         "yaxis": "y"
        },
        {
         "base": 57999.88,
         "marker": {
          "color": "lime",
          "line": {
           "width": 0
          }
         },
         "showlegend": false,
         "type": "bar",
         "width": 0.6,
         "x": [
          "2024-09-17T02:40:00"
         ],
         "xaxis": "x",
         "y": [
          110.12000000000262
         ],
         "yaxis": "y"
        },
        {
         "line": {
          "color": "blue",
          "width": 1
         },
         "mode": "lines",
         "showlegend": false,
         "type": "scatter",
         "x": [
          "2024-09-17T02:45:00",
          "2024-09-17T02:45:00"
         ],
         "xaxis": "x",
         "y": [
          58109.99,
          58211.1
         ],
         "yaxis": "y"
        },
        {
         "base": 58109.99,
         "marker": {
          "color": "blue",
          "line": {
           "width": 0
          }
         },
         "showlegend": false,
         "type": "bar",
         "width": 0.6,
         "x": [
          "2024-09-17T02:45:00"
         ],
         "xaxis": "x",
         "y": [
          86.01000000000204
         ],
         "yaxis": "y"
        },
        {
         "line": {
          "color": "darkgray",
          "width": 1
         },
         "mode": "lines",
         "showlegend": false,
         "type": "scatter",
         "x": [
          "2024-09-17T02:50:00",
          "2024-09-17T02:50:00"
         ],
         "xaxis": "x",
         "y": [
          58068,
          58196.01
         ],
         "yaxis": "y"
        },
        {
         "base": 58106.02,
         "marker": {
          "color": "darkgray",
          "line": {
           "width": 0
          }
         },
         "showlegend": false,
         "type": "bar",
         "width": 0.6,
         "x": [
          "2024-09-17T02:50:00"
         ],
         "xaxis": "x",
         "y": [
          89.9800000000032
         ],
         "yaxis": "y"
        },
        {
         "line": {
          "color": "gray",
          "width": 1
         },
         "mode": "lines",
         "showlegend": false,
         "type": "scatter",
         "x": [
          "2024-09-17T02:55:00",
          "2024-09-17T02:55:00"
         ],
         "xaxis": "x",
         "y": [
          58098,
          58118
         ],
         "yaxis": "y"
        },
        {
         "base": 58106.01,
         "marker": {
          "color": "gray",
          "line": {
           "width": 0
          }
         },
         "showlegend": false,
         "type": "bar",
         "width": 0.6,
         "x": [
          "2024-09-17T02:55:00"
         ],
         "xaxis": "x",
         "y": [
          9.509999999994761
         ],
         "yaxis": "y"
        },
        {
         "line": {
          "color": "lime",
          "width": 1
         },
         "mode": "lines",
         "showlegend": false,
         "type": "scatter",
         "x": [
          "2024-09-17T03:00:00",
          "2024-09-17T03:00:00"
         ],
         "xaxis": "x",
         "y": [
          58021.33,
          58145.86
         ],
         "yaxis": "y"
        },
        {
         "base": 58115.53,
         "marker": {
          "color": "lime",
          "line": {
           "width": 0
          }
         },
         "showlegend": false,
         "type": "bar",
         "width": 0.6,
         "x": [
          "2024-09-17T03:00:00"
         ],
         "xaxis": "x",
         "y": [
          22.470000000001164
         ],
         "yaxis": "y"
        },
        {
         "line": {
          "color": "darkgray",
          "width": 1
         },
         "mode": "lines",
         "showlegend": false,
         "type": "scatter",
         "x": [
          "2024-09-17T03:05:00",
          "2024-09-17T03:05:00"
         ],
         "xaxis": "x",
         "y": [
          58087.64,
          58148.84
         ],
         "yaxis": "y"
        },
        {
         "base": 58096,
         "marker": {
          "color": "darkgray",
          "line": {
           "width": 0
          }
         },
         "showlegend": false,
         "type": "bar",
         "width": 0.6,
         "x": [
          "2024-09-17T03:05:00"
         ],
         "xaxis": "x",
         "y": [
          42
         ],
         "yaxis": "y"
        },
        {
         "line": {
          "color": "darkgray",
          "width": 1
         },
         "mode": "lines",
         "showlegend": false,
         "type": "scatter",
         "x": [
          "2024-09-17T03:10:00",
          "2024-09-17T03:10:00"
         ],
         "xaxis": "x",
         "y": [
          58082.01,
          58130
         ],
         "yaxis": "y"
        },
        {
         "base": 58082.02,
         "marker": {
          "color": "darkgray",
          "line": {
           "width": 0
          }
         },
         "showlegend": false,
         "type": "bar",
         "width": 0.6,
         "x": [
          "2024-09-17T03:10:00"
         ],
         "xaxis": "x",
         "y": [
          13.980000000003201
         ],
         "yaxis": "y"
        },
        {
         "line": {
          "color": "darkgray",
          "width": 1
         },
         "mode": "lines",
         "showlegend": false,
         "type": "scatter",
         "x": [
          "2024-09-17T03:15:00",
          "2024-09-17T03:15:00"
         ],
         "xaxis": "x",
         "y": [
          58037.09,
          58114
         ],
         "yaxis": "y"
        },
        {
         "base": 58040.34,
         "marker": {
          "color": "darkgray",
          "line": {
           "width": 0
          }
         },
         "showlegend": false,
         "type": "bar",
         "width": 0.6,
         "x": [
          "2024-09-17T03:15:00"
         ],
         "xaxis": "x",
         "y": [
          41.68000000000029
         ],
         "yaxis": "y"
        },
        {
         "line": {
          "color": "gray",
          "width": 1
         },
         "mode": "lines",
         "showlegend": false,
         "type": "scatter",
         "x": [
          "2024-09-17T03:20:00",
          "2024-09-17T03:20:00"
         ],
         "xaxis": "x",
         "y": [
          58011.1,
          58088
         ],
         "yaxis": "y"
        },
        {
         "base": 58040.34,
         "marker": {
          "color": "gray",
          "line": {
           "width": 0
          }
         },
         "showlegend": false,
         "type": "bar",
         "width": 0.6,
         "x": [
          "2024-09-17T03:20:00"
         ],
         "xaxis": "x",
         "y": [
          42.99000000000524
         ],
         "yaxis": "y"
        },
        {
         "line": {
          "color": "darkgray",
          "width": 1
         },
         "mode": "lines",
         "showlegend": false,
         "type": "scatter",
         "x": [
          "2024-09-17T03:25:00",
          "2024-09-17T03:25:00"
         ],
         "xaxis": "x",
         "y": [
          58054,
          58086
         ],
         "yaxis": "y"
        },
        {
         "base": 58081.09,
         "marker": {
          "color": "darkgray",
          "line": {
           "width": 0
          }
         },
         "showlegend": false,
         "type": "bar",
         "width": 0.6,
         "x": [
          "2024-09-17T03:25:00"
         ],
         "xaxis": "x",
         "y": [
          2.25
         ],
         "yaxis": "y"
        },
        {
         "line": {
          "color": "darkgray",
          "width": 1
         },
         "mode": "lines",
         "showlegend": false,
         "type": "scatter",
         "x": [
          "2024-09-17T03:30:00",
          "2024-09-17T03:30:00"
         ],
         "xaxis": "x",
         "y": [
          58064,
          58088
         ],
         "yaxis": "y"
        },
        {
         "base": 58076.43,
         "marker": {
          "color": "darkgray",
          "line": {
           "width": 0
          }
         },
         "showlegend": false,
         "type": "bar",
         "width": 0.6,
         "x": [
          "2024-09-17T03:30:00"
         ],
         "xaxis": "x",
         "y": [
          4.669999999998254
         ],
         "yaxis": "y"
        },
        {
         "line": {
          "color": "gray",
          "width": 1
         },
         "mode": "lines",
         "showlegend": false,
         "type": "scatter",
         "x": [
          "2024-09-17T03:35:00",
          "2024-09-17T03:35:00"
         ],
         "xaxis": "x",
         "y": [
          58076.42,
          58140
         ],
         "yaxis": "y"
        },
        {
         "base": 58076.42,
         "marker": {
          "color": "gray",
          "line": {
           "width": 0
          }
         },
         "showlegend": false,
         "type": "bar",
         "width": 0.6,
         "x": [
          "2024-09-17T03:35:00"
         ],
         "xaxis": "x",
         "y": [
          23.580000000001746
         ],
         "yaxis": "y"
        },
        {
         "line": {
          "color": "gray",
          "width": 1
         },
         "mode": "lines",
         "showlegend": false,
         "type": "scatter",
         "x": [
          "2024-09-17T03:40:00",
          "2024-09-17T03:40:00"
         ],
         "xaxis": "x",
         "y": [
          58100,
          58131.1
         ],
         "yaxis": "y"
        },
        {
         "base": 58100.01,
         "marker": {
          "color": "gray",
          "line": {
           "width": 0
          }
         },
         "showlegend": false,
         "type": "bar",
         "width": 0.6,
         "x": [
          "2024-09-17T03:40:00"
         ],
         "xaxis": "x",
         "y": [
          31.089999999996508
         ],
         "yaxis": "y"
        },
        {
         "line": {
          "color": "darkgray",
          "width": 1
         },
         "mode": "lines",
         "showlegend": false,
         "type": "scatter",
         "x": [
          "2024-09-17T03:45:00",
          "2024-09-17T03:45:00"
         ],
         "xaxis": "x",
         "y": [
          58080,
          58136
         ],
         "yaxis": "y"
        },
        {
         "base": 58109.99,
         "marker": {
          "color": "darkgray",
          "line": {
           "width": 0
          }
         },
         "showlegend": false,
         "type": "bar",
         "width": 0.6,
         "x": [
          "2024-09-17T03:45:00"
         ],
         "xaxis": "x",
         "y": [
          21.110000000000582
         ],
         "yaxis": "y"
        },
        {
         "line": {
          "color": "darkgray",
          "width": 1
         },
         "mode": "lines",
         "showlegend": false,
         "type": "scatter",
         "x": [
          "2024-09-17T03:50:00",
          "2024-09-17T03:50:00"
         ],
         "xaxis": "x",
         "y": [
          58062,
          58110
         ],
         "yaxis": "y"
        },
        {
         "base": 58081.5,
         "marker": {
          "color": "darkgray",
          "line": {
           "width": 0
          }
         },
         "showlegend": false,
         "type": "bar",
         "width": 0.6,
         "x": [
          "2024-09-17T03:50:00"
         ],
         "xaxis": "x",
         "y": [
          28.489999999997963
         ],
         "yaxis": "y"
        },
        {
         "line": {
          "color": "darkgray",
          "width": 1
         },
         "mode": "lines",
         "showlegend": false,
         "type": "scatter",
         "x": [
          "2024-09-17T03:55:00",
          "2024-09-17T03:55:00"
         ],
         "xaxis": "x",
         "y": [
          58049.64,
          58082
         ],
         "yaxis": "y"
        },
        {
         "base": 58060,
         "marker": {
          "color": "darkgray",
          "line": {
           "width": 0
          }
         },
         "showlegend": false,
         "type": "bar",
         "width": 0.6,
         "x": [
          "2024-09-17T03:55:00"
         ],
         "xaxis": "x",
         "y": [
          21.510000000002037
         ],
         "yaxis": "y"
        },
        {
         "line": {
          "color": "gray",
          "width": 1
         },
         "mode": "lines",
         "showlegend": false,
         "type": "scatter",
         "x": [
          "2024-09-17T04:00:00",
          "2024-09-17T04:00:00"
         ],
         "xaxis": "x",
         "y": [
          58028,
          58070
         ],
         "yaxis": "y"
        },
        {
         "base": 58060,
         "marker": {
          "color": "gray",
          "line": {
           "width": 0
          }
         },
         "showlegend": false,
         "type": "bar",
         "width": 0.6,
         "x": [
          "2024-09-17T04:00:00"
         ],
         "xaxis": "x",
         "y": [
          5.80000000000291
         ],
         "yaxis": "y"
        },
        {
         "line": {
          "color": "gray",
          "width": 1
         },
         "mode": "lines",
         "showlegend": false,
         "type": "scatter",
         "x": [
          "2024-09-17T04:05:00",
          "2024-09-17T04:05:00"
         ],
         "xaxis": "x",
         "y": [
          58065.8,
          58138
         ],
         "yaxis": "y"
        },
        {
         "base": 58065.81,
         "marker": {
          "color": "gray",
          "line": {
           "width": 0
          }
         },
         "showlegend": false,
         "type": "bar",
         "width": 0.6,
         "x": [
          "2024-09-17T04:05:00"
         ],
         "xaxis": "x",
         "y": [
          58.19000000000233
         ],
         "yaxis": "y"
        },
        {
         "line": {
          "color": "gray",
          "width": 1
         },
         "mode": "lines",
         "showlegend": false,
         "type": "scatter",
         "x": [
          "2024-09-17T04:10:00",
          "2024-09-17T04:10:00"
         ],
         "xaxis": "x",
         "y": [
          58121.09,
          58168
         ],
         "yaxis": "y"
        },
        {
         "base": 58124,
         "marker": {
          "color": "gray",
          "line": {
           "width": 0
          }
         },
         "showlegend": false,
         "type": "bar",
         "width": 0.6,
         "x": [
          "2024-09-17T04:10:00"
         ],
         "xaxis": "x",
         "y": [
          26
         ],
         "yaxis": "y"
        },
        {
         "line": {
          "color": "lime",
          "width": 1
         },
         "mode": "lines",
         "showlegend": false,
         "type": "scatter",
         "x": [
          "2024-09-17T04:15:00",
          "2024-09-17T04:15:00"
         ],
         "xaxis": "x",
         "y": [
          58142.01,
          58168.9
         ],
         "yaxis": "y"
        },
        {
         "base": 58150,
         "marker": {
          "color": "lime",
          "line": {
           "width": 0
          }
         },
         "showlegend": false,
         "type": "bar",
         "width": 0.6,
         "x": [
          "2024-09-17T04:15:00"
         ],
         "xaxis": "x",
         "y": [
          10.019999999996799
         ],
         "yaxis": "y"
        },
        {
         "line": {
          "color": "gray",
          "width": 1
         },
         "mode": "lines",
         "showlegend": false,
         "type": "scatter",
         "x": [
          "2024-09-17T04:20:00",
          "2024-09-17T04:20:00"
         ],
         "xaxis": "x",
         "y": [
          58148.15,
          58190
         ],
         "yaxis": "y"
        },
        {
         "base": 58160.02,
         "marker": {
          "color": "gray",
          "line": {
           "width": 0
          }
         },
         "showlegend": false,
         "type": "bar",
         "width": 0.6,
         "x": [
          "2024-09-17T04:20:00"
         ],
         "xaxis": "x",
         "y": [
          29.970000000001164
         ],
         "yaxis": "y"
        },
        {
         "line": {
          "color": "lime",
          "width": 1
         },
         "mode": "lines",
         "showlegend": false,
         "type": "scatter",
         "x": [
          "2024-09-17T04:25:00",
          "2024-09-17T04:25:00"
         ],
         "xaxis": "x",
         "y": [
          58186,
          58249.99
         ],
         "yaxis": "y"
        },
        {
         "base": 58189.99,
         "marker": {
          "color": "lime",
          "line": {
           "width": 0
          }
         },
         "showlegend": false,
         "type": "bar",
         "width": 0.6,
         "x": [
          "2024-09-17T04:25:00"
         ],
         "xaxis": "x",
         "y": [
          35.31000000000495
         ],
         "yaxis": "y"
        },
        {
         "line": {
          "color": "gray",
          "width": 1
         },
         "mode": "lines",
         "showlegend": false,
         "type": "scatter",
         "x": [
          "2024-09-17T04:30:00",
          "2024-09-17T04:30:00"
         ],
         "xaxis": "x",
         "y": [
          58224,
          58260
         ],
         "yaxis": "y"
        },
        {
         "base": 58225.3,
         "marker": {
          "color": "gray",
          "line": {
           "width": 0
          }
         },
         "showlegend": false,
         "type": "bar",
         "width": 0.6,
         "x": [
          "2024-09-17T04:30:00"
         ],
         "xaxis": "x",
         "y": [
          15.789999999993597
         ],
         "yaxis": "y"
        },
        {
         "line": {
          "color": "gray",
          "width": 1
         },
         "mode": "lines",
         "showlegend": false,
         "type": "scatter",
         "x": [
          "2024-09-17T04:35:00",
          "2024-09-17T04:35:00"
         ],
         "xaxis": "x",
         "y": [
          58206.06,
          58263.56
         ],
         "yaxis": "y"
        },
        {
         "base": 58241.1,
         "marker": {
          "color": "gray",
          "line": {
           "width": 0
          }
         },
         "showlegend": false,
         "type": "bar",
         "width": 0.6,
         "x": [
          "2024-09-17T04:35:00"
         ],
         "xaxis": "x",
         "y": [
          19.4800000000032
         ],
         "yaxis": "y"
        },
        {
         "line": {
          "color": "gray",
          "width": 1
         },
         "mode": "lines",
         "showlegend": false,
         "type": "scatter",
         "x": [
          "2024-09-17T04:40:00",
          "2024-09-17T04:40:00"
         ],
         "xaxis": "x",
         "y": [
          58240,
          58274.84
         ],
         "yaxis": "y"
        },
        {
         "base": 58260.58,
         "marker": {
          "color": "gray",
          "line": {
           "width": 0
          }
         },
         "showlegend": false,
         "type": "bar",
         "width": 0.6,
         "x": [
          "2024-09-17T04:40:00"
         ],
         "xaxis": "x",
         "y": [
          14.25
         ],
         "yaxis": "y"
        },
        {
         "line": {
          "color": "gray",
          "width": 1
         },
         "mode": "lines",
         "showlegend": false,
         "type": "scatter",
         "x": [
          "2024-09-17T04:45:00",
          "2024-09-17T04:45:00"
         ],
         "xaxis": "x",
         "y": [
          58274.82,
          58299.84
         ],
         "yaxis": "y"
        },
        {
         "base": 58274.82,
         "marker": {
          "color": "gray",
          "line": {
           "width": 0
          }
         },
         "showlegend": false,
         "type": "bar",
         "width": 0.6,
         "x": [
          "2024-09-17T04:45:00"
         ],
         "xaxis": "x",
         "y": [
          21.840000000003783
         ],
         "yaxis": "y"
        },
        {
         "line": {
          "color": "red",
          "width": 1
         },
         "mode": "lines",
         "showlegend": false,
         "type": "scatter",
         "x": [
          "2024-09-17T04:50:00",
          "2024-09-17T04:50:00"
         ],
         "xaxis": "x",
         "y": [
          58250,
          58350.03
         ],
         "yaxis": "y"
        },
        {
         "base": 58250,
         "marker": {
          "color": "red",
          "line": {
           "width": 0
          }
         },
         "showlegend": false,
         "type": "bar",
         "width": 0.6,
         "x": [
          "2024-09-17T04:50:00"
         ],
         "xaxis": "x",
         "y": [
          46.66000000000349
         ],
         "yaxis": "y"
        },
        {
         "line": {
          "color": "darkgray",
          "width": 1
         },
         "mode": "lines",
         "showlegend": false,
         "type": "scatter",
         "x": [
          "2024-09-17T04:55:00",
          "2024-09-17T04:55:00"
         ],
         "xaxis": "x",
         "y": [
          58234,
          58250.01
         ],
         "yaxis": "y"
        },
        {
         "base": 58246.01,
         "marker": {
          "color": "darkgray",
          "line": {
           "width": 0
          }
         },
         "showlegend": false,
         "type": "bar",
         "width": 0.6,
         "x": [
          "2024-09-17T04:55:00"
         ],
         "xaxis": "x",
         "y": [
          3.9899999999979627
         ],
         "yaxis": "y"
        },
        {
         "line": {
          "color": "gray",
          "width": 1
         },
         "mode": "lines",
         "showlegend": false,
         "type": "scatter",
         "x": [
          "2024-09-17T05:00:00",
          "2024-09-17T05:00:00"
         ],
         "xaxis": "x",
         "y": [
          58232.87,
          58270
         ],
         "yaxis": "y"
        },
        {
         "base": 58246,
         "marker": {
          "color": "gray",
          "line": {
           "width": 0
          }
         },
         "showlegend": false,
         "type": "bar",
         "width": 0.6,
         "x": [
          "2024-09-17T05:00:00"
         ],
         "xaxis": "x",
         "y": [
          24
         ],
         "yaxis": "y"
        },
        {
         "line": {
          "color": "gray",
          "width": 1
         },
         "mode": "lines",
         "showlegend": false,
         "type": "scatter",
         "x": [
          "2024-09-17T05:05:00",
          "2024-09-17T05:05:00"
         ],
         "xaxis": "x",
         "y": [
          58262,
          58288.28
         ],
         "yaxis": "y"
        },
        {
         "base": 58270,
         "marker": {
          "color": "gray",
          "line": {
           "width": 0
          }
         },
         "showlegend": false,
         "type": "bar",
         "width": 0.6,
         "x": [
          "2024-09-17T05:05:00"
         ],
         "xaxis": "x",
         "y": [
          8
         ],
         "yaxis": "y"
        },
        {
         "line": {
          "color": "gray",
          "width": 1
         },
         "mode": "lines",
         "showlegend": false,
         "type": "scatter",
         "x": [
          "2024-09-17T05:10:00",
          "2024-09-17T05:10:00"
         ],
         "xaxis": "x",
         "y": [
          58278,
          58324
         ],
         "yaxis": "y"
        },
        {
         "base": 58278,
         "marker": {
          "color": "gray",
          "line": {
           "width": 0
          }
         },
         "showlegend": false,
         "type": "bar",
         "width": 0.6,
         "x": [
          "2024-09-17T05:10:00"
         ],
         "xaxis": "x",
         "y": [
          30.010000000002037
         ],
         "yaxis": "y"
        },
        {
         "line": {
          "color": "gray",
          "width": 1
         },
         "mode": "lines",
         "showlegend": false,
         "type": "scatter",
         "x": [
          "2024-09-17T05:15:00",
          "2024-09-17T05:15:00"
         ],
         "xaxis": "x",
         "y": [
          58308.01,
          58337.35
         ],
         "yaxis": "y"
        },
        {
         "base": 58308.01,
         "marker": {
          "color": "gray",
          "line": {
           "width": 0
          }
         },
         "showlegend": false,
         "type": "bar",
         "width": 0.6,
         "x": [
          "2024-09-17T05:15:00"
         ],
         "xaxis": "x",
         "y": [
          12
         ],
         "yaxis": "y"
        },
        {
         "line": {
          "color": "gray",
          "width": 1
         },
         "mode": "lines",
         "showlegend": false,
         "type": "scatter",
         "x": [
          "2024-09-17T05:20:00",
          "2024-09-17T05:20:00"
         ],
         "xaxis": "x",
         "y": [
          58304.73,
          58330
         ],
         "yaxis": "y"
        },
        {
         "base": 58320,
         "marker": {
          "color": "gray",
          "line": {
           "width": 0
          }
         },
         "showlegend": false,
         "type": "bar",
         "width": 0.6,
         "x": [
          "2024-09-17T05:20:00"
         ],
         "xaxis": "x",
         "y": [
          1.2300000000032014
         ],
         "yaxis": "y"
        },
        {
         "line": {
          "color": "gray",
          "width": 1
         },
         "mode": "lines",
         "showlegend": false,
         "type": "scatter",
         "x": [
          "2024-09-17T05:25:00",
          "2024-09-17T05:25:00"
         ],
         "xaxis": "x",
         "y": [
          58321.22,
          58368.85
         ],
         "yaxis": "y"
        },
        {
         "base": 58321.22,
         "marker": {
          "color": "gray",
          "line": {
           "width": 0
          }
         },
         "showlegend": false,
         "type": "bar",
         "width": 0.6,
         "x": [
          "2024-09-17T05:25:00"
         ],
         "xaxis": "x",
         "y": [
          44.76000000000204
         ],
         "yaxis": "y"
        },
        {
         "line": {
          "color": "gray",
          "width": 1
         },
         "mode": "lines",
         "showlegend": false,
         "type": "scatter",
         "x": [
          "2024-09-17T05:30:00",
          "2024-09-17T05:30:00"
         ],
         "xaxis": "x",
         "y": [
          58365.98,
          58470
         ],
         "yaxis": "y"
        },
        {
         "base": 58365.99,
         "marker": {
          "color": "gray",
          "line": {
           "width": 0
          }
         },
         "showlegend": false,
         "type": "bar",
         "width": 0.6,
         "x": [
          "2024-09-17T05:30:00"
         ],
         "xaxis": "x",
         "y": [
          104
         ],
         "yaxis": "y"
        },
        {
         "line": {
          "color": "darkgray",
          "width": 1
         },
         "mode": "lines",
         "showlegend": false,
         "type": "scatter",
         "x": [
          "2024-09-17T05:35:00",
          "2024-09-17T05:35:00"
         ],
         "xaxis": "x",
         "y": [
          58401.64,
          58470
         ],
         "yaxis": "y"
        },
        {
         "base": 58414,
         "marker": {
          "color": "darkgray",
          "line": {
           "width": 0
          }
         },
         "showlegend": false,
         "type": "bar",
         "width": 0.6,
         "x": [
          "2024-09-17T05:35:00"
         ],
         "xaxis": "x",
         "y": [
          56
         ],
         "yaxis": "y"
        },
        {
         "line": {
          "color": "gray",
          "width": 1
         },
         "mode": "lines",
         "showlegend": false,
         "type": "scatter",
         "x": [
          "2024-09-17T05:40:00",
          "2024-09-17T05:40:00"
         ],
         "xaxis": "x",
         "y": [
          58410.16,
          58420
         ],
         "yaxis": "y"
        },
        {
         "base": 58414.01,
         "marker": {
          "color": "gray",
          "line": {
           "width": 0
          }
         },
         "showlegend": false,
         "type": "bar",
         "width": 0.6,
         "x": [
          "2024-09-17T05:40:00"
         ],
         "xaxis": "x",
         "y": [
          5.989999999997963
         ],
         "yaxis": "y"
        },
        {
         "line": {
          "color": "gray",
          "width": 1
         },
         "mode": "lines",
         "showlegend": false,
         "type": "scatter",
         "x": [
          "2024-09-17T05:45:00",
          "2024-09-17T05:45:00"
         ],
         "xaxis": "x",
         "y": [
          58419.99,
          58500
         ],
         "yaxis": "y"
        },
        {
         "base": 58420,
         "marker": {
          "color": "gray",
          "line": {
           "width": 0
          }
         },
         "showlegend": false,
         "type": "bar",
         "width": 0.6,
         "x": [
          "2024-09-17T05:45:00"
         ],
         "xaxis": "x",
         "y": [
          78
         ],
         "yaxis": "y"
        },
        {
         "line": {
          "color": "lime",
          "width": 1
         },
         "mode": "lines",
         "showlegend": false,
         "type": "scatter",
         "x": [
          "2024-09-17T05:50:00",
          "2024-09-17T05:50:00"
         ],
         "xaxis": "x",
         "y": [
          58497.97,
          58779.08
         ],
         "yaxis": "y"
        },
        {
         "base": 58498,
         "marker": {
          "color": "lime",
          "line": {
           "width": 0
          }
         },
         "showlegend": false,
         "type": "bar",
         "width": 0.6,
         "x": [
          "2024-09-17T05:50:00"
         ],
         "xaxis": "x",
         "y": [
          262.1100000000006
         ],
         "yaxis": "y"
        },
        {
         "line": {
          "color": "fuchsia",
          "width": 1
         },
         "mode": "lines",
         "showlegend": false,
         "type": "scatter",
         "x": [
          "2024-09-17T05:55:00",
          "2024-09-17T05:55:00"
         ],
         "xaxis": "x",
         "y": [
          58642.76,
          58760.11
         ],
         "yaxis": "y"
        },
        {
         "base": 58642.76,
         "marker": {
          "color": "fuchsia",
          "line": {
           "width": 0
          }
         },
         "showlegend": false,
         "type": "bar",
         "width": 0.6,
         "x": [
          "2024-09-17T05:55:00"
         ],
         "xaxis": "x",
         "y": [
          117.33999999999651
         ],
         "yaxis": "y"
        },
        {
         "line": {
          "color": "darkgray",
          "width": 1
         },
         "mode": "lines",
         "showlegend": false,
         "type": "scatter",
         "x": [
          "2024-09-17T06:00:00",
          "2024-09-17T06:00:00"
         ],
         "xaxis": "x",
         "y": [
          58538,
          58670
         ],
         "yaxis": "y"
        },
        {
         "base": 58538,
         "marker": {
          "color": "darkgray",
          "line": {
           "width": 0
          }
         },
         "showlegend": false,
         "type": "bar",
         "width": 0.6,
         "x": [
          "2024-09-17T06:00:00"
         ],
         "xaxis": "x",
         "y": [
          104.62000000000262
         ],
         "yaxis": "y"
        },
        {
         "line": {
          "color": "gray",
          "width": 1
         },
         "mode": "lines",
         "showlegend": false,
         "type": "scatter",
         "x": [
          "2024-09-17T06:05:00",
          "2024-09-17T06:05:00"
         ],
         "xaxis": "x",
         "y": [
          58521.75,
          58606.45
         ],
         "yaxis": "y"
        },
        {
         "base": 58538,
         "marker": {
          "color": "gray",
          "line": {
           "width": 0
          }
         },
         "showlegend": false,
         "type": "bar",
         "width": 0.6,
         "x": [
          "2024-09-17T06:05:00"
         ],
         "xaxis": "x",
         "y": [
          16.010000000002037
         ],
         "yaxis": "y"
        },
        {
         "line": {
          "color": "darkgray",
          "width": 1
         },
         "mode": "lines",
         "showlegend": false,
         "type": "scatter",
         "x": [
          "2024-09-17T06:10:00",
          "2024-09-17T06:10:00"
         ],
         "xaxis": "x",
         "y": [
          58498.85,
          58554.01
         ],
         "yaxis": "y"
        },
        {
         "base": 58501.69,
         "marker": {
          "color": "darkgray",
          "line": {
           "width": 0
          }
         },
         "showlegend": false,
         "type": "bar",
         "width": 0.6,
         "x": [
          "2024-09-17T06:10:00"
         ],
         "xaxis": "x",
         "y": [
          52.31999999999971
         ],
         "yaxis": "y"
        },
        {
         "line": {
          "color": "gray",
          "width": 1
         },
         "mode": "lines",
         "showlegend": false,
         "type": "scatter",
         "x": [
          "2024-09-17T06:15:00",
          "2024-09-17T06:15:00"
         ],
         "xaxis": "x",
         "y": [
          58491.1,
          58538
         ],
         "yaxis": "y"
        },
        {
         "base": 58501.7,
         "marker": {
          "color": "gray",
          "line": {
           "width": 0
          }
         },
         "showlegend": false,
         "type": "bar",
         "width": 0.6,
         "x": [
          "2024-09-17T06:15:00"
         ],
         "xaxis": "x",
         "y": [
          28.12000000000262
         ],
         "yaxis": "y"
        },
        {
         "line": {
          "color": "darkgray",
          "width": 1
         },
         "mode": "lines",
         "showlegend": false,
         "type": "scatter",
         "x": [
          "2024-09-17T06:20:00",
          "2024-09-17T06:20:00"
         ],
         "xaxis": "x",
         "y": [
          58468.7,
          58560.41
         ],
         "yaxis": "y"
        },
        {
         "base": 58492.52,
         "marker": {
          "color": "darkgray",
          "line": {
           "width": 0
          }
         },
         "showlegend": false,
         "type": "bar",
         "width": 0.6,
         "x": [
          "2024-09-17T06:20:00"
         ],
         "xaxis": "x",
         "y": [
          37.30000000000291
         ],
         "yaxis": "y"
        },
        {
         "line": {
          "color": "darkgray",
          "width": 1
         },
         "mode": "lines",
         "showlegend": false,
         "type": "scatter",
         "x": [
          "2024-09-17T06:25:00",
          "2024-09-17T06:25:00"
         ],
         "xaxis": "x",
         "y": [
          58450,
          58492.52
         ],
         "yaxis": "y"
        },
        {
         "base": 58450,
         "marker": {
          "color": "darkgray",
          "line": {
           "width": 0
          }
         },
         "showlegend": false,
         "type": "bar",
         "width": 0.6,
         "x": [
          "2024-09-17T06:25:00"
         ],
         "xaxis": "x",
         "y": [
          42.51000000000204
         ],
         "yaxis": "y"
        },
        {
         "line": {
          "color": "gray",
          "width": 1
         },
         "mode": "lines",
         "showlegend": false,
         "type": "scatter",
         "x": [
          "2024-09-17T06:30:00",
          "2024-09-17T06:30:00"
         ],
         "xaxis": "x",
         "y": [
          58450,
          58490.91
         ],
         "yaxis": "y"
        },
        {
         "base": 58450,
         "marker": {
          "color": "gray",
          "line": {
           "width": 0
          }
         },
         "showlegend": false,
         "type": "bar",
         "width": 0.6,
         "x": [
          "2024-09-17T06:30:00"
         ],
         "xaxis": "x",
         "y": [
          32
         ],
         "yaxis": "y"
        },
        {
         "line": {
          "color": "gray",
          "width": 1
         },
         "mode": "lines",
         "showlegend": false,
         "type": "scatter",
         "x": [
          "2024-09-17T06:35:00",
          "2024-09-17T06:35:00"
         ],
         "xaxis": "x",
         "y": [
          58482,
          58547.99
         ],
         "yaxis": "y"
        },
        {
         "base": 58482.01,
         "marker": {
          "color": "gray",
          "line": {
           "width": 0
          }
         },
         "showlegend": false,
         "type": "bar",
         "width": 0.6,
         "x": [
          "2024-09-17T06:35:00"
         ],
         "xaxis": "x",
         "y": [
          34
         ],
         "yaxis": "y"
        },
        {
         "line": {
          "color": "gray",
          "width": 1
         },
         "mode": "lines",
         "showlegend": false,
         "type": "scatter",
         "x": [
          "2024-09-17T06:40:00",
          "2024-09-17T06:40:00"
         ],
         "xaxis": "x",
         "y": [
          58514.02,
          58569.87
         ],
         "yaxis": "y"
        },
        {
         "base": 58516.01,
         "marker": {
          "color": "gray",
          "line": {
           "width": 0
          }
         },
         "showlegend": false,
         "type": "bar",
         "width": 0.6,
         "x": [
          "2024-09-17T06:40:00"
         ],
         "xaxis": "x",
         "y": [
          36.04000000000087
         ],
         "yaxis": "y"
        },
        {
         "line": {
          "color": "darkgray",
          "width": 1
         },
         "mode": "lines",
         "showlegend": false,
         "type": "scatter",
         "x": [
          "2024-09-17T06:45:00",
          "2024-09-17T06:45:00"
         ],
         "xaxis": "x",
         "y": [
          58502,
          58552.05
         ],
         "yaxis": "y"
        },
        {
         "base": 58516.01,
         "marker": {
          "color": "darkgray",
          "line": {
           "width": 0
          }
         },
         "showlegend": false,
         "type": "bar",
         "width": 0.6,
         "x": [
          "2024-09-17T06:45:00"
         ],
         "xaxis": "x",
         "y": [
          36.029999999998836
         ],
         "yaxis": "y"
        },
        {
         "line": {
          "color": "darkgray",
          "width": 1
         },
         "mode": "lines",
         "showlegend": false,
         "type": "scatter",
         "x": [
          "2024-09-17T06:50:00",
          "2024-09-17T06:50:00"
         ],
         "xaxis": "x",
         "y": [
          58494.75,
          58534
         ],
         "yaxis": "y"
        },
        {
         "base": 58494.75,
         "marker": {
          "color": "darkgray",
          "line": {
           "width": 0
          }
         },
         "showlegend": false,
         "type": "bar",
         "width": 0.6,
         "x": [
          "2024-09-17T06:50:00"
         ],
         "xaxis": "x",
         "y": [
          21.260000000002037
         ],
         "yaxis": "y"
        },
        {
         "line": {
          "color": "darkgray",
          "width": 1
         },
         "mode": "lines",
         "showlegend": false,
         "type": "scatter",
         "x": [
          "2024-09-17T06:55:00",
          "2024-09-17T06:55:00"
         ],
         "xaxis": "x",
         "y": [
          58488,
          58510.87
         ],
         "yaxis": "y"
        },
        {
         "base": 58488,
         "marker": {
          "color": "darkgray",
          "line": {
           "width": 0
          }
         },
         "showlegend": false,
         "type": "bar",
         "width": 0.6,
         "x": [
          "2024-09-17T06:55:00"
         ],
         "xaxis": "x",
         "y": [
          6.75
         ],
         "yaxis": "y"
        },
        {
         "line": {
          "color": "darkgray",
          "width": 1
         },
         "mode": "lines",
         "showlegend": false,
         "type": "scatter",
         "x": [
          "2024-09-17T07:00:00",
          "2024-09-17T07:00:00"
         ],
         "xaxis": "x",
         "y": [
          58452.78,
          58543.8
         ],
         "yaxis": "y"
        },
        {
         "base": 58471.74,
         "marker": {
          "color": "darkgray",
          "line": {
           "width": 0
          }
         },
         "showlegend": false,
         "type": "bar",
         "width": 0.6,
         "x": [
          "2024-09-17T07:00:00"
         ],
         "xaxis": "x",
         "y": [
          16.260000000002037
         ],
         "yaxis": "y"
        },
        {
         "line": {
          "color": "gray",
          "width": 1
         },
         "mode": "lines",
         "showlegend": false,
         "type": "scatter",
         "x": [
          "2024-09-17T07:05:00",
          "2024-09-17T07:05:00"
         ],
         "xaxis": "x",
         "y": [
          58462.01,
          58564
         ],
         "yaxis": "y"
        },
        {
         "base": 58471.74,
         "marker": {
          "color": "gray",
          "line": {
           "width": 0
          }
         },
         "showlegend": false,
         "type": "bar",
         "width": 0.6,
         "x": [
          "2024-09-17T07:05:00"
         ],
         "xaxis": "x",
         "y": [
          92.26000000000204
         ],
         "yaxis": "y"
        },
        {
         "line": {
          "color": "gray",
          "width": 1
         },
         "mode": "lines",
         "showlegend": false,
         "type": "scatter",
         "x": [
          "2024-09-17T07:10:00",
          "2024-09-17T07:10:00"
         ],
         "xaxis": "x",
         "y": [
          58564,
          58600
         ],
         "yaxis": "y"
        },
        {
         "base": 58564,
         "marker": {
          "color": "gray",
          "line": {
           "width": 0
          }
         },
         "showlegend": false,
         "type": "bar",
         "width": 0.6,
         "x": [
          "2024-09-17T07:10:00"
         ],
         "xaxis": "x",
         "y": [
          12.569999999999709
         ],
         "yaxis": "y"
        },
        {
         "line": {
          "color": "red",
          "width": 1
         },
         "mode": "lines",
         "showlegend": false,
         "type": "scatter",
         "x": [
          "2024-09-17T07:15:00",
          "2024-09-17T07:15:00"
         ],
         "xaxis": "x",
         "y": [
          58566,
          58650
         ],
         "yaxis": "y"
        },
        {
         "base": 58569.02,
         "marker": {
          "color": "red",
          "line": {
           "width": 0
          }
         },
         "showlegend": false,
         "type": "bar",
         "width": 0.6,
         "x": [
          "2024-09-17T07:15:00"
         ],
         "xaxis": "x",
         "y": [
          7.540000000000873
         ],
         "yaxis": "y"
        },
        {
         "line": {
          "color": "red",
          "width": 1
         },
         "mode": "lines",
         "showlegend": false,
         "type": "scatter",
         "x": [
          "2024-09-17T07:20:00",
          "2024-09-17T07:20:00"
         ],
         "xaxis": "x",
         "y": [
          58503.2,
          58576
         ],
         "yaxis": "y"
        },
        {
         "base": 58524.41,
         "marker": {
          "color": "red",
          "line": {
           "width": 0
          }
         },
         "showlegend": false,
         "type": "bar",
         "width": 0.6,
         "x": [
          "2024-09-17T07:20:00"
         ],
         "xaxis": "x",
         "y": [
          44.599999999998545
         ],
         "yaxis": "y"
        },
        {
         "line": {
          "color": "gray",
          "width": 1
         },
         "mode": "lines",
         "showlegend": false,
         "type": "scatter",
         "x": [
          "2024-09-17T07:25:00",
          "2024-09-17T07:25:00"
         ],
         "xaxis": "x",
         "y": [
          58524.4,
          58560
         ],
         "yaxis": "y"
        },
        {
         "base": 58524.4,
         "marker": {
          "color": "gray",
          "line": {
           "width": 0
          }
         },
         "showlegend": false,
         "type": "bar",
         "width": 0.6,
         "x": [
          "2024-09-17T07:25:00"
         ],
         "xaxis": "x",
         "y": [
          26.860000000000582
         ],
         "yaxis": "y"
        },
        {
         "line": {
          "color": "gray",
          "width": 1
         },
         "mode": "lines",
         "showlegend": false,
         "type": "scatter",
         "x": [
          "2024-09-17T07:30:00",
          "2024-09-17T07:30:00"
         ],
         "xaxis": "x",
         "y": [
          58551.25,
          58621.5
         ],
         "yaxis": "y"
        },
        {
         "base": 58551.26,
         "marker": {
          "color": "gray",
          "line": {
           "width": 0
          }
         },
         "showlegend": false,
         "type": "bar",
         "width": 0.6,
         "x": [
          "2024-09-17T07:30:00"
         ],
         "xaxis": "x",
         "y": [
          58.73999999999796
         ],
         "yaxis": "y"
        },
        {
         "line": {
          "color": "gray",
          "width": 1
         },
         "mode": "lines",
         "showlegend": false,
         "type": "scatter",
         "x": [
          "2024-09-17T07:35:00",
          "2024-09-17T07:35:00"
         ],
         "xaxis": "x",
         "y": [
          58610,
          58661.1
         ],
         "yaxis": "y"
        },
        {
         "base": 58610,
         "marker": {
          "color": "gray",
          "line": {
           "width": 0
          }
         },
         "showlegend": false,
         "type": "bar",
         "width": 0.6,
         "x": [
          "2024-09-17T07:35:00"
         ],
         "xaxis": "x",
         "y": [
          51.099999999998545
         ],
         "yaxis": "y"
        },
        {
         "line": {
          "color": "gray",
          "width": 1
         },
         "mode": "lines",
         "showlegend": false,
         "type": "scatter",
         "x": [
          "2024-09-17T07:40:00",
          "2024-09-17T07:40:00"
         ],
         "xaxis": "x",
         "y": [
          58620,
          58677.72
         ],
         "yaxis": "y"
        },
        {
         "base": 58661.1,
         "marker": {
          "color": "gray",
          "line": {
           "width": 0
          }
         },
         "showlegend": false,
         "type": "bar",
         "width": 0.6,
         "x": [
          "2024-09-17T07:40:00"
         ],
         "xaxis": "x",
         "y": [
          12.029999999998836
         ],
         "yaxis": "y"
        },
        {
         "line": {
          "color": "gray",
          "width": 1
         },
         "mode": "lines",
         "showlegend": false,
         "type": "scatter",
         "x": [
          "2024-09-17T07:45:00",
          "2024-09-17T07:45:00"
         ],
         "xaxis": "x",
         "y": [
          58663.32,
          58711.1
         ],
         "yaxis": "y"
        },
        {
         "base": 58673.12,
         "marker": {
          "color": "gray",
          "line": {
           "width": 0
          }
         },
         "showlegend": false,
         "type": "bar",
         "width": 0.6,
         "x": [
          "2024-09-17T07:45:00"
         ],
         "xaxis": "x",
         "y": [
          20.87999999999738
         ],
         "yaxis": "y"
        },
        {
         "line": {
          "color": "darkgray",
          "width": 1
         },
         "mode": "lines",
         "showlegend": false,
         "type": "scatter",
         "x": [
          "2024-09-17T07:50:00",
          "2024-09-17T07:50:00"
         ],
         "xaxis": "x",
         "y": [
          58656,
          58694.01
         ],
         "yaxis": "y"
        },
        {
         "base": 58688.99,
         "marker": {
          "color": "darkgray",
          "line": {
           "width": 0
          }
         },
         "showlegend": false,
         "type": "bar",
         "width": 0.6,
         "x": [
          "2024-09-17T07:50:00"
         ],
         "xaxis": "x",
         "y": [
          5.0200000000040745
         ],
         "yaxis": "y"
        },
        {
         "line": {
          "color": "gray",
          "width": 1
         },
         "mode": "lines",
         "showlegend": false,
         "type": "scatter",
         "x": [
          "2024-09-17T07:55:00",
          "2024-09-17T07:55:00"
         ],
         "xaxis": "x",
         "y": [
          58678.81,
          58705.23
         ],
         "yaxis": "y"
        },
        {
         "base": 58688.99,
         "marker": {
          "color": "gray",
          "line": {
           "width": 0
          }
         },
         "showlegend": false,
         "type": "bar",
         "width": 0.6,
         "x": [
          "2024-09-17T07:55:00"
         ],
         "xaxis": "x",
         "y": [
          6.400000000001455
         ],
         "yaxis": "y"
        },
        {
         "line": {
          "color": "gray",
          "width": 1
         },
         "mode": "lines",
         "showlegend": false,
         "type": "scatter",
         "x": [
          "2024-09-17T08:00:00",
          "2024-09-17T08:00:00"
         ],
         "xaxis": "x",
         "y": [
          58695.39,
          58826.51
         ],
         "yaxis": "y"
        },
        {
         "base": 58695.39,
         "marker": {
          "color": "gray",
          "line": {
           "width": 0
          }
         },
         "showlegend": false,
         "type": "bar",
         "width": 0.6,
         "x": [
          "2024-09-17T08:00:00"
         ],
         "xaxis": "x",
         "y": [
          131.12000000000262
         ],
         "yaxis": "y"
        },
        {
         "line": {
          "color": "darkgray",
          "width": 1
         },
         "mode": "lines",
         "showlegend": false,
         "type": "scatter",
         "x": [
          "2024-09-17T08:05:00",
          "2024-09-17T08:05:00"
         ],
         "xaxis": "x",
         "y": [
          58687.82,
          58848
         ],
         "yaxis": "y"
        },
        {
         "base": 58731.98,
         "marker": {
          "color": "darkgray",
          "line": {
           "width": 0
          }
         },
         "showlegend": false,
         "type": "bar",
         "width": 0.6,
         "x": [
          "2024-09-17T08:05:00"
         ],
         "xaxis": "x",
         "y": [
          94.52999999999884
         ],
         "yaxis": "y"
        },
        {
         "line": {
          "color": "gray",
          "width": 1
         },
         "mode": "lines",
         "showlegend": false,
         "type": "scatter",
         "x": [
          "2024-09-17T08:10:00",
          "2024-09-17T08:10:00"
         ],
         "xaxis": "x",
         "y": [
          58731.97,
          58805.29
         ],
         "yaxis": "y"
        },
        {
         "base": 58731.98,
         "marker": {
          "color": "gray",
          "line": {
           "width": 0
          }
         },
         "showlegend": false,
         "type": "bar",
         "width": 0.6,
         "x": [
          "2024-09-17T08:10:00"
         ],
         "xaxis": "x",
         "y": [
          30.43000000000029
         ],
         "yaxis": "y"
        },
        {
         "line": {
          "color": "darkgray",
          "width": 1
         },
         "mode": "lines",
         "showlegend": false,
         "type": "scatter",
         "x": [
          "2024-09-17T08:15:00",
          "2024-09-17T08:15:00"
         ],
         "xaxis": "x",
         "y": [
          58716.4,
          58799.28
         ],
         "yaxis": "y"
        },
        {
         "base": 58724.02,
         "marker": {
          "color": "darkgray",
          "line": {
           "width": 0
          }
         },
         "showlegend": false,
         "type": "bar",
         "width": 0.6,
         "x": [
          "2024-09-17T08:15:00"
         ],
         "xaxis": "x",
         "y": [
          38.390000000006694
         ],
         "yaxis": "y"
        },
        {
         "line": {
          "color": "darkgray",
          "width": 1
         },
         "mode": "lines",
         "showlegend": false,
         "type": "scatter",
         "x": [
          "2024-09-17T08:20:00",
          "2024-09-17T08:20:00"
         ],
         "xaxis": "x",
         "y": [
          58670,
          58741.1
         ],
         "yaxis": "y"
        },
        {
         "base": 58670,
         "marker": {
          "color": "darkgray",
          "line": {
           "width": 0
          }
         },
         "showlegend": false,
         "type": "bar",
         "width": 0.6,
         "x": [
          "2024-09-17T08:20:00"
         ],
         "xaxis": "x",
         "y": [
          54.0199999999968
         ],
         "yaxis": "y"
        },
        {
         "line": {
          "color": "darkgray",
          "width": 1
         },
         "mode": "lines",
         "showlegend": false,
         "type": "scatter",
         "x": [
          "2024-09-17T08:25:00",
          "2024-09-17T08:25:00"
         ],
         "xaxis": "x",
         "y": [
          58636.36,
          58684
         ],
         "yaxis": "y"
        },
        {
         "base": 58669.63,
         "marker": {
          "color": "darkgray",
          "line": {
           "width": 0
          }
         },
         "showlegend": false,
         "type": "bar",
         "width": 0.6,
         "x": [
          "2024-09-17T08:25:00"
         ],
         "xaxis": "x",
         "y": [
          0.37000000000261934
         ],
         "yaxis": "y"
        },
        {
         "line": {
          "color": "gray",
          "width": 1
         },
         "mode": "lines",
         "showlegend": false,
         "type": "scatter",
         "x": [
          "2024-09-17T08:30:00",
          "2024-09-17T08:30:00"
         ],
         "xaxis": "x",
         "y": [
          58669.63,
          58710.56
         ],
         "yaxis": "y"
        },
        {
         "base": 58669.63,
         "marker": {
          "color": "gray",
          "line": {
           "width": 0
          }
         },
         "showlegend": false,
         "type": "bar",
         "width": 0.6,
         "x": [
          "2024-09-17T08:30:00"
         ],
         "xaxis": "x",
         "y": [
          28.380000000004657
         ],
         "yaxis": "y"
        },
        {
         "line": {
          "color": "gray",
          "width": 1
         },
         "mode": "lines",
         "showlegend": false,
         "type": "scatter",
         "x": [
          "2024-09-17T08:35:00",
          "2024-09-17T08:35:00"
         ],
         "xaxis": "x",
         "y": [
          58698,
          58760
         ],
         "yaxis": "y"
        },
        {
         "base": 58698.01,
         "marker": {
          "color": "gray",
          "line": {
           "width": 0
          }
         },
         "showlegend": false,
         "type": "bar",
         "width": 0.6,
         "x": [
          "2024-09-17T08:35:00"
         ],
         "xaxis": "x",
         "y": [
          55.98999999999796
         ],
         "yaxis": "y"
        },
        {
         "line": {
          "color": "lime",
          "width": 1
         },
         "mode": "lines",
         "showlegend": false,
         "type": "scatter",
         "x": [
          "2024-09-17T08:40:00",
          "2024-09-17T08:40:00"
         ],
         "xaxis": "x",
         "y": [
          58753.99,
          58863
         ],
         "yaxis": "y"
        },
        {
         "base": 58753.99,
         "marker": {
          "color": "lime",
          "line": {
           "width": 0
          }
         },
         "showlegend": false,
         "type": "bar",
         "width": 0.6,
         "x": [
          "2024-09-17T08:40:00"
         ],
         "xaxis": "x",
         "y": [
          72.09999999999854
         ],
         "yaxis": "y"
        },
        {
         "line": {
          "color": "red",
          "width": 1
         },
         "mode": "lines",
         "showlegend": false,
         "type": "scatter",
         "x": [
          "2024-09-17T08:45:00",
          "2024-09-17T08:45:00"
         ],
         "xaxis": "x",
         "y": [
          58706.25,
          58826.1
         ],
         "yaxis": "y"
        },
        {
         "base": 58748.2,
         "marker": {
          "color": "red",
          "line": {
           "width": 0
          }
         },
         "showlegend": false,
         "type": "bar",
         "width": 0.6,
         "x": [
          "2024-09-17T08:45:00"
         ],
         "xaxis": "x",
         "y": [
          77.88999999999942
         ],
         "yaxis": "y"
        },
        {
         "line": {
          "color": "gray",
          "width": 1
         },
         "mode": "lines",
         "showlegend": false,
         "type": "scatter",
         "x": [
          "2024-09-17T08:50:00",
          "2024-09-17T08:50:00"
         ],
         "xaxis": "x",
         "y": [
          58748.2,
          58792
         ],
         "yaxis": "y"
        },
        {
         "base": 58748.2,
         "marker": {
          "color": "gray",
          "line": {
           "width": 0
          }
         },
         "showlegend": false,
         "type": "bar",
         "width": 0.6,
         "x": [
          "2024-09-17T08:50:00"
         ],
         "xaxis": "x",
         "y": [
          43.79000000000087
         ],
         "yaxis": "y"
        },
        {
         "line": {
          "color": "gray",
          "width": 1
         },
         "mode": "lines",
         "showlegend": false,
         "type": "scatter",
         "x": [
          "2024-09-17T08:55:00",
          "2024-09-17T08:55:00"
         ],
         "xaxis": "x",
         "y": [
          58781.79,
          58798
         ],
         "yaxis": "y"
        },
        {
         "base": 58791.99,
         "marker": {
          "color": "gray",
          "line": {
           "width": 0
          }
         },
         "showlegend": false,
         "type": "bar",
         "width": 0.6,
         "x": [
          "2024-09-17T08:55:00"
         ],
         "xaxis": "x",
         "y": [
          0.010000000002037268
         ],
         "yaxis": "y"
        },
        {
         "line": {
          "color": "darkgray",
          "width": 1
         },
         "mode": "lines",
         "showlegend": false,
         "type": "scatter",
         "x": [
          "2024-09-17T09:00:00",
          "2024-09-17T09:00:00"
         ],
         "xaxis": "x",
         "y": [
          58730.03,
          58792
         ],
         "yaxis": "y"
        },
        {
         "base": 58733.93,
         "marker": {
          "color": "darkgray",
          "line": {
           "width": 0
          }
         },
         "showlegend": false,
         "type": "bar",
         "width": 0.6,
         "x": [
          "2024-09-17T09:00:00"
         ],
         "xaxis": "x",
         "y": [
          58.06999999999971
         ],
         "yaxis": "y"
        },
        {
         "line": {
          "color": "lime",
          "width": 1
         },
         "mode": "lines",
         "showlegend": false,
         "type": "scatter",
         "x": [
          "2024-09-17T09:05:00",
          "2024-09-17T09:05:00"
         ],
         "xaxis": "x",
         "y": [
          58733.92,
          58970.69
         ],
         "yaxis": "y"
        },
        {
         "base": 58733.93,
         "marker": {
          "color": "lime",
          "line": {
           "width": 0
          }
         },
         "showlegend": false,
         "type": "bar",
         "width": 0.6,
         "x": [
          "2024-09-17T09:05:00"
         ],
         "xaxis": "x",
         "y": [
          180.0899999999965
         ],
         "yaxis": "y"
        },
        {
         "line": {
          "color": "darkgray",
          "width": 1
         },
         "mode": "lines",
         "showlegend": false,
         "type": "scatter",
         "x": [
          "2024-09-17T09:10:00",
          "2024-09-17T09:10:00"
         ],
         "xaxis": "x",
         "y": [
          58757.92,
          58953.32
         ],
         "yaxis": "y"
        },
        {
         "base": 58757.92,
         "marker": {
          "color": "darkgray",
          "line": {
           "width": 0
          }
         },
         "showlegend": false,
         "type": "bar",
         "width": 0.6,
         "x": [
          "2024-09-17T09:10:00"
         ],
         "xaxis": "x",
         "y": [
          156.09000000000378
         ],
         "yaxis": "y"
        },
        {
         "line": {
          "color": "darkgray",
          "width": 1
         },
         "mode": "lines",
         "showlegend": false,
         "type": "scatter",
         "x": [
          "2024-09-17T09:15:00",
          "2024-09-17T09:15:00"
         ],
         "xaxis": "x",
         "y": [
          58726,
          58816.97
         ],
         "yaxis": "y"
        },
        {
         "base": 58726,
         "marker": {
          "color": "darkgray",
          "line": {
           "width": 0
          }
         },
         "showlegend": false,
         "type": "bar",
         "width": 0.6,
         "x": [
          "2024-09-17T09:15:00"
         ],
         "xaxis": "x",
         "y": [
          31.919999999998254
         ],
         "yaxis": "y"
        },
        {
         "line": {
          "color": "darkgray",
          "width": 1
         },
         "mode": "lines",
         "showlegend": false,
         "type": "scatter",
         "x": [
          "2024-09-17T09:20:00",
          "2024-09-17T09:20:00"
         ],
         "xaxis": "x",
         "y": [
          58702.01,
          58741.07
         ],
         "yaxis": "y"
        },
        {
         "base": 58715.99,
         "marker": {
          "color": "darkgray",
          "line": {
           "width": 0
          }
         },
         "showlegend": false,
         "type": "bar",
         "width": 0.6,
         "x": [
          "2024-09-17T09:20:00"
         ],
         "xaxis": "x",
         "y": [
          10.010000000002037
         ],
         "yaxis": "y"
        },
        {
         "line": {
          "color": "gray",
          "width": 1
         },
         "mode": "lines",
         "showlegend": false,
         "type": "scatter",
         "x": [
          "2024-09-17T09:25:00",
          "2024-09-17T09:25:00"
         ],
         "xaxis": "x",
         "y": [
          58715.99,
          58761.99
         ],
         "yaxis": "y"
        },
        {
         "base": 58715.99,
         "marker": {
          "color": "gray",
          "line": {
           "width": 0
          }
         },
         "showlegend": false,
         "type": "bar",
         "width": 0.6,
         "x": [
          "2024-09-17T09:25:00"
         ],
         "xaxis": "x",
         "y": [
          24.010000000002037
         ],
         "yaxis": "y"
        },
        {
         "line": {
          "color": "gray",
          "width": 1
         },
         "mode": "lines",
         "showlegend": false,
         "type": "scatter",
         "x": [
          "2024-09-17T09:30:00",
          "2024-09-17T09:30:00"
         ],
         "xaxis": "x",
         "y": [
          58728,
          58826
         ],
         "yaxis": "y"
        },
        {
         "base": 58740.01,
         "marker": {
          "color": "gray",
          "line": {
           "width": 0
          }
         },
         "showlegend": false,
         "type": "bar",
         "width": 0.6,
         "x": [
          "2024-09-17T09:30:00"
         ],
         "xaxis": "x",
         "y": [
          29.87999999999738
         ],
         "yaxis": "y"
        },
        {
         "line": {
          "color": "gray",
          "width": 1
         },
         "mode": "lines",
         "showlegend": false,
         "type": "scatter",
         "x": [
          "2024-09-17T09:35:00",
          "2024-09-17T09:35:00"
         ],
         "xaxis": "x",
         "y": [
          58769.88,
          58872.42
         ],
         "yaxis": "y"
        },
        {
         "base": 58769.88,
         "marker": {
          "color": "gray",
          "line": {
           "width": 0
          }
         },
         "showlegend": false,
         "type": "bar",
         "width": 0.6,
         "x": [
          "2024-09-17T09:35:00"
         ],
         "xaxis": "x",
         "y": [
          100.12000000000262
         ],
         "yaxis": "y"
        },
        {
         "line": {
          "color": "darkgray",
          "width": 1
         },
         "mode": "lines",
         "showlegend": false,
         "type": "scatter",
         "x": [
          "2024-09-17T09:40:00",
          "2024-09-17T09:40:00"
         ],
         "xaxis": "x",
         "y": [
          58806,
          58884.35
         ],
         "yaxis": "y"
        },
        {
         "base": 58814.3,
         "marker": {
          "color": "darkgray",
          "line": {
           "width": 0
          }
         },
         "showlegend": false,
         "type": "bar",
         "width": 0.6,
         "x": [
          "2024-09-17T09:40:00"
         ],
         "xaxis": "x",
         "y": [
          55.69999999999709
         ],
         "yaxis": "y"
        },
        {
         "line": {
          "color": "gray",
          "width": 1
         },
         "mode": "lines",
         "showlegend": false,
         "type": "scatter",
         "x": [
          "2024-09-17T09:45:00",
          "2024-09-17T09:45:00"
         ],
         "xaxis": "x",
         "y": [
          58814.3,
          58891.1
         ],
         "yaxis": "y"
        },
        {
         "base": 58814.31,
         "marker": {
          "color": "gray",
          "line": {
           "width": 0
          }
         },
         "showlegend": false,
         "type": "bar",
         "width": 0.6,
         "x": [
          "2024-09-17T09:45:00"
         ],
         "xaxis": "x",
         "y": [
          76.77999999999884
         ],
         "yaxis": "y"
        },
        {
         "line": {
          "color": "lime",
          "width": 1
         },
         "mode": "lines",
         "showlegend": false,
         "type": "scatter",
         "x": [
          "2024-09-17T09:50:00",
          "2024-09-17T09:50:00"
         ],
         "xaxis": "x",
         "y": [
          58891.09,
          59045.03
         ],
         "yaxis": "y"
        },
        {
         "base": 58891.1,
         "marker": {
          "color": "lime",
          "line": {
           "width": 0
          }
         },
         "showlegend": false,
         "type": "bar",
         "width": 0.6,
         "x": [
          "2024-09-17T09:50:00"
         ],
         "xaxis": "x",
         "y": [
          133.38999999999942
         ],
         "yaxis": "y"
        },
        {
         "line": {
          "color": "red",
          "width": 1
         },
         "mode": "lines",
         "showlegend": false,
         "type": "scatter",
         "x": [
          "2024-09-17T09:55:00",
          "2024-09-17T09:55:00"
         ],
         "xaxis": "x",
         "y": [
          58961.11,
          59079.99
         ],
         "yaxis": "y"
        },
        {
         "base": 58966.48,
         "marker": {
          "color": "red",
          "line": {
           "width": 0
          }
         },
         "showlegend": false,
         "type": "bar",
         "width": 0.6,
         "x": [
          "2024-09-17T09:55:00"
         ],
         "xaxis": "x",
         "y": [
          58.00999999999476
         ],
         "yaxis": "y"
        },
        {
         "line": {
          "color": "darkgray",
          "width": 1
         },
         "mode": "lines",
         "showlegend": false,
         "type": "scatter",
         "x": [
          "2024-09-17T10:00:00",
          "2024-09-17T10:00:00"
         ],
         "xaxis": "x",
         "y": [
          58918.5,
          59027.5
         ],
         "yaxis": "y"
        },
        {
         "base": 58918.5,
         "marker": {
          "color": "darkgray",
          "line": {
           "width": 0
          }
         },
         "showlegend": false,
         "type": "bar",
         "width": 0.6,
         "x": [
          "2024-09-17T10:00:00"
         ],
         "xaxis": "x",
         "y": [
          47.970000000001164
         ],
         "yaxis": "y"
        },
        {
         "line": {
          "color": "gray",
          "width": 1
         },
         "mode": "lines",
         "showlegend": false,
         "type": "scatter",
         "x": [
          "2024-09-17T10:05:00",
          "2024-09-17T10:05:00"
         ],
         "xaxis": "x",
         "y": [
          58898.37,
          59014
         ],
         "yaxis": "y"
        },
        {
         "base": 58918.5,
         "marker": {
          "color": "gray",
          "line": {
           "width": 0
          }
         },
         "showlegend": false,
         "type": "bar",
         "width": 0.6,
         "x": [
          "2024-09-17T10:05:00"
         ],
         "xaxis": "x",
         "y": [
          95.48999999999796
         ],
         "yaxis": "y"
        },
        {
         "line": {
          "color": "gray",
          "width": 1
         },
         "mode": "lines",
         "showlegend": false,
         "type": "scatter",
         "x": [
          "2024-09-17T10:10:00",
          "2024-09-17T10:10:00"
         ],
         "xaxis": "x",
         "y": [
          58964,
          59031.1
         ],
         "yaxis": "y"
        },
        {
         "base": 59014,
         "marker": {
          "color": "gray",
          "line": {
           "width": 0
          }
         },
         "showlegend": false,
         "type": "bar",
         "width": 0.6,
         "x": [
          "2024-09-17T10:10:00"
         ],
         "xaxis": "x",
         "y": [
          8.010000000002037
         ],
         "yaxis": "y"
        },
        {
         "line": {
          "color": "gray",
          "width": 1
         },
         "mode": "lines",
         "showlegend": false,
         "type": "scatter",
         "x": [
          "2024-09-17T10:15:00",
          "2024-09-17T10:15:00"
         ],
         "xaxis": "x",
         "y": [
          59016.01,
          59140
         ],
         "yaxis": "y"
        },
        {
         "base": 59022,
         "marker": {
          "color": "gray",
          "line": {
           "width": 0
          }
         },
         "showlegend": false,
         "type": "bar",
         "width": 0.6,
         "x": [
          "2024-09-17T10:15:00"
         ],
         "xaxis": "x",
         "y": [
          84
         ],
         "yaxis": "y"
        },
        {
         "line": {
          "color": "darkgray",
          "width": 1
         },
         "mode": "lines",
         "showlegend": false,
         "type": "scatter",
         "x": [
          "2024-09-17T10:20:00",
          "2024-09-17T10:20:00"
         ],
         "xaxis": "x",
         "y": [
          59044,
          59116.28
         ],
         "yaxis": "y"
        },
        {
         "base": 59090,
         "marker": {
          "color": "darkgray",
          "line": {
           "width": 0
          }
         },
         "showlegend": false,
         "type": "bar",
         "width": 0.6,
         "x": [
          "2024-09-17T10:20:00"
         ],
         "xaxis": "x",
         "y": [
          15.989999999997963
         ],
         "yaxis": "y"
        },
        {
         "line": {
          "color": "gray",
          "width": 1
         },
         "mode": "lines",
         "showlegend": false,
         "type": "scatter",
         "x": [
          "2024-09-17T10:25:00",
          "2024-09-17T10:25:00"
         ],
         "xaxis": "x",
         "y": [
          59011.64,
          59108
         ],
         "yaxis": "y"
        },
        {
         "base": 59089.99,
         "marker": {
          "color": "gray",
          "line": {
           "width": 0
          }
         },
         "showlegend": false,
         "type": "bar",
         "width": 0.6,
         "x": [
          "2024-09-17T10:25:00"
         ],
         "xaxis": "x",
         "y": [
          7.790000000000873
         ],
         "yaxis": "y"
        },
        {
         "line": {
          "color": "blue",
          "width": 1
         },
         "mode": "lines",
         "showlegend": false,
         "type": "scatter",
         "x": [
          "2024-09-17T10:30:00",
          "2024-09-17T10:30:00"
         ],
         "xaxis": "x",
         "y": [
          59068,
          59178.99
         ],
         "yaxis": "y"
        },
        {
         "base": 59097.78,
         "marker": {
          "color": "blue",
          "line": {
           "width": 0
          }
         },
         "showlegend": false,
         "type": "bar",
         "width": 0.6,
         "x": [
          "2024-09-17T10:30:00"
         ],
         "xaxis": "x",
         "y": [
          76.20999999999913
         ],
         "yaxis": "y"
        },
        {
         "line": {
          "color": "fuchsia",
          "width": 1
         },
         "mode": "lines",
         "showlegend": false,
         "type": "scatter",
         "x": [
          "2024-09-17T10:35:00",
          "2024-09-17T10:35:00"
         ],
         "xaxis": "x",
         "y": [
          59144,
          59268.52
         ],
         "yaxis": "y"
        },
        {
         "base": 59169.99,
         "marker": {
          "color": "fuchsia",
          "line": {
           "width": 0
          }
         },
         "showlegend": false,
         "type": "bar",
         "width": 0.6,
         "x": [
          "2024-09-17T10:35:00"
         ],
         "xaxis": "x",
         "y": [
          4
         ],
         "yaxis": "y"
        },
        {
         "line": {
          "color": "gray",
          "width": 1
         },
         "mode": "lines",
         "showlegend": false,
         "type": "scatter",
         "x": [
          "2024-09-17T10:40:00",
          "2024-09-17T10:40:00"
         ],
         "xaxis": "x",
         "y": [
          59124,
          59198.9
         ],
         "yaxis": "y"
        },
        {
         "base": 59169.98,
         "marker": {
          "color": "gray",
          "line": {
           "width": 0
          }
         },
         "showlegend": false,
         "type": "bar",
         "width": 0.6,
         "x": [
          "2024-09-17T10:40:00"
         ],
         "xaxis": "x",
         "y": [
          3.819999999999709
         ],
         "yaxis": "y"
        },
        {
         "line": {
          "color": "gray",
          "width": 1
         },
         "mode": "lines",
         "showlegend": false,
         "type": "scatter",
         "x": [
          "2024-09-17T10:45:00",
          "2024-09-17T10:45:00"
         ],
         "xaxis": "x",
         "y": [
          59173.8,
          59240
         ],
         "yaxis": "y"
        },
        {
         "base": 59173.81,
         "marker": {
          "color": "gray",
          "line": {
           "width": 0
          }
         },
         "showlegend": false,
         "type": "bar",
         "width": 0.6,
         "x": [
          "2024-09-17T10:45:00"
         ],
         "xaxis": "x",
         "y": [
          10.529999999998836
         ],
         "yaxis": "y"
        },
        {
         "line": {
          "color": "gray",
          "width": 1
         },
         "mode": "lines",
         "showlegend": false,
         "type": "scatter",
         "x": [
          "2024-09-17T10:50:00",
          "2024-09-17T10:50:00"
         ],
         "xaxis": "x",
         "y": [
          59176.74,
          59269.97
         ],
         "yaxis": "y"
        },
        {
         "base": 59184.33,
         "marker": {
          "color": "gray",
          "line": {
           "width": 0
          }
         },
         "showlegend": false,
         "type": "bar",
         "width": 0.6,
         "x": [
          "2024-09-17T10:50:00"
         ],
         "xaxis": "x",
         "y": [
          85.63999999999942
         ],
         "yaxis": "y"
        },
        {
         "line": {
          "color": "darkgray",
          "width": 1
         },
         "mode": "lines",
         "showlegend": false,
         "type": "scatter",
         "x": [
          "2024-09-17T10:55:00",
          "2024-09-17T10:55:00"
         ],
         "xaxis": "x",
         "y": [
          59186,
          59275
         ],
         "yaxis": "y"
        },
        {
         "base": 59236,
         "marker": {
          "color": "darkgray",
          "line": {
           "width": 0
          }
         },
         "showlegend": false,
         "type": "bar",
         "width": 0.6,
         "x": [
          "2024-09-17T10:55:00"
         ],
         "xaxis": "x",
         "y": [
          33.95999999999913
         ],
         "yaxis": "y"
        },
        {
         "line": {
          "color": "gray",
          "width": 1
         },
         "mode": "lines",
         "showlegend": false,
         "type": "scatter",
         "x": [
          "2024-09-17T11:00:00",
          "2024-09-17T11:00:00"
         ],
         "xaxis": "x",
         "y": [
          59218,
          59286.76
         ],
         "yaxis": "y"
        },
        {
         "base": 59235.99,
         "marker": {
          "color": "gray",
          "line": {
           "width": 0
          }
         },
         "showlegend": false,
         "type": "bar",
         "width": 0.6,
         "x": [
          "2024-09-17T11:00:00"
         ],
         "xaxis": "x",
         "y": [
          47.779999999998836
         ],
         "yaxis": "y"
        },
        {
         "line": {
          "color": "darkgray",
          "width": 1
         },
         "mode": "lines",
         "showlegend": false,
         "type": "scatter",
         "x": [
          "2024-09-17T11:05:00",
          "2024-09-17T11:05:00"
         ],
         "xaxis": "x",
         "y": [
          59148.43,
          59300
         ],
         "yaxis": "y"
        },
        {
         "base": 59169.99,
         "marker": {
          "color": "darkgray",
          "line": {
           "width": 0
          }
         },
         "showlegend": false,
         "type": "bar",
         "width": 0.6,
         "x": [
          "2024-09-17T11:05:00"
         ],
         "xaxis": "x",
         "y": [
          113.77000000000407
         ],
         "yaxis": "y"
        },
        {
         "line": {
          "color": "darkgray",
          "width": 1
         },
         "mode": "lines",
         "showlegend": false,
         "type": "scatter",
         "x": [
          "2024-09-17T11:10:00",
          "2024-09-17T11:10:00"
         ],
         "xaxis": "x",
         "y": [
          59118.49,
          59204
         ],
         "yaxis": "y"
        },
        {
         "base": 59118.49,
         "marker": {
          "color": "darkgray",
          "line": {
           "width": 0
          }
         },
         "showlegend": false,
         "type": "bar",
         "width": 0.6,
         "x": [
          "2024-09-17T11:10:00"
         ],
         "xaxis": "x",
         "y": [
          51.5
         ],
         "yaxis": "y"
        },
        {
         "line": {
          "color": "darkgray",
          "width": 1
         },
         "mode": "lines",
         "showlegend": false,
         "type": "scatter",
         "x": [
          "2024-09-17T11:15:00",
          "2024-09-17T11:15:00"
         ],
         "xaxis": "x",
         "y": [
          59037.27,
          59132.01
         ],
         "yaxis": "y"
        },
        {
         "base": 59090,
         "marker": {
          "color": "darkgray",
          "line": {
           "width": 0
          }
         },
         "showlegend": false,
         "type": "bar",
         "width": 0.6,
         "x": [
          "2024-09-17T11:15:00"
         ],
         "xaxis": "x",
         "y": [
          28.5
         ],
         "yaxis": "y"
        },
        {
         "line": {
          "color": "gray",
          "width": 1
         },
         "mode": "lines",
         "showlegend": false,
         "type": "scatter",
         "x": [
          "2024-09-17T11:20:00",
          "2024-09-17T11:20:00"
         ],
         "xaxis": "x",
         "y": [
          59062.01,
          59149.73
         ],
         "yaxis": "y"
        },
        {
         "base": 59089.99,
         "marker": {
          "color": "gray",
          "line": {
           "width": 0
          }
         },
         "showlegend": false,
         "type": "bar",
         "width": 0.6,
         "x": [
          "2024-09-17T11:20:00"
         ],
         "xaxis": "x",
         "y": [
          35.51000000000204
         ],
         "yaxis": "y"
        },
        {
         "line": {
          "color": "gray",
          "width": 1
         },
         "mode": "lines",
         "showlegend": false,
         "type": "scatter",
         "x": [
          "2024-09-17T11:25:00",
          "2024-09-17T11:25:00"
         ],
         "xaxis": "x",
         "y": [
          59120,
          59169.86
         ],
         "yaxis": "y"
        },
        {
         "base": 59125.5,
         "marker": {
          "color": "gray",
          "line": {
           "width": 0
          }
         },
         "showlegend": false,
         "type": "bar",
         "width": 0.6,
         "x": [
          "2024-09-17T11:25:00"
         ],
         "xaxis": "x",
         "y": [
          18.510000000002037
         ],
         "yaxis": "y"
        },
        {
         "line": {
          "color": "gray",
          "width": 1
         },
         "mode": "lines",
         "showlegend": false,
         "type": "scatter",
         "x": [
          "2024-09-17T11:30:00",
          "2024-09-17T11:30:00"
         ],
         "xaxis": "x",
         "y": [
          59132.21,
          59190
         ],
         "yaxis": "y"
        },
        {
         "base": 59144.01,
         "marker": {
          "color": "gray",
          "line": {
           "width": 0
          }
         },
         "showlegend": false,
         "type": "bar",
         "width": 0.6,
         "x": [
          "2024-09-17T11:30:00"
         ],
         "xaxis": "x",
         "y": [
          5.989999999997963
         ],
         "yaxis": "y"
        },
        {
         "line": {
          "color": "fuchsia",
          "width": 1
         },
         "mode": "lines",
         "showlegend": false,
         "type": "scatter",
         "x": [
          "2024-09-17T11:35:00",
          "2024-09-17T11:35:00"
         ],
         "xaxis": "x",
         "y": [
          59071.1,
          59150
         ],
         "yaxis": "y"
        },
        {
         "base": 59109.99,
         "marker": {
          "color": "fuchsia",
          "line": {
           "width": 0
          }
         },
         "showlegend": false,
         "type": "bar",
         "width": 0.6,
         "x": [
          "2024-09-17T11:35:00"
         ],
         "xaxis": "x",
         "y": [
          40.01000000000204
         ],
         "yaxis": "y"
        },
        {
         "line": {
          "color": "darkgray",
          "width": 1
         },
         "mode": "lines",
         "showlegend": false,
         "type": "scatter",
         "x": [
          "2024-09-17T11:40:00",
          "2024-09-17T11:40:00"
         ],
         "xaxis": "x",
         "y": [
          59058,
          59110
         ],
         "yaxis": "y"
        },
        {
         "base": 59088,
         "marker": {
          "color": "darkgray",
          "line": {
           "width": 0
          }
         },
         "showlegend": false,
         "type": "bar",
         "width": 0.6,
         "x": [
          "2024-09-17T11:40:00"
         ],
         "xaxis": "x",
         "y": [
          21.989999999997963
         ],
         "yaxis": "y"
        },
        {
         "line": {
          "color": "darkgray",
          "width": 1
         },
         "mode": "lines",
         "showlegend": false,
         "type": "scatter",
         "x": [
          "2024-09-17T11:45:00",
          "2024-09-17T11:45:00"
         ],
         "xaxis": "x",
         "y": [
          59032.66,
          59113.87
         ],
         "yaxis": "y"
        },
        {
         "base": 59057.9,
         "marker": {
          "color": "darkgray",
          "line": {
           "width": 0
          }
         },
         "showlegend": false,
         "type": "bar",
         "width": 0.6,
         "x": [
          "2024-09-17T11:45:00"
         ],
         "xaxis": "x",
         "y": [
          30.099999999998545
         ],
         "yaxis": "y"
        },
        {
         "line": {
          "color": "gray",
          "width": 1
         },
         "mode": "lines",
         "showlegend": false,
         "type": "scatter",
         "x": [
          "2024-09-17T11:50:00",
          "2024-09-17T11:50:00"
         ],
         "xaxis": "x",
         "y": [
          59056,
          59123.99
         ],
         "yaxis": "y"
        },
        {
         "base": 59057.89,
         "marker": {
          "color": "gray",
          "line": {
           "width": 0
          }
         },
         "showlegend": false,
         "type": "bar",
         "width": 0.6,
         "x": [
          "2024-09-17T11:50:00"
         ],
         "xaxis": "x",
         "y": [
          52.12000000000262
         ],
         "yaxis": "y"
        },
        {
         "line": {
          "color": "red",
          "width": 1
         },
         "mode": "lines",
         "showlegend": false,
         "type": "scatter",
         "x": [
          "2024-09-17T11:55:00",
          "2024-09-17T11:55:00"
         ],
         "xaxis": "x",
         "y": [
          59075.63,
          59173.37
         ],
         "yaxis": "y"
        },
        {
         "base": 59080.99,
         "marker": {
          "color": "red",
          "line": {
           "width": 0
          }
         },
         "showlegend": false,
         "type": "bar",
         "width": 0.6,
         "x": [
          "2024-09-17T11:55:00"
         ],
         "xaxis": "x",
         "y": [
          29.010000000002037
         ],
         "yaxis": "y"
        },
        {
         "line": {
          "color": "gray",
          "width": 1
         },
         "mode": "lines",
         "showlegend": false,
         "type": "scatter",
         "x": [
          "2024-09-17T12:00:00",
          "2024-09-17T12:00:00"
         ],
         "xaxis": "x",
         "y": [
          59080.98,
          59186.42
         ],
         "yaxis": "y"
        },
        {
         "base": 59080.99,
         "marker": {
          "color": "gray",
          "line": {
           "width": 0
          }
         },
         "showlegend": false,
         "type": "bar",
         "width": 0.6,
         "x": [
          "2024-09-17T12:00:00"
         ],
         "xaxis": "x",
         "y": [
          68.2300000000032
         ],
         "yaxis": "y"
        },
        {
         "line": {
          "color": "gray",
          "width": 1
         },
         "mode": "lines",
         "showlegend": false,
         "type": "scatter",
         "x": [
          "2024-09-17T12:05:00",
          "2024-09-17T12:05:00"
         ],
         "xaxis": "x",
         "y": [
          59148.01,
          59234
         ],
         "yaxis": "y"
        },
        {
         "base": 59149.22,
         "marker": {
          "color": "gray",
          "line": {
           "width": 0
          }
         },
         "showlegend": false,
         "type": "bar",
         "width": 0.6,
         "x": [
          "2024-09-17T12:05:00"
         ],
         "xaxis": "x",
         "y": [
          74.7699999999968
         ],
         "yaxis": "y"
        },
        {
         "line": {
          "color": "red",
          "width": 1
         },
         "mode": "lines",
         "showlegend": false,
         "type": "scatter",
         "x": [
          "2024-09-17T12:10:00",
          "2024-09-17T12:10:00"
         ],
         "xaxis": "x",
         "y": [
          59069.9,
          59232
         ],
         "yaxis": "y"
        },
        {
         "base": 59069.91,
         "marker": {
          "color": "red",
          "line": {
           "width": 0
          }
         },
         "showlegend": false,
         "type": "bar",
         "width": 0.6,
         "x": [
          "2024-09-17T12:10:00"
         ],
         "xaxis": "x",
         "y": [
          154.0899999999965
         ],
         "yaxis": "y"
        },
        {
         "line": {
          "color": "gray",
          "width": 1
         },
         "mode": "lines",
         "showlegend": false,
         "type": "scatter",
         "x": [
          "2024-09-17T12:15:00",
          "2024-09-17T12:15:00"
         ],
         "xaxis": "x",
         "y": [
          59044.06,
          59132
         ],
         "yaxis": "y"
        },
        {
         "base": 59069.91,
         "marker": {
          "color": "gray",
          "line": {
           "width": 0
          }
         },
         "showlegend": false,
         "type": "bar",
         "width": 0.6,
         "x": [
          "2024-09-17T12:15:00"
         ],
         "xaxis": "x",
         "y": [
          62.07999999999447
         ],
         "yaxis": "y"
        },
        {
         "line": {
          "color": "lime",
          "width": 1
         },
         "mode": "lines",
         "showlegend": false,
         "type": "scatter",
         "x": [
          "2024-09-17T12:20:00",
          "2024-09-17T12:20:00"
         ],
         "xaxis": "x",
         "y": [
          59109.94,
          59216.92
         ],
         "yaxis": "y"
        },
        {
         "base": 59131.99,
         "marker": {
          "color": "lime",
          "line": {
           "width": 0
          }
         },
         "showlegend": false,
         "type": "bar",
         "width": 0.6,
         "x": [
          "2024-09-17T12:20:00"
         ],
         "xaxis": "x",
         "y": [
          76.02000000000407
         ],
         "yaxis": "y"
        },
        {
         "line": {
          "color": "darkgray",
          "width": 1
         },
         "mode": "lines",
         "showlegend": false,
         "type": "scatter",
         "x": [
          "2024-09-17T12:25:00",
          "2024-09-17T12:25:00"
         ],
         "xaxis": "x",
         "y": [
          59190.02,
          59210
         ],
         "yaxis": "y"
        },
        {
         "base": 59192.01,
         "marker": {
          "color": "darkgray",
          "line": {
           "width": 0
          }
         },
         "showlegend": false,
         "type": "bar",
         "width": 0.6,
         "x": [
          "2024-09-17T12:25:00"
         ],
         "xaxis": "x",
         "y": [
          16
         ],
         "yaxis": "y"
        },
        {
         "line": {
          "color": "darkgray",
          "width": 1
         },
         "mode": "lines",
         "showlegend": false,
         "type": "scatter",
         "x": [
          "2024-09-17T12:30:00",
          "2024-09-17T12:30:00"
         ],
         "xaxis": "x",
         "y": [
          59129.51,
          59260
         ],
         "yaxis": "y"
        },
        {
         "base": 59146.52,
         "marker": {
          "color": "darkgray",
          "line": {
           "width": 0
          }
         },
         "showlegend": false,
         "type": "bar",
         "width": 0.6,
         "x": [
          "2024-09-17T12:30:00"
         ],
         "xaxis": "x",
         "y": [
          45.49000000000524
         ],
         "yaxis": "y"
        },
        {
         "line": {
          "color": "gray",
          "width": 1
         },
         "mode": "lines",
         "showlegend": false,
         "type": "scatter",
         "x": [
          "2024-09-17T12:35:00",
          "2024-09-17T12:35:00"
         ],
         "xaxis": "x",
         "y": [
          59140,
          59271.91
         ],
         "yaxis": "y"
        },
        {
         "base": 59146.51,
         "marker": {
          "color": "gray",
          "line": {
           "width": 0
          }
         },
         "showlegend": false,
         "type": "bar",
         "width": 0.6,
         "x": [
          "2024-09-17T12:35:00"
         ],
         "xaxis": "x",
         "y": [
          4.5899999999965075
         ],
         "yaxis": "y"
        },
        {
         "line": {
          "color": "gray",
          "width": 1
         },
         "mode": "lines",
         "showlegend": false,
         "type": "scatter",
         "x": [
          "2024-09-17T12:40:00",
          "2024-09-17T12:40:00"
         ],
         "xaxis": "x",
         "y": [
          59146,
          59322.85
         ],
         "yaxis": "y"
        },
        {
         "base": 59151.1,
         "marker": {
          "color": "gray",
          "line": {
           "width": 0
          }
         },
         "showlegend": false,
         "type": "bar",
         "width": 0.6,
         "x": [
          "2024-09-17T12:40:00"
         ],
         "xaxis": "x",
         "y": [
          158.9100000000035
         ],
         "yaxis": "y"
        },
        {
         "line": {
          "color": "gray",
          "width": 1
         },
         "mode": "lines",
         "showlegend": false,
         "type": "scatter",
         "x": [
          "2024-09-17T12:45:00",
          "2024-09-17T12:45:00"
         ],
         "xaxis": "x",
         "y": [
          59259.08,
          59354.53
         ],
         "yaxis": "y"
        },
        {
         "base": 59310,
         "marker": {
          "color": "gray",
          "line": {
           "width": 0
          }
         },
         "showlegend": false,
         "type": "bar",
         "width": 0.6,
         "x": [
          "2024-09-17T12:45:00"
         ],
         "xaxis": "x",
         "y": [
          20.2699999999968
         ],
         "yaxis": "y"
        },
        {
         "line": {
          "color": "gray",
          "width": 1
         },
         "mode": "lines",
         "showlegend": false,
         "type": "scatter",
         "x": [
          "2024-09-17T12:50:00",
          "2024-09-17T12:50:00"
         ],
         "xaxis": "x",
         "y": [
          59330.26,
          59439.63
         ],
         "yaxis": "y"
        },
        {
         "base": 59330.26,
         "marker": {
          "color": "gray",
          "line": {
           "width": 0
          }
         },
         "showlegend": false,
         "type": "bar",
         "width": 0.6,
         "x": [
          "2024-09-17T12:50:00"
         ],
         "xaxis": "x",
         "y": [
          69.72999999999593
         ],
         "yaxis": "y"
        },
        {
         "line": {
          "color": "darkgray",
          "width": 1
         },
         "mode": "lines",
         "showlegend": false,
         "type": "scatter",
         "x": [
          "2024-09-17T12:55:00",
          "2024-09-17T12:55:00"
         ],
         "xaxis": "x",
         "y": [
          59381.1,
          59445.76
         ],
         "yaxis": "y"
        },
        {
         "base": 59381.1,
         "marker": {
          "color": "darkgray",
          "line": {
           "width": 0
          }
         },
         "showlegend": false,
         "type": "bar",
         "width": 0.6,
         "x": [
          "2024-09-17T12:55:00"
         ],
         "xaxis": "x",
         "y": [
          18.900000000001455
         ],
         "yaxis": "y"
        },
        {
         "line": {
          "color": "darkgray",
          "width": 1
         },
         "mode": "lines",
         "showlegend": false,
         "type": "scatter",
         "x": [
          "2024-09-17T13:00:00",
          "2024-09-17T13:00:00"
         ],
         "xaxis": "x",
         "y": [
          59312,
          59386
         ],
         "yaxis": "y"
        },
        {
         "base": 59336,
         "marker": {
          "color": "darkgray",
          "line": {
           "width": 0
          }
         },
         "showlegend": false,
         "type": "bar",
         "width": 0.6,
         "x": [
          "2024-09-17T13:00:00"
         ],
         "xaxis": "x",
         "y": [
          45.099999999998545
         ],
         "yaxis": "y"
        },
        {
         "line": {
          "color": "darkgray",
          "width": 1
         },
         "mode": "lines",
         "showlegend": false,
         "type": "scatter",
         "x": [
          "2024-09-17T13:05:00",
          "2024-09-17T13:05:00"
         ],
         "xaxis": "x",
         "y": [
          59298.73,
          59364
         ],
         "yaxis": "y"
        },
        {
         "base": 59303.75,
         "marker": {
          "color": "darkgray",
          "line": {
           "width": 0
          }
         },
         "showlegend": false,
         "type": "bar",
         "width": 0.6,
         "x": [
          "2024-09-17T13:05:00"
         ],
         "xaxis": "x",
         "y": [
          32.23999999999796
         ],
         "yaxis": "y"
        },
        {
         "line": {
          "color": "red",
          "width": 1
         },
         "mode": "lines",
         "showlegend": false,
         "type": "scatter",
         "x": [
          "2024-09-17T13:10:00",
          "2024-09-17T13:10:00"
         ],
         "xaxis": "x",
         "y": [
          59188.5,
          59372.83
         ],
         "yaxis": "y"
        },
        {
         "base": 59206,
         "marker": {
          "color": "red",
          "line": {
           "width": 0
          }
         },
         "showlegend": false,
         "type": "bar",
         "width": 0.6,
         "x": [
          "2024-09-17T13:10:00"
         ],
         "xaxis": "x",
         "y": [
          97.76000000000204
         ],
         "yaxis": "y"
        },
        {
         "line": {
          "color": "gray",
          "width": 1
         },
         "mode": "lines",
         "showlegend": false,
         "type": "scatter",
         "x": [
          "2024-09-17T13:15:00",
          "2024-09-17T13:15:00"
         ],
         "xaxis": "x",
         "y": [
          59186,
          59275.74
         ],
         "yaxis": "y"
        },
        {
         "base": 59205.99,
         "marker": {
          "color": "gray",
          "line": {
           "width": 0
          }
         },
         "showlegend": false,
         "type": "bar",
         "width": 0.6,
         "x": [
          "2024-09-17T13:15:00"
         ],
         "xaxis": "x",
         "y": [
          56.01000000000204
         ],
         "yaxis": "y"
        },
        {
         "line": {
          "color": "gray",
          "width": 1
         },
         "mode": "lines",
         "showlegend": false,
         "type": "scatter",
         "x": [
          "2024-09-17T13:20:00",
          "2024-09-17T13:20:00"
         ],
         "xaxis": "x",
         "y": [
          59246.21,
          59416
         ],
         "yaxis": "y"
        },
        {
         "base": 59262,
         "marker": {
          "color": "gray",
          "line": {
           "width": 0
          }
         },
         "showlegend": false,
         "type": "bar",
         "width": 0.6,
         "x": [
          "2024-09-17T13:20:00"
         ],
         "xaxis": "x",
         "y": [
          96.79000000000087
         ],
         "yaxis": "y"
        },
        {
         "line": {
          "color": "darkgray",
          "width": 1
         },
         "mode": "lines",
         "showlegend": false,
         "type": "scatter",
         "x": [
          "2024-09-17T13:25:00",
          "2024-09-17T13:25:00"
         ],
         "xaxis": "x",
         "y": [
          59271.1,
          59371.1
         ],
         "yaxis": "y"
        },
        {
         "base": 59271.11,
         "marker": {
          "color": "darkgray",
          "line": {
           "width": 0
          }
         },
         "showlegend": false,
         "type": "bar",
         "width": 0.6,
         "x": [
          "2024-09-17T13:25:00"
         ],
         "xaxis": "x",
         "y": [
          87.68000000000029
         ],
         "yaxis": "y"
        },
        {
         "line": {
          "color": "darkgray",
          "width": 1
         },
         "mode": "lines",
         "showlegend": false,
         "type": "scatter",
         "x": [
          "2024-09-17T13:30:00",
          "2024-09-17T13:30:00"
         ],
         "xaxis": "x",
         "y": [
          59098.44,
          59380
         ],
         "yaxis": "y"
        },
        {
         "base": 59108,
         "marker": {
          "color": "darkgray",
          "line": {
           "width": 0
          }
         },
         "showlegend": false,
         "type": "bar",
         "width": 0.6,
         "x": [
          "2024-09-17T13:30:00"
         ],
         "xaxis": "x",
         "y": [
          163.11000000000058
         ],
         "yaxis": "y"
        },
        {
         "line": {
          "color": "darkgray",
          "width": 1
         },
         "mode": "lines",
         "showlegend": false,
         "type": "scatter",
         "x": [
          "2024-09-17T13:35:00",
          "2024-09-17T13:35:00"
         ],
         "xaxis": "x",
         "y": [
          59059.53,
          59191.1
         ],
         "yaxis": "y"
        },
        {
         "base": 59104.88,
         "marker": {
          "color": "darkgray",
          "line": {
           "width": 0
          }
         },
         "showlegend": false,
         "type": "bar",
         "width": 0.6,
         "x": [
          "2024-09-17T13:35:00"
         ],
         "xaxis": "x",
         "y": [
          3.110000000000582
         ],
         "yaxis": "y"
        },
        {
         "line": {
          "color": "darkgray",
          "width": 1
         },
         "mode": "lines",
         "showlegend": false,
         "type": "scatter",
         "x": [
          "2024-09-17T13:40:00",
          "2024-09-17T13:40:00"
         ],
         "xaxis": "x",
         "y": [
          58956,
          59105.28
         ],
         "yaxis": "y"
        },
        {
         "base": 58993.99,
         "marker": {
          "color": "darkgray",
          "line": {
           "width": 0
          }
         },
         "showlegend": false,
         "type": "bar",
         "width": 0.6,
         "x": [
          "2024-09-17T13:40:00"
         ],
         "xaxis": "x",
         "y": [
          110.88000000000466
         ],
         "yaxis": "y"
        },
        {
         "line": {
          "color": "darkgray",
          "width": 1
         },
         "mode": "lines",
         "showlegend": false,
         "type": "scatter",
         "x": [
          "2024-09-17T13:45:00",
          "2024-09-17T13:45:00"
         ],
         "xaxis": "x",
         "y": [
          58946.5,
          59086
         ],
         "yaxis": "y"
        },
        {
         "base": 58955,
         "marker": {
          "color": "darkgray",
          "line": {
           "width": 0
          }
         },
         "showlegend": false,
         "type": "bar",
         "width": 0.6,
         "x": [
          "2024-09-17T13:45:00"
         ],
         "xaxis": "x",
         "y": [
          38.98999999999796
         ],
         "yaxis": "y"
        },
        {
         "line": {
          "color": "darkgray",
          "width": 1
         },
         "mode": "lines",
         "showlegend": false,
         "type": "scatter",
         "x": [
          "2024-09-17T13:50:00",
          "2024-09-17T13:50:00"
         ],
         "xaxis": "x",
         "y": [
          58885.05,
          59022
         ],
         "yaxis": "y"
        },
        {
         "base": 58894,
         "marker": {
          "color": "darkgray",
          "line": {
           "width": 0
          }
         },
         "showlegend": false,
         "type": "bar",
         "width": 0.6,
         "x": [
          "2024-09-17T13:50:00"
         ],
         "xaxis": "x",
         "y": [
          61
         ],
         "yaxis": "y"
        },
        {
         "marker": {
          "color": "green",
          "size": 10,
          "symbol": "triangle-up"
         },
         "mode": "markers",
         "name": "买入点",
         "type": "scatter",
         "x": [
          "2024-09-14T12:10:00",
          "2024-09-15T10:35:00",
          "2024-09-17T01:05:00"
         ],
         "xaxis": "x",
         "y": [
          59756.01,
          60006.83,
          57766.01
         ],
         "yaxis": "y"
        },
        {
         "marker": {
          "color": "red",
          "size": 10,
          "symbol": "triangle-down"
         },
         "mode": "markers",
         "name": "卖出点",
         "type": "scatter",
         "x": [
          "2024-09-14T18:05:00",
          "2024-09-15T13:20:00",
          "2024-09-17T02:40:00"
         ],
         "xaxis": "x",
         "y": [
          59626,
          60260.51000000001,
          58054.05000000001
         ],
         "yaxis": "y"
        },
        {
         "mode": "lines",
         "name": "PA振荡器",
         "type": "scatter",
         "x": [
          "2024-09-14T02:35:00",
          "2024-09-14T02:40:00",
          "2024-09-14T02:45:00",
          "2024-09-14T02:50:00",
          "2024-09-14T02:55:00",
          "2024-09-14T03:00:00",
          "2024-09-14T03:05:00",
          "2024-09-14T03:10:00",
          "2024-09-14T03:15:00",
          "2024-09-14T03:20:00",
          "2024-09-14T03:25:00",
          "2024-09-14T03:30:00",
          "2024-09-14T03:35:00",
          "2024-09-14T03:40:00",
          "2024-09-14T03:45:00",
          "2024-09-14T03:50:00",
          "2024-09-14T03:55:00",
          "2024-09-14T04:00:00",
          "2024-09-14T04:05:00",
          "2024-09-14T04:10:00",
          "2024-09-14T04:15:00",
          "2024-09-14T04:20:00",
          "2024-09-14T04:25:00",
          "2024-09-14T04:30:00",
          "2024-09-14T04:35:00",
          "2024-09-14T04:40:00",
          "2024-09-14T04:45:00",
          "2024-09-14T04:50:00",
          "2024-09-14T04:55:00",
          "2024-09-14T05:00:00",
          "2024-09-14T05:05:00",
          "2024-09-14T05:10:00",
          "2024-09-14T05:15:00",
          "2024-09-14T05:20:00",
          "2024-09-14T05:25:00",
          "2024-09-14T05:30:00",
          "2024-09-14T05:35:00",
          "2024-09-14T05:40:00",
          "2024-09-14T05:45:00",
          "2024-09-14T05:50:00",
          "2024-09-14T05:55:00",
          "2024-09-14T06:00:00",
          "2024-09-14T06:05:00",
          "2024-09-14T06:10:00",
          "2024-09-14T06:15:00",
          "2024-09-14T06:20:00",
          "2024-09-14T06:25:00",
          "2024-09-14T06:30:00",
          "2024-09-14T06:35:00",
          "2024-09-14T06:40:00",
          "2024-09-14T06:45:00",
          "2024-09-14T06:50:00",
          "2024-09-14T06:55:00",
          "2024-09-14T07:00:00",
          "2024-09-14T07:05:00",
          "2024-09-14T07:10:00",
          "2024-09-14T07:15:00",
          "2024-09-14T07:20:00",
          "2024-09-14T07:25:00",
          "2024-09-14T07:30:00",
          "2024-09-14T07:35:00",
          "2024-09-14T07:40:00",
          "2024-09-14T07:45:00",
          "2024-09-14T07:50:00",
          "2024-09-14T07:55:00",
          "2024-09-14T08:00:00",
          "2024-09-14T08:05:00",
          "2024-09-14T08:10:00",
          "2024-09-14T08:15:00",
          "2024-09-14T08:20:00",
          "2024-09-14T08:25:00",
          "2024-09-14T08:30:00",
          "2024-09-14T08:35:00",
          "2024-09-14T08:40:00",
          "2024-09-14T08:45:00",
          "2024-09-14T08:50:00",
          "2024-09-14T08:55:00",
          "2024-09-14T09:00:00",
          "2024-09-14T09:05:00",
          "2024-09-14T09:10:00",
          "2024-09-14T09:15:00",
          "2024-09-14T09:20:00",
          "2024-09-14T09:25:00",
          "2024-09-14T09:30:00",
          "2024-09-14T09:35:00",
          "2024-09-14T09:40:00",
          "2024-09-14T09:45:00",
          "2024-09-14T09:50:00",
          "2024-09-14T09:55:00",
          "2024-09-14T10:00:00",
          "2024-09-14T10:05:00",
          "2024-09-14T10:10:00",
          "2024-09-14T10:15:00",
          "2024-09-14T10:20:00",
          "2024-09-14T10:25:00",
          "2024-09-14T10:30:00",
          "2024-09-14T10:35:00",
          "2024-09-14T10:40:00",
          "2024-09-14T10:45:00",
          "2024-09-14T10:50:00",
          "2024-09-14T10:55:00",
          "2024-09-14T11:00:00",
          "2024-09-14T11:05:00",
          "2024-09-14T11:10:00",
          "2024-09-14T11:15:00",
          "2024-09-14T11:20:00",
          "2024-09-14T11:25:00",
          "2024-09-14T11:30:00",
          "2024-09-14T11:35:00",
          "2024-09-14T11:40:00",
          "2024-09-14T11:45:00",
          "2024-09-14T11:50:00",
          "2024-09-14T11:55:00",
          "2024-09-14T12:00:00",
          "2024-09-14T12:05:00",
          "2024-09-14T12:10:00",
          "2024-09-14T12:15:00",
          "2024-09-14T12:20:00",
          "2024-09-14T12:25:00",
          "2024-09-14T12:30:00",
          "2024-09-14T12:35:00",
          "2024-09-14T12:40:00",
          "2024-09-14T12:45:00",
          "2024-09-14T12:50:00",
          "2024-09-14T12:55:00",
          "2024-09-14T13:00:00",
          "2024-09-14T13:05:00",
          "2024-09-14T13:10:00",
          "2024-09-14T13:15:00",
          "2024-09-14T13:20:00",
          "2024-09-14T13:25:00",
          "2024-09-14T13:30:00",
          "2024-09-14T13:35:00",
          "2024-09-14T13:40:00",
          "2024-09-14T13:45:00",
          "2024-09-14T13:50:00",
          "2024-09-14T13:55:00",
          "2024-09-14T14:00:00",
          "2024-09-14T14:05:00",
          "2024-09-14T14:10:00",
          "2024-09-14T14:15:00",
          "2024-09-14T14:20:00",
          "2024-09-14T14:25:00",
          "2024-09-14T14:30:00",
          "2024-09-14T14:35:00",
          "2024-09-14T14:40:00",
          "2024-09-14T14:45:00",
          "2024-09-14T14:50:00",
          "2024-09-14T14:55:00",
          "2024-09-14T15:00:00",
          "2024-09-14T15:05:00",
          "2024-09-14T15:10:00",
          "2024-09-14T15:15:00",
          "2024-09-14T15:20:00",
          "2024-09-14T15:25:00",
          "2024-09-14T15:30:00",
          "2024-09-14T15:35:00",
          "2024-09-14T15:40:00",
          "2024-09-14T15:45:00",
          "2024-09-14T15:50:00",
          "2024-09-14T15:55:00",
          "2024-09-14T16:00:00",
          "2024-09-14T16:05:00",
          "2024-09-14T16:10:00",
          "2024-09-14T16:15:00",
          "2024-09-14T16:20:00",
          "2024-09-14T16:25:00",
          "2024-09-14T16:30:00",
          "2024-09-14T16:35:00",
          "2024-09-14T16:40:00",
          "2024-09-14T16:45:00",
          "2024-09-14T16:50:00",
          "2024-09-14T16:55:00",
          "2024-09-14T17:00:00",
          "2024-09-14T17:05:00",
          "2024-09-14T17:10:00",
          "2024-09-14T17:15:00",
          "2024-09-14T17:20:00",
          "2024-09-14T17:25:00",
          "2024-09-14T17:30:00",
          "2024-09-14T17:35:00",
          "2024-09-14T17:40:00",
          "2024-09-14T17:45:00",
          "2024-09-14T17:50:00",
          "2024-09-14T17:55:00",
          "2024-09-14T18:00:00",
          "2024-09-14T18:05:00",
          "2024-09-14T18:10:00",
          "2024-09-14T18:15:00",
          "2024-09-14T18:20:00",
          "2024-09-14T18:25:00",
          "2024-09-14T18:30:00",
          "2024-09-14T18:35:00",
          "2024-09-14T18:40:00",
          "2024-09-14T18:45:00",
          "2024-09-14T18:50:00",
          "2024-09-14T18:55:00",
          "2024-09-14T19:00:00",
          "2024-09-14T19:05:00",
          "2024-09-14T19:10:00",
          "2024-09-14T19:15:00",
          "2024-09-14T19:20:00",
          "2024-09-14T19:25:00",
          "2024-09-14T19:30:00",
          "2024-09-14T19:35:00",
          "2024-09-14T19:40:00",
          "2024-09-14T19:45:00",
          "2024-09-14T19:50:00",
          "2024-09-14T19:55:00",
          "2024-09-14T20:00:00",
          "2024-09-14T20:05:00",
          "2024-09-14T20:10:00",
          "2024-09-14T20:15:00",
          "2024-09-14T20:20:00",
          "2024-09-14T20:25:00",
          "2024-09-14T20:30:00",
          "2024-09-14T20:35:00",
          "2024-09-14T20:40:00",
          "2024-09-14T20:45:00",
          "2024-09-14T20:50:00",
          "2024-09-14T20:55:00",
          "2024-09-14T21:00:00",
          "2024-09-14T21:05:00",
          "2024-09-14T21:10:00",
          "2024-09-14T21:15:00",
          "2024-09-14T21:20:00",
          "2024-09-14T21:25:00",
          "2024-09-14T21:30:00",
          "2024-09-14T21:35:00",
          "2024-09-14T21:40:00",
          "2024-09-14T21:45:00",
          "2024-09-14T21:50:00",
          "2024-09-14T21:55:00",
          "2024-09-14T22:00:00",
          "2024-09-14T22:05:00",
          "2024-09-14T22:10:00",
          "2024-09-14T22:15:00",
          "2024-09-14T22:20:00",
          "2024-09-14T22:25:00",
          "2024-09-14T22:30:00",
          "2024-09-14T22:35:00",
          "2024-09-14T22:40:00",
          "2024-09-14T22:45:00",
          "2024-09-14T22:50:00",
          "2024-09-14T22:55:00",
          "2024-09-14T23:00:00",
          "2024-09-14T23:05:00",
          "2024-09-14T23:10:00",
          "2024-09-14T23:15:00",
          "2024-09-14T23:20:00",
          "2024-09-14T23:25:00",
          "2024-09-14T23:30:00",
          "2024-09-14T23:35:00",
          "2024-09-14T23:40:00",
          "2024-09-14T23:45:00",
          "2024-09-14T23:50:00",
          "2024-09-14T23:55:00",
          "2024-09-15T00:00:00",
          "2024-09-15T00:05:00",
          "2024-09-15T00:10:00",
          "2024-09-15T00:15:00",
          "2024-09-15T00:20:00",
          "2024-09-15T00:25:00",
          "2024-09-15T00:30:00",
          "2024-09-15T00:35:00",
          "2024-09-15T00:40:00",
          "2024-09-15T00:45:00",
          "2024-09-15T00:50:00",
          "2024-09-15T00:55:00",
          "2024-09-15T01:00:00",
          "2024-09-15T01:05:00",
          "2024-09-15T01:10:00",
          "2024-09-15T01:15:00",
          "2024-09-15T01:20:00",
          "2024-09-15T01:25:00",
          "2024-09-15T01:30:00",
          "2024-09-15T01:35:00",
          "2024-09-15T01:40:00",
          "2024-09-15T01:45:00",
          "2024-09-15T01:50:00",
          "2024-09-15T01:55:00",
          "2024-09-15T02:00:00",
          "2024-09-15T02:05:00",
          "2024-09-15T02:10:00",
          "2024-09-15T02:15:00",
          "2024-09-15T02:20:00",
          "2024-09-15T02:25:00",
          "2024-09-15T02:30:00",
          "2024-09-15T02:35:00",
          "2024-09-15T02:40:00",
          "2024-09-15T02:45:00",
          "2024-09-15T02:50:00",
          "2024-09-15T02:55:00",
          "2024-09-15T03:00:00",
          "2024-09-15T03:05:00",
          "2024-09-15T03:10:00",
          "2024-09-15T03:15:00",
          "2024-09-15T03:20:00",
          "2024-09-15T03:25:00",
          "2024-09-15T03:30:00",
          "2024-09-15T03:35:00",
          "2024-09-15T03:40:00",
          "2024-09-15T03:45:00",
          "2024-09-15T03:50:00",
          "2024-09-15T03:55:00",
          "2024-09-15T04:00:00",
          "2024-09-15T04:05:00",
          "2024-09-15T04:10:00",
          "2024-09-15T04:15:00",
          "2024-09-15T04:20:00",
          "2024-09-15T04:25:00",
          "2024-09-15T04:30:00",
          "2024-09-15T04:35:00",
          "2024-09-15T04:40:00",
          "2024-09-15T04:45:00",
          "2024-09-15T04:50:00",
          "2024-09-15T04:55:00",
          "2024-09-15T05:00:00",
          "2024-09-15T05:05:00",
          "2024-09-15T05:10:00",
          "2024-09-15T05:15:00",
          "2024-09-15T05:20:00",
          "2024-09-15T05:25:00",
          "2024-09-15T05:30:00",
          "2024-09-15T05:35:00",
          "2024-09-15T05:40:00",
          "2024-09-15T05:45:00",
          "2024-09-15T05:50:00",
          "2024-09-15T05:55:00",
          "2024-09-15T06:00:00",
          "2024-09-15T06:05:00",
          "2024-09-15T06:10:00",
          "2024-09-15T06:15:00",
          "2024-09-15T06:20:00",
          "2024-09-15T06:25:00",
          "2024-09-15T06:30:00",
          "2024-09-15T06:35:00",
          "2024-09-15T06:40:00",
          "2024-09-15T06:45:00",
          "2024-09-15T06:50:00",
          "2024-09-15T06:55:00",
          "2024-09-15T07:00:00",
          "2024-09-15T07:05:00",
          "2024-09-15T07:10:00",
          "2024-09-15T07:15:00",
          "2024-09-15T07:20:00",
          "2024-09-15T07:25:00",
          "2024-09-15T07:30:00",
          "2024-09-15T07:35:00",
          "2024-09-15T07:40:00",
          "2024-09-15T07:45:00",
          "2024-09-15T07:50:00",
          "2024-09-15T07:55:00",
          "2024-09-15T08:00:00",
          "2024-09-15T08:05:00",
          "2024-09-15T08:10:00",
          "2024-09-15T08:15:00",
          "2024-09-15T08:20:00",
          "2024-09-15T08:25:00",
          "2024-09-15T08:30:00",
          "2024-09-15T08:35:00",
          "2024-09-15T08:40:00",
          "2024-09-15T08:45:00",
          "2024-09-15T08:50:00",
          "2024-09-15T08:55:00",
          "2024-09-15T09:00:00",
          "2024-09-15T09:05:00",
          "2024-09-15T09:10:00",
          "2024-09-15T09:15:00",
          "2024-09-15T09:20:00",
          "2024-09-15T09:25:00",
          "2024-09-15T09:30:00",
          "2024-09-15T09:35:00",
          "2024-09-15T09:40:00",
          "2024-09-15T09:45:00",
          "2024-09-15T09:50:00",
          "2024-09-15T09:55:00",
          "2024-09-15T10:00:00",
          "2024-09-15T10:05:00",
          "2024-09-15T10:10:00",
          "2024-09-15T10:15:00",
          "2024-09-15T10:20:00",
          "2024-09-15T10:25:00",
          "2024-09-15T10:30:00",
          "2024-09-15T10:35:00",
          "2024-09-15T10:40:00",
          "2024-09-15T10:45:00",
          "2024-09-15T10:50:00",
          "2024-09-15T10:55:00",
          "2024-09-15T11:00:00",
          "2024-09-15T11:05:00",
          "2024-09-15T11:10:00",
          "2024-09-15T11:15:00",
          "2024-09-15T11:20:00",
          "2024-09-15T11:25:00",
          "2024-09-15T11:30:00",
          "2024-09-15T11:35:00",
          "2024-09-15T11:40:00",
          "2024-09-15T11:45:00",
          "2024-09-15T11:50:00",
          "2024-09-15T11:55:00",
          "2024-09-15T12:00:00",
          "2024-09-15T12:05:00",
          "2024-09-15T12:10:00",
          "2024-09-15T12:15:00",
          "2024-09-15T12:20:00",
          "2024-09-15T12:25:00",
          "2024-09-15T12:30:00",
          "2024-09-15T12:35:00",
          "2024-09-15T12:40:00",
          "2024-09-15T12:45:00",
          "2024-09-15T12:50:00",
          "2024-09-15T12:55:00",
          "2024-09-15T13:00:00",
          "2024-09-15T13:05:00",
          "2024-09-15T13:10:00",
          "2024-09-15T13:15:00",
          "2024-09-15T13:20:00",
          "2024-09-15T13:25:00",
          "2024-09-15T13:30:00",
          "2024-09-15T13:35:00",
          "2024-09-15T13:40:00",
          "2024-09-15T13:45:00",
          "2024-09-15T13:50:00",
          "2024-09-15T13:55:00",
          "2024-09-15T14:00:00",
          "2024-09-15T14:05:00",
          "2024-09-15T14:10:00",
          "2024-09-15T14:15:00",
          "2024-09-15T14:20:00",
          "2024-09-15T14:25:00",
          "2024-09-15T14:30:00",
          "2024-09-15T14:35:00",
          "2024-09-15T14:40:00",
          "2024-09-15T14:45:00",
          "2024-09-15T14:50:00",
          "2024-09-15T14:55:00",
          "2024-09-15T15:00:00",
          "2024-09-15T15:05:00",
          "2024-09-15T15:10:00",
          "2024-09-15T15:15:00",
          "2024-09-15T15:20:00",
          "2024-09-15T15:25:00",
          "2024-09-15T15:30:00",
          "2024-09-15T15:35:00",
          "2024-09-15T15:40:00",
          "2024-09-15T15:45:00",
          "2024-09-15T15:50:00",
          "2024-09-15T15:55:00",
          "2024-09-15T16:00:00",
          "2024-09-15T16:05:00",
          "2024-09-15T16:10:00",
          "2024-09-15T16:15:00",
          "2024-09-15T16:20:00",
          "2024-09-15T16:25:00",
          "2024-09-15T16:30:00",
          "2024-09-15T16:35:00",
          "2024-09-15T16:40:00",
          "2024-09-15T16:45:00",
          "2024-09-15T16:50:00",
          "2024-09-15T16:55:00",
          "2024-09-15T17:00:00",
          "2024-09-15T17:05:00",
          "2024-09-15T17:10:00",
          "2024-09-15T17:15:00",
          "2024-09-15T17:20:00",
          "2024-09-15T17:25:00",
          "2024-09-15T17:30:00",
          "2024-09-15T17:35:00",
          "2024-09-15T17:40:00",
          "2024-09-15T17:45:00",
          "2024-09-15T17:50:00",
          "2024-09-15T17:55:00",
          "2024-09-15T18:00:00",
          "2024-09-15T18:05:00",
          "2024-09-15T18:10:00",
          "2024-09-15T18:15:00",
          "2024-09-15T18:20:00",
          "2024-09-15T18:25:00",
          "2024-09-15T18:30:00",
          "2024-09-15T18:35:00",
          "2024-09-15T18:40:00",
          "2024-09-15T18:45:00",
          "2024-09-15T18:50:00",
          "2024-09-15T18:55:00",
          "2024-09-15T19:00:00",
          "2024-09-15T19:05:00",
          "2024-09-15T19:10:00",
          "2024-09-15T19:15:00",
          "2024-09-15T19:20:00",
          "2024-09-15T19:25:00",
          "2024-09-15T19:30:00",
          "2024-09-15T19:35:00",
          "2024-09-15T19:40:00",
          "2024-09-15T19:45:00",
          "2024-09-15T19:50:00",
          "2024-09-15T19:55:00",
          "2024-09-15T20:00:00",
          "2024-09-15T20:05:00",
          "2024-09-15T20:10:00",
          "2024-09-15T20:15:00",
          "2024-09-15T20:20:00",
          "2024-09-15T20:25:00",
          "2024-09-15T20:30:00",
          "2024-09-15T20:35:00",
          "2024-09-15T20:40:00",
          "2024-09-15T20:45:00",
          "2024-09-15T20:50:00",
          "2024-09-15T20:55:00",
          "2024-09-15T21:00:00",
          "2024-09-15T21:05:00",
          "2024-09-15T21:10:00",
          "2024-09-15T21:15:00",
          "2024-09-15T21:20:00",
          "2024-09-15T21:25:00",
          "2024-09-15T21:30:00",
          "2024-09-15T21:35:00",
          "2024-09-15T21:40:00",
          "2024-09-15T21:45:00",
          "2024-09-15T21:50:00",
          "2024-09-15T21:55:00",
          "2024-09-15T22:00:00",
          "2024-09-15T22:05:00",
          "2024-09-15T22:10:00",
          "2024-09-15T22:15:00",
          "2024-09-15T22:20:00",
          "2024-09-15T22:25:00",
          "2024-09-15T22:30:00",
          "2024-09-15T22:35:00",
          "2024-09-15T22:40:00",
          "2024-09-15T22:45:00",
          "2024-09-15T22:50:00",
          "2024-09-15T22:55:00",
          "2024-09-15T23:00:00",
          "2024-09-15T23:05:00",
          "2024-09-15T23:10:00",
          "2024-09-15T23:15:00",
          "2024-09-15T23:20:00",
          "2024-09-15T23:25:00",
          "2024-09-15T23:30:00",
          "2024-09-15T23:35:00",
          "2024-09-15T23:40:00",
          "2024-09-15T23:45:00",
          "2024-09-15T23:50:00",
          "2024-09-15T23:55:00",
          "2024-09-16T00:00:00",
          "2024-09-16T00:05:00",
          "2024-09-16T00:10:00",
          "2024-09-16T00:15:00",
          "2024-09-16T00:20:00",
          "2024-09-16T00:25:00",
          "2024-09-16T00:30:00",
          "2024-09-16T00:35:00",
          "2024-09-16T00:40:00",
          "2024-09-16T00:45:00",
          "2024-09-16T00:50:00",
          "2024-09-16T00:55:00",
          "2024-09-16T01:00:00",
          "2024-09-16T01:05:00",
          "2024-09-16T01:10:00",
          "2024-09-16T01:15:00",
          "2024-09-16T01:20:00",
          "2024-09-16T01:25:00",
          "2024-09-16T01:30:00",
          "2024-09-16T01:35:00",
          "2024-09-16T01:40:00",
          "2024-09-16T01:45:00",
          "2024-09-16T01:50:00",
          "2024-09-16T01:55:00",
          "2024-09-16T02:00:00",
          "2024-09-16T02:05:00",
          "2024-09-16T02:10:00",
          "2024-09-16T02:15:00",
          "2024-09-16T02:20:00",
          "2024-09-16T02:25:00",
          "2024-09-16T02:30:00",
          "2024-09-16T02:35:00",
          "2024-09-16T02:40:00",
          "2024-09-16T02:45:00",
          "2024-09-16T02:50:00",
          "2024-09-16T02:55:00",
          "2024-09-16T03:00:00",
          "2024-09-16T03:05:00",
          "2024-09-16T03:10:00",
          "2024-09-16T03:15:00",
          "2024-09-16T03:20:00",
          "2024-09-16T03:25:00",
          "2024-09-16T03:30:00",
          "2024-09-16T03:35:00",
          "2024-09-16T03:40:00",
          "2024-09-16T03:45:00",
          "2024-09-16T03:50:00",
          "2024-09-16T03:55:00",
          "2024-09-16T04:00:00",
          "2024-09-16T04:05:00",
          "2024-09-16T04:10:00",
          "2024-09-16T04:15:00",
          "2024-09-16T04:20:00",
          "2024-09-16T04:25:00",
          "2024-09-16T04:30:00",
          "2024-09-16T04:35:00",
          "2024-09-16T04:40:00",
          "2024-09-16T04:45:00",
          "2024-09-16T04:50:00",
          "2024-09-16T04:55:00",
          "2024-09-16T05:00:00",
          "2024-09-16T05:05:00",
          "2024-09-16T05:10:00",
          "2024-09-16T05:15:00",
          "2024-09-16T05:20:00",
          "2024-09-16T05:25:00",
          "2024-09-16T05:30:00",
          "2024-09-16T05:35:00",
          "2024-09-16T05:40:00",
          "2024-09-16T05:45:00",
          "2024-09-16T05:50:00",
          "2024-09-16T05:55:00",
          "2024-09-16T06:00:00",
          "2024-09-16T06:05:00",
          "2024-09-16T06:10:00",
          "2024-09-16T06:15:00",
          "2024-09-16T06:20:00",
          "2024-09-16T06:25:00",
          "2024-09-16T06:30:00",
          "2024-09-16T06:35:00",
          "2024-09-16T06:40:00",
          "2024-09-16T06:45:00",
          "2024-09-16T06:50:00",
          "2024-09-16T06:55:00",
          "2024-09-16T07:00:00",
          "2024-09-16T07:05:00",
          "2024-09-16T07:10:00",
          "2024-09-16T07:15:00",
          "2024-09-16T07:20:00",
          "2024-09-16T07:25:00",
          "2024-09-16T07:30:00",
          "2024-09-16T07:35:00",
          "2024-09-16T07:40:00",
          "2024-09-16T07:45:00",
          "2024-09-16T07:50:00",
          "2024-09-16T07:55:00",
          "2024-09-16T08:00:00",
          "2024-09-16T08:05:00",
          "2024-09-16T08:10:00",
          "2024-09-16T08:15:00",
          "2024-09-16T08:20:00",
          "2024-09-16T08:25:00",
          "2024-09-16T08:30:00",
          "2024-09-16T08:35:00",
          "2024-09-16T08:40:00",
          "2024-09-16T08:45:00",
          "2024-09-16T08:50:00",
          "2024-09-16T08:55:00",
          "2024-09-16T09:00:00",
          "2024-09-16T09:05:00",
          "2024-09-16T09:10:00",
          "2024-09-16T09:15:00",
          "2024-09-16T09:20:00",
          "2024-09-16T09:25:00",
          "2024-09-16T09:30:00",
          "2024-09-16T09:35:00",
          "2024-09-16T09:40:00",
          "2024-09-16T09:45:00",
          "2024-09-16T09:50:00",
          "2024-09-16T09:55:00",
          "2024-09-16T10:00:00",
          "2024-09-16T10:05:00",
          "2024-09-16T10:10:00",
          "2024-09-16T10:15:00",
          "2024-09-16T10:20:00",
          "2024-09-16T10:25:00",
          "2024-09-16T10:30:00",
          "2024-09-16T10:35:00",
          "2024-09-16T10:40:00",
          "2024-09-16T10:45:00",
          "2024-09-16T10:50:00",
          "2024-09-16T10:55:00",
          "2024-09-16T11:00:00",
          "2024-09-16T11:05:00",
          "2024-09-16T11:10:00",
          "2024-09-16T11:15:00",
          "2024-09-16T11:20:00",
          "2024-09-16T11:25:00",
          "2024-09-16T11:30:00",
          "2024-09-16T11:35:00",
          "2024-09-16T11:40:00",
          "2024-09-16T11:45:00",
          "2024-09-16T11:50:00",
          "2024-09-16T11:55:00",
          "2024-09-16T12:00:00",
          "2024-09-16T12:05:00",
          "2024-09-16T12:10:00",
          "2024-09-16T12:15:00",
          "2024-09-16T12:20:00",
          "2024-09-16T12:25:00",
          "2024-09-16T12:30:00",
          "2024-09-16T12:35:00",
          "2024-09-16T12:40:00",
          "2024-09-16T12:45:00",
          "2024-09-16T12:50:00",
          "2024-09-16T12:55:00",
          "2024-09-16T13:00:00",
          "2024-09-16T13:05:00",
          "2024-09-16T13:10:00",
          "2024-09-16T13:15:00",
          "2024-09-16T13:20:00",
          "2024-09-16T13:25:00",
          "2024-09-16T13:30:00",
          "2024-09-16T13:35:00",
          "2024-09-16T13:40:00",
          "2024-09-16T13:45:00",
          "2024-09-16T13:50:00",
          "2024-09-16T13:55:00",
          "2024-09-16T14:00:00",
          "2024-09-16T14:05:00",
          "2024-09-16T14:10:00",
          "2024-09-16T14:15:00",
          "2024-09-16T14:20:00",
          "2024-09-16T14:25:00",
          "2024-09-16T14:30:00",
          "2024-09-16T14:35:00",
          "2024-09-16T14:40:00",
          "2024-09-16T14:45:00",
          "2024-09-16T14:50:00",
          "2024-09-16T14:55:00",
          "2024-09-16T15:00:00",
          "2024-09-16T15:05:00",
          "2024-09-16T15:10:00",
          "2024-09-16T15:15:00",
          "2024-09-16T15:20:00",
          "2024-09-16T15:25:00",
          "2024-09-16T15:30:00",
          "2024-09-16T15:35:00",
          "2024-09-16T15:40:00",
          "2024-09-16T15:45:00",
          "2024-09-16T15:50:00",
          "2024-09-16T15:55:00",
          "2024-09-16T16:00:00",
          "2024-09-16T16:05:00",
          "2024-09-16T16:10:00",
          "2024-09-16T16:15:00",
          "2024-09-16T16:20:00",
          "2024-09-16T16:25:00",
          "2024-09-16T16:30:00",
          "2024-09-16T16:35:00",
          "2024-09-16T16:40:00",
          "2024-09-16T16:45:00",
          "2024-09-16T16:50:00",
          "2024-09-16T16:55:00",
          "2024-09-16T17:00:00",
          "2024-09-16T17:05:00",
          "2024-09-16T17:10:00",
          "2024-09-16T17:15:00",
          "2024-09-16T17:20:00",
          "2024-09-16T17:25:00",
          "2024-09-16T17:30:00",
          "2024-09-16T17:35:00",
          "2024-09-16T17:40:00",
          "2024-09-16T17:45:00",
          "2024-09-16T17:50:00",
          "2024-09-16T17:55:00",
          "2024-09-16T18:00:00",
          "2024-09-16T18:05:00",
          "2024-09-16T18:10:00",
          "2024-09-16T18:15:00",
          "2024-09-16T18:20:00",
          "2024-09-16T18:25:00",
          "2024-09-16T18:30:00",
          "2024-09-16T18:35:00",
          "2024-09-16T18:40:00",
          "2024-09-16T18:45:00",
          "2024-09-16T18:50:00",
          "2024-09-16T18:55:00",
          "2024-09-16T19:00:00",
          "2024-09-16T19:05:00",
          "2024-09-16T19:10:00",
          "2024-09-16T19:15:00",
          "2024-09-16T19:20:00",
          "2024-09-16T19:25:00",
          "2024-09-16T19:30:00",
          "2024-09-16T19:35:00",
          "2024-09-16T19:40:00",
          "2024-09-16T19:45:00",
          "2024-09-16T19:50:00",
          "2024-09-16T19:55:00",
          "2024-09-16T20:00:00",
          "2024-09-16T20:05:00",
          "2024-09-16T20:10:00",
          "2024-09-16T20:15:00",
          "2024-09-16T20:20:00",
          "2024-09-16T20:25:00",
          "2024-09-16T20:30:00",
          "2024-09-16T20:35:00",
          "2024-09-16T20:40:00",
          "2024-09-16T20:45:00",
          "2024-09-16T20:50:00",
          "2024-09-16T20:55:00",
          "2024-09-16T21:00:00",
          "2024-09-16T21:05:00",
          "2024-09-16T21:10:00",
          "2024-09-16T21:15:00",
          "2024-09-16T21:20:00",
          "2024-09-16T21:25:00",
          "2024-09-16T21:30:00",
          "2024-09-16T21:35:00",
          "2024-09-16T21:40:00",
          "2024-09-16T21:45:00",
          "2024-09-16T21:50:00",
          "2024-09-16T21:55:00",
          "2024-09-16T22:00:00",
          "2024-09-16T22:05:00",
          "2024-09-16T22:10:00",
          "2024-09-16T22:15:00",
          "2024-09-16T22:20:00",
          "2024-09-16T22:25:00",
          "2024-09-16T22:30:00",
          "2024-09-16T22:35:00",
          "2024-09-16T22:40:00",
          "2024-09-16T22:45:00",
          "2024-09-16T22:50:00",
          "2024-09-16T22:55:00",
          "2024-09-16T23:00:00",
          "2024-09-16T23:05:00",
          "2024-09-16T23:10:00",
          "2024-09-16T23:15:00",
          "2024-09-16T23:20:00",
          "2024-09-16T23:25:00",
          "2024-09-16T23:30:00",
          "2024-09-16T23:35:00",
          "2024-09-16T23:40:00",
          "2024-09-16T23:45:00",
          "2024-09-16T23:50:00",
          "2024-09-16T23:55:00",
          "2024-09-17T00:00:00",
          "2024-09-17T00:05:00",
          "2024-09-17T00:10:00",
          "2024-09-17T00:15:00",
          "2024-09-17T00:20:00",
          "2024-09-17T00:25:00",
          "2024-09-17T00:30:00",
          "2024-09-17T00:35:00",
          "2024-09-17T00:40:00",
          "2024-09-17T00:45:00",
          "2024-09-17T00:50:00",
          "2024-09-17T00:55:00",
          "2024-09-17T01:00:00",
          "2024-09-17T01:05:00",
          "2024-09-17T01:10:00",
          "2024-09-17T01:15:00",
          "2024-09-17T01:20:00",
          "2024-09-17T01:25:00",
          "2024-09-17T01:30:00",
          "2024-09-17T01:35:00",
          "2024-09-17T01:40:00",
          "2024-09-17T01:45:00",
          "2024-09-17T01:50:00",
          "2024-09-17T01:55:00",
          "2024-09-17T02:00:00",
          "2024-09-17T02:05:00",
          "2024-09-17T02:10:00",
          "2024-09-17T02:15:00",
          "2024-09-17T02:20:00",
          "2024-09-17T02:25:00",
          "2024-09-17T02:30:00",
          "2024-09-17T02:35:00",
          "2024-09-17T02:40:00",
          "2024-09-17T02:45:00",
          "2024-09-17T02:50:00",
          "2024-09-17T02:55:00",
          "2024-09-17T03:00:00",
          "2024-09-17T03:05:00",
          "2024-09-17T03:10:00",
          "2024-09-17T03:15:00",
          "2024-09-17T03:20:00",
          "2024-09-17T03:25:00",
          "2024-09-17T03:30:00",
          "2024-09-17T03:35:00",
          "2024-09-17T03:40:00",
          "2024-09-17T03:45:00",
          "2024-09-17T03:50:00",
          "2024-09-17T03:55:00",
          "2024-09-17T04:00:00",
          "2024-09-17T04:05:00",
          "2024-09-17T04:10:00",
          "2024-09-17T04:15:00",
          "2024-09-17T04:20:00",
          "2024-09-17T04:25:00",
          "2024-09-17T04:30:00",
          "2024-09-17T04:35:00",
          "2024-09-17T04:40:00",
          "2024-09-17T04:45:00",
          "2024-09-17T04:50:00",
          "2024-09-17T04:55:00",
          "2024-09-17T05:00:00",
          "2024-09-17T05:05:00",
          "2024-09-17T05:10:00",
          "2024-09-17T05:15:00",
          "2024-09-17T05:20:00",
          "2024-09-17T05:25:00",
          "2024-09-17T05:30:00",
          "2024-09-17T05:35:00",
          "2024-09-17T05:40:00",
          "2024-09-17T05:45:00",
          "2024-09-17T05:50:00",
          "2024-09-17T05:55:00",
          "2024-09-17T06:00:00",
          "2024-09-17T06:05:00",
          "2024-09-17T06:10:00",
          "2024-09-17T06:15:00",
          "2024-09-17T06:20:00",
          "2024-09-17T06:25:00",
          "2024-09-17T06:30:00",
          "2024-09-17T06:35:00",
          "2024-09-17T06:40:00",
          "2024-09-17T06:45:00",
          "2024-09-17T06:50:00",
          "2024-09-17T06:55:00",
          "2024-09-17T07:00:00",
          "2024-09-17T07:05:00",
          "2024-09-17T07:10:00",
          "2024-09-17T07:15:00",
          "2024-09-17T07:20:00",
          "2024-09-17T07:25:00",
          "2024-09-17T07:30:00",
          "2024-09-17T07:35:00",
          "2024-09-17T07:40:00",
          "2024-09-17T07:45:00",
          "2024-09-17T07:50:00",
          "2024-09-17T07:55:00",
          "2024-09-17T08:00:00",
          "2024-09-17T08:05:00",
          "2024-09-17T08:10:00",
          "2024-09-17T08:15:00",
          "2024-09-17T08:20:00",
          "2024-09-17T08:25:00",
          "2024-09-17T08:30:00",
          "2024-09-17T08:35:00",
          "2024-09-17T08:40:00",
          "2024-09-17T08:45:00",
          "2024-09-17T08:50:00",
          "2024-09-17T08:55:00",
          "2024-09-17T09:00:00",
          "2024-09-17T09:05:00",
          "2024-09-17T09:10:00",
          "2024-09-17T09:15:00",
          "2024-09-17T09:20:00",
          "2024-09-17T09:25:00",
          "2024-09-17T09:30:00",
          "2024-09-17T09:35:00",
          "2024-09-17T09:40:00",
          "2024-09-17T09:45:00",
          "2024-09-17T09:50:00",
          "2024-09-17T09:55:00",
          "2024-09-17T10:00:00",
          "2024-09-17T10:05:00",
          "2024-09-17T10:10:00",
          "2024-09-17T10:15:00",
          "2024-09-17T10:20:00",
          "2024-09-17T10:25:00",
          "2024-09-17T10:30:00",
          "2024-09-17T10:35:00",
          "2024-09-17T10:40:00",
          "2024-09-17T10:45:00",
          "2024-09-17T10:50:00",
          "2024-09-17T10:55:00",
          "2024-09-17T11:00:00",
          "2024-09-17T11:05:00",
          "2024-09-17T11:10:00",
          "2024-09-17T11:15:00",
          "2024-09-17T11:20:00",
          "2024-09-17T11:25:00",
          "2024-09-17T11:30:00",
          "2024-09-17T11:35:00",
          "2024-09-17T11:40:00",
          "2024-09-17T11:45:00",
          "2024-09-17T11:50:00",
          "2024-09-17T11:55:00",
          "2024-09-17T12:00:00",
          "2024-09-17T12:05:00",
          "2024-09-17T12:10:00",
          "2024-09-17T12:15:00",
          "2024-09-17T12:20:00",
          "2024-09-17T12:25:00",
          "2024-09-17T12:30:00",
          "2024-09-17T12:35:00",
          "2024-09-17T12:40:00",
          "2024-09-17T12:45:00",
          "2024-09-17T12:50:00",
          "2024-09-17T12:55:00",
          "2024-09-17T13:00:00",
          "2024-09-17T13:05:00",
          "2024-09-17T13:10:00",
          "2024-09-17T13:15:00",
          "2024-09-17T13:20:00",
          "2024-09-17T13:25:00",
          "2024-09-17T13:30:00",
          "2024-09-17T13:35:00",
          "2024-09-17T13:40:00",
          "2024-09-17T13:45:00",
          "2024-09-17T13:50:00"
         ],
         "xaxis": "x2",
         "y": [
          null,
          null,
          null,
          null,
          null,
          null,
          null,
          null,
          null,
          null,
          null,
          null,
          null,
          null,
          null,
          null,
          null,
          null,
          null,
          null,
          null,
          null,
          null,
          null,
          null,
          null,
          null,
          null,
          null,
          null,
          null,
          null,
          null,
          null,
          null,
          null,
          null,
          null,
          -44.569239475859895,
          -64.16133385573067,
          -82.45841653051784,
          -76.89827820393259,
          -68.07224436484395,
          -51.45052229881136,
          -51.03634797175231,
          -47.65446998547161,
          -48.20674850648107,
          -51.151330347765715,
          -63.24617411478053,
          -45.270453624079146,
          -22.646469015864493,
          -2.76172734534792,
          0.7417274129593056,
          0,
          0,
          0,
          0,
          0,
          0.4351527214718293,
          7.263873618689272,
          15.33113486520123,
          23.063195961688983,
          32.52438219807523,
          35.79857687078325,
          37.68834682487234,
          25.751276765293277,
          16.769434123249795,
          5.496650344482555,
          0.8433461619071697,
          -1.868123373542846,
          -14.931845793996317,
          -27.069313538263064,
          -36.16428630789748,
          -34.30520866480902,
          -47.554385015550224,
          -56.101077614137786,
          -61.84837807062248,
          -54.93586521176468,
          -40.94053810058229,
          -30.962699138900348,
          -32.54268141621511,
          -37.418128873792746,
          -12.962500111831504,
          0,
          0,
          0,
          0,
          0,
          3.221690773958104,
          4.18275204483316,
          4.208841096647656,
          2.451172457226556,
          1.8462395698916758,
          0.2941110842609287,
          -0.5753063711348607,
          -1.2868821423850891,
          -0.3956325648165817,
          -3.3875452359856064,
          -19.973993590890768,
          -53.29814463521691,
          -71.24853145359575,
          -77.61137524286683,
          -83.4736938254667,
          -87.92329847566344,
          -71.49274112404717,
          -63.79545781227419,
          -57.648771021991195,
          -63.149341629499276,
          -59.68435258942557,
          -71.0102648792098,
          -84.77073786272503,
          -66.98291829507934,
          -54.30891130684094,
          -49.14995227277939,
          -36.039319985133574,
          -21.704276959423492,
          -5.0889903012382245,
          -0.17824772136520994,
          0,
          0.15456516913868373,
          0,
          0,
          2.3393944911641142,
          4.864340364557176,
          4.706323377431612,
          3.2816407447118783,
          1.7828121480153636,
          1.305155737144452,
          0.527983146636613,
          -0.4155135039074504,
          0,
          0,
          -0.25485376172992513,
          0,
          -0.30052411908185744,
          -0.07571520769809245,
          0.0908675722246906,
          0.15292799169882018,
          0,
          0,
          -0.11461399068690847,
          1.9305199488895617,
          41.34966293842777,
          72.37745908148636,
          63.83806729320264,
          51.18498168498189,
          37.31135531135553,
          41.840659340660125,
          47.326007326007584,
          44.181609594198854,
          44.45451620749496,
          40.22979148050235,
          45.42973490812601,
          37.17491916563543,
          37.049983419972,
          24.813671678229916,
          19.08045134550481,
          6.079688656752009,
          2.110850556062064,
          1.348402709399097,
          0,
          0,
          0,
          0,
          0.7536308109281373,
          1.037755876142678,
          0.3355109768636489,
          -0.3717900597091098,
          -0.11001655673717722,
          0.9414433311597888,
          3.765868263457224,
          6.809156243622253,
          14.877111977529864,
          17.922973848332337,
          14.259984902265515,
          5.170611453644997,
          -2.619805819781565,
          -1.283768932103345,
          -1.9764529385246572,
          -13.274843394754056,
          -33.013352100072936,
          -34.373626550071286,
          -40.7620708339471,
          -39.73926036913486,
          -33.45672766868116,
          -58.65019423489927,
          -61.41329301766256,
          -55.52875684103748,
          -23.66798653845117,
          -1.953524514761554,
          1.6015587057256653,
          5.774929097643777,
          7.1781903113501615,
          17.909987111103998,
          18.68889416375297,
          29.143208430413925,
          32.692073353376074,
          31.446025366629886,
          25.25555593370312,
          24.19385453050286,
          29.780073935475954,
          33.68302138140753,
          42.15360170633573,
          40.24070765757219,
          36.49819583285444,
          0.7655708957650205,
          0,
          0,
          0,
          0,
          0,
          0,
          0,
          3.284238819215709,
          15.278026138146332,
          27.013324982271705,
          20.190745729581085,
          16.840258088681896,
          11.829675822643965,
          15.127120406652159,
          25.062772753811256,
          33.72368302514664,
          25.425077981100504,
          22.459482224011992,
          22.365071872194218,
          33.83685520969303,
          39.232935072631406,
          30.926657548063133,
          16.41936578152156,
          11.986627367003027,
          11.911458684173557,
          10.702295426500767,
          0,
          0,
          0.007381274567144656,
          -0.23649874144922323,
          -2.6630998136259074,
          -3.000659950349995,
          -0.6999917280327638,
          -0.6202352658885854,
          -0.6023677464476868,
          0.31146741106011416,
          0.4022054571681619,
          0.05940625705371926,
          -0.4502931344373176,
          -0.4358347652528128,
          -0.22314415651896805,
          -0.11201482055007755,
          0,
          -0.38174554990296516,
          -5.247301832154338,
          -28.118292843243673,
          -60.00134130758895,
          -18.91939742239969,
          -14.393331874091563,
          -4.677983021190366,
          0,
          0,
          0,
          -0.14060786657472824,
          0,
          0,
          22.06222484320912,
          55.67613474883598,
          87.57980132375003,
          92.76438914021762,
          96.25687322294752,
          76.88315705654784,
          43.97283031366043,
          25.377604880098104,
          37.07376764743421,
          69.46342320998778,
          88.07808645315268,
          79.29511773984584,
          66.10438800410236,
          60.813749840464936,
          64.89213326828343,
          58.29574523406188,
          50.44606926259806,
          59.70073116816971,
          69.18601030482355,
          62.94187254450596,
          48.31452783424381,
          32.47992451680342,
          17.542313085806935,
          4.858161451709377,
          4.926759336552094,
          10.76013995488631,
          8.211627188182362,
          0,
          0,
          0,
          0.9823540284077139,
          0.13785803647529749,
          0,
          0,
          0.561736810997975,
          0.26031512296923176,
          0.3125735393506008,
          0,
          0,
          -0.21861276638309327,
          -2.3041592265149857,
          -5.031352675905754,
          -3.990806243079569,
          0,
          0,
          -0.0199924765392306,
          0,
          -20.78304406881462,
          -35.95473950419067,
          -38.96412287185205,
          -3.696692610095059,
          -1.1777193736329332,
          -1.8507905523516182,
          -2.5693048590339513,
          0,
          0,
          0,
          0,
          0,
          0,
          14.820112194423322,
          22.237036260070607,
          30.15733939369183,
          41.48909056355477,
          41.38716273488779,
          38.287859172228885,
          20.444131147123553,
          12.314606447942284,
          7.876887472770009,
          3.879413165442269,
          0.254234012843084,
          -1.3621312045276937,
          0,
          0,
          0,
          0,
          0,
          0,
          0,
          -0.28230013691325156,
          0,
          -0.12256035220121465,
          0,
          0,
          7.3711254719897985,
          10.140867576640183,
          7.491518044942669,
          2.0000885310672096,
          8.957235430731428,
          13.811276995813865,
          23.481535471992235,
          28.29333869308204,
          18.669799103067767,
          4.151047748552463,
          -8.122377218870666,
          -43.16869181503333,
          -55.17655874538401,
          -67.2369632806296,
          -52.88638409455321,
          -36.272552933347015,
          -27.474462839027282,
          -27.51751399162427,
          -45.69292786975165,
          -56.02129075183061,
          -56.26291252107428,
          -57.69156888242005,
          -47.17138311274775,
          -34.29481718321932,
          -17.75921151777261,
          -15.803663754099238,
          -21.24211417582567,
          -22.5297915333416,
          -24.28884494123229,
          -28.87305510485176,
          -3.3158174572504935,
          -4.739425998731449,
          -16.005049062306806,
          -32.27100212108652,
          -58.980262267331355,
          -85.66176340453241,
          -95.47553127979869,
          -68.19373240393638,
          -31.350165173418603,
          4.373877025575209,
          10.961100978210924,
          9.452309426729721,
          5.766676619463852,
          -3.958707062954462,
          -18.33844290068755,
          -22.48490762524966,
          -23.12871691938986,
          -13.177036295459649,
          -4.911740835204347,
          -1.8295115334427974,
          0.945333247759311,
          0,
          1.221924100101484,
          4.431993927082774,
          5.143967619872074,
          2.499425335346179,
          0.5579941180647039,
          0.27489143770174,
          0,
          0.5539092097791763,
          1.545951484795804,
          4.976429014635331,
          5.3533641963288865,
          9.656860894889139,
          1.4001088409271674,
          0,
          74.51090598046028,
          86.17554772956001,
          68.12874276011095,
          58.557428768609135,
          58.33945777424561,
          67.62775088145767,
          57.360187194552395,
          34.85623082869827,
          23.535915276356533,
          18.74051773077186,
          9.734004254727548,
          -1.588394005320166,
          -0.16762432969197102,
          7.278628667304758,
          14.78157599672991,
          -8.710090120416604,
          -44.284839610162436,
          -62.95367820932103,
          -42.08074652843087,
          -12.66853859397864,
          4.277852840381446,
          9.93607782306251,
          12.356979409718383,
          8.626654120928592,
          17.471716347991766,
          58.48161520981651,
          65.16975247156209,
          55.50487503728365,
          36.411331300812435,
          35.39761178861693,
          39.46392276422691,
          39.463283447788314,
          40.624999999999176,
          56.07469512195067,
          71.06326219512107,
          82.86467465135333,
          25.68293695608654,
          0,
          0,
          0,
          0,
          -6.047693448605581,
          -12.148042347396025,
          -28.56021415031635,
          -39.181836836575975,
          -57.88410997511494,
          -59.560254877355675,
          -70.67114119706591,
          -73.29574029202382,
          -75.04795529769045,
          -77.462179889527,
          -67.94986731232507,
          -68.73791742216102,
          -54.867679148221505,
          -43.401363595759854,
          -38.9175573238812,
          -39.008965642283904,
          -42.28658414587945,
          -42.081577655527255,
          -33.96226158040506,
          -21.64045419072174,
          -11.851648187859661,
          -3.6134516661241114,
          0,
          0,
          0,
          0,
          0,
          0,
          0,
          0,
          5.367019668457877,
          11.89282805032119,
          24.142045111890468,
          19.87857388088769,
          31.422999126291714,
          29.217995477930344,
          19.33625932954531,
          -3.325499967578202,
          -29.715463623994477,
          -40.12453960364853,
          -40.25050399790999,
          -43.95236506000433,
          -44.055451205630774,
          -39.18391832735185,
          -31.075527044483195,
          -44.12736186319671,
          -43.07276365940624,
          -39.110340670673395,
          -37.448558499563276,
          -50.19830530031939,
          -45.811704563322444,
          -20.02657805227469,
          0,
          0,
          0,
          0,
          -14.95874551124321,
          -32.618835929583646,
          -71.9374317814864,
          -72.68638995986943,
          -85.4650924556635,
          -77.63790181987416,
          -72.71502586777784,
          -53.77859554521718,
          -38.70575129780674,
          -51.65141906502899,
          -39.04178108094182,
          -27.839943953243814,
          -34.07726501298804,
          -55.85906888718282,
          -81.4808865893473,
          -82.13908265994934,
          -83.78422774647244,
          -78.25104630324955,
          -56.01709784368753,
          -22.93576237856879,
          -6.537102662144306,
          0,
          -3.654258716667802,
          -0.20993772607138095,
          -24.881490853697105,
          -84.16441173368891,
          -82.59428570983297,
          -64.02966218471863,
          -31.404957882874697,
          -4.403322473570907,
          -1.3139143067488923,
          -2.1730561544765865,
          -3.8359440962297606,
          4.9751530011199945,
          11.474866042169293,
          12.101295224454974,
          16.302117376421858,
          7.513487333517973,
          -3.4432384964842497,
          -28.211360589686794,
          -34.29922902757689,
          -35.04795208819325,
          -45.19404813187975,
          -59.22397470401548,
          -39.75778248504552,
          -35.91739755506207,
          -38.250593994989295,
          -69.62349842519347,
          -69.48389445066255,
          -64.19867900967972,
          -79.87732100123792,
          -79.0075852093668,
          -55.01197990842056,
          -24.69938305046619,
          -5.125748560816097,
          0,
          0,
          0,
          0,
          0,
          0,
          0,
          -7.038741216025854,
          -7.2017774929069045,
          -3.9211416077190484,
          -4.729324803060505,
          -12.191912039491555,
          -12.305281914627784,
          -12.263661145553828,
          -6.329151351657652,
          -15.597045324801503,
          -21.17927250773612,
          -30.524617249119377,
          -30.62152113331715,
          -23.975117884035694,
          -20.862494273571212,
          -4.94825857410779,
          -0.39248190361699287,
          4.75728439933162,
          4.023172097357142,
          3.8059844530291134,
          6.609819390640437,
          23.606523988575443,
          35.56625810926257,
          37.42898323272744,
          27.618940663333156,
          19.616724580501824,
          16.035467932741813,
          16.663487855259564,
          15.179998308659604,
          9.407241695620314,
          1.3984868436135047,
          0,
          0,
          0,
          -4.698683686195233,
          -2.0949034609908272,
          -0.7268866215030299,
          2.060506854195916,
          3.764554680216522,
          14.634027512992597,
          8.29109391224422,
          2.6468888409549027,
          -1.0735918185676463,
          -0.14953907759364615,
          -0.13453238885679666,
          7.0133477204262755,
          32.497654515659704,
          57.63412279300717,
          87.34418810554939,
          84.04953649636968,
          76.64750903854392,
          74.36074237463058,
          63.91811168347482,
          53.75065234394826,
          40.25965484953482,
          28.015344928847515,
          18.474988062688354,
          10.775632729148416,
          12.479557823635398,
          20.18327624134153,
          22.06369798884908,
          25.728593933565065,
          13.765005149287157,
          8.136795120183615,
          0,
          6.948640171121237,
          7.90582540976028,
          4.301398934798044,
          8.669978319620954,
          18.65776472380112,
          25.501904931743713,
          23.440375357759645,
          26.898936658568516,
          32.17555320705036,
          36.62959644486313,
          60.18170377076662,
          64.77228460099639,
          54.45258364108702,
          27.114623098331215,
          13.610399187045273,
          4.22320365584187,
          1.4581394481870538,
          -0.6034764293046111,
          -0.2639480605074308,
          0,
          -0.11907588413488784,
          -0.20636703184920388,
          -1.6917800690666986,
          -10.476339849207475,
          -25.195124865301533,
          -39.61406677486974,
          -65.79775960450705,
          -87.14271178351416,
          -80.23917199510988,
          -80.58925476603036,
          -85.60865561423182,
          -92.06533692990732,
          -89.93124416461961,
          -79.06854704399362,
          -71.286474810558,
          -66.99283831709627,
          -69.7742339719629,
          -68.29408830919445,
          -49.98969892754435,
          -28.297614326761792,
          -11.15849678275142,
          -2.7182461663995565,
          1.7296631278194032,
          0,
          0,
          1.023025578377245,
          1.4077687388553985,
          1.8997917037345684,
          2.100193441705975,
          3.036520121708912,
          1.0050528039082847,
          0,
          0,
          0,
          0,
          0,
          0,
          0,
          -0.4517724421131393,
          -8.867119720422563,
          -27.337121032030595,
          -44.66782716322414,
          -30.19306558138082,
          -27.566270488470668,
          -26.92556646055276,
          -44.324859892025906,
          -46.32770308739965,
          -43.86966084148942,
          -33.81142717133527,
          -32.93329197990415,
          -33.74075422759194,
          -36.88790617513706,
          -56.5803126792679,
          -59.299395284035626,
          -81.61605470633982,
          -57.88801933132821,
          -30.22386833463215,
          7.767746685243207,
          12.317514556148456,
          -4.848844742192875,
          -11.2032817563889,
          -26.895520057495276,
          -38.4012799705559,
          -68.4264313191869,
          -77.79856442436746,
          -77.45160885493935,
          -73.4653991078922,
          -71.4838542215211,
          -76.54157641808713,
          -85.30568029127623,
          -86.6964319297775,
          -70.30017461695468,
          -54.673963399270754,
          -37.5262433733573,
          -27.21432439997333,
          -21.037761677014025,
          -12.511146684711482,
          -11.747548772427699,
          -10.251847125374812,
          -8.444082902794966,
          -0.5450325984873262,
          0,
          0,
          0,
          0,
          0,
          0,
          0,
          0,
          0,
          0,
          -0.310041514899902,
          -0.3777311925982505,
          -0.38043093936524075,
          -1.593093290805266,
          -6.5968876584939355,
          -13.794632684927228,
          -18.210260842668653,
          -14.588669681294286,
          -13.34446854106014,
          -15.13835699025095,
          -17.532051159973605,
          -4.560014199085507,
          32.99717973104159,
          77.96601052432433,
          84.82386111904466,
          73.90802189833616,
          55.57141744750501,
          16.63681746999957,
          -10.846073316548766,
          -32.16201785102011,
          -27.424976836081452,
          -16.66363701149608,
          -14.282348847812193,
          -20.304578713647494,
          -22.85895970773781,
          -25.74233480941493,
          -11.448820593296375,
          -10.845844392562302,
          -0.12195184664191287,
          -2.4715619275497342,
          -3.540369147663157,
          -4.435812828441497,
          -0.18026904734098492,
          0,
          0,
          0,
          0,
          0,
          0,
          0,
          0.6277897781420934,
          13.606704122267276,
          23.852803665849223,
          12.717662099247981,
          3.1626589750279597,
          -7.665790457097641,
          -20.17882722898259,
          -21.075805249813577,
          -32.30705721870998,
          -51.359321752060374,
          -71.6537954158513,
          -63.16146093918873,
          -56.062885006624754,
          -38.22261588426358,
          -31.88153816811025,
          -14.70054947508664,
          -12.221395601440374,
          -10.319362649382674,
          -17.21007506505338,
          -20.013071651749488,
          -11.48066363427111,
          0.193800303392979,
          0,
          0,
          1.5377445877954954,
          0.4599073810342431,
          3.428080990736286,
          4.513737073857527,
          5.377928991379584,
          2.1268476534638046,
          0,
          0,
          0,
          0,
          0,
          8.810977788237961,
          19.38954738498439,
          28.163817080246528,
          40.940759819729756,
          60.97751916544318,
          93.43965051157797,
          93.34023512454107,
          84.18705599414147,
          86.2041875115805,
          77.90837567558334,
          62.83146663870688,
          43.2960701671666,
          35.48694510021714,
          41.09503873825188,
          52.260292811919264,
          51.79015317260882,
          39.77066975303875,
          20.428107173255256,
          8.021072593851185,
          -0.5145019771846657,
          -0.9167917362344247,
          -16.908029714196143,
          -71.76439592545879,
          -92.5282674866161,
          -85.33296745296308,
          -72.16631874565158,
          -65.7287382758957,
          -66.48458105726377,
          -63.652045650570734,
          -50.878329074018666,
          -38.80085344260938,
          -33.505085859709986,
          -22.55200300538887,
          -19.85009745847313,
          -13.757296973987915,
          -12.545675799642304,
          -6.35560640333747,
          -3.006812378875732,
          -2.2787106672591744,
          0.2758859307978245,
          0,
          0,
          0,
          0,
          6.655943616744069,
          17.42225860829344,
          15.168721773091782,
          13.645095317412665,
          13.323829019267281,
          12.294902854638636,
          11.067457893060533,
          6.446270200463842,
          6.2205427023284585,
          6.0169411485752065,
          8.113083047845363,
          9.96658672704738,
          15.827978206753762,
          22.747458270522987,
          6.594558361188441,
          0.3912541630921894,
          0,
          0,
          0,
          0,
          3.807484973170628,
          7.606759346097813,
          18.061263280601025,
          29.722798818312903,
          43.13312634389554,
          56.309146995577834,
          50.373414441102625,
          36.061241850332365,
          28.16313627132894,
          33.023751023412686,
          43.91623611416,
          54.14898720461151,
          69.07937141096208,
          87.26173892168481,
          93.47497252381072,
          86.57959902106681,
          71.87087606500687,
          77.91197392539645,
          89.41624107231428,
          83.25885002842497,
          56.51152568116501,
          32.31141474925806,
          14.100022693959742,
          10.669781893544222,
          2.1284816775278883,
          -4.822699709275675,
          -8.797435390679226,
          -5.560891957023259,
          1.299010448228238,
          1.4741994905409919,
          -1.1087604936124822,
          -1.5232360054736744,
          0,
          0,
          -0.0445970756292889,
          0,
          0,
          0,
          0,
          0.4485364533233075,
          7.324152940461942,
          19.553084746755896,
          24.76895814967381,
          30.185220444945205,
          49.94072387111845,
          46.04530922786456,
          46.363630042957745,
          35.04411854670684,
          30.288074912952606,
          17.74614792793772,
          12.426243652936158,
          22.241641128021655,
          37.55330381140988,
          37.82293130917005,
          39.05635448930559,
          31.89919946332635,
          18.879560868864676,
          22.70709855716831,
          7.657587554157791,
          0.4195370752755054,
          0,
          0,
          0,
          -0.549343219203655,
          0.6587634073887446,
          7.033074075198884,
          34.121595011380855,
          56.14142766736607,
          51.14987353658026,
          47.95197797976377,
          54.8907977807772,
          73.9836126317372,
          77.09538142049496,
          80.78799363760177,
          85.26430852251384,
          81.27986198070698,
          76.5595771828503,
          67.35215030037764,
          78.94712067453989,
          83.3867375932269,
          88.76950406867732,
          65.0602679865213,
          40.89957384567949,
          19.532144890392317,
          9.59691330541216,
          1.954552309329254,
          0,
          0,
          0,
          0,
          0,
          -0.4315238271148688,
          0,
          -0.036541543127687454,
          -0.3588623725237084,
          -0.5762509173726125,
          -0.9299445247109367,
          0.3617392534374465,
          0,
          0,
          0.8431191004819625,
          11.751182552797932,
          43.223184663103126,
          68.20097021249899,
          65.35833472118597,
          48.93407568788689,
          20.467238402001275,
          8.437968565470554,
          17.441106234137642,
          23.711587423279877,
          0.8043849769395277,
          -34.86944123755411,
          -74.12342400780588,
          -83.59997835977808,
          -92.6296194823778
         ],
         "yaxis": "y2"
        }
       ],
       "layout": {
        "bargap": 0,
        "bargroupgap": 0.05,
        "shapes": [
         {
          "line": {
           "color": "gray",
           "dash": "dash"
          },
          "type": "line",
          "x0": 0,
          "x1": 1,
          "xref": "x2 domain",
          "y0": 80,
          "y1": 80,
          "yref": "y2"
         },
         {
          "line": {
           "color": "gray",
           "dash": "dash"
          },
          "type": "line",
          "x0": 0,
          "x1": 1,
          "xref": "x2 domain",
          "y0": -80,
          "y1": -80,
          "yref": "y2"
         },
         {
          "line": {
           "color": "gray",
           "dash": "dash"
          },
          "type": "line",
          "x0": 0,
          "x1": 1,
          "xref": "x2 domain",
          "y0": 5,
          "y1": 5,
          "yref": "y2"
         },
         {
          "line": {
           "color": "gray",
           "dash": "dash"
          },
          "type": "line",
          "x0": 0,
          "x1": 1,
          "xref": "x2 domain",
          "y0": -5,
          "y1": -5,
          "yref": "y2"
         }
        ],
        "template": {
         "data": {
          "bar": [
           {
            "error_x": {
             "color": "#2a3f5f"
            },
            "error_y": {
             "color": "#2a3f5f"
            },
            "marker": {
             "line": {
              "color": "#E5ECF6",
              "width": 0.5
             },
             "pattern": {
              "fillmode": "overlay",
              "size": 10,
              "solidity": 0.2
             }
            },
            "type": "bar"
           }
          ],
          "barpolar": [
           {
            "marker": {
             "line": {
              "color": "#E5ECF6",
              "width": 0.5
             },
             "pattern": {
              "fillmode": "overlay",
              "size": 10,
              "solidity": 0.2
             }
            },
            "type": "barpolar"
           }
          ],
          "carpet": [
           {
            "aaxis": {
             "endlinecolor": "#2a3f5f",
             "gridcolor": "white",
             "linecolor": "white",
             "minorgridcolor": "white",
             "startlinecolor": "#2a3f5f"
            },
            "baxis": {
             "endlinecolor": "#2a3f5f",
             "gridcolor": "white",
             "linecolor": "white",
             "minorgridcolor": "white",
             "startlinecolor": "#2a3f5f"
            },
            "type": "carpet"
           }
          ],
          "choropleth": [
           {
            "colorbar": {
             "outlinewidth": 0,
             "ticks": ""
            },
            "type": "choropleth"
           }
          ],
          "contour": [
           {
            "colorbar": {
             "outlinewidth": 0,
             "ticks": ""
            },
            "colorscale": [
             [
              0,
              "#0d0887"
             ],
             [
              0.1111111111111111,
              "#46039f"
             ],
             [
              0.2222222222222222,
              "#7201a8"
             ],
             [
              0.3333333333333333,
              "#9c179e"
             ],
             [
              0.4444444444444444,
              "#bd3786"
             ],
             [
              0.5555555555555556,
              "#d8576b"
             ],
             [
              0.6666666666666666,
              "#ed7953"
             ],
             [
              0.7777777777777778,
              "#fb9f3a"
             ],
             [
              0.8888888888888888,
              "#fdca26"
             ],
             [
              1,
              "#f0f921"
             ]
            ],
            "type": "contour"
           }
          ],
          "contourcarpet": [
           {
            "colorbar": {
             "outlinewidth": 0,
             "ticks": ""
            },
            "type": "contourcarpet"
           }
          ],
          "heatmap": [
           {
            "colorbar": {
             "outlinewidth": 0,
             "ticks": ""
            },
            "colorscale": [
             [
              0,
              "#0d0887"
             ],
             [
              0.1111111111111111,
              "#46039f"
             ],
             [
              0.2222222222222222,
              "#7201a8"
             ],
             [
              0.3333333333333333,
              "#9c179e"
             ],
             [
              0.4444444444444444,
              "#bd3786"
             ],
             [
              0.5555555555555556,
              "#d8576b"
             ],
             [
              0.6666666666666666,
              "#ed7953"
             ],
             [
              0.7777777777777778,
              "#fb9f3a"
             ],
             [
              0.8888888888888888,
              "#fdca26"
             ],
             [
              1,
              "#f0f921"
             ]
            ],
            "type": "heatmap"
           }
          ],
          "heatmapgl": [
           {
            "colorbar": {
             "outlinewidth": 0,
             "ticks": ""
            },
            "colorscale": [
             [
              0,
              "#0d0887"
             ],
             [
              0.1111111111111111,
              "#46039f"
             ],
             [
              0.2222222222222222,
              "#7201a8"
             ],
             [
              0.3333333333333333,
              "#9c179e"
             ],
             [
              0.4444444444444444,
              "#bd3786"
             ],
             [
              0.5555555555555556,
              "#d8576b"
             ],
             [
              0.6666666666666666,
              "#ed7953"
             ],
             [
              0.7777777777777778,
              "#fb9f3a"
             ],
             [
              0.8888888888888888,
              "#fdca26"
             ],
             [
              1,
              "#f0f921"
             ]
            ],
            "type": "heatmapgl"
           }
          ],
          "histogram": [
           {
            "marker": {
             "pattern": {
              "fillmode": "overlay",
              "size": 10,
              "solidity": 0.2
             }
            },
            "type": "histogram"
           }
          ],
          "histogram2d": [
           {
            "colorbar": {
             "outlinewidth": 0,
             "ticks": ""
            },
            "colorscale": [
             [
              0,
              "#0d0887"
             ],
             [
              0.1111111111111111,
              "#46039f"
             ],
             [
              0.2222222222222222,
              "#7201a8"
             ],
             [
              0.3333333333333333,
              "#9c179e"
             ],
             [
              0.4444444444444444,
              "#bd3786"
             ],
             [
              0.5555555555555556,
              "#d8576b"
             ],
             [
              0.6666666666666666,
              "#ed7953"
             ],
             [
              0.7777777777777778,
              "#fb9f3a"
             ],
             [
              0.8888888888888888,
              "#fdca26"
             ],
             [
              1,
              "#f0f921"
             ]
            ],
            "type": "histogram2d"
           }
          ],
          "histogram2dcontour": [
           {
            "colorbar": {
             "outlinewidth": 0,
             "ticks": ""
            },
            "colorscale": [
             [
              0,
              "#0d0887"
             ],
             [
              0.1111111111111111,
              "#46039f"
             ],
             [
              0.2222222222222222,
              "#7201a8"
             ],
             [
              0.3333333333333333,
              "#9c179e"
             ],
             [
              0.4444444444444444,
              "#bd3786"
             ],
             [
              0.5555555555555556,
              "#d8576b"
             ],
             [
              0.6666666666666666,
              "#ed7953"
             ],
             [
              0.7777777777777778,
              "#fb9f3a"
             ],
             [
              0.8888888888888888,
              "#fdca26"
             ],
             [
              1,
              "#f0f921"
             ]
            ],
            "type": "histogram2dcontour"
           }
          ],
          "mesh3d": [
           {
            "colorbar": {
             "outlinewidth": 0,
             "ticks": ""
            },
            "type": "mesh3d"
           }
          ],
          "parcoords": [
           {
            "line": {
             "colorbar": {
              "outlinewidth": 0,
              "ticks": ""
             }
            },
            "type": "parcoords"
           }
          ],
          "pie": [
           {
            "automargin": true,
            "type": "pie"
           }
          ],
          "scatter": [
           {
            "fillpattern": {
             "fillmode": "overlay",
             "size": 10,
             "solidity": 0.2
            },
            "type": "scatter"
           }
          ],
          "scatter3d": [
           {
            "line": {
             "colorbar": {
              "outlinewidth": 0,
              "ticks": ""
             }
            },
            "marker": {
             "colorbar": {
              "outlinewidth": 0,
              "ticks": ""
             }
            },
            "type": "scatter3d"
           }
          ],
          "scattercarpet": [
           {
            "marker": {
             "colorbar": {
              "outlinewidth": 0,
              "ticks": ""
             }
            },
            "type": "scattercarpet"
           }
          ],
          "scattergeo": [
           {
            "marker": {
             "colorbar": {
              "outlinewidth": 0,
              "ticks": ""
             }
            },
            "type": "scattergeo"
           }
          ],
          "scattergl": [
           {
            "marker": {
             "colorbar": {
              "outlinewidth": 0,
              "ticks": ""
             }
            },
            "type": "scattergl"
           }
          ],
          "scattermapbox": [
           {
            "marker": {
             "colorbar": {
              "outlinewidth": 0,
              "ticks": ""
             }
            },
            "type": "scattermapbox"
           }
          ],
          "scatterpolar": [
           {
            "marker": {
             "colorbar": {
              "outlinewidth": 0,
              "ticks": ""
             }
            },
            "type": "scatterpolar"
           }
          ],
          "scatterpolargl": [
           {
            "marker": {
             "colorbar": {
              "outlinewidth": 0,
              "ticks": ""
             }
            },
            "type": "scatterpolargl"
           }
          ],
          "scatterternary": [
           {
            "marker": {
             "colorbar": {
              "outlinewidth": 0,
              "ticks": ""
             }
            },
            "type": "scatterternary"
           }
          ],
          "surface": [
           {
            "colorbar": {
             "outlinewidth": 0,
             "ticks": ""
            },
            "colorscale": [
             [
              0,
              "#0d0887"
             ],
             [
              0.1111111111111111,
              "#46039f"
             ],
             [
              0.2222222222222222,
              "#7201a8"
             ],
             [
              0.3333333333333333,
              "#9c179e"
             ],
             [
              0.4444444444444444,
              "#bd3786"
             ],
             [
              0.5555555555555556,
              "#d8576b"
             ],
             [
              0.6666666666666666,
              "#ed7953"
             ],
             [
              0.7777777777777778,
              "#fb9f3a"
             ],
             [
              0.8888888888888888,
              "#fdca26"
             ],
             [
              1,
              "#f0f921"
             ]
            ],
            "type": "surface"
           }
          ],
          "table": [
           {
            "cells": {
             "fill": {
              "color": "#EBF0F8"
             },
             "line": {
              "color": "white"
             }
            },
            "header": {
             "fill": {
              "color": "#C8D4E3"
             },
             "line": {
              "color": "white"
             }
            },
            "type": "table"
           }
          ]
         },
         "layout": {
          "annotationdefaults": {
           "arrowcolor": "#2a3f5f",
           "arrowhead": 0,
           "arrowwidth": 1
          },
          "autotypenumbers": "strict",
          "coloraxis": {
           "colorbar": {
            "outlinewidth": 0,
            "ticks": ""
           }
          },
          "colorscale": {
           "diverging": [
            [
             0,
             "#8e0152"
            ],
            [
             0.1,
             "#c51b7d"
            ],
            [
             0.2,
             "#de77ae"
            ],
            [
             0.3,
             "#f1b6da"
            ],
            [
             0.4,
             "#fde0ef"
            ],
            [
             0.5,
             "#f7f7f7"
            ],
            [
             0.6,
             "#e6f5d0"
            ],
            [
             0.7,
             "#b8e186"
            ],
            [
             0.8,
             "#7fbc41"
            ],
            [
             0.9,
             "#4d9221"
            ],
            [
             1,
             "#276419"
            ]
           ],
           "sequential": [
            [
             0,
             "#0d0887"
            ],
            [
             0.1111111111111111,
             "#46039f"
            ],
            [
             0.2222222222222222,
             "#7201a8"
            ],
            [
             0.3333333333333333,
             "#9c179e"
            ],
            [
             0.4444444444444444,
             "#bd3786"
            ],
            [
             0.5555555555555556,
             "#d8576b"
            ],
            [
             0.6666666666666666,
             "#ed7953"
            ],
            [
             0.7777777777777778,
             "#fb9f3a"
            ],
            [
             0.8888888888888888,
             "#fdca26"
            ],
            [
             1,
             "#f0f921"
            ]
           ],
           "sequentialminus": [
            [
             0,
             "#0d0887"
            ],
            [
             0.1111111111111111,
             "#46039f"
            ],
            [
             0.2222222222222222,
             "#7201a8"
            ],
            [
             0.3333333333333333,
             "#9c179e"
            ],
            [
             0.4444444444444444,
             "#bd3786"
            ],
            [
             0.5555555555555556,
             "#d8576b"
            ],
            [
             0.6666666666666666,
             "#ed7953"
            ],
            [
             0.7777777777777778,
             "#fb9f3a"
            ],
            [
             0.8888888888888888,
             "#fdca26"
            ],
            [
             1,
             "#f0f921"
            ]
           ]
          },
          "colorway": [
           "#636efa",
           "#EF553B",
           "#00cc96",
           "#ab63fa",
           "#FFA15A",
           "#19d3f3",
           "#FF6692",
           "#B6E880",
           "#FF97FF",
           "#FECB52"
          ],
          "font": {
           "color": "#2a3f5f"
          },
          "geo": {
           "bgcolor": "white",
           "lakecolor": "white",
           "landcolor": "#E5ECF6",
           "showlakes": true,
           "showland": true,
           "subunitcolor": "white"
          },
          "hoverlabel": {
           "align": "left"
          },
          "hovermode": "closest",
          "mapbox": {
           "style": "light"
          },
          "paper_bgcolor": "white",
          "plot_bgcolor": "#E5ECF6",
          "polar": {
           "angularaxis": {
            "gridcolor": "white",
            "linecolor": "white",
            "ticks": ""
           },
           "bgcolor": "#E5ECF6",
           "radialaxis": {
            "gridcolor": "white",
            "linecolor": "white",
            "ticks": ""
           }
          },
          "scene": {
           "xaxis": {
            "backgroundcolor": "#E5ECF6",
            "gridcolor": "white",
            "gridwidth": 2,
            "linecolor": "white",
            "showbackground": true,
            "ticks": "",
            "zerolinecolor": "white"
           },
           "yaxis": {
            "backgroundcolor": "#E5ECF6",
            "gridcolor": "white",
            "gridwidth": 2,
            "linecolor": "white",
            "showbackground": true,
            "ticks": "",
            "zerolinecolor": "white"
           },
           "zaxis": {
            "backgroundcolor": "#E5ECF6",
            "gridcolor": "white",
            "gridwidth": 2,
            "linecolor": "white",
            "showbackground": true,
            "ticks": "",
            "zerolinecolor": "white"
           }
          },
          "shapedefaults": {
           "line": {
            "color": "#2a3f5f"
           }
          },
          "ternary": {
           "aaxis": {
            "gridcolor": "white",
            "linecolor": "white",
            "ticks": ""
           },
           "baxis": {
            "gridcolor": "white",
            "linecolor": "white",
            "ticks": ""
           },
           "bgcolor": "#E5ECF6",
           "caxis": {
            "gridcolor": "white",
            "linecolor": "white",
            "ticks": ""
           }
          },
          "title": {
           "x": 0.05
          },
          "xaxis": {
           "automargin": true,
           "gridcolor": "white",
           "linecolor": "white",
           "ticks": "",
           "title": {
            "standoff": 15
           },
           "zerolinecolor": "white",
           "zerolinewidth": 2
          },
          "yaxis": {
           "automargin": true,
           "gridcolor": "white",
           "linecolor": "white",
           "ticks": "",
           "title": {
            "standoff": 15
           },
           "zerolinecolor": "white",
           "zerolinewidth": 2
          }
         }
        },
        "title": {
         "text": "BTC/USDT K线图 (带买卖点标记和PA振荡器)"
        },
        "xaxis": {
         "anchor": "y",
         "categoryorder": "category ascending",
         "domain": [
          0,
          1
         ],
         "matches": "x2",
         "rangeslider": {
          "visible": false
         },
         "showticklabels": false,
         "title": {
          "text": "时间"
         },
         "type": "category"
        },
        "xaxis2": {
         "anchor": "y2",
         "categoryorder": "category ascending",
         "domain": [
          0,
          1
         ],
         "showticklabels": false,
         "type": "category"
        },
        "yaxis": {
         "anchor": "x",
         "domain": [
          0.37,
          1
         ],
         "title": {
          "text": "价格"
         }
        },
        "yaxis2": {
         "anchor": "x2",
         "domain": [
          0,
          0.27
         ]
        }
       }
      }
     },
     "metadata": {},
     "output_type": "display_data"
    },
    {
     "name": "stdout",
     "output_type": "stream",
     "text": [
      "成功率: 66.67% (2/3)\n",
      "总盈亏: 599.68 USDT\n",
      "最终资金: 10599.68 USDT\n",
      "总收益率: 6.00%\n"
     ]
    }
   ],
   "source": [
    "import pandas as pd\n",
    "import numpy as np\n",
    "import ccxt\n",
    "import mplfinance as mpf\n",
    "import matplotlib.pyplot as plt\n",
    "import plotly.graph_objects as go\n",
    "from plotly.subplots import make_subplots\n",
    "\n",
    "from pa.pa_index import pa_oscillator, check_zones\n",
    "\n",
    "\n",
    "# 定义检测“看涨吞没”形态的函数\n",
    "def is_bullish_engulfing(df, index):\n",
    "    if index < 1:\n",
    "        return False  # 必须要有前一根K线\n",
    "    prev_candle = df.iloc[index - 1]\n",
    "    current_candle = df.iloc[index]\n",
    "    \n",
    "    # 条件1：前一根是阴线\n",
    "    if prev_candle['Close'] >= prev_candle['Open']:\n",
    "        return False\n",
    "    \n",
    "    # 条件2：当前K线是阳线\n",
    "    if current_candle['Close'] <= current_candle['Open']:\n",
    "        return False\n",
    "    \n",
    "    # 条件3：当前K线吞没前一根K线\n",
    "    if current_candle['Open'] > prev_candle['Low'] or current_candle['Close'] < prev_candle['High']:\n",
    "        return False\n",
    "    \n",
    "    return True\n",
    "\n",
    "\n",
    "# 新增：定义检测\"看涨孕线\"形态的函数\n",
    "def is_bullish_harami(df, index):\n",
    "    if index < 1:\n",
    "        return False  # 必须要有前一根K线\n",
    "    prev_candle = df.iloc[index - 1]\n",
    "    current_candle = df.iloc[index]\n",
    "    \n",
    "    # 条件1：前一根是阴线\n",
    "    if prev_candle['Close'] >= prev_candle['Open']:\n",
    "        return False\n",
    "    \n",
    "    # 条件2：当前K线是阳线\n",
    "    if current_candle['Close'] <= current_candle['Open']:\n",
    "        return False\n",
    "    \n",
    "    # 条件3：当前K线完全包含在前一根K线实体内\n",
    "    if (current_candle['Open'] <= prev_candle['Close'] and\n",
    "        current_candle['Close'] >= prev_candle['Open'] and\n",
    "        current_candle['High'] <= prev_candle['High'] and\n",
    "        current_candle['Low'] >= prev_candle['Low']):\n",
    "        return True\n",
    "    \n",
    "    return False\n",
    "\n",
    "\n",
    "from pa.vector_candles import vector_candles\n",
    "\n",
    "# 修改回测函数以包含两种形态\n",
    "def backtest_and_plot(df, initial_capital=10000, risk_per_trade=0.02, dca_levels=[0.05, 0.1]):\n",
    "\n",
    "    tick_size = 0.01\n",
    "    successful_trades = 0\n",
    "    total_trades = 0\n",
    "    total_profit_loss = 0\n",
    "    buy_signals = []\n",
    "    sell_signals = []\n",
    "    capital = initial_capital\n",
    "    position_size = 0\n",
    "    avg_entry_price = 0\n",
    "    dca_count = 0\n",
    "    df = vector_candles(df)\n",
    "\n",
    "    df.rename(columns={'open': 'Open', 'high': 'High', 'low': 'Low', 'close': 'Close', 'volume': 'Volume'}, inplace=True)\n",
    "\n",
    "    df = pa_oscillator(df)\n",
    "    df = check_zones(df)\n",
    "\n",
    "    for i in range(1, len(df) - 1):\n",
    "        if position_size == 0 and (is_bullish_engulfing(df, i) or is_bullish_harami(df, i)) and df.iloc[i]['PA'] < -10:\n",
    "            signal_candle = df.iloc[i]\n",
    "            next_candle = df.iloc[i + 1]\n",
    "            \n",
    "            entry_price = signal_candle['High'] + tick_size\n",
    "            \n",
    "            if next_candle['High'] >= entry_price:\n",
    "                total_trades += 1\n",
    "                \n",
    "                stop_loss = signal_candle['Low'] - tick_size\n",
    "                target_price = entry_price + 2 * (entry_price - stop_loss)\n",
    "                \n",
    "                # 计算头寸大小\n",
    "                risk_amount = capital * risk_per_trade\n",
    "                position_size = risk_amount / (entry_price - stop_loss)\n",
    "                avg_entry_price = entry_price\n",
    "                \n",
    "                buy_signals.append((next_candle['timestamp'], entry_price))\n",
    "                trade_exited = False\n",
    "                dca_count = 0\n",
    "                \n",
    "                for j in range(i + 2, len(df)):\n",
    "                    current_price = df.iloc[j]['Close']\n",
    "                    \n",
    "                    # 检查是否需要补仓\n",
    "                    for level in dca_levels:\n",
    "                        if current_price <= avg_entry_price * (1 - level) and dca_count < len(dca_levels):\n",
    "                            dca_amount = capital * risk_per_trade * (1 + dca_count * 0.5)  # 增加补仓金额\n",
    "                            dca_size = dca_amount / current_price\n",
    "                            position_size += dca_size\n",
    "                            avg_entry_price = (avg_entry_price * position_size + current_price * dca_size) / (position_size + dca_size)\n",
    "                            position_size += dca_size\n",
    "                            dca_count += 1\n",
    "                            buy_signals.append((df.iloc[j]['timestamp'], current_price))\n",
    "                    \n",
    "                    if df.iloc[j]['Low'] <= stop_loss:\n",
    "                        sell_signals.append((df.iloc[j]['timestamp'], stop_loss))\n",
    "                        trade_exited = True\n",
    "                        trade_profit = (stop_loss - avg_entry_price) * position_size\n",
    "                        total_profit_loss += trade_profit\n",
    "                        capital += trade_profit\n",
    "                        break\n",
    "                    if df.iloc[j]['High'] >= target_price:\n",
    "                        successful_trades += 1\n",
    "                        sell_signals.append((df.iloc[j]['timestamp'], target_price))\n",
    "                        trade_exited = True\n",
    "                        trade_profit = (target_price - avg_entry_price) * position_size\n",
    "                        total_profit_loss += trade_profit\n",
    "                        capital += trade_profit\n",
    "                        break\n",
    "                \n",
    "                if not trade_exited:\n",
    "                    exit_price = df.iloc[-1]['Close']\n",
    "                    sell_signals.append((df.iloc[-1]['timestamp'], exit_price))\n",
    "                    trade_profit = (exit_price - avg_entry_price) * position_size\n",
    "                    total_profit_loss += trade_profit\n",
    "                    capital += trade_profit\n",
    "\n",
    "                position_size = 0\n",
    "                avg_entry_price = 0\n",
    "\n",
    "    # 绘制K线图并标注买卖点\n",
    "    df['timestamp'] = pd.to_datetime(df['timestamp'])\n",
    "    df.set_index('timestamp', inplace=True)\n",
    "    \n",
    "    \n",
    "    # Filter buy and sell signals to only include those within the DataFrame's time range\n",
    "    df_start, df_end = df.index[0], df.index[-1]\n",
    "    buy_signals = [(t, p) for t, p in buy_signals if df_start <= t <= df_end]\n",
    "    sell_signals = [(t, p) for t, p in sell_signals if df_start <= t <= df_end]\n",
    "\n",
    "    # Convert buy and sell signals to DataFrames\n",
    "    buy_df = pd.DataFrame(buy_signals, columns=['timestamp', 'price']).set_index('timestamp')\n",
    "    sell_df = pd.DataFrame(sell_signals, columns=['timestamp', 'price']).set_index('timestamp')\n",
    "\n",
    "    # Ensure buy and sell signals are within the DataFrame's index\n",
    "    buy_df = buy_df[buy_df.index.isin(df.index)]\n",
    "    sell_df = sell_df[sell_df.index.isin(df.index)]\n",
    "\n",
    "    # 创建K线图\n",
    "    fig = make_subplots(rows=2, cols=1, shared_xaxes=True, vertical_spacing=0.1, row_heights=[0.7, 0.3])\n",
    "\n",
    "    # 定义颜色映射\n",
    "    color_map = {\n",
    "        ('up', 1): 'lime',      # Climax Up\n",
    "        ('down', 1): 'red',     # Climax Down\n",
    "        ('up', 2): 'blue',      # Above Average Up\n",
    "        ('down', 2): 'fuchsia', # Above Average Down\n",
    "        ('up', 0): 'gray',      # Normal Up\n",
    "        ('down', 0): 'darkgray' # Normal Down\n",
    "    }\n",
    "    # 为每个K线分配颜色\n",
    "    colors_kline = [color_map[(row['candle_direction'], row['va'])] for _, row in df.iterrows()]\n",
    "\n",
    "    # 创建自定义K线图\n",
    "    for i in range(len(df)):\n",
    "        # 绘制影线\n",
    "        fig.add_trace(go.Scatter(\n",
    "            x=[df.index[i], df.index[i]],\n",
    "            y=[df['Low'].iloc[i], df['High'].iloc[i]],\n",
    "            mode='lines',\n",
    "            line=dict(color=colors_kline[i], width=1),\n",
    "            showlegend=False\n",
    "        ), row=1, col=1)\n",
    "        \n",
    "        # 绘制实体\n",
    "        open_price = df['Open'].iloc[i]\n",
    "        close_price = df['Close'].iloc[i]\n",
    "        fig.add_trace(go.Bar(\n",
    "            x=[df.index[i]],\n",
    "            y=[abs(close_price - open_price)],\n",
    "            base=min(open_price, close_price),\n",
    "            marker_color=colors_kline[i],\n",
    "            marker_line_width=0,\n",
    "            width=0.6,  # 调整K线宽度\n",
    "            showlegend=False\n",
    "        ), row=1, col=1)\n",
    "\n",
    "    # 更新布局\n",
    "    fig.update_layout(\n",
    "        xaxis_rangeslider_visible=False,\n",
    "        bargap=0,  # 移除K线之间的间隔\n",
    "        bargroupgap=0.05  # 微调组内间隔\n",
    "    )\n",
    "    # 更新x轴设置，移除时间戳\n",
    "    fig.update_xaxes(\n",
    "        showticklabels=False,  # 隐藏x轴标签\n",
    "        type='category',\n",
    "        categoryorder='category ascending'\n",
    "    )\n",
    "    # 添加买入点\n",
    "    fig.add_trace(go.Scatter(\n",
    "        x=buy_df.index,\n",
    "        y=buy_df['price'],\n",
    "        mode='markers',\n",
    "        marker=dict(symbol='triangle-up', size=10, color='green'),\n",
    "        name='买入点'\n",
    "    ), row=1, col=1)\n",
    "\n",
    "    # 添加卖出点\n",
    "    fig.add_trace(go.Scatter(\n",
    "        x=sell_df.index,\n",
    "        y=sell_df['price'],\n",
    "        mode='markers',\n",
    "        marker=dict(symbol='triangle-down', size=10, color='red'),\n",
    "        name='卖出点'\n",
    "    ), row=1, col=1)\n",
    "\n",
    "    # 添加PA振荡器\n",
    "    fig.add_trace(go.Scatter(\n",
    "        x=df.index,\n",
    "        y=df['PA'],\n",
    "        mode='lines',\n",
    "        name='PA振荡器'\n",
    "    ), row=2, col=1)\n",
    "\n",
    "    # 添加超买和超卖线\n",
    "    fig.add_hline(y=80, line_dash=\"dash\", line_color=\"gray\", row=2, col=1)\n",
    "    fig.add_hline(y=-80, line_dash=\"dash\", line_color=\"gray\", row=2, col=1)\n",
    "\n",
    "    # 添加震荡区域线\n",
    "    fig.add_hline(y=5, line_dash=\"dash\", line_color=\"gray\", row=2, col=1)\n",
    "    fig.add_hline(y=-5, line_dash=\"dash\", line_color=\"gray\", row=2, col=1)\n",
    "\n",
    "    # 更新图表布局\n",
    "    fig.update_layout(\n",
    "        title='BTC/USDT K线图 (带买卖点标记和PA振荡器)',\n",
    "        xaxis_title='时间',\n",
    "        yaxis_title='价格',\n",
    "        xaxis_rangeslider_visible=False\n",
    "    )\n",
    "\n",
    "    # 显示图表\n",
    "    fig.show()\n",
    "\n",
    "    # 计算成功率和总盈亏\n",
    "    success_rate = successful_trades / total_trades if total_trades > 0 else 0\n",
    "    print(f\"成功率: {success_rate:.2%} ({successful_trades}/{total_trades})\")\n",
    "    print(f\"总盈亏: {total_profit_loss:.2f} USDT\")\n",
    "    print(f\"最终资金: {capital:.2f} USDT\")\n",
    "    print(f\"总收益率: {(capital - initial_capital) / initial_capital:.2%}\")\n",
    "\n",
    "# 创建Binance交易所实例\n",
    "exchange = ccxt.binance()\n",
    "\n",
    "\n",
    "# 获取BTC/USDT的历史K线数据，时间间隔为5分钟\n",
    "symbol = 'BTC/USDT'\n",
    "timeframe = '5m'\n",
    "limit = 1000  # 可以根据需要调整数量\n",
    "ohlcv = exchange.fetch_ohlcv(symbol, timeframe=timeframe, limit=limit)\n",
    "\n",
    "# 转换为pandas DataFrame\n",
    "df = pd.DataFrame(ohlcv, columns=['timestamp', 'open', 'high', 'low', 'close', 'volume'])\n",
    "df['timestamp'] = pd.to_datetime(df['timestamp'], unit='ms')\n",
    "\n",
    "# 调用回测和绘图函数\n",
    "backtest_and_plot(df)"
   ]
  },
  {
   "cell_type": "code",
   "execution_count": null,
   "metadata": {},
   "outputs": [],
   "source": []
  }
 ],
 "metadata": {
  "kernelspec": {
   "display_name": "quark_bot_env",
   "language": "python",
   "name": "python3"
  },
  "language_info": {
   "codemirror_mode": {
    "name": "ipython",
    "version": 3
   },
   "file_extension": ".py",
   "mimetype": "text/x-python",
   "name": "python",
   "nbconvert_exporter": "python",
   "pygments_lexer": "ipython3",
   "version": "3.12.3"
  }
 },
 "nbformat": 4,
 "nbformat_minor": 2
}
