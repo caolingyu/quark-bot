{
 "cells": [
  {
   "cell_type": "code",
   "execution_count": 18,
   "metadata": {},
   "outputs": [],
   "source": [
    "import ccxt\n",
    "import pandas as pd\n",
    "import numpy as np\n",
    "\n",
    "# 创建Binance交易所实例\n",
    "exchange = ccxt.binance()\n",
    "\n",
    "# 获取BTC/USDT的历史K线数据，时间间隔为5分钟\n",
    "symbol = 'BTC/USDT'\n",
    "timeframe = '5m'\n",
    "limit = 5000  # 可以根据需要调整数量\n",
    "ohlcv = exchange.fetch_ohlcv(symbol, timeframe=timeframe, limit=limit)\n",
    "\n",
    "# 转换为pandas DataFrame\n",
    "df = pd.DataFrame(ohlcv, columns=['timestamp', 'open', 'high', 'low', 'close', 'volume'])\n",
    "df['timestamp'] = pd.to_datetime(df['timestamp'], unit='ms')"
   ]
  },
  {
   "cell_type": "code",
   "execution_count": 5,
   "metadata": {},
   "outputs": [
    {
     "name": "stdout",
     "output_type": "stream",
     "text": [
      "5分钟K线波动幅度分布：\n",
      "count    500.000000\n",
      "mean     108.155820\n",
      "std      101.917989\n",
      "min       11.910000\n",
      "25%       50.162500\n",
      "50%       78.430000\n",
      "75%      132.990000\n",
      "max      920.360000\n",
      "Name: 5m_range, dtype: float64\n",
      "突破20SMA后平均涨幅为: 0.03%\n"
     ]
    }
   ],
   "source": [
    "# 统计5分钟K线的波动幅度分布\n",
    "df['5m_range'] = df['high'] - df['low']\n",
    "range_distribution = df['5m_range'].describe()\n",
    "\n",
    "print(\"5分钟K线波动幅度分布：\")\n",
    "print(range_distribution)\n",
    "\n",
    "# 统计某个关键价格（例如移动均线）的突破情况\n",
    "df['20_SMA'] = df['close'].rolling(window=20).mean()\n",
    "df['breakout_above_20SMA'] = df['close'] > df['20_SMA']\n",
    "\n",
    "# 计算突破20SMA后的涨跌幅度\n",
    "df['returns'] = df['close'].pct_change()\n",
    "breakout_returns = df.loc[df['breakout_above_20SMA'], 'returns'].mean()\n",
    "\n",
    "print(f\"突破20SMA后平均涨幅为: {breakout_returns:.2%}\")"
   ]
  },
  {
   "cell_type": "code",
   "execution_count": 19,
   "metadata": {},
   "outputs": [
    {
     "name": "stdout",
     "output_type": "stream",
     "text": [
      "每根5分钟K线后，已出现当天最高价或最低价的概率：\n",
      "0       75.0\n",
      "1       75.0\n",
      "2       75.0\n",
      "3       75.0\n",
      "4      100.0\n",
      "       ...  \n",
      "283    100.0\n",
      "284    100.0\n",
      "285    100.0\n",
      "286    100.0\n",
      "287    100.0\n",
      "Name: high_or_low_reached, Length: 288, dtype: float64\n"
     ]
    },
    {
     "name": "stderr",
     "output_type": "stream",
     "text": [
      "/var/folders/4n/ssdlv9m155j06vdf68lmf_480000gn/T/ipykernel_98661/994396495.py:34: DeprecationWarning: DataFrameGroupBy.apply operated on the grouping columns. This behavior is deprecated, and in a future version of pandas the grouping columns will be excluded from the operation. Either pass `include_groups=False` to exclude the groupings or explicitly select the grouping columns after groupby to silence this warning.\n",
      "  df['high_or_low_reached'] = df.groupby('date').apply(lambda x: x['is_daily_high_reached'].cummax() | x['is_daily_low_reached'].cummax()).reset_index(level=0, drop=True)\n"
     ]
    }
   ],
   "source": [
    "import ccxt\n",
    "import pandas as pd\n",
    "import numpy as np\n",
    "\n",
    "# 创建Binance交易所实例\n",
    "exchange = ccxt.binance()\n",
    "\n",
    "# 获取BTC/USDT的历史K线数据，时间间隔为5分钟\n",
    "symbol = 'BTC/USDT'\n",
    "timeframe = '5m'\n",
    "limit = 1000  # 可以根据需要调整数量\n",
    "ohlcv = exchange.fetch_ohlcv(symbol, timeframe=timeframe, limit=limit)\n",
    "\n",
    "# 转换为pandas DataFrame\n",
    "df = pd.DataFrame(ohlcv, columns=['timestamp', 'open', 'high', 'low', 'close', 'volume'])\n",
    "df['timestamp'] = pd.to_datetime(df['timestamp'], unit='ms')\n",
    "\n",
    "# 提取日期信息\n",
    "df['date'] = df['timestamp'].dt.date\n",
    "\n",
    "# 计算每日的最高价和最低价\n",
    "daily_highs = df.groupby('date')['high'].max()\n",
    "daily_lows = df.groupby('date')['low'].min()\n",
    "\n",
    "# 添加每日最高价和最低价信息\n",
    "df['daily_high'] = df['date'].map(daily_highs)\n",
    "df['daily_low'] = df['date'].map(daily_lows)\n",
    "\n",
    "# 判断每根K线是否为当天最高价或最低价\n",
    "df['is_daily_high_reached'] = df['high'] >= df['daily_high']\n",
    "df['is_daily_low_reached'] = df['low'] <= df['daily_low']\n",
    "\n",
    "# 判断截至当前K线，是否已经达到过当天的最高价或最低价\n",
    "df['high_or_low_reached'] = df.groupby('date').apply(lambda x: x['is_daily_high_reached'].cummax() | x['is_daily_low_reached'].cummax()).reset_index(level=0, drop=True)\n",
    "\n",
    "# 计算每根K线后当天最高价或最低价已经出现的概率\n",
    "probability_by_candle = df.groupby(df.index % (24*12))['high_or_low_reached'].mean() * 100\n",
    "\n",
    "print(\"每根5分钟K线后，已出现当天最高价或最低价的概率：\")\n",
    "print(probability_by_candle)"
   ]
  },
  {
   "cell_type": "code",
   "execution_count": 15,
   "metadata": {},
   "outputs": [
    {
     "name": "stdout",
     "output_type": "stream",
     "text": [
      "每周波动最大的一天是周几的概率：\n",
      "weekday\n",
      "Monday       23.076923\n",
      "Wednesday    20.279720\n",
      "Friday       18.881119\n",
      "Tuesday      18.181818\n",
      "Thursday     13.286713\n",
      "Sunday        3.496503\n",
      "Saturday      2.797203\n",
      "Name: proportion, dtype: float64\n"
     ]
    }
   ],
   "source": [
    "import ccxt\n",
    "import pandas as pd\n",
    "\n",
    "# 创建Binance交易所实例\n",
    "exchange = ccxt.binance()\n",
    "\n",
    "# 获取BTC/USDT的历史K线数据，时间间隔为1天\n",
    "symbol = 'BTC/USDT'\n",
    "timeframe = '1d'\n",
    "limit = 1000  # 可以根据需要调整数量\n",
    "ohlcv = exchange.fetch_ohlcv(symbol, timeframe=timeframe, limit=limit)\n",
    "\n",
    "# 转换为pandas DataFrame\n",
    "df = pd.DataFrame(ohlcv, columns=['timestamp', 'open', 'high', 'low', 'close', 'volume'])\n",
    "df['timestamp'] = pd.to_datetime(df['timestamp'], unit='ms')\n",
    "\n",
    "# 提取周几信息\n",
    "df['weekday'] = df['timestamp'].dt.day_name()\n",
    "\n",
    "# 计算每日波动幅度\n",
    "df['daily_range'] = df['high'] - df['low']\n",
    "\n",
    "# 按周分组并找出每周波动最大的一天\n",
    "df['week_start'] = df['timestamp'].dt.to_period('W').apply(lambda r: r.start_time)\n",
    "weekly_max = df.loc[df.groupby('week_start')['daily_range'].idxmax()]\n",
    "\n",
    "# 统计每个周几成为波动最大一天的次数\n",
    "weekday_counts = weekly_max['weekday'].value_counts(normalize=True) * 100\n",
    "\n",
    "print(\"每周波动最大的一天是周几的概率：\")\n",
    "print(weekday_counts)"
   ]
  },
  {
   "cell_type": "code",
   "execution_count": null,
   "metadata": {},
   "outputs": [],
   "source": []
  }
 ],
 "metadata": {
  "kernelspec": {
   "display_name": "quark_bot_env",
   "language": "python",
   "name": "python3"
  },
  "language_info": {
   "codemirror_mode": {
    "name": "ipython",
    "version": 3
   },
   "file_extension": ".py",
   "mimetype": "text/x-python",
   "name": "python",
   "nbconvert_exporter": "python",
   "pygments_lexer": "ipython3",
   "version": "3.12.3"
  }
 },
 "nbformat": 4,
 "nbformat_minor": 2
}
